{
 "cells": [
  {
   "cell_type": "code",
   "execution_count": 1,
   "metadata": {},
   "outputs": [],
   "source": [
    "import socket\n"
   ]
  },
  {
   "cell_type": "code",
   "execution_count": 7,
   "metadata": {},
   "outputs": [],
   "source": [
    "# Define the IP address and port number to use\n",
    "ip_address = \"127.0.0.1\"\n",
    "port = 8000\n",
    "\n",
    "# Create a socket object\n",
    "server_socket = socket.socket(socket.AF_INET, socket.SOCK_STREAM)\n",
    "\n",
    "# Bind the socket to the IP address and port number\n",
    "server_socket.bind((ip_address, port))\n",
    "\n",
    "# Listen for incoming connections\n",
    "server_socket.listen()\n",
    "\n",
    "# Accept incoming connections\n",
    "(client_socket, address) = server_socket.accept()\n",
    "\n",
    "# Receive data from the client\n",
    "data = client_socket.recv(1024).decode()\n",
    "\n",
    "# Execute the command sent by the client and get the response\n",
    "response = \"Command executed successfully \"+str(data)+\" at \" + str(address)\n",
    "\n",
    "# Send the response back to the client\n",
    "client_socket.send(response.encode())\n",
    "\n",
    "# Close the connection\n",
    "client_socket.close()\n"
   ]
  },
  {
   "cell_type": "code",
   "execution_count": null,
   "metadata": {},
   "outputs": [],
   "source": []
  }
 ],
 "metadata": {
  "kernelspec": {
   "display_name": "torch-env",
   "language": "python",
   "name": "python3"
  },
  "language_info": {
   "codemirror_mode": {
    "name": "ipython",
    "version": 3
   },
   "file_extension": ".py",
   "mimetype": "text/x-python",
   "name": "python",
   "nbconvert_exporter": "python",
   "pygments_lexer": "ipython3",
   "version": "3.10.9"
  },
  "orig_nbformat": 4
 },
 "nbformat": 4,
 "nbformat_minor": 2
}
