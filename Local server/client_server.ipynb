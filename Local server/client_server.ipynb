{
 "cells": [
  {
   "cell_type": "code",
   "execution_count": 5,
   "metadata": {},
   "outputs": [
    {
     "name": "stdout",
     "output_type": "stream",
     "text": [
      "Command executed successfully ls at ('127.0.0.1', 57597)\n"
     ]
    }
   ],
   "source": [
    "import socket\n",
    "\n",
    "# Define the IP address and port number to use\n",
    "ip_address = \"127.0.0.1\"\n",
    "port = 8000\n",
    "\n",
    "# Create a socket object\n",
    "client_socket = socket.socket(socket.AF_INET, socket.SOCK_STREAM)\n",
    "\n",
    "# Connect to the server\n",
    "client_socket.connect((ip_address, port))\n",
    "\n",
    "# Send a command to the server\n",
    "command = \"ls\"\n",
    "client_socket.send(command.encode())\n",
    "\n",
    "# Receive the response from the server\n",
    "response = client_socket.recv(1024).decode()\n",
    "\n",
    "# Print the response\n",
    "print(response)\n",
    "\n",
    "# Close the connection\n",
    "client_socket.close()\n"
   ]
  },
  {
   "cell_type": "code",
   "execution_count": null,
   "metadata": {},
   "outputs": [],
   "source": []
  }
 ],
 "metadata": {
  "kernelspec": {
   "display_name": "torch-env",
   "language": "python",
   "name": "python3"
  },
  "language_info": {
   "codemirror_mode": {
    "name": "ipython",
    "version": 3
   },
   "file_extension": ".py",
   "mimetype": "text/x-python",
   "name": "python",
   "nbconvert_exporter": "python",
   "pygments_lexer": "ipython3",
   "version": "3.10.9"
  },
  "orig_nbformat": 4
 },
 "nbformat": 4,
 "nbformat_minor": 2
}
