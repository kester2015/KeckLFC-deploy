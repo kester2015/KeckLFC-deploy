{
 "cells": [
  {
   "cell_type": "code",
   "execution_count": 45,
   "id": "23c924be",
   "metadata": {},
   "outputs": [],
   "source": [
    "import numpy as np\n",
    "import matplotlib.pyplot as plt\n",
    "import time\n",
    "\n",
    "from LFC.Hardware.SRS_SIM900 import SRS_SIM900, SRS_PIDcontrol_SIM960\n",
    "from LFC.Hardware.Waveshaper import Waveshaper\n",
    "from LFC.Hardware.AndoOSA_AQ6315E import AndoOSA_AQ6315E\n",
    "from LFC.Hardware.PritelAmp import PritelAmp\n",
    "from LFC.Hardware.ORIONLaser import ORIONLaser\n",
    "from LFC.Hardware.AmonicsEDFA import AmonicsEDFA\n",
    "from LFC.Hardware.InstekGppDCSupply import InstekGppDCSupply\n",
    "from LFC.Hardware.InstekGPD_4303S import InstekGPD_4303S\n",
    "from LFC.Hardware.TEC_LFC3751 import TEC_LFC3751\n",
    "from LFC.Hardware.TEC_LDT5525B import TEC_LDT5525B\n",
    "from LFC.Hardware.PendulumCNT90 import PendulumCNT90\n",
    "from LFC.Hardware.OZopticsVOA import OZopticsVOA\n",
    "from LFC.Hardware.RbClock import RbClock\n",
    "from LFC.Hardware.TDS2024C import TDS2024C\n",
    "\n",
    "from LFC.test2 import KeckLFC"
   ]
  },
  {
   "cell_type": "code",
   "execution_count": null,
   "id": "cad48b66",
   "metadata": {},
   "outputs": [],
   "source": [
    "ptamp = PritelAmp()"
   ]
  },
  {
   "cell_type": "code",
   "execution_count": 2,
   "id": "0cdbc871",
   "metadata": {},
   "outputs": [
    {
     "name": "stdout",
     "output_type": "stream",
     "text": [
      "Stanford Research System SIM900 connected\n",
      "----------------------------SRS PID controller SIM960----------------------------\n",
      "|--------------------SRS PID controller SIM960 Status Summary--------------------\n",
      "|----------------------------SIM960,s/n033658,ver2.17----------------------------\n",
      "|\tOutput mode:\t\u001b[1;34;41mMAN\u001b[0m,\tOutput limit: -4.000V TO 4.000V\n",
      "|\tMeasured input:\t -0.00018V\n",
      "|\tAmplified error:\t 0.630168V\n",
      "|\tInstant Output voltage:\t 0.018793V\n",
      "|\tManual output set:\t 0.021V\n",
      "|\t================ Set Point related================\n",
      "|\t\tInternal setpoint = 0.021 V, Ramping \u001b[1;34;41mOFF\u001b[0m\n",
      "|\t\tSetpoint input mode INT, Ext setpoint input 0.020925V\n",
      "|\t\tSetpoint RAMP speed = 0.01 V/s, action \u001b[1;34;41mOFF\u001b[0m\n",
      "|\t============= P,I,D and Offset Status=============\n",
      "|\t\t P = 30.0    , \taction = \u001b[1;34;42mON\u001b[0m\n",
      "|\t\t I = 0.1 1/s, \taction = \u001b[1;34;41mOFF\u001b[0m\n",
      "|\t\t D = 1e-05   s, \taction = \u001b[1;34;41mOFF\u001b[0m\n",
      "|\t\tOff = 0.3  V, \taction = \u001b[1;34;42mON\u001b[0m\n",
      "-----------------SRS PID controller SIM960 Status Summary Ends------------------\n",
      "\n"
     ]
    },
    {
     "data": {
      "text/plain": [
       "'----------------------------SRS PID controller SIM960----------------------------\\n|--------------------SRS PID controller SIM960 Status Summary--------------------\\n|----------------------------SIM960,s/n033658,ver2.17----------------------------\\n|\\tOutput mode:\\t\\x1b[1;34;41mMAN\\x1b[0m,\\tOutput limit: -4.000V TO 4.000V\\n|\\tMeasured input:\\t -0.00018V\\n|\\tAmplified error:\\t 0.630168V\\n|\\tInstant Output voltage:\\t 0.018793V\\n|\\tManual output set:\\t 0.021V\\n|\\t================ Set Point related================\\n|\\t\\tInternal setpoint = 0.021 V, Ramping \\x1b[1;34;41mOFF\\x1b[0m\\n|\\t\\tSetpoint input mode INT, Ext setpoint input 0.020925V\\n|\\t\\tSetpoint RAMP speed = 0.01 V/s, action \\x1b[1;34;41mOFF\\x1b[0m\\n|\\t============= P,I,D and Offset Status=============\\n|\\t\\t P = 30.0    , \\taction = \\x1b[1;34;42mON\\x1b[0m\\n|\\t\\t I = 0.1 1/s, \\taction = \\x1b[1;34;41mOFF\\x1b[0m\\n|\\t\\t D = 1e-05   s, \\taction = \\x1b[1;34;41mOFF\\x1b[0m\\n|\\t\\tOff = 0.3  V, \\taction = \\x1b[1;34;42mON\\x1b[0m\\n-----------------SRS PID controller SIM960 Status Summary Ends------------------\\n'"
      ]
     },
     "execution_count": 2,
     "metadata": {},
     "output_type": "execute_result"
    }
   ],
   "source": [
    "srs = SRS_SIM900(addr=\"GPIB0::2::INSTR\")\n",
    "srs.connect()\n",
    "servo1 = SRS_PIDcontrol_SIM960(srs, 1)\n",
    "servo1.set_manual_output_max(4)\n",
    "servo1.set_manual_output_min(-4)\n",
    "servo1.printStatus()"
   ]
  },
  {
   "cell_type": "code",
   "execution_count": 8,
   "id": "e8eadbc4",
   "metadata": {},
   "outputs": [
    {
     "name": "stdout",
     "output_type": "stream",
     "text": [
      "Amonics 27dbm connected\n",
      "----------------------------------Amonics 27dbm----------------------------------\n",
      "|--------------------------Amonics EDFA Status Summary---------------------------\n",
      "|------------------Model: AEDFA-PM-27-R-FA, Serial No.21082531-------------------\n",
      "|\tInterLock Status: \u001b[1;34;42mUNLOCKED\u001b[0m\n",
      "|\tCase Temperature: 20.81°C\n",
      "|\tMaster Activation: \u001b[1;34;41mOFF\u001b[0m\n",
      "|\t------------Channel Summary-------------\n",
      "|\t CHANNEL1: \n",
      "|\t\t Mode: APC\n",
      "|\t\t Set Pwr: 450.0 mW\n",
      "|\t\t Status: \u001b[1;34;41mOFF\u001b[0m\n",
      "|\t\t Input Power: 0.0 mW\n",
      "|\t\t Output Power: 0.0 mW\n",
      "|\t\t Internal PD Power: 0.0 mW\n",
      "------------------------Amonics EDFA Status Summary Ends------------------------\n",
      "\n"
     ]
    },
    {
     "data": {
      "text/plain": [
       "'----------------------------------Amonics 27dbm----------------------------------\\n|--------------------------Amonics EDFA Status Summary---------------------------\\n|------------------Model: AEDFA-PM-27-R-FA, Serial No.21082531-------------------\\n|\\tInterLock Status: \\x1b[1;34;42mUNLOCKED\\x1b[0m\\n|\\tCase Temperature: 20.81°C\\n|\\tMaster Activation: \\x1b[1;34;41mOFF\\x1b[0m\\n|\\t------------Channel Summary-------------\\n|\\t CHANNEL1: \\n|\\t\\t Mode: APC\\n|\\t\\t Set Pwr: 450.0 mW\\n|\\t\\t Status: \\x1b[1;34;41mOFF\\x1b[0m\\n|\\t\\t Input Power: 0.0 mW\\n|\\t\\t Output Power: 0.0 mW\\n|\\t\\t Internal PD Power: 0.0 mW\\n------------------------Amonics EDFA Status Summary Ends------------------------\\n'"
      ]
     },
     "execution_count": 8,
     "metadata": {},
     "output_type": "execute_result"
    }
   ],
   "source": [
    "amamp27 = AmonicsEDFA(addr=\"ASRL7::INSTR\", name = \"Amonics 27dbm\")\n",
    "amamp27.connect()\n",
    "amamp27.printStatus()"
   ]
  },
  {
   "cell_type": "code",
   "execution_count": 12,
   "id": "bd75d9a6",
   "metadata": {},
   "outputs": [
    {
     "name": "stdout",
     "output_type": "stream",
     "text": [
      "['_PritelAmp__current_str_to_mA', '__class__', '__delattr__', '__dir__', '__eq__', '__format__', '__ge__', '__getattribute__', '__gt__', '__hash__', '__init__', '__init_subclass__', '__le__', '__lt__', '__ne__', '__new__', '__reduce__', '__reduce_ex__', '__repr__', '__setattr__', '__sizeof__', '__str__', '__subclasshook__', '_getPreAmpStr', '_getPwrAmpStr', '_setPreAmpStr', '_setPwrAmpStr', 'connect', 'disconnect', 'easy_turnOn', 'printStatus', 'query', 'read', 'write']\n",
      "['ASD', '__dict__', '__doc__', '__module__', '__weakref__', 'activation', 'inputPwr_mW', 'outputPwr_mW', 'preAmp', 'pwrAmp', 'pyvisa', 'rm']\n"
     ]
    }
   ],
   "source": [
    "# create an instance of MyClass\n",
    "my_instance = PritelAmp()\n",
    "\n",
    "# get a list of all the methods of MyClass\n",
    "method_names = [method_name for method_name in dir(PritelAmp) if callable(getattr(PritelAmp, method_name))]\n",
    "\n",
    "# print the list of method names\n",
    "print(method_names)\n",
    "\n",
    "# get a list of all the property of MyClass\n",
    "property_names = [property_name for property_name in dir(PritelAmp) if not callable(getattr(PritelAmp, property_name))]\n",
    "\n",
    "# print the list of property names\n",
    "print(property_names)"
   ]
  },
  {
   "cell_type": "code",
   "execution_count": 2,
   "id": "a0f888c9",
   "metadata": {},
   "outputs": [
    {
     "ename": "NameError",
     "evalue": "name 'AmonicsEDFA' is not defined",
     "output_type": "error",
     "traceback": [
      "\u001b[1;31m---------------------------------------------------------------------------\u001b[0m",
      "\u001b[1;31mNameError\u001b[0m                                 Traceback (most recent call last)",
      "\u001b[1;32mz:\\Maodong\\Projects\\Keck\\Keck Comb\\Untitled1.ipynb Cell 5\u001b[0m in \u001b[0;36m<cell line: 1>\u001b[1;34m()\u001b[0m\n\u001b[1;32m----> <a href='vscode-notebook-cell:/z%3A/Maodong/Projects/Keck/Keck%20Comb/Untitled1.ipynb#W3sZmlsZQ%3D%3D?line=0'>1</a>\u001b[0m amamp27 \u001b[39m=\u001b[39m AmonicsEDFA(addr\u001b[39m=\u001b[39m\u001b[39m\"\u001b[39m\u001b[39mASRL7::INSTR\u001b[39m\u001b[39m\"\u001b[39m, name \u001b[39m=\u001b[39m \u001b[39m\"\u001b[39m\u001b[39mAmonics 27dbm\u001b[39m\u001b[39m\"\u001b[39m)\n\u001b[0;32m      <a href='vscode-notebook-cell:/z%3A/Maodong/Projects/Keck/Keck%20Comb/Untitled1.ipynb#W3sZmlsZQ%3D%3D?line=1'>2</a>\u001b[0m amamp27\u001b[39m.\u001b[39mconnect()\n\u001b[0;32m      <a href='vscode-notebook-cell:/z%3A/Maodong/Projects/Keck/Keck%20Comb/Untitled1.ipynb#W3sZmlsZQ%3D%3D?line=2'>3</a>\u001b[0m amamp27\u001b[39m.\u001b[39mprintStatus()\n",
      "\u001b[1;31mNameError\u001b[0m: name 'AmonicsEDFA' is not defined"
     ]
    }
   ],
   "source": [
    "amamp27 = AmonicsEDFA(addr=\"ASRL7::INSTR\", name = \"Amonics 27dbm\")\n",
    "amamp27.connect()\n",
    "amamp27.printStatus()"
   ]
  },
  {
   "cell_type": "code",
   "execution_count": 3,
   "id": "4bbce872",
   "metadata": {},
   "outputs": [
    {
     "name": "stdout",
     "output_type": "stream",
     "text": [
      "Amonics 13dbm connected\n",
      "----------------------------------Amonics 13dbm----------------------------------\n",
      "|--------------------------Amonics EDFA Status Summary---------------------------\n",
      "|------------------Model: AEDFA-PM-13-R-FA, Serial No.22020701-------------------\n",
      "|\tInterLock Status: \u001b[1;34;42mUNLOCKED\u001b[0m\n",
      "|\tCase Temperature: 24.75°C\n",
      "|\tMaster Activation: \u001b[1;34;41mOFF\u001b[0m\n",
      "|\t------------Channel Summary-------------\n",
      "|\t CHANNEL1: \n",
      "|\t\t Mode: ACC\n",
      "|\t\t Set Cur: 60.0 mA\n",
      "|\t\t Status: \u001b[1;34;41mOFF\u001b[0m\n",
      "|\t\t Input Power: 0.0 mW\n",
      "|\t\t Output Power: 0.0 mW\n",
      "|\t\t Internal PD Power: 0.0 mW\n",
      "------------------------Amonics EDFA Status Summary Ends------------------------\n",
      "\n"
     ]
    },
    {
     "data": {
      "text/plain": [
       "'----------------------------------Amonics 13dbm----------------------------------\\n|--------------------------Amonics EDFA Status Summary---------------------------\\n|------------------Model: AEDFA-PM-13-R-FA, Serial No.22020701-------------------\\n|\\tInterLock Status: \\x1b[1;34;42mUNLOCKED\\x1b[0m\\n|\\tCase Temperature: 24.75°C\\n|\\tMaster Activation: \\x1b[1;34;41mOFF\\x1b[0m\\n|\\t------------Channel Summary-------------\\n|\\t CHANNEL1: \\n|\\t\\t Mode: ACC\\n|\\t\\t Set Cur: 60.0 mA\\n|\\t\\t Status: \\x1b[1;34;41mOFF\\x1b[0m\\n|\\t\\t Input Power: 0.0 mW\\n|\\t\\t Output Power: 0.0 mW\\n|\\t\\t Internal PD Power: 0.0 mW\\n------------------------Amonics EDFA Status Summary Ends------------------------\\n'"
      ]
     },
     "execution_count": 3,
     "metadata": {},
     "output_type": "execute_result"
    }
   ],
   "source": [
    "amamp13 = AmonicsEDFA(addr='ASRL4::INSTR', name = \"Amonics 13dbm\")\n",
    "amamp13.connect()\n",
    "amamp13.printStatus()"
   ]
  },
  {
   "cell_type": "code",
   "execution_count": 5,
   "id": "df21185c",
   "metadata": {},
   "outputs": [
    {
     "name": "stdout",
     "output_type": "stream",
     "text": [
      "Amonics 27dbm: CH1 mode set as APC\n"
     ]
    }
   ],
   "source": [
    "amamp27.modeCh1='APC'"
   ]
  },
  {
   "cell_type": "code",
   "execution_count": 2,
   "id": "18462e30",
   "metadata": {},
   "outputs": [
    {
     "name": "stdout",
     "output_type": "stream",
     "text": [
      "Finisar Waveshaper SN201904 connected\n"
     ]
    },
    {
     "data": {
      "text/plain": [
       "1"
      ]
     },
     "execution_count": 2,
     "metadata": {},
     "output_type": "execute_result"
    }
   ],
   "source": [
    "wsp = Waveshaper()\n",
    "wsp.connect()\n"
   ]
  },
  {
   "cell_type": "code",
   "execution_count": 4,
   "id": "0c8140bc",
   "metadata": {},
   "outputs": [
    {
     "name": "stdout",
     "output_type": "stream",
     "text": [
      "Pritel Optical Amplifier connected\n",
      "-----------------------------Pritel Optical Amplifier----------------------------\n",
      "|-----------------Pritel OPTICAL FIBER AMPLIFIER Status Summary------------------\n",
      "|\t Pump status: \u001b[1;34;41mOFF\u001b[0m\n",
      "|\t InputPower = 0 mW, \tPreAmp = 0 mA\n",
      "|\t OutputPower = 0.00 W, \tPwrAmp = 0.00 A\n",
      "|\t AutoShutDown Enabled. PowerAmp pump current is disabled.\n",
      "----------------Pritel OPTICAL FIBER AMPLIFIER Status Summary Ends---------------\n",
      "\n"
     ]
    },
    {
     "data": {
      "text/plain": [
       "'-----------------------------Pritel Optical Amplifier----------------------------\\n|-----------------Pritel OPTICAL FIBER AMPLIFIER Status Summary------------------\\n|\\t Pump status: \\x1b[1;34;41mOFF\\x1b[0m\\n|\\t InputPower = 0 mW, \\tPreAmp = 0 mA\\n|\\t OutputPower = 0.00 W, \\tPwrAmp = 0.00 A\\n|\\t AutoShutDown Enabled. PowerAmp pump current is disabled.\\n----------------Pritel OPTICAL FIBER AMPLIFIER Status Summary Ends---------------\\n'"
      ]
     },
     "execution_count": 4,
     "metadata": {},
     "output_type": "execute_result"
    }
   ],
   "source": [
    "ptamp = PritelAmp(addr='ASRL6::INSTR')\n",
    "ptamp.connect()\n",
    "ptamp.printStatus()"
   ]
  },
  {
   "cell_type": "code",
   "execution_count": 5,
   "id": "f1a0da78",
   "metadata": {},
   "outputs": [
    {
     "name": "stdout",
     "output_type": "stream",
     "text": [
      "RF AMP PS connected\n",
      "------------------------------------RF AMP PS------------------------------------\n",
      "|-------------------Instek GPP DC Power Supply Status Summary--------------------\n",
      "|--------------------Model: GPP-1326, Serial No.SN:GET921679---------------------\n",
      "|\t------------Channel Summary-------------\n",
      "|\t CHANNEL1: Activation \u001b[1;34;41mOFF\u001b[0m.\n",
      "|\t\t VSET=30.000V, ISET=5.000A.\n",
      "|\t\t VOUT=0.000V, IOUT=0.000A.\n",
      "|\t\t Output power: 0.000W.\n",
      "|\t\t ---Over Voltage/Current Protection Status:---\n",
      "|\t\t OVP Status: OFF\t OCP Status: OFF \n",
      "|\t\t OVP Level : 35.0 V\t OCP Level : 7.0 A\n",
      "-----------------Instek GPP DC Power Supply Status Summary Ends-----------------\n",
      "\n"
     ]
    },
    {
     "data": {
      "text/plain": [
       "'------------------------------------RF AMP PS------------------------------------\\n|-------------------Instek GPP DC Power Supply Status Summary--------------------\\n|--------------------Model: GPP-1326, Serial No.SN:GET921679---------------------\\n|\\t------------Channel Summary-------------\\n|\\t CHANNEL1: Activation \\x1b[1;34;41mOFF\\x1b[0m.\\n|\\t\\t VSET=30.000V, ISET=5.000A.\\n|\\t\\t VOUT=0.000V, IOUT=0.000A.\\n|\\t\\t Output power: 0.000W.\\n|\\t\\t ---Over Voltage/Current Protection Status:---\\n|\\t\\t OVP Status: OFF\\t OCP Status: OFF \\n|\\t\\t OVP Level : 35.0 V\\t OCP Level : 7.0 A\\n-----------------Instek GPP DC Power Supply Status Summary Ends-----------------\\n'"
      ]
     },
     "execution_count": 5,
     "metadata": {},
     "output_type": "execute_result"
    }
   ],
   "source": [
    "rfps = InstekGppDCSupply(addr='ASRL34::INSTR', name='RF AMP PS')\n",
    "rfps.connect()\n",
    "rfps.printStatus()"
   ]
  },
  {
   "cell_type": "code",
   "execution_count": 4,
   "id": "724e7303",
   "metadata": {},
   "outputs": [
    {
     "name": "stdout",
     "output_type": "stream",
     "text": [
      "RF OSC PS connected\n"
     ]
    },
    {
     "ename": "VisaIOError",
     "evalue": "VI_ERROR_TMO (-1073807339): Timeout expired before operation completed.",
     "output_type": "error",
     "traceback": [
      "\u001b[1;31m---------------------------------------------------------------------------\u001b[0m",
      "\u001b[1;31mVisaIOError\u001b[0m                               Traceback (most recent call last)",
      "Input \u001b[1;32mIn [4]\u001b[0m, in \u001b[0;36m<cell line: 3>\u001b[1;34m()\u001b[0m\n\u001b[0;32m      1\u001b[0m osps \u001b[38;5;241m=\u001b[39m InstekGPD_4303S(addr\u001b[38;5;241m=\u001b[39m\u001b[38;5;124m'\u001b[39m\u001b[38;5;124mASRL5::INSTR\u001b[39m\u001b[38;5;124m'\u001b[39m, name\u001b[38;5;241m=\u001b[39m\u001b[38;5;124m'\u001b[39m\u001b[38;5;124mRF OSC PS\u001b[39m\u001b[38;5;124m'\u001b[39m)\n\u001b[0;32m      2\u001b[0m osps\u001b[38;5;241m.\u001b[39mconnect()\n\u001b[1;32m----> 3\u001b[0m \u001b[43mosps\u001b[49m\u001b[38;5;241;43m.\u001b[39;49m\u001b[43mprintStatus\u001b[49m\u001b[43m(\u001b[49m\u001b[43m)\u001b[49m\n",
      "File \u001b[1;32mZ:\\Maodong\\Projects\\Keck\\Keck Comb\\LFC\\Hardware\\InstekGPD_4303S.py:190\u001b[0m, in \u001b[0;36mInstekGPD_4303S.printStatus\u001b[1;34m(self)\u001b[0m\n\u001b[0;32m    188\u001b[0m message \u001b[38;5;241m=\u001b[39m \u001b[38;5;28mstr\u001b[39m(\u001b[38;5;28mself\u001b[39m\u001b[38;5;241m.\u001b[39mdevicename)\u001b[38;5;241m.\u001b[39mcenter(\u001b[38;5;241m81\u001b[39m,\u001b[38;5;124m'\u001b[39m\u001b[38;5;124m-\u001b[39m\u001b[38;5;124m'\u001b[39m)\u001b[38;5;241m+\u001b[39m\u001b[38;5;124m\"\u001b[39m\u001b[38;5;130;01m\\n\u001b[39;00m\u001b[38;5;124m\"\u001b[39m\n\u001b[0;32m    189\u001b[0m message \u001b[38;5;241m=\u001b[39m message \u001b[38;5;241m+\u001b[39m \u001b[38;5;124m\"\u001b[39m\u001b[38;5;124m|\u001b[39m\u001b[38;5;124m\"\u001b[39m\u001b[38;5;241m+\u001b[39m \u001b[38;5;124m\"\u001b[39m\u001b[38;5;124mInstek DC Power Supply GPD-4303S Status Summary\u001b[39m\u001b[38;5;124m\"\u001b[39m\u001b[38;5;241m.\u001b[39mcenter(\u001b[38;5;241m80\u001b[39m, \u001b[38;5;124m'\u001b[39m\u001b[38;5;124m-\u001b[39m\u001b[38;5;124m'\u001b[39m) \u001b[38;5;241m+\u001b[39m \u001b[38;5;124m\"\u001b[39m\u001b[38;5;130;01m\\n\u001b[39;00m\u001b[38;5;124m\"\u001b[39m\n\u001b[1;32m--> 190\u001b[0m message \u001b[38;5;241m=\u001b[39m message \u001b[38;5;241m+\u001b[39m \u001b[38;5;124m\"\u001b[39m\u001b[38;5;124m|\u001b[39m\u001b[38;5;124m\"\u001b[39m\u001b[38;5;241m+\u001b[39m (\u001b[38;5;124m\"\u001b[39m\u001b[38;5;124mModel: \u001b[39m\u001b[38;5;124m\"\u001b[39m \u001b[38;5;241m+\u001b[39m \u001b[38;5;28;43mself\u001b[39;49m\u001b[38;5;241;43m.\u001b[39;49m\u001b[43mmodelNumber\u001b[49m \u001b[38;5;241m+\u001b[39m \u001b[38;5;124m\"\u001b[39m\u001b[38;5;124m, Serial No.\u001b[39m\u001b[38;5;124m\"\u001b[39m \u001b[38;5;241m+\u001b[39m \u001b[38;5;28mself\u001b[39m\u001b[38;5;241m.\u001b[39mserialNumber)\u001b[38;5;241m.\u001b[39mcenter(\u001b[38;5;241m80\u001b[39m, \u001b[38;5;124m'\u001b[39m\u001b[38;5;124m-\u001b[39m\u001b[38;5;124m'\u001b[39m) \u001b[38;5;241m+\u001b[39m \u001b[38;5;124m\"\u001b[39m\u001b[38;5;130;01m\\n\u001b[39;00m\u001b[38;5;124m\"\u001b[39m\n\u001b[0;32m    191\u001b[0m message \u001b[38;5;241m=\u001b[39m message \u001b[38;5;241m+\u001b[39m \u001b[38;5;124m\"\u001b[39m\u001b[38;5;124m|\u001b[39m\u001b[38;5;130;01m\\t\u001b[39;00m\u001b[38;5;124mMaster Activation: \u001b[39m\u001b[38;5;124m\"\u001b[39m \u001b[38;5;241m+\u001b[39m highlight_status(\u001b[38;5;28mself\u001b[39m\u001b[38;5;241m.\u001b[39mactivation) \u001b[38;5;241m+\u001b[39m \u001b[38;5;124m\"\u001b[39m\u001b[38;5;130;01m\\n\u001b[39;00m\u001b[38;5;124m\"\u001b[39m\n\u001b[0;32m    192\u001b[0m message \u001b[38;5;241m=\u001b[39m message \u001b[38;5;241m+\u001b[39m \u001b[38;5;124m\"\u001b[39m\u001b[38;5;124m|\u001b[39m\u001b[38;5;130;01m\\t\u001b[39;00m\u001b[38;5;124m\"\u001b[39m \u001b[38;5;241m+\u001b[39m \u001b[38;5;124m\"\u001b[39m\u001b[38;5;124mChannel Summary\u001b[39m\u001b[38;5;124m\"\u001b[39m\u001b[38;5;241m.\u001b[39mcenter(\u001b[38;5;241m40\u001b[39m, \u001b[38;5;124m'\u001b[39m\u001b[38;5;124m-\u001b[39m\u001b[38;5;124m'\u001b[39m) \u001b[38;5;241m+\u001b[39m \u001b[38;5;124m\"\u001b[39m\u001b[38;5;130;01m\\n\u001b[39;00m\u001b[38;5;124m\"\u001b[39m\n",
      "File \u001b[1;32mZ:\\Maodong\\Projects\\Keck\\Keck Comb\\LFC\\Hardware\\InstekGPD_4303S.py:23\u001b[0m, in \u001b[0;36mInstekGPD_4303S.modelNumber\u001b[1;34m(self)\u001b[0m\n\u001b[0;32m     21\u001b[0m \u001b[38;5;129m@property\u001b[39m\n\u001b[0;32m     22\u001b[0m \u001b[38;5;28;01mdef\u001b[39;00m \u001b[38;5;21mmodelNumber\u001b[39m(\u001b[38;5;28mself\u001b[39m):\n\u001b[1;32m---> 23\u001b[0m     \u001b[38;5;28;01mreturn\u001b[39;00m \u001b[38;5;28;43mself\u001b[39;49m\u001b[38;5;241;43m.\u001b[39;49m\u001b[43m_IDN\u001b[49m\u001b[38;5;241m.\u001b[39msplit(\u001b[38;5;124m'\u001b[39m\u001b[38;5;124m,\u001b[39m\u001b[38;5;124m'\u001b[39m)[\u001b[38;5;241m1\u001b[39m]\n",
      "File \u001b[1;32mZ:\\Maodong\\Projects\\Keck\\Keck Comb\\LFC\\Hardware\\InstekGPD_4303S.py:20\u001b[0m, in \u001b[0;36mInstekGPD_4303S._IDN\u001b[1;34m(self)\u001b[0m\n\u001b[0;32m     17\u001b[0m \u001b[38;5;129m@property\u001b[39m\n\u001b[0;32m     18\u001b[0m \u001b[38;5;28;01mdef\u001b[39;00m \u001b[38;5;21m_IDN\u001b[39m(\u001b[38;5;28mself\u001b[39m):\n\u001b[0;32m     19\u001b[0m     cmd \u001b[38;5;241m=\u001b[39m \u001b[38;5;124m\"\u001b[39m\u001b[38;5;124m*IDN?\u001b[39m\u001b[38;5;124m\"\u001b[39m\n\u001b[1;32m---> 20\u001b[0m     \u001b[38;5;28;01mreturn\u001b[39;00m \u001b[38;5;28;43mself\u001b[39;49m\u001b[38;5;241;43m.\u001b[39;49m\u001b[43mquery\u001b[49m\u001b[43m(\u001b[49m\u001b[43mcmd\u001b[49m\u001b[43m)\u001b[49m\n",
      "File \u001b[1;32mZ:\\Maodong\\Projects\\Keck\\Keck Comb\\LFC\\Hardware\\Device.py:48\u001b[0m, in \u001b[0;36mDevice.query\u001b[1;34m(self, cmd)\u001b[0m\n\u001b[0;32m     47\u001b[0m \u001b[38;5;28;01mdef\u001b[39;00m \u001b[38;5;21mquery\u001b[39m(\u001b[38;5;28mself\u001b[39m, cmd):\n\u001b[1;32m---> 48\u001b[0m     \u001b[38;5;28;01mreturn\u001b[39;00m \u001b[38;5;28;43mself\u001b[39;49m\u001b[38;5;241;43m.\u001b[39;49m\u001b[43minst\u001b[49m\u001b[38;5;241;43m.\u001b[39;49m\u001b[43mquery\u001b[49m\u001b[43m(\u001b[49m\u001b[43mcmd\u001b[49m\u001b[43m)\u001b[49m\n",
      "File \u001b[1;32m~\\.conda\\envs\\lfc\\lib\\site-packages\\pyvisa\\resources\\messagebased.py:644\u001b[0m, in \u001b[0;36mMessageBasedResource.query\u001b[1;34m(self, message, delay)\u001b[0m\n\u001b[0;32m    641\u001b[0m \u001b[38;5;28;01mif\u001b[39;00m delay \u001b[38;5;241m>\u001b[39m \u001b[38;5;241m0.0\u001b[39m:\n\u001b[0;32m    642\u001b[0m     time\u001b[38;5;241m.\u001b[39msleep(delay)\n\u001b[1;32m--> 644\u001b[0m \u001b[38;5;28;01mreturn\u001b[39;00m \u001b[38;5;28;43mself\u001b[39;49m\u001b[38;5;241;43m.\u001b[39;49m\u001b[43mread\u001b[49m\u001b[43m(\u001b[49m\u001b[43m)\u001b[49m\n",
      "File \u001b[1;32m~\\.conda\\envs\\lfc\\lib\\site-packages\\pyvisa\\resources\\messagebased.py:486\u001b[0m, in \u001b[0;36mMessageBasedResource.read\u001b[1;34m(self, termination, encoding)\u001b[0m\n\u001b[0;32m    484\u001b[0m \u001b[38;5;28;01mif\u001b[39;00m termination \u001b[38;5;129;01mis\u001b[39;00m \u001b[38;5;28;01mNone\u001b[39;00m:\n\u001b[0;32m    485\u001b[0m     termination \u001b[38;5;241m=\u001b[39m \u001b[38;5;28mself\u001b[39m\u001b[38;5;241m.\u001b[39m_read_termination\n\u001b[1;32m--> 486\u001b[0m     message \u001b[38;5;241m=\u001b[39m \u001b[38;5;28;43mself\u001b[39;49m\u001b[38;5;241;43m.\u001b[39;49m\u001b[43m_read_raw\u001b[49m\u001b[43m(\u001b[49m\u001b[43m)\u001b[49m\u001b[38;5;241m.\u001b[39mdecode(enco)\n\u001b[0;32m    487\u001b[0m \u001b[38;5;28;01melse\u001b[39;00m:\n\u001b[0;32m    488\u001b[0m     \u001b[38;5;28;01mwith\u001b[39;00m \u001b[38;5;28mself\u001b[39m\u001b[38;5;241m.\u001b[39mread_termination_context(termination):\n",
      "File \u001b[1;32m~\\.conda\\envs\\lfc\\lib\\site-packages\\pyvisa\\resources\\messagebased.py:442\u001b[0m, in \u001b[0;36mMessageBasedResource._read_raw\u001b[1;34m(self, size)\u001b[0m\n\u001b[0;32m    435\u001b[0m     \u001b[38;5;28;01mwhile\u001b[39;00m status \u001b[38;5;241m==\u001b[39m loop_status:\n\u001b[0;32m    436\u001b[0m         logger\u001b[38;5;241m.\u001b[39mdebug(\n\u001b[0;32m    437\u001b[0m             \u001b[38;5;124m\"\u001b[39m\u001b[38;5;132;01m%s\u001b[39;00m\u001b[38;5;124m - reading \u001b[39m\u001b[38;5;132;01m%d\u001b[39;00m\u001b[38;5;124m bytes (last status \u001b[39m\u001b[38;5;132;01m%r\u001b[39;00m\u001b[38;5;124m)\u001b[39m\u001b[38;5;124m\"\u001b[39m,\n\u001b[0;32m    438\u001b[0m             \u001b[38;5;28mself\u001b[39m\u001b[38;5;241m.\u001b[39m_resource_name,\n\u001b[0;32m    439\u001b[0m             size,\n\u001b[0;32m    440\u001b[0m             status,\n\u001b[0;32m    441\u001b[0m         )\n\u001b[1;32m--> 442\u001b[0m         chunk, status \u001b[38;5;241m=\u001b[39m \u001b[38;5;28;43mself\u001b[39;49m\u001b[38;5;241;43m.\u001b[39;49m\u001b[43mvisalib\u001b[49m\u001b[38;5;241;43m.\u001b[39;49m\u001b[43mread\u001b[49m\u001b[43m(\u001b[49m\u001b[38;5;28;43mself\u001b[39;49m\u001b[38;5;241;43m.\u001b[39;49m\u001b[43msession\u001b[49m\u001b[43m,\u001b[49m\u001b[43m \u001b[49m\u001b[43msize\u001b[49m\u001b[43m)\u001b[49m\n\u001b[0;32m    443\u001b[0m         ret\u001b[38;5;241m.\u001b[39mextend(chunk)\n\u001b[0;32m    444\u001b[0m \u001b[38;5;28;01mexcept\u001b[39;00m errors\u001b[38;5;241m.\u001b[39mVisaIOError \u001b[38;5;28;01mas\u001b[39;00m e:\n",
      "File \u001b[1;32m~\\.conda\\envs\\lfc\\lib\\site-packages\\pyvisa\\ctwrapper\\functions.py:2337\u001b[0m, in \u001b[0;36mread\u001b[1;34m(library, session, count)\u001b[0m\n\u001b[0;32m   2335\u001b[0m buffer \u001b[38;5;241m=\u001b[39m create_string_buffer(count)\n\u001b[0;32m   2336\u001b[0m return_count \u001b[38;5;241m=\u001b[39m ViUInt32()\n\u001b[1;32m-> 2337\u001b[0m ret \u001b[38;5;241m=\u001b[39m \u001b[43mlibrary\u001b[49m\u001b[38;5;241;43m.\u001b[39;49m\u001b[43mviRead\u001b[49m\u001b[43m(\u001b[49m\u001b[43msession\u001b[49m\u001b[43m,\u001b[49m\u001b[43m \u001b[49m\u001b[43mbuffer\u001b[49m\u001b[43m,\u001b[49m\u001b[43m \u001b[49m\u001b[43mcount\u001b[49m\u001b[43m,\u001b[49m\u001b[43m \u001b[49m\u001b[43mbyref\u001b[49m\u001b[43m(\u001b[49m\u001b[43mreturn_count\u001b[49m\u001b[43m)\u001b[49m\u001b[43m)\u001b[49m\n\u001b[0;32m   2338\u001b[0m \u001b[38;5;28;01mreturn\u001b[39;00m buffer\u001b[38;5;241m.\u001b[39mraw[: return_count\u001b[38;5;241m.\u001b[39mvalue], ret\n",
      "File \u001b[1;32m~\\.conda\\envs\\lfc\\lib\\site-packages\\pyvisa\\ctwrapper\\highlevel.py:222\u001b[0m, in \u001b[0;36mIVIVisaLibrary._return_handler\u001b[1;34m(self, ret_value, func, arguments)\u001b[0m\n\u001b[0;32m    219\u001b[0m         \u001b[38;5;66;03m# Set session back to a safe value\u001b[39;00m\n\u001b[0;32m    220\u001b[0m         session \u001b[38;5;241m=\u001b[39m \u001b[38;5;28;01mNone\u001b[39;00m\n\u001b[1;32m--> 222\u001b[0m \u001b[38;5;28;01mreturn\u001b[39;00m \u001b[38;5;28;43mself\u001b[39;49m\u001b[38;5;241;43m.\u001b[39;49m\u001b[43mhandle_return_value\u001b[49m\u001b[43m(\u001b[49m\u001b[43msession\u001b[49m\u001b[43m,\u001b[49m\u001b[43m \u001b[49m\u001b[43mret_value\u001b[49m\u001b[43m)\u001b[49m\n",
      "File \u001b[1;32m~\\.conda\\envs\\lfc\\lib\\site-packages\\pyvisa\\highlevel.py:251\u001b[0m, in \u001b[0;36mVisaLibraryBase.handle_return_value\u001b[1;34m(self, session, status_code)\u001b[0m\n\u001b[0;32m    248\u001b[0m     \u001b[38;5;28mself\u001b[39m\u001b[38;5;241m.\u001b[39m_last_status_in_session[session] \u001b[38;5;241m=\u001b[39m rv\n\u001b[0;32m    250\u001b[0m \u001b[38;5;28;01mif\u001b[39;00m rv \u001b[38;5;241m<\u001b[39m \u001b[38;5;241m0\u001b[39m:\n\u001b[1;32m--> 251\u001b[0m     \u001b[38;5;28;01mraise\u001b[39;00m errors\u001b[38;5;241m.\u001b[39mVisaIOError(rv)\n\u001b[0;32m    253\u001b[0m \u001b[38;5;28;01mif\u001b[39;00m rv \u001b[38;5;129;01min\u001b[39;00m \u001b[38;5;28mself\u001b[39m\u001b[38;5;241m.\u001b[39missue_warning_on:\n\u001b[0;32m    254\u001b[0m     \u001b[38;5;28;01mif\u001b[39;00m session \u001b[38;5;129;01mand\u001b[39;00m rv \u001b[38;5;129;01mnot\u001b[39;00m \u001b[38;5;129;01min\u001b[39;00m \u001b[38;5;28mself\u001b[39m\u001b[38;5;241m.\u001b[39m_ignore_warning_in_session[session]:\n",
      "\u001b[1;31mVisaIOError\u001b[0m: VI_ERROR_TMO (-1073807339): Timeout expired before operation completed."
     ]
    }
   ],
   "source": [
    "osps = InstekGPD_4303S(addr='ASRL5::INSTR', name='RF OSC PS')\n",
    "osps.connect()\n",
    "osps.printStatus()"
   ]
  },
  {
   "cell_type": "code",
   "execution_count": 13,
   "id": "1c172bb2",
   "metadata": {},
   "outputs": [
    {
     "ename": "VisaIOError",
     "evalue": "VI_ERROR_TMO (-1073807339): Timeout expired before operation completed.",
     "output_type": "error",
     "traceback": [
      "\u001b[1;31m---------------------------------------------------------------------------\u001b[0m",
      "\u001b[1;31mVisaIOError\u001b[0m                               Traceback (most recent call last)",
      "\u001b[1;32mz:\\Maodong\\Projects\\Keck\\Keck Comb\\Untitled1.ipynb Cell 13\u001b[0m in \u001b[0;36m<cell line: 2>\u001b[1;34m()\u001b[0m\n\u001b[0;32m      <a href='vscode-notebook-cell:/z%3A/Maodong/Projects/Keck/Keck%20Comb/Untitled1.ipynb#X13sZmlsZQ%3D%3D?line=0'>1</a>\u001b[0m rio \u001b[39m=\u001b[39m ORIONLaser()\n\u001b[1;32m----> <a href='vscode-notebook-cell:/z%3A/Maodong/Projects/Keck/Keck%20Comb/Untitled1.ipynb#X13sZmlsZQ%3D%3D?line=1'>2</a>\u001b[0m rio\u001b[39m.\u001b[39;49mconnect()\n\u001b[0;32m      <a href='vscode-notebook-cell:/z%3A/Maodong/Projects/Keck/Keck%20Comb/Untitled1.ipynb#X13sZmlsZQ%3D%3D?line=2'>3</a>\u001b[0m \u001b[39m# rio.writeLaserdiodeCur_mA(150) # 144 to 165\u001b[39;00m\n\u001b[0;32m      <a href='vscode-notebook-cell:/z%3A/Maodong/Projects/Keck/Keck%20Comb/Untitled1.ipynb#X13sZmlsZQ%3D%3D?line=3'>4</a>\u001b[0m \u001b[39m# rio.writeTECsetpoint(19.8)\u001b[39;00m\n\u001b[0;32m      <a href='vscode-notebook-cell:/z%3A/Maodong/Projects/Keck/Keck%20Comb/Untitled1.ipynb#X13sZmlsZQ%3D%3D?line=4'>5</a>\u001b[0m \u001b[39mprint\u001b[39m(\u001b[39mf\u001b[39m\u001b[39m\"\u001b[39m\u001b[39mTE Resistence = \u001b[39m\u001b[39m{\u001b[39;00m\u001b[39mint\u001b[39m\u001b[39m.\u001b[39mfrom_bytes(rio\u001b[39m.\u001b[39mquery(\u001b[39m0x1F\u001b[39m)[\u001b[39m'\u001b[39m\u001b[39mdata\u001b[39m\u001b[39m'\u001b[39m], byteorder\u001b[39m=\u001b[39m\u001b[39m'\u001b[39m\u001b[39mbig\u001b[39m\u001b[39m'\u001b[39m)\u001b[39m}\u001b[39;00m\u001b[39m\"\u001b[39m)\n",
      "File \u001b[1;32mz:\\Maodong\\Projects\\Keck\\Keck Comb\\LFC\\Hardware\\ORIONLaser.py:161\u001b[0m, in \u001b[0;36mORIONLaser.connect\u001b[1;34m(self)\u001b[0m\n\u001b[0;32m    160\u001b[0m \u001b[39mdef\u001b[39;00m \u001b[39mconnect\u001b[39m(\u001b[39mself\u001b[39m):\n\u001b[1;32m--> 161\u001b[0m     \u001b[39mself\u001b[39;49m\u001b[39m.\u001b[39;49mquery(\u001b[39m0x24\u001b[39;49m, read\u001b[39m=\u001b[39;49m\u001b[39mFalse\u001b[39;49;00m)\n\u001b[0;32m    162\u001b[0m     \u001b[39mreturn\u001b[39;00m \u001b[39msuper\u001b[39m()\u001b[39m.\u001b[39mconnect()\n",
      "File \u001b[1;32mz:\\Maodong\\Projects\\Keck\\Keck Comb\\LFC\\Hardware\\ORIONLaser.py:140\u001b[0m, in \u001b[0;36mORIONLaser.query\u001b[1;34m(self, cmdID, data, pktID, read)\u001b[0m\n\u001b[0;32m    138\u001b[0m packet[\u001b[39m-\u001b[39m\u001b[39m1\u001b[39m] \u001b[39m=\u001b[39m \u001b[39m0xA5\u001b[39m\n\u001b[0;32m    139\u001b[0m \u001b[39mself\u001b[39m\u001b[39m.\u001b[39minst\u001b[39m.\u001b[39mwrite_raw(\u001b[39mbytes\u001b[39m(packet))\n\u001b[1;32m--> 140\u001b[0m \u001b[39mreturn\u001b[39;00m \u001b[39mself\u001b[39;49m\u001b[39m.\u001b[39;49mread()\n",
      "File \u001b[1;32mz:\\Maodong\\Projects\\Keck\\Keck Comb\\LFC\\Hardware\\ORIONLaser.py:143\u001b[0m, in \u001b[0;36mORIONLaser.read\u001b[1;34m(self)\u001b[0m\n\u001b[0;32m    142\u001b[0m \u001b[39mdef\u001b[39;00m \u001b[39mread\u001b[39m(\u001b[39mself\u001b[39m):\n\u001b[1;32m--> 143\u001b[0m     packet \u001b[39m=\u001b[39m \u001b[39mbytearray\u001b[39m(\u001b[39mself\u001b[39;49m\u001b[39m.\u001b[39;49minst\u001b[39m.\u001b[39;49mread_raw())[\u001b[39m1\u001b[39m:]  \u001b[39m# Remove leading 0x00\u001b[39;00m\n\u001b[0;32m    144\u001b[0m     ret \u001b[39m=\u001b[39m {}\n\u001b[0;32m    145\u001b[0m     ret[\u001b[39m'\u001b[39m\u001b[39mvalid\u001b[39m\u001b[39m'\u001b[39m] \u001b[39m=\u001b[39m \u001b[39mTrue\u001b[39;00m\n",
      "File \u001b[1;32mc:\\Users\\HSFLFC\\.conda\\envs\\lfc\\lib\\site-packages\\pyvisa\\resources\\messagebased.py:405\u001b[0m, in \u001b[0;36mMessageBasedResource.read_raw\u001b[1;34m(self, size)\u001b[0m\n\u001b[0;32m    388\u001b[0m \u001b[39mdef\u001b[39;00m \u001b[39mread_raw\u001b[39m(\u001b[39mself\u001b[39m, size: Optional[\u001b[39mint\u001b[39m] \u001b[39m=\u001b[39m \u001b[39mNone\u001b[39;00m) \u001b[39m-\u001b[39m\u001b[39m>\u001b[39m \u001b[39mbytes\u001b[39m:\n\u001b[0;32m    389\u001b[0m     \u001b[39m\"\"\"Read the unmodified string sent from the instrument to the computer.\u001b[39;00m\n\u001b[0;32m    390\u001b[0m \n\u001b[0;32m    391\u001b[0m \u001b[39m    In contrast to read(), no termination characters are stripped.\u001b[39;00m\n\u001b[1;32m   (...)\u001b[0m\n\u001b[0;32m    403\u001b[0m \n\u001b[0;32m    404\u001b[0m \u001b[39m    \"\"\"\u001b[39;00m\n\u001b[1;32m--> 405\u001b[0m     \u001b[39mreturn\u001b[39;00m \u001b[39mbytes\u001b[39m(\u001b[39mself\u001b[39;49m\u001b[39m.\u001b[39;49m_read_raw(size))\n",
      "File \u001b[1;32mc:\\Users\\HSFLFC\\.conda\\envs\\lfc\\lib\\site-packages\\pyvisa\\resources\\messagebased.py:442\u001b[0m, in \u001b[0;36mMessageBasedResource._read_raw\u001b[1;34m(self, size)\u001b[0m\n\u001b[0;32m    435\u001b[0m     \u001b[39mwhile\u001b[39;00m status \u001b[39m==\u001b[39m loop_status:\n\u001b[0;32m    436\u001b[0m         logger\u001b[39m.\u001b[39mdebug(\n\u001b[0;32m    437\u001b[0m             \u001b[39m\"\u001b[39m\u001b[39m%s\u001b[39;00m\u001b[39m - reading \u001b[39m\u001b[39m%d\u001b[39;00m\u001b[39m bytes (last status \u001b[39m\u001b[39m%r\u001b[39;00m\u001b[39m)\u001b[39m\u001b[39m\"\u001b[39m,\n\u001b[0;32m    438\u001b[0m             \u001b[39mself\u001b[39m\u001b[39m.\u001b[39m_resource_name,\n\u001b[0;32m    439\u001b[0m             size,\n\u001b[0;32m    440\u001b[0m             status,\n\u001b[0;32m    441\u001b[0m         )\n\u001b[1;32m--> 442\u001b[0m         chunk, status \u001b[39m=\u001b[39m \u001b[39mself\u001b[39;49m\u001b[39m.\u001b[39;49mvisalib\u001b[39m.\u001b[39;49mread(\u001b[39mself\u001b[39;49m\u001b[39m.\u001b[39;49msession, size)\n\u001b[0;32m    443\u001b[0m         ret\u001b[39m.\u001b[39mextend(chunk)\n\u001b[0;32m    444\u001b[0m \u001b[39mexcept\u001b[39;00m errors\u001b[39m.\u001b[39mVisaIOError \u001b[39mas\u001b[39;00m e:\n",
      "File \u001b[1;32mc:\\Users\\HSFLFC\\.conda\\envs\\lfc\\lib\\site-packages\\pyvisa\\ctwrapper\\functions.py:2337\u001b[0m, in \u001b[0;36mread\u001b[1;34m(library, session, count)\u001b[0m\n\u001b[0;32m   2335\u001b[0m buffer \u001b[39m=\u001b[39m create_string_buffer(count)\n\u001b[0;32m   2336\u001b[0m return_count \u001b[39m=\u001b[39m ViUInt32()\n\u001b[1;32m-> 2337\u001b[0m ret \u001b[39m=\u001b[39m library\u001b[39m.\u001b[39;49mviRead(session, buffer, count, byref(return_count))\n\u001b[0;32m   2338\u001b[0m \u001b[39mreturn\u001b[39;00m buffer\u001b[39m.\u001b[39mraw[: return_count\u001b[39m.\u001b[39mvalue], ret\n",
      "File \u001b[1;32mc:\\Users\\HSFLFC\\.conda\\envs\\lfc\\lib\\site-packages\\pyvisa\\ctwrapper\\highlevel.py:222\u001b[0m, in \u001b[0;36mIVIVisaLibrary._return_handler\u001b[1;34m(self, ret_value, func, arguments)\u001b[0m\n\u001b[0;32m    219\u001b[0m         \u001b[39m# Set session back to a safe value\u001b[39;00m\n\u001b[0;32m    220\u001b[0m         session \u001b[39m=\u001b[39m \u001b[39mNone\u001b[39;00m\n\u001b[1;32m--> 222\u001b[0m \u001b[39mreturn\u001b[39;00m \u001b[39mself\u001b[39;49m\u001b[39m.\u001b[39;49mhandle_return_value(session, ret_value)\n",
      "File \u001b[1;32mc:\\Users\\HSFLFC\\.conda\\envs\\lfc\\lib\\site-packages\\pyvisa\\highlevel.py:251\u001b[0m, in \u001b[0;36mVisaLibraryBase.handle_return_value\u001b[1;34m(self, session, status_code)\u001b[0m\n\u001b[0;32m    248\u001b[0m     \u001b[39mself\u001b[39m\u001b[39m.\u001b[39m_last_status_in_session[session] \u001b[39m=\u001b[39m rv\n\u001b[0;32m    250\u001b[0m \u001b[39mif\u001b[39;00m rv \u001b[39m<\u001b[39m \u001b[39m0\u001b[39m:\n\u001b[1;32m--> 251\u001b[0m     \u001b[39mraise\u001b[39;00m errors\u001b[39m.\u001b[39mVisaIOError(rv)\n\u001b[0;32m    253\u001b[0m \u001b[39mif\u001b[39;00m rv \u001b[39min\u001b[39;00m \u001b[39mself\u001b[39m\u001b[39m.\u001b[39missue_warning_on:\n\u001b[0;32m    254\u001b[0m     \u001b[39mif\u001b[39;00m session \u001b[39mand\u001b[39;00m rv \u001b[39mnot\u001b[39;00m \u001b[39min\u001b[39;00m \u001b[39mself\u001b[39m\u001b[39m.\u001b[39m_ignore_warning_in_session[session]:\n",
      "\u001b[1;31mVisaIOError\u001b[0m: VI_ERROR_TMO (-1073807339): Timeout expired before operation completed."
     ]
    }
   ],
   "source": [
    "rio = ORIONLaser()\n",
    "rio.connect()\n",
    "# rio.writeLaserdiodeCur_mA(150) # 144 to 165\n",
    "# rio.writeTECsetpoint(19.8)\n",
    "print(f\"TE Resistence = {int.from_bytes(rio.query(0x1F)['data'], byteorder='big')}\")\n",
    "rio.printStatus()"
   ]
  },
  {
   "cell_type": "code",
   "execution_count": 7,
   "id": "ced88120",
   "metadata": {
    "scrolled": true
   },
   "outputs": [
    {
     "name": "stdout",
     "output_type": "stream",
     "text": [
      "FS725 Rubidium Frequency Standard connected\n"
     ]
    },
    {
     "ename": "VisaIOError",
     "evalue": "VI_ERROR_CONN_LOST (-1073807194): The connection for the given session has been lost.",
     "output_type": "error",
     "traceback": [
      "\u001b[1;31m---------------------------------------------------------------------------\u001b[0m",
      "\u001b[1;31mVisaIOError\u001b[0m                               Traceback (most recent call last)",
      "\u001b[1;32mz:\\Maodong\\Projects\\Keck\\Keck Comb\\Untitled1.ipynb Cell 14\u001b[0m in \u001b[0;36m<cell line: 3>\u001b[1;34m()\u001b[0m\n\u001b[0;32m      <a href='vscode-notebook-cell:/z%3A/Maodong/Projects/Keck/Keck%20Comb/Untitled1.ipynb#X14sZmlsZQ%3D%3D?line=0'>1</a>\u001b[0m rb_clock\u001b[39m=\u001b[39mRbClock(addr\u001b[39m=\u001b[39m\u001b[39m'\u001b[39m\u001b[39mASRL9::INSTR\u001b[39m\u001b[39m'\u001b[39m, name\u001b[39m=\u001b[39m\u001b[39m\"\u001b[39m\u001b[39mFS725 Rubidium Frequency Standard\u001b[39m\u001b[39m\"\u001b[39m)\n\u001b[0;32m      <a href='vscode-notebook-cell:/z%3A/Maodong/Projects/Keck/Keck%20Comb/Untitled1.ipynb#X14sZmlsZQ%3D%3D?line=1'>2</a>\u001b[0m rb_clock\u001b[39m.\u001b[39mconnect()\n\u001b[1;32m----> <a href='vscode-notebook-cell:/z%3A/Maodong/Projects/Keck/Keck%20Comb/Untitled1.ipynb#X14sZmlsZQ%3D%3D?line=2'>3</a>\u001b[0m rb_clock\u001b[39m.\u001b[39;49mprintStatus()\n",
      "File \u001b[1;32mz:\\Maodong\\Projects\\Keck\\Keck Comb\\LFC\\Hardware\\RbClock.py:20\u001b[0m, in \u001b[0;36mRbClock.printStatus\u001b[1;34m(self)\u001b[0m\n\u001b[0;32m     18\u001b[0m message \u001b[39m=\u001b[39m \u001b[39mstr\u001b[39m(\u001b[39mself\u001b[39m\u001b[39m.\u001b[39mdevicename)\u001b[39m.\u001b[39mcenter(\u001b[39m81\u001b[39m,\u001b[39m'\u001b[39m\u001b[39m-\u001b[39m\u001b[39m'\u001b[39m)\u001b[39m+\u001b[39m\u001b[39m\"\u001b[39m\u001b[39m\\n\u001b[39;00m\u001b[39m\"\u001b[39m\n\u001b[0;32m     19\u001b[0m message \u001b[39m=\u001b[39m message \u001b[39m+\u001b[39m \u001b[39m\"\u001b[39m\u001b[39m|\u001b[39m\u001b[39m\"\u001b[39m\u001b[39m+\u001b[39m \u001b[39m\"\u001b[39m\u001b[39mFS725 Rubidium Frequency Standard Status Summary\u001b[39m\u001b[39m\"\u001b[39m\u001b[39m.\u001b[39mcenter(\u001b[39m80\u001b[39m, \u001b[39m'\u001b[39m\u001b[39m-\u001b[39m\u001b[39m'\u001b[39m) \u001b[39m+\u001b[39m \u001b[39m\"\u001b[39m\u001b[39m\\n\u001b[39;00m\u001b[39m\"\u001b[39m\n\u001b[1;32m---> 20\u001b[0m message \u001b[39m=\u001b[39m message \u001b[39m+\u001b[39m \u001b[39m\"\u001b[39m\u001b[39m|\u001b[39m\u001b[39m\"\u001b[39m\u001b[39m+\u001b[39m (\u001b[39m\"\u001b[39m\u001b[39mModel: \u001b[39m\u001b[39m\"\u001b[39m \u001b[39m+\u001b[39m \u001b[39m'\u001b[39m\u001b[39mFS725\u001b[39m\u001b[39m'\u001b[39m \u001b[39m+\u001b[39m \u001b[39m\"\u001b[39m\u001b[39m, Serial No.\u001b[39m\u001b[39m\"\u001b[39m \u001b[39m+\u001b[39m \u001b[39mself\u001b[39;49m\u001b[39m.\u001b[39;49mserialNumber)\u001b[39m.\u001b[39mcenter(\u001b[39m80\u001b[39m, \u001b[39m'\u001b[39m\u001b[39m-\u001b[39m\u001b[39m'\u001b[39m) \u001b[39m+\u001b[39m \u001b[39m\"\u001b[39m\u001b[39m\\n\u001b[39;00m\u001b[39m\"\u001b[39m\n\u001b[0;32m     21\u001b[0m message \u001b[39m=\u001b[39m message \u001b[39m+\u001b[39m \u001b[39m\"\u001b[39m\u001b[39m|\u001b[39m\u001b[39m\\t\u001b[39;00m\u001b[39m Phase Lock Status: \u001b[39m\u001b[39m\"\u001b[39m \u001b[39m+\u001b[39m highlight_status(\u001b[39m'\u001b[39m\u001b[39mLOCKED\u001b[39m\u001b[39m'\u001b[39m \u001b[39mif\u001b[39;00m \u001b[39mself\u001b[39m\u001b[39m.\u001b[39misPhaseLocked() \u001b[39melse\u001b[39;00m \u001b[39m'\u001b[39m\u001b[39mUNLOCKED\u001b[39m\u001b[39m'\u001b[39m) \u001b[39m+\u001b[39m \u001b[39m\"\u001b[39m\u001b[39m\\n\u001b[39;00m\u001b[39m\"\u001b[39m\n\u001b[0;32m     22\u001b[0m message \u001b[39m=\u001b[39m message \u001b[39m+\u001b[39m \u001b[39m\"\u001b[39m\u001b[39m|\u001b[39m\u001b[39m\\t\u001b[39;00m\u001b[39m Freq  Lock Status: \u001b[39m\u001b[39m\"\u001b[39m \u001b[39m+\u001b[39m highlight_status(\u001b[39m'\u001b[39m\u001b[39mLOCKED\u001b[39m\u001b[39m'\u001b[39m \u001b[39mif\u001b[39;00m \u001b[39mself\u001b[39m\u001b[39m.\u001b[39misFreqLocked() \u001b[39melse\u001b[39;00m \u001b[39m'\u001b[39m\u001b[39mUNLOCKED\u001b[39m\u001b[39m'\u001b[39m) \u001b[39m+\u001b[39m \u001b[39m\"\u001b[39m\u001b[39m\\n\u001b[39;00m\u001b[39m\"\u001b[39m\n",
      "File \u001b[1;32mz:\\Maodong\\Projects\\Keck\\Keck Comb\\LFC\\Hardware\\RbClock.py:29\u001b[0m, in \u001b[0;36mRbClock.serialNumber\u001b[1;34m(self)\u001b[0m\n\u001b[0;32m     27\u001b[0m \u001b[39m@property\u001b[39m\n\u001b[0;32m     28\u001b[0m \u001b[39mdef\u001b[39;00m \u001b[39mserialNumber\u001b[39m(\u001b[39mself\u001b[39m):\n\u001b[1;32m---> 29\u001b[0m     \u001b[39mself\u001b[39;49m\u001b[39m.\u001b[39;49mwrite(\u001b[39m\"\u001b[39;49m\u001b[39mSN?\u001b[39;49m\u001b[39m\"\u001b[39;49m)\n\u001b[0;32m     30\u001b[0m     \u001b[39mreturn\u001b[39;00m \u001b[39mstr\u001b[39m(\u001b[39mself\u001b[39m\u001b[39m.\u001b[39minst\u001b[39m.\u001b[39mread(termination\u001b[39m=\u001b[39m\u001b[39m'\u001b[39m\u001b[39m\\r\u001b[39;00m\u001b[39m'\u001b[39m))\n",
      "File \u001b[1;32mz:\\Maodong\\Projects\\Keck\\Keck Comb\\LFC\\Hardware\\Device.py:42\u001b[0m, in \u001b[0;36mDevice.write\u001b[1;34m(self, cmd)\u001b[0m\n\u001b[0;32m     41\u001b[0m \u001b[39mdef\u001b[39;00m \u001b[39mwrite\u001b[39m(\u001b[39mself\u001b[39m, cmd):\n\u001b[1;32m---> 42\u001b[0m     \u001b[39mself\u001b[39;49m\u001b[39m.\u001b[39;49minst\u001b[39m.\u001b[39;49mwrite(cmd)\n",
      "File \u001b[1;32mc:\\Users\\HSFLFC\\.conda\\envs\\lfc\\lib\\site-packages\\pyvisa\\resources\\messagebased.py:197\u001b[0m, in \u001b[0;36mMessageBasedResource.write\u001b[1;34m(self, message, termination, encoding)\u001b[0m\n\u001b[0;32m    191\u001b[0m         warnings\u001b[39m.\u001b[39mwarn(\n\u001b[0;32m    192\u001b[0m             \u001b[39m\"\u001b[39m\u001b[39mwrite message already ends with \u001b[39m\u001b[39m\"\u001b[39m \u001b[39m\"\u001b[39m\u001b[39mtermination characters\u001b[39m\u001b[39m\"\u001b[39m,\n\u001b[0;32m    193\u001b[0m             stacklevel\u001b[39m=\u001b[39m\u001b[39m2\u001b[39m,\n\u001b[0;32m    194\u001b[0m         )\n\u001b[0;32m    195\u001b[0m     message \u001b[39m+\u001b[39m\u001b[39m=\u001b[39m term\n\u001b[1;32m--> 197\u001b[0m count \u001b[39m=\u001b[39m \u001b[39mself\u001b[39;49m\u001b[39m.\u001b[39;49mwrite_raw(message\u001b[39m.\u001b[39;49mencode(enco))\n\u001b[0;32m    199\u001b[0m \u001b[39mreturn\u001b[39;00m count\n",
      "File \u001b[1;32mc:\\Users\\HSFLFC\\.conda\\envs\\lfc\\lib\\site-packages\\pyvisa\\resources\\messagebased.py:157\u001b[0m, in \u001b[0;36mMessageBasedResource.write_raw\u001b[1;34m(self, message)\u001b[0m\n\u001b[0;32m    143\u001b[0m \u001b[39mdef\u001b[39;00m \u001b[39mwrite_raw\u001b[39m(\u001b[39mself\u001b[39m, message: \u001b[39mbytes\u001b[39m) \u001b[39m-\u001b[39m\u001b[39m>\u001b[39m \u001b[39mint\u001b[39m:\n\u001b[0;32m    144\u001b[0m     \u001b[39m\"\"\"Write a byte message to the device.\u001b[39;00m\n\u001b[0;32m    145\u001b[0m \n\u001b[0;32m    146\u001b[0m \u001b[39m    Parameters\u001b[39;00m\n\u001b[1;32m   (...)\u001b[0m\n\u001b[0;32m    155\u001b[0m \n\u001b[0;32m    156\u001b[0m \u001b[39m    \"\"\"\u001b[39;00m\n\u001b[1;32m--> 157\u001b[0m     \u001b[39mreturn\u001b[39;00m \u001b[39mself\u001b[39;49m\u001b[39m.\u001b[39;49mvisalib\u001b[39m.\u001b[39;49mwrite(\u001b[39mself\u001b[39;49m\u001b[39m.\u001b[39;49msession, message)[\u001b[39m0\u001b[39m]\n",
      "File \u001b[1;32mc:\\Users\\HSFLFC\\.conda\\envs\\lfc\\lib\\site-packages\\pyvisa\\ctwrapper\\functions.py:2796\u001b[0m, in \u001b[0;36mwrite\u001b[1;34m(library, session, data)\u001b[0m\n\u001b[0;32m   2794\u001b[0m return_count \u001b[39m=\u001b[39m ViUInt32()\n\u001b[0;32m   2795\u001b[0m \u001b[39m# [ViSession, ViBuf, ViUInt32, ViPUInt32]\u001b[39;00m\n\u001b[1;32m-> 2796\u001b[0m ret \u001b[39m=\u001b[39m library\u001b[39m.\u001b[39;49mviWrite(session, data, \u001b[39mlen\u001b[39;49m(data), byref(return_count))\n\u001b[0;32m   2797\u001b[0m \u001b[39mreturn\u001b[39;00m return_count\u001b[39m.\u001b[39mvalue, ret\n",
      "File \u001b[1;32mc:\\Users\\HSFLFC\\.conda\\envs\\lfc\\lib\\site-packages\\pyvisa\\ctwrapper\\highlevel.py:222\u001b[0m, in \u001b[0;36mIVIVisaLibrary._return_handler\u001b[1;34m(self, ret_value, func, arguments)\u001b[0m\n\u001b[0;32m    219\u001b[0m         \u001b[39m# Set session back to a safe value\u001b[39;00m\n\u001b[0;32m    220\u001b[0m         session \u001b[39m=\u001b[39m \u001b[39mNone\u001b[39;00m\n\u001b[1;32m--> 222\u001b[0m \u001b[39mreturn\u001b[39;00m \u001b[39mself\u001b[39;49m\u001b[39m.\u001b[39;49mhandle_return_value(session, ret_value)\n",
      "File \u001b[1;32mc:\\Users\\HSFLFC\\.conda\\envs\\lfc\\lib\\site-packages\\pyvisa\\highlevel.py:251\u001b[0m, in \u001b[0;36mVisaLibraryBase.handle_return_value\u001b[1;34m(self, session, status_code)\u001b[0m\n\u001b[0;32m    248\u001b[0m     \u001b[39mself\u001b[39m\u001b[39m.\u001b[39m_last_status_in_session[session] \u001b[39m=\u001b[39m rv\n\u001b[0;32m    250\u001b[0m \u001b[39mif\u001b[39;00m rv \u001b[39m<\u001b[39m \u001b[39m0\u001b[39m:\n\u001b[1;32m--> 251\u001b[0m     \u001b[39mraise\u001b[39;00m errors\u001b[39m.\u001b[39mVisaIOError(rv)\n\u001b[0;32m    253\u001b[0m \u001b[39mif\u001b[39;00m rv \u001b[39min\u001b[39;00m \u001b[39mself\u001b[39m\u001b[39m.\u001b[39missue_warning_on:\n\u001b[0;32m    254\u001b[0m     \u001b[39mif\u001b[39;00m session \u001b[39mand\u001b[39;00m rv \u001b[39mnot\u001b[39;00m \u001b[39min\u001b[39;00m \u001b[39mself\u001b[39m\u001b[39m.\u001b[39m_ignore_warning_in_session[session]:\n",
      "\u001b[1;31mVisaIOError\u001b[0m: VI_ERROR_CONN_LOST (-1073807194): The connection for the given session has been lost."
     ]
    }
   ],
   "source": [
    "rb_clock=RbClock(addr='ASRL9::INSTR', name=\"FS725 Rubidium Frequency Standard\")\n",
    "rb_clock.connect()\n",
    "rb_clock.printStatus()"
   ]
  },
  {
   "cell_type": "code",
   "execution_count": 8,
   "id": "26cea96e",
   "metadata": {
    "scrolled": false
   },
   "outputs": [
    {
     "data": {
      "text/plain": [
       "1"
      ]
     },
     "execution_count": 8,
     "metadata": {},
     "output_type": "execute_result"
    }
   ],
   "source": []
  },
  {
   "cell_type": "code",
   "execution_count": 6,
   "id": "f032a0a8",
   "metadata": {
    "scrolled": true
   },
   "outputs": [
    {
     "data": {
      "text/plain": [
       "1"
      ]
     },
     "execution_count": 6,
     "metadata": {},
     "output_type": "execute_result"
    }
   ],
   "source": []
  },
  {
   "cell_type": "code",
   "execution_count": 42,
   "id": "e8dc2fbe",
   "metadata": {},
   "outputs": [
    {
     "data": {
      "text/plain": [
       "0.0"
      ]
     },
     "execution_count": 42,
     "metadata": {},
     "output_type": "execute_result"
    }
   ],
   "source": [
    "amamp27.inputPowerCh1"
   ]
  },
  {
   "cell_type": "code",
   "execution_count": 43,
   "id": "b37e78cc",
   "metadata": {},
   "outputs": [
    {
     "data": {
      "text/plain": [
       "450.0"
      ]
     },
     "execution_count": 43,
     "metadata": {},
     "output_type": "execute_result"
    }
   ],
   "source": [
    "amamp27.accCh1Cur"
   ]
  },
  {
   "cell_type": "code",
   "execution_count": 44,
   "id": "562f7228",
   "metadata": {},
   "outputs": [
    {
     "data": {
      "text/plain": [
       "'AEDFA-PM-27-R-FA'"
      ]
     },
     "execution_count": 44,
     "metadata": {},
     "output_type": "execute_result"
    }
   ],
   "source": [
    " amamp27.modelNumber"
   ]
  },
  {
   "cell_type": "code",
   "execution_count": 46,
   "id": "c064f038",
   "metadata": {},
   "outputs": [
    {
     "name": "stdout",
     "output_type": "stream",
     "text": [
      "ANDO AQ-6315E Optical Spectrum Analyzer connected\n"
     ]
    },
    {
     "data": {
      "text/plain": [
       "1"
      ]
     },
     "execution_count": 46,
     "metadata": {},
     "output_type": "execute_result"
    }
   ],
   "source": [
    "\n",
    "osa = AndoOSA_AQ6315E(addr=\"GPIB1::1::INSTR\")\n",
    "osa.connect()"
   ]
  },
  {
   "cell_type": "code",
   "execution_count": 47,
   "id": "3db221bf",
   "metadata": {},
   "outputs": [
    {
     "name": "stderr",
     "output_type": "stream",
     "text": [
      "z:\\Maodong\\Projects\\Keck\\Keck Comb\\LFC\\Hardware\\AndoOSA_AQ6315E.py:291: UserWarning: ANDO AQ-6315E Optical Spectrum Analyzer: Filename extension .mat is ignored. This function save ['.mat', '.txt']. Change extension to save by extensions=['.mat']\n",
      "  warnings.warn(self.devicename + \": Filename extension \" + os.path.splitext(single_filename)[-1] +\n"
     ]
    },
    {
     "data": {
      "image/png": "[encoded data removed]",
      "text/plain": [
       "<Figure size 432x288 with 1 Axes>"
      ]
     },
     "metadata": {
      "needs_background": "light"
     },
     "output_type": "display_data"
    },
    {
     "name": "stdout",
     "output_type": "stream",
     "text": [
      "ANDO AQ-6315E Optical Spectrum Analyzer: Trace C data is collected and is shown in the plot.\n",
      "ANDO AQ-6315E Optical Spectrum Analyzer: Trace C data is saved to Z:\\Maodong\\Projects\\Keck\\System Assembly test\\Octave test\\new_WG_3.2W_d2_-2.7_ANDO.mat\n",
      "ANDO AQ-6315E Optical Spectrum Analyzer: Trace C data is saved to Z:\\Maodong\\Projects\\Keck\\System Assembly test\\Octave test\\new_WG_3.2W_d2_-2.7_ANDO.txt\n"
     ]
    }
   ],
   "source": [
    "filedir = r\"Z:\\Maodong\\Projects\\Keck\\System Assembly test\\Octave test\"\n",
    "osa.save_trace('c', filedir+'\\\\'+f\"new_WG_3.2W_d2_-2.7_ANDO.mat\")"
   ]
  },
  {
   "cell_type": "code",
   "execution_count": null,
   "id": "a9b1f1f8",
   "metadata": {},
   "outputs": [],
   "source": [
    "osa.get_trace('c')"
   ]
  },
  {
   "cell_type": "code",
   "execution_count": null,
   "id": "fcf8d888",
   "metadata": {},
   "outputs": [],
   "source": [
    "filedir = r\"Z:\\Maodong\\Projects\\Keck\\Filter Cavity test\\20221232_Change_RepRate\\mode4_25.76C_35.6V\"\n",
    "osa.save_trace('b', filedir+'\\\\'+f\"Rep_16G-{(16e9-counter.measFreq('c'))/1e6:.4f}\"+\"-3.mat\")"
   ]
  },
  {
   "cell_type": "code",
   "execution_count": null,
   "id": "064a8c21",
   "metadata": {},
   "outputs": [],
   "source": [
    "wsp.set3rdDisper(d2=2.05,d3=0.)\n",
    "wsp.plotStatus()\n",
    "wsp.writeProfile()"
   ]
  },
  {
   "cell_type": "code",
   "execution_count": null,
   "id": "68c6dc42",
   "metadata": {},
   "outputs": [],
   "source": [
    "wsp.setBandPass(span=7)\n",
    "wsp.plotStatus()\n",
    "wsp.writeProfile()"
   ]
  },
  {
   "cell_type": "code",
   "execution_count": 7,
   "id": "e2f15c98",
   "metadata": {},
   "outputs": [
    {
     "name": "stdout",
     "output_type": "stream",
     "text": [
      "Finisar Waveshaper SN201904 connected\n"
     ]
    },
    {
     "data": {
      "text/plain": [
       "1"
      ]
     },
     "execution_count": 7,
     "metadata": {},
     "output_type": "execute_result"
    }
   ],
   "source": [
    "#ws.disconnect()\n",
    "from LFC.Hardware.Waveshaper import Waveshaper\n",
    "\n",
    "ws = Waveshaper()\n",
    "ws.connect()"
   ]
  },
  {
   "cell_type": "code",
   "execution_count": 59,
   "id": "c98ea0c1",
   "metadata": {},
   "outputs": [
    {
     "data": {
      "text/plain": [
       "True"
      ]
     },
     "execution_count": 59,
     "metadata": {},
     "output_type": "execute_result"
    }
   ],
   "source": [
    "ws.connected"
   ]
  },
  {
   "cell_type": "code",
   "execution_count": 5,
   "id": "ced62dfe",
   "metadata": {},
   "outputs": [
    {
     "data": {
      "image/png": "[encoded data removed]",
      "text/plain": [
       "<Figure size 432x288 with 1 Axes>"
      ]
     },
     "metadata": {
      "needs_background": "light"
     },
     "output_type": "display_data"
    },
    {
     "name": "stdout",
     "output_type": "stream",
     "text": [
      "Waveshaper Set interp phase with center 192.17465256410256 THz.\n",
      "Waveshaper Set atten to BandPass [189.675~194.675] THz ([1580.559~1539.964] nm).\n",
      "Waveshaper profile write successful.\n",
      "-------------------Finisar Waveshaper SN201904 Status Summary-------------------\n",
      "|\t Atten info: Set atten to BandPass [189.675~194.675] THz ([1580.559~1539.964] nm)\n",
      "|\t Phase info: Set interp phase with center 192.17465256410256 THz\n",
      "----------------Finisar Waveshaper SN201904 Status Summary Ends-----------------\n"
     ]
    },
    {
     "data": {
      "image/png": "[encoded data removed]",
      "text/plain": [
       "<Figure size 648x432 with 4 Axes>"
      ]
     },
     "metadata": {
      "needs_background": "light"
     },
     "output_type": "display_data"
    },
    {
     "data": {
      "image/png": "[encoded data removed]",
      "text/plain": [
       "<Figure size 648x432 with 4 Axes>"
      ]
     },
     "metadata": {
      "needs_background": "light"
     },
     "output_type": "display_data"
    }
   ],
   "source": [
    "# x_freq = np.linspace(188, 196, 100)\n",
    "# y_phase = ((x_freq-192.3) ** 2 * (2*np.pi) ** 2 * 1.3/2*-2.8) + 0/((x_freq-192.3) ** 4 * (2*np.pi) ** 2 * 1.3/2+1)\n",
    "\n",
    "n_pt = 35\n",
    "x_freq = np.linspace(192.3-n_pt*16e-3, 192.3+n_pt*16e-3, 16)\n",
    "y_phase = ((x_freq-192.3) ** 2 * (2*np.pi) ** 2 * 1.3/2*-2.82) + 0/((x_freq-192.3) ** 4 * (2*np.pi) ** 2 * 1.3/2+1)\n",
    "plt.plot(x_freq, y_phase,label='original')\n",
    "\n",
    "y_phase[5:11] *= 1\n",
    "#y_phase[:3] *= 1\n",
    "\n",
    "\n",
    "\n",
    "plt.plot(x_freq, y_phase,label='after')\n",
    "plt.legend()\n",
    "plt.show()\n",
    "\n",
    "\n",
    "ws.set_interp_phase(x_freq, y_phase)\n",
    "ws.setBandPass(span=5)\n",
    "# ws.set2ndDisper(d2=-2.8)\n",
    "ws.plotStatus()\n",
    "ws.writeProfile()\n",
    "ws.printStatus()"
   ]
  },
  {
   "cell_type": "code",
   "execution_count": 81,
   "id": "59cb4c72",
   "metadata": {},
   "outputs": [
    {
     "name": "stdout",
     "output_type": "stream",
     "text": [
      "Waveshaper Set 3rd disper with d2=-1.5 ps/nm, d3=0.0 ps/nm^2, center 192.17465256410256 THz.\n"
     ]
    }
   ],
   "source": [
    "ws.set3rdDisper(d2=-1.5, d3=0.)\n",
    "ws.plotStatus()\n",
    "ws.writeProfile()\n",
    "time.sleep(2)"
   ]
  },
  {
   "cell_type": "code",
   "execution_count": null,
   "id": "ccc0bacc",
   "metadata": {},
   "outputs": [],
   "source": []
  },
  {
   "cell_type": "code",
   "execution_count": 55,
   "id": "46a59ff6",
   "metadata": {},
   "outputs": [
    {
     "name": "stdout",
     "output_type": "stream",
     "text": [
      "Waveshaper Set 3rd disper with d2=-2.7 ps/nm, d3=0.0 ps/nm^2, center 192.17465256410256 THz.\n",
      "Waveshaper profile write successful.\n",
      "set d2 = -2.7\n",
      "Waveshaper Set 3rd disper with d2=-2.71 ps/nm, d3=0.0 ps/nm^2, center 192.17465256410256 THz.\n",
      "Waveshaper profile write successful.\n",
      "set d2 = -2.71\n",
      "Waveshaper Set 3rd disper with d2=-2.72 ps/nm, d3=0.0 ps/nm^2, center 192.17465256410256 THz.\n",
      "Waveshaper profile write successful.\n",
      "set d2 = -2.72\n",
      "Waveshaper Set 3rd disper with d2=-2.73 ps/nm, d3=0.0 ps/nm^2, center 192.17465256410256 THz.\n",
      "Waveshaper profile write successful.\n",
      "set d2 = -2.73\n",
      "Waveshaper Set 3rd disper with d2=-2.74 ps/nm, d3=0.0 ps/nm^2, center 192.17465256410256 THz.\n",
      "Waveshaper profile write successful.\n",
      "set d2 = -2.74\n",
      "Waveshaper Set 3rd disper with d2=-2.75 ps/nm, d3=0.0 ps/nm^2, center 192.17465256410256 THz.\n",
      "Waveshaper profile write successful.\n",
      "set d2 = -2.75\n",
      "Waveshaper Set 3rd disper with d2=-2.7600000000000002 ps/nm, d3=0.0 ps/nm^2, center 192.17465256410256 THz.\n",
      "Waveshaper profile write successful.\n",
      "set d2 = -2.7600000000000002\n",
      "Waveshaper Set 3rd disper with d2=-2.77 ps/nm, d3=0.0 ps/nm^2, center 192.17465256410256 THz.\n",
      "Waveshaper profile write successful.\n",
      "set d2 = -2.77\n",
      "Waveshaper Set 3rd disper with d2=-2.7800000000000002 ps/nm, d3=0.0 ps/nm^2, center 192.17465256410256 THz.\n",
      "Waveshaper profile write successful.\n",
      "set d2 = -2.7800000000000002\n",
      "Waveshaper Set 3rd disper with d2=-2.79 ps/nm, d3=0.0 ps/nm^2, center 192.17465256410256 THz.\n",
      "Waveshaper profile write successful.\n",
      "set d2 = -2.79\n",
      "Waveshaper Set 3rd disper with d2=-2.8000000000000003 ps/nm, d3=0.0 ps/nm^2, center 192.17465256410256 THz.\n",
      "Waveshaper profile write successful.\n",
      "set d2 = -2.8000000000000003\n",
      "Waveshaper Set 3rd disper with d2=-2.81 ps/nm, d3=0.0 ps/nm^2, center 192.17465256410256 THz.\n",
      "Waveshaper profile write successful.\n",
      "set d2 = -2.81\n",
      "Waveshaper Set 3rd disper with d2=-2.8200000000000003 ps/nm, d3=0.0 ps/nm^2, center 192.17465256410256 THz.\n",
      "Waveshaper profile write successful.\n",
      "set d2 = -2.8200000000000003\n",
      "Waveshaper Set 3rd disper with d2=-2.83 ps/nm, d3=0.0 ps/nm^2, center 192.17465256410256 THz.\n",
      "Waveshaper profile write successful.\n",
      "set d2 = -2.83\n",
      "Waveshaper Set 3rd disper with d2=-2.84 ps/nm, d3=0.0 ps/nm^2, center 192.17465256410256 THz.\n",
      "Waveshaper profile write successful.\n",
      "set d2 = -2.84\n",
      "Waveshaper Set 3rd disper with d2=-2.85 ps/nm, d3=0.0 ps/nm^2, center 192.17465256410256 THz.\n",
      "Waveshaper profile write successful.\n",
      "set d2 = -2.85\n"
     ]
    }
   ],
   "source": [
    "# ws.set2ndDisper(d2=-2.66)\n",
    "import time\n",
    "for d in np.linspace(-2.7, -2.85, 16):\n",
    "    ws.set3rdDisper(d2=d, d3=0.0)\n",
    "    # ws.plotStatus()\n",
    "    ws.writeProfile()\n",
    "    print(f\"set d2 = {d}\")\n",
    "    time.sleep(2)"
   ]
  },
  {
   "cell_type": "code",
   "execution_count": null,
   "id": "98aff609",
   "metadata": {},
   "outputs": [],
   "source": []
  },
  {
   "cell_type": "code",
   "execution_count": 32,
   "id": "670ee9b7",
   "metadata": {},
   "outputs": [
    {
     "data": {
      "text/plain": [
       "[<matplotlib.lines.Line2D at 0x1c72a030430>]"
      ]
     },
     "execution_count": 32,
     "metadata": {},
     "output_type": "execute_result"
    },
    {
     "data": {
      "image/png": "[encoded data removed]",
      "text/plain": [
       "<Figure size 432x288 with 1 Axes>"
      ]
     },
     "metadata": {
      "needs_background": "light"
     },
     "output_type": "display_data"
    }
   ],
   "source": [
    "n_pt = 35\n",
    "x_freq = np.linspace(192.3-n_pt*16e-3, 192.3+n_pt*16e-3, 16)\n",
    "y_phase = ((x_freq-192.3) ** 2 * (2*np.pi) ** 2 * 1.3/2*-2.8) + 0/((x_freq-192.3) ** 4 * (2*np.pi) ** 2 * 1.3/2+1)\n",
    "y_phase[7:] *= 0.5\n",
    "\n",
    "plt.plot(x_freq, y_phase)"
   ]
  },
  {
   "cell_type": "code",
   "execution_count": 10,
   "id": "b883039b",
   "metadata": {},
   "outputs": [
    {
     "name": "stdout",
     "output_type": "stream",
     "text": [
      "Instek GPD-4303S DCSupply: VSET channel 2 set to 15.000V\n",
      "Instek GPD-4303S DCSupply: ISET channel 2 set to 3.000A\n",
      "Instek GPD-4303S DCSupply: Output activation is turned ON.\n"
     ]
    }
   ],
   "source": [
    "osps.Vset2 = 15\n",
    "osps.Iset2 = 3\n",
    "osps.activation = 1"
   ]
  },
  {
   "cell_type": "code",
   "execution_count": 18,
   "id": "abfa6d1e",
   "metadata": {},
   "outputs": [
    {
     "name": "stdout",
     "output_type": "stream",
     "text": [
      "RF AMP PS: VSET channel 1 set to 30.000V\n",
      "RF AMP PS: ISET channel 1 set to 5.000A\n",
      "RF AMP PS: channel 1 output is turned ON\n"
     ]
    }
   ],
   "source": [
    "rfps.Vset1 = 30\n",
    "rfps.Iset1 = 5\n",
    "rfps.activation1 = 1"
   ]
  },
  {
   "cell_type": "code",
   "execution_count": 12,
   "id": "706939ee",
   "metadata": {},
   "outputs": [
    {
     "name": "stdout",
     "output_type": "stream",
     "text": [
      "Amonics 27dbm: CH1 mode set as APC\n",
      "Amonics 27dbm: setted APC mode CH1 current as 630.0 mW.\n",
      "Amonics 27dbm: ......waiting APC CH1 status set to ON, now OFF\n",
      "Amonics 27dbm: setted APC CH1 status as ON, finished in 0.081 seconds\n",
      "Amonics 27dbm: ACTIVATING LASER OUTPUT, MAKE SURE SEED INPUT POWER IS APPROPRIATE TO AVOID DAMAGE\n",
      "Amonics 27dbm: ......waiting Activation status set to ON, now OFF\n",
      "Amonics 27dbm: setted Activation status as ON, finished in 0.080 seconds\n"
     ]
    }
   ],
   "source": [
    "amamp27.modeCh1 = 'APC'\n",
    "amamp27.accCh1Cur = '630mw'\n",
    "amamp27.accCh1Status = 1\n",
    "amamp27.activation = 1"
   ]
  },
  {
   "cell_type": "code",
   "execution_count": 14,
   "id": "2b879598",
   "metadata": {},
   "outputs": [
    {
     "name": "stdout",
     "output_type": "stream",
     "text": [
      "Amonics 13dbm: CH1 mode set as ACC\n"
     ]
    },
    {
     "ename": "VisaIOError",
     "evalue": "VI_ERROR_TMO (-1073807339): Timeout expired before operation completed.",
     "output_type": "error",
     "traceback": [
      "\u001b[1;31m---------------------------------------------------------------------------\u001b[0m",
      "\u001b[1;31mVisaIOError\u001b[0m                               Traceback (most recent call last)",
      "Input \u001b[1;32mIn [14]\u001b[0m, in \u001b[0;36m<cell line: 2>\u001b[1;34m()\u001b[0m\n\u001b[0;32m      1\u001b[0m amamp13\u001b[38;5;241m.\u001b[39mmodeCh1 \u001b[38;5;241m=\u001b[39m \u001b[38;5;124m'\u001b[39m\u001b[38;5;124mACC\u001b[39m\u001b[38;5;124m'\u001b[39m\n\u001b[1;32m----> 2\u001b[0m amamp13\u001b[38;5;241m.\u001b[39maccCh1Cur \u001b[38;5;241m=\u001b[39m \u001b[38;5;124m'\u001b[39m\u001b[38;5;124m60ma\u001b[39m\u001b[38;5;124m'\u001b[39m\n\u001b[0;32m      3\u001b[0m amamp13\u001b[38;5;241m.\u001b[39maccCh1Status \u001b[38;5;241m=\u001b[39m \u001b[38;5;241m1\u001b[39m\n\u001b[0;32m      4\u001b[0m amamp13\u001b[38;5;241m.\u001b[39mactivation \u001b[38;5;241m=\u001b[39m \u001b[38;5;241m1\u001b[39m\n",
      "File \u001b[1;32mZ:\\Maodong\\Projects\\Keck\\Keck Comb\\LFC\\Hardware\\AmonicsEDFA.py:132\u001b[0m, in \u001b[0;36mAmonicsEDFA.accCh1Cur\u001b[1;34m(self, cur1)\u001b[0m\n\u001b[0;32m    130\u001b[0m \u001b[38;5;28;01melse\u001b[39;00m:\n\u001b[0;32m    131\u001b[0m     cur1 \u001b[38;5;241m=\u001b[39m \u001b[38;5;28mfloat\u001b[39m(cur1)\n\u001b[1;32m--> 132\u001b[0m \u001b[38;5;28;43mself\u001b[39;49m\u001b[38;5;241;43m.\u001b[39;49m\u001b[43m_setIorP\u001b[49m\u001b[43m(\u001b[49m\u001b[43mcur1\u001b[49m\u001b[43m,\u001b[49m\u001b[43m \u001b[49m\u001b[43mchannel\u001b[49m\u001b[38;5;241;43m=\u001b[39;49m\u001b[38;5;241;43m1\u001b[39;49m\u001b[43m,\u001b[49m\u001b[43m \u001b[49m\u001b[43mmode\u001b[49m\u001b[38;5;241;43m=\u001b[39;49m\u001b[38;5;28;43mself\u001b[39;49m\u001b[38;5;241;43m.\u001b[39;49m\u001b[43mmodeCh1\u001b[49m\u001b[43m)\u001b[49m\n",
      "File \u001b[1;32mZ:\\Maodong\\Projects\\Keck\\Keck Comb\\LFC\\Hardware\\AmonicsEDFA.py:214\u001b[0m, in \u001b[0;36mAmonicsEDFA._setIorP\u001b[1;34m(self, IorP, channel, mode)\u001b[0m\n\u001b[0;32m    212\u001b[0m mode \u001b[38;5;241m=\u001b[39m \u001b[38;5;28mstr\u001b[39m(mode)\u001b[38;5;241m.\u001b[39mupper()\n\u001b[0;32m    213\u001b[0m channel \u001b[38;5;241m=\u001b[39m \u001b[38;5;28mstr\u001b[39m(channel)\n\u001b[1;32m--> 214\u001b[0m \u001b[38;5;28;01mif\u001b[39;00m \u001b[38;5;129;01mnot\u001b[39;00m \u001b[38;5;28;43mself\u001b[39;49m\u001b[38;5;241;43m.\u001b[39;49m\u001b[43m_getChMode\u001b[49m\u001b[43m(\u001b[49m\u001b[43mchannel\u001b[49m\u001b[38;5;241;43m=\u001b[39;49m\u001b[43mchannel\u001b[49m\u001b[43m)\u001b[49m \u001b[38;5;241m==\u001b[39m mode:\n\u001b[0;32m    215\u001b[0m     \u001b[38;5;28mprint\u001b[39m(\u001b[38;5;28mself\u001b[39m\u001b[38;5;241m.\u001b[39mdevicename \u001b[38;5;241m+\u001b[39m \u001b[38;5;124m\"\u001b[39m\u001b[38;5;124m: Mode assignment discrepancy in Setting IorP. Switching to \u001b[39m\u001b[38;5;124m\"\u001b[39m \u001b[38;5;241m+\u001b[39m mode \u001b[38;5;241m+\u001b[39m \u001b[38;5;124m\"\u001b[39m\u001b[38;5;124m mode.\u001b[39m\u001b[38;5;124m\"\u001b[39m)\n\u001b[0;32m    216\u001b[0m     \u001b[38;5;28mself\u001b[39m\u001b[38;5;241m.\u001b[39m_setChMode(channel\u001b[38;5;241m=\u001b[39mchannel, mode\u001b[38;5;241m=\u001b[39mmode)\n",
      "File \u001b[1;32mZ:\\Maodong\\Projects\\Keck\\Keck Comb\\LFC\\Hardware\\AmonicsEDFA.py:300\u001b[0m, in \u001b[0;36mAmonicsEDFA._getChMode\u001b[1;34m(self, channel)\u001b[0m\n\u001b[0;32m    298\u001b[0m \u001b[38;5;28;01mdef\u001b[39;00m \u001b[38;5;21m_getChMode\u001b[39m(\u001b[38;5;28mself\u001b[39m, channel\u001b[38;5;241m=\u001b[39m\u001b[38;5;241m1\u001b[39m):\n\u001b[0;32m    299\u001b[0m     channel \u001b[38;5;241m=\u001b[39m \u001b[38;5;28mstr\u001b[39m(channel)\n\u001b[1;32m--> 300\u001b[0m     \u001b[38;5;28;01mreturn\u001b[39;00m \u001b[38;5;28;43mself\u001b[39;49m\u001b[38;5;241;43m.\u001b[39;49m\u001b[43mquery\u001b[49m\u001b[43m(\u001b[49m\u001b[38;5;124;43m'\u001b[39;49m\u001b[38;5;124;43m:MODE:SW:CH\u001b[39;49m\u001b[38;5;124;43m'\u001b[39;49m\u001b[43m \u001b[49m\u001b[38;5;241;43m+\u001b[39;49m\u001b[43m \u001b[49m\u001b[43mchannel\u001b[49m\u001b[43m \u001b[49m\u001b[38;5;241;43m+\u001b[39;49m\u001b[43m \u001b[49m\u001b[38;5;124;43m'\u001b[39;49m\u001b[38;5;124;43m?\u001b[39;49m\u001b[38;5;124;43m'\u001b[39;49m\u001b[43m)\u001b[49m\n",
      "File \u001b[1;32mZ:\\Maodong\\Projects\\Keck\\Keck Comb\\LFC\\Hardware\\Device.py:48\u001b[0m, in \u001b[0;36mDevice.query\u001b[1;34m(self, cmd)\u001b[0m\n\u001b[0;32m     47\u001b[0m \u001b[38;5;28;01mdef\u001b[39;00m \u001b[38;5;21mquery\u001b[39m(\u001b[38;5;28mself\u001b[39m, cmd):\n\u001b[1;32m---> 48\u001b[0m     \u001b[38;5;28;01mreturn\u001b[39;00m \u001b[38;5;28;43mself\u001b[39;49m\u001b[38;5;241;43m.\u001b[39;49m\u001b[43minst\u001b[49m\u001b[38;5;241;43m.\u001b[39;49m\u001b[43mquery\u001b[49m\u001b[43m(\u001b[49m\u001b[43mcmd\u001b[49m\u001b[43m)\u001b[49m\n",
      "File \u001b[1;32m~\\.conda\\envs\\lfc\\lib\\site-packages\\pyvisa\\resources\\messagebased.py:644\u001b[0m, in \u001b[0;36mMessageBasedResource.query\u001b[1;34m(self, message, delay)\u001b[0m\n\u001b[0;32m    641\u001b[0m \u001b[38;5;28;01mif\u001b[39;00m delay \u001b[38;5;241m>\u001b[39m \u001b[38;5;241m0.0\u001b[39m:\n\u001b[0;32m    642\u001b[0m     time\u001b[38;5;241m.\u001b[39msleep(delay)\n\u001b[1;32m--> 644\u001b[0m \u001b[38;5;28;01mreturn\u001b[39;00m \u001b[38;5;28;43mself\u001b[39;49m\u001b[38;5;241;43m.\u001b[39;49m\u001b[43mread\u001b[49m\u001b[43m(\u001b[49m\u001b[43m)\u001b[49m\n",
      "File \u001b[1;32m~\\.conda\\envs\\lfc\\lib\\site-packages\\pyvisa\\resources\\messagebased.py:486\u001b[0m, in \u001b[0;36mMessageBasedResource.read\u001b[1;34m(self, termination, encoding)\u001b[0m\n\u001b[0;32m    484\u001b[0m \u001b[38;5;28;01mif\u001b[39;00m termination \u001b[38;5;129;01mis\u001b[39;00m \u001b[38;5;28;01mNone\u001b[39;00m:\n\u001b[0;32m    485\u001b[0m     termination \u001b[38;5;241m=\u001b[39m \u001b[38;5;28mself\u001b[39m\u001b[38;5;241m.\u001b[39m_read_termination\n\u001b[1;32m--> 486\u001b[0m     message \u001b[38;5;241m=\u001b[39m \u001b[38;5;28;43mself\u001b[39;49m\u001b[38;5;241;43m.\u001b[39;49m\u001b[43m_read_raw\u001b[49m\u001b[43m(\u001b[49m\u001b[43m)\u001b[49m\u001b[38;5;241m.\u001b[39mdecode(enco)\n\u001b[0;32m    487\u001b[0m \u001b[38;5;28;01melse\u001b[39;00m:\n\u001b[0;32m    488\u001b[0m     \u001b[38;5;28;01mwith\u001b[39;00m \u001b[38;5;28mself\u001b[39m\u001b[38;5;241m.\u001b[39mread_termination_context(termination):\n",
      "File \u001b[1;32m~\\.conda\\envs\\lfc\\lib\\site-packages\\pyvisa\\resources\\messagebased.py:442\u001b[0m, in \u001b[0;36mMessageBasedResource._read_raw\u001b[1;34m(self, size)\u001b[0m\n\u001b[0;32m    435\u001b[0m     \u001b[38;5;28;01mwhile\u001b[39;00m status \u001b[38;5;241m==\u001b[39m loop_status:\n\u001b[0;32m    436\u001b[0m         logger\u001b[38;5;241m.\u001b[39mdebug(\n\u001b[0;32m    437\u001b[0m             \u001b[38;5;124m\"\u001b[39m\u001b[38;5;132;01m%s\u001b[39;00m\u001b[38;5;124m - reading \u001b[39m\u001b[38;5;132;01m%d\u001b[39;00m\u001b[38;5;124m bytes (last status \u001b[39m\u001b[38;5;132;01m%r\u001b[39;00m\u001b[38;5;124m)\u001b[39m\u001b[38;5;124m\"\u001b[39m,\n\u001b[0;32m    438\u001b[0m             \u001b[38;5;28mself\u001b[39m\u001b[38;5;241m.\u001b[39m_resource_name,\n\u001b[0;32m    439\u001b[0m             size,\n\u001b[0;32m    440\u001b[0m             status,\n\u001b[0;32m    441\u001b[0m         )\n\u001b[1;32m--> 442\u001b[0m         chunk, status \u001b[38;5;241m=\u001b[39m \u001b[38;5;28;43mself\u001b[39;49m\u001b[38;5;241;43m.\u001b[39;49m\u001b[43mvisalib\u001b[49m\u001b[38;5;241;43m.\u001b[39;49m\u001b[43mread\u001b[49m\u001b[43m(\u001b[49m\u001b[38;5;28;43mself\u001b[39;49m\u001b[38;5;241;43m.\u001b[39;49m\u001b[43msession\u001b[49m\u001b[43m,\u001b[49m\u001b[43m \u001b[49m\u001b[43msize\u001b[49m\u001b[43m)\u001b[49m\n\u001b[0;32m    443\u001b[0m         ret\u001b[38;5;241m.\u001b[39mextend(chunk)\n\u001b[0;32m    444\u001b[0m \u001b[38;5;28;01mexcept\u001b[39;00m errors\u001b[38;5;241m.\u001b[39mVisaIOError \u001b[38;5;28;01mas\u001b[39;00m e:\n",
      "File \u001b[1;32m~\\.conda\\envs\\lfc\\lib\\site-packages\\pyvisa\\ctwrapper\\functions.py:2337\u001b[0m, in \u001b[0;36mread\u001b[1;34m(library, session, count)\u001b[0m\n\u001b[0;32m   2335\u001b[0m buffer \u001b[38;5;241m=\u001b[39m create_string_buffer(count)\n\u001b[0;32m   2336\u001b[0m return_count \u001b[38;5;241m=\u001b[39m ViUInt32()\n\u001b[1;32m-> 2337\u001b[0m ret \u001b[38;5;241m=\u001b[39m \u001b[43mlibrary\u001b[49m\u001b[38;5;241;43m.\u001b[39;49m\u001b[43mviRead\u001b[49m\u001b[43m(\u001b[49m\u001b[43msession\u001b[49m\u001b[43m,\u001b[49m\u001b[43m \u001b[49m\u001b[43mbuffer\u001b[49m\u001b[43m,\u001b[49m\u001b[43m \u001b[49m\u001b[43mcount\u001b[49m\u001b[43m,\u001b[49m\u001b[43m \u001b[49m\u001b[43mbyref\u001b[49m\u001b[43m(\u001b[49m\u001b[43mreturn_count\u001b[49m\u001b[43m)\u001b[49m\u001b[43m)\u001b[49m\n\u001b[0;32m   2338\u001b[0m \u001b[38;5;28;01mreturn\u001b[39;00m buffer\u001b[38;5;241m.\u001b[39mraw[: return_count\u001b[38;5;241m.\u001b[39mvalue], ret\n",
      "File \u001b[1;32m~\\.conda\\envs\\lfc\\lib\\site-packages\\pyvisa\\ctwrapper\\highlevel.py:222\u001b[0m, in \u001b[0;36mIVIVisaLibrary._return_handler\u001b[1;34m(self, ret_value, func, arguments)\u001b[0m\n\u001b[0;32m    219\u001b[0m         \u001b[38;5;66;03m# Set session back to a safe value\u001b[39;00m\n\u001b[0;32m    220\u001b[0m         session \u001b[38;5;241m=\u001b[39m \u001b[38;5;28;01mNone\u001b[39;00m\n\u001b[1;32m--> 222\u001b[0m \u001b[38;5;28;01mreturn\u001b[39;00m \u001b[38;5;28;43mself\u001b[39;49m\u001b[38;5;241;43m.\u001b[39;49m\u001b[43mhandle_return_value\u001b[49m\u001b[43m(\u001b[49m\u001b[43msession\u001b[49m\u001b[43m,\u001b[49m\u001b[43m \u001b[49m\u001b[43mret_value\u001b[49m\u001b[43m)\u001b[49m\n",
      "File \u001b[1;32m~\\.conda\\envs\\lfc\\lib\\site-packages\\pyvisa\\highlevel.py:251\u001b[0m, in \u001b[0;36mVisaLibraryBase.handle_return_value\u001b[1;34m(self, session, status_code)\u001b[0m\n\u001b[0;32m    248\u001b[0m     \u001b[38;5;28mself\u001b[39m\u001b[38;5;241m.\u001b[39m_last_status_in_session[session] \u001b[38;5;241m=\u001b[39m rv\n\u001b[0;32m    250\u001b[0m \u001b[38;5;28;01mif\u001b[39;00m rv \u001b[38;5;241m<\u001b[39m \u001b[38;5;241m0\u001b[39m:\n\u001b[1;32m--> 251\u001b[0m     \u001b[38;5;28;01mraise\u001b[39;00m errors\u001b[38;5;241m.\u001b[39mVisaIOError(rv)\n\u001b[0;32m    253\u001b[0m \u001b[38;5;28;01mif\u001b[39;00m rv \u001b[38;5;129;01min\u001b[39;00m \u001b[38;5;28mself\u001b[39m\u001b[38;5;241m.\u001b[39missue_warning_on:\n\u001b[0;32m    254\u001b[0m     \u001b[38;5;28;01mif\u001b[39;00m session \u001b[38;5;129;01mand\u001b[39;00m rv \u001b[38;5;129;01mnot\u001b[39;00m \u001b[38;5;129;01min\u001b[39;00m \u001b[38;5;28mself\u001b[39m\u001b[38;5;241m.\u001b[39m_ignore_warning_in_session[session]:\n",
      "\u001b[1;31mVisaIOError\u001b[0m: VI_ERROR_TMO (-1073807339): Timeout expired before operation completed."
     ]
    }
   ],
   "source": [
    "amamp13.modeCh1 = 'ACC'\n",
    "amamp13.accCh1Cur = '60ma'\n",
    "amamp13.accCh1Status = 1\n",
    "amamp13.activation = 1"
   ]
  },
  {
   "cell_type": "code",
   "execution_count": 21,
   "id": "f39d4b63",
   "metadata": {},
   "outputs": [
    {
     "name": "stdout",
     "output_type": "stream",
     "text": [
      "Pritel Optical Amplifier: Disable Ramping by self.ramp_pre_ma = 0, now 100 mA.\n",
      "Pritel Optical Amplifier: Setting PreAmp Current to 000 mA, current Output 0.00 W.\n",
      "Pritel Optical Amplifier: Setting PreAmp Current to 120 mA, current Output 0.00 W.\n",
      "Pritel Optical Amplifier: Setting PreAmp Current to 240 mA, current Output 0.00 W.\n",
      "Pritel Optical Amplifier: Setting PreAmp Current to 360 mA, current Output 0.00 W.\n",
      "Pritel Optical Amplifier: Setting PreAmp Current to 480 mA, current Output 0.00 W.\n",
      "Pritel Optical Amplifier: Setting PreAmp Current to 600 mA, current Output 0.00 W.\n",
      "Pritel Optical Amplifier: ACTIVATING LASER PUMP (OUTPUT), MAKE SURE SEED INPUT POWER IS APPROPRIATE TO AVOID DAMAGE.\n",
      "Pritel Optical Amplifier: setted Activation status as ON, finished in 0.490 seconds\n"
     ]
    }
   ],
   "source": [
    "ptamp.preAmp = '600mA'\n",
    "ptamp.activation=1"
   ]
  },
  {
   "cell_type": "code",
   "execution_count": 57,
   "id": "b81d0baf",
   "metadata": {},
   "outputs": [
    {
     "name": "stdout",
     "output_type": "stream",
     "text": [
      "TDS2024C OSC connected\n"
     ]
    },
    {
     "data": {
      "text/plain": [
       "1"
      ]
     },
     "execution_count": 57,
     "metadata": {},
     "output_type": "execute_result"
    }
   ],
   "source": [
    "# osc=TDS2024C(addr=\"USB0::0x0699::0x03A6::C031910::INSTR\")\n",
    "osc=TDS2024C()\n",
    "osc.connect()"
   ]
  },
  {
   "cell_type": "code",
   "execution_count": 2,
   "id": "706b1de3",
   "metadata": {},
   "outputs": [
    {
     "name": "stdout",
     "output_type": "stream",
     "text": [
      "ANDO AQ-6315E Optical Spectrum Analyzer connected\n",
      "---------------------ANDO AQ-6315E Optical Spectrum Analyzer---------------------\n",
      "|-------------ANDO AQ-6315 Optical Spectrum Analyzer Status Summary--------------\n",
      "-----------ANDO AQ-6315 Optical Spectrum Analyzer Status Summary Ends-----------\n",
      "\n"
     ]
    },
    {
     "data": {
      "text/plain": [
       "'---------------------ANDO AQ-6315E Optical Spectrum Analyzer---------------------\\n|-------------ANDO AQ-6315 Optical Spectrum Analyzer Status Summary--------------\\n-----------ANDO AQ-6315 Optical Spectrum Analyzer Status Summary Ends-----------\\n'"
      ]
     },
     "execution_count": 2,
     "metadata": {},
     "output_type": "execute_result"
    }
   ],
   "source": [
    "osa = AndoOSA_AQ6315E(addr=\"GPIB1::1::INSTR\")\n",
    "osa.connect()\n",
    "osa.printStatus()"
   ]
  },
  {
   "cell_type": "code",
   "execution_count": 6,
   "id": "053be6e0",
   "metadata": {},
   "outputs": [
    {
     "data": {
      "text/plain": [
       "'GPIB0::1::INSTR'"
      ]
     },
     "execution_count": 6,
     "metadata": {},
     "output_type": "execute_result"
    }
   ],
   "source": [
    "osa.addr"
   ]
  },
  {
   "cell_type": "code",
   "execution_count": 39,
   "id": "b8799fad",
   "metadata": {
    "scrolled": true
   },
   "outputs": [
    {
     "name": "stdout",
     "output_type": "stream",
     "text": [
      "Pritel Optical Amplifier: Disable Ramping by self.ramp_pwr_ma = 0, now 50 mA.\n",
      "Pritel Optical Amplifier: Setting PowerAmp Current to 2.31 A, current Output 2.07 W.\n",
      "Pritel Optical Amplifier: Setting PowerAmp Current to 2.26 A, current Output 1.96 W.\n",
      "Pritel Optical Amplifier: Setting PowerAmp Current to 2.21 A, current Output 1.90 W.\n",
      "Pritel Optical Amplifier: Setting PowerAmp Current to 2.16 A, current Output 1.85 W.\n",
      "Pritel Optical Amplifier: Setting PowerAmp Current to 2.11 A, current Output 1.79 W.\n",
      "Pritel Optical Amplifier: Setting PowerAmp Current to 2.06 A, current Output 1.73 W.\n",
      "Pritel Optical Amplifier: Setting PowerAmp Current to 2.01 A, current Output 1.68 W.\n",
      "Pritel Optical Amplifier: Setting PowerAmp Current to 1.96 A, current Output 1.61 W.\n",
      "Pritel Optical Amplifier: Setting PowerAmp Current to 1.91 A, current Output 1.56 W.\n",
      "Pritel Optical Amplifier: Setting PowerAmp Current to 1.86 A, current Output 1.51 W.\n",
      "Pritel Optical Amplifier: Setting PowerAmp Current to 1.81 A, current Output 1.46 W.\n",
      "Pritel Optical Amplifier: Setting PowerAmp Current to 1.76 A, current Output 1.40 W.\n",
      "Pritel Optical Amplifier: Setting PowerAmp Current to 1.71 A, current Output 1.35 W.\n",
      "Pritel Optical Amplifier: Setting PowerAmp Current to 1.66 A, current Output 1.28 W.\n",
      "Pritel Optical Amplifier: Setting PowerAmp Current to 1.61 A, current Output 1.25 W.\n",
      "Pritel Optical Amplifier: Setting PowerAmp Current to 1.56 A, current Output 1.18 W.\n",
      "Pritel Optical Amplifier: Setting PowerAmp Current to 1.51 A, current Output 1.13 W.\n",
      "Pritel Optical Amplifier: Setting PowerAmp Current to 1.46 A, current Output 1.07 W.\n",
      "Pritel Optical Amplifier: Setting PowerAmp Current to 1.41 A, current Output 1.03 W.\n",
      "Pritel Optical Amplifier: Setting PowerAmp Current to 1.36 A, current Output 0.97 W.\n",
      "Pritel Optical Amplifier: Setting PowerAmp Current to 1.31 A, current Output 0.90 W.\n",
      "Pritel Optical Amplifier: Setting PowerAmp Current to 1.26 A, current Output 0.85 W.\n",
      "Pritel Optical Amplifier: Setting PowerAmp Current to 1.21 A, current Output 0.79 W.\n",
      "Pritel Optical Amplifier: Setting PowerAmp Current to 1.16 A, current Output 0.75 W.\n",
      "Pritel Optical Amplifier: Setting PowerAmp Current to 1.10 A, current Output 0.69 W.\n",
      "Pritel Optical Amplifier: Setting PowerAmp Current to 1.05 A, current Output 0.63 W.\n",
      "Pritel Optical Amplifier: Setting PowerAmp Current to 1.00 A, current Output 0.57 W.\n",
      "Pritel Optical Amplifier: Setting PowerAmp Current to 0.95 A, current Output 0.52 W.\n",
      "Pritel Optical Amplifier: Setting PowerAmp Current to 0.90 A, current Output 0.45 W.\n",
      "Pritel Optical Amplifier: Setting PowerAmp Current to 0.85 A, current Output 0.40 W.\n",
      "Pritel Optical Amplifier: Setting PowerAmp Current to 0.80 A, current Output 0.36 W.\n",
      "Pritel Optical Amplifier: Setting PowerAmp Current to 0.75 A, current Output 0.31 W.\n",
      "Pritel Optical Amplifier: Setting PowerAmp Current to 0.70 A, current Output 0.26 W.\n",
      "Pritel Optical Amplifier: Setting PowerAmp Current to 0.65 A, current Output 0.21 W.\n",
      "Pritel Optical Amplifier: Setting PowerAmp Current to 0.60 A, current Output 0.15 W.\n",
      "Pritel Optical Amplifier: Setting PowerAmp Current to 0.55 A, current Output 0.10 W.\n",
      "Pritel Optical Amplifier: Setting PowerAmp Current to 0.50 A, current Output 0.05 W.\n",
      "Pritel Optical Amplifier: Setting PowerAmp Current to 0.45 A, current Output 0.01 W.\n",
      "Pritel Optical Amplifier: Setting PowerAmp Current to 0.40 A, current Output 0.00 W.\n",
      "Pritel Optical Amplifier: Setting PowerAmp Current to 0.35 A, current Output 0.00 W.\n",
      "Pritel Optical Amplifier: Setting PowerAmp Current to 0.30 A, current Output 0.00 W.\n",
      "Pritel Optical Amplifier: Setting PowerAmp Current to 0.25 A, current Output 0.00 W.\n",
      "Pritel Optical Amplifier: Setting PowerAmp Current to 0.20 A, current Output 0.00 W.\n",
      "Pritel Optical Amplifier: Setting PowerAmp Current to 0.15 A, current Output 0.00 W.\n",
      "Pritel Optical Amplifier: Setting PowerAmp Current to 0.10 A, current Output 0.00 W.\n",
      "Pritel Optical Amplifier: Setting PowerAmp Current to 0.05 A, current Output 0.00 W.\n",
      "Pritel Optical Amplifier: Setting PowerAmp Current to 0.00 A, current Output 0.00 W.\n"
     ]
    }
   ],
   "source": [
    "ptamp.pwrAmp = '0A'"
   ]
  },
  {
   "cell_type": "code",
   "execution_count": 40,
   "id": "4834da49",
   "metadata": {},
   "outputs": [
    {
     "name": "stdout",
     "output_type": "stream",
     "text": [
      "Pritel Optical Amplifier: Disable Ramping by self.ramp_pre_ma = 0, now 100 mA.\n",
      "Pritel Optical Amplifier: Setting PreAmp Current to 600 mA, current Output 0.00 W.\n",
      "Pritel Optical Amplifier: Setting PreAmp Current to 500 mA, current Output 0.00 W.\n",
      "Pritel Optical Amplifier: Setting PreAmp Current to 400 mA, current Output 0.00 W.\n",
      "Pritel Optical Amplifier: Setting PreAmp Current to 300 mA, current Output 0.00 W.\n",
      "Pritel Optical Amplifier: Setting PreAmp Current to 200 mA, current Output 0.00 W.\n",
      "Pritel Optical Amplifier: Setting PreAmp Current to 100 mA, current Output 0.00 W.\n",
      "Pritel Optical Amplifier: Setting PreAmp Current to 000 mA, current Output 0.00 W.\n",
      "Pritel Optical Amplifier: setted Activation status as OFF, finished in 0.499 seconds\n"
     ]
    }
   ],
   "source": [
    "ptamp.preAmp = '0mA'\n",
    "ptamp.activation=0"
   ]
  },
  {
   "cell_type": "code",
   "execution_count": 3,
   "id": "cc5174b2",
   "metadata": {},
   "outputs": [
    {
     "data": {
      "image/png": "[encoded data removed]",
      "text/plain": [
       "<Figure size 432x288 with 1 Axes>"
      ]
     },
     "metadata": {
      "needs_background": "light"
     },
     "output_type": "display_data"
    },
    {
     "name": "stdout",
     "output_type": "stream",
     "text": [
      "ANDO AQ-6315E Optical Spectrum Analyzer: Trace C data is collected and is shown in the plot.\n"
     ]
    }
   ],
   "source": [
    "spec=osa.get_trace('c', plot=True)"
   ]
  },
  {
   "cell_type": "code",
   "execution_count": 17,
   "id": "5191b252",
   "metadata": {},
   "outputs": [
    {
     "name": "stderr",
     "output_type": "stream",
     "text": [
      "Z:\\Maodong\\Projects\\Keck\\Keck Comb\\LFC\\Hardware\\AndoOSA_AQ6315E.py:291: UserWarning: ANDO AQ-6315E Optical Spectrum Analyzer: Filename extension .mat is ignored. This function save ['.mat', '.txt']. Change extension to save by extensions=['.mat']\n",
      "  warnings.warn(self.devicename + \": Filename extension \" + os.path.splitext(single_filename)[-1] +\n"
     ]
    },
    {
     "data": {
      "image/png": "[encoded data removed]",
      "text/plain": [
       "<Figure size 432x288 with 1 Axes>"
      ]
     },
     "metadata": {
      "needs_background": "light"
     },
     "output_type": "display_data"
    },
    {
     "name": "stdout",
     "output_type": "stream",
     "text": [
      "ANDO AQ-6315E Optical Spectrum Analyzer: Trace C data is collected and is shown in the plot.\n",
      "ANDO AQ-6315E Optical Spectrum Analyzer: Trace C data is saved to Z:\\Maodong\\Projects\\Keck\\Compression Stage test_0324\\2022_0327\\EO_input_fine_2\\\\power_3.4w_full_comb_700_1300_A_.mat\n",
      "ANDO AQ-6315E Optical Spectrum Analyzer: Trace C data is saved to Z:\\Maodong\\Projects\\Keck\\Compression Stage test_0324\\2022_0327\\EO_input_fine_2\\\\power_3.4w_full_comb_700_1300_A_.txt\n"
     ]
    }
   ],
   "source": [
    "filedir = r\"Z:\\Maodong\\Projects\\Keck\\Compression Stage test_0324\\2022_0327\\EO_input_fine_2\\\\\"\n",
    "filename = \"power_3.4w_full_comb_700_1300_A\"\n",
    "filename=filedir+filename+\"_.mat\"\n",
    "osa.save_trace('c',filename)"
   ]
  },
  {
   "cell_type": "code",
   "execution_count": 98,
   "id": "b39183fa",
   "metadata": {},
   "outputs": [
    {
     "data": {
      "image/png": "[encoded data removed]",
      "text/plain": [
       "<Figure size 432x288 with 1 Axes>"
      ]
     },
     "metadata": {
      "needs_background": "light"
     },
     "output_type": "display_data"
    },
    {
     "name": "stdout",
     "output_type": "stream",
     "text": [
      "ANDO AQ-6315E Optical Spectrum Analyzer: Trace C data is collected and is shown in the plot.\n",
      "TDS2024C OSC: Trace 2 data read finished.\n",
      "TDS2024C OSC: Trace 2 data is saved to Z:\\Maodong\\Projects\\Keck\\Compression Stage test_0324\\2022_0324\\EO_input_fine_2\\\\disp_random1_2.83__biaV__pwr__A_.mat\n"
     ]
    },
    {
     "data": {
      "image/png": "[encoded data removed]",
      "text/plain": [
       "<Figure size 972x288 with 3 Axes>"
      ]
     },
     "metadata": {
      "needs_background": "light"
     },
     "output_type": "display_data"
    },
    {
     "data": {
      "text/plain": [
       "<Figure size 432x288 with 0 Axes>"
      ]
     },
     "metadata": {},
     "output_type": "display_data"
    }
   ],
   "source": [
    "import numpy as np\n",
    "import matplotlib.pyplot as plt\n",
    "filedir = r\"Z:\\Maodong\\Projects\\Keck\\Compression Stage test_0324\\2022_0327\\EO_input_fine_2\\\\\"\n",
    "filename = \"disp_random1_2.83__biaV__pwr__A\"\n",
    "result = []\n",
    "# biaV_list = np.linspace(1.1,1.3,5)\n",
    "# biaV = servo2.output_voltage\n",
    "disp2_list= np.linspace(2.05, 2.25, 21)\n",
    "# for ii,biaV in enumerate(biaV_list):\n",
    "#     lfc.RFoscPS.Vset1 = biaV\n",
    "#     FWHM_list = []\n",
    "\n",
    "# for jj, disp2 in enumerate(disp2_list):\n",
    "#     lfc.wsp.set3rdDisper(d2=disp2, d3= -0.0, preview_plot=0)\n",
    "#     lfc.wsp.setBandPass(span=5)# ws.plotStatus()\n",
    "#     lfc.wsp.writeProfile()\n",
    "\n",
    "#     pw_list = []\n",
    "filename = \"disp_random1_2.83__biaV__pwr__A\"\n",
    "#spec = osa.get_trace('c', plot=False)\n",
    "#     for kk in range(3):\n",
    "spec=osa.get_trace('c', plot=True)\n",
    "pw,_, fig,_ = osc.get_autocorr_FWHM_single(filename=filedir+filename+\"_.mat\",\n",
    "                        fit_range=250,additional_plotdata=spec)\n",
    "#         pw_list.append(pw)\n",
    "plt.draw()\n",
    "#     result.append(pw_list)\n",
    "    \n",
    "# to_save = {'result':result, 'disp2_list':disp2_list}\n",
    "# from scipy.io import savemat\n",
    "# savemat(filedir+'results.mat', to_save)"
   ]
  },
  {
   "cell_type": "code",
   "execution_count": 68,
   "id": "d1303b4a",
   "metadata": {},
   "outputs": [
    {
     "name": "stdout",
     "output_type": "stream",
     "text": [
      "TDS2024C OSC connected\n"
     ]
    },
    {
     "name": "stderr",
     "output_type": "stream",
     "text": [
      "z:\\Maodong\\Projects\\Keck\\Keck Comb\\LFC\\Hardware\\TDS2024C.py:172: UserWarning: TDS2024C OSC: To save Filename Z:\\Maodong\\Projects\\Keck\\Compression Stage test_0324\\2023_0427\\Compressed\\\\disp_random1_2.83__biaV__pwr__A_disp2_-2.77_3.8W.mat already exists. Previous file renamed.\n",
      "  warnings.warn(self.devicename+\": To save Filename \"+filename+ext+\" already exists. Previous file renamed.\")\n"
     ]
    },
    {
     "name": "stdout",
     "output_type": "stream",
     "text": [
      "TDS2024C OSC: Trace 4 data read finished.\n",
      "Error:<class 'TypeError'>\n"
     ]
    },
    {
     "name": "stderr",
     "output_type": "stream",
     "text": [
      "z:\\Maodong\\Projects\\Keck\\Keck Comb\\LFC\\Hardware\\TDS2024C.py:190: UserWarning: TDS2024C OSC: Save trace to Z:\\Maodong\\Projects\\Keck\\Compression Stage test_0324\\2023_0427\\Compressed\\\\disp_random1_2.83__biaV__pwr__A_disp2_-2.77_3.8W.mat failed.\n",
      "  warnings.warn(self.devicename+\": Save trace to \"+filename+\".mat failed.\")\n"
     ]
    },
    {
     "data": {
      "image/png": "[encoded data removed]",
      "text/plain": [
       "<Figure size 720x288 with 2 Axes>"
      ]
     },
     "metadata": {
      "needs_background": "light"
     },
     "output_type": "display_data"
    },
    {
     "data": {
      "text/plain": [
       "<Figure size 432x288 with 0 Axes>"
      ]
     },
     "metadata": {},
     "output_type": "display_data"
    }
   ],
   "source": [
    "from LFC.Hardware.TDS2024C import TDS2024C\n",
    "\n",
    "osc=TDS2024C()\n",
    "osc.connect()\n",
    "\n",
    "import numpy as np\n",
    "import matplotlib.pyplot as plt\n",
    "filedir = r\"Z:\\Maodong\\Projects\\Keck\\Compression Stage test_0324\\2023_0427\\Compressed\\\\\"\n",
    "filename = \"disp_-2.8_biaV__pwr_3.71A\"\n",
    "result = []\n",
    "# biaV_list = np.linspace(1.1,1.3,5)\n",
    "# biaV = servo2.output_voltage\n",
    "disp2_list= np.linspace(2.05, 2.25, 21)\n",
    "# for ii,biaV in enumerate(biaV_list):\n",
    "#     lfc.RFoscPS.Vset1 = biaV\n",
    "#     FWHM_list = []\n",
    "\n",
    "# for jj, disp2 in enumerate(disp2_list):\n",
    "#     lfc.wsp.set3rdDisper(d2=disp2, d3= -0.0, preview_plot=0)\n",
    "#     lfc.wsp.setBandPass(span=5)# ws.plotStatus()\n",
    "#     lfc.wsp.writeProfile()\n",
    "\n",
    "#     pw_list = []\n",
    "filename = \"disp_random1_2.83__biaV__pwr__A\"\n",
    "#spec = osa.get_trace('c', plot=False)\n",
    "#     for kk in range(3):\n",
    "# spec=osa.get_trace('c', plot=True)\n",
    "pw,_, fig,_ = osc.get_autocorr_FWHM_single(trace=4,filename=filedir+filename+\"_disp2_-2.77_3.8W.mat\",\n",
    "                        fit_range=250)\n",
    "#         pw_list.append(pw)\n",
    "plt.draw()\n",
    "#     result.append(pw_list)\n",
    "    \n",
    "# to_save = {'result':result, 'disp2_list':disp2_list}\n",
    "# from scipy.io import savemat\n",
    "# savemat(filedir+'results.mat', to_save)"
   ]
  },
  {
   "cell_type": "code",
   "execution_count": null,
   "id": "8f7786fa",
   "metadata": {},
   "outputs": [],
   "source": []
  },
  {
   "cell_type": "code",
   "execution_count": null,
   "id": "bd2f58c0",
   "metadata": {},
   "outputs": [],
   "source": []
  },
  {
   "cell_type": "code",
   "execution_count": 3,
   "id": "1f58c0c9",
   "metadata": {},
   "outputs": [
    {
     "name": "stdout",
     "output_type": "stream",
     "text": [
      "Stanford Research System SIM900 connected\n",
      "----------------------------SRS PID controller SIM960----------------------------\n",
      "|--------------------SRS PID controller SIM960 Status Summary--------------------\n",
      "|----------------------------SIM960,s/n033683,ver2.17----------------------------\n",
      "|\tOutput mode:\t\u001b[1;34;41mMAN\u001b[0m,\tOutput limit: -0.500V TO 7.500V\n",
      "|\tMeasured input:\t -0.059012V\n",
      "|\tAmplified error:\t 0.593077V\n",
      "|\tInstant Output voltage:\t 0.001463V\n",
      "|\tManual output set:\t 0.0V\n",
      "|\t================ Set Point related================\n",
      "|\t\tInternal setpoint = 0.0 V, Ramping \u001b[1;34;41mOFF\u001b[0m\n",
      "|\t\tSetpoint input mode INT, Ext setpoint input 0.000226V\n",
      "|\t\tSetpoint RAMP speed = 0.01 V/s, action \u001b[1;34;41mOFF\u001b[0m\n",
      "|\t============= P,I,D and Offset Status=============\n",
      "|\t\t P = 10.0    , \taction = \u001b[1;34;42mON\u001b[0m\n",
      "|\t\t I = 0.1 1/s, \taction = \u001b[1;34;41mOFF\u001b[0m\n",
      "|\t\t D = 1e-05   s, \taction = \u001b[1;34;41mOFF\u001b[0m\n",
      "|\t\tOff = 0.0  V, \taction = \u001b[1;34;41mOFF\u001b[0m\n",
      "-----------------SRS PID controller SIM960 Status Summary Ends------------------\n",
      "\n"
     ]
    },
    {
     "data": {
      "text/plain": [
       "'----------------------------SRS PID controller SIM960----------------------------\\n|--------------------SRS PID controller SIM960 Status Summary--------------------\\n|----------------------------SIM960,s/n033683,ver2.17----------------------------\\n|\\tOutput mode:\\t\\x1b[1;34;41mMAN\\x1b[0m,\\tOutput limit: -0.500V TO 7.500V\\n|\\tMeasured input:\\t -0.059012V\\n|\\tAmplified error:\\t 0.593077V\\n|\\tInstant Output voltage:\\t 0.001463V\\n|\\tManual output set:\\t 0.0V\\n|\\t================ Set Point related================\\n|\\t\\tInternal setpoint = 0.0 V, Ramping \\x1b[1;34;41mOFF\\x1b[0m\\n|\\t\\tSetpoint input mode INT, Ext setpoint input 0.000226V\\n|\\t\\tSetpoint RAMP speed = 0.01 V/s, action \\x1b[1;34;41mOFF\\x1b[0m\\n|\\t============= P,I,D and Offset Status=============\\n|\\t\\t P = 10.0    , \\taction = \\x1b[1;34;42mON\\x1b[0m\\n|\\t\\t I = 0.1 1/s, \\taction = \\x1b[1;34;41mOFF\\x1b[0m\\n|\\t\\t D = 1e-05   s, \\taction = \\x1b[1;34;41mOFF\\x1b[0m\\n|\\t\\tOff = 0.0  V, \\taction = \\x1b[1;34;41mOFF\\x1b[0m\\n-----------------SRS PID controller SIM960 Status Summary Ends------------------\\n'"
      ]
     },
     "execution_count": 3,
     "metadata": {},
     "output_type": "execute_result"
    }
   ],
   "source": [
    "srs = SRS_SIM900(addr=\"GPIB0::2::INSTR\")\n",
    "srs.connect()\n",
    "servo1 = SRS_PIDcontrol_SIM960(srs, 5)\n",
    "servo1.set_manual_output_max(4)\n",
    "servo1.set_manual_output_min(-4)\n",
    "servo1.printStatus()"
   ]
  },
  {
   "cell_type": "code",
   "execution_count": 8,
   "id": "7bd4f807",
   "metadata": {},
   "outputs": [
    {
     "name": "stdout",
     "output_type": "stream",
     "text": [
      "SRS PID controller SIM960: Setting Output Lower limit in Volt to -4.0.\n",
      "SRS PID controller SIM960: Setting Output Upper limit in Volt to 4.0.\n"
     ]
    }
   ],
   "source": [
    "servo1.set_output_lowerlim(-4)\n",
    "servo1.set_output_upperlim(4)"
   ]
  },
  {
   "cell_type": "code",
   "execution_count": 23,
   "id": "1f69ee31",
   "metadata": {},
   "outputs": [
    {
     "name": "stdout",
     "output_type": "stream",
     "text": [
      "SRS PID controller SIM960: ....Manual output voltage Ramping.... Disable ranp by set self.manual_output_ramp=0. \n",
      "SRS PID controller SIM960: Output in Manual Mode in Volt set to -0.250.\n",
      "SRS PID controller SIM960: Output in Manual Mode in Volt set to -0.375.\n",
      "SRS PID controller SIM960: Output in Manual Mode in Volt set to -0.500.\n",
      "SRS PID controller SIM960: ....Manual output voltage Ramp Finished. Disable ramp by set self.manual_output_ramp=0. \n",
      "SRS PID controller SIM960: PID output is turned OFF, output mode is turnd to Manual.\n"
     ]
    },
    {
     "name": "stderr",
     "output_type": "stream",
     "text": [
      "100%|██████████| 400/400 [00:53<00:00,  7.43it/s]\n"
     ]
    },
    {
     "data": {
      "image/png": "[encoded data removed]",
      "text/plain": [
       "<Figure size 432x288 with 1 Axes>"
      ]
     },
     "metadata": {
      "needs_background": "light"
     },
     "output_type": "display_data"
    },
    {
     "name": "stdout",
     "output_type": "stream",
     "text": [
      "SRS PID controller SIM960: ....Manual output voltage Ramping.... Disable ranp by set self.manual_output_ramp=0. \n",
      "SRS PID controller SIM960: Output in Manual Mode in Volt set to 0.500.\n",
      "SRS PID controller SIM960: Output in Manual Mode in Volt set to 0.375.\n",
      "SRS PID controller SIM960: Output in Manual Mode in Volt set to 0.250.\n",
      "SRS PID controller SIM960: Output in Manual Mode in Volt set to 0.125.\n",
      "SRS PID controller SIM960: Output in Manual Mode in Volt set to 0.000.\n",
      "SRS PID controller SIM960: ....Manual output voltage Ramp Finished. Disable ramp by set self.manual_output_ramp=0. \n"
     ]
    }
   ],
   "source": [
    "scan_start = -0.5\n",
    "scan_stop = 0.5\n",
    "num_steps= 400\n",
    "\n",
    "servo1.manual_output_ramp=0.1\n",
    "servo1.manual_output = scan_start\n",
    "\n",
    "r = servo1.manual_sweep(np.linspace(scan_start,scan_stop,num_steps))\n",
    "\n",
    "servo1.manual_output=0"
   ]
  },
  {
   "cell_type": "code",
   "execution_count": 24,
   "id": "e9783b91",
   "metadata": {},
   "outputs": [
    {
     "data": {
      "text/plain": [
       "-0.068315"
      ]
     },
     "execution_count": 24,
     "metadata": {},
     "output_type": "execute_result"
    }
   ],
   "source": [
    "servo1.measure_input"
   ]
  },
  {
   "cell_type": "code",
   "execution_count": 25,
   "id": "4ae95b80",
   "metadata": {},
   "outputs": [
    {
     "data": {
      "text/plain": [
       "-0.257837"
      ]
     },
     "execution_count": 25,
     "metadata": {},
     "output_type": "execute_result"
    }
   ],
   "source": [
    "servo1.output_voltage"
   ]
  },
  {
   "cell_type": "code",
   "execution_count": 28,
   "id": "ec44adaf",
   "metadata": {},
   "outputs": [
    {
     "data": {
      "text/plain": [
       "-0.046769"
      ]
     },
     "execution_count": 28,
     "metadata": {},
     "output_type": "execute_result"
    }
   ],
   "source": [
    "servo1.amplified_error"
   ]
  },
  {
   "cell_type": "code",
   "execution_count": 27,
   "id": "961e17c1",
   "metadata": {},
   "outputs": [
    {
     "name": "stdout",
     "output_type": "stream",
     "text": [
      "Measured input: -0.05554 V\n",
      "Output voltage: -4.09101 V\n",
      "\n",
      "Measured input: -0.05541 V\n",
      "Output voltage: -4.09102 V\n",
      "\n",
      "Measured input: -0.05522 V\n",
      "Output voltage: -4.09103 V\n",
      "\n",
      "Measured input: -0.05511 V\n",
      "Output voltage: -4.09101 V\n",
      "\n",
      "Measured input: -0.05498 V\n",
      "Output voltage: -4.09104 V\n",
      "\n",
      "Measured input: -0.05501 V\n",
      "Output voltage: -4.09104 V\n",
      "\n",
      "Measured input: -0.05495 V\n",
      "Output voltage: -4.09100 V\n",
      "\n",
      "Measured input: -0.05483 V\n",
      "Output voltage: -4.09101 V\n",
      "\n",
      "Measured input: -0.05483 V\n",
      "Output voltage: -4.09106 V\n",
      "\n",
      "Measured input: -0.05493 V\n",
      "Output voltage: -4.09102 V\n",
      "\n",
      "Measured input: -0.05498 V\n",
      "Output voltage: -4.09103 V\n",
      "\n",
      "Measured input: -0.05510 V\n",
      "Output voltage: -4.09103 V\n",
      "\n",
      "Measured input: -0.05514 V\n",
      "Output voltage: -4.09104 V\n",
      "\n",
      "Measured input: -0.05513 V\n",
      "Output voltage: -4.09103 V\n",
      "\n",
      "Measured input: -0.05525 V\n",
      "Output voltage: -4.09103 V\n",
      "\n",
      "Measured input: -0.05534 V\n",
      "Output voltage: -4.09108 V\n",
      "\n",
      "Measured input: -0.05540 V\n",
      "Output voltage: -4.09107 V\n",
      "\n",
      "Measured input: -0.05541 V\n",
      "Output voltage: -4.09107 V\n",
      "\n",
      "Measured input: -0.05549 V\n",
      "Output voltage: -4.09102 V\n",
      "\n",
      "Measured input: -0.05556 V\n",
      "Output voltage: -4.09104 V\n",
      "\n",
      "Measured input: -0.05566 V\n",
      "Output voltage: -4.09102 V\n",
      "\n",
      "Measured input: -0.05574 V\n",
      "Output voltage: -4.09104 V\n",
      "\n",
      "Measured input: -0.05591 V\n",
      "Output voltage: -4.09106 V\n",
      "\n",
      "Measured input: -0.05590 V\n",
      "Output voltage: -4.09103 V\n",
      "\n",
      "Measured input: -0.05589 V\n",
      "Output voltage: -4.09103 V\n",
      "\n",
      "Measured input: -0.05580 V\n",
      "Output voltage: -4.09103 V\n",
      "\n",
      "Measured input: -0.05584 V\n",
      "Output voltage: -4.09106 V\n",
      "\n",
      "Measured input: -0.05585 V\n",
      "Output voltage: -4.09107 V\n",
      "\n",
      "Measured input: -0.05591 V\n",
      "Output voltage: -4.09105 V\n",
      "\n",
      "Measured input: -0.05595 V\n",
      "Output voltage: -4.09104 V\n",
      "\n",
      "Measured input: -0.05594 V\n",
      "Output voltage: -4.09099 V\n",
      "\n"
     ]
    }
   ],
   "source": [
    "filename = r\"Z:\\Maodong\\Projects\\Keck\\System Assembly test\\RIO Rb locking\\overnight\\servo.txt\"   \n",
    "\n",
    "with  open(filename,\"w\") as f:\n",
    "    #TODO: write table head\n",
    "    f.write(\"\")\n",
    "import time\n",
    "while True:\n",
    "    try:\n",
    "        with open(filename,\"a\") as f:\n",
    "            f.write(time.ctime()+\"\\t\")\n",
    "\n",
    "       \n",
    "            in_v = servo1.measure_input\n",
    "            f.write(f\"{in_v:.5f}\\t\")\n",
    "            print(f\"Measured input: {in_v:.5f} V\")\n",
    "            out_v = servo1.output_voltage\n",
    "            print(f\"Output voltage: {out_v:.5f} V\\n\")\n",
    "            f.write(f\"{out_v:.5f}\\t\")\n",
    "            f.write(\"\\n\")\n",
    "    except Exception as e:\n",
    "        print(e)\n",
    "    time.sleep(1)"
   ]
  },
  {
   "cell_type": "markdown",
   "id": "34b651f7",
   "metadata": {},
   "source": [
    "----------------------------------------------------------------------------------------------------"
   ]
  },
  {
   "cell_type": "code",
   "execution_count": null,
   "id": "d4427d1c",
   "metadata": {},
   "outputs": [],
   "source": [
    "from LFC.Hardware.TDS2024C import TDS2024C\n",
    "osc = TDS2024C()\n",
    "osc.connect()\n",
    "from LFC.Hardware.AndoOSA_AQ6315E import AndoOSA_AQ6315E\n",
    "osa = AndoOSA_AQ6315E()\n",
    "osa.connect()\n",
    "from LFC.KeckLFC import KeckLFC\n",
    "lfc = KeckLFC(amamp_addr = 'ASRL13::INSTR', amamp_name = 'Amonic 23dbm EDFA',#'Amonic 6A 680mW EDFA',\n",
    "              ptamp_addr = 'ASRL6::INSTR', ptamp_name = 'Pritel 3.85A 3.6W FA',\n",
    "              RFoscPS_addr = 'ASRL5::INSTR', RFoscPS_name = 'RF oscillator Power Supply 15V 0.4A',\n",
    "              RFampPS_addr = 'ASRL10::INSTR', RFampPS_name = 'RF amplifier Power Supply 30V 4.5A',\n",
    "              rbclock_addr = 'ASRL9::INSTR', rbclock_name = 'FS725 Rubidium Frequency Standard')\n",
    "\n",
    "lfc.connect_all()"
   ]
  },
  {
   "cell_type": "code",
   "execution_count": null,
   "id": "70bfc197",
   "metadata": {},
   "outputs": [],
   "source": [
    "filedir = r\"Z:\\Maodong\\Projects\\Keck\\Compression Stage test\\20230318\\NIST100cm_test\\\\\"\n",
    "\n",
    "biaV = 1.2\n",
    "disp2 = 1.8\n",
    "\n",
    "lfc.RFoscPS.Vset1 = biaV\n",
    "lfc.wsp.set3rdDisper(d2=disp2,d3=0.0,preview_plot=False)\n",
    "lfc.wsp.setBandPass(span=5)# ws.plotStatus()\n",
    "lfc.wsp.writeProfile()\n",
    "\n",
    "filename = f\"disp2_{disp2:.2f}_biaV_{biaV:.2f}_pwr_{lfc.ptamp.pwrAmp/1000:.2f}_A\"\n",
    "kk=0\n",
    "spec = osa.get_trace('c', plot=False)\n",
    "osc.get_autocorr_FWHM_single(filename=filedir+filename+f\"_{kk+1:.0f}.mat\",\n",
    "                            fit_range=200,\n",
    "                            additional_plotdata=spec)"
   ]
  },
  {
   "cell_type": "code",
   "execution_count": null,
   "id": "7f1e7f91",
   "metadata": {},
   "outputs": [],
   "source": [
    "import numpy as np\n",
    "import matplotlib.pyplot as plt\n",
    "filedir = r\"Z:\\Maodong\\Projects\\Keck\\Compression Stage test\\20221013\\EO_input_fine_2\\\\\"\n",
    "\n",
    "result = []\n",
    "# biaV_list = np.linspace(1.1,1.3,5)\n",
    "# biaV = servo2.output_voltage\n",
    "disp2_list= np.linspace(2.05, 2.25, 21)\n",
    "# for ii,biaV in enumerate(biaV_list):\n",
    "#     lfc.RFoscPS.Vset1 = biaV\n",
    "#     FWHM_list = []\n",
    "for jj, disp2 in enumerate(disp2_list):\n",
    "    lfc.wsp.set3rdDisper(d2=disp2, d3= -0.0, preview_plot=0)\n",
    "    lfc.wsp.setBandPass(span=5)# ws.plotStatus()\n",
    "    lfc.wsp.writeProfile()\n",
    "\n",
    "    pw_list = []\n",
    "    filename = f\"disp2_{disp2:.2f}_biaV_{servo2.output_voltage:.3f}_pwr_{lfc.ptamp.pwrAmp/1000:.2f}_A\"\n",
    "    spec = osa.get_trace('c', plot=False)\n",
    "    for kk in range(3):\n",
    "        pw,_, fig = osc.get_autocorr_FWHM_single(filename=filedir+filename+f\"_{kk+1:.0f}.mat\",\n",
    "                        fit_range=250,\n",
    "                        additional_plotdata=spec)\n",
    "        pw_list.append(pw)\n",
    "        plt.draw()\n",
    "    result.append(pw_list)\n",
    "    \n",
    "to_save = {'result':result, 'disp2_list':disp2_list}\n",
    "from scipy.io import savemat\n",
    "savemat(filedir+'results.mat', to_save)\n",
    "\n",
    "###### Plot results begins here\n",
    "import matplotlib.pyplot as plt\n",
    "result_mean = np.mean(np.array(result),axis=1)\n",
    "fig = plt.figure()\n",
    "plt.plot(disp2_list, result_mean)\n",
    "plt.xlabel(\"disp2\")\n",
    "plt.ylabel(\"AC fitted comb FWHM (ps)\")\n",
    "plt.title(f\"min combFWHM {np.min(result_mean):.3f} ps\\n\"+\n",
    "         f\"when disp2={disp2_list[np.argmin(result_mean)]:.3f} ps/nm\")\n",
    "plt.show()\n",
    "fig.savefig(filedir+'results.png')\n"
   ]
  },
  {
   "cell_type": "code",
   "execution_count": null,
   "id": "ee593dbe",
   "metadata": {},
   "outputs": [],
   "source": [
    "import numpy as np\n",
    "import matplotlib.pyplot as plt\n",
    "filedir = r\"Z:\\Maodong\\Projects\\Keck\\Compression Stage test\\20221013\\EO_input_test\\\\\"\n",
    "\n",
    "result = []\n",
    "biaV_list = np.linspace(1.1,1.3,5)\n",
    "disp2_list= np.linspace(1.7,1.9,5)\n",
    "for ii,biaV in enumerate(biaV_list):\n",
    "    lfc.RFoscPS.Vset1 = biaV\n",
    "    FWHM_list = []\n",
    "    for jj, disp2 in enumerate(disp2_list):\n",
    "        lfc.wsp.set3rdDisper(d2=disp2, d3= -0.0, preview_plot=0)\n",
    "        lfc.wsp.setBandPass(span=5)# ws.plotStatus()\n",
    "        lfc.wsp.writeProfile()\n",
    "        \n",
    "        pw_list = []\n",
    "        filename = f\"disp2_{disp2:.2f}_biaV_{biaV:.2f}_pwr_{lfc.ptamp.pwrAmp/1000:.2f}_A\"\n",
    "        spec = osa.get_trace('c', plot=False)\n",
    "        for kk in range(3):\n",
    "            pw,_, fig = osc.get_autocorr_FWHM_single(filename=filedir+filename+f\"_{kk+1:.0f}.mat\",\n",
    "                            fit_range=250,\n",
    "                            additional_plotdata=spec)\n",
    "            pw_list.append(pw)\n",
    "            plt.draw()\n",
    "        FWHM_list.append(pw_list)\n",
    "    result.append(FWHM_list)\n",
    "    \n",
    "to_save = {'result':result, 'biaV_list':biaV_list, 'disp2_list':disp2_list}\n",
    "from scipy.io import savemat\n",
    "savemat(filedir+'results.mat', to_save)\n",
    "\n",
    "fig"
   ]
  },
  {
   "cell_type": "code",
   "execution_count": null,
   "id": "8aca2c2b",
   "metadata": {},
   "outputs": [],
   "source": [
    "to_save = {'result':result, 'biaV_list':biaV_list, 'disp2_list':disp2_list}\n",
    "from scipy.io import savemat\n",
    "savemat(filedir+'results.mat', to_save)"
   ]
  },
  {
   "cell_type": "code",
   "execution_count": null,
   "id": "8dde06d0",
   "metadata": {},
   "outputs": [],
   "source": [
    "import matplotlib.pyplot as plt\n",
    "result_mean = np.mean(np.array(result),axis=2)\n",
    "biaV_idx, disp2_idx = np.unravel_index(np.argmin(result_mean), result_mean.shape)\n",
    "fig = plt.figure()\n",
    "plt.imshow(result_mean, cmap='Blues',vmin=0,extent=[disp2_list.min(),disp2_list.max(),biaV_list.min(),biaV_list.max()])\n",
    "plt.xlabel(\"disp2\")\n",
    "plt.ylabel(\"biaV\")\n",
    "plt.title(f\"min combFWHM {result_mean[biaV_idx, disp2_idx]:.3f} ps\\n\"+\n",
    "         f\"when biaV={biaV_list[biaV_idx]} V, disp2={disp2_list[disp2_idx]}\")\n",
    "plt.colorbar()\n",
    "# fig.show()\n",
    "fig.savefig(filedir+'results.png')"
   ]
  },
  {
   "cell_type": "code",
   "execution_count": null,
   "id": "7dac7620",
   "metadata": {},
   "outputs": [],
   "source": [
    "import numpy as np\n",
    "import matplotlib.pyplot as plt\n",
    "filedir = r\"Z:\\Maodong\\Projects\\Keck\\Compression Stage test\\20221009\\NIST20cm_2\\\\\"\n",
    "\n",
    "result = []\n",
    "biaV_list = np.linspace(0.8,1,5)\n",
    "disp2_list= np.linspace(1.9,2.1,5)\n",
    "for jj, disp2 in enumerate(disp2_list):\n",
    "    lfc.wsp.set3rdDisper(d2=disp2, d3= -0.0, preview_plot=0)\n",
    "    lfc.wsp.setBandPass(span=5)# ws.plotStatus()\n",
    "    lfc.wsp.writeProfile()\n",
    "\n",
    "    FWHM_list = []\n",
    "    for ii,biaV in enumerate(biaV_list):\n",
    "        lfc.RFoscPS.Vset1 = biaV\n",
    "        \n",
    "        pw_list = []\n",
    "        \n",
    "        filename = f\"disp2_{disp2:.2f}_biaV_{biaV:.2f}_pwr_{lfc.ptamp.pwrAmp/1000:.2f}_A\"\n",
    "        spec = osa.get_trace('c', plot=False)\n",
    "        for kk in range(3):\n",
    "            pw,_, fig = osc.get_autocorr_FWHM_single(filename=filedir+filename+f\"_{kk+1:.0f}.mat\",\n",
    "                            fit_range=250,\n",
    "                            additional_plotdata=spec)\n",
    "            pw_list.append(pw)\n",
    "            plt.draw()\n",
    "        FWHM_list.append(pw_list)\n",
    "    result.append(FWHM_list)\n",
    "    \n",
    "to_save = {'result':result, 'biaV_list':biaV_list, 'disp2_list':disp2_list}\n",
    "from scipy.io import savemat\n",
    "savemat(filedir+'results.mat', to_save)"
   ]
  },
  {
   "cell_type": "code",
   "execution_count": null,
   "id": "c24d242d",
   "metadata": {},
   "outputs": [],
   "source": []
  },
  {
   "cell_type": "code",
   "execution_count": null,
   "id": "07df06cd",
   "metadata": {},
   "outputs": [],
   "source": [
    "from LFC.Hardware.SRS_SIM900 import SRS_SIM900, SRS_PIDcontrol_SIM960, SRS_VoltSorc_SIM928\n",
    "\n",
    "srs = SRS_SIM900(addr='ASRL21::INSTR')\n",
    "srs.connect()\n",
    "servo1 = SRS_PIDcontrol_SIM960(srs,1,name=\"SIM960 1st\")\n",
    "servo2 = SRS_PIDcontrol_SIM960(srs,3,name=\"FC locking PID controller\")\n",
    "servo3 = SRS_PIDcontrol_SIM960(srs,5,name=\"SIM960 3rd\")\n",
    "\n",
    "# servo3.printStatus()\n",
    "\n",
    "# servo1.manual_output=2\n",
    "# servo1.output_mode=1"
   ]
  },
  {
   "cell_type": "code",
   "execution_count": null,
   "id": "62545d84",
   "metadata": {},
   "outputs": [],
   "source": [
    "servo2.printStatus()"
   ]
  },
  {
   "cell_type": "code",
   "execution_count": null,
   "id": "af61e9b0",
   "metadata": {},
   "outputs": [],
   "source": [
    "# servo2.printStatus()\n",
    "voltage_list = np.linspace(-5,5,500)\n",
    "r = servo2.manual_sweep(voltage_list, start_pause=0.5, interval_pause=0.1)"
   ]
  },
  {
   "cell_type": "code",
   "execution_count": null,
   "id": "c2ec9840",
   "metadata": {},
   "outputs": [],
   "source": [
    "balabala suo"
   ]
  }
 ],
 "metadata": {
  "kernelspec": {
   "display_name": "Python 3 (ipykernel)",
   "language": "python",
   "name": "python3"
  },
  "language_info": {
   "codemirror_mode": {
    "name": "ipython",
    "version": 3
   },
   "file_extension": ".py",
   "mimetype": "text/x-python",
   "name": "python",
   "nbconvert_exporter": "python",
   "pygments_lexer": "ipython3",
   "version": "3.8.12"
  }
 },
 "nbformat": 4,
 "nbformat_minor": 5
}
