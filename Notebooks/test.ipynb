{
 "cells": [
  {
   "cell_type": "code",
   "execution_count": 10,
   "metadata": {},
   "outputs": [
    {
     "name": "stderr",
     "output_type": "stream",
     "text": [
      "\u001b[32m2024-02-22 14:34:13.696\u001b[0m | \u001b[1mINFO    \u001b[0m | \u001b[36mArduino Relay Circuit\u001b[0m | \u001b[36mArduino_relay.py\u001b[0m:\u001b[36mconnect\u001b[0m:\u001b[36m52\u001b[0m\n",
      "\u001b[1mArduino Relay Circuit connected\u001b[0m\n",
      "\u001b[32m2024-02-22 14:34:14.099\u001b[0m | \u001b[1mINFO    \u001b[0m | \u001b[36mArduino Relay Circuit\u001b[0m | \u001b[36mArduino_relay.py\u001b[0m:\u001b[36mquery\u001b[0m:\u001b[36m90\u001b[0m\n",
      "\u001b[1mArduino Relay Circuit: Failed to query get, trial num 1, trying again\u001b[0m\n",
      "\u001b[32m2024-02-22 14:34:14.301\u001b[0m | \u001b[1mINFO    \u001b[0m | \u001b[36mArduino Relay Circuit\u001b[0m | \u001b[36mArduino_relay.py\u001b[0m:\u001b[36mquery\u001b[0m:\u001b[36m90\u001b[0m\n",
      "\u001b[1mArduino Relay Circuit: Failed to query get, trial num 2, trying again\u001b[0m\n",
      "\u001b[32m2024-02-22 14:34:14.502\u001b[0m | \u001b[1mINFO    \u001b[0m | \u001b[36mArduino Relay Circuit\u001b[0m | \u001b[36mArduino_relay.py\u001b[0m:\u001b[36mquery\u001b[0m:\u001b[36m90\u001b[0m\n",
      "\u001b[1mArduino Relay Circuit: Failed to query get, trial num 3, trying again\u001b[0m\n",
      "\u001b[32m2024-02-22 14:34:14.904\u001b[0m | \u001b[1mINFO    \u001b[0m | \u001b[36mArduino Relay Circuit\u001b[0m | \u001b[36mArduino_relay.py\u001b[0m:\u001b[36mprintStatus\u001b[0m:\u001b[36m43\u001b[0m\n",
      "\u001b[1m----------------------Arduino Relay Module Status Summary-----------------------\n",
      "|\t Relay Status: relay is \u001b[1;34;41m STOPPING \u001b[0m amplifier, but will be \u001b[1;34;42m OK_to_Amplify \u001b[0m after reset_relay_latch.\n",
      "|\t Relay Info: get\n",
      "|\t\tNow voltage is 439\n",
      "|\t\tNow voltage to judge (low) is 0\n",
      "|\t\tNow voltage to judge (high) is 1024\n",
      "|\t\tLow Threshold is 317\n",
      "|\t\tHigh Threshold is 690\n",
      "|\t YJ Shutter State: YJState\n",
      "|\t\tYJ shutter is DOWN, YJ is \u001b[1;34;42m passing \u001b[0m.\n",
      "--------------------Arduino Relay Module Status Summary Ends--------------------\u001b[0m\n"
     ]
    },
    {
     "data": {
      "text/plain": [
       "'----------------------Arduino Relay Module Status Summary-----------------------\\n|\\t Relay Status: relay is \\x1b[1;34;41m STOPPING \\x1b[0m amplifier, but will be \\x1b[1;34;42m OK_to_Amplify \\x1b[0m after reset_relay_latch.\\n|\\t Relay Info: get\\r\\r\\n|\\t\\tNow voltage is 439\\r\\n|\\t\\tNow voltage to judge (low) is 0\\r\\n|\\t\\tNow voltage to judge (high) is 1024\\r\\n|\\t\\tLow Threshold is 317\\r\\n|\\t\\tHigh Threshold is 690\\n|\\t YJ Shutter State: YJState\\r\\r\\n|\\t\\tYJ shutter is DOWN, YJ is \\x1b[1;34;42m passing \\x1b[0m.\\n--------------------Arduino Relay Module Status Summary Ends--------------------'"
      ]
     },
     "execution_count": 10,
     "metadata": {},
     "output_type": "execute_result"
    }
   ],
   "source": [
    "from KeckLFC.Hardware.Arduino_relay import Arduino_relay\n",
    "arduino = Arduino_relay(addr=\"COM3\")\n",
    "# print(f'com={i}')\n",
    "arduino.connect()\n",
    "arduino.printStatus()\n",
    "\n",
    "\n",
    "# for i in range(3,23):\n",
    "#     try:\n",
    "#         arduino = Arduino_relay(addr=f\"COM{i}\")\n",
    "#         # print(f'com={i}')\n",
    "#         arduino.connect()\n",
    "#         arduino.printStatus()\n",
    "#     except:\n",
    "#         arduino.disconnect()\n",
    "#         print(f'com={i} failed')"
   ]
  },
  {
   "cell_type": "code",
   "execution_count": 11,
   "metadata": {},
   "outputs": [
    {
     "name": "stderr",
     "output_type": "stream",
     "text": [
      "\u001b[32m2024-02-22 14:34:26.276\u001b[0m | \u001b[1mINFO    \u001b[0m | \u001b[36mArduino Relay Circuit\u001b[0m | \u001b[36mArduino_relay.py\u001b[0m:\u001b[36mprintStatus\u001b[0m:\u001b[36m43\u001b[0m\n",
      "\u001b[1m----------------------Arduino Relay Module Status Summary-----------------------\n",
      "|\t Relay Status: relay sending \u001b[1;34;42m OK_to_Amplify \u001b[0m signal to amplifier\n",
      "|\t Relay Info: get\n",
      "|\t\tNow voltage is 454\n",
      "|\t\tNow voltage to judge (low) is 439\n",
      "|\t\tNow voltage to judge (high) is 456\n",
      "|\t\tLow Threshold is 317\n",
      "|\t\tHigh Threshold is 690\n",
      "|\t YJ Shutter State: YJState\n",
      "|\t\tYJ shutter is DOWN, YJ is \u001b[1;34;42m passing \u001b[0m.\n",
      "--------------------Arduino Relay Module Status Summary Ends--------------------\u001b[0m\n"
     ]
    },
    {
     "data": {
      "text/plain": [
       "'----------------------Arduino Relay Module Status Summary-----------------------\\n|\\t Relay Status: relay sending \\x1b[1;34;42m OK_to_Amplify \\x1b[0m signal to amplifier\\n|\\t Relay Info: get\\r\\r\\n|\\t\\tNow voltage is 454\\r\\n|\\t\\tNow voltage to judge (low) is 439\\r\\n|\\t\\tNow voltage to judge (high) is 456\\r\\n|\\t\\tLow Threshold is 317\\r\\n|\\t\\tHigh Threshold is 690\\n|\\t YJ Shutter State: YJState\\r\\r\\n|\\t\\tYJ shutter is DOWN, YJ is \\x1b[1;34;42m passing \\x1b[0m.\\n--------------------Arduino Relay Module Status Summary Ends--------------------'"
      ]
     },
     "execution_count": 11,
     "metadata": {},
     "output_type": "execute_result"
    }
   ],
   "source": [
    "arduino.reset_relay_latch()\n",
    "arduino.printStatus()"
   ]
  },
  {
   "cell_type": "code",
   "execution_count": 8,
   "metadata": {},
   "outputs": [
    {
     "data": {
      "text/plain": [
       "'COM3'"
      ]
     },
     "execution_count": 8,
     "metadata": {},
     "output_type": "execute_result"
    }
   ],
   "source": [
    "arduino.addr"
   ]
  },
  {
   "cell_type": "code",
   "execution_count": 1,
   "metadata": {},
   "outputs": [
    {
     "data": {
      "text/plain": [
       "Serial<id=0x26872797f10, open=True>(port='COM3', baudrate=9600, bytesize=8, parity='N', stopbits=1, timeout=1, xonxoff=False, rtscts=False, dsrdtr=False)"
      ]
     },
     "execution_count": 1,
     "metadata": {},
     "output_type": "execute_result"
    }
   ],
   "source": [
    "# import serial\n",
    "\n",
    "# serial.Serial(port='COM3', timeout=1, baudrate=9600)"
   ]
  },
  {
   "cell_type": "code",
   "execution_count": null,
   "metadata": {},
   "outputs": [],
   "source": []
  },
  {
   "cell_type": "code",
   "execution_count": 1,
   "metadata": {},
   "outputs": [
    {
     "ename": "NameError",
     "evalue": "name 'Arduino_relay' is not defined",
     "output_type": "error",
     "traceback": [
      "\u001b[1;31m---------------------------------------------------------------------------\u001b[0m",
      "\u001b[1;31mNameError\u001b[0m                                 Traceback (most recent call last)",
      "Cell \u001b[1;32mIn[1], line 1\u001b[0m\n\u001b[1;32m----> 1\u001b[0m arduino \u001b[38;5;241m=\u001b[39m \u001b[43mArduino_relay\u001b[49m(addr\u001b[38;5;241m=\u001b[39m\u001b[38;5;124m\"\u001b[39m\u001b[38;5;124mCOM3\u001b[39m\u001b[38;5;124m\"\u001b[39m)\n\u001b[0;32m      2\u001b[0m arduino\u001b[38;5;241m.\u001b[39mconnect()\n\u001b[0;32m      3\u001b[0m \u001b[38;5;66;03m# arduino.printStatus()\u001b[39;00m\n",
      "\u001b[1;31mNameError\u001b[0m: name 'Arduino_relay' is not defined"
     ]
    }
   ],
   "source": [
    "# from KeckLFC.Hardware.Arduino_relay \n",
    "arduino = Arduino_relay(addr=\"COM3\")\n",
    "arduino.connect()\n",
    "# arduino.printStatus()"
   ]
  },
  {
   "cell_type": "code",
   "execution_count": 13,
   "metadata": {},
   "outputs": [
    {
     "name": "stderr",
     "output_type": "stream",
     "text": [
      "\u001b[32m2024-02-14 20:23:55.047\u001b[0m | \u001b[1mINFO    \u001b[0m | \u001b[36mORION Laser Module\u001b[0m | \u001b[36mDevice.py\u001b[0m:\u001b[36mconnect\u001b[0m:\u001b[36m78\u001b[0m\n",
      "\u001b[1mORION Laser Module connected\u001b[0m\n"
     ]
    },
    {
     "name": "stdout",
     "output_type": "stream",
     "text": [
      "0\n",
      "1\n",
      "0\n"
     ]
    },
    {
     "name": "stderr",
     "output_type": "stream",
     "text": [
      "\u001b[32m2024-02-14 20:23:56.388\u001b[0m | \u001b[1mINFO    \u001b[0m | \u001b[36mORION Laser Module\u001b[0m | \u001b[36mORIONLaser.py\u001b[0m:\u001b[36mprintStatus\u001b[0m:\u001b[36m60\u001b[0m\n",
      "\u001b[1m-----------------------ORION Laser Module Status Summary------------------------\n",
      "-------------Product ID: RIO0175-5-01-4-AW2, Ver 0.11.7, SN: 806734-------------\n",
      "|\t Status Code: bytearray(b'\\x00\\x01\\x00\\x01\\x00\\x01')\n",
      "|\t Photo monitor voltage: 0.993 Volt (also mA, r=1kOhm)\n",
      "|\t Board Temp:   19.8652 °C\n",
      "|\t Thermis Temp: 18.9364 °C\n",
      "|\t Volatile Settings (reset to non-volatile after re-plug): \n",
      "|\t\t Diode Cur = 160.0000 mA, TEC Set = 19.181°C\n",
      "|\t Non Volatile Settings (Doesn't reset after re-plug): \n",
      "|\t\t Diode Cur = 150.0000 mA, TEC Set = 19.181°C\n",
      "---------------------ORION Laser Module Status Summary Ends---------------------\u001b[0m\n"
     ]
    },
    {
     "data": {
      "text/plain": [
       "\"-----------------------ORION Laser Module Status Summary------------------------\\n-------------Product ID: RIO0175-5-01-4-AW2, Ver 0.11.7, SN: 806734-------------\\n|\\t Status Code: bytearray(b'\\\\x00\\\\x01\\\\x00\\\\x01\\\\x00\\\\x01')\\n|\\t Photo monitor voltage: 0.993 Volt (also mA, r=1kOhm)\\n|\\t Board Temp:   19.8652 °C\\n|\\t Thermis Temp: 18.9364 °C\\n|\\t Volatile Settings (reset to non-volatile after re-plug): \\n|\\t\\t Diode Cur = 160.0000 mA, TEC Set = 19.181°C\\n|\\t Non Volatile Settings (Doesn't reset after re-plug): \\n|\\t\\t Diode Cur = 150.0000 mA, TEC Set = 19.181°C\\n---------------------ORION Laser Module Status Summary Ends---------------------\""
      ]
     },
     "execution_count": 13,
     "metadata": {},
     "output_type": "execute_result"
    }
   ],
   "source": [
    "from KeckLFC.Hardware.ORIONLaser import ORIONLaser\n",
    "rio = ORIONLaser(addr=f'ASRL{14}::INSTR')\n",
    "rio.connect()\n",
    "rio.printStatus()"
   ]
  },
  {
   "cell_type": "code",
   "execution_count": 9,
   "metadata": {},
   "outputs": [
    {
     "name": "stdout",
     "output_type": "stream",
     "text": [
      "150.0mA\n"
     ]
    }
   ],
   "source": [
    "ii=rio.readLaserdiodeCur_mA()\n",
    "print(f'{ii}mA')"
   ]
  },
  {
   "cell_type": "code",
   "execution_count": 12,
   "metadata": {},
   "outputs": [
    {
     "name": "stdout",
     "output_type": "stream",
     "text": [
      "150.0mA\n"
     ]
    }
   ],
   "source": [
    "rio.writeLaserdiodeCur_mA(160)\n",
    "ii=rio.readLaserdiodeCur_mA()\n",
    "print(f'{ii}mA')\n",
    "rio."
   ]
  },
  {
   "cell_type": "code",
   "execution_count": null,
   "metadata": {},
   "outputs": [],
   "source": [
    "from KeckLFC.Hardware.ORIONLaser import ORIONLaser\n",
    "\n",
    "for i in range(3,23):\n",
    "    try:\n",
    "        rio = ORIONLaser(addr=f'ASRL{i}::INSTR')\n",
    "        rio.connect()\n",
    "        rio.printStatus()\n",
    "        print(f'com={i} success')\n",
    "        # arduino = Arduino_relay(addr=f\"COM{i}\")\n",
    "        # # print(f'com={i}')\n",
    "        # arduino.connect()\n",
    "        # arduino.printStatus()\n",
    "    except:\n",
    "        arduino.disconnect()\n",
    "        print(f'com={i} failed')\n"
   ]
  },
  {
   "cell_type": "code",
   "execution_count": 36,
   "metadata": {},
   "outputs": [
    {
     "name": "stderr",
     "output_type": "stream",
     "text": [
      "\u001b[32m2024-02-14 20:33:36.830\u001b[0m | \u001b[1mINFO    \u001b[0m | \u001b[36mAmonics EDFA 27 dBm\u001b[0m | \u001b[36mDevice.py\u001b[0m:\u001b[36mconnect\u001b[0m:\u001b[36m78\u001b[0m\n",
      "\u001b[1mAmonics EDFA 27 dBm connected\u001b[0m\n"
     ]
    },
    {
     "name": "stderr",
     "output_type": "stream",
     "text": [
      "\u001b[32m2024-02-14 20:33:37.181\u001b[0m | \u001b[1mINFO    \u001b[0m | \u001b[36mAmonics EDFA 27 dBm\u001b[0m | \u001b[36mAmonicsEDFA.py\u001b[0m:\u001b[36mprintStatus\u001b[0m:\u001b[36m49\u001b[0m\n",
      "\u001b[1m-------------------------------Amonics EDFA 27 dBm-------------------------------\n",
      "|--------------------------Amonics EDFA Status Summary---------------------------\n",
      "|------------------Model: AEDFA-PM-27-R-FA, Serial No.21082531-------------------\n",
      "|\tInterLock Status: \u001b[1;34;42mUNLOCKED\u001b[0m\n",
      "|\tCase Temperature: 24.06°C\n",
      "|\tMaster Activation: \u001b[1;34;41mOFF\u001b[0m\n",
      "|\t------------Channel Summary-------------\n",
      "|\t CHANNEL1: \n",
      "|\t\t Mode: ACC\n",
      "|\t\t Set Cur: 0.0 mA\n",
      "|\t\t Status: \u001b[1;34;41mOFF\u001b[0m\n",
      "|\t\t Input Power: 18.27549 mW\n",
      "|\t\t Output Power: 0.0 mW\n",
      "|\t\t Internal PD Power: 0.0 mW\n",
      "------------------------Amonics EDFA Status Summary Ends------------------------\n",
      "\u001b[0m\n"
     ]
    },
    {
     "data": {
      "text/plain": [
       "'-------------------------------Amonics EDFA 27 dBm-------------------------------\\n|--------------------------Amonics EDFA Status Summary---------------------------\\n|------------------Model: AEDFA-PM-27-R-FA, Serial No.21082531-------------------\\n|\\tInterLock Status: \\x1b[1;34;42mUNLOCKED\\x1b[0m\\n|\\tCase Temperature: 24.06°C\\n|\\tMaster Activation: \\x1b[1;34;41mOFF\\x1b[0m\\n|\\t------------Channel Summary-------------\\n|\\t CHANNEL1: \\n|\\t\\t Mode: ACC\\n|\\t\\t Set Cur: 0.0 mA\\n|\\t\\t Status: \\x1b[1;34;41mOFF\\x1b[0m\\n|\\t\\t Input Power: 18.27549 mW\\n|\\t\\t Output Power: 0.0 mW\\n|\\t\\t Internal PD Power: 0.0 mW\\n------------------------Amonics EDFA Status Summary Ends------------------------\\n'"
      ]
     },
     "execution_count": 36,
     "metadata": {},
     "output_type": "execute_result"
    }
   ],
   "source": [
    "from KeckLFC.Hardware.AmonicsEDFA import AmonicsEDFA\n",
    "amonic27 = AmonicsEDFA(addr=f'ASRL{6}::INSTR', name='Amonics EDFA 27 dBm')\n",
    "amonic27.connect()\n",
    "amonic27.printStatus()\n"
   ]
  },
  {
   "cell_type": "code",
   "execution_count": 35,
   "metadata": {},
   "outputs": [
    {
     "name": "stderr",
     "output_type": "stream",
     "text": [
      "\u001b[32m2024-02-14 20:33:33.581\u001b[0m | \u001b[1mINFO    \u001b[0m | \u001b[36mAmonics EDFA 27 dBm\u001b[0m | \u001b[36mAmonicsEDFA.py\u001b[0m:\u001b[36m_setChStatus\u001b[0m:\u001b[36m278\u001b[0m\n",
      "\u001b[1mAmonics EDFA 27 dBm: ......waiting ACC CH1 status set to OFF, now ON\u001b[0m\n",
      "\u001b[32m2024-02-14 20:33:33.629\u001b[0m | \u001b[1mINFO    \u001b[0m | \u001b[36mAmonics EDFA 27 dBm\u001b[0m | \u001b[36mAmonicsEDFA.py\u001b[0m:\u001b[36m_setChStatus\u001b[0m:\u001b[36m281\u001b[0m\n",
      "\u001b[1mAmonics EDFA 27 dBm: setted ACC CH1 status as OFF, finished in 0.080 seconds\u001b[0m\n"
     ]
    }
   ],
   "source": [
    "amonic27.accCh1Status=0"
   ]
  },
  {
   "cell_type": "code",
   "execution_count": 9,
   "metadata": {},
   "outputs": [
    {
     "name": "stderr",
     "output_type": "stream",
     "text": [
      "\u001b[32m2023-12-11 14:14:24.165\u001b[0m | \u001b[1mINFO    \u001b[0m | \u001b[36mAmonics EDFA 23 dBm\u001b[0m | \u001b[36mDevice.py\u001b[0m:\u001b[36mconnect\u001b[0m:\u001b[36m78\u001b[0m\n",
      "\u001b[1mAmonics EDFA 23 dBm connected\u001b[0m\n",
      "\u001b[32m2023-12-11 14:14:30.439\u001b[0m | \u001b[1mINFO    \u001b[0m | \u001b[36mAmonics EDFA 23 dBm\u001b[0m | \u001b[36mAmonicsEDFA.py\u001b[0m:\u001b[36mprintStatus\u001b[0m:\u001b[36m49\u001b[0m\n",
      "\u001b[1m-------------------------------Amonics EDFA 23 dBm-------------------------------\n",
      "|--------------------------Amonics EDFA Status Summary---------------------------\n",
      "|------------------Model: AEDFA-PM-23-R-FA, Serial No.22020702-------------------\n",
      "|\tInterLock Status: \u001b[1;34;42mUNLOCKED\u001b[0m\n",
      "|\tCase Temperature: 28.62°C\n",
      "|\tMaster Activation: \u001b[1;34;41mOFF\u001b[0m\n",
      "|\t------------Channel Summary-------------\n",
      "|\t CHANNEL1: \n",
      "|\t\t Mode: ACC\n",
      "|\t\t Set Cur: 0.0 mA\n",
      "|\t\t Status: \u001b[1;34;41mOFF\u001b[0m\n",
      "|\t\t Input Power: 0.0 mW\n",
      "|\t\t Output Power: 0.0 mW\n",
      "|\t\t Internal PD Power: 0.0 mW\n",
      "------------------------Amonics EDFA Status Summary Ends------------------------\n",
      "\u001b[0m\n"
     ]
    },
    {
     "data": {
      "text/plain": [
       "'-------------------------------Amonics EDFA 23 dBm-------------------------------\\n|--------------------------Amonics EDFA Status Summary---------------------------\\n|------------------Model: AEDFA-PM-23-R-FA, Serial No.22020702-------------------\\n|\\tInterLock Status: \\x1b[1;34;42mUNLOCKED\\x1b[0m\\n|\\tCase Temperature: 28.62°C\\n|\\tMaster Activation: \\x1b[1;34;41mOFF\\x1b[0m\\n|\\t------------Channel Summary-------------\\n|\\t CHANNEL1: \\n|\\t\\t Mode: ACC\\n|\\t\\t Set Cur: 0.0 mA\\n|\\t\\t Status: \\x1b[1;34;41mOFF\\x1b[0m\\n|\\t\\t Input Power: 0.0 mW\\n|\\t\\t Output Power: 0.0 mW\\n|\\t\\t Internal PD Power: 0.0 mW\\n------------------------Amonics EDFA Status Summary Ends------------------------\\n'"
      ]
     },
     "execution_count": 9,
     "metadata": {},
     "output_type": "execute_result"
    }
   ],
   "source": [
    "from KeckLFC.Hardware.AmonicsEDFA import AmonicsEDFA\n",
    "amonic23 = AmonicsEDFA(addr=f'ASRL{12}::INSTR', name='Amonics EDFA 23 dBm')\n",
    "amonic23.connect()\n",
    "amonic23.printStatus()"
   ]
  },
  {
   "cell_type": "code",
   "execution_count": 10,
   "metadata": {},
   "outputs": [
    {
     "name": "stderr",
     "output_type": "stream",
     "text": [
      "\u001b[32m2023-12-11 14:14:34.664\u001b[0m | \u001b[1mINFO    \u001b[0m | \u001b[36mAmonics EDFA 13 dBm\u001b[0m | \u001b[36mDevice.py\u001b[0m:\u001b[36mconnect\u001b[0m:\u001b[36m78\u001b[0m\n",
      "\u001b[1mAmonics EDFA 13 dBm connected\u001b[0m\n",
      "\u001b[32m2023-12-11 14:14:40.956\u001b[0m | \u001b[1mINFO    \u001b[0m | \u001b[36mAmonics EDFA 13 dBm\u001b[0m | \u001b[36mAmonicsEDFA.py\u001b[0m:\u001b[36mprintStatus\u001b[0m:\u001b[36m49\u001b[0m\n",
      "\u001b[1m-------------------------------Amonics EDFA 13 dBm-------------------------------\n",
      "|--------------------------Amonics EDFA Status Summary---------------------------\n",
      "|------------------Model: AEDFA-PM-13-R-FA, Serial No.22020701-------------------\n",
      "|\tInterLock Status: \u001b[1;34;42mUNLOCKED\u001b[0m\n",
      "|\tCase Temperature: 27.56°C\n",
      "|\tMaster Activation: \u001b[1;34;41mOFF\u001b[0m\n",
      "|\t------------Channel Summary-------------\n",
      "|\t CHANNEL1: \n",
      "|\t\t Mode: ACC\n",
      "|\t\t Set Cur: 0.0 mA\n",
      "|\t\t Status: \u001b[1;34;41mOFF\u001b[0m\n",
      "|\t\t Input Power: 0.0 mW\n",
      "|\t\t Output Power: 0.0 mW\n",
      "|\t\t Internal PD Power: 0.0 mW\n",
      "------------------------Amonics EDFA Status Summary Ends------------------------\n",
      "\u001b[0m\n"
     ]
    },
    {
     "data": {
      "text/plain": [
       "'-------------------------------Amonics EDFA 13 dBm-------------------------------\\n|--------------------------Amonics EDFA Status Summary---------------------------\\n|------------------Model: AEDFA-PM-13-R-FA, Serial No.22020701-------------------\\n|\\tInterLock Status: \\x1b[1;34;42mUNLOCKED\\x1b[0m\\n|\\tCase Temperature: 27.56°C\\n|\\tMaster Activation: \\x1b[1;34;41mOFF\\x1b[0m\\n|\\t------------Channel Summary-------------\\n|\\t CHANNEL1: \\n|\\t\\t Mode: ACC\\n|\\t\\t Set Cur: 0.0 mA\\n|\\t\\t Status: \\x1b[1;34;41mOFF\\x1b[0m\\n|\\t\\t Input Power: 0.0 mW\\n|\\t\\t Output Power: 0.0 mW\\n|\\t\\t Internal PD Power: 0.0 mW\\n------------------------Amonics EDFA Status Summary Ends------------------------\\n'"
      ]
     },
     "execution_count": 10,
     "metadata": {},
     "output_type": "execute_result"
    }
   ],
   "source": [
    "from KeckLFC.Hardware.AmonicsEDFA import AmonicsEDFA\n",
    "amonic13 = AmonicsEDFA(addr=f'ASRL{9}::INSTR', name='Amonics EDFA 13 dBm')\n",
    "amonic13.connect()\n",
    "amonic13.printStatus()"
   ]
  },
  {
   "cell_type": "code",
   "execution_count": null,
   "metadata": {},
   "outputs": [],
   "source": [
    "from KeckLFC.Hardware.AmonicsEDFA import AmonicsEDFA\n",
    "\n",
    "for i in range(3,23):\n",
    "    try:\n",
    "        amonic23 = AmonicsEDFA(addr=f'ASRL{i}::INSTR', name='Amonics EDFA 23 dBm')\n",
    "        amonic23.connect()\n",
    "        amonic23.printStatus()\n",
    "        print(f'com={i} success')\n",
    "        # arduino = Arduino_relay(addr=f\"COM{i}\")\n",
    "        # # print(f'com={i}')\n",
    "        # arduino.connect()\n",
    "        # arduino.printStatus()\n",
    "    except:\n",
    "        \n",
    "        print(f'com={i} failed')\n",
    "\n"
   ]
  },
  {
   "cell_type": "code",
   "execution_count": null,
   "metadata": {},
   "outputs": [],
   "source": []
  },
  {
   "cell_type": "code",
   "execution_count": 9,
   "metadata": {},
   "outputs": [
    {
     "name": "stderr",
     "output_type": "stream",
     "text": [
      "\u001b[32m2024-02-14 16:57:23.933\u001b[0m | \u001b[1mINFO    \u001b[0m | \u001b[36mRF oscilator PS, CH2 15V, CH3 1V\u001b[0m | \u001b[36mDevice.py\u001b[0m:\u001b[36mconnect\u001b[0m:\u001b[36m78\u001b[0m\n",
      "\u001b[1mRF oscilator PS, CH2 15V, CH3 1V connected\u001b[0m\n"
     ]
    },
    {
     "name": "stderr",
     "output_type": "stream",
     "text": [
      "\u001b[32m2024-02-14 16:57:27.121\u001b[0m | \u001b[1mINFO    \u001b[0m | \u001b[36mRF oscilator PS, CH2 15V, CH3 1V\u001b[0m | \u001b[36mInstekGPD_4303S.py\u001b[0m:\u001b[36mprintStatus\u001b[0m:\u001b[36m200\u001b[0m\n",
      "\u001b[1m-------------------------RF oscilator PS, CH2 15V, CH3 1V------------------------\n",
      "|----------------Instek DC Power Supply GPD-4303S Status Summary-----------------\n",
      "|--------------------Model: GPD-4303S, Serial No.SN:EV884423---------------------\n",
      "|\tMaster Activation: \u001b[1;34;41mOFF\u001b[0m\n",
      "|\t------------Channel Summary-------------\n",
      "|\t CH1: master, CH2: slave, mode UNRECOGNIZED?.\n",
      "|\t CHANNEL1: CC Mode.\n",
      "|\t\t VSET=0.000V, ISET=0.000A.\n",
      "|\t\t VOUT=0.000V, IOUT=0.000A.\n",
      "|\t\t Output power: 0.000W.\n",
      "|\t CHANNEL2: CC Mode.\n",
      "|\t\t VSET=15.000V, ISET=3.000A.\n",
      "|\t\t VOUT=0.000V, IOUT=0.000A.\n",
      "|\t\t Output power: 0.000W.\n",
      "|\t CHANNEL3: CC Mode.\n",
      "|\t\t VSET=0.900V, ISET=1.000A.\n",
      "|\t\t VOUT=0.000V, IOUT=0.000A.\n",
      "|\t\t Output power: 0.000W.\n",
      "|\t CHANNEL4: CV Mode.\n",
      "|\t\t VSET=0.000V, ISET=0.000A.\n",
      "|\t\t VOUT=0.000V, IOUT=0.000A.\n",
      "|\t\t Output power: 0.000W.\n",
      "--------------Instek DC Power Supply GPD-4303S Status Summary Ends--------------\n",
      "\u001b[0m\n"
     ]
    },
    {
     "data": {
      "text/plain": [
       "'-------------------------RF oscilator PS, CH2 15V, CH3 1V------------------------\\n|----------------Instek DC Power Supply GPD-4303S Status Summary-----------------\\n|--------------------Model: GPD-4303S, Serial No.SN:EV884423---------------------\\n|\\tMaster Activation: \\x1b[1;34;41mOFF\\x1b[0m\\n|\\t------------Channel Summary-------------\\n|\\t CH1: master, CH2: slave, mode UNRECOGNIZED?.\\n|\\t CHANNEL1: CC Mode.\\n|\\t\\t VSET=0.000V, ISET=0.000A.\\n|\\t\\t VOUT=0.000V, IOUT=0.000A.\\n|\\t\\t Output power: 0.000W.\\n|\\t CHANNEL2: CC Mode.\\n|\\t\\t VSET=15.000V, ISET=3.000A.\\n|\\t\\t VOUT=0.000V, IOUT=0.000A.\\n|\\t\\t Output power: 0.000W.\\n|\\t CHANNEL3: CC Mode.\\n|\\t\\t VSET=0.900V, ISET=1.000A.\\n|\\t\\t VOUT=0.000V, IOUT=0.000A.\\n|\\t\\t Output power: 0.000W.\\n|\\t CHANNEL4: CV Mode.\\n|\\t\\t VSET=0.000V, ISET=0.000A.\\n|\\t\\t VOUT=0.000V, IOUT=0.000A.\\n|\\t\\t Output power: 0.000W.\\n--------------Instek DC Power Supply GPD-4303S Status Summary Ends--------------\\n'"
      ]
     },
     "execution_count": 9,
     "metadata": {},
     "output_type": "execute_result"
    }
   ],
   "source": [
    "from KeckLFC.Hardware.InstekGPD_4303S import InstekGPD_4303S\n",
    "rfoscPS = InstekGPD_4303S(addr='ASRL13::INSTR', name='RF oscilator PS, CH2 15V, CH3 1V')\n",
    "rfoscPS.connect()\n",
    "rfoscPS.printStatus()"
   ]
  },
  {
   "cell_type": "code",
   "execution_count": null,
   "metadata": {},
   "outputs": [],
   "source": [
    "rfoscPS."
   ]
  },
  {
   "cell_type": "code",
   "execution_count": 37,
   "metadata": {},
   "outputs": [
    {
     "name": "stderr",
     "output_type": "stream",
     "text": [
      "\u001b[32m2024-02-14 20:40:49.033\u001b[0m | \u001b[1mINFO    \u001b[0m | \u001b[36mRF amplifier PS 30V 4A\u001b[0m | \u001b[36mDevice.py\u001b[0m:\u001b[36mconnect\u001b[0m:\u001b[36m78\u001b[0m\n",
      "\u001b[1mRF amplifier PS 30V 4A connected\u001b[0m\n"
     ]
    },
    {
     "name": "stderr",
     "output_type": "stream",
     "text": [
      "\u001b[32m2024-02-14 20:40:49.181\u001b[0m | \u001b[1mINFO    \u001b[0m | \u001b[36mRF amplifier PS 30V 4A\u001b[0m | \u001b[36mInstekGppDCSupply.py\u001b[0m:\u001b[36mprintStatus\u001b[0m:\u001b[36m56\u001b[0m\n",
      "\u001b[1m------------------------------RF amplifier PS 30V 4A-----------------------------\n",
      "|-------------------Instek GPP DC Power Supply Status Summary--------------------\n",
      "|--------------------Model: GPP-1326, Serial No.SN:GET921679---------------------\n",
      "|\t------------Channel Summary-------------\n",
      "|\t CHANNEL1: Activation \u001b[1;34;41mOFF\u001b[0m.\n",
      "|\t\t VSET=0.000V, ISET=0.000A.\n",
      "|\t\t VOUT=0.000V, IOUT=0.000A.\n",
      "|\t\t Output power: 0.000W.\n",
      "|\t\t ---Over Voltage/Current Protection Status:---\n",
      "|\t\t OVP Status: OFF\t OCP Status: OFF \n",
      "|\t\t OVP Level : 35.0 V\t OCP Level : 7.0 A\n",
      "-----------------Instek GPP DC Power Supply Status Summary Ends-----------------\n",
      "\u001b[0m\n"
     ]
    },
    {
     "data": {
      "text/plain": [
       "'------------------------------RF amplifier PS 30V 4A-----------------------------\\n|-------------------Instek GPP DC Power Supply Status Summary--------------------\\n|--------------------Model: GPP-1326, Serial No.SN:GET921679---------------------\\n|\\t------------Channel Summary-------------\\n|\\t CHANNEL1: Activation \\x1b[1;34;41mOFF\\x1b[0m.\\n|\\t\\t VSET=0.000V, ISET=0.000A.\\n|\\t\\t VOUT=0.000V, IOUT=0.000A.\\n|\\t\\t Output power: 0.000W.\\n|\\t\\t ---Over Voltage/Current Protection Status:---\\n|\\t\\t OVP Status: OFF\\t OCP Status: OFF \\n|\\t\\t OVP Level : 35.0 V\\t OCP Level : 7.0 A\\n-----------------Instek GPP DC Power Supply Status Summary Ends-----------------\\n'"
      ]
     },
     "execution_count": 37,
     "metadata": {},
     "output_type": "execute_result"
    }
   ],
   "source": [
    "from KeckLFC.Hardware.InstekGppDCSupply import InstekGppDCSupply\n",
    "\n",
    "rfampPS = InstekGppDCSupply(addr=f'ASRL{4}::INSTR', name='RF amplifier PS 30V 4A')\n",
    "rfampPS.connect()\n",
    "rfampPS.printStatus()"
   ]
  },
  {
   "cell_type": "code",
   "execution_count": 38,
   "metadata": {},
   "outputs": [
    {
     "name": "stderr",
     "output_type": "stream",
     "text": [
      "\u001b[32m2024-02-14 20:41:16.553\u001b[0m | \u001b[1mINFO    \u001b[0m | \u001b[36mRF amplifier PS 30V 4A\u001b[0m | \u001b[36mInstekGppDCSupply.py\u001b[0m:\u001b[36m_setISET\u001b[0m:\u001b[36m260\u001b[0m\n",
      "\u001b[1mRF amplifier PS 30V 4A: ISET channel 1 set to 4.000A\u001b[0m\n"
     ]
    },
    {
     "name": "stdout",
     "output_type": "stream",
     "text": [
      "LFC_RFAMP_I : +0.0\n"
     ]
    }
   ],
   "source": [
    "rfampPS.Iout1=4\n",
    "rfampPS_p=rfampPS.Iout1\n",
    "rfampPS.Iset1\n",
    "print(f'LFC_RFAMP_I : +{rfampPS_p}')"
   ]
  },
  {
   "cell_type": "code",
   "execution_count": 11,
   "metadata": {},
   "outputs": [
    {
     "name": "stderr",
     "output_type": "stream",
     "text": [
      "\u001b[32m2023-12-11 14:21:01.854\u001b[0m | \u001b[1mINFO    \u001b[0m | \u001b[36mAgilent OSA 86142B\u001b[0m | \u001b[36mDevice.py\u001b[0m:\u001b[36mconnect\u001b[0m:\u001b[36m78\u001b[0m\n",
      "\u001b[1mAgilent OSA 86142B connected\u001b[0m\n"
     ]
    },
    {
     "data": {
      "text/plain": [
       "1"
      ]
     },
     "execution_count": 11,
     "metadata": {},
     "output_type": "execute_result"
    }
   ],
   "source": [
    "from KeckLFC.Hardware.Agilent_86142B import Agilent_86142B\n",
    "osa = Agilent_86142B(addr='GPIB0::30::INSTR', name='Agilent OSA 86142B')\n",
    "\n",
    "osa.connect()"
   ]
  },
  {
   "cell_type": "code",
   "execution_count": 12,
   "metadata": {},
   "outputs": [
    {
     "data": {
      "image/png": "[encoded data removed]",
      "text/plain": [
       "<Figure size 640x480 with 1 Axes>"
      ]
     },
     "metadata": {},
     "output_type": "display_data"
    },
    {
     "name": "stderr",
     "output_type": "stream",
     "text": [
      "\u001b[32m2023-12-11 14:21:32.231\u001b[0m | \u001b[1mINFO    \u001b[0m | \u001b[36mAgilent OSA 86142B\u001b[0m | \u001b[36mAgilent_86142B.py\u001b[0m:\u001b[36mget_trace\u001b[0m:\u001b[36m327\u001b[0m\n",
      "\u001b[1mAgilent OSA 86142B: Trace A data is collected and is shown in the plot.\u001b[0m\n"
     ]
    },
    {
     "data": {
      "text/plain": [
       "(array([ 600. ,  601.1,  602.2, ..., 1697.8, 1698.9, 1700. ], dtype=float32),\n",
       " array([-19.621677, -23.058325, -23.007591, ..., -39.214848, -37.032467,\n",
       "        -38.75223 ], dtype=float32))"
      ]
     },
     "execution_count": 12,
     "metadata": {},
     "output_type": "execute_result"
    }
   ],
   "source": [
    "osa.get_trace('a')"
   ]
  },
  {
   "cell_type": "code",
   "execution_count": 13,
   "metadata": {},
   "outputs": [
    {
     "name": "stderr",
     "output_type": "stream",
     "text": [
      "\u001b[32m2023-12-11 14:23:47.164\u001b[0m | \u001b[1mINFO    \u001b[0m | \u001b[36mPendulum CNT90\u001b[0m | \u001b[36mDevice.py\u001b[0m:\u001b[36mconnect\u001b[0m:\u001b[36m78\u001b[0m\n",
      "\u001b[1mPendulum CNT90 connected\u001b[0m\n"
     ]
    },
    {
     "data": {
      "text/plain": [
       "1"
      ]
     },
     "execution_count": 13,
     "metadata": {},
     "output_type": "execute_result"
    }
   ],
   "source": [
    "from KeckLFC.Hardware.PendulumCNT90 import PendulumCNT90\n",
    "cnt90 = PendulumCNT90(addr='GPIB0::10::INSTR', name='Pendulum CNT90')\n",
    "cnt90.connect()"
   ]
  },
  {
   "cell_type": "code",
   "execution_count": 14,
   "metadata": {},
   "outputs": [
    {
     "name": "stderr",
     "output_type": "stream",
     "text": [
      "\u001b[32m2023-12-11 14:24:00.530\u001b[0m | \u001b[31m\u001b[1mERROR   \u001b[0m | \u001b[36mPendulum CNT90\u001b[0m | \u001b[36mPendulumCNT90.py\u001b[0m:\u001b[36mmeasFreq\u001b[0m:\u001b[36m63\u001b[0m\n",
      "\u001b[31m\u001b[1mPendulum Freq Counter: Measurement not completed, check signal input.\u001b[0m\n"
     ]
    },
    {
     "data": {
      "text/plain": [
       "-1e-09"
      ]
     },
     "execution_count": 14,
     "metadata": {},
     "output_type": "execute_result"
    }
   ],
   "source": [
    "cnt90.measFreq('c')/1e9"
   ]
  },
  {
   "cell_type": "code",
   "execution_count": null,
   "metadata": {},
   "outputs": [],
   "source": []
  },
  {
   "cell_type": "code",
   "execution_count": 40,
   "metadata": {},
   "outputs": [
    {
     "name": "stderr",
     "output_type": "stream",
     "text": [
      "\u001b[32m2024-02-14 20:50:52.935\u001b[0m | \u001b[1mINFO    \u001b[0m | \u001b[36mStanford Research System SIM900\u001b[0m | \u001b[36mDevice.py\u001b[0m:\u001b[36mconnect\u001b[0m:\u001b[36m78\u001b[0m\n",
      "\u001b[1mStanford Research System SIM900 connected\u001b[0m\n"
     ]
    }
   ],
   "source": [
    "from KeckLFC.Hardware.SRS_SIM900 import SRS_SIM900, SRS_PIDcontrol_SIM960\n",
    "srs = SRS_SIM900(addr='GPIB0::2::INSTR')\n",
    "srs.connect()\n",
    "servo_FC = SRS_PIDcontrol_SIM960(srs, 1, name='Filter Cavity PDH Lock Servo')\n",
    "servo_IM = SRS_PIDcontrol_SIM960(srs, 3, name='Minicomb Intensity Lock Servo')\n",
    "servo_RB = SRS_PIDcontrol_SIM960(srs, 5, name='Rio Laser Fceo Rb spectroscopy Lock Servo')"
   ]
  },
  {
   "cell_type": "code",
   "execution_count": 12,
   "metadata": {},
   "outputs": [
    {
     "name": "stderr",
     "output_type": "stream",
     "text": [
      "\u001b[32m2024-02-14 19:28:09.731\u001b[0m | \u001b[1mINFO    \u001b[0m | \u001b[36mMinicomb Intensity Lock Servo\u001b[0m | \u001b[36mSRS_SIM900.py\u001b[0m:\u001b[36mprintStatus\u001b[0m:\u001b[36m201\u001b[0m\n",
      "\u001b[1m--------------------------Minicomb Intensity Lock Servo--------------------------\n",
      "|--------------------SRS PID controller SIM960 Status Summary--------------------\n",
      "|----------------------------SIM960,s/n033669,ver2.17----------------------------\n",
      "|\tOutput mode:\t\u001b[1;34;42mPID\u001b[0m,\tOutput limit: -4.000V TO 6.000V\n",
      "|\tMeasured input:\t -0.006253V\n",
      "|\tAmplified error:\t -3.074516V\n",
      "|\tInstant Output voltage:\t -3.996926V\n",
      "|\tManual output set:\t 2.54V\n",
      "|\t================ Set Point related================\n",
      "|\t\tInternal setpoint = 2.405 V, Ramping \u001b[1;34;41mOFF\u001b[0m\n",
      "|\t\tSetpoint input mode INT, Ext setpoint input 2.403815V\n",
      "|\t\tSetpoint RAMP speed = 0.01 V/s, action \u001b[1;34;41mOFF\u001b[0m\n",
      "|\t============= P,I,D and Offset Status=============\n",
      "|\t\t P = -2.0    , \taction = \u001b[1;34;42mON\u001b[0m\n",
      "|\t\t I = 1.0 1/s, \taction = \u001b[1;34;42mON\u001b[0m\n",
      "|\t\t D = 1e-05   s, \taction = \u001b[1;34;41mOFF\u001b[0m\n",
      "|\t\tOff = 2.41  V, \taction = \u001b[1;34;42mON\u001b[0m\n",
      "-----------------SRS PID controller SIM960 Status Summary Ends------------------\n",
      "\u001b[0m\n"
     ]
    },
    {
     "data": {
      "text/plain": [
       "'--------------------------Minicomb Intensity Lock Servo--------------------------\\n|--------------------SRS PID controller SIM960 Status Summary--------------------\\n|----------------------------SIM960,s/n033669,ver2.17----------------------------\\n|\\tOutput mode:\\t\\x1b[1;34;42mPID\\x1b[0m,\\tOutput limit: -4.000V TO 6.000V\\n|\\tMeasured input:\\t -0.006253V\\n|\\tAmplified error:\\t -3.074516V\\n|\\tInstant Output voltage:\\t -3.996926V\\n|\\tManual output set:\\t 2.54V\\n|\\t================ Set Point related================\\n|\\t\\tInternal setpoint = 2.405 V, Ramping \\x1b[1;34;41mOFF\\x1b[0m\\n|\\t\\tSetpoint input mode INT, Ext setpoint input 2.403815V\\n|\\t\\tSetpoint RAMP speed = 0.01 V/s, action \\x1b[1;34;41mOFF\\x1b[0m\\n|\\t============= P,I,D and Offset Status=============\\n|\\t\\t P = -2.0    , \\taction = \\x1b[1;34;42mON\\x1b[0m\\n|\\t\\t I = 1.0 1/s, \\taction = \\x1b[1;34;42mON\\x1b[0m\\n|\\t\\t D = 1e-05   s, \\taction = \\x1b[1;34;41mOFF\\x1b[0m\\n|\\t\\tOff = 2.41  V, \\taction = \\x1b[1;34;42mON\\x1b[0m\\n-----------------SRS PID controller SIM960 Status Summary Ends------------------\\n'"
      ]
     },
     "execution_count": 12,
     "metadata": {},
     "output_type": "execute_result"
    }
   ],
   "source": [
    "servo_IM.printStatus()"
   ]
  },
  {
   "cell_type": "code",
   "execution_count": 47,
   "metadata": {},
   "outputs": [
    {
     "name": "stderr",
     "output_type": "stream",
     "text": [
      "\u001b[32m2024-02-14 20:52:54.018\u001b[0m | \u001b[1mINFO    \u001b[0m | \u001b[36mMinicomb Intensity Lock Servo\u001b[0m | \u001b[36mSRS_SIM900.py\u001b[0m:\u001b[36m__set_num_withcmd\u001b[0m:\u001b[36m812\u001b[0m\n",
      "\u001b[1mMinicomb Intensity Lock Servo: Setting Output in Manual Mode in Volt to 2.6.\u001b[0m\n"
     ]
    }
   ],
   "source": [
    "servo_IM.manual_output=2.6"
   ]
  },
  {
   "cell_type": "code",
   "execution_count": 16,
   "metadata": {},
   "outputs": [
    {
     "name": "stderr",
     "output_type": "stream",
     "text": [
      "\u001b[32m2023-12-22 11:58:51.873\u001b[0m | \u001b[1mINFO    \u001b[0m | \u001b[36mTDS2024C OSC\u001b[0m | \u001b[36mDevice.py\u001b[0m:\u001b[36mconnect\u001b[0m:\u001b[36m78\u001b[0m\n",
      "\u001b[1mTDS2024C OSC connected\u001b[0m\n"
     ]
    },
    {
     "data": {
      "text/plain": [
       "1"
      ]
     },
     "execution_count": 16,
     "metadata": {},
     "output_type": "execute_result"
    }
   ],
   "source": [
    "from KeckLFC.Hardware.TDS2024C import TDS2024C\n",
    "osc = TDS2024C(addr=\"USB0::0x0699::0x03A6::C031910::INSTR\")\n",
    "osc.connect()"
   ]
  },
  {
   "cell_type": "code",
   "execution_count": null,
   "metadata": {},
   "outputs": [],
   "source": []
  },
  {
   "cell_type": "code",
   "execution_count": 24,
   "metadata": {},
   "outputs": [
    {
     "name": "stderr",
     "output_type": "stream",
     "text": [
      "\u001b[32m2023-12-22 12:10:38.322\u001b[0m | \u001b[1mINFO    \u001b[0m | \u001b[36mTDS2024C OSC\u001b[0m | \u001b[36mTDS2024C.py\u001b[0m:\u001b[36mget_trace\u001b[0m:\u001b[36m134\u001b[0m\n",
      "\u001b[1mTDS2024C OSC: Trace 4 data read finished.\u001b[0m\n"
     ]
    },
    {
     "data": {
      "text/plain": [
       "{'BYT_Nr': 2,\n",
       " 'BIT_Nr': 16,\n",
       " 'ENCd': 'ASC',\n",
       " 'BN_Fmt': 'RP',\n",
       " 'BYT_Or': 'MSB',\n",
       " 'NR_Pt': 2500,\n",
       " 'WFID': '\"Ch4, DC coupling, 5.0E0 V/div, 5.0E-4 s/div, 2500 points, Sample mode\"',\n",
       " 'PT_FMT': 'Y',\n",
       " 'XINcr': 2e-06,\n",
       " 'PT_Off': 0.0,\n",
       " 'XZEro': -0.0025,\n",
       " 'XUNit': '\"s\"',\n",
       " 'YMUlt': 0.00078125,\n",
       " 'YZEro': 0.0,\n",
       " 'YOFF': -12800.0,\n",
       " 'YUNit': '\"Volts\"',\n",
       " 'Y': array([12., 12., 12., ..., 12., 12., 12.]),\n",
       " 'X': array([-0.0025  , -0.002498, -0.002496, ...,  0.002494,  0.002496,\n",
       "         0.002498])}"
      ]
     },
     "execution_count": 24,
     "metadata": {},
     "output_type": "execute_result"
    },
    {
     "data": {
      "image/png": "[encoded data removed]",
      "text/plain": [
       "<Figure size 640x480 with 1 Axes>"
      ]
     },
     "metadata": {},
     "output_type": "display_data"
    }
   ],
   "source": [
    "osc.get_trace(trace=4)"
   ]
  },
  {
   "cell_type": "code",
   "execution_count": 7,
   "metadata": {},
   "outputs": [
    {
     "name": "stderr",
     "output_type": "stream",
     "text": [
      "\u001b[32m2023-12-11 14:29:06.112\u001b[0m | \u001b[1mINFO    \u001b[0m | \u001b[36mKeysight FG 33500\u001b[0m | \u001b[36mDevice.py\u001b[0m:\u001b[36mconnect\u001b[0m:\u001b[36m78\u001b[0m\n",
      "\u001b[1mKeysight FG 33500 connected\u001b[0m\n"
     ]
    },
    {
     "data": {
      "text/plain": [
       "1"
      ]
     },
     "execution_count": 7,
     "metadata": {},
     "output_type": "execute_result"
    }
   ],
   "source": [
    "from KeckLFC.Hardware.KeysightFG_33500 import KeysightFG_33500\n",
    "fg = KeysightFG_33500(addr='USB0::0x0957::0x2807::MY59003824::INSTR', name='Keysight FG 33500')\n",
    "fg.connect()"
   ]
  },
  {
   "cell_type": "code",
   "execution_count": 9,
   "metadata": {},
   "outputs": [
    {
     "name": "stdout",
     "output_type": "stream",
     "text": [
      "Channel 1 parameters:\n",
      "Frequency: 1000.0\n",
      "Amplitude: 0.1\n",
      "Offset: 0.0\n",
      "Phase: 0.0\n",
      "State: 0\n",
      "\n",
      "Function: SIN\n",
      "\n"
     ]
    }
   ],
   "source": [
    "fg.get_channel_parameters(1)"
   ]
  },
  {
   "cell_type": "code",
   "execution_count": null,
   "metadata": {},
   "outputs": [],
   "source": [
    "\n",
    "from KeckLFC.Hardware.TEC_TC720 import TEC_TC720\n",
    "for i in range(3,23):\n",
    "    try:\n",
    "        tec_ppln = TEC_TC720(addr=f'COM{i}', name='PPLN Doubler TEC (TC720)')\n",
    "        tec_ppln.connect()\n",
    "        tec_ppln.get_mode()\n",
    "        \n",
    "        print(f'com={i} success')\n",
    "        \n",
    "    except:\n",
    "        \n",
    "        print(f'com={i} failed')\n",
    "\n",
    "\n"
   ]
  },
  {
   "cell_type": "code",
   "execution_count": 3,
   "metadata": {},
   "outputs": [
    {
     "name": "stderr",
     "output_type": "stream",
     "text": [
      "\u001b[32m2024-02-14 20:14:25.024\u001b[0m | \u001b[1mINFO    \u001b[0m | \u001b[36mPPLN Doubler TEC (TC720)\u001b[0m | \u001b[36mTEC_TC720.py\u001b[0m:\u001b[36mconnect\u001b[0m:\u001b[36m126\u001b[0m\n",
      "\u001b[1mPPLN Doubler TEC (TC720) connected\u001b[0m\n"
     ]
    },
    {
     "data": {
      "text/plain": [
       "0"
      ]
     },
     "execution_count": 3,
     "metadata": {},
     "output_type": "execute_result"
    }
   ],
   "source": [
    "\n",
    "from KeckLFC.Hardware.TEC_TC720 import TEC_TC720\n",
    "\n",
    "tec_ppln = TEC_TC720(addr=f'COM{22}', name='PPLN Doubler TEC (TC720)')\n",
    "tec_ppln.connect()\n",
    "tec_ppln.get_mode()\n",
    "        \n",
    "       "
   ]
  },
  {
   "cell_type": "code",
   "execution_count": 7,
   "metadata": {},
   "outputs": [
    {
     "data": {
      "text/plain": [
       "16.14"
      ]
     },
     "execution_count": 7,
     "metadata": {},
     "output_type": "execute_result"
    }
   ],
   "source": [
    "tec_ppln.get_temp()"
   ]
  },
  {
   "cell_type": "code",
   "execution_count": 4,
   "metadata": {},
   "outputs": [
    {
     "name": "stderr",
     "output_type": "stream",
     "text": [
      "\u001b[32m2023-12-22 09:41:47.305\u001b[0m | \u001b[1mINFO    \u001b[0m | \u001b[36mOctave Waveguide TEC (TC720)\u001b[0m | \u001b[36mTEC_TC720.py\u001b[0m:\u001b[36mconnect\u001b[0m:\u001b[36m126\u001b[0m\n",
      "\u001b[1mOctave Waveguide TEC (TC720) connected\u001b[0m\n"
     ]
    },
    {
     "data": {
      "text/plain": [
       "0"
      ]
     },
     "execution_count": 4,
     "metadata": {},
     "output_type": "execute_result"
    }
   ],
   "source": [
    "from KeckLFC.Hardware.TEC_TC720 import TEC_TC720\n",
    "# tec_PPLN = TEC_TC720(addr='ASRL46::INSTR')\n",
    "tec_wg = TEC_TC720(addr='COM16', name='Octave Waveguide TEC (TC720)')\n",
    "tec_wg.connect()\n",
    "tec_wg.get_mode()"
   ]
  },
  {
   "cell_type": "code",
   "execution_count": 41,
   "metadata": {},
   "outputs": [
    {
     "name": "stderr",
     "output_type": "stream",
     "text": [
      "\u001b[32m2023-12-11 14:53:09.877\u001b[0m | \u001b[1mINFO    \u001b[0m | \u001b[36m1um VOA\u001b[0m | \u001b[36mDevice.py\u001b[0m:\u001b[36mconnect\u001b[0m:\u001b[36m78\u001b[0m\n",
      "\u001b[1m1um VOA connected\u001b[0m\n",
      "\u001b[32m2023-12-11 14:53:10.480\u001b[0m | \u001b[1mINFO    \u001b[0m | \u001b[36m1um VOA\u001b[0m | \u001b[36mOZopticsVOA.py\u001b[0m:\u001b[36mprintStatus\u001b[0m:\u001b[36m44\u001b[0m\n",
      "\u001b[1m------------------------------------1um VOA-------------------------------------\n",
      "--------------------------OZ optics VOA Status Summary--------------------------\n",
      "|\t Attenuation: 15.04 (dB)\n",
      "|\t Device Configure String:\n",
      "|\t\tDD100MC \n",
      "|\t\tV6.4\n",
      "|\t\tNO:303700-01\n",
      "|\t\tMAX ATTEN:61.00\n",
      "|\t\tOVERSHOOT:-30\n",
      "|\t\tCALIB:FEB-22-2022\n",
      "|\t\tGEAR RATIO:485:1\n",
      "|\t\tMOTOR VOLT:5V\n",
      "|\t\tMINTERVAL(MS):0.90\n",
      "|\t\tIL:0.00\n",
      "|\t\tWAVELENGTH:1550\n",
      "|\t\tI2C ADDRESS:64\n",
      "|\t\tW0 1550\n",
      "-----------------------OZ optics VOA Status Summary Ends------------------------\n",
      "\u001b[0m\n"
     ]
    },
    {
     "data": {
      "text/plain": [
       "'------------------------------------1um VOA-------------------------------------\\n--------------------------OZ optics VOA Status Summary--------------------------\\n|\\t Attenuation: 15.04 (dB)\\n|\\t Device Configure String:\\n|\\t\\tDD100MC \\n|\\t\\tV6.4\\n|\\t\\tNO:303700-01\\n|\\t\\tMAX ATTEN:61.00\\n|\\t\\tOVERSHOOT:-30\\n|\\t\\tCALIB:FEB-22-2022\\n|\\t\\tGEAR RATIO:485:1\\n|\\t\\tMOTOR VOLT:5V\\n|\\t\\tMINTERVAL(MS):0.90\\n|\\t\\tIL:0.00\\n|\\t\\tWAVELENGTH:1550\\n|\\t\\tI2C ADDRESS:64\\n|\\t\\tW0 1550\\n-----------------------OZ optics VOA Status Summary Ends------------------------\\n'"
      ]
     },
     "execution_count": 41,
     "metadata": {},
     "output_type": "execute_result"
    }
   ],
   "source": [
    "from KeckLFC.Hardware.OZopticsVOA import OZopticsVOA\n",
    "voa1550 = OZopticsVOA(addr=f'ASRL{15}::INSTR', name='1um VOA')\n",
    "voa1550.connect()\n",
    "voa1550.printStatus()"
   ]
  },
  {
   "cell_type": "code",
   "execution_count": 42,
   "metadata": {},
   "outputs": [
    {
     "name": "stderr",
     "output_type": "stream",
     "text": [
      "\u001b[32m2023-12-11 14:53:36.778\u001b[0m | \u001b[1mINFO    \u001b[0m | \u001b[36m1um VOA\u001b[0m | \u001b[36mDevice.py\u001b[0m:\u001b[36mconnect\u001b[0m:\u001b[36m78\u001b[0m\n",
      "\u001b[1m1um VOA connected\u001b[0m\n",
      "\u001b[32m2023-12-11 14:53:37.378\u001b[0m | \u001b[1mINFO    \u001b[0m | \u001b[36m1um VOA\u001b[0m | \u001b[36mOZopticsVOA.py\u001b[0m:\u001b[36mprintStatus\u001b[0m:\u001b[36m44\u001b[0m\n",
      "\u001b[1m------------------------------------1um VOA-------------------------------------\n",
      "--------------------------OZ optics VOA Status Summary--------------------------\n",
      "|\t Attenuation: 0.01 (dB)\n",
      "|\t Device Configure String:\n",
      "|\t\tDD100MC\n",
      "|\t\tV6.2a\n",
      "|\t\tNO:303699-01\n",
      "|\t\tMAX ATTEN:55.00\n",
      "|\t\tOVERSHOOT:-30\n",
      "|\t\tCALIB:MAR-02-2022\n",
      "|\t\tGEAR RATIO:485:1\n",
      "|\t\tMINTERVAL(MS):0.90\n",
      "|\t\tMOTOR VOLT:5\n",
      "|\t\tIL:0.00\n",
      "|\t\tWAVELENGTH:2000\n",
      "|\t\tI2C ADDRESS:64\n",
      "|\t\tW0 2000\n",
      "-----------------------OZ optics VOA Status Summary Ends------------------------\n",
      "\u001b[0m\n"
     ]
    },
    {
     "data": {
      "text/plain": [
       "'------------------------------------1um VOA-------------------------------------\\n--------------------------OZ optics VOA Status Summary--------------------------\\n|\\t Attenuation: 0.01 (dB)\\n|\\t Device Configure String:\\n|\\t\\tDD100MC\\n|\\t\\tV6.2a\\n|\\t\\tNO:303699-01\\n|\\t\\tMAX ATTEN:55.00\\n|\\t\\tOVERSHOOT:-30\\n|\\t\\tCALIB:MAR-02-2022\\n|\\t\\tGEAR RATIO:485:1\\n|\\t\\tMINTERVAL(MS):0.90\\n|\\t\\tMOTOR VOLT:5\\n|\\t\\tIL:0.00\\n|\\t\\tWAVELENGTH:2000\\n|\\t\\tI2C ADDRESS:64\\n|\\t\\tW0 2000\\n-----------------------OZ optics VOA Status Summary Ends------------------------\\n'"
      ]
     },
     "execution_count": 42,
     "metadata": {},
     "output_type": "execute_result"
    }
   ],
   "source": [
    "from KeckLFC.Hardware.OZopticsVOA import OZopticsVOA\n",
    "voa2000 = OZopticsVOA(addr=f'ASRL{18}::INSTR', name='1um VOA')\n",
    "voa2000.connect()\n",
    "voa2000.printStatus()"
   ]
  },
  {
   "cell_type": "code",
   "execution_count": 43,
   "metadata": {},
   "outputs": [
    {
     "name": "stderr",
     "output_type": "stream",
     "text": [
      "\u001b[32m2023-12-11 14:54:15.236\u001b[0m | \u001b[1mINFO    \u001b[0m | \u001b[36m1um VOA\u001b[0m | \u001b[36mDevice.py\u001b[0m:\u001b[36mconnect\u001b[0m:\u001b[36m78\u001b[0m\n",
      "\u001b[1m1um VOA connected\u001b[0m\n"
     ]
    },
    {
     "name": "stderr",
     "output_type": "stream",
     "text": [
      "\u001b[32m2023-12-11 14:54:15.839\u001b[0m | \u001b[1mINFO    \u001b[0m | \u001b[36m1um VOA\u001b[0m | \u001b[36mOZopticsVOA.py\u001b[0m:\u001b[36mprintStatus\u001b[0m:\u001b[36m44\u001b[0m\n",
      "\u001b[1m------------------------------------1um VOA-------------------------------------\n",
      "--------------------------OZ optics VOA Status Summary--------------------------\n",
      "|\t Attenuation: 0.01 (dB)\n",
      "|\t Device Configure String:\n",
      "|\t\tDD100MC \n",
      "|\t\tV1.1\n",
      "|\t\tNO:311029-01\n",
      "|\t\tMAX ATTEN:60.00\n",
      "|\t\tOVERSHOOT:0\n",
      "|\t\tCALIB:NOV-18-2022\n",
      "|\t\tGEAR RATIO:485:1\n",
      "|\t\tMOTOR VOLT:5V\n",
      "|\t\tMINTERVAL(MS):0.90\n",
      "|\t\tIL:0.00\n",
      "|\t\tWAVELENGTH:1310\n",
      "|\t\tI2C ADDRESS:64\n",
      "|\t\tW0 0980\n",
      "|\t\tW1 1310\n",
      "-----------------------OZ optics VOA Status Summary Ends------------------------\n",
      "\u001b[0m\n"
     ]
    },
    {
     "data": {
      "text/plain": [
       "'------------------------------------1um VOA-------------------------------------\\n--------------------------OZ optics VOA Status Summary--------------------------\\n|\\t Attenuation: 0.01 (dB)\\n|\\t Device Configure String:\\n|\\t\\tDD100MC \\n|\\t\\tV1.1\\n|\\t\\tNO:311029-01\\n|\\t\\tMAX ATTEN:60.00\\n|\\t\\tOVERSHOOT:0\\n|\\t\\tCALIB:NOV-18-2022\\n|\\t\\tGEAR RATIO:485:1\\n|\\t\\tMOTOR VOLT:5V\\n|\\t\\tMINTERVAL(MS):0.90\\n|\\t\\tIL:0.00\\n|\\t\\tWAVELENGTH:1310\\n|\\t\\tI2C ADDRESS:64\\n|\\t\\tW0 0980\\n|\\t\\tW1 1310\\n-----------------------OZ optics VOA Status Summary Ends------------------------\\n'"
      ]
     },
     "execution_count": 43,
     "metadata": {},
     "output_type": "execute_result"
    }
   ],
   "source": [
    "from KeckLFC.Hardware.OZopticsVOA import OZopticsVOA\n",
    "voa1310 = OZopticsVOA(addr=f'ASRL{19}::INSTR', name='1um VOA')\n",
    "voa1310.connect()\n",
    "voa1310.printStatus()"
   ]
  },
  {
   "cell_type": "code",
   "execution_count": null,
   "metadata": {},
   "outputs": [],
   "source": []
  },
  {
   "cell_type": "code",
   "execution_count": null,
   "metadata": {},
   "outputs": [],
   "source": [
    "for i in range(3,23):\n",
    "    try:\n",
    "        \n",
    "        print(f'com={i} success')\n",
    "        \n",
    "    except:\n",
    "        \n",
    "        print(f'com={i} failed')"
   ]
  },
  {
   "cell_type": "code",
   "execution_count": 55,
   "metadata": {},
   "outputs": [
    {
     "name": "stderr",
     "output_type": "stream",
     "text": [
      "\u001b[32m2024-02-14 20:59:37.944\u001b[0m | \u001b[1mINFO    \u001b[0m | \u001b[36mPritel Amp\u001b[0m | \u001b[36mPritelAmp.py\u001b[0m:\u001b[36mconnect\u001b[0m:\u001b[36m60\u001b[0m\n",
      "\u001b[1mPritel Amp connected\u001b[0m\n",
      "\u001b[32m2024-02-14 20:59:39.490\u001b[0m | \u001b[1mINFO    \u001b[0m | \u001b[36mPritel Amp\u001b[0m | \u001b[36mPritelAmp.py\u001b[0m:\u001b[36mprintStatus\u001b[0m:\u001b[36m38\u001b[0m\n",
      "\u001b[1m------------------------------------Pritel Amp-----------------------------------\n",
      "|-----------------Pritel OPTICAL FIBER AMPLIFIER Status Summary------------------\n",
      "|\t Pump status: \u001b[1;34;41mOFF\u001b[0m\n",
      "|\t InputPower = 0 mW, \tPreAmp = 0 mA\n",
      "|\t OutputPower = 0.00 W, \tPwrAmp = 0.00 A\n",
      "|\t AutoShutDown Enabled. PowerAmp pump current is disabled.\n",
      "----------------Pritel OPTICAL FIBER AMPLIFIER Status Summary Ends---------------\n",
      "\u001b[0m\n"
     ]
    },
    {
     "data": {
      "text/plain": [
       "'------------------------------------Pritel Amp-----------------------------------\\n|-----------------Pritel OPTICAL FIBER AMPLIFIER Status Summary------------------\\n|\\t Pump status: \\x1b[1;34;41mOFF\\x1b[0m\\n|\\t InputPower = 0 mW, \\tPreAmp = 0 mA\\n|\\t OutputPower = 0.00 W, \\tPwrAmp = 0.00 A\\n|\\t AutoShutDown Enabled. PowerAmp pump current is disabled.\\n----------------Pritel OPTICAL FIBER AMPLIFIER Status Summary Ends---------------\\n'"
      ]
     },
     "execution_count": 55,
     "metadata": {},
     "output_type": "execute_result"
    }
   ],
   "source": [
    "from KeckLFC.Hardware.PritelAmp import PritelAmp\n",
    "ptamp = PritelAmp(addr=f'ASRL{7}::INSTR', name='Pritel Amp')\n",
    "ptamp.connect()\n",
    "ptamp.printStatus()\n"
   ]
  },
  {
   "cell_type": "code",
   "execution_count": 26,
   "metadata": {},
   "outputs": [
    {
     "data": {
      "text/plain": [
       "'600mA'"
      ]
     },
     "execution_count": 26,
     "metadata": {},
     "output_type": "execute_result"
    }
   ],
   "source": [
    "amp=600\n",
    "amp1=f'{amp}'+'mA'\n",
    "amp1"
   ]
  },
  {
   "cell_type": "code",
   "execution_count": 56,
   "metadata": {},
   "outputs": [
    {
     "data": {
      "text/plain": [
       "0.0"
      ]
     },
     "execution_count": 56,
     "metadata": {},
     "output_type": "execute_result"
    }
   ],
   "source": [
    "ptamp.preAmp"
   ]
  },
  {
   "cell_type": "code",
   "execution_count": 48,
   "metadata": {},
   "outputs": [
    {
     "name": "stderr",
     "output_type": "stream",
     "text": [
      "\u001b[32m2024-02-14 20:57:47.599\u001b[0m | \u001b[1mINFO    \u001b[0m | \u001b[36mFinisar Waveshaper SN201904\u001b[0m | \u001b[36mDevice.py\u001b[0m:\u001b[36mconnect\u001b[0m:\u001b[36m78\u001b[0m\n",
      "\u001b[1mFinisar Waveshaper SN201904 connected\u001b[0m\n"
     ]
    },
    {
     "data": {
      "text/plain": [
       "1"
      ]
     },
     "execution_count": 48,
     "metadata": {},
     "output_type": "execute_result"
    }
   ],
   "source": [
    "from KeckLFC.Hardware.Waveshaper import Waveshaper\n",
    "ws = Waveshaper()\n",
    "ws.connect()"
   ]
  },
  {
   "cell_type": "code",
   "execution_count": 54,
   "metadata": {},
   "outputs": [
    {
     "data": {
      "text/plain": [
       "''"
      ]
     },
     "execution_count": 54,
     "metadata": {},
     "output_type": "execute_result"
    }
   ],
   "source": [
    "ws.info_atten"
   ]
  },
  {
   "cell_type": "code",
   "execution_count": 2,
   "metadata": {},
   "outputs": [
    {
     "data": {
      "image/png": "[encoded data removed]",
      "text/plain": [
       "<Figure size 640x480 with 1 Axes>"
      ]
     },
     "metadata": {},
     "output_type": "display_data"
    },
    {
     "name": "stderr",
     "output_type": "stream",
     "text": [
      "\u001b[32m2023-12-22 13:50:15.405\u001b[0m | \u001b[1mINFO    \u001b[0m | \u001b[36mFinisar Waveshaper SN201904\u001b[0m | \u001b[36mWaveshaper.py\u001b[0m:\u001b[36mset_interp_phase\u001b[0m:\u001b[36m108\u001b[0m\n",
      "\u001b[1mWaveshaper Set interp phase with center 192.17465256410256 THz.\u001b[0m\n",
      "\u001b[32m2023-12-22 13:50:15.405\u001b[0m | \u001b[1mINFO    \u001b[0m | \u001b[36mFinisar Waveshaper SN201904\u001b[0m | \u001b[36mWaveshaper.py\u001b[0m:\u001b[36msetBandPass\u001b[0m:\u001b[36m127\u001b[0m\n",
      "\u001b[1mWaveshaper Set atten to BandPass [189.675~194.675] THz ([1580.559~1539.964] nm).\u001b[0m\n",
      "\u001b[32m2023-12-22 13:50:16.980\u001b[0m | \u001b[1mINFO    \u001b[0m | \u001b[36mFinisar Waveshaper SN201904\u001b[0m | \u001b[36mWaveshaper.py\u001b[0m:\u001b[36mwriteProfile\u001b[0m:\u001b[36m226\u001b[0m\n",
      "\u001b[1mWaveshaper profile write successful.\u001b[0m\n",
      "\u001b[32m2023-12-22 13:50:17.746\u001b[0m | \u001b[1mINFO    \u001b[0m | \u001b[36mFinisar Waveshaper SN201904\u001b[0m | \u001b[36mWaveshaper.py\u001b[0m:\u001b[36mprintStatus\u001b[0m:\u001b[36m267\u001b[0m\n",
      "\u001b[1m-------------------Finisar Waveshaper SN201904 Status Summary-------------------\n",
      "|\t Atten info: Set atten to BandPass [189.675~194.675] THz ([1580.559~1539.964] nm)\n",
      "|\t Phase info: Set interp phase with center 192.17465256410256 THz\n",
      "----------------Finisar Waveshaper SN201904 Status Summary Ends-----------------\u001b[0m\n"
     ]
    },
    {
     "data": {
      "image/png": "[encoded data removed]",
      "text/plain": [
       "<Figure size 900x600 with 4 Axes>"
      ]
     },
     "metadata": {},
     "output_type": "display_data"
    },
    {
     "data": {
      "image/png": "[encoded data removed]",
      "text/plain": [
       "<Figure size 900x600 with 4 Axes>"
      ]
     },
     "metadata": {},
     "output_type": "display_data"
    }
   ],
   "source": [
    "import matplotlib.pyplot as plt\n",
    "import numpy as np\n",
    "\n",
    "n_pt = 35\n",
    "x_freq = np.linspace(192.3-n_pt*16e-3, 192.3+n_pt*16e-3, 16)\n",
    "y_phase = ((x_freq-192.3) ** 2 * (2*np.pi) ** 2 * 1.3/2*-2.75) + 0/((x_freq-192.3) ** 4 * (2*np.pi) ** 2 * 1.3/2+1)\n",
    "plt.plot(x_freq, y_phase,label='original')\n",
    "\n",
    "y_phase[5:11] *= 1\n",
    "#y_phase[:3] *= 1\n",
    "\n",
    "\n",
    "\n",
    "plt.plot(x_freq, y_phase,label='after')\n",
    "plt.legend()\n",
    "plt.show()\n",
    "\n",
    "\n",
    "ws.set_interp_phase(x_freq, y_phase)\n",
    "ws.setBandPass(span=5)\n",
    "# ws.set2ndDisper(d2=-2.8)\n",
    "ws.plotStatus()\n",
    "ws.writeProfile()\n",
    "ws.printStatus()"
   ]
  },
  {
   "cell_type": "code",
   "execution_count": 57,
   "metadata": {},
   "outputs": [],
   "source": [
    "import wsapi"
   ]
  },
  {
   "cell_type": "code",
   "execution_count": null,
   "metadata": {},
   "outputs": [],
   "source": []
  },
  {
   "cell_type": "code",
   "execution_count": null,
   "metadata": {},
   "outputs": [],
   "source": [
    "from KeckLFC.Hardware.Agiltron_2by2_switch import AgiltronSelfAlign22\n",
    "for i in range(3,23):\n",
    "    try:\n",
    "        sw2 = AgiltronSelfAlign22(addr=f'COM{i}')\n",
    "        sw2.connect()\n",
    "        sw2.check_status()\n",
    "        print(f'com={i} success')\n",
    "        \n",
    "    except:\n",
    "        \n",
    "        print(f'com={i} failed')\n",
    "\n"
   ]
  },
  {
   "cell_type": "code",
   "execution_count": 10,
   "metadata": {},
   "outputs": [
    {
     "name": "stderr",
     "output_type": "stream",
     "text": [
      "\u001b[32m2023-12-13 11:54:16.672\u001b[0m | \u001b[1mINFO    \u001b[0m | \u001b[36mAgiltron 2 by 2 switch\u001b[0m | \u001b[36mDevice.py\u001b[0m:\u001b[36mconnect\u001b[0m:\u001b[36m78\u001b[0m\n",
      "\u001b[1mAgiltron 2 by 2 switch connected\u001b[0m\n"
     ]
    },
    {
     "data": {
      "text/plain": [
       "1"
      ]
     },
     "execution_count": 10,
     "metadata": {},
     "output_type": "execute_result"
    }
   ],
   "source": [
    "from KeckLFC.Hardware.Agiltron_2by2_switch import AgiltronSelfAlign22\n",
    "sw2 = AgiltronSelfAlign22(addr=f'COM{20}')\n",
    "sw2.connect()\n",
    "sw2.check_status()"
   ]
  },
  {
   "cell_type": "code",
   "execution_count": 16,
   "metadata": {},
   "outputs": [
    {
     "data": {
      "text/plain": [
       "2"
      ]
     },
     "execution_count": 16,
     "metadata": {},
     "output_type": "execute_result"
    }
   ],
   "source": [
    "sw2.check_status()\n",
    "\n"
   ]
  },
  {
   "cell_type": "code",
   "execution_count": null,
   "metadata": {},
   "outputs": [],
   "source": []
  },
  {
   "cell_type": "code",
   "execution_count": null,
   "metadata": {},
   "outputs": [],
   "source": []
  },
  {
   "cell_type": "code",
   "execution_count": null,
   "metadata": {},
   "outputs": [],
   "source": []
  }
 ],
 "metadata": {
  "kernelspec": {
   "display_name": "lfc-env",
   "language": "python",
   "name": "python3"
  },
  "language_info": {
   "codemirror_mode": {
    "name": "ipython",
    "version": 3
   },
   "file_extension": ".py",
   "mimetype": "text/x-python",
   "name": "python",
   "nbconvert_exporter": "python",
   "pygments_lexer": "ipython3",
   "version": "3.11.5"
  }
 },
 "nbformat": 4,
 "nbformat_minor": 2
}
