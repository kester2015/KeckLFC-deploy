{
 "cells": [
  {
   "cell_type": "code",
   "execution_count": 1,
   "id": "35423021",
   "metadata": {},
   "outputs": [],
   "source": [
    "import numpy as np\n",
    "import matplotlib.pyplot as plt\n",
    "import time\n",
    "\n",
    "from LFC.Hardware.SRS_SIM900 import SRS_SIM900, SRS_PIDcontrol_SIM960\n",
    "from LFC.Hardware.Waveshaper import Waveshaper\n",
    "from LFC.Hardware.AndoOSA_AQ6315E import AndoOSA_AQ6315E\n",
    "from LFC.Hardware.PritelAmp import PritelAmp\n",
    "from LFC.Hardware.ORIONLaser import ORIONLaser\n",
    "from LFC.Hardware.AmonicsEDFA import AmonicsEDFA\n",
    "from LFC.Hardware.InstekGppDCSupply import InstekGppDCSupply\n",
    "from LFC.Hardware.InstekGPD_4303S import InstekGPD_4303S\n",
    "from LFC.Hardware.TEC_LFC3751 import TEC_LFC3751\n",
    "from LFC.Hardware.TEC_LDT5525B import TEC_LDT5525B\n",
    "from LFC.Hardware.PendulumCNT90 import PendulumCNT90\n",
    "from LFC.Hardware.OZopticsVOA import OZopticsVOA"
   ]
  },
  {
   "cell_type": "code",
   "execution_count": 2,
   "id": "935f2639",
   "metadata": {},
   "outputs": [
    {
     "name": "stdout",
     "output_type": "stream",
     "text": [
      "OZoptics VOA connected\n",
      "----------------------------------OZoptics VOA----------------------------------\n",
      "--------------------------OZ optics VOA Status Summary--------------------------\n",
      "|\t Attenuation: 0.00 (dB)\n",
      "|\t Device Configure String:\n",
      "|\t\tDD100MC \n",
      "|\t\tV1.1\n",
      "|\t\tNO:311029-01\n",
      "|\t\tMAX ATTEN:60.00\n",
      "|\t\tOVERSHOOT:0\n",
      "|\t\tCALIB:NOV-18-2022\n",
      "|\t\tGEAR RATIO:485:1\n",
      "|\t\tMOTOR VOLT:5V\n",
      "|\t\tMINTERVAL(MS):0.90\n",
      "|\t\tIL:0.00\n",
      "|\t\tWAVELENGTH:1310\n",
      "|\t\tI2C ADDRESS:64\n",
      "|\t\tW0 0980\n",
      "|\t\tW1 1310\n",
      "-----------------------OZ optics VOA Status Summary Ends------------------------\n",
      "\n"
     ]
    },
    {
     "data": {
      "text/plain": [
       "'----------------------------------OZoptics VOA----------------------------------\\n--------------------------OZ optics VOA Status Summary--------------------------\\n|\\t Attenuation: 0.00 (dB)\\n|\\t Device Configure String:\\n|\\t\\tDD100MC \\n|\\t\\tV1.1\\n|\\t\\tNO:311029-01\\n|\\t\\tMAX ATTEN:60.00\\n|\\t\\tOVERSHOOT:0\\n|\\t\\tCALIB:NOV-18-2022\\n|\\t\\tGEAR RATIO:485:1\\n|\\t\\tMOTOR VOLT:5V\\n|\\t\\tMINTERVAL(MS):0.90\\n|\\t\\tIL:0.00\\n|\\t\\tWAVELENGTH:1310\\n|\\t\\tI2C ADDRESS:64\\n|\\t\\tW0 0980\\n|\\t\\tW1 1310\\n-----------------------OZ optics VOA Status Summary Ends------------------------\\n'"
      ]
     },
     "execution_count": 2,
     "metadata": {},
     "output_type": "execute_result"
    }
   ],
   "source": [
    "voa = OZopticsVOA(addr=\"ASRL23::INSTR\")\n",
    "voa.connect()\n",
    "voa.printStatus()"
   ]
  },
  {
   "cell_type": "code",
   "execution_count": 60,
   "id": "62f287a8",
   "metadata": {},
   "outputs": [
    {
     "name": "stdout",
     "output_type": "stream",
     "text": [
      "OZoptics VOA: VOA attenuation setted to 0.00 dB.\n"
     ]
    }
   ],
   "source": [
    "voa.atten_db = 0"
   ]
  },
  {
   "cell_type": "code",
   "execution_count": 58,
   "id": "f42e5f74",
   "metadata": {},
   "outputs": [
    {
     "name": "stdout",
     "output_type": "stream",
     "text": [
      "OZoptics VOA: VOA attenuation setted to 8.00 dB.\n"
     ]
    },
    {
     "data": {
      "image/png": "[encoded data removed]",
      "text/plain": [
       "<Figure size 432x288 with 1 Axes>"
      ]
     },
     "metadata": {
      "needs_background": "light"
     },
     "output_type": "display_data"
    },
    {
     "name": "stdout",
     "output_type": "stream",
     "text": [
      "ANDO AQ-6315E Optical Spectrum Analyzer: Trace B data is collected and is shown in the plot.\n",
      "ANDO AQ-6315E Optical Spectrum Analyzer: Trace B data is saved to Z:\\Maodong\\Projects\\Keck\\broadband performance test\\VOA_broadband_test\\VOA1380\\voa_8db.mat\n",
      "ANDO AQ-6315E Optical Spectrum Analyzer: Trace B data is saved to Z:\\Maodong\\Projects\\Keck\\broadband performance test\\VOA_broadband_test\\VOA1380\\voa_8db.txt\n"
     ]
    }
   ],
   "source": [
    "atten = 0\n",
    "voa.atten_db = atten\n",
    "# voa.printStatus()\n",
    "time.sleep(5)\n",
    "filename = r'Z:\\Maodong\\Projects\\Keck\\broadband performance test\\VOA_broadband_test\\VOA1380'\n",
    "osa.save_trace('b',filename+\"\\\\\"+f\"voa_{atten}db\")\n"
   ]
  },
  {
   "cell_type": "code",
   "execution_count": 7,
   "id": "f00908bd",
   "metadata": {},
   "outputs": [
    {
     "name": "stdout",
     "output_type": "stream",
     "text": [
      "Finisar Waveshaper SN201904 connected\n"
     ]
    },
    {
     "data": {
      "text/plain": [
       "1"
      ]
     },
     "execution_count": 7,
     "metadata": {},
     "output_type": "execute_result"
    }
   ],
   "source": [
    "wsp = Waveshaper()\n",
    "wsp.connect()"
   ]
  },
  {
   "cell_type": "code",
   "execution_count": 7,
   "id": "4c13eda3",
   "metadata": {},
   "outputs": [
    {
     "name": "stdout",
     "output_type": "stream",
     "text": [
      "Pritel Optical Amplifier connected\n"
     ]
    },
    {
     "data": {
      "text/plain": [
       "0"
      ]
     },
     "execution_count": 7,
     "metadata": {},
     "output_type": "execute_result"
    }
   ],
   "source": [
    "ptamp = PritelAmp(addr='ASRL6::INSTR')\n",
    "ptamp.connect()"
   ]
  },
  {
   "cell_type": "code",
   "execution_count": 8,
   "id": "d6ea37e7",
   "metadata": {},
   "outputs": [
    {
     "name": "stdout",
     "output_type": "stream",
     "text": [
      "-----------------------------Pritel Optical Amplifier----------------------------\n",
      "|-----------------Pritel OPTICAL FIBER AMPLIFIER Status Summary------------------\n",
      "|\t Pump status: \u001b[1;34;41mOFF\u001b[0m\n",
      "|\t InputPower = 0 mW, \tPreAmp = 0 mA\n",
      "|\t OutputPower = 0.00 W, \tPwrAmp = 0.00 A\n",
      "|\t AutoShutDown Enabled. PowerAmp pump current is disabled.\n",
      "----------------Pritel OPTICAL FIBER AMPLIFIER Status Summary Ends---------------\n",
      "\n"
     ]
    },
    {
     "data": {
      "text/plain": [
       "'-----------------------------Pritel Optical Amplifier----------------------------\\n|-----------------Pritel OPTICAL FIBER AMPLIFIER Status Summary------------------\\n|\\t Pump status: \\x1b[1;34;41mOFF\\x1b[0m\\n|\\t InputPower = 0 mW, \\tPreAmp = 0 mA\\n|\\t OutputPower = 0.00 W, \\tPwrAmp = 0.00 A\\n|\\t AutoShutDown Enabled. PowerAmp pump current is disabled.\\n----------------Pritel OPTICAL FIBER AMPLIFIER Status Summary Ends---------------\\n'"
      ]
     },
     "execution_count": 8,
     "metadata": {},
     "output_type": "execute_result"
    }
   ],
   "source": [
    "ptamp.printStatus()"
   ]
  },
  {
   "cell_type": "code",
   "execution_count": null,
   "id": "3bc5d29d",
   "metadata": {},
   "outputs": [],
   "source": []
  },
  {
   "cell_type": "code",
   "execution_count": null,
   "id": "59ead1da",
   "metadata": {},
   "outputs": [],
   "source": []
  },
  {
   "cell_type": "code",
   "execution_count": 95,
   "id": "fcca3da2",
   "metadata": {},
   "outputs": [
    {
     "name": "stdout",
     "output_type": "stream",
     "text": [
      "RF AMP PS connected\n",
      "------------------------------------RF AMP PS------------------------------------\n",
      "|-------------------Instek GPP DC Power Supply Status Summary--------------------\n",
      "|--------------------Model: GPP-1326, Serial No.SN:GET842785---------------------\n",
      "|\t------------Channel Summary-------------\n",
      "|\t CHANNEL1: Activation \u001b[1;34;42mON\u001b[0m.\n",
      "|\t\t VSET=30.000V, ISET=6.000A.\n",
      "|\t\t VOUT=29.995V, IOUT=4.331A.\n",
      "|\t\t Output power: 129.896W.\n",
      "|\t\t ---Over Voltage/Current Protection Status:---\n",
      "|\t\t OVP Status: OFF\t OCP Status: OFF \n",
      "|\t\t OVP Level : 35.0 V\t OCP Level : 7.0 A\n",
      "-----------------Instek GPP DC Power Supply Status Summary Ends-----------------\n",
      "\n",
      "RF OSC PS connected\n",
      "------------------------------------RF OSC PS------------------------------------\n",
      "|----------------Instek DC Power Supply GPD-4303S Status Summary-----------------\n",
      "|--------------------Model: GPD-4303S, Serial No.SN:EV884423---------------------\n",
      "|\tMaster Activation: \u001b[1;34;42mON\u001b[0m\n",
      "|\t------------Channel Summary-------------\n",
      "|\t CH1: master, CH2: slave, mode UNRECOGNIZED?.\n",
      "|\t CHANNEL1: CV Mode.\n",
      "|\t\t VSET=0.000V, ISET=3.200A.\n",
      "|\t\t VOUT=0.000V, IOUT=0.000A.\n",
      "|\t\t Output power: 0.000W.\n",
      "|\t CHANNEL2: CV Mode.\n",
      "|\t\t VSET=15.000V, ISET=1.000A.\n",
      "|\t\t VOUT=14.995V, IOUT=0.434A.\n",
      "|\t\t Output power: 6.508W.\n",
      "|\t CHANNEL3: CV Mode.\n",
      "|\t\t VSET=0.690V, ISET=3.000A.\n",
      "|\t\t VOUT=0.690V, IOUT=0.002A.\n",
      "|\t\t Output power: 0.001W.\n",
      "|\t CHANNEL4: CV Mode.\n",
      "|\t\t VSET=0.000V, ISET=1.000A.\n",
      "|\t\t VOUT=0.000V, IOUT=0.000A.\n",
      "|\t\t Output power: 0.000W.\n",
      "--------------Instek DC Power Supply GPD-4303S Status Summary Ends--------------\n",
      "\n"
     ]
    },
    {
     "data": {
      "text/plain": [
       "'------------------------------------RF OSC PS------------------------------------\\n|----------------Instek DC Power Supply GPD-4303S Status Summary-----------------\\n|--------------------Model: GPD-4303S, Serial No.SN:EV884423---------------------\\n|\\tMaster Activation: \\x1b[1;34;42mON\\x1b[0m\\n|\\t------------Channel Summary-------------\\n|\\t CH1: master, CH2: slave, mode UNRECOGNIZED?.\\n|\\t CHANNEL1: CV Mode.\\n|\\t\\t VSET=0.000V, ISET=3.200A.\\n|\\t\\t VOUT=0.000V, IOUT=0.000A.\\n|\\t\\t Output power: 0.000W.\\n|\\t CHANNEL2: CV Mode.\\n|\\t\\t VSET=15.000V, ISET=1.000A.\\n|\\t\\t VOUT=14.995V, IOUT=0.434A.\\n|\\t\\t Output power: 6.508W.\\n|\\t CHANNEL3: CV Mode.\\n|\\t\\t VSET=0.690V, ISET=3.000A.\\n|\\t\\t VOUT=0.690V, IOUT=0.002A.\\n|\\t\\t Output power: 0.001W.\\n|\\t CHANNEL4: CV Mode.\\n|\\t\\t VSET=0.000V, ISET=1.000A.\\n|\\t\\t VOUT=0.000V, IOUT=0.000A.\\n|\\t\\t Output power: 0.000W.\\n--------------Instek DC Power Supply GPD-4303S Status Summary Ends--------------\\n'"
      ]
     },
     "execution_count": 95,
     "metadata": {},
     "output_type": "execute_result"
    }
   ],
   "source": [
    "rfps = InstekGppDCSupply(addr='ASRL10::INSTR', name='RF AMP PS')\n",
    "rfps.connect()\n",
    "rfps.printStatus()\n",
    "\n",
    "osps = InstekGPD_4303S(addr='ASRL5::INSTR', name='RF OSC PS')\n",
    "osps.connect()\n",
    "osps.printStatus()"
   ]
  },
  {
   "cell_type": "code",
   "execution_count": 6,
   "id": "0dc88fb7",
   "metadata": {},
   "outputs": [
    {
     "name": "stdout",
     "output_type": "stream",
     "text": [
      "Rb PDH RF AMP PS connected\n",
      "---------------------------------Rb PDH RF AMP PS--------------------------------\n",
      "|-------------------Instek GPP DC Power Supply Status Summary--------------------\n",
      "|--------------------Model: GPP-1326, Serial No.SN:GET921679---------------------\n",
      "|\t------------Channel Summary-------------\n",
      "|\t CHANNEL1: Activation \u001b[1;34;42mON\u001b[0m.\n",
      "|\t\t VSET=12.000V, ISET=1.000A.\n",
      "|\t\t VOUT=11.999V, IOUT=0.073A.\n",
      "|\t\t Output power: 0.872W.\n",
      "|\t\t ---Over Voltage/Current Protection Status:---\n",
      "|\t\t OVP Status: OFF\t OCP Status: OFF \n",
      "|\t\t OVP Level : 35.0 V\t OCP Level : 7.0 A\n",
      "-----------------Instek GPP DC Power Supply Status Summary Ends-----------------\n",
      "\n"
     ]
    },
    {
     "data": {
      "text/plain": [
       "'---------------------------------Rb PDH RF AMP PS--------------------------------\\n|-------------------Instek GPP DC Power Supply Status Summary--------------------\\n|--------------------Model: GPP-1326, Serial No.SN:GET921679---------------------\\n|\\t------------Channel Summary-------------\\n|\\t CHANNEL1: Activation \\x1b[1;34;42mON\\x1b[0m.\\n|\\t\\t VSET=12.000V, ISET=1.000A.\\n|\\t\\t VOUT=11.999V, IOUT=0.073A.\\n|\\t\\t Output power: 0.872W.\\n|\\t\\t ---Over Voltage/Current Protection Status:---\\n|\\t\\t OVP Status: OFF\\t OCP Status: OFF \\n|\\t\\t OVP Level : 35.0 V\\t OCP Level : 7.0 A\\n-----------------Instek GPP DC Power Supply Status Summary Ends-----------------\\n'"
      ]
     },
     "execution_count": 6,
     "metadata": {},
     "output_type": "execute_result"
    }
   ],
   "source": [
    "pdhps = InstekGppDCSupply(addr='ASRL34::INSTR', name='Rb PDH RF AMP PS')\n",
    "pdhps.connect()\n",
    "pdhps.printStatus()"
   ]
  },
  {
   "cell_type": "code",
   "execution_count": 4,
   "id": "4fcc47a9",
   "metadata": {},
   "outputs": [
    {
     "name": "stdout",
     "output_type": "stream",
     "text": [
      "Rb PDH RF AMP PS: ISET channel 1 set to 1.000A\n",
      "Rb PDH RF AMP PS: VSET channel 1 set to 12.000V\n"
     ]
    }
   ],
   "source": [
    "pdhps.Iset1 = 1\n",
    "pdhps.Vset1 = 12"
   ]
  },
  {
   "cell_type": "code",
   "execution_count": 5,
   "id": "9c7538b1",
   "metadata": {},
   "outputs": [
    {
     "name": "stdout",
     "output_type": "stream",
     "text": [
      "Rb PDH RF AMP PS: channel 1 output is turned ON\n"
     ]
    }
   ],
   "source": [
    "pdhps.activation1 = 1"
   ]
  },
  {
   "cell_type": "code",
   "execution_count": 291,
   "id": "9aded1ea",
   "metadata": {},
   "outputs": [
    {
     "name": "stdout",
     "output_type": "stream",
     "text": [
      "RF AMP PS: channel 1 output is turned OFF\n"
     ]
    }
   ],
   "source": [
    "rfps.activation1 = 0"
   ]
  },
  {
   "cell_type": "code",
   "execution_count": 296,
   "id": "a05c1d38",
   "metadata": {},
   "outputs": [
    {
     "name": "stdout",
     "output_type": "stream",
     "text": [
      "Instek GPD-4303S DCSupply: Output activation is turned ON.\n"
     ]
    }
   ],
   "source": [
    "osps.activation = 1"
   ]
  },
  {
   "cell_type": "code",
   "execution_count": 199,
   "id": "e4437e0b",
   "metadata": {},
   "outputs": [
    {
     "name": "stdout",
     "output_type": "stream",
     "text": [
      "Instek GPD-4303S DCSupply: VSET channel 3 set to 0.770V\n"
     ]
    }
   ],
   "source": [
    "osps.Vset3=0.77"
   ]
  },
  {
   "cell_type": "code",
   "execution_count": 338,
   "id": "e36aeb88",
   "metadata": {},
   "outputs": [
    {
     "name": "stdout",
     "output_type": "stream",
     "text": [
      "Instek GPD-4303S DCSupply: VSET channel 2 set to 15.000V\n"
     ]
    }
   ],
   "source": [
    "osps.Vset2=15"
   ]
  },
  {
   "cell_type": "code",
   "execution_count": 295,
   "id": "37b54b6d",
   "metadata": {},
   "outputs": [
    {
     "name": "stdout",
     "output_type": "stream",
     "text": [
      "------------------------------------RF OSC PS------------------------------------\n",
      "|----------------Instek DC Power Supply GPD-4303S Status Summary-----------------\n",
      "|--------------------Model: GPD-4303S, Serial No.SN:EV884423---------------------\n",
      "|\tMaster Activation: \u001b[1;34;41mOFF\u001b[0m\n",
      "|\t------------Channel Summary-------------\n",
      "|\t CH1: master, CH2: slave, mode UNRECOGNIZED?.\n",
      "|\t CHANNEL1: CC Mode.\n",
      "|\t\t VSET=0.000V, ISET=3.200A.\n",
      "|\t\t VOUT=0.000V, IOUT=0.000A.\n",
      "|\t\t Output power: 0.000W.\n",
      "|\t CHANNEL2: CC Mode.\n",
      "|\t\t VSET=0.000V, ISET=1.000A.\n",
      "|\t\t VOUT=0.000V, IOUT=0.000A.\n",
      "|\t\t Output power: 0.000W.\n",
      "|\t CHANNEL3: CC Mode.\n",
      "|\t\t VSET=0.770V, ISET=3.000A.\n",
      "|\t\t VOUT=0.000V, IOUT=0.000A.\n",
      "|\t\t Output power: 0.000W.\n",
      "|\t CHANNEL4: CV Mode.\n",
      "|\t\t VSET=0.000V, ISET=1.000A.\n",
      "|\t\t VOUT=0.000V, IOUT=0.000A.\n",
      "|\t\t Output power: 0.000W.\n",
      "--------------Instek DC Power Supply GPD-4303S Status Summary Ends--------------\n",
      "\n"
     ]
    },
    {
     "data": {
      "text/plain": [
       "'------------------------------------RF OSC PS------------------------------------\\n|----------------Instek DC Power Supply GPD-4303S Status Summary-----------------\\n|--------------------Model: GPD-4303S, Serial No.SN:EV884423---------------------\\n|\\tMaster Activation: \\x1b[1;34;41mOFF\\x1b[0m\\n|\\t------------Channel Summary-------------\\n|\\t CH1: master, CH2: slave, mode UNRECOGNIZED?.\\n|\\t CHANNEL1: CC Mode.\\n|\\t\\t VSET=0.000V, ISET=3.200A.\\n|\\t\\t VOUT=0.000V, IOUT=0.000A.\\n|\\t\\t Output power: 0.000W.\\n|\\t CHANNEL2: CC Mode.\\n|\\t\\t VSET=0.000V, ISET=1.000A.\\n|\\t\\t VOUT=0.000V, IOUT=0.000A.\\n|\\t\\t Output power: 0.000W.\\n|\\t CHANNEL3: CC Mode.\\n|\\t\\t VSET=0.770V, ISET=3.000A.\\n|\\t\\t VOUT=0.000V, IOUT=0.000A.\\n|\\t\\t Output power: 0.000W.\\n|\\t CHANNEL4: CV Mode.\\n|\\t\\t VSET=0.000V, ISET=1.000A.\\n|\\t\\t VOUT=0.000V, IOUT=0.000A.\\n|\\t\\t Output power: 0.000W.\\n--------------Instek DC Power Supply GPD-4303S Status Summary Ends--------------\\n'"
      ]
     },
     "execution_count": 295,
     "metadata": {},
     "output_type": "execute_result"
    }
   ],
   "source": [
    "osps.printStatus()"
   ]
  },
  {
   "cell_type": "code",
   "execution_count": 303,
   "id": "42bb65fb",
   "metadata": {},
   "outputs": [
    {
     "name": "stdout",
     "output_type": "stream",
     "text": [
      "Pendulum microwave counter connected\n"
     ]
    },
    {
     "data": {
      "text/plain": [
       "2.160000020000458"
      ]
     },
     "execution_count": 303,
     "metadata": {},
     "output_type": "execute_result"
    }
   ],
   "source": [
    "counter = PendulumCNT90()\n",
    "counter.connect()\n",
    "counter.measFreq('c')\n"
   ]
  },
  {
   "cell_type": "code",
   "execution_count": null,
   "id": "e73eaed6",
   "metadata": {},
   "outputs": [],
   "source": []
  },
  {
   "cell_type": "code",
   "execution_count": 2,
   "id": "0f276827",
   "metadata": {},
   "outputs": [
    {
     "name": "stdout",
     "output_type": "stream",
     "text": [
      "Stanford Research System SIM900 connected\n",
      "----------------------------SRS PID controller SIM960----------------------------\n",
      "|--------------------SRS PID controller SIM960 Status Summary--------------------\n",
      "|----------------------------SIM960,s/n033658,ver2.17----------------------------\n",
      "|\tOutput mode:\t\u001b[1;34;41mMAN\u001b[0m,\tOutput limit: -4.000V TO 4.000V\n",
      "|\tMeasured input:\t -0.00052V\n",
      "|\tAmplified error:\t -0.111895V\n",
      "|\tInstant Output voltage:\t -0.002108V\n",
      "|\tManual output set:\t 0.0V\n",
      "|\t================ Set Point related================\n",
      "|\t\tInternal setpoint = 0.04 V, Ramping \u001b[1;34;41mOFF\u001b[0m\n",
      "|\t\tSetpoint input mode EXT, Ext setpoint input -0.003739V\n",
      "|\t\tSetpoint RAMP speed = 0.01 V/s, action \u001b[1;34;41mOFF\u001b[0m\n",
      "|\t============= P,I,D and Offset Status=============\n",
      "|\t\t P = 30.0    , \taction = \u001b[1;34;42mON\u001b[0m\n",
      "|\t\t I = 0.1 1/s, \taction = \u001b[1;34;41mOFF\u001b[0m\n",
      "|\t\t D = 1e-05   s, \taction = \u001b[1;34;41mOFF\u001b[0m\n",
      "|\t\tOff = 0.3  V, \taction = \u001b[1;34;42mON\u001b[0m\n",
      "-----------------SRS PID controller SIM960 Status Summary Ends------------------\n",
      "\n"
     ]
    },
    {
     "data": {
      "text/plain": [
       "'----------------------------SRS PID controller SIM960----------------------------\\n|--------------------SRS PID controller SIM960 Status Summary--------------------\\n|----------------------------SIM960,s/n033658,ver2.17----------------------------\\n|\\tOutput mode:\\t\\x1b[1;34;41mMAN\\x1b[0m,\\tOutput limit: -4.000V TO 4.000V\\n|\\tMeasured input:\\t -0.00052V\\n|\\tAmplified error:\\t -0.111895V\\n|\\tInstant Output voltage:\\t -0.002108V\\n|\\tManual output set:\\t 0.0V\\n|\\t================ Set Point related================\\n|\\t\\tInternal setpoint = 0.04 V, Ramping \\x1b[1;34;41mOFF\\x1b[0m\\n|\\t\\tSetpoint input mode EXT, Ext setpoint input -0.003739V\\n|\\t\\tSetpoint RAMP speed = 0.01 V/s, action \\x1b[1;34;41mOFF\\x1b[0m\\n|\\t============= P,I,D and Offset Status=============\\n|\\t\\t P = 30.0    , \\taction = \\x1b[1;34;42mON\\x1b[0m\\n|\\t\\t I = 0.1 1/s, \\taction = \\x1b[1;34;41mOFF\\x1b[0m\\n|\\t\\t D = 1e-05   s, \\taction = \\x1b[1;34;41mOFF\\x1b[0m\\n|\\t\\tOff = 0.3  V, \\taction = \\x1b[1;34;42mON\\x1b[0m\\n-----------------SRS PID controller SIM960 Status Summary Ends------------------\\n'"
      ]
     },
     "execution_count": 2,
     "metadata": {},
     "output_type": "execute_result"
    }
   ],
   "source": [
    "srs = SRS_SIM900(addr=\"GPIB0::2::INSTR\")\n",
    "srs.connect()\n",
    "servo1 = SRS_PIDcontrol_SIM960(srs, 1)\n",
    "servo1.set_manual_output_max(4)\n",
    "servo1.set_manual_output_min(-4)\n",
    "servo1.printStatus()"
   ]
  },
  {
   "cell_type": "code",
   "execution_count": 9,
   "id": "088768a4",
   "metadata": {},
   "outputs": [
    {
     "name": "stdout",
     "output_type": "stream",
     "text": [
      "SRS PID controller SIM960: Proportional Gain Calculator action is set to ON.\n"
     ]
    }
   ],
   "source": [
    "servo1.prop_action=1"
   ]
  },
  {
   "cell_type": "code",
   "execution_count": 66,
   "id": "05ca31af",
   "metadata": {},
   "outputs": [
    {
     "name": "stdout",
     "output_type": "stream",
     "text": [
      "SRS PID controller SIM960: Manual output voltage Ramping. Disable this by set self.manual_output_ramp=0. \n",
      "Output in Manual Mode in Volt set to 0.400.\n",
      "Output in Manual Mode in Volt set to 0.296.\n",
      "Output in Manual Mode in Volt set to 0.191.\n",
      "Output in Manual Mode in Volt set to 0.087.\n",
      "Output in Manual Mode in Volt set to -0.017.\n",
      "Output in Manual Mode in Volt set to -0.122.\n",
      "Output in Manual Mode in Volt set to -0.226.\n",
      "Output in Manual Mode in Volt set to -0.330.\n",
      "Output in Manual Mode in Volt set to -0.435.\n",
      "Output in Manual Mode in Volt set to -0.539.\n",
      "Output in Manual Mode in Volt set to -0.643.\n",
      "Output in Manual Mode in Volt set to -0.748.\n",
      "Output in Manual Mode in Volt set to -0.852.\n",
      "Output in Manual Mode in Volt set to -0.957.\n",
      "Output in Manual Mode in Volt set to -1.061.\n",
      "Output in Manual Mode in Volt set to -1.165.\n",
      "Output in Manual Mode in Volt set to -1.270.\n",
      "Output in Manual Mode in Volt set to -1.374.\n",
      "Output in Manual Mode in Volt set to -1.478.\n",
      "Output in Manual Mode in Volt set to -1.583.\n",
      "Output in Manual Mode in Volt set to -1.687.\n",
      "Output in Manual Mode in Volt set to -1.791.\n",
      "Output in Manual Mode in Volt set to -1.896.\n",
      "Output in Manual Mode in Volt set to -2.000.\n",
      "SRS PID controller SIM960: PID output is turned OFF, output mode is turnd to Manual.\n"
     ]
    },
    {
     "name": "stderr",
     "output_type": "stream",
     "text": [
      "100%|████████████████████████████████████████████████████████████████████████████████| 100/100 [00:14<00:00,  6.95it/s]\n"
     ]
    },
    {
     "data": {
      "image/png": "[encoded data removed]",
      "text/plain": [
       "<Figure size 432x288 with 1 Axes>"
      ]
     },
     "metadata": {
      "needs_background": "light"
     },
     "output_type": "display_data"
    },
    {
     "name": "stdout",
     "output_type": "stream",
     "text": [
      "SRS PID controller SIM960: Manual output voltage Ramping. Disable this by set self.manual_output_ramp=0. \n",
      "Output in Manual Mode in Volt set to 4.000.\n",
      "Output in Manual Mode in Volt set to 3.897.\n",
      "Output in Manual Mode in Volt set to 3.795.\n",
      "Output in Manual Mode in Volt set to 3.692.\n",
      "Output in Manual Mode in Volt set to 3.590.\n",
      "Output in Manual Mode in Volt set to 3.487.\n",
      "Output in Manual Mode in Volt set to 3.385.\n",
      "Output in Manual Mode in Volt set to 3.282.\n",
      "Output in Manual Mode in Volt set to 3.179.\n",
      "Output in Manual Mode in Volt set to 3.077.\n",
      "Output in Manual Mode in Volt set to 2.974.\n",
      "Output in Manual Mode in Volt set to 2.872.\n",
      "Output in Manual Mode in Volt set to 2.769.\n",
      "Output in Manual Mode in Volt set to 2.667.\n",
      "Output in Manual Mode in Volt set to 2.564.\n",
      "Output in Manual Mode in Volt set to 2.462.\n",
      "Output in Manual Mode in Volt set to 2.359.\n",
      "Output in Manual Mode in Volt set to 2.256.\n",
      "Output in Manual Mode in Volt set to 2.154.\n",
      "Output in Manual Mode in Volt set to 2.051.\n",
      "Output in Manual Mode in Volt set to 1.949.\n",
      "Output in Manual Mode in Volt set to 1.846.\n",
      "Output in Manual Mode in Volt set to 1.744.\n",
      "Output in Manual Mode in Volt set to 1.641.\n",
      "Output in Manual Mode in Volt set to 1.538.\n",
      "Output in Manual Mode in Volt set to 1.436.\n",
      "Output in Manual Mode in Volt set to 1.333.\n",
      "Output in Manual Mode in Volt set to 1.231.\n",
      "Output in Manual Mode in Volt set to 1.128.\n",
      "Output in Manual Mode in Volt set to 1.026.\n",
      "Output in Manual Mode in Volt set to 0.923.\n",
      "Output in Manual Mode in Volt set to 0.821.\n",
      "Output in Manual Mode in Volt set to 0.718.\n",
      "Output in Manual Mode in Volt set to 0.615.\n",
      "Output in Manual Mode in Volt set to 0.513.\n",
      "Output in Manual Mode in Volt set to 0.410.\n",
      "Output in Manual Mode in Volt set to 0.308.\n",
      "Output in Manual Mode in Volt set to 0.205.\n",
      "Output in Manual Mode in Volt set to 0.103.\n",
      "Output in Manual Mode in Volt set to 0.000.\n"
     ]
    }
   ],
   "source": [
    "\n",
    "\n",
    "scan_start = -2\n",
    "scan_stop = 4\n",
    "num_steps= 100\n",
    "\n",
    "servo1.manual_output_ramp=0.1\n",
    "servo1.manual_output = scan_start\n",
    "\n",
    "r = servo1.manual_sweep(np.linspace(scan_start,scan_stop,num_steps))\n",
    "\n",
    "servo1.manual_output=0"
   ]
  },
  {
   "cell_type": "code",
   "execution_count": 67,
   "id": "6f33565f",
   "metadata": {},
   "outputs": [
    {
     "name": "stdout",
     "output_type": "stream",
     "text": [
      "SRS PID controller SIM960: Setting Locking set point in Volt to 0.04.\n"
     ]
    }
   ],
   "source": [
    "servo1.setpoint=0.04"
   ]
  },
  {
   "cell_type": "code",
   "execution_count": 80,
   "id": "b1655fe1",
   "metadata": {},
   "outputs": [
    {
     "name": "stdout",
     "output_type": "stream",
     "text": [
      "SRS PID controller SIM960: Setting Proportional Gain in V/V to 29.900000000000002.\n",
      "SRS PID controller SIM960: Proportional Gain Calculator action is set to ON.\n",
      "SRS PID controller SIM960: Setting Output offset in Volts to 0.3.\n",
      "SRS PID controller SIM960: Output Offset Calculator action is set to ON.\n",
      "SRS PID controller SIM960: Manual output voltage Ramping. Disable this by set self.manual_output_ramp=0. \n",
      "Output in Manual Mode in Volt set to 0.300.\n",
      "Output in Manual Mode in Volt set to 0.300.\n",
      "SRS PID controller SIM960: output mode 1 is understood as PID mode.\n",
      "SRS PID controller SIM960: PID output is turned ON.\n"
     ]
    }
   ],
   "source": [
    "servo1.prop_gain = 30\n",
    "servo1.prop_action = 1\n",
    "\n",
    "servo1.outoffset = 0.3\n",
    "servo1.outoffset_action = 1\n",
    "\n",
    "\n",
    "# servo1.setpoint = 0\n",
    "\n",
    "servo1.manual_output = servo1.outoffset\n",
    "\n",
    "servo1.output_mode = 1"
   ]
  },
  {
   "cell_type": "code",
   "execution_count": 70,
   "id": "99c926b3",
   "metadata": {},
   "outputs": [
    {
     "name": "stdout",
     "output_type": "stream",
     "text": [
      "SRS PID controller SIM960: Manual output voltage Ramping. Disable this by set self.manual_output_ramp=0. \n",
      "Output in Manual Mode in Volt set to 0.500.\n",
      "Output in Manual Mode in Volt set to 0.400.\n"
     ]
    }
   ],
   "source": [
    "servo1.manual_output = 0.4\n"
   ]
  },
  {
   "cell_type": "code",
   "execution_count": 71,
   "id": "96a3f76f",
   "metadata": {},
   "outputs": [
    {
     "data": {
      "text/plain": [
       "0.083564"
      ]
     },
     "execution_count": 71,
     "metadata": {},
     "output_type": "execute_result"
    }
   ],
   "source": [
    "servo1.measure_input"
   ]
  },
  {
   "cell_type": "code",
   "execution_count": 61,
   "id": "90b9cd53",
   "metadata": {},
   "outputs": [
    {
     "name": "stdout",
     "output_type": "stream",
     "text": [
      "SRS PID controller SIM960: output mode 1 is understood as PID mode.\n",
      "SRS PID controller SIM960: PID output is turned ON.\n"
     ]
    }
   ],
   "source": []
  },
  {
   "cell_type": "code",
   "execution_count": 79,
   "id": "c7c0bd4a",
   "metadata": {},
   "outputs": [
    {
     "name": "stdout",
     "output_type": "stream",
     "text": [
      "SRS PID controller SIM960: Manual output voltage Ramping. Disable this by set self.manual_output_ramp=0. \n",
      "Output in Manual Mode in Volt set to 0.400.\n",
      "Output in Manual Mode in Volt set to 0.300.\n"
     ]
    },
    {
     "data": {
      "text/plain": [
       "0.036338"
      ]
     },
     "execution_count": 79,
     "metadata": {},
     "output_type": "execute_result"
    }
   ],
   "source": [
    "servo1.manual_output = 0.3\n",
    "time.sleep(2)\n",
    "servo1.measure_input"
   ]
  },
  {
   "cell_type": "code",
   "execution_count": 21,
   "id": "fe59a230",
   "metadata": {},
   "outputs": [
    {
     "name": "stdout",
     "output_type": "stream",
     "text": [
      "SRS PID controller SIM960: Setting Proportional Gain in V/V to 1.9000000000000001.\n"
     ]
    }
   ],
   "source": [
    "servo1.prop_gain = 2"
   ]
  },
  {
   "cell_type": "code",
   "execution_count": null,
   "id": "b95458ae",
   "metadata": {},
   "outputs": [],
   "source": []
  },
  {
   "cell_type": "code",
   "execution_count": null,
   "id": "820617c5",
   "metadata": {},
   "outputs": [],
   "source": []
  },
  {
   "cell_type": "code",
   "execution_count": null,
   "id": "53c9a456",
   "metadata": {},
   "outputs": [],
   "source": []
  },
  {
   "cell_type": "code",
   "execution_count": 14,
   "id": "fe7d21ca",
   "metadata": {},
   "outputs": [
    {
     "name": "stdout",
     "output_type": "stream",
     "text": [
      "ORION Laser Module connected\n",
      "TE Resistence = 12689\n",
      "0\n",
      "1\n",
      "0\n",
      "-----------------------ORION Laser Module Status Summary------------------------\n",
      "-------------Product ID: RIO0175-5-01-4-AW2, Ver 0.11.7, SN: 806734-------------\n",
      "|\t Status Code: bytearray(b'\\x00\\x01\\x00\\x01\\x00\\x01')\n",
      "|\t Photo monitor voltage: 0.995 Volt (also mA, r=1kOhm)\n",
      "|\t Board Temp:   26.8766 °C\n",
      "|\t Thermis Temp: 19.6671 °C\n",
      "|\t Volatile Settings (reset to non-volatile after re-plug): \n",
      "|\t\t Diode Cur = 150.0000 mA, TEC Set = 19.720°C\n",
      "|\t Non Volatile Settings (Doesn't reset after re-plug): \n",
      "|\t\t Diode Cur = 144.0000 mA, TEC Set = 20.800°C\n",
      "---------------------ORION Laser Module Status Summary Ends---------------------\n"
     ]
    },
    {
     "data": {
      "text/plain": [
       "\"-----------------------ORION Laser Module Status Summary------------------------\\n-------------Product ID: RIO0175-5-01-4-AW2, Ver 0.11.7, SN: 806734-------------\\n|\\t Status Code: bytearray(b'\\\\x00\\\\x01\\\\x00\\\\x01\\\\x00\\\\x01')\\n|\\t Photo monitor voltage: 0.995 Volt (also mA, r=1kOhm)\\n|\\t Board Temp:   26.8766 °C\\n|\\t Thermis Temp: 19.6671 °C\\n|\\t Volatile Settings (reset to non-volatile after re-plug): \\n|\\t\\t Diode Cur = 150.0000 mA, TEC Set = 19.720°C\\n|\\t Non Volatile Settings (Doesn't reset after re-plug): \\n|\\t\\t Diode Cur = 144.0000 mA, TEC Set = 20.800°C\\n---------------------ORION Laser Module Status Summary Ends---------------------\""
      ]
     },
     "execution_count": 14,
     "metadata": {},
     "output_type": "execute_result"
    }
   ],
   "source": [
    "rio = ORIONLaser()\n",
    "rio.connect()\n",
    "# rio.writeLaserdiodeCur_mA(150) # 144 to 165\n",
    "# rio.writeTECsetpoint(19.8)\n",
    "print(f\"TE Resistence = {int.from_bytes(rio.query(0x1F)['data'], byteorder='big')}\")\n",
    "rio.printStatus()"
   ]
  },
  {
   "cell_type": "code",
   "execution_count": 62,
   "id": "66526175",
   "metadata": {},
   "outputs": [
    {
     "name": "stdout",
     "output_type": "stream",
     "text": [
      "ORION Laser Module connected\n",
      "TE Resistence = 12689\n",
      "0\n",
      "1\n",
      "0\n",
      "-----------------------ORION Laser Module Status Summary------------------------\n",
      "-------------Product ID: RIO0175-5-01-4-AW2, Ver 0.11.7, SN: 806734-------------\n",
      "|\t Status Code: bytearray(b'\\x00\\x01\\x00\\x01\\x00\\x01')\n",
      "|\t Photo monitor voltage: 0.996 Volt (also mA, r=1kOhm)\n",
      "|\t Board Temp:   24.5456 °C\n",
      "|\t Thermis Temp: 19.6119 °C\n",
      "|\t Volatile Settings (reset to non-volatile after re-plug): \n",
      "|\t\t Diode Cur = 150.0000 mA, TEC Set = 19.720°C\n",
      "|\t Non Volatile Settings (Doesn't reset after re-plug): \n",
      "|\t\t Diode Cur = 144.0000 mA, TEC Set = 20.800°C\n",
      "---------------------ORION Laser Module Status Summary Ends---------------------\n"
     ]
    },
    {
     "data": {
      "text/plain": [
       "\"-----------------------ORION Laser Module Status Summary------------------------\\n-------------Product ID: RIO0175-5-01-4-AW2, Ver 0.11.7, SN: 806734-------------\\n|\\t Status Code: bytearray(b'\\\\x00\\\\x01\\\\x00\\\\x01\\\\x00\\\\x01')\\n|\\t Photo monitor voltage: 0.996 Volt (also mA, r=1kOhm)\\n|\\t Board Temp:   24.5456 °C\\n|\\t Thermis Temp: 19.6119 °C\\n|\\t Volatile Settings (reset to non-volatile after re-plug): \\n|\\t\\t Diode Cur = 150.0000 mA, TEC Set = 19.720°C\\n|\\t Non Volatile Settings (Doesn't reset after re-plug): \\n|\\t\\t Diode Cur = 144.0000 mA, TEC Set = 20.800°C\\n---------------------ORION Laser Module Status Summary Ends---------------------\""
      ]
     },
     "execution_count": 62,
     "metadata": {},
     "output_type": "execute_result"
    }
   ],
   "source": [
    "rio = ORIONLaser()\n",
    "rio.connect()\n",
    "# rio.writeLaserdiodeCur_mA(150) # 144 to 165\n",
    "# rio.writeTECsetpoint(19.8)\n",
    "print(f\"TE Resistence = {int.from_bytes(rio.query(0x1F)['data'], byteorder='big')}\")\n",
    "rio.printStatus()"
   ]
  },
  {
   "cell_type": "code",
   "execution_count": 81,
   "id": "8b9becd8",
   "metadata": {},
   "outputs": [
    {
     "name": "stdout",
     "output_type": "stream",
     "text": [
      "TE Resistence = 12689\n"
     ]
    }
   ],
   "source": [
    "rio.writeTECsetpoint(19.72)\n",
    "print(f\"TE Resistence = {int.from_bytes(rio.query(0x1F)['data'], byteorder='big')}\")"
   ]
  },
  {
   "cell_type": "code",
   "execution_count": 38,
   "id": "7567c8ca",
   "metadata": {},
   "outputs": [
    {
     "name": "stdout",
     "output_type": "stream",
     "text": [
      "0\n",
      "1\n",
      "0\n",
      "-----------------------ORION Laser Module Status Summary------------------------\n",
      "-------------Product ID: RIO0175-5-01-4-AW2, Ver 0.11.7, SN: 806734-------------\n",
      "|\t Status Code: bytearray(b'\\x00\\x01\\x00\\x01\\x00\\x01')\n",
      "|\t Photo monitor voltage: 0.993 Volt (also mA, r=1kOhm)\n",
      "|\t Board Temp:   25.3296 °C\n",
      "|\t Thermis Temp: 19.6312 °C\n",
      "|\t Volatile Settings (reset to non-volatile after re-plug): \n",
      "|\t\t Diode Cur = 150.0000 mA, TEC Set = 19.720°C\n",
      "|\t Non Volatile Settings (Doesn't reset after re-plug): \n",
      "|\t\t Diode Cur = 144.0000 mA, TEC Set = 20.800°C\n",
      "---------------------ORION Laser Module Status Summary Ends---------------------\n"
     ]
    },
    {
     "data": {
      "text/plain": [
       "\"-----------------------ORION Laser Module Status Summary------------------------\\n-------------Product ID: RIO0175-5-01-4-AW2, Ver 0.11.7, SN: 806734-------------\\n|\\t Status Code: bytearray(b'\\\\x00\\\\x01\\\\x00\\\\x01\\\\x00\\\\x01')\\n|\\t Photo monitor voltage: 0.993 Volt (also mA, r=1kOhm)\\n|\\t Board Temp:   25.3296 °C\\n|\\t Thermis Temp: 19.6312 °C\\n|\\t Volatile Settings (reset to non-volatile after re-plug): \\n|\\t\\t Diode Cur = 150.0000 mA, TEC Set = 19.720°C\\n|\\t Non Volatile Settings (Doesn't reset after re-plug): \\n|\\t\\t Diode Cur = 144.0000 mA, TEC Set = 20.800°C\\n---------------------ORION Laser Module Status Summary Ends---------------------\""
      ]
     },
     "execution_count": 38,
     "metadata": {},
     "output_type": "execute_result"
    }
   ],
   "source": [
    "rio.printStatus()"
   ]
  },
  {
   "cell_type": "code",
   "execution_count": 25,
   "id": "2ad0e9bb",
   "metadata": {},
   "outputs": [
    {
     "name": "stdout",
     "output_type": "stream",
     "text": [
      "Instek GPD-4303S DCSupply: Output activation is turned ON.\n"
     ]
    }
   ],
   "source": [
    "osps.activation=1\n"
   ]
  },
  {
   "cell_type": "code",
   "execution_count": 26,
   "id": "b24d8344",
   "metadata": {},
   "outputs": [
    {
     "name": "stdout",
     "output_type": "stream",
     "text": [
      "RF AMP PS: channel 1 output is turned ON\n"
     ]
    }
   ],
   "source": [
    "rfps.activation1=1"
   ]
  },
  {
   "cell_type": "code",
   "execution_count": 27,
   "id": "430a73db",
   "metadata": {},
   "outputs": [
    {
     "name": "stdout",
     "output_type": "stream",
     "text": [
      "------------------------------------RF OSC PS------------------------------------\n",
      "|----------------Instek DC Power Supply GPD-4303S Status Summary-----------------\n",
      "|--------------------Model: GPD-4303S, Serial No.SN:EV884423---------------------\n",
      "|\tMaster Activation: \u001b[1;34;42mON\u001b[0m\n",
      "|\t------------Channel Summary-------------\n",
      "|\t CH1: master, CH2: slave, mode UNRECOGNIZED?.\n",
      "|\t CHANNEL1: CV Mode.\n",
      "|\t\t VSET=0.000V, ISET=3.200A.\n",
      "|\t\t VOUT=0.000V, IOUT=0.000A.\n",
      "|\t\t Output power: 0.000W.\n",
      "|\t CHANNEL2: CV Mode.\n",
      "|\t\t VSET=15.000V, ISET=1.000A.\n",
      "|\t\t VOUT=14.995V, IOUT=0.438A.\n",
      "|\t\t Output power: 6.568W.\n",
      "|\t CHANNEL3: CV Mode.\n",
      "|\t\t VSET=0.788V, ISET=3.000A.\n",
      "|\t\t VOUT=0.788V, IOUT=0.002A.\n",
      "|\t\t Output power: 0.002W.\n",
      "|\t CHANNEL4: CV Mode.\n",
      "|\t\t VSET=0.000V, ISET=1.000A.\n",
      "|\t\t VOUT=0.000V, IOUT=0.000A.\n",
      "|\t\t Output power: 0.000W.\n",
      "--------------Instek DC Power Supply GPD-4303S Status Summary Ends--------------\n",
      "\n"
     ]
    },
    {
     "data": {
      "text/plain": [
       "'------------------------------------RF OSC PS------------------------------------\\n|----------------Instek DC Power Supply GPD-4303S Status Summary-----------------\\n|--------------------Model: GPD-4303S, Serial No.SN:EV884423---------------------\\n|\\tMaster Activation: \\x1b[1;34;42mON\\x1b[0m\\n|\\t------------Channel Summary-------------\\n|\\t CH1: master, CH2: slave, mode UNRECOGNIZED?.\\n|\\t CHANNEL1: CV Mode.\\n|\\t\\t VSET=0.000V, ISET=3.200A.\\n|\\t\\t VOUT=0.000V, IOUT=0.000A.\\n|\\t\\t Output power: 0.000W.\\n|\\t CHANNEL2: CV Mode.\\n|\\t\\t VSET=15.000V, ISET=1.000A.\\n|\\t\\t VOUT=14.995V, IOUT=0.438A.\\n|\\t\\t Output power: 6.568W.\\n|\\t CHANNEL3: CV Mode.\\n|\\t\\t VSET=0.788V, ISET=3.000A.\\n|\\t\\t VOUT=0.788V, IOUT=0.002A.\\n|\\t\\t Output power: 0.002W.\\n|\\t CHANNEL4: CV Mode.\\n|\\t\\t VSET=0.000V, ISET=1.000A.\\n|\\t\\t VOUT=0.000V, IOUT=0.000A.\\n|\\t\\t Output power: 0.000W.\\n--------------Instek DC Power Supply GPD-4303S Status Summary Ends--------------\\n'"
      ]
     },
     "execution_count": 27,
     "metadata": {},
     "output_type": "execute_result"
    }
   ],
   "source": [
    "osps.printStatus()"
   ]
  },
  {
   "cell_type": "code",
   "execution_count": 33,
   "id": "097c02b0",
   "metadata": {},
   "outputs": [
    {
     "name": "stdout",
     "output_type": "stream",
     "text": [
      "Instek GPD-4303S DCSupply: VSET channel 3 set to 0.730V\n"
     ]
    }
   ],
   "source": [
    "osps.Vset3 = 0.73"
   ]
  },
  {
   "cell_type": "code",
   "execution_count": 3,
   "id": "3359222e",
   "metadata": {},
   "outputs": [
    {
     "ename": "NameError",
     "evalue": "name 'servo2' is not defined",
     "output_type": "error",
     "traceback": [
      "\u001b[1;31m---------------------------------------------------------------------------\u001b[0m",
      "\u001b[1;31mNameError\u001b[0m                                 Traceback (most recent call last)",
      "Input \u001b[1;32mIn [3]\u001b[0m, in \u001b[0;36m<cell line: 1>\u001b[1;34m()\u001b[0m\n\u001b[1;32m----> 1\u001b[0m \u001b[43mservo2\u001b[49m\u001b[38;5;241m.\u001b[39mprintStatus()\n",
      "\u001b[1;31mNameError\u001b[0m: name 'servo2' is not defined"
     ]
    }
   ],
   "source": [
    "servo2.printStatus()"
   ]
  },
  {
   "cell_type": "code",
   "execution_count": 73,
   "id": "506052f4",
   "metadata": {},
   "outputs": [
    {
     "data": {
      "text/plain": [
       "0.426493"
      ]
     },
     "execution_count": 73,
     "metadata": {},
     "output_type": "execute_result"
    }
   ],
   "source": [
    "servo1.output_voltage"
   ]
  },
  {
   "cell_type": "code",
   "execution_count": 69,
   "id": "d6a80334",
   "metadata": {},
   "outputs": [
    {
     "data": {
      "text/plain": [
       "-0.014971"
      ]
     },
     "execution_count": 69,
     "metadata": {},
     "output_type": "execute_result"
    }
   ],
   "source": [
    "servo1.measure_input"
   ]
  },
  {
   "cell_type": "code",
   "execution_count": 5,
   "id": "b70d555f",
   "metadata": {},
   "outputs": [
    {
     "name": "stdout",
     "output_type": "stream",
     "text": [
      "----------------------------SRS PID controller SIM960----------------------------\n",
      "|--------------------SRS PID controller SIM960 Status Summary--------------------\n",
      "|----------------------------SIM960,s/n033669,ver2.17----------------------------\n",
      "|\tOutput mode:\t\u001b[1;34;41mMAN\u001b[0m,\tOutput limit: -3.000V TO 3.000V\n",
      "|\tMeasured input:\t 1.768196V\n",
      "|\tAmplified error:\t 0.938439V\n",
      "|\tInstant Output voltage:\t 0.206799V\n",
      "|\tManual output set:\t 0.21V\n",
      "|\t================ Set Point related================\n",
      "|\t\tInternal setpoint = 2.003 V, Ramping \u001b[1;34;41mOFF\u001b[0m\n",
      "|\t\tSetpoint input mode INT, Ext setpoint input 2.00197V\n",
      "|\t\tSetpoint RAMP speed = 0.01 V/s, action \u001b[1;34;41mOFF\u001b[0m\n",
      "|\t============= P,I,D and Offset Status=============\n",
      "|\t\t P = 4.0    , \taction = \u001b[1;34;42mON\u001b[0m\n",
      "|\t\t I = 0.1 1/s, \taction = \u001b[1;34;41mOFF\u001b[0m\n",
      "|\t\t D = 1e-05   s, \taction = \u001b[1;34;41mOFF\u001b[0m\n",
      "|\t\tOff = 0.41  V, \taction = \u001b[1;34;42mON\u001b[0m\n",
      "-----------------SRS PID controller SIM960 Status Summary Ends------------------\n",
      "\n"
     ]
    },
    {
     "data": {
      "text/plain": [
       "'----------------------------SRS PID controller SIM960----------------------------\\n|--------------------SRS PID controller SIM960 Status Summary--------------------\\n|----------------------------SIM960,s/n033669,ver2.17----------------------------\\n|\\tOutput mode:\\t\\x1b[1;34;41mMAN\\x1b[0m,\\tOutput limit: -3.000V TO 3.000V\\n|\\tMeasured input:\\t 1.768196V\\n|\\tAmplified error:\\t 0.938439V\\n|\\tInstant Output voltage:\\t 0.206799V\\n|\\tManual output set:\\t 0.21V\\n|\\t================ Set Point related================\\n|\\t\\tInternal setpoint = 2.003 V, Ramping \\x1b[1;34;41mOFF\\x1b[0m\\n|\\t\\tSetpoint input mode INT, Ext setpoint input 2.00197V\\n|\\t\\tSetpoint RAMP speed = 0.01 V/s, action \\x1b[1;34;41mOFF\\x1b[0m\\n|\\t============= P,I,D and Offset Status=============\\n|\\t\\t P = 4.0    , \\taction = \\x1b[1;34;42mON\\x1b[0m\\n|\\t\\t I = 0.1 1/s, \\taction = \\x1b[1;34;41mOFF\\x1b[0m\\n|\\t\\t D = 1e-05   s, \\taction = \\x1b[1;34;41mOFF\\x1b[0m\\n|\\t\\tOff = 0.41  V, \\taction = \\x1b[1;34;42mON\\x1b[0m\\n-----------------SRS PID controller SIM960 Status Summary Ends------------------\\n'"
      ]
     },
     "execution_count": 5,
     "metadata": {},
     "output_type": "execute_result"
    }
   ],
   "source": [
    "servo2 = SRS_PIDcontrol_SIM960(srs, 3)\n",
    "servo2.printStatus()"
   ]
  },
  {
   "cell_type": "code",
   "execution_count": 75,
   "id": "dcd0cd03",
   "metadata": {},
   "outputs": [
    {
     "name": "stdout",
     "output_type": "stream",
     "text": [
      "SRS PID controller SIM960: Manual output voltage Ramping. Disable this by set self.manual_output_ramp=0. \n",
      "Output in Manual Mode in Volt set to 0.420.\n",
      "Output in Manual Mode in Volt set to 0.319.\n",
      "Output in Manual Mode in Volt set to 0.217.\n",
      "Output in Manual Mode in Volt set to 0.116.\n",
      "Output in Manual Mode in Volt set to 0.014.\n",
      "Output in Manual Mode in Volt set to -0.087.\n",
      "Output in Manual Mode in Volt set to -0.189.\n",
      "Output in Manual Mode in Volt set to -0.290.\n",
      "Output in Manual Mode in Volt set to -0.391.\n",
      "Output in Manual Mode in Volt set to -0.493.\n",
      "Output in Manual Mode in Volt set to -0.594.\n",
      "Output in Manual Mode in Volt set to -0.696.\n",
      "Output in Manual Mode in Volt set to -0.797.\n",
      "Output in Manual Mode in Volt set to -0.899.\n",
      "Output in Manual Mode in Volt set to -1.000.\n",
      "SRS PID controller SIM960: PID output is turned OFF, output mode is turnd to Manual.\n"
     ]
    },
    {
     "name": "stderr",
     "output_type": "stream",
     "text": [
      "100%|████████████████████████████████████████████████████████████████████████████████| 100/100 [00:14<00:00,  7.14it/s]\n"
     ]
    },
    {
     "data": {
      "image/png": "[encoded data removed]",
      "text/plain": [
       "<Figure size 432x288 with 1 Axes>"
      ]
     },
     "metadata": {
      "needs_background": "light"
     },
     "output_type": "display_data"
    },
    {
     "name": "stdout",
     "output_type": "stream",
     "text": [
      "SRS PID controller SIM960: Manual output voltage Ramping. Disable this by set self.manual_output_ramp=0. \n",
      "Output in Manual Mode in Volt set to 2.000.\n",
      "Output in Manual Mode in Volt set to 1.895.\n",
      "Output in Manual Mode in Volt set to 1.789.\n",
      "Output in Manual Mode in Volt set to 1.684.\n",
      "Output in Manual Mode in Volt set to 1.579.\n",
      "Output in Manual Mode in Volt set to 1.473.\n",
      "Output in Manual Mode in Volt set to 1.368.\n",
      "Output in Manual Mode in Volt set to 1.263.\n",
      "Output in Manual Mode in Volt set to 1.157.\n",
      "Output in Manual Mode in Volt set to 1.052.\n",
      "Output in Manual Mode in Volt set to 0.947.\n",
      "Output in Manual Mode in Volt set to 0.841.\n",
      "Output in Manual Mode in Volt set to 0.736.\n",
      "Output in Manual Mode in Volt set to 0.631.\n",
      "Output in Manual Mode in Volt set to 0.525.\n",
      "Output in Manual Mode in Volt set to 0.420.\n"
     ]
    }
   ],
   "source": [
    "scan_start = -1\n",
    "scan_stop = 2\n",
    "num_steps= 100\n",
    "\n",
    "servo2.manual_output_ramp=0.1\n",
    "servo2.manual_output = scan_start\n",
    "\n",
    "r = servo2.manual_sweep(np.linspace(scan_start,scan_stop,num_steps))\n",
    "\n",
    "servo2.manual_output=0.42"
   ]
  },
  {
   "cell_type": "code",
   "execution_count": 94,
   "id": "0788e366",
   "metadata": {},
   "outputs": [
    {
     "name": "stdout",
     "output_type": "stream",
     "text": [
      "----------------------------SRS PID controller SIM960----------------------------\n",
      "|--------------------SRS PID controller SIM960 Status Summary--------------------\n",
      "|----------------------------SIM960,s/n033669,ver2.17----------------------------\n",
      "|\tOutput mode:\t\u001b[1;34;42mPID\u001b[0m,\tOutput limit: -3.000V TO 3.000V\n",
      "|\tMeasured input:\t 2.535797V\n",
      "|\tAmplified error:\t -0.04355V\n",
      "|\tInstant Output voltage:\t 0.406591V\n",
      "|\tManual output set:\t 0.45V\n",
      "|\t================ Set Point related================\n",
      "|\t\tInternal setpoint = 2.525 V, Ramping \u001b[1;34;41mOFF\u001b[0m\n",
      "|\t\tSetpoint input mode INT, Ext setpoint input 2.523747V\n",
      "|\t\tSetpoint RAMP speed = 0.01 V/s, action \u001b[1;34;41mOFF\u001b[0m\n",
      "|\t============= P,I,D and Offset Status=============\n",
      "|\t\t P = 4.0    , \taction = \u001b[1;34;42mON\u001b[0m\n",
      "|\t\t I = 0.1 1/s, \taction = \u001b[1;34;41mOFF\u001b[0m\n",
      "|\t\t D = 1e-05   s, \taction = \u001b[1;34;41mOFF\u001b[0m\n",
      "|\t\tOff = 0.45  V, \taction = \u001b[1;34;42mON\u001b[0m\n",
      "-----------------SRS PID controller SIM960 Status Summary Ends------------------\n",
      "\n"
     ]
    },
    {
     "data": {
      "text/plain": [
       "'----------------------------SRS PID controller SIM960----------------------------\\n|--------------------SRS PID controller SIM960 Status Summary--------------------\\n|----------------------------SIM960,s/n033669,ver2.17----------------------------\\n|\\tOutput mode:\\t\\x1b[1;34;42mPID\\x1b[0m,\\tOutput limit: -3.000V TO 3.000V\\n|\\tMeasured input:\\t 2.535797V\\n|\\tAmplified error:\\t -0.04355V\\n|\\tInstant Output voltage:\\t 0.406591V\\n|\\tManual output set:\\t 0.45V\\n|\\t================ Set Point related================\\n|\\t\\tInternal setpoint = 2.525 V, Ramping \\x1b[1;34;41mOFF\\x1b[0m\\n|\\t\\tSetpoint input mode INT, Ext setpoint input 2.523747V\\n|\\t\\tSetpoint RAMP speed = 0.01 V/s, action \\x1b[1;34;41mOFF\\x1b[0m\\n|\\t============= P,I,D and Offset Status=============\\n|\\t\\t P = 4.0    , \\taction = \\x1b[1;34;42mON\\x1b[0m\\n|\\t\\t I = 0.1 1/s, \\taction = \\x1b[1;34;41mOFF\\x1b[0m\\n|\\t\\t D = 1e-05   s, \\taction = \\x1b[1;34;41mOFF\\x1b[0m\\n|\\t\\tOff = 0.45  V, \\taction = \\x1b[1;34;42mON\\x1b[0m\\n-----------------SRS PID controller SIM960 Status Summary Ends------------------\\n'"
      ]
     },
     "execution_count": 94,
     "metadata": {},
     "output_type": "execute_result"
    }
   ],
   "source": [
    "servo2.printStatus()"
   ]
  },
  {
   "cell_type": "code",
   "execution_count": 6,
   "id": "34c0e041",
   "metadata": {},
   "outputs": [
    {
     "name": "stdout",
     "output_type": "stream",
     "text": [
      "SRS PID controller SIM960: Setting Locking set point in Volt to 1.8.\n"
     ]
    }
   ],
   "source": [
    "servo2.setpoint = 1.8\n"
   ]
  },
  {
   "cell_type": "code",
   "execution_count": 5,
   "id": "091efa48",
   "metadata": {},
   "outputs": [
    {
     "name": "stdout",
     "output_type": "stream",
     "text": [
      "SRS PID controller SIM960: Setting Locking set point in Volt to 2.003.\n",
      "SRS PID controller SIM960: Setting Output offset in Volts to 0.41.\n"
     ]
    }
   ],
   "source": [
    "servo2.setpoint = 2.003\n",
    "servo2.outoffset = 0.41\n",
    "# servo2.outoffset_action = 1"
   ]
  },
  {
   "cell_type": "code",
   "execution_count": 92,
   "id": "c8ab3161",
   "metadata": {},
   "outputs": [
    {
     "data": {
      "text/plain": [
       "0.42"
      ]
     },
     "execution_count": 92,
     "metadata": {},
     "output_type": "execute_result"
    }
   ],
   "source": [
    "servo2.outoffset"
   ]
  },
  {
   "cell_type": "code",
   "execution_count": 168,
   "id": "b9480767",
   "metadata": {},
   "outputs": [
    {
     "name": "stdout",
     "output_type": "stream",
     "text": [
      "SRS PID controller SIM960: output mode 1 is understood as PID mode.\n",
      "SRS PID controller SIM960: PID output is turned ON.\n"
     ]
    }
   ],
   "source": [
    "servo2.output_mode=1"
   ]
  },
  {
   "cell_type": "code",
   "execution_count": 298,
   "id": "f60f64e9",
   "metadata": {},
   "outputs": [
    {
     "name": "stdout",
     "output_type": "stream",
     "text": [
      "ANDO AQ-6315E Optical Spectrum Analyzer connected\n"
     ]
    },
    {
     "data": {
      "text/plain": [
       "1"
      ]
     },
     "execution_count": 298,
     "metadata": {},
     "output_type": "execute_result"
    }
   ],
   "source": [
    "osa = AndoOSA_AQ6315E(addr=\"GPIB1::1::INSTR\")\n",
    "osa.connect()"
   ]
  },
  {
   "cell_type": "code",
   "execution_count": 299,
   "id": "1d513186",
   "metadata": {},
   "outputs": [
    {
     "data": {
      "image/png": "[encoded data removed]",
      "text/plain": [
       "<Figure size 432x288 with 1 Axes>"
      ]
     },
     "metadata": {
      "needs_background": "light"
     },
     "output_type": "display_data"
    },
    {
     "name": "stdout",
     "output_type": "stream",
     "text": [
      "ANDO AQ-6315E Optical Spectrum Analyzer: Trace C data is collected and is shown in the plot.\n"
     ]
    },
    {
     "data": {
      "text/plain": [
       "(array([1554.4  , 1554.412, 1554.424, ..., 1566.376, 1566.388, 1566.4  ],\n",
       "       dtype=float32),\n",
       " array([ -70.87,  -68.62,  -67.14, ..., -210.  ,  -67.1 ,  -63.18],\n",
       "       dtype=float32))"
      ]
     },
     "execution_count": 299,
     "metadata": {},
     "output_type": "execute_result"
    }
   ],
   "source": [
    "osa.get_trace('c')"
   ]
  },
  {
   "cell_type": "code",
   "execution_count": 336,
   "id": "e482accb",
   "metadata": {},
   "outputs": [
    {
     "name": "stderr",
     "output_type": "stream",
     "text": [
      "Z:\\Maodong\\Projects\\Keck\\Keck Comb\\LFC\\Hardware\\AndoOSA_AQ6315E.py:291: UserWarning: ANDO AQ-6315E Optical Spectrum Analyzer: Filename extension .mat is ignored. This function save ['.mat', '.txt']. Change extension to save by extensions=['.mat']\n",
      "  warnings.warn(self.devicename + \": Filename extension \" + os.path.splitext(single_filename)[-1] +\n"
     ]
    },
    {
     "data": {
      "image/png": "[encoded data removed]",
      "text/plain": [
       "<Figure size 432x288 with 1 Axes>"
      ]
     },
     "metadata": {
      "needs_background": "light"
     },
     "output_type": "display_data"
    },
    {
     "name": "stdout",
     "output_type": "stream",
     "text": [
      "ANDO AQ-6315E Optical Spectrum Analyzer: Trace B data is collected and is shown in the plot.\n",
      "ANDO AQ-6315E Optical Spectrum Analyzer: Trace B data is saved to Z:\\Maodong\\Projects\\Keck\\Filter Cavity test\\20221232_Change_RepRate\\mode4_25.76C_35.6V\\Rep_16G-4.6900-3.mat\n",
      "ANDO AQ-6315E Optical Spectrum Analyzer: Trace B data is saved to Z:\\Maodong\\Projects\\Keck\\Filter Cavity test\\20221232_Change_RepRate\\mode4_25.76C_35.6V\\Rep_16G-4.6900-3.txt\n"
     ]
    }
   ],
   "source": [
    "filedir = r\"Z:\\Maodong\\Projects\\Keck\\Filter Cavity test\\20221232_Change_RepRate\\mode4_25.76C_35.6V\"\n",
    "osa.save_trace('b', filedir+'\\\\'+f\"Rep_16G-{(16e9-counter.measFreq('c'))/1e6:.4f}\"+\"-3.mat\")\n"
   ]
  },
  {
   "cell_type": "code",
   "execution_count": 318,
   "id": "b442d4ca",
   "metadata": {},
   "outputs": [
    {
     "name": "stdout",
     "output_type": "stream",
     "text": [
      "PPLN TEC connected\n"
     ]
    },
    {
     "data": {
      "text/plain": [
       "1"
      ]
     },
     "execution_count": 318,
     "metadata": {},
     "output_type": "execute_result"
    }
   ],
   "source": [
    "ppln_tec = TEC_LDT5525B()\n",
    "ppln_tec.connect()"
   ]
  },
  {
   "cell_type": "code",
   "execution_count": 117,
   "id": "7e767fdc",
   "metadata": {},
   "outputs": [],
   "source": [
    "ppln_tec.Tset=37.2"
   ]
  },
  {
   "cell_type": "code",
   "execution_count": 164,
   "id": "c8cf68a1",
   "metadata": {},
   "outputs": [
    {
     "data": {
      "text/plain": [
       "'37.2'"
      ]
     },
     "execution_count": 164,
     "metadata": {},
     "output_type": "execute_result"
    }
   ],
   "source": [
    "ppln_tec.Tset"
   ]
  },
  {
   "cell_type": "code",
   "execution_count": 118,
   "id": "04550422",
   "metadata": {},
   "outputs": [
    {
     "name": "stdout",
     "output_type": "stream",
     "text": [
      "---------------------------------Rb PDH RF AMP PS--------------------------------\n",
      "|-------------------Instek GPP DC Power Supply Status Summary--------------------\n",
      "|--------------------Model: GPP-1326, Serial No.SN:GET921679---------------------\n",
      "|\t------------Channel Summary-------------\n",
      "|\t CHANNEL1: Activation \u001b[1;34;42mON\u001b[0m.\n",
      "|\t\t VSET=12.000V, ISET=1.000A.\n",
      "|\t\t VOUT=11.999V, IOUT=0.072A.\n",
      "|\t\t Output power: 0.868W.\n",
      "|\t\t ---Over Voltage/Current Protection Status:---\n",
      "|\t\t OVP Status: OFF\t OCP Status: OFF \n",
      "|\t\t OVP Level : 35.0 V\t OCP Level : 7.0 A\n",
      "-----------------Instek GPP DC Power Supply Status Summary Ends-----------------\n",
      "\n"
     ]
    },
    {
     "data": {
      "text/plain": [
       "'---------------------------------Rb PDH RF AMP PS--------------------------------\\n|-------------------Instek GPP DC Power Supply Status Summary--------------------\\n|--------------------Model: GPP-1326, Serial No.SN:GET921679---------------------\\n|\\t------------Channel Summary-------------\\n|\\t CHANNEL1: Activation \\x1b[1;34;42mON\\x1b[0m.\\n|\\t\\t VSET=12.000V, ISET=1.000A.\\n|\\t\\t VOUT=11.999V, IOUT=0.072A.\\n|\\t\\t Output power: 0.868W.\\n|\\t\\t ---Over Voltage/Current Protection Status:---\\n|\\t\\t OVP Status: OFF\\t OCP Status: OFF \\n|\\t\\t OVP Level : 35.0 V\\t OCP Level : 7.0 A\\n-----------------Instek GPP DC Power Supply Status Summary Ends-----------------\\n'"
      ]
     },
     "execution_count": 118,
     "metadata": {},
     "output_type": "execute_result"
    }
   ],
   "source": [
    "pdhps.printStatus()"
   ]
  },
  {
   "cell_type": "code",
   "execution_count": 177,
   "id": "677ed0e1",
   "metadata": {},
   "outputs": [
    {
     "name": "stdout",
     "output_type": "stream",
     "text": [
      "RF AMP PS: channel 1 output is turned OFF\n"
     ]
    }
   ],
   "source": [
    "rfps.activation1=0"
   ]
  },
  {
   "cell_type": "code",
   "execution_count": 337,
   "id": "e229f076",
   "metadata": {},
   "outputs": [
    {
     "name": "stdout",
     "output_type": "stream",
     "text": [
      "Instek GPD-4303S DCSupply: Output activation is turned OFF.\n"
     ]
    }
   ],
   "source": [
    "osps.activation=0"
   ]
  },
  {
   "cell_type": "code",
   "execution_count": 151,
   "id": "34de6e52",
   "metadata": {},
   "outputs": [
    {
     "data": {
      "text/plain": [
       "0.436"
      ]
     },
     "execution_count": 151,
     "metadata": {},
     "output_type": "execute_result"
    }
   ],
   "source": [
    "\n",
    "osps.Iout2"
   ]
  },
  {
   "cell_type": "code",
   "execution_count": 172,
   "id": "91fcedac",
   "metadata": {},
   "outputs": [
    {
     "name": "stdout",
     "output_type": "stream",
     "text": [
      "Instek GPD-4303S DCSupply: VSET channel 3 set to 0.780V\n"
     ]
    }
   ],
   "source": [
    "osps.Vset3=0.78"
   ]
  },
  {
   "cell_type": "code",
   "execution_count": null,
   "id": "de0f2520",
   "metadata": {},
   "outputs": [],
   "source": []
  },
  {
   "cell_type": "code",
   "execution_count": null,
   "id": "322e1cff",
   "metadata": {},
   "outputs": [],
   "source": []
  },
  {
   "cell_type": "code",
   "execution_count": 124,
   "id": "0c046b5b",
   "metadata": {},
   "outputs": [
    {
     "name": "stdout",
     "output_type": "stream",
     "text": [
      "------------------------------------RF OSC PS------------------------------------\n",
      "|----------------Instek DC Power Supply GPD-4303S Status Summary-----------------\n",
      "|--------------------Model: GPD-4303S, Serial No.SN:EV884423---------------------\n",
      "|\tMaster Activation: \u001b[1;34;42mON\u001b[0m\n",
      "|\t------------Channel Summary-------------\n",
      "|\t CH1: master, CH2: slave, mode UNRECOGNIZED?.\n",
      "|\t CHANNEL1: CV Mode.\n",
      "|\t\t VSET=0.000V, ISET=3.200A.\n",
      "|\t\t VOUT=0.000V, IOUT=0.000A.\n",
      "|\t\t Output power: 0.000W.\n",
      "|\t CHANNEL2: CV Mode.\n",
      "|\t\t VSET=15.000V, ISET=1.000A.\n",
      "|\t\t VOUT=14.996V, IOUT=0.438A.\n",
      "|\t\t Output power: 6.598W.\n",
      "|\t CHANNEL3: CV Mode.\n",
      "|\t\t VSET=0.730V, ISET=3.000A.\n",
      "|\t\t VOUT=0.730V, IOUT=0.002A.\n",
      "|\t\t Output power: 0.001W.\n",
      "|\t CHANNEL4: CV Mode.\n",
      "|\t\t VSET=0.000V, ISET=1.000A.\n",
      "|\t\t VOUT=0.000V, IOUT=0.001A.\n",
      "|\t\t Output power: 0.000W.\n",
      "--------------Instek DC Power Supply GPD-4303S Status Summary Ends--------------\n",
      "\n"
     ]
    },
    {
     "data": {
      "text/plain": [
       "'------------------------------------RF OSC PS------------------------------------\\n|----------------Instek DC Power Supply GPD-4303S Status Summary-----------------\\n|--------------------Model: GPD-4303S, Serial No.SN:EV884423---------------------\\n|\\tMaster Activation: \\x1b[1;34;42mON\\x1b[0m\\n|\\t------------Channel Summary-------------\\n|\\t CH1: master, CH2: slave, mode UNRECOGNIZED?.\\n|\\t CHANNEL1: CV Mode.\\n|\\t\\t VSET=0.000V, ISET=3.200A.\\n|\\t\\t VOUT=0.000V, IOUT=0.000A.\\n|\\t\\t Output power: 0.000W.\\n|\\t CHANNEL2: CV Mode.\\n|\\t\\t VSET=15.000V, ISET=1.000A.\\n|\\t\\t VOUT=14.996V, IOUT=0.438A.\\n|\\t\\t Output power: 6.598W.\\n|\\t CHANNEL3: CV Mode.\\n|\\t\\t VSET=0.730V, ISET=3.000A.\\n|\\t\\t VOUT=0.730V, IOUT=0.002A.\\n|\\t\\t Output power: 0.001W.\\n|\\t CHANNEL4: CV Mode.\\n|\\t\\t VSET=0.000V, ISET=1.000A.\\n|\\t\\t VOUT=0.000V, IOUT=0.001A.\\n|\\t\\t Output power: 0.000W.\\n--------------Instek DC Power Supply GPD-4303S Status Summary Ends--------------\\n'"
      ]
     },
     "execution_count": 124,
     "metadata": {},
     "output_type": "execute_result"
    }
   ],
   "source": [
    "osps.printStatus()"
   ]
  },
  {
   "cell_type": "code",
   "execution_count": 138,
   "id": "bd8b0376",
   "metadata": {},
   "outputs": [
    {
     "name": "stdout",
     "output_type": "stream",
     "text": [
      "------------------------------------RF AMP PS------------------------------------\n",
      "|-------------------Instek GPP DC Power Supply Status Summary--------------------\n",
      "|--------------------Model: GPP-1326, Serial No.SN:GET842785---------------------\n",
      "|\t------------Channel Summary-------------\n",
      "|\t CHANNEL1: Activation \u001b[1;34;42mON\u001b[0m.\n",
      "|\t\t VSET=30.000V, ISET=6.000A.\n",
      "|\t\t VOUT=29.992V, IOUT=1.102A.\n",
      "|\t\t Output power: 33.048W.\n",
      "|\t\t ---Over Voltage/Current Protection Status:---\n",
      "|\t\t OVP Status: OFF\t OCP Status: OFF \n",
      "|\t\t OVP Level : 35.0 V\t OCP Level : 7.0 A\n",
      "-----------------Instek GPP DC Power Supply Status Summary Ends-----------------\n",
      "\n"
     ]
    },
    {
     "data": {
      "text/plain": [
       "'------------------------------------RF AMP PS------------------------------------\\n|-------------------Instek GPP DC Power Supply Status Summary--------------------\\n|--------------------Model: GPP-1326, Serial No.SN:GET842785---------------------\\n|\\t------------Channel Summary-------------\\n|\\t CHANNEL1: Activation \\x1b[1;34;42mON\\x1b[0m.\\n|\\t\\t VSET=30.000V, ISET=6.000A.\\n|\\t\\t VOUT=29.992V, IOUT=1.102A.\\n|\\t\\t Output power: 33.048W.\\n|\\t\\t ---Over Voltage/Current Protection Status:---\\n|\\t\\t OVP Status: OFF\\t OCP Status: OFF \\n|\\t\\t OVP Level : 35.0 V\\t OCP Level : 7.0 A\\n-----------------Instek GPP DC Power Supply Status Summary Ends-----------------\\n'"
      ]
     },
     "execution_count": 138,
     "metadata": {},
     "output_type": "execute_result"
    }
   ],
   "source": [
    "rfps.printStatus()"
   ]
  },
  {
   "cell_type": "code",
   "execution_count": 163,
   "id": "cb7fbfc3",
   "metadata": {},
   "outputs": [
    {
     "name": "stdout",
     "output_type": "stream",
     "text": [
      "ANDO AQ-6315E Optical Spectrum Analyzer: Scan start wavelength set to 1552.50 nm.\n",
      "ANDO AQ-6315E Optical Spectrum Analyzer: Scan stop wavelength set to 1567.50 nm.\n",
      "ANDO AQ-6315E Optical Spectrum Analyzer: Scan center wavelength set to 1560.00 nm.\n",
      "ANDO AQ-6315E Optical Spectrum Analyzer: Reference level set to -30.0 dBm.\n"
     ]
    }
   ],
   "source": [
    "osa.wlcenter=1560\n",
    "osa.reflevel=-30"
   ]
  },
  {
   "cell_type": "code",
   "execution_count": 175,
   "id": "dace75ff",
   "metadata": {},
   "outputs": [
    {
     "name": "stdout",
     "output_type": "stream",
     "text": [
      "SRS PID controller SIM960: Setting Locking set point in Volt to 2.065649.\n"
     ]
    }
   ],
   "source": [
    "servo2.setpoint = servo2.measure_input"
   ]
  },
  {
   "cell_type": "code",
   "execution_count": 176,
   "id": "0053f263",
   "metadata": {},
   "outputs": [
    {
     "name": "stdout",
     "output_type": "stream",
     "text": [
      "----------------------------SRS PID controller SIM960----------------------------\n",
      "|--------------------SRS PID controller SIM960 Status Summary--------------------\n",
      "|----------------------------SIM960,s/n033683,ver2.17----------------------------\n",
      "|\tOutput mode:\t\u001b[1;34;41mMAN\u001b[0m,\tOutput limit: -0.500V TO 7.500V\n",
      "|\tMeasured input:\t 4.299104V\n",
      "|\tAmplified error:\t -0.151165V\n",
      "|\tInstant Output voltage:\t 0.000915V\n",
      "|\tManual output set:\t 0.0V\n",
      "|\t================ Set Point related================\n",
      "|\t\tInternal setpoint = 0.0 V, Ramping \u001b[1;34;41mOFF\u001b[0m\n",
      "|\t\tSetpoint input mode INT, Ext setpoint input -6e-06V\n",
      "|\t\tSetpoint RAMP speed = 0.01 V/s, action \u001b[1;34;41mOFF\u001b[0m\n",
      "|\t============= P,I,D and Offset Status=============\n",
      "|\t\t P = 0.1    , \taction = \u001b[1;34;42mON\u001b[0m\n",
      "|\t\t I = 0.1 1/s, \taction = \u001b[1;34;41mOFF\u001b[0m\n",
      "|\t\t D = 1e-05   s, \taction = \u001b[1;34;41mOFF\u001b[0m\n",
      "|\t\tOff = 0.0  V, \taction = \u001b[1;34;41mOFF\u001b[0m\n",
      "-----------------SRS PID controller SIM960 Status Summary Ends------------------\n",
      "\n"
     ]
    },
    {
     "data": {
      "text/plain": [
       "'----------------------------SRS PID controller SIM960----------------------------\\n|--------------------SRS PID controller SIM960 Status Summary--------------------\\n|----------------------------SIM960,s/n033683,ver2.17----------------------------\\n|\\tOutput mode:\\t\\x1b[1;34;41mMAN\\x1b[0m,\\tOutput limit: -0.500V TO 7.500V\\n|\\tMeasured input:\\t 4.299104V\\n|\\tAmplified error:\\t -0.151165V\\n|\\tInstant Output voltage:\\t 0.000915V\\n|\\tManual output set:\\t 0.0V\\n|\\t================ Set Point related================\\n|\\t\\tInternal setpoint = 0.0 V, Ramping \\x1b[1;34;41mOFF\\x1b[0m\\n|\\t\\tSetpoint input mode INT, Ext setpoint input -6e-06V\\n|\\t\\tSetpoint RAMP speed = 0.01 V/s, action \\x1b[1;34;41mOFF\\x1b[0m\\n|\\t============= P,I,D and Offset Status=============\\n|\\t\\t P = 0.1    , \\taction = \\x1b[1;34;42mON\\x1b[0m\\n|\\t\\t I = 0.1 1/s, \\taction = \\x1b[1;34;41mOFF\\x1b[0m\\n|\\t\\t D = 1e-05   s, \\taction = \\x1b[1;34;41mOFF\\x1b[0m\\n|\\t\\tOff = 0.0  V, \\taction = \\x1b[1;34;41mOFF\\x1b[0m\\n-----------------SRS PID controller SIM960 Status Summary Ends------------------\\n'"
      ]
     },
     "execution_count": 176,
     "metadata": {},
     "output_type": "execute_result"
    }
   ],
   "source": [
    "servo3 = SRS_PIDcontrol_SIM960(srs, 5)\n",
    "servo3.printStatus()"
   ]
  },
  {
   "cell_type": "code",
   "execution_count": 9,
   "id": "6e43c055",
   "metadata": {},
   "outputs": [
    {
     "name": "stdout",
     "output_type": "stream",
     "text": [
      "Pritel Optical Amplifier: Disable Ramping by self.ramp_pre_ma = 0, now 100 mA.\n",
      "Pritel Optical Amplifier: Setting PreAmp Current to 000 mA, current Output 0.00 W.\n",
      "Pritel Optical Amplifier: Setting PreAmp Current to 120 mA, current Output 0.00 W.\n",
      "Pritel Optical Amplifier: Setting PreAmp Current to 240 mA, current Output 0.00 W.\n",
      "Pritel Optical Amplifier: Setting PreAmp Current to 360 mA, current Output 0.00 W.\n",
      "Pritel Optical Amplifier: Setting PreAmp Current to 480 mA, current Output 0.00 W.\n",
      "Pritel Optical Amplifier: Setting PreAmp Current to 600 mA, current Output 0.00 W.\n",
      "Pritel Optical Amplifier: ACTIVATING LASER PUMP (OUTPUT), MAKE SURE SEED INPUT POWER IS APPROPRIATE TO AVOID DAMAGE.\n",
      "Pritel Optical Amplifier: ......waiting Activation status set to ON, now OFF\n",
      "Pritel Optical Amplifier: ......waiting Activation status set to ON, now ON\n",
      "Pritel Optical Amplifier: setted Activation status as ON, finished in 1.966 seconds\n"
     ]
    }
   ],
   "source": [
    "ptamp.preAmp = '600mA'\n",
    "ptamp.activation=1"
   ]
  },
  {
   "cell_type": "code",
   "execution_count": 61,
   "id": "f2b62427",
   "metadata": {},
   "outputs": [
    {
     "name": "stdout",
     "output_type": "stream",
     "text": [
      "Pritel Optical Amplifier: ......waiting Activation status set to OFF, now ON\n",
      "Pritel Optical Amplifier: setted Activation status as OFF, finished in 1.179 seconds\n"
     ]
    }
   ],
   "source": [
    "ptamp.activation=0"
   ]
  },
  {
   "cell_type": "code",
   "execution_count": 59,
   "id": "2e080e72",
   "metadata": {},
   "outputs": [
    {
     "name": "stdout",
     "output_type": "stream",
     "text": [
      "Pritel Optical Amplifier: Disable Ramping by self.ramp_pwr_ma = 0, now 50 mA.\n",
      "Pritel Optical Amplifier: Setting PowerAmp Current to 3.43 A, , current Output 3.28 W.\n",
      "Pritel Optical Amplifier: Setting PowerAmp Current to 3.38 A, , current Output 3.21 W.\n",
      "Pritel Optical Amplifier: Setting PowerAmp Current to 3.33 A, , current Output 3.14 W.\n",
      "Pritel Optical Amplifier: Setting PowerAmp Current to 3.28 A, , current Output 3.09 W.\n",
      "Pritel Optical Amplifier: Setting PowerAmp Current to 3.23 A, , current Output 3.03 W.\n",
      "Pritel Optical Amplifier: Setting PowerAmp Current to 3.18 A, , current Output 2.98 W.\n",
      "Pritel Optical Amplifier: Setting PowerAmp Current to 3.13 A, , current Output 2.92 W.\n",
      "Pritel Optical Amplifier: Setting PowerAmp Current to 3.08 A, , current Output 2.87 W.\n",
      "Pritel Optical Amplifier: Setting PowerAmp Current to 3.03 A, , current Output 2.82 W.\n",
      "Pritel Optical Amplifier: Setting PowerAmp Current to 2.98 A, , current Output 2.75 W.\n",
      "Pritel Optical Amplifier: Setting PowerAmp Current to 2.93 A, , current Output 2.69 W.\n",
      "Pritel Optical Amplifier: Setting PowerAmp Current to 2.88 A, , current Output 2.64 W.\n",
      "Pritel Optical Amplifier: Setting PowerAmp Current to 2.82 A, , current Output 2.59 W.\n",
      "Pritel Optical Amplifier: Setting PowerAmp Current to 2.77 A, , current Output 2.53 W.\n",
      "Pritel Optical Amplifier: Setting PowerAmp Current to 2.72 A, , current Output 2.47 W.\n",
      "Pritel Optical Amplifier: Setting PowerAmp Current to 2.67 A, , current Output 2.41 W.\n",
      "Pritel Optical Amplifier: Setting PowerAmp Current to 2.62 A, , current Output 2.35 W.\n",
      "Pritel Optical Amplifier: Setting PowerAmp Current to 2.57 A, , current Output 2.29 W.\n",
      "Pritel Optical Amplifier: Setting PowerAmp Current to 2.52 A, , current Output 2.23 W.\n",
      "Pritel Optical Amplifier: Setting PowerAmp Current to 2.47 A, , current Output 2.17 W.\n",
      "Pritel Optical Amplifier: Setting PowerAmp Current to 2.42 A, , current Output 2.13 W.\n",
      "Pritel Optical Amplifier: Setting PowerAmp Current to 2.37 A, , current Output 2.06 W.\n",
      "Pritel Optical Amplifier: Setting PowerAmp Current to 2.32 A, , current Output 2.01 W.\n",
      "Pritel Optical Amplifier: Setting PowerAmp Current to 2.27 A, , current Output 1.94 W.\n",
      "Pritel Optical Amplifier: Setting PowerAmp Current to 2.22 A, , current Output 1.88 W.\n",
      "Pritel Optical Amplifier: Setting PowerAmp Current to 2.17 A, , current Output 1.83 W.\n",
      "Pritel Optical Amplifier: Setting PowerAmp Current to 2.12 A, , current Output 1.76 W.\n",
      "Pritel Optical Amplifier: Setting PowerAmp Current to 2.07 A, , current Output 1.70 W.\n",
      "Pritel Optical Amplifier: Setting PowerAmp Current to 2.02 A, , current Output 1.66 W.\n",
      "Pritel Optical Amplifier: Setting PowerAmp Current to 1.97 A, , current Output 1.60 W.\n",
      "Pritel Optical Amplifier: Setting PowerAmp Current to 1.92 A, , current Output 1.56 W.\n",
      "Pritel Optical Amplifier: Setting PowerAmp Current to 1.87 A, , current Output 1.50 W.\n",
      "Pritel Optical Amplifier: Setting PowerAmp Current to 1.82 A, , current Output 1.44 W.\n",
      "Pritel Optical Amplifier: Setting PowerAmp Current to 1.77 A, , current Output 1.39 W.\n",
      "Pritel Optical Amplifier: Setting PowerAmp Current to 1.72 A, , current Output 1.33 W.\n",
      "Pritel Optical Amplifier: Setting PowerAmp Current to 1.66 A, , current Output 1.28 W.\n",
      "Pritel Optical Amplifier: Setting PowerAmp Current to 1.61 A, , current Output 1.22 W.\n",
      "Pritel Optical Amplifier: Setting PowerAmp Current to 1.56 A, , current Output 1.16 W.\n",
      "Pritel Optical Amplifier: Setting PowerAmp Current to 1.51 A, , current Output 1.11 W.\n",
      "Pritel Optical Amplifier: Setting PowerAmp Current to 1.46 A, , current Output 1.06 W.\n",
      "Pritel Optical Amplifier: Setting PowerAmp Current to 1.41 A, , current Output 1.00 W.\n",
      "Pritel Optical Amplifier: Setting PowerAmp Current to 1.36 A, , current Output 0.94 W.\n",
      "Pritel Optical Amplifier: Setting PowerAmp Current to 1.31 A, , current Output 0.89 W.\n",
      "Pritel Optical Amplifier: Setting PowerAmp Current to 1.26 A, , current Output 0.83 W.\n",
      "Pritel Optical Amplifier: Setting PowerAmp Current to 1.21 A, , current Output 0.78 W.\n",
      "Pritel Optical Amplifier: Setting PowerAmp Current to 1.16 A, , current Output 0.74 W.\n",
      "Pritel Optical Amplifier: Setting PowerAmp Current to 1.11 A, , current Output 0.68 W.\n",
      "Pritel Optical Amplifier: Setting PowerAmp Current to 1.06 A, , current Output 0.63 W.\n",
      "Pritel Optical Amplifier: Setting PowerAmp Current to 1.01 A, , current Output 0.57 W.\n",
      "Pritel Optical Amplifier: Setting PowerAmp Current to 0.96 A, , current Output 0.51 W.\n",
      "Pritel Optical Amplifier: Setting PowerAmp Current to 0.91 A, , current Output 0.46 W.\n",
      "Pritel Optical Amplifier: Setting PowerAmp Current to 0.86 A, , current Output 0.40 W.\n",
      "Pritel Optical Amplifier: Setting PowerAmp Current to 0.81 A, , current Output 0.35 W.\n",
      "Pritel Optical Amplifier: Setting PowerAmp Current to 0.76 A, , current Output 0.32 W.\n",
      "Pritel Optical Amplifier: Setting PowerAmp Current to 0.71 A, , current Output 0.26 W.\n",
      "Pritel Optical Amplifier: Setting PowerAmp Current to 0.66 A, , current Output 0.21 W.\n",
      "Pritel Optical Amplifier: Setting PowerAmp Current to 0.61 A, , current Output 0.15 W.\n",
      "Pritel Optical Amplifier: Setting PowerAmp Current to 0.55 A, , current Output 0.10 W.\n",
      "Pritel Optical Amplifier: Setting PowerAmp Current to 0.50 A, , current Output 0.05 W.\n",
      "Pritel Optical Amplifier: Setting PowerAmp Current to 0.45 A, , current Output 0.00 W.\n",
      "Pritel Optical Amplifier: Setting PowerAmp Current to 0.40 A, , current Output 0.00 W.\n",
      "Pritel Optical Amplifier: Setting PowerAmp Current to 0.35 A, , current Output 0.00 W.\n",
      "Pritel Optical Amplifier: Setting PowerAmp Current to 0.30 A, , current Output 0.00 W.\n",
      "Pritel Optical Amplifier: Setting PowerAmp Current to 0.25 A, , current Output 0.00 W.\n",
      "Pritel Optical Amplifier: Setting PowerAmp Current to 0.20 A, , current Output 0.00 W.\n",
      "Pritel Optical Amplifier: Setting PowerAmp Current to 0.15 A, , current Output 0.00 W.\n",
      "Pritel Optical Amplifier: Setting PowerAmp Current to 0.10 A, , current Output 0.00 W.\n",
      "Pritel Optical Amplifier: Setting PowerAmp Current to 0.05 A, , current Output 0.00 W.\n",
      "Pritel Optical Amplifier: Setting PowerAmp Current to 0.00 A, , current Output 0.00 W.\n"
     ]
    }
   ],
   "source": [
    "ptamp.pwrAmp = '0A'"
   ]
  },
  {
   "cell_type": "code",
   "execution_count": 9,
   "id": "12b00f62",
   "metadata": {},
   "outputs": [
    {
     "name": "stdout",
     "output_type": "stream",
     "text": [
      "Waveshaper Set 3rd disper with d2=2.08 ps/nm, d3=0.0 ps/nm^2, center 192.17465256410256 THz.\n",
      "Waveshaper profile write successful.\n"
     ]
    },
    {
     "data": {
      "image/png": "[encoded data removed]",
      "text/plain": [
       "<Figure size 648x432 with 4 Axes>"
      ]
     },
     "metadata": {
      "needs_background": "light"
     },
     "output_type": "display_data"
    }
   ],
   "source": [
    "wsp.set3rdDisper(d2=2.08,d3=0.)\n",
    "wsp.plotStatus()\n",
    "wsp.writeProfile()"
   ]
  },
  {
   "cell_type": "code",
   "execution_count": 68,
   "id": "539f54fb",
   "metadata": {},
   "outputs": [
    {
     "name": "stdout",
     "output_type": "stream",
     "text": [
      "Waveshaper profile write successful.\n"
     ]
    }
   ],
   "source": [
    "wsp.writeProfile()"
   ]
  },
  {
   "cell_type": "code",
   "execution_count": 12,
   "id": "1e4598bb",
   "metadata": {},
   "outputs": [
    {
     "name": "stdout",
     "output_type": "stream",
     "text": [
      "ANDO AQ-6315E Optical Spectrum Analyzer connected\n"
     ]
    },
    {
     "data": {
      "text/plain": [
       "1"
      ]
     },
     "execution_count": 12,
     "metadata": {},
     "output_type": "execute_result"
    }
   ],
   "source": [
    "osa = AndoOSA_AQ6315E(addr='GPIB1::1::INSTR')\n",
    "osa.connect()"
   ]
  },
  {
   "cell_type": "code",
   "execution_count": 16,
   "id": "655568d3",
   "metadata": {},
   "outputs": [
    {
     "data": {
      "image/png": "[encoded data removed]",
      "text/plain": [
       "<Figure size 432x288 with 1 Axes>"
      ]
     },
     "metadata": {
      "needs_background": "light"
     },
     "output_type": "display_data"
    },
    {
     "name": "stdout",
     "output_type": "stream",
     "text": [
      "ANDO AQ-6315E Optical Spectrum Analyzer: Trace B data is collected and is shown in the plot.\n"
     ]
    }
   ],
   "source": [
    "# osa.Run()\n",
    "# time.sleep(10)\n",
    "t = osa.get_trace('b')"
   ]
  },
  {
   "cell_type": "code",
   "execution_count": 33,
   "id": "5457663e",
   "metadata": {},
   "outputs": [
    {
     "data": {
      "image/png": "[encoded data removed]",
      "text/plain": [
       "<Figure size 432x216 with 1 Axes>"
      ]
     },
     "metadata": {
      "needs_background": "light"
     },
     "output_type": "display_data"
    },
    {
     "name": "stdout",
     "output_type": "stream",
     "text": [
      "Waveshaper Set atten to BandPass [191.475~192.875] THz ([1565.703~1554.338] nm)\n",
      " Inverse Attenuation is applied with max attenuation 10.5 dB..\n"
     ]
    }
   ],
   "source": [
    "# osa_wl, osa_pw = osa.get_trace(trace='b')\n",
    "\n",
    "wsp.inverseAtten(osa_wl, osa_pw, max_atten_db=10.5, osa_pw_noise=-60,\n",
    "                 bandpass_span=1.4, bandpass_unit='thz')\n"
   ]
  },
  {
   "cell_type": "code",
   "execution_count": 8,
   "id": "687bcc92",
   "metadata": {},
   "outputs": [
    {
     "name": "stdout",
     "output_type": "stream",
     "text": [
      "Waveshaper Set atten to BandPass [188.675~195.675] THz ([1588.936~1532.094] nm).\n",
      "Waveshaper profile write successful.\n"
     ]
    },
    {
     "data": {
      "image/png": "[encoded data removed]",
      "text/plain": [
       "<Figure size 648x432 with 4 Axes>"
      ]
     },
     "metadata": {
      "needs_background": "light"
     },
     "output_type": "display_data"
    }
   ],
   "source": [
    "wsp.setBandPass(span=7)\n",
    "wsp.plotStatus()\n",
    "wsp.writeProfile()"
   ]
  },
  {
   "cell_type": "code",
   "execution_count": 30,
   "id": "dbee23f8",
   "metadata": {},
   "outputs": [],
   "source": [
    "\n",
    "# filedir = r\"Z:\\Maodong\\Projects\\Keck\\System Assembly test\\Full_Comb_Stability\\20221222_700-1700nm\"\n",
    "# count = 1\n",
    "# while True:\n",
    "#     try:\n",
    "#         osa.Single()\n",
    "#         time.sleep(30)\n",
    "#         osa.save_trace('b', filedir+'\\\\'+str(count).zfill(6)+\".mat\")\n",
    "#         count = count + 1\n",
    "#     except:\n",
    "#         import sys\n",
    "#         e = sys.exc_info()[0]\n",
    "#         print(f\"Error:{e}\")"
   ]
  },
  {
   "cell_type": "code",
   "execution_count": 12,
   "id": "d77d73ce",
   "metadata": {},
   "outputs": [
    {
     "name": "stdout",
     "output_type": "stream",
     "text": [
      "ANDO AQ-6315E Optical Spectrum Analyzer: Scan start wavelength set to 700.00 nm.\n",
      "ANDO AQ-6315E Optical Spectrum Analyzer: Scan stop wavelength set to 1700.00 nm.\n"
     ]
    }
   ],
   "source": [
    "osa.wlstart=700\n",
    "osa.wlstop=1700"
   ]
  },
  {
   "cell_type": "code",
   "execution_count": 14,
   "id": "56fe2e6d",
   "metadata": {},
   "outputs": [
    {
     "name": "stdout",
     "output_type": "stream",
     "text": [
      "ANDO AQ-6315E Optical Spectrum Analyzer: Spectrum collection SINGLE run start.\n"
     ]
    }
   ],
   "source": [
    "osa.Single()"
   ]
  },
  {
   "cell_type": "code",
   "execution_count": 86,
   "id": "6cf6bb89",
   "metadata": {},
   "outputs": [
    {
     "ename": "NameError",
     "evalue": "name 'servo2' is not defined",
     "output_type": "error",
     "traceback": [
      "\u001b[1;31m---------------------------------------------------------------------------\u001b[0m",
      "\u001b[1;31mNameError\u001b[0m                                 Traceback (most recent call last)",
      "Input \u001b[1;32mIn [86]\u001b[0m, in \u001b[0;36m<cell line: 1>\u001b[1;34m()\u001b[0m\n\u001b[1;32m----> 1\u001b[0m \u001b[43mservo2\u001b[49m\u001b[38;5;241m.\u001b[39mprintStatus()\n",
      "\u001b[1;31mNameError\u001b[0m: name 'servo2' is not defined"
     ]
    }
   ],
   "source": []
  },
  {
   "cell_type": "code",
   "execution_count": 88,
   "id": "21372ed8",
   "metadata": {},
   "outputs": [
    {
     "ename": "NameError",
     "evalue": "name 'servo2' is not defined",
     "output_type": "error",
     "traceback": [
      "\u001b[1;31m---------------------------------------------------------------------------\u001b[0m",
      "\u001b[1;31mNameError\u001b[0m                                 Traceback (most recent call last)",
      "Input \u001b[1;32mIn [88]\u001b[0m, in \u001b[0;36m<cell line: 1>\u001b[1;34m()\u001b[0m\n\u001b[1;32m----> 1\u001b[0m \u001b[43mservo2\u001b[49m\u001b[38;5;241m.\u001b[39mprintStatus()\n",
      "\u001b[1;31mNameError\u001b[0m: name 'servo2' is not defined"
     ]
    }
   ],
   "source": [
    "servo2.printStatus()"
   ]
  },
  {
   "cell_type": "code",
   "execution_count": null,
   "id": "87620126",
   "metadata": {},
   "outputs": [],
   "source": []
  }
 ],
 "metadata": {
  "kernelspec": {
   "display_name": "Python 3 (ipykernel)",
   "language": "python",
   "name": "python3"
  },
  "language_info": {
   "codemirror_mode": {
    "name": "ipython",
    "version": 3
   },
   "file_extension": ".py",
   "mimetype": "text/x-python",
   "name": "python",
   "nbconvert_exporter": "python",
   "pygments_lexer": "ipython3",
   "version": "3.8.12"
  }
 },
 "nbformat": 4,
 "nbformat_minor": 5
}
