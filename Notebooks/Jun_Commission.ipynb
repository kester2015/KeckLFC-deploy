{
 "cells": [
  {
   "cell_type": "code",
   "execution_count": 4,
   "metadata": {},
   "outputs": [],
   "source": [
    "import numpy as np\n",
    "import matplotlib.pyplot as plt\n",
    "import time\n",
    "\n",
    "from LFC.Hardware.SRS_SIM900 import SRS_SIM900, SRS_PIDcontrol_SIM960\n",
    "from LFC.Hardware.Waveshaper import Waveshaper\n",
    "from LFC.Hardware.AndoOSA_AQ6315E import AndoOSA_AQ6315E\n",
    "from LFC.Hardware.PritelAmp import PritelAmp\n",
    "from LFC.Hardware.ORIONLaser import ORIONLaser\n",
    "from LFC.Hardware.AmonicsEDFA import AmonicsEDFA\n",
    "from LFC.Hardware.InstekGppDCSupply import InstekGppDCSupply\n",
    "from LFC.Hardware.InstekGPD_4303S import InstekGPD_4303S\n",
    "from LFC.Hardware.TEC_LFC3751 import TEC_LFC3751\n",
    "from LFC.Hardware.TEC_LDT5525B import TEC_LDT5525B\n",
    "from LFC.Hardware.PendulumCNT90 import PendulumCNT90\n",
    "from LFC.Hardware.OZopticsVOA import OZopticsVOA"
   ]
  },
  {
   "cell_type": "code",
   "execution_count": 10,
   "metadata": {},
   "outputs": [
    {
     "name": "stdout",
     "output_type": "stream",
     "text": [
      "Octave Waveguide TEC (TC720) connected\n",
      "PPLN Doubler TEC (TC720) connected\n"
     ]
    },
    {
     "data": {
      "text/plain": [
       "1"
      ]
     },
     "execution_count": 10,
     "metadata": {},
     "output_type": "execute_result"
    }
   ],
   "source": [
    "from LFC.Hardware.TEC_TC720 import TEC_TC720\n",
    "# tec_PPLN = TEC_TC720(addr='ASRL46::INSTR')\n",
    "tec_wg = TEC_TC720(addr='COM8', name='Octave Waveguide TEC (TC720)')\n",
    "tec_wg.connect()\n",
    "\n",
    "tec_ppln = TEC_TC720(addr='COM46', name='PPLN Doubler TEC (TC720)')\n",
    "tec_ppln.connect()"
   ]
  },
  {
   "cell_type": "code",
   "execution_count": 11,
   "metadata": {},
   "outputs": [
    {
     "data": {
      "text/plain": [
       "22.99"
      ]
     },
     "execution_count": 11,
     "metadata": {},
     "output_type": "execute_result"
    }
   ],
   "source": [
    "tec_wg.get_temp()"
   ]
  },
  {
   "cell_type": "code",
   "execution_count": 1,
   "metadata": {},
   "outputs": [
    {
     "name": "stderr",
     "output_type": "stream",
     "text": [
      "\u001b[32m2023-07-21 10:34:31.263\u001b[0m | \u001b[1mINFO    \u001b[0m | \u001b[36mDevice\u001b[0m | \u001b[36mDevice.py\u001b[0m:\u001b[36m<module>\u001b[0m:\u001b[36m44\u001b[0m\n",
      "\u001b[1mlogger initialized\u001b[0m\n",
      "\u001b[32m2023-07-21 10:34:33.163\u001b[0m | \u001b[1mINFO    \u001b[0m | \u001b[36mStanford Research System SIM900\u001b[0m | \u001b[36mDevice.py\u001b[0m:\u001b[36mconnect\u001b[0m:\u001b[36m71\u001b[0m\n",
      "\u001b[1mStanford Research System SIM900 connected\u001b[0m\n"
     ]
    }
   ],
   "source": [
    "from LFC.Hardware.SRS_SIM900 import SRS_SIM900, SRS_PIDcontrol_SIM960\n",
    "srs = SRS_SIM900(addr='GPIB0::2::INSTR')\n",
    "srs.connect()\n",
    "servo1 = SRS_PIDcontrol_SIM960(srs, 1, name='Filter Cavity PDH Lock Servo')\n",
    "servo2 = SRS_PIDcontrol_SIM960(srs, 3, name='Minicomb Intensity Lock Servo')\n",
    "servo3 = SRS_PIDcontrol_SIM960(srs, 5, name='Rio Laser Fceo Rb spectroscopy Lock Servo')"
   ]
  },
  {
   "cell_type": "code",
   "execution_count": 38,
   "metadata": {},
   "outputs": [
    {
     "name": "stdout",
     "output_type": "stream",
     "text": [
      "--------------------------Minicomb Intensity Lock Servo--------------------------\n",
      "|--------------------SRS PID controller SIM960 Status Summary--------------------\n",
      "|----------------------------SIM960,s/n033669,ver2.17----------------------------\n",
      "|\tOutput mode:\t\u001b[1;34;41mMAN\u001b[0m,\tOutput limit: -2.970V TO 3.000V\n",
      "|\tMeasured input:\t 0.300608V\n",
      "|\tAmplified error:\t 99.999999V\n",
      "|\tInstant Output voltage:\t -1.359524V\n",
      "|\tManual output set:\t -1.36V\n",
      "|\t================ Set Point related================\n",
      "|\t\tInternal setpoint = 1.77 V, Ramping \u001b[1;34;41mOFF\u001b[0m\n",
      "|\t\tSetpoint input mode INT, Ext setpoint input 1.769536V\n",
      "|\t\tSetpoint RAMP speed = 0.01 V/s, action \u001b[1;34;41mOFF\u001b[0m\n",
      "|\t============= P,I,D and Offset Status=============\n",
      "|\t\t P = 10.0    , \taction = \u001b[1;34;42mON\u001b[0m\n",
      "|\t\t I = 0.1 1/s, \taction = \u001b[1;34;41mOFF\u001b[0m\n",
      "|\t\t D = 1e-05   s, \taction = \u001b[1;34;41mOFF\u001b[0m\n",
      "|\t\tOff = -0.02  V, \taction = \u001b[1;34;42mON\u001b[0m\n",
      "-----------------SRS PID controller SIM960 Status Summary Ends------------------\n",
      "\n"
     ]
    },
    {
     "data": {
      "text/plain": [
       "'--------------------------Minicomb Intensity Lock Servo--------------------------\\n|--------------------SRS PID controller SIM960 Status Summary--------------------\\n|----------------------------SIM960,s/n033669,ver2.17----------------------------\\n|\\tOutput mode:\\t\\x1b[1;34;41mMAN\\x1b[0m,\\tOutput limit: -2.970V TO 3.000V\\n|\\tMeasured input:\\t 0.300608V\\n|\\tAmplified error:\\t 99.999999V\\n|\\tInstant Output voltage:\\t -1.359524V\\n|\\tManual output set:\\t -1.36V\\n|\\t================ Set Point related================\\n|\\t\\tInternal setpoint = 1.77 V, Ramping \\x1b[1;34;41mOFF\\x1b[0m\\n|\\t\\tSetpoint input mode INT, Ext setpoint input 1.769536V\\n|\\t\\tSetpoint RAMP speed = 0.01 V/s, action \\x1b[1;34;41mOFF\\x1b[0m\\n|\\t============= P,I,D and Offset Status=============\\n|\\t\\t P = 10.0    , \\taction = \\x1b[1;34;42mON\\x1b[0m\\n|\\t\\t I = 0.1 1/s, \\taction = \\x1b[1;34;41mOFF\\x1b[0m\\n|\\t\\t D = 1e-05   s, \\taction = \\x1b[1;34;41mOFF\\x1b[0m\\n|\\t\\tOff = -0.02  V, \\taction = \\x1b[1;34;42mON\\x1b[0m\\n-----------------SRS PID controller SIM960 Status Summary Ends------------------\\n'"
      ]
     },
     "execution_count": 38,
     "metadata": {},
     "output_type": "execute_result"
    }
   ],
   "source": [
    "servo2.printStatus()"
   ]
  },
  {
   "cell_type": "code",
   "execution_count": 63,
   "metadata": {},
   "outputs": [
    {
     "name": "stdout",
     "output_type": "stream",
     "text": [
      "RF oscilator PS, CH2 15V, CH3 1V connected\n",
      "-------------------------RF oscilator PS, CH2 15V, CH3 1V------------------------\n",
      "|----------------Instek DC Power Supply GPD-4303S Status Summary-----------------\n",
      "|--------------------Model: GPD-4303S, Serial No.SN:EV884423---------------------\n",
      "|\tMaster Activation: \u001b[1;34;42mON\u001b[0m\n",
      "|\t------------Channel Summary-------------\n",
      "|\t CH1: master, CH2: slave, mode UNRECOGNIZED?.\n",
      "|\t CHANNEL1: CC Mode.\n",
      "|\t\t VSET=0.000V, ISET=0.000A.\n",
      "|\t\t VOUT=0.000V, IOUT=0.000A.\n",
      "|\t\t Output power: 0.000W.\n",
      "|\t CHANNEL2: CV Mode.\n",
      "|\t\t VSET=15.000V, ISET=3.000A.\n",
      "|\t\t VOUT=14.994V, IOUT=0.432A.\n",
      "|\t\t Output power: 6.477W.\n",
      "|\t CHANNEL3: CV Mode.\n",
      "|\t\t VSET=0.883V, ISET=1.000A.\n",
      "|\t\t VOUT=0.883V, IOUT=0.002A.\n",
      "|\t\t Output power: 0.002W.\n",
      "|\t CHANNEL4: CV Mode.\n",
      "|\t\t VSET=0.000V, ISET=0.000A.\n",
      "|\t\t VOUT=0.000V, IOUT=0.001A.\n",
      "|\t\t Output power: 0.000W.\n",
      "--------------Instek DC Power Supply GPD-4303S Status Summary Ends--------------\n",
      "\n"
     ]
    },
    {
     "data": {
      "text/plain": [
       "'-------------------------RF oscilator PS, CH2 15V, CH3 1V------------------------\\n|----------------Instek DC Power Supply GPD-4303S Status Summary-----------------\\n|--------------------Model: GPD-4303S, Serial No.SN:EV884423---------------------\\n|\\tMaster Activation: \\x1b[1;34;42mON\\x1b[0m\\n|\\t------------Channel Summary-------------\\n|\\t CH1: master, CH2: slave, mode UNRECOGNIZED?.\\n|\\t CHANNEL1: CC Mode.\\n|\\t\\t VSET=0.000V, ISET=0.000A.\\n|\\t\\t VOUT=0.000V, IOUT=0.000A.\\n|\\t\\t Output power: 0.000W.\\n|\\t CHANNEL2: CV Mode.\\n|\\t\\t VSET=15.000V, ISET=3.000A.\\n|\\t\\t VOUT=14.994V, IOUT=0.432A.\\n|\\t\\t Output power: 6.477W.\\n|\\t CHANNEL3: CV Mode.\\n|\\t\\t VSET=0.883V, ISET=1.000A.\\n|\\t\\t VOUT=0.883V, IOUT=0.002A.\\n|\\t\\t Output power: 0.002W.\\n|\\t CHANNEL4: CV Mode.\\n|\\t\\t VSET=0.000V, ISET=0.000A.\\n|\\t\\t VOUT=0.000V, IOUT=0.001A.\\n|\\t\\t Output power: 0.000W.\\n--------------Instek DC Power Supply GPD-4303S Status Summary Ends--------------\\n'"
      ]
     },
     "execution_count": 63,
     "metadata": {},
     "output_type": "execute_result"
    }
   ],
   "source": [
    "from LFC.Hardware.InstekGPD_4303S import InstekGPD_4303S\n",
    "rfoscPS = InstekGPD_4303S(addr='ASRL5::INSTR', name='RF oscilator PS, CH2 15V, CH3 1V')\n",
    "rfoscPS.connect()\n",
    "rfoscPS.printStatus()"
   ]
  },
  {
   "cell_type": "code",
   "execution_count": 69,
   "metadata": {},
   "outputs": [
    {
     "data": {
      "text/plain": [
       "1"
      ]
     },
     "execution_count": 69,
     "metadata": {},
     "output_type": "execute_result"
    },
    {
     "ename": "",
     "evalue": "",
     "output_type": "error",
     "traceback": [
      "\u001b[1;31mThe Kernel crashed while executing code in the the current cell or a previous cell. Please review the code in the cell(s) to identify a possible cause of the failure. Click <a href='https://aka.ms/vscodeJupyterKernelCrash'>here</a> for more info. View Jupyter <a href='command:jupyter.viewOutput'>log</a> for further details."
     ]
    }
   ],
   "source": [
    "rfoscPS.beep()"
   ]
  },
  {
   "cell_type": "code",
   "execution_count": 68,
   "metadata": {},
   "outputs": [
    {
     "name": "stdout",
     "output_type": "stream",
     "text": [
      "Instek GPD-4303S DCSupply: Output activation is turned OFF.\n"
     ]
    }
   ],
   "source": [
    "rfoscPS.activation = 0"
   ]
  },
  {
   "cell_type": "code",
   "execution_count": 3,
   "metadata": {},
   "outputs": [
    {
     "data": {
      "text/plain": [
       "1"
      ]
     },
     "execution_count": 3,
     "metadata": {},
     "output_type": "execute_result"
    }
   ],
   "source": [
    "rfoscPS.beep()"
   ]
  },
  {
   "cell_type": "code",
   "execution_count": 67,
   "metadata": {},
   "outputs": [
    {
     "name": "stdout",
     "output_type": "stream",
     "text": [
      "RF amplifier PS 30V 4A: channel 1 output is turned OFF\n"
     ]
    }
   ],
   "source": [
    "rfampPS.activation1 = 0"
   ]
  },
  {
   "cell_type": "code",
   "execution_count": 65,
   "metadata": {},
   "outputs": [
    {
     "name": "stdout",
     "output_type": "stream",
     "text": [
      "RF amplifier PS 30V 4A connected\n",
      "------------------------------RF amplifier PS 30V 4A-----------------------------\n",
      "|-------------------Instek GPP DC Power Supply Status Summary--------------------\n",
      "|--------------------Model: GPP-1326, Serial No.SN:GET921679---------------------\n",
      "|\t------------Channel Summary-------------\n",
      "|\t CHANNEL1: Activation \u001b[1;34;42mON\u001b[0m.\n",
      "|\t\t VSET=30.000V, ISET=6.000A.\n",
      "|\t\t VOUT=29.996V, IOUT=4.090A.\n",
      "|\t\t Output power: 122.699W.\n",
      "|\t\t ---Over Voltage/Current Protection Status:---\n",
      "|\t\t OVP Status: OFF\t OCP Status: OFF \n",
      "|\t\t OVP Level : 35.0 V\t OCP Level : 7.0 A\n",
      "-----------------Instek GPP DC Power Supply Status Summary Ends-----------------\n",
      "\n"
     ]
    },
    {
     "data": {
      "text/plain": [
       "'------------------------------RF amplifier PS 30V 4A-----------------------------\\n|-------------------Instek GPP DC Power Supply Status Summary--------------------\\n|--------------------Model: GPP-1326, Serial No.SN:GET921679---------------------\\n|\\t------------Channel Summary-------------\\n|\\t CHANNEL1: Activation \\x1b[1;34;42mON\\x1b[0m.\\n|\\t\\t VSET=30.000V, ISET=6.000A.\\n|\\t\\t VOUT=29.996V, IOUT=4.090A.\\n|\\t\\t Output power: 122.699W.\\n|\\t\\t ---Over Voltage/Current Protection Status:---\\n|\\t\\t OVP Status: OFF\\t OCP Status: OFF \\n|\\t\\t OVP Level : 35.0 V\\t OCP Level : 7.0 A\\n-----------------Instek GPP DC Power Supply Status Summary Ends-----------------\\n'"
      ]
     },
     "execution_count": 65,
     "metadata": {},
     "output_type": "execute_result"
    }
   ],
   "source": [
    "from LFC.Hardware.InstekGppDCSupply import InstekGppDCSupply\n",
    "rfampPS = InstekGppDCSupply(addr='ASRL34::INSTR', name='RF amplifier PS 30V 4A')\n",
    "rfampPS.connect()\n",
    "rfampPS.printStatus()"
   ]
  },
  {
   "cell_type": "code",
   "execution_count": 61,
   "metadata": {},
   "outputs": [
    {
     "name": "stdout",
     "output_type": "stream",
     "text": [
      "Amonics EDFA 27 dBm connected\n",
      "-------------------------------Amonics EDFA 27 dBm-------------------------------\n",
      "|--------------------------Amonics EDFA Status Summary---------------------------\n",
      "|------------------Model: AEDFA-PM-27-R-FA, Serial No.21082531-------------------\n",
      "|\tInterLock Status: \u001b[1;34;42mUNLOCKED\u001b[0m\n",
      "|\tCase Temperature: 31.00°C\n",
      "|\tMaster Activation: \u001b[1;34;41mOFF\u001b[0m\n",
      "|\t------------Channel Summary-------------\n",
      "|\t CHANNEL1: \n",
      "|\t\t Mode: APC\n",
      "|\t\t Set Pwr: 450.0 mW\n",
      "|\t\t Status: \u001b[1;34;41mOFF\u001b[0m\n",
      "|\t\t Input Power: 14.02972 mW\n",
      "|\t\t Output Power: 0.0 mW\n",
      "|\t\t Internal PD Power: 0.0 mW\n",
      "------------------------Amonics EDFA Status Summary Ends------------------------\n",
      "\n"
     ]
    },
    {
     "data": {
      "text/plain": [
       "'-------------------------------Amonics EDFA 27 dBm-------------------------------\\n|--------------------------Amonics EDFA Status Summary---------------------------\\n|------------------Model: AEDFA-PM-27-R-FA, Serial No.21082531-------------------\\n|\\tInterLock Status: \\x1b[1;34;42mUNLOCKED\\x1b[0m\\n|\\tCase Temperature: 31.00°C\\n|\\tMaster Activation: \\x1b[1;34;41mOFF\\x1b[0m\\n|\\t------------Channel Summary-------------\\n|\\t CHANNEL1: \\n|\\t\\t Mode: APC\\n|\\t\\t Set Pwr: 450.0 mW\\n|\\t\\t Status: \\x1b[1;34;41mOFF\\x1b[0m\\n|\\t\\t Input Power: 14.02972 mW\\n|\\t\\t Output Power: 0.0 mW\\n|\\t\\t Internal PD Power: 0.0 mW\\n------------------------Amonics EDFA Status Summary Ends------------------------\\n'"
      ]
     },
     "execution_count": 61,
     "metadata": {},
     "output_type": "execute_result"
    }
   ],
   "source": [
    "from LFC.Hardware.AmonicsEDFA import AmonicsEDFA\n",
    "amonic27 = AmonicsEDFA(addr='ASRL7::INSTR', name='Amonics EDFA 27 dBm')\n",
    "amonic27.connect()\n",
    "amonic27.printStatus()"
   ]
  },
  {
   "cell_type": "code",
   "execution_count": 59,
   "metadata": {},
   "outputs": [
    {
     "name": "stdout",
     "output_type": "stream",
     "text": [
      "Amonics EDFA 27 dBm: ......waiting Activation status set to OFF, now ON\n",
      "Amonics EDFA 27 dBm: setted Activation status as OFF, finished in 0.106 seconds\n"
     ]
    }
   ],
   "source": [
    "amonic27.activation = 0"
   ]
  },
  {
   "cell_type": "code",
   "execution_count": 60,
   "metadata": {},
   "outputs": [
    {
     "name": "stdout",
     "output_type": "stream",
     "text": [
      "Amonics EDFA 27 dBm: ......waiting APC CH1 status set to OFF, now ON\n",
      "Amonics EDFA 27 dBm: setted APC CH1 status as OFF, finished in 0.080 seconds\n"
     ]
    }
   ],
   "source": [
    "amonic27.accCh1Status = 0"
   ]
  },
  {
   "cell_type": "code",
   "execution_count": 29,
   "metadata": {},
   "outputs": [
    {
     "name": "stdout",
     "output_type": "stream",
     "text": [
      "Agilent OSA 86142B connected\n",
      "Agilent OSA 86142B: Scan stop wavelength set to 1568.00 nm.\n"
     ]
    }
   ],
   "source": [
    "from LFC.Hardware.Agilent_86142B import Agilent_86142B\n",
    "osa = Agilent_86142B(addr='GPIB0::30::INSTR', name='Agilent OSA 86142B')\n",
    "\n",
    "osa.connect()\n",
    "osa.wlstop = 1568"
   ]
  },
  {
   "cell_type": "code",
   "execution_count": 49,
   "metadata": {},
   "outputs": [
    {
     "name": "stdout",
     "output_type": "stream",
     "text": [
      "Agilent OSA 86142B: Scan start wavelength set to 1554.12 nm.\n",
      "Agilent OSA 86142B: Scan stop wavelength set to 1566.12 nm.\n",
      "Agilent OSA 86142B: Scan span wavelength set to 12.00 nm.\n"
     ]
    }
   ],
   "source": [
    "osa.wlspan = 12"
   ]
  },
  {
   "cell_type": "code",
   "execution_count": 36,
   "metadata": {},
   "outputs": [
    {
     "name": "stdout",
     "output_type": "stream",
     "text": [
      "Agilent OSA 86142B: Scan start wavelength set to 1558.00 nm.\n",
      "Agilent OSA 86142B: Scan stop wavelength set to 1562.25 nm.\n"
     ]
    }
   ],
   "source": [
    "osa.wlstart = 1558\n",
    "osa.wlstop = 1562.25"
   ]
  },
  {
   "cell_type": "code",
   "execution_count": 32,
   "metadata": {},
   "outputs": [
    {
     "name": "stdout",
     "output_type": "stream",
     "text": [
      "Agilent OSA 86142B: Reference level set to 10.0 dBm.\n"
     ]
    }
   ],
   "source": [
    "osa.reflevel = 10"
   ]
  },
  {
   "cell_type": "code",
   "execution_count": null,
   "metadata": {},
   "outputs": [],
   "source": []
  },
  {
   "cell_type": "code",
   "execution_count": 156,
   "metadata": {},
   "outputs": [
    {
     "data": {
      "image/png": "[encoded data removed]",
      "text/plain": [
       "<Figure size 432x288 with 1 Axes>"
      ]
     },
     "metadata": {
      "needs_background": "light"
     },
     "output_type": "display_data"
    },
    {
     "name": "stdout",
     "output_type": "stream",
     "text": [
      "Agilent 86142B: Trace A data is collected and is shown in the plot.\n",
      "Agilent 86142B: Trace A data is saved to C:\\Users\\HSFLFC\\Desktop\\Keck\\Commission_test\\FilterCavity_finetun\\FC_Trans_15.996480000 GHz.mat\n",
      "Agilent 86142B: Trace A data is saved to C:\\Users\\HSFLFC\\Desktop\\Keck\\Commission_test\\FilterCavity_finetun\\FC_Trans_15.996480000 GHz.txt\n"
     ]
    }
   ],
   "source": [
    "\n",
    "filedir = r'C:\\Users\\HSFLFC\\Desktop\\Keck\\Commission_test\\FilterCavity_finetun'\n",
    "freq = cnt90.measFreq('c')/1e9\n",
    "\n",
    "osa.save_trace('a', filedir+f'\\\\FC_Trans_{freq:.9f} GHz')\n",
    "\n",
    "# osa.save_trace('a', filedir+f'{freq:.9f} GHz')"
   ]
  },
  {
   "cell_type": "code",
   "execution_count": 8,
   "metadata": {},
   "outputs": [
    {
     "name": "stdout",
     "output_type": "stream",
     "text": [
      "Agilent OSA 86142B: Spectrum collection RUN (repeat) start.\n"
     ]
    }
   ],
   "source": [
    "osa.Run()"
   ]
  },
  {
   "cell_type": "code",
   "execution_count": 1,
   "metadata": {},
   "outputs": [
    {
     "name": "stdout",
     "output_type": "stream",
     "text": [
      "ORION Laser Module connected\n",
      "0\n",
      "1\n",
      "0\n",
      "-----------------------ORION Laser Module Status Summary------------------------\n",
      "-------------Product ID: RIO0175-5-01-4-AW2, Ver 0.11.7, SN: 806734-------------\n",
      "|\t Status Code: bytearray(b'\\x00\\x01\\x00\\x01\\x00\\x01')\n",
      "|\t Photo monitor voltage: 1.096 Volt (also mA, r=1kOhm)\n",
      "|\t Board Temp:   18.9257 °C\n",
      "|\t Thermis Temp: 18.6905 °C\n",
      "|\t Volatile Settings (reset to non-volatile after re-plug): \n",
      "|\t\t Diode Cur = 150.0000 mA, TEC Set = 18.931°C\n",
      "|\t Non Volatile Settings (Doesn't reset after re-plug): \n",
      "|\t\t Diode Cur = 150.0000 mA, TEC Set = 19.181°C\n",
      "---------------------ORION Laser Module Status Summary Ends---------------------\n"
     ]
    },
    {
     "data": {
      "text/plain": [
       "\"-----------------------ORION Laser Module Status Summary------------------------\\n-------------Product ID: RIO0175-5-01-4-AW2, Ver 0.11.7, SN: 806734-------------\\n|\\t Status Code: bytearray(b'\\\\x00\\\\x01\\\\x00\\\\x01\\\\x00\\\\x01')\\n|\\t Photo monitor voltage: 1.096 Volt (also mA, r=1kOhm)\\n|\\t Board Temp:   18.9257 °C\\n|\\t Thermis Temp: 18.6905 °C\\n|\\t Volatile Settings (reset to non-volatile after re-plug): \\n|\\t\\t Diode Cur = 150.0000 mA, TEC Set = 18.931°C\\n|\\t Non Volatile Settings (Doesn't reset after re-plug): \\n|\\t\\t Diode Cur = 150.0000 mA, TEC Set = 19.181°C\\n---------------------ORION Laser Module Status Summary Ends---------------------\""
      ]
     },
     "execution_count": 1,
     "metadata": {},
     "output_type": "execute_result"
    }
   ],
   "source": [
    "from LFC.Hardware.ORIONLaser import ORIONLaser\n",
    "rio = ORIONLaser(addr='ASRL55::INSTR')\n",
    "rio.connect()\n",
    "rio.printStatus()\n"
   ]
  },
  {
   "cell_type": "code",
   "execution_count": 5,
   "metadata": {},
   "outputs": [
    {
     "name": "stdout",
     "output_type": "stream",
     "text": [
      "0\n",
      "1\n",
      "0\n",
      "-----------------------ORION Laser Module Status Summary------------------------\n",
      "-------------Product ID: RIO0175-5-01-4-AW2, Ver 0.11.7, SN: 806734-------------\n",
      "|\t Status Code: bytearray(b'\\x00\\x01\\x00\\x01\\x00\\x01')\n",
      "|\t Photo monitor voltage: 1.109 Volt (also mA, r=1kOhm)\n",
      "|\t Board Temp:   18.3486 °C\n",
      "|\t Thermis Temp: 18.7250 °C\n",
      "|\t Volatile Settings (reset to non-volatile after re-plug): \n",
      "|\t\t Diode Cur = 150.0000 mA, TEC Set = 18.921°C\n",
      "|\t Non Volatile Settings (Doesn't reset after re-plug): \n",
      "|\t\t Diode Cur = 150.0000 mA, TEC Set = 19.181°C\n",
      "---------------------ORION Laser Module Status Summary Ends---------------------\n"
     ]
    },
    {
     "data": {
      "text/plain": [
       "\"-----------------------ORION Laser Module Status Summary------------------------\\n-------------Product ID: RIO0175-5-01-4-AW2, Ver 0.11.7, SN: 806734-------------\\n|\\t Status Code: bytearray(b'\\\\x00\\\\x01\\\\x00\\\\x01\\\\x00\\\\x01')\\n|\\t Photo monitor voltage: 1.109 Volt (also mA, r=1kOhm)\\n|\\t Board Temp:   18.3486 °C\\n|\\t Thermis Temp: 18.7250 °C\\n|\\t Volatile Settings (reset to non-volatile after re-plug): \\n|\\t\\t Diode Cur = 150.0000 mA, TEC Set = 18.921°C\\n|\\t Non Volatile Settings (Doesn't reset after re-plug): \\n|\\t\\t Diode Cur = 150.0000 mA, TEC Set = 19.181°C\\n---------------------ORION Laser Module Status Summary Ends---------------------\""
      ]
     },
     "execution_count": 5,
     "metadata": {},
     "output_type": "execute_result"
    }
   ],
   "source": [
    "rio.writeTECsetpoint(18.921)\n",
    "rio.printStatus()"
   ]
  },
  {
   "cell_type": "code",
   "execution_count": null,
   "metadata": {},
   "outputs": [],
   "source": [
    "rio.writeLaserdiodeCur_mA(155)"
   ]
  },
  {
   "cell_type": "code",
   "execution_count": null,
   "metadata": {},
   "outputs": [],
   "source": []
  },
  {
   "cell_type": "code",
   "execution_count": 8,
   "metadata": {},
   "outputs": [
    {
     "name": "stdout",
     "output_type": "stream",
     "text": [
      "0\n",
      "1\n",
      "0\n",
      "-----------------------ORION Laser Module Status Summary------------------------\n",
      "-------------Product ID: RIO0175-5-01-4-AW2, Ver 0.11.7, SN: 806734-------------\n",
      "|\t Status Code: bytearray(b'\\x00\\x01\\x00\\x01\\x00\\x01')\n",
      "|\t Photo monitor voltage: 1.055 Volt (also mA, r=1kOhm)\n",
      "|\t Board Temp:   18.1475 °C\n",
      "|\t Thermis Temp: 18.9047 °C\n",
      "|\t Volatile Settings (reset to non-volatile after re-plug): \n",
      "|\t\t Diode Cur = 150.0000 mA, TEC Set = 19.181°C\n",
      "|\t Non Volatile Settings (Doesn't reset after re-plug): \n",
      "|\t\t Diode Cur = 150.0000 mA, TEC Set = 19.181°C\n",
      "---------------------ORION Laser Module Status Summary Ends---------------------\n"
     ]
    },
    {
     "data": {
      "text/plain": [
       "\"-----------------------ORION Laser Module Status Summary------------------------\\n-------------Product ID: RIO0175-5-01-4-AW2, Ver 0.11.7, SN: 806734-------------\\n|\\t Status Code: bytearray(b'\\\\x00\\\\x01\\\\x00\\\\x01\\\\x00\\\\x01')\\n|\\t Photo monitor voltage: 1.055 Volt (also mA, r=1kOhm)\\n|\\t Board Temp:   18.1475 °C\\n|\\t Thermis Temp: 18.9047 °C\\n|\\t Volatile Settings (reset to non-volatile after re-plug): \\n|\\t\\t Diode Cur = 150.0000 mA, TEC Set = 19.181°C\\n|\\t Non Volatile Settings (Doesn't reset after re-plug): \\n|\\t\\t Diode Cur = 150.0000 mA, TEC Set = 19.181°C\\n---------------------ORION Laser Module Status Summary Ends---------------------\""
      ]
     },
     "execution_count": 8,
     "metadata": {},
     "output_type": "execute_result"
    }
   ],
   "source": [
    "rio.writeLaserdiodeCur_mA(150, volatile=False)\n",
    "rio.writeTECsetpoint(19.181, volatile=False)\n",
    "rio.printStatus()\n"
   ]
  },
  {
   "cell_type": "code",
   "execution_count": 23,
   "metadata": {},
   "outputs": [
    {
     "name": "stdout",
     "output_type": "stream",
     "text": [
      "-------------------------RF oscilator PS, CH2 15V, CH3 1V------------------------\n",
      "|----------------Instek DC Power Supply GPD-4303S Status Summary-----------------\n",
      "|--------------------Model: GPD-4303S, Serial No.SN:EV884423---------------------\n",
      "|\tMaster Activation: \u001b[1;34;41mOFF\u001b[0m\n",
      "|\t------------Channel Summary-------------\n",
      "|\t CH1: master, CH2: slave, mode UNRECOGNIZED?.\n",
      "|\t CHANNEL1: CC Mode.\n",
      "|\t\t VSET=0.000V, ISET=0.000A.\n",
      "|\t\t VOUT=0.000V, IOUT=0.000A.\n",
      "|\t\t Output power: 0.000W.\n",
      "|\t CHANNEL2: CC Mode.\n",
      "|\t\t VSET=15.000V, ISET=3.000A.\n",
      "|\t\t VOUT=0.000V, IOUT=0.000A.\n",
      "|\t\t Output power: 0.000W.\n",
      "|\t CHANNEL3: CC Mode.\n",
      "|\t\t VSET=0.950V, ISET=1.000A.\n",
      "|\t\t VOUT=0.000V, IOUT=0.000A.\n",
      "|\t\t Output power: 0.000W.\n",
      "|\t CHANNEL4: CV Mode.\n",
      "|\t\t VSET=0.000V, ISET=0.000A.\n",
      "|\t\t VOUT=0.000V, IOUT=0.000A.\n",
      "|\t\t Output power: 0.000W.\n",
      "--------------Instek DC Power Supply GPD-4303S Status Summary Ends--------------\n",
      "\n"
     ]
    },
    {
     "data": {
      "text/plain": [
       "'-------------------------RF oscilator PS, CH2 15V, CH3 1V------------------------\\n|----------------Instek DC Power Supply GPD-4303S Status Summary-----------------\\n|--------------------Model: GPD-4303S, Serial No.SN:EV884423---------------------\\n|\\tMaster Activation: \\x1b[1;34;41mOFF\\x1b[0m\\n|\\t------------Channel Summary-------------\\n|\\t CH1: master, CH2: slave, mode UNRECOGNIZED?.\\n|\\t CHANNEL1: CC Mode.\\n|\\t\\t VSET=0.000V, ISET=0.000A.\\n|\\t\\t VOUT=0.000V, IOUT=0.000A.\\n|\\t\\t Output power: 0.000W.\\n|\\t CHANNEL2: CC Mode.\\n|\\t\\t VSET=15.000V, ISET=3.000A.\\n|\\t\\t VOUT=0.000V, IOUT=0.000A.\\n|\\t\\t Output power: 0.000W.\\n|\\t CHANNEL3: CC Mode.\\n|\\t\\t VSET=0.950V, ISET=1.000A.\\n|\\t\\t VOUT=0.000V, IOUT=0.000A.\\n|\\t\\t Output power: 0.000W.\\n|\\t CHANNEL4: CV Mode.\\n|\\t\\t VSET=0.000V, ISET=0.000A.\\n|\\t\\t VOUT=0.000V, IOUT=0.000A.\\n|\\t\\t Output power: 0.000W.\\n--------------Instek DC Power Supply GPD-4303S Status Summary Ends--------------\\n'"
      ]
     },
     "execution_count": 23,
     "metadata": {},
     "output_type": "execute_result"
    }
   ],
   "source": [
    "rfoscPS.printStatus()"
   ]
  },
  {
   "cell_type": "code",
   "execution_count": 158,
   "metadata": {},
   "outputs": [
    {
     "name": "stdout",
     "output_type": "stream",
     "text": [
      "Instek GPD-4303S DCSupply: Output activation is turned ON.\n"
     ]
    }
   ],
   "source": [
    "rfoscPS.activation = 1"
   ]
  },
  {
   "cell_type": "code",
   "execution_count": 30,
   "metadata": {},
   "outputs": [
    {
     "name": "stdout",
     "output_type": "stream",
     "text": [
      "0.483\n",
      "0.483\n",
      "0.477\n",
      "0.468\n",
      "0.456\n",
      "0.443\n",
      "0.443\n",
      "0.43\n",
      "0.418\n",
      "0.409\n",
      "0.402\n",
      "0.402\n",
      "0.397\n",
      "0.396\n",
      "0.397\n",
      "0.401\n",
      "0.401\n",
      "0.407\n",
      "0.413\n",
      "0.42\n",
      "0.426\n",
      "0.426\n",
      "0.432\n",
      "0.437\n",
      "0.44\n",
      "0.441\n",
      "0.441\n",
      "0.441\n",
      "0.44\n",
      "0.437\n",
      "0.434\n",
      "0.434\n",
      "0.43\n",
      "0.427\n",
      "0.424\n",
      "0.421\n",
      "0.421\n",
      "0.419\n",
      "0.418\n",
      "0.418\n",
      "0.418\n",
      "0.418\n",
      "0.419\n",
      "0.421\n",
      "0.423\n",
      "0.425\n",
      "0.425\n",
      "0.426\n",
      "0.428\n",
      "0.429\n",
      "0.43\n",
      "0.43\n",
      "0.43\n",
      "0.43\n",
      "0.429\n",
      "0.428\n",
      "0.428\n",
      "0.427\n",
      "0.426\n",
      "0.425\n",
      "0.424\n",
      "0.424\n",
      "0.424\n",
      "0.423\n",
      "0.423\n",
      "0.423\n",
      "0.423\n",
      "0.423\n",
      "0.424\n",
      "0.424\n",
      "0.425\n",
      "0.425\n",
      "0.425\n",
      "0.426\n",
      "0.426\n",
      "0.426\n",
      "0.426\n",
      "0.427\n",
      "0.427\n",
      "0.426\n",
      "0.426\n",
      "0.426\n",
      "0.426\n",
      "0.425\n",
      "0.425\n",
      "0.425\n",
      "0.425\n",
      "0.425\n",
      "0.425\n",
      "0.425\n",
      "0.425\n",
      "0.425\n",
      "0.425\n",
      "0.425\n",
      "0.425\n",
      "0.425\n",
      "0.425\n",
      "0.425\n",
      "0.425\n",
      "0.425\n"
     ]
    }
   ],
   "source": [
    "for ii in range(100):\n",
    "    print(rfoscPS.Iout2)\n",
    "    import time\n",
    "    time.sleep(0.1)\n"
   ]
  },
  {
   "cell_type": "code",
   "execution_count": 31,
   "metadata": {},
   "outputs": [
    {
     "name": "stdout",
     "output_type": "stream",
     "text": [
      "RF amplifier PS 30V 4A: channel 1 output is turned ON\n"
     ]
    }
   ],
   "source": [
    "rfampPS.activation1 = 1"
   ]
  },
  {
   "cell_type": "code",
   "execution_count": 33,
   "metadata": {},
   "outputs": [
    {
     "name": "stdout",
     "output_type": "stream",
     "text": [
      "------------------------------RF amplifier PS 30V 4A-----------------------------\n",
      "|-------------------Instek GPP DC Power Supply Status Summary--------------------\n",
      "|--------------------Model: GPP-1326, Serial No.SN:GET921679---------------------\n",
      "|\t------------Channel Summary-------------\n",
      "|\t CHANNEL1: Activation \u001b[1;34;42mON\u001b[0m.\n",
      "|\t\t VSET=30.000V, ISET=6.000A.\n",
      "|\t\t VOUT=29.997V, IOUT=4.086A.\n",
      "|\t\t Output power: 122.562W.\n",
      "|\t\t ---Over Voltage/Current Protection Status:---\n",
      "|\t\t OVP Status: OFF\t OCP Status: OFF \n",
      "|\t\t OVP Level : 35.0 V\t OCP Level : 7.0 A\n",
      "-----------------Instek GPP DC Power Supply Status Summary Ends-----------------\n",
      "\n"
     ]
    },
    {
     "data": {
      "text/plain": [
       "'------------------------------RF amplifier PS 30V 4A-----------------------------\\n|-------------------Instek GPP DC Power Supply Status Summary--------------------\\n|--------------------Model: GPP-1326, Serial No.SN:GET921679---------------------\\n|\\t------------Channel Summary-------------\\n|\\t CHANNEL1: Activation \\x1b[1;34;42mON\\x1b[0m.\\n|\\t\\t VSET=30.000V, ISET=6.000A.\\n|\\t\\t VOUT=29.997V, IOUT=4.086A.\\n|\\t\\t Output power: 122.562W.\\n|\\t\\t ---Over Voltage/Current Protection Status:---\\n|\\t\\t OVP Status: OFF\\t OCP Status: OFF \\n|\\t\\t OVP Level : 35.0 V\\t OCP Level : 7.0 A\\n-----------------Instek GPP DC Power Supply Status Summary Ends-----------------\\n'"
      ]
     },
     "execution_count": 33,
     "metadata": {},
     "output_type": "execute_result"
    }
   ],
   "source": [
    "rfampPS.printStatus()"
   ]
  },
  {
   "cell_type": "code",
   "execution_count": 137,
   "metadata": {},
   "outputs": [
    {
     "name": "stdout",
     "output_type": "stream",
     "text": [
      "Amonics EDFA 27 dBm: CH1 mode set as APC\n",
      "Amonics EDFA 27 dBm: setted APC mode CH1 current as 450.0 mW.\n",
      "-------------------------------Amonics EDFA 27 dBm-------------------------------\n",
      "|--------------------------Amonics EDFA Status Summary---------------------------\n",
      "|------------------Model: AEDFA-PM-27-R-FA, Serial No.21082531-------------------\n",
      "|\tInterLock Status: \u001b[1;34;42mUNLOCKED\u001b[0m\n",
      "|\tCase Temperature: 28.56°C\n",
      "|\tMaster Activation: \u001b[1;34;41mOFF\u001b[0m\n",
      "|\t------------Channel Summary-------------\n",
      "|\t CHANNEL1: \n",
      "|\t\t Mode: APC\n",
      "|\t\t Set Pwr: 450.0 mW\n",
      "|\t\t Status: \u001b[1;34;41mOFF\u001b[0m\n",
      "|\t\t Input Power: 14.51131 mW\n",
      "|\t\t Output Power: 0.0 mW\n",
      "|\t\t Internal PD Power: 0.0 mW\n",
      "------------------------Amonics EDFA Status Summary Ends------------------------\n",
      "\n"
     ]
    },
    {
     "data": {
      "text/plain": [
       "'-------------------------------Amonics EDFA 27 dBm-------------------------------\\n|--------------------------Amonics EDFA Status Summary---------------------------\\n|------------------Model: AEDFA-PM-27-R-FA, Serial No.21082531-------------------\\n|\\tInterLock Status: \\x1b[1;34;42mUNLOCKED\\x1b[0m\\n|\\tCase Temperature: 28.56°C\\n|\\tMaster Activation: \\x1b[1;34;41mOFF\\x1b[0m\\n|\\t------------Channel Summary-------------\\n|\\t CHANNEL1: \\n|\\t\\t Mode: APC\\n|\\t\\t Set Pwr: 450.0 mW\\n|\\t\\t Status: \\x1b[1;34;41mOFF\\x1b[0m\\n|\\t\\t Input Power: 14.51131 mW\\n|\\t\\t Output Power: 0.0 mW\\n|\\t\\t Internal PD Power: 0.0 mW\\n------------------------Amonics EDFA Status Summary Ends------------------------\\n'"
      ]
     },
     "execution_count": 137,
     "metadata": {},
     "output_type": "execute_result"
    }
   ],
   "source": [
    "amonic27.modeCh1 = 'APC'\n",
    "amonic27.accCh1Cur = 450\n",
    "amonic27.printStatus()"
   ]
  },
  {
   "cell_type": "code",
   "execution_count": 138,
   "metadata": {},
   "outputs": [
    {
     "name": "stdout",
     "output_type": "stream",
     "text": [
      "Amonics EDFA 27 dBm: ......waiting APC CH1 status set to ON, now OFF\n",
      "Amonics EDFA 27 dBm: setted APC CH1 status as ON, finished in 0.080 seconds\n",
      "Amonics EDFA 27 dBm: ACTIVATING LASER OUTPUT, MAKE SURE SEED INPUT POWER IS APPROPRIATE TO AVOID DAMAGE\n",
      "Amonics EDFA 27 dBm: ......waiting Activation status set to ON, now OFF\n",
      "Amonics EDFA 27 dBm: setted Activation status as ON, finished in 0.079 seconds\n",
      "-------------------------------Amonics EDFA 27 dBm-------------------------------\n",
      "|--------------------------Amonics EDFA Status Summary---------------------------\n",
      "|------------------Model: AEDFA-PM-27-R-FA, Serial No.21082531-------------------\n",
      "|\tInterLock Status: \u001b[1;34;42mUNLOCKED\u001b[0m\n",
      "|\tCase Temperature: 28.54°C\n",
      "|\tMaster Activation: \u001b[1;34;42mON\u001b[0m\n",
      "|\t------------Channel Summary-------------\n",
      "|\t CHANNEL1: \n",
      "|\t\t Mode: APC\n",
      "|\t\t Set Pwr: 450.0 mW\n",
      "|\t\t Status: \u001b[1;34;42mON\u001b[0m\n",
      "|\t\t Input Power: 14.47055 mW\n",
      "|\t\t Output Power: 406.5257 mW\n",
      "|\t\t Internal PD Power: 330.9595 mW\n",
      "------------------------Amonics EDFA Status Summary Ends------------------------\n",
      "\n"
     ]
    },
    {
     "data": {
      "text/plain": [
       "'-------------------------------Amonics EDFA 27 dBm-------------------------------\\n|--------------------------Amonics EDFA Status Summary---------------------------\\n|------------------Model: AEDFA-PM-27-R-FA, Serial No.21082531-------------------\\n|\\tInterLock Status: \\x1b[1;34;42mUNLOCKED\\x1b[0m\\n|\\tCase Temperature: 28.54°C\\n|\\tMaster Activation: \\x1b[1;34;42mON\\x1b[0m\\n|\\t------------Channel Summary-------------\\n|\\t CHANNEL1: \\n|\\t\\t Mode: APC\\n|\\t\\t Set Pwr: 450.0 mW\\n|\\t\\t Status: \\x1b[1;34;42mON\\x1b[0m\\n|\\t\\t Input Power: 14.47055 mW\\n|\\t\\t Output Power: 406.5257 mW\\n|\\t\\t Internal PD Power: 330.9595 mW\\n------------------------Amonics EDFA Status Summary Ends------------------------\\n'"
      ]
     },
     "execution_count": 138,
     "metadata": {},
     "output_type": "execute_result"
    }
   ],
   "source": [
    "amonic27.accCh1Status = 1\n",
    "amonic27.activation = 1\n",
    "import time\n",
    "time.sleep(5)\n",
    "amonic27.printStatus()"
   ]
  },
  {
   "cell_type": "code",
   "execution_count": 139,
   "metadata": {},
   "outputs": [
    {
     "name": "stdout",
     "output_type": "stream",
     "text": [
      "-------------------------------Amonics EDFA 27 dBm-------------------------------\n",
      "|--------------------------Amonics EDFA Status Summary---------------------------\n",
      "|------------------Model: AEDFA-PM-27-R-FA, Serial No.21082531-------------------\n",
      "|\tInterLock Status: \u001b[1;34;42mUNLOCKED\u001b[0m\n",
      "|\tCase Temperature: 28.50°C\n",
      "|\tMaster Activation: \u001b[1;34;42mON\u001b[0m\n",
      "|\t------------Channel Summary-------------\n",
      "|\t CHANNEL1: \n",
      "|\t\t Mode: APC\n",
      "|\t\t Set Pwr: 450.0 mW\n",
      "|\t\t Status: \u001b[1;34;42mON\u001b[0m\n",
      "|\t\t Input Power: 14.42991 mW\n",
      "|\t\t Output Power: 448.4817 mW\n",
      "|\t\t Internal PD Power: 330.9595 mW\n",
      "------------------------Amonics EDFA Status Summary Ends------------------------\n",
      "\n"
     ]
    },
    {
     "data": {
      "text/plain": [
       "'-------------------------------Amonics EDFA 27 dBm-------------------------------\\n|--------------------------Amonics EDFA Status Summary---------------------------\\n|------------------Model: AEDFA-PM-27-R-FA, Serial No.21082531-------------------\\n|\\tInterLock Status: \\x1b[1;34;42mUNLOCKED\\x1b[0m\\n|\\tCase Temperature: 28.50°C\\n|\\tMaster Activation: \\x1b[1;34;42mON\\x1b[0m\\n|\\t------------Channel Summary-------------\\n|\\t CHANNEL1: \\n|\\t\\t Mode: APC\\n|\\t\\t Set Pwr: 450.0 mW\\n|\\t\\t Status: \\x1b[1;34;42mON\\x1b[0m\\n|\\t\\t Input Power: 14.42991 mW\\n|\\t\\t Output Power: 448.4817 mW\\n|\\t\\t Internal PD Power: 330.9595 mW\\n------------------------Amonics EDFA Status Summary Ends------------------------\\n'"
      ]
     },
     "execution_count": 139,
     "metadata": {},
     "output_type": "execute_result"
    }
   ],
   "source": [
    "amonic27.printStatus()"
   ]
  },
  {
   "cell_type": "code",
   "execution_count": 6,
   "metadata": {},
   "outputs": [
    {
     "name": "stdout",
     "output_type": "stream",
     "text": [
      "Agilent 86142B connected\n"
     ]
    },
    {
     "data": {
      "text/plain": [
       "1"
      ]
     },
     "execution_count": 6,
     "metadata": {},
     "output_type": "execute_result"
    }
   ],
   "source": [
    "from LFC.Hardware.Agilent_86142B import Agilent_86142B\n",
    "osa = Agilent_86142B(addr='GPIB0::30::INSTR')\n",
    "\n",
    "osa.connect()\n",
    "# osa.wlstop = 1568"
   ]
  },
  {
   "cell_type": "code",
   "execution_count": null,
   "metadata": {},
   "outputs": [],
   "source": []
  },
  {
   "cell_type": "code",
   "execution_count": 69,
   "metadata": {},
   "outputs": [
    {
     "data": {
      "image/png": "[encoded data removed]",
      "text/plain": [
       "<Figure size 432x288 with 1 Axes>"
      ]
     },
     "metadata": {},
     "output_type": "display_data"
    }
   ],
   "source": [
    "osa.startosa('a')"
   ]
  },
  {
   "cell_type": "code",
   "execution_count": 70,
   "metadata": {},
   "outputs": [
    {
     "data": {
      "image/png": "[encoded data removed]",
      "text/plain": [
       "<Figure size 432x288 with 1 Axes>"
      ]
     },
     "metadata": {
      "needs_background": "light"
     },
     "output_type": "display_data"
    },
    {
     "data": {
      "image/png": "[encoded data removed]",
      "text/plain": [
       "<Figure size 432x288 with 1 Axes>"
      ]
     },
     "metadata": {},
     "output_type": "display_data"
    }
   ],
   "source": [
    "osa.stoposa()"
   ]
  },
  {
   "cell_type": "code",
   "execution_count": 52,
   "metadata": {},
   "outputs": [
    {
     "name": "stdout",
     "output_type": "stream",
     "text": [
      "Agilent 86142B: OSA sensitivity set to -65.00 dBm.\n"
     ]
    }
   ],
   "source": [
    "osa.sensitivity = -65"
   ]
  },
  {
   "cell_type": "code",
   "execution_count": 47,
   "metadata": {},
   "outputs": [
    {
     "name": "stdout",
     "output_type": "stream",
     "text": [
      "Agilent 86142B: Reference level set to -10.0 dBm.\n"
     ]
    }
   ],
   "source": [
    "osa.reflevel = -10"
   ]
  },
  {
   "cell_type": "code",
   "execution_count": 53,
   "metadata": {},
   "outputs": [
    {
     "name": "stdout",
     "output_type": "stream",
     "text": [
      "Agilent 86142B: Scan start wavelength set to 1553.50 nm.\n",
      "Agilent 86142B: Scan stop wavelength set to 1567.50 nm.\n",
      "Agilent 86142B: Scan center wavelength set to 1560.50 nm.\n"
     ]
    }
   ],
   "source": [
    "osa.wlcenter=1560.5"
   ]
  },
  {
   "cell_type": "code",
   "execution_count": 54,
   "metadata": {},
   "outputs": [
    {
     "name": "stdout",
     "output_type": "stream",
     "text": [
      "----------------------------Instek GPD-4303S DCSupply----------------------------\n",
      "|----------------Instek DC Power Supply GPD-4303S Status Summary-----------------\n",
      "|--------------------Model: GPD-4303S, Serial No.SN:EV884423---------------------\n",
      "|\tMaster Activation: \u001b[1;34;42mON\u001b[0m\n",
      "|\t------------Channel Summary-------------\n",
      "|\t CH1: master, CH2: slave, mode UNRECOGNIZED?.\n",
      "|\t CHANNEL1: CC Mode.\n",
      "|\t\t VSET=0.000V, ISET=0.000A.\n",
      "|\t\t VOUT=0.000V, IOUT=0.002A.\n",
      "|\t\t Output power: 0.000W.\n",
      "|\t CHANNEL2: CV Mode.\n",
      "|\t\t VSET=15.000V, ISET=3.000A.\n",
      "|\t\t VOUT=14.991V, IOUT=0.428A.\n",
      "|\t\t Output power: 6.416W.\n",
      "|\t CHANNEL3: CV Mode.\n",
      "|\t\t VSET=1.199V, ISET=1.000A.\n",
      "|\t\t VOUT=1.199V, IOUT=0.001A.\n",
      "|\t\t Output power: 0.001W.\n",
      "|\t CHANNEL4: CV Mode.\n",
      "|\t\t VSET=0.000V, ISET=0.000A.\n",
      "|\t\t VOUT=0.000V, IOUT=0.001A.\n",
      "|\t\t Output power: 0.000W.\n",
      "--------------Instek DC Power Supply GPD-4303S Status Summary Ends--------------\n",
      "\n"
     ]
    },
    {
     "data": {
      "text/plain": [
       "'----------------------------Instek GPD-4303S DCSupply----------------------------\\n|----------------Instek DC Power Supply GPD-4303S Status Summary-----------------\\n|--------------------Model: GPD-4303S, Serial No.SN:EV884423---------------------\\n|\\tMaster Activation: \\x1b[1;34;42mON\\x1b[0m\\n|\\t------------Channel Summary-------------\\n|\\t CH1: master, CH2: slave, mode UNRECOGNIZED?.\\n|\\t CHANNEL1: CC Mode.\\n|\\t\\t VSET=0.000V, ISET=0.000A.\\n|\\t\\t VOUT=0.000V, IOUT=0.002A.\\n|\\t\\t Output power: 0.000W.\\n|\\t CHANNEL2: CV Mode.\\n|\\t\\t VSET=15.000V, ISET=3.000A.\\n|\\t\\t VOUT=14.991V, IOUT=0.428A.\\n|\\t\\t Output power: 6.416W.\\n|\\t CHANNEL3: CV Mode.\\n|\\t\\t VSET=1.199V, ISET=1.000A.\\n|\\t\\t VOUT=1.199V, IOUT=0.001A.\\n|\\t\\t Output power: 0.001W.\\n|\\t CHANNEL4: CV Mode.\\n|\\t\\t VSET=0.000V, ISET=0.000A.\\n|\\t\\t VOUT=0.000V, IOUT=0.001A.\\n|\\t\\t Output power: 0.000W.\\n--------------Instek DC Power Supply GPD-4303S Status Summary Ends--------------\\n'"
      ]
     },
     "execution_count": 54,
     "metadata": {},
     "output_type": "execute_result"
    }
   ],
   "source": [
    "rfoscPS.printStatus()"
   ]
  },
  {
   "cell_type": "code",
   "execution_count": 3,
   "metadata": {},
   "outputs": [
    {
     "ename": "NameError",
     "evalue": "name 'rfoscPS' is not defined",
     "output_type": "error",
     "traceback": [
      "\u001b[1;31m---------------------------------------------------------------------------\u001b[0m",
      "\u001b[1;31mNameError\u001b[0m                                 Traceback (most recent call last)",
      "\u001b[1;32mc:\\Users\\HSFLFC\\Desktop\\Keck\\Keck Comb\\Jun_Commission.ipynb Cell 35\u001b[0m in \u001b[0;36m<cell line: 1>\u001b[1;34m()\u001b[0m\n\u001b[1;32m----> <a href='vscode-notebook-cell:/c%3A/Users/HSFLFC/Desktop/Keck/Keck%20Comb/Jun_Commission.ipynb#Y312sZmlsZQ%3D%3D?line=0'>1</a>\u001b[0m rfoscPS\u001b[39m.\u001b[39mactivation \u001b[39m=\u001b[39m \u001b[39m1\u001b[39m\n",
      "\u001b[1;31mNameError\u001b[0m: name 'rfoscPS' is not defined"
     ]
    }
   ],
   "source": [
    "rfoscPS.activation = 1"
   ]
  },
  {
   "cell_type": "code",
   "execution_count": 60,
   "metadata": {},
   "outputs": [
    {
     "name": "stdout",
     "output_type": "stream",
     "text": [
      "Instek GPD-4303S DCSupply: VSET channel 3 set to 0.950V\n"
     ]
    }
   ],
   "source": [
    "rfoscPS.Vset3 = 0.95"
   ]
  },
  {
   "cell_type": "code",
   "execution_count": 20,
   "metadata": {},
   "outputs": [
    {
     "name": "stdout",
     "output_type": "stream",
     "text": [
      "Finisar Waveshaper SN201904 connected\n"
     ]
    },
    {
     "data": {
      "text/plain": [
       "1"
      ]
     },
     "execution_count": 20,
     "metadata": {},
     "output_type": "execute_result"
    }
   ],
   "source": [
    "from LFC.Hardware.Waveshaper import Waveshaper\n",
    "ws = Waveshaper()\n",
    "ws.connect()"
   ]
  },
  {
   "cell_type": "code",
   "execution_count": 47,
   "metadata": {},
   "outputs": [
    {
     "data": {
      "image/png": "[encoded data removed]",
      "text/plain": [
       "<Figure size 432x288 with 1 Axes>"
      ]
     },
     "metadata": {
      "needs_background": "light"
     },
     "output_type": "display_data"
    },
    {
     "name": "stdout",
     "output_type": "stream",
     "text": [
      "Waveshaper Set interp phase with center 192.17465256410256 THz.\n",
      "Waveshaper Set atten to BandPass [189.675~194.675] THz ([1580.559~1539.964] nm).\n",
      "Waveshaper profile write successful.\n",
      "-------------------Finisar Waveshaper SN201904 Status Summary-------------------\n",
      "|\t Atten info: Set atten to BandPass [189.675~194.675] THz ([1580.559~1539.964] nm)\n",
      "|\t Phase info: Set interp phase with center 192.17465256410256 THz\n",
      "----------------Finisar Waveshaper SN201904 Status Summary Ends-----------------\n"
     ]
    },
    {
     "data": {
      "image/png": "[encoded data removed]",
      "text/plain": [
       "<Figure size 648x432 with 4 Axes>"
      ]
     },
     "metadata": {
      "needs_background": "light"
     },
     "output_type": "display_data"
    },
    {
     "data": {
      "image/png": "[encoded data removed]",
      "text/plain": [
       "<Figure size 648x432 with 4 Axes>"
      ]
     },
     "metadata": {
      "needs_background": "light"
     },
     "output_type": "display_data"
    }
   ],
   "source": [
    "\n",
    "import matplotlib.pyplot as plt\n",
    "import numpy as np\n",
    "\n",
    "n_pt = 35\n",
    "x_freq = np.linspace(192.3-n_pt*16e-3, 192.3+n_pt*16e-3, 16)\n",
    "y_phase = ((x_freq-192.3) ** 2 * (2*np.pi) ** 2 * 1.3/2*-2.76) + 0/((x_freq-192.3) ** 4 * (2*np.pi) ** 2 * 1.3/2+1)\n",
    "plt.plot(x_freq, y_phase,label='original')\n",
    "\n",
    "y_phase[5:11] *= 1\n",
    "#y_phase[:3] *= 1\n",
    "\n",
    "\n",
    "\n",
    "plt.plot(x_freq, y_phase,label='after')\n",
    "plt.legend()\n",
    "plt.show()\n",
    "\n",
    "\n",
    "ws.set_interp_phase(x_freq, y_phase)\n",
    "ws.setBandPass(span=5)\n",
    "# ws.set2ndDisper(d2=-2.8)\n",
    "ws.plotStatus()\n",
    "ws.writeProfile()\n",
    "ws.printStatus()"
   ]
  },
  {
   "cell_type": "code",
   "execution_count": 3,
   "metadata": {},
   "outputs": [
    {
     "name": "stdout",
     "output_type": "stream",
     "text": [
      "Amonics EDFA 13 dBm connected\n",
      "-------------------------------Amonics EDFA 13 dBm-------------------------------\n",
      "|--------------------------Amonics EDFA Status Summary---------------------------\n",
      "|------------------Model: AEDFA-PM-13-R-FA, Serial No.22020701-------------------\n",
      "|\tInterLock Status: \u001b[1;34;42mUNLOCKED\u001b[0m\n",
      "|\tCase Temperature: 29.46°C\n",
      "|\tMaster Activation: \u001b[1;34;42mON\u001b[0m\n",
      "|\t------------Channel Summary-------------\n",
      "|\t CHANNEL1: \n",
      "|\t\t Mode: ACC\n",
      "|\t\t Set Cur: 60.0 mA\n",
      "|\t\t Status: \u001b[1;34;42mON\u001b[0m\n",
      "|\t\t Input Power: 1.249001 mW\n",
      "|\t\t Output Power: 4.198971 mW\n",
      "|\t\t Internal PD Power: 18.61702 mW\n",
      "------------------------Amonics EDFA Status Summary Ends------------------------\n",
      "\n"
     ]
    },
    {
     "data": {
      "text/plain": [
       "'-------------------------------Amonics EDFA 13 dBm-------------------------------\\n|--------------------------Amonics EDFA Status Summary---------------------------\\n|------------------Model: AEDFA-PM-13-R-FA, Serial No.22020701-------------------\\n|\\tInterLock Status: \\x1b[1;34;42mUNLOCKED\\x1b[0m\\n|\\tCase Temperature: 29.46°C\\n|\\tMaster Activation: \\x1b[1;34;42mON\\x1b[0m\\n|\\t------------Channel Summary-------------\\n|\\t CHANNEL1: \\n|\\t\\t Mode: ACC\\n|\\t\\t Set Cur: 60.0 mA\\n|\\t\\t Status: \\x1b[1;34;42mON\\x1b[0m\\n|\\t\\t Input Power: 1.249001 mW\\n|\\t\\t Output Power: 4.198971 mW\\n|\\t\\t Internal PD Power: 18.61702 mW\\n------------------------Amonics EDFA Status Summary Ends------------------------\\n'"
      ]
     },
     "execution_count": 3,
     "metadata": {},
     "output_type": "execute_result"
    }
   ],
   "source": [
    "from LFC.Hardware.AmonicsEDFA import AmonicsEDFA\n",
    "amonic13= AmonicsEDFA(addr='ASRL4::INSTR', name='Amonics EDFA 13 dBm')\n",
    "amonic13.connect()\n",
    "amonic13.printStatus()"
   ]
  },
  {
   "cell_type": "code",
   "execution_count": 5,
   "metadata": {},
   "outputs": [
    {
     "name": "stdout",
     "output_type": "stream",
     "text": [
      "Amonics EDFA 13 dBm: setted ACC mode CH1 current as 60.0 mA.\n",
      "Amonics EDFA 13 dBm: ......waiting ACC CH1 status set to ON, now OFF\n",
      "Amonics EDFA 13 dBm: setted ACC CH1 status as ON, finished in 0.106 seconds\n"
     ]
    }
   ],
   "source": [
    "amonic13.accCh1Cur = 60\n",
    "amonic13.accCh1Status = 1"
   ]
  },
  {
   "cell_type": "code",
   "execution_count": 35,
   "metadata": {},
   "outputs": [
    {
     "name": "stdout",
     "output_type": "stream",
     "text": [
      "Amonics EDFA 13 dBm: ACTIVATING LASER OUTPUT, MAKE SURE SEED INPUT POWER IS APPROPRIATE TO AVOID DAMAGE\n",
      "Amonics EDFA 13 dBm: ......waiting Activation status set to ON, now OFF\n",
      "Amonics EDFA 13 dBm: setted Activation status as ON, finished in 0.080 seconds\n"
     ]
    }
   ],
   "source": [
    "amonic13.activation = 1"
   ]
  },
  {
   "cell_type": "code",
   "execution_count": 38,
   "metadata": {},
   "outputs": [
    {
     "name": "stdout",
     "output_type": "stream",
     "text": [
      "Amonics EDFA 13 dBm: setted ACC mode CH1 current as 60.0 mA.\n"
     ]
    }
   ],
   "source": [
    "amonic13.accCh1Cur = 60"
   ]
  },
  {
   "cell_type": "code",
   "execution_count": null,
   "metadata": {},
   "outputs": [],
   "source": [
    "# 317 # arduino low, 2 mW\n",
    "\n",
    "\n",
    "# 741 # adruino high, 4.86mW"
   ]
  },
  {
   "cell_type": "code",
   "execution_count": 7,
   "metadata": {},
   "outputs": [
    {
     "name": "stdout",
     "output_type": "stream",
     "text": [
      "Pendulum CNT90 connected\n"
     ]
    },
    {
     "data": {
      "text/plain": [
       "1"
      ]
     },
     "execution_count": 7,
     "metadata": {},
     "output_type": "execute_result"
    }
   ],
   "source": [
    "from LFC.Hardware.PendulumCNT90 import PendulumCNT90\n",
    "cnt90 = PendulumCNT90(addr='GPIB0::10::INSTR', name='Pendulum CNT90')\n",
    "cnt90.connect()"
   ]
  },
  {
   "cell_type": "code",
   "execution_count": 8,
   "metadata": {},
   "outputs": [
    {
     "data": {
      "text/plain": [
       "15.9967"
      ]
     },
     "execution_count": 8,
     "metadata": {},
     "output_type": "execute_result"
    }
   ],
   "source": [
    "cnt90.measFreq('c')/1e9"
   ]
  },
  {
   "cell_type": "code",
   "execution_count": 6,
   "metadata": {},
   "outputs": [
    {
     "name": "stdout",
     "output_type": "stream",
     "text": [
      "Pritel Amp connected\n",
      "------------------------------------Pritel Amp-----------------------------------\n",
      "|-----------------Pritel OPTICAL FIBER AMPLIFIER Status Summary------------------\n",
      "|\t Pump status: \u001b[1;34;41mOFF\u001b[0m\n",
      "|\t InputPower = 0 mW, \tPreAmp = 0 mA\n",
      "|\t OutputPower = 0.00 W, \tPwrAmp = 0.00 A\n",
      "|\t AutoShutDown Enabled. PowerAmp pump current is disabled.\n",
      "----------------Pritel OPTICAL FIBER AMPLIFIER Status Summary Ends---------------\n",
      "\n"
     ]
    },
    {
     "data": {
      "text/plain": [
       "'------------------------------------Pritel Amp-----------------------------------\\n|-----------------Pritel OPTICAL FIBER AMPLIFIER Status Summary------------------\\n|\\t Pump status: \\x1b[1;34;41mOFF\\x1b[0m\\n|\\t InputPower = 0 mW, \\tPreAmp = 0 mA\\n|\\t OutputPower = 0.00 W, \\tPwrAmp = 0.00 A\\n|\\t AutoShutDown Enabled. PowerAmp pump current is disabled.\\n----------------Pritel OPTICAL FIBER AMPLIFIER Status Summary Ends---------------\\n'"
      ]
     },
     "execution_count": 6,
     "metadata": {},
     "output_type": "execute_result"
    }
   ],
   "source": [
    "from LFC.Hardware.PritelAmp import PritelAmp\n",
    "ptamp = PritelAmp(addr='ASRL6::INSTR', name='Pritel Amp')\n",
    "ptamp.connect()\n",
    "ptamp.printStatus()"
   ]
  },
  {
   "cell_type": "code",
   "execution_count": 14,
   "metadata": {},
   "outputs": [
    {
     "name": "stdout",
     "output_type": "stream",
     "text": [
      "------------------------------------Pritel Amp-----------------------------------\n",
      "|-----------------Pritel OPTICAL FIBER AMPLIFIER Status Summary------------------\n",
      "|\t Pump status: \u001b[1;34;42mON\u001b[0m\n",
      "|\t InputPower = 135 mW, \tPreAmp = 600 mA\n",
      "|\t OutputPower = 0.34 W, \tPwrAmp = 0.79 A\n",
      "|\t AutoShutDown Disabled.\n",
      "----------------Pritel OPTICAL FIBER AMPLIFIER Status Summary Ends---------------\n",
      "\n"
     ]
    },
    {
     "data": {
      "text/plain": [
       "'------------------------------------Pritel Amp-----------------------------------\\n|-----------------Pritel OPTICAL FIBER AMPLIFIER Status Summary------------------\\n|\\t Pump status: \\x1b[1;34;42mON\\x1b[0m\\n|\\t InputPower = 135 mW, \\tPreAmp = 600 mA\\n|\\t OutputPower = 0.34 W, \\tPwrAmp = 0.79 A\\n|\\t AutoShutDown Disabled.\\n----------------Pritel OPTICAL FIBER AMPLIFIER Status Summary Ends---------------\\n'"
      ]
     },
     "execution_count": 14,
     "metadata": {},
     "output_type": "execute_result"
    }
   ],
   "source": [
    "ptamp.printStatus()"
   ]
  },
  {
   "cell_type": "code",
   "execution_count": 51,
   "metadata": {},
   "outputs": [
    {
     "name": "stdout",
     "output_type": "stream",
     "text": [
      "Pritel Amp: Disable Ramping by self.ramp_pre_ma = 0, now 100 mA.\n",
      "Pritel Amp: Setting PreAmp Current to 000 mA, current Output 0.00 W.\n",
      "Pritel Amp: Setting PreAmp Current to 120 mA, current Output 0.00 W.\n",
      "Pritel Amp: Setting PreAmp Current to 240 mA, current Output 0.00 W.\n",
      "Pritel Amp: Setting PreAmp Current to 360 mA, current Output 0.00 W.\n",
      "Pritel Amp: Setting PreAmp Current to 480 mA, current Output 0.00 W.\n",
      "Pritel Amp: Setting PreAmp Current to 600 mA, current Output 0.00 W.\n",
      "Pritel Amp: Disable Ramping by self.ramp_pwr_ma = 0, now 50 mA.\n",
      "Pritel Amp: Setting PowerAmp Current to 0.00 A, current Output 0.00 W.\n",
      "Pritel Amp: Setting PowerAmp Current to 0.10 A, current Output 0.00 W.\n",
      "Pritel Amp: ACTIVATING LASER PUMP (OUTPUT), MAKE SURE SEED INPUT POWER IS APPROPRIATE TO AVOID DAMAGE.\n",
      "Pritel Amp: setted Activation status as ON, finished in 0.492 seconds\n"
     ]
    }
   ],
   "source": [
    "ptamp.preAmp = '600mA'\n",
    "ptamp.pwrAmp = '100mA'\n",
    "\n",
    "ptamp.activation = 1"
   ]
  },
  {
   "cell_type": "code",
   "execution_count": 52,
   "metadata": {},
   "outputs": [
    {
     "name": "stdout",
     "output_type": "stream",
     "text": [
      "Pritel Amp: Disable Ramping by self.ramp_pwr_ma = 0, now 50 mA.\n",
      "Pritel Amp: Setting PowerAmp Current to 0.00 A, current Output 0.00 W.\n",
      "Pritel Amp: Setting PowerAmp Current to 0.05 A, current Output 0.00 W.\n",
      "Pritel Amp: Setting PowerAmp Current to 0.10 A, current Output 0.00 W.\n",
      "Pritel Amp: Setting PowerAmp Current to 0.15 A, current Output 0.00 W.\n",
      "Pritel Amp: Setting PowerAmp Current to 0.20 A, current Output 0.00 W.\n",
      "Pritel Amp: Setting PowerAmp Current to 0.25 A, current Output 0.00 W.\n",
      "Pritel Amp: Setting PowerAmp Current to 0.30 A, current Output 0.00 W.\n",
      "Pritel Amp: Setting PowerAmp Current to 0.36 A, current Output 0.00 W.\n",
      "Pritel Amp: Setting PowerAmp Current to 0.41 A, current Output 0.00 W.\n",
      "Pritel Amp: Setting PowerAmp Current to 0.46 A, current Output 0.00 W.\n",
      "Pritel Amp: Setting PowerAmp Current to 0.51 A, current Output 0.00 W.\n",
      "Pritel Amp: Setting PowerAmp Current to 0.56 A, current Output 0.00 W.\n",
      "Pritel Amp: Setting PowerAmp Current to 0.61 A, current Output 0.05 W.\n",
      "Pritel Amp: Setting PowerAmp Current to 0.66 A, current Output 0.10 W.\n",
      "Pritel Amp: Setting PowerAmp Current to 0.71 A, current Output 0.15 W.\n",
      "Pritel Amp: Setting PowerAmp Current to 0.76 A, current Output 0.20 W.\n",
      "Pritel Amp: Setting PowerAmp Current to 0.81 A, current Output 0.25 W.\n",
      "Pritel Amp: Setting PowerAmp Current to 0.86 A, current Output 0.31 W.\n",
      "Pritel Amp: Setting PowerAmp Current to 0.91 A, current Output 0.36 W.\n",
      "Pritel Amp: Setting PowerAmp Current to 0.96 A, current Output 0.40 W.\n",
      "Pritel Amp: Setting PowerAmp Current to 1.02 A, current Output 0.46 W.\n",
      "Pritel Amp: Setting PowerAmp Current to 1.07 A, current Output 0.53 W.\n",
      "Pritel Amp: Setting PowerAmp Current to 1.12 A, current Output 0.59 W.\n",
      "Pritel Amp: Setting PowerAmp Current to 1.17 A, current Output 0.65 W.\n",
      "Pritel Amp: Setting PowerAmp Current to 1.22 A, current Output 0.70 W.\n",
      "Pritel Amp: Setting PowerAmp Current to 1.27 A, current Output 0.76 W.\n",
      "Pritel Amp: Setting PowerAmp Current to 1.32 A, current Output 0.80 W.\n",
      "Pritel Amp: Setting PowerAmp Current to 1.37 A, current Output 0.86 W.\n",
      "Pritel Amp: Setting PowerAmp Current to 1.42 A, current Output 0.92 W.\n",
      "Pritel Amp: Setting PowerAmp Current to 1.47 A, current Output 0.99 W.\n",
      "Pritel Amp: Setting PowerAmp Current to 1.52 A, current Output 1.04 W.\n",
      "Pritel Amp: Setting PowerAmp Current to 1.57 A, current Output 1.10 W.\n",
      "Pritel Amp: Setting PowerAmp Current to 1.62 A, current Output 1.16 W.\n",
      "Pritel Amp: Setting PowerAmp Current to 1.68 A, current Output 1.22 W.\n",
      "Pritel Amp: Setting PowerAmp Current to 1.73 A, current Output 1.27 W.\n",
      "Pritel Amp: Setting PowerAmp Current to 1.78 A, current Output 1.34 W.\n",
      "Pritel Amp: Setting PowerAmp Current to 1.83 A, current Output 1.39 W.\n",
      "Pritel Amp: Setting PowerAmp Current to 1.88 A, current Output 1.45 W.\n",
      "Pritel Amp: Setting PowerAmp Current to 1.93 A, current Output 1.51 W.\n",
      "Pritel Amp: Setting PowerAmp Current to 1.98 A, current Output 1.57 W.\n",
      "Pritel Amp: Setting PowerAmp Current to 2.03 A, current Output 1.62 W.\n",
      "Pritel Amp: Setting PowerAmp Current to 2.08 A, current Output 1.68 W.\n",
      "Pritel Amp: Setting PowerAmp Current to 2.13 A, current Output 1.74 W.\n",
      "Pritel Amp: Setting PowerAmp Current to 2.18 A, current Output 1.79 W.\n",
      "Pritel Amp: Setting PowerAmp Current to 2.23 A, current Output 1.86 W.\n",
      "Pritel Amp: Setting PowerAmp Current to 2.28 A, current Output 1.92 W.\n",
      "Pritel Amp: Setting PowerAmp Current to 2.34 A, current Output 1.98 W.\n",
      "Pritel Amp: Setting PowerAmp Current to 2.39 A, current Output 2.05 W.\n",
      "Pritel Amp: Setting PowerAmp Current to 2.44 A, current Output 2.11 W.\n",
      "Pritel Amp: Setting PowerAmp Current to 2.49 A, current Output 2.17 W.\n",
      "Pritel Amp: Setting PowerAmp Current to 2.54 A, current Output 2.23 W.\n",
      "Pritel Amp: Setting PowerAmp Current to 2.59 A, current Output 2.27 W.\n",
      "Pritel Amp: Setting PowerAmp Current to 2.64 A, current Output 2.34 W.\n",
      "Pritel Amp: Setting PowerAmp Current to 2.69 A, current Output 2.41 W.\n",
      "Pritel Amp: Setting PowerAmp Current to 2.74 A, current Output 2.48 W.\n",
      "Pritel Amp: Setting PowerAmp Current to 2.79 A, current Output 2.54 W.\n",
      "Pritel Amp: Setting PowerAmp Current to 2.84 A, current Output 2.59 W.\n",
      "Pritel Amp: Setting PowerAmp Current to 2.89 A, current Output 2.65 W.\n",
      "Pritel Amp: Setting PowerAmp Current to 2.94 A, current Output 2.71 W.\n",
      "Pritel Amp: Setting PowerAmp Current to 3.00 A, current Output 2.76 W.\n",
      "Pritel Amp: Setting PowerAmp Current to 3.05 A, current Output 2.83 W.\n",
      "Pritel Amp: Setting PowerAmp Current to 3.10 A, current Output 2.89 W.\n",
      "Pritel Amp: Setting PowerAmp Current to 3.15 A, current Output 2.95 W.\n",
      "Pritel Amp: Setting PowerAmp Current to 3.20 A, current Output 3.01 W.\n",
      "Pritel Amp: Setting PowerAmp Current to 3.25 A, current Output 3.07 W.\n",
      "Pritel Amp: Setting PowerAmp Current to 3.30 A, current Output 3.13 W.\n"
     ]
    }
   ],
   "source": [
    "ptamp.pwrAmp = '3300mA'\n"
   ]
  },
  {
   "cell_type": "code",
   "execution_count": 53,
   "metadata": {},
   "outputs": [
    {
     "name": "stdout",
     "output_type": "stream",
     "text": [
      "Pritel Amp: Disable Ramping by self.ramp_pwr_ma = 0, now 50 mA.\n",
      "Pritel Amp: Setting PowerAmp Current to 3.20 A, current Output 2.90 W.\n",
      "Pritel Amp: Setting PowerAmp Current to 3.15 A, current Output 2.87 W.\n",
      "Pritel Amp: Setting PowerAmp Current to 3.10 A, current Output 2.82 W.\n",
      "Pritel Amp: Setting PowerAmp Current to 3.05 A, current Output 2.76 W.\n",
      "Pritel Amp: Setting PowerAmp Current to 3.00 A, current Output 2.70 W.\n",
      "Pritel Amp: Setting PowerAmp Current to 2.95 A, current Output 2.65 W.\n",
      "Pritel Amp: Setting PowerAmp Current to 2.90 A, current Output 2.59 W.\n",
      "Pritel Amp: Setting PowerAmp Current to 2.84 A, current Output 2.55 W.\n",
      "Pritel Amp: Setting PowerAmp Current to 2.79 A, current Output 2.48 W.\n",
      "Pritel Amp: Setting PowerAmp Current to 2.74 A, current Output 2.43 W.\n",
      "Pritel Amp: Setting PowerAmp Current to 2.69 A, current Output 2.38 W.\n",
      "Pritel Amp: Setting PowerAmp Current to 2.64 A, current Output 2.31 W.\n",
      "Pritel Amp: Setting PowerAmp Current to 2.59 A, current Output 2.26 W.\n",
      "Pritel Amp: Setting PowerAmp Current to 2.54 A, current Output 2.20 W.\n",
      "Pritel Amp: Setting PowerAmp Current to 2.49 A, current Output 2.15 W.\n",
      "Pritel Amp: Setting PowerAmp Current to 2.44 A, current Output 2.09 W.\n",
      "Pritel Amp: Setting PowerAmp Current to 2.39 A, current Output 2.04 W.\n",
      "Pritel Amp: Setting PowerAmp Current to 2.34 A, current Output 1.99 W.\n",
      "Pritel Amp: Setting PowerAmp Current to 2.29 A, current Output 1.93 W.\n",
      "Pritel Amp: Setting PowerAmp Current to 2.23 A, current Output 1.87 W.\n",
      "Pritel Amp: Setting PowerAmp Current to 2.18 A, current Output 1.81 W.\n",
      "Pritel Amp: Setting PowerAmp Current to 2.13 A, current Output 1.76 W.\n",
      "Pritel Amp: Setting PowerAmp Current to 2.08 A, current Output 1.70 W.\n",
      "Pritel Amp: Setting PowerAmp Current to 2.03 A, current Output 1.65 W.\n",
      "Pritel Amp: Setting PowerAmp Current to 1.98 A, current Output 1.59 W.\n",
      "Pritel Amp: Setting PowerAmp Current to 1.93 A, current Output 1.53 W.\n",
      "Pritel Amp: Setting PowerAmp Current to 1.88 A, current Output 1.49 W.\n",
      "Pritel Amp: Setting PowerAmp Current to 1.83 A, current Output 1.43 W.\n",
      "Pritel Amp: Setting PowerAmp Current to 1.78 A, current Output 1.38 W.\n",
      "Pritel Amp: Setting PowerAmp Current to 1.73 A, current Output 1.32 W.\n",
      "Pritel Amp: Setting PowerAmp Current to 1.68 A, current Output 1.26 W.\n",
      "Pritel Amp: Setting PowerAmp Current to 1.63 A, current Output 1.21 W.\n",
      "Pritel Amp: Setting PowerAmp Current to 1.57 A, current Output 1.16 W.\n",
      "Pritel Amp: Setting PowerAmp Current to 1.52 A, current Output 1.09 W.\n",
      "Pritel Amp: Setting PowerAmp Current to 1.47 A, current Output 1.03 W.\n",
      "Pritel Amp: Setting PowerAmp Current to 1.42 A, current Output 0.98 W.\n",
      "Pritel Amp: Setting PowerAmp Current to 1.37 A, current Output 0.92 W.\n",
      "Pritel Amp: Setting PowerAmp Current to 1.32 A, current Output 0.85 W.\n",
      "Pritel Amp: Setting PowerAmp Current to 1.27 A, current Output 0.80 W.\n",
      "Pritel Amp: Setting PowerAmp Current to 1.22 A, current Output 0.75 W.\n",
      "Pritel Amp: Setting PowerAmp Current to 1.17 A, current Output 0.71 W.\n",
      "Pritel Amp: Setting PowerAmp Current to 1.12 A, current Output 0.65 W.\n",
      "Pritel Amp: Setting PowerAmp Current to 1.07 A, current Output 0.59 W.\n",
      "Pritel Amp: Setting PowerAmp Current to 1.02 A, current Output 0.53 W.\n",
      "Pritel Amp: Setting PowerAmp Current to 0.97 A, current Output 0.48 W.\n",
      "Pritel Amp: Setting PowerAmp Current to 0.91 A, current Output 0.41 W.\n",
      "Pritel Amp: Setting PowerAmp Current to 0.86 A, current Output 0.36 W.\n",
      "Pritel Amp: Setting PowerAmp Current to 0.81 A, current Output 0.30 W.\n",
      "Pritel Amp: Setting PowerAmp Current to 0.76 A, current Output 0.26 W.\n",
      "Pritel Amp: Setting PowerAmp Current to 0.71 A, current Output 0.21 W.\n",
      "Pritel Amp: Setting PowerAmp Current to 0.66 A, current Output 0.16 W.\n",
      "Pritel Amp: Setting PowerAmp Current to 0.61 A, current Output 0.10 W.\n",
      "Pritel Amp: Setting PowerAmp Current to 0.56 A, current Output 0.05 W.\n",
      "Pritel Amp: Setting PowerAmp Current to 0.51 A, current Output 0.01 W.\n",
      "Pritel Amp: Setting PowerAmp Current to 0.46 A, current Output 0.00 W.\n",
      "Pritel Amp: Setting PowerAmp Current to 0.41 A, current Output 0.00 W.\n",
      "Pritel Amp: Setting PowerAmp Current to 0.36 A, current Output 0.00 W.\n",
      "Pritel Amp: Setting PowerAmp Current to 0.30 A, current Output 0.00 W.\n",
      "Pritel Amp: Setting PowerAmp Current to 0.25 A, current Output 0.00 W.\n",
      "Pritel Amp: Setting PowerAmp Current to 0.20 A, current Output 0.00 W.\n",
      "Pritel Amp: Setting PowerAmp Current to 0.15 A, current Output 0.00 W.\n",
      "Pritel Amp: Setting PowerAmp Current to 0.10 A, current Output 0.00 W.\n",
      "Pritel Amp: Setting PowerAmp Current to 0.05 A, current Output 0.00 W.\n",
      "Pritel Amp: Setting PowerAmp Current to 0.00 A, current Output 0.00 W.\n",
      "Pritel Amp: Disable Ramping by self.ramp_pre_ma = 0, now 100 mA.\n",
      "Pritel Amp: Setting PreAmp Current to 600 mA, current Output 0.00 W.\n",
      "Pritel Amp: Setting PreAmp Current to 480 mA, current Output 0.00 W.\n",
      "Pritel Amp: Setting PreAmp Current to 360 mA, current Output 0.00 W.\n",
      "Pritel Amp: Setting PreAmp Current to 240 mA, current Output 0.00 W.\n",
      "Pritel Amp: Setting PreAmp Current to 120 mA, current Output 0.00 W.\n",
      "Pritel Amp: Setting PreAmp Current to 000 mA, current Output 0.00 W.\n",
      "Pritel Amp: setted Activation status as OFF, finished in 0.494 seconds\n"
     ]
    }
   ],
   "source": [
    "ptamp.pwrAmp = 0\n",
    "ptamp.preAmp = 0\n",
    "ptamp.activation = 0"
   ]
  },
  {
   "cell_type": "code",
   "execution_count": 56,
   "metadata": {},
   "outputs": [
    {
     "name": "stdout",
     "output_type": "stream",
     "text": [
      "Amonics EDFA 13 dBm: ACTIVATING LASER OUTPUT, MAKE SURE SEED INPUT POWER IS APPROPRIATE TO AVOID DAMAGE\n",
      "Amonics EDFA 13 dBm: ......waiting Activation status set to ON, now OFF\n",
      "Amonics EDFA 13 dBm: setted Activation status as ON, finished in 0.080 seconds\n"
     ]
    }
   ],
   "source": [
    "amonic13.activation = 1"
   ]
  },
  {
   "cell_type": "code",
   "execution_count": 48,
   "metadata": {},
   "outputs": [
    {
     "name": "stdout",
     "output_type": "stream",
     "text": [
      "------------------------------------Pritel Amp-----------------------------------\n",
      "|-----------------Pritel OPTICAL FIBER AMPLIFIER Status Summary------------------\n",
      "|\t Pump status: \u001b[1;34;42mON\u001b[0m\n",
      "|\t InputPower = 135 mW, \tPreAmp = 600 mA\n",
      "|\t OutputPower = 3.09 W, \tPwrAmp = 3.19 A\n",
      "|\t AutoShutDown Disabled.\n",
      "----------------Pritel OPTICAL FIBER AMPLIFIER Status Summary Ends---------------\n",
      "\n"
     ]
    },
    {
     "data": {
      "text/plain": [
       "'------------------------------------Pritel Amp-----------------------------------\\n|-----------------Pritel OPTICAL FIBER AMPLIFIER Status Summary------------------\\n|\\t Pump status: \\x1b[1;34;42mON\\x1b[0m\\n|\\t InputPower = 135 mW, \\tPreAmp = 600 mA\\n|\\t OutputPower = 3.09 W, \\tPwrAmp = 3.19 A\\n|\\t AutoShutDown Disabled.\\n----------------Pritel OPTICAL FIBER AMPLIFIER Status Summary Ends---------------\\n'"
      ]
     },
     "execution_count": 48,
     "metadata": {},
     "output_type": "execute_result"
    }
   ],
   "source": [
    "ptamp.printStatus()"
   ]
  },
  {
   "cell_type": "code",
   "execution_count": 47,
   "metadata": {},
   "outputs": [
    {
     "name": "stdout",
     "output_type": "stream",
     "text": [
      "Pritel Amp: Disable Ramping by self.ramp_pwr_ma = 0, now 50 mA.\n",
      "Pritel Amp: Setting PowerAmp Current to 3.50 A, current Output 3.30 W.\n",
      "Pritel Amp: Setting PowerAmp Current to 3.45 A, current Output 3.27 W.\n",
      "Pritel Amp: Setting PowerAmp Current to 3.40 A, current Output 3.21 W.\n",
      "Pritel Amp: Setting PowerAmp Current to 3.35 A, current Output 3.15 W.\n",
      "Pritel Amp: Setting PowerAmp Current to 3.30 A, current Output 3.09 W.\n",
      "Pritel Amp: Setting PowerAmp Current to 3.25 A, current Output 3.05 W.\n",
      "Pritel Amp: Setting PowerAmp Current to 3.20 A, current Output 3.00 W.\n",
      "Pritel Amp: Setting PowerAmp Current to 3.14 A, current Output 2.94 W.\n",
      "Pritel Amp: Setting PowerAmp Current to 3.09 A, current Output 2.88 W.\n",
      "Pritel Amp: Setting PowerAmp Current to 3.04 A, current Output 2.83 W.\n",
      "Pritel Amp: Setting PowerAmp Current to 2.99 A, current Output 2.77 W.\n",
      "Pritel Amp: Setting PowerAmp Current to 2.94 A, current Output 2.70 W.\n",
      "Pritel Amp: Setting PowerAmp Current to 2.89 A, current Output 2.65 W.\n",
      "Pritel Amp: Setting PowerAmp Current to 2.84 A, current Output 2.60 W.\n",
      "Pritel Amp: Setting PowerAmp Current to 2.79 A, current Output 2.54 W.\n",
      "Pritel Amp: Setting PowerAmp Current to 2.74 A, current Output 2.48 W.\n",
      "Pritel Amp: Setting PowerAmp Current to 2.69 A, current Output 2.43 W.\n",
      "Pritel Amp: Setting PowerAmp Current to 2.64 A, current Output 2.38 W.\n",
      "Pritel Amp: Setting PowerAmp Current to 2.59 A, current Output 2.31 W.\n",
      "Pritel Amp: Setting PowerAmp Current to 2.54 A, current Output 2.26 W.\n",
      "Pritel Amp: Setting PowerAmp Current to 2.49 A, current Output 2.20 W.\n",
      "Pritel Amp: Setting PowerAmp Current to 2.43 A, current Output 2.15 W.\n",
      "Pritel Amp: Setting PowerAmp Current to 2.38 A, current Output 2.08 W.\n",
      "Pritel Amp: Setting PowerAmp Current to 2.33 A, current Output 2.02 W.\n",
      "Pritel Amp: Setting PowerAmp Current to 2.28 A, current Output 1.97 W.\n",
      "Pritel Amp: Setting PowerAmp Current to 2.23 A, current Output 1.90 W.\n",
      "Pritel Amp: Setting PowerAmp Current to 2.18 A, current Output 1.85 W.\n",
      "Pritel Amp: Setting PowerAmp Current to 2.13 A, current Output 1.79 W.\n",
      "Pritel Amp: Setting PowerAmp Current to 2.08 A, current Output 1.73 W.\n",
      "Pritel Amp: Setting PowerAmp Current to 2.03 A, current Output 1.69 W.\n",
      "Pritel Amp: Setting PowerAmp Current to 1.98 A, current Output 1.62 W.\n",
      "Pritel Amp: Setting PowerAmp Current to 1.93 A, current Output 1.57 W.\n",
      "Pritel Amp: Setting PowerAmp Current to 1.88 A, current Output 1.51 W.\n",
      "Pritel Amp: Setting PowerAmp Current to 1.83 A, current Output 1.46 W.\n",
      "Pritel Amp: Setting PowerAmp Current to 1.78 A, current Output 1.40 W.\n",
      "Pritel Amp: Setting PowerAmp Current to 1.72 A, current Output 1.35 W.\n",
      "Pritel Amp: Setting PowerAmp Current to 1.67 A, current Output 1.27 W.\n",
      "Pritel Amp: Setting PowerAmp Current to 1.62 A, current Output 1.22 W.\n",
      "Pritel Amp: Setting PowerAmp Current to 1.57 A, current Output 1.17 W.\n",
      "Pritel Amp: Setting PowerAmp Current to 1.52 A, current Output 1.11 W.\n",
      "Pritel Amp: Setting PowerAmp Current to 1.47 A, current Output 1.06 W.\n",
      "Pritel Amp: Setting PowerAmp Current to 1.42 A, current Output 1.00 W.\n",
      "Pritel Amp: Setting PowerAmp Current to 1.37 A, current Output 0.94 W.\n",
      "Pritel Amp: Setting PowerAmp Current to 1.32 A, current Output 0.88 W.\n",
      "Pritel Amp: Setting PowerAmp Current to 1.27 A, current Output 0.82 W.\n",
      "Pritel Amp: Setting PowerAmp Current to 1.22 A, current Output 0.77 W.\n",
      "Pritel Amp: Setting PowerAmp Current to 1.17 A, current Output 0.72 W.\n",
      "Pritel Amp: Setting PowerAmp Current to 1.12 A, current Output 0.66 W.\n",
      "Pritel Amp: Setting PowerAmp Current to 1.07 A, current Output 0.61 W.\n",
      "Pritel Amp: Setting PowerAmp Current to 1.01 A, current Output 0.55 W.\n",
      "Pritel Amp: Setting PowerAmp Current to 0.96 A, current Output 0.48 W.\n",
      "Pritel Amp: Setting PowerAmp Current to 0.91 A, current Output 0.42 W.\n",
      "Pritel Amp: Setting PowerAmp Current to 0.86 A, current Output 0.37 W.\n",
      "Pritel Amp: Setting PowerAmp Current to 0.81 A, current Output 0.32 W.\n",
      "Pritel Amp: Setting PowerAmp Current to 0.76 A, current Output 0.28 W.\n",
      "Pritel Amp: Setting PowerAmp Current to 0.71 A, current Output 0.22 W.\n",
      "Pritel Amp: Setting PowerAmp Current to 0.66 A, current Output 0.17 W.\n",
      "Pritel Amp: Setting PowerAmp Current to 0.61 A, current Output 0.11 W.\n",
      "Pritel Amp: Setting PowerAmp Current to 0.56 A, current Output 0.07 W.\n",
      "Pritel Amp: Setting PowerAmp Current to 0.51 A, current Output 0.02 W.\n",
      "Pritel Amp: Setting PowerAmp Current to 0.46 A, current Output 0.00 W.\n",
      "Pritel Amp: Setting PowerAmp Current to 0.41 A, current Output 0.00 W.\n",
      "Pritel Amp: Setting PowerAmp Current to 0.36 A, current Output 0.00 W.\n",
      "Pritel Amp: Setting PowerAmp Current to 0.30 A, current Output 0.00 W.\n",
      "Pritel Amp: Setting PowerAmp Current to 0.25 A, current Output 0.00 W.\n",
      "Pritel Amp: Setting PowerAmp Current to 0.20 A, current Output 0.00 W.\n",
      "Pritel Amp: Setting PowerAmp Current to 0.15 A, current Output 0.00 W.\n",
      "Pritel Amp: Setting PowerAmp Current to 0.10 A, current Output 0.00 W.\n",
      "Pritel Amp: Setting PowerAmp Current to 0.05 A, current Output 0.00 W.\n",
      "Pritel Amp: Setting PowerAmp Current to 0.00 A, current Output 0.00 W.\n"
     ]
    }
   ],
   "source": [
    "ptamp.pwrAmp = '0A'\n"
   ]
  },
  {
   "cell_type": "code",
   "execution_count": 48,
   "metadata": {},
   "outputs": [
    {
     "name": "stdout",
     "output_type": "stream",
     "text": [
      "Pritel Amp: Disable Ramping by self.ramp_pre_ma = 0, now 100 mA.\n",
      "Pritel Amp: Setting PreAmp Current to 600 mA, current Output 0.00 W.\n",
      "Pritel Amp: Setting PreAmp Current to 480 mA, current Output 0.00 W.\n",
      "Pritel Amp: Setting PreAmp Current to 360 mA, current Output 0.00 W.\n",
      "Pritel Amp: Setting PreAmp Current to 240 mA, current Output 0.00 W.\n",
      "Pritel Amp: Setting PreAmp Current to 120 mA, current Output 0.00 W.\n",
      "Pritel Amp: Setting PreAmp Current to 000 mA, current Output 0.00 W.\n"
     ]
    }
   ],
   "source": [
    "ptamp.preAmp = 0"
   ]
  },
  {
   "cell_type": "code",
   "execution_count": 49,
   "metadata": {},
   "outputs": [
    {
     "name": "stdout",
     "output_type": "stream",
     "text": [
      "Pritel Amp: setted Activation status as OFF, finished in 0.519 seconds\n"
     ]
    }
   ],
   "source": [
    "ptamp.activation = 0"
   ]
  },
  {
   "cell_type": "code",
   "execution_count": 52,
   "metadata": {},
   "outputs": [
    {
     "data": {
      "text/plain": [
       "23.01"
      ]
     },
     "execution_count": 52,
     "metadata": {},
     "output_type": "execute_result"
    }
   ],
   "source": [
    "tec_wg.get_temp()\n"
   ]
  },
  {
   "cell_type": "code",
   "execution_count": 53,
   "metadata": {},
   "outputs": [
    {
     "name": "stdout",
     "output_type": "stream",
     "text": [
      "------------------------------------Pritel Amp-----------------------------------\n",
      "|-----------------Pritel OPTICAL FIBER AMPLIFIER Status Summary------------------\n",
      "|\t Pump status: \u001b[1;34;41mOFF\u001b[0m\n",
      "|\t InputPower = 0 mW, \tPreAmp = 0 mA\n",
      "|\t OutputPower = 0.00 W, \tPwrAmp = 0.00 A\n",
      "|\t AutoShutDown Enabled. PowerAmp pump current is disabled.\n",
      "----------------Pritel OPTICAL FIBER AMPLIFIER Status Summary Ends---------------\n",
      "\n"
     ]
    },
    {
     "data": {
      "text/plain": [
       "'------------------------------------Pritel Amp-----------------------------------\\n|-----------------Pritel OPTICAL FIBER AMPLIFIER Status Summary------------------\\n|\\t Pump status: \\x1b[1;34;41mOFF\\x1b[0m\\n|\\t InputPower = 0 mW, \\tPreAmp = 0 mA\\n|\\t OutputPower = 0.00 W, \\tPwrAmp = 0.00 A\\n|\\t AutoShutDown Enabled. PowerAmp pump current is disabled.\\n----------------Pritel OPTICAL FIBER AMPLIFIER Status Summary Ends---------------\\n'"
      ]
     },
     "execution_count": 53,
     "metadata": {},
     "output_type": "execute_result"
    }
   ],
   "source": [
    "ptamp.printStatus()"
   ]
  },
  {
   "cell_type": "code",
   "execution_count": 62,
   "metadata": {},
   "outputs": [
    {
     "name": "stdout",
     "output_type": "stream",
     "text": [
      "-------------------------------Amonics EDFA 13 dBm-------------------------------\n",
      "|--------------------------Amonics EDFA Status Summary---------------------------\n",
      "|------------------Model: AEDFA-PM-13-R-FA, Serial No.22020701-------------------\n",
      "|\tInterLock Status: \u001b[1;34;42mUNLOCKED\u001b[0m\n",
      "|\tCase Temperature: 33.31°C\n",
      "|\tMaster Activation: \u001b[1;34;41mOFF\u001b[0m\n",
      "|\t------------Channel Summary-------------\n",
      "|\t CHANNEL1: \n",
      "|\t\t Mode: ACC\n",
      "|\t\t Set Cur: 60.0 mA\n",
      "|\t\t Status: \u001b[1;34;41mOFF\u001b[0m\n",
      "|\t\t Input Power: 1.611732 mW\n",
      "|\t\t Output Power: 0.0 mW\n",
      "|\t\t Internal PD Power: 0.0 mW\n",
      "------------------------Amonics EDFA Status Summary Ends------------------------\n",
      "\n"
     ]
    },
    {
     "data": {
      "text/plain": [
       "'-------------------------------Amonics EDFA 13 dBm-------------------------------\\n|--------------------------Amonics EDFA Status Summary---------------------------\\n|------------------Model: AEDFA-PM-13-R-FA, Serial No.22020701-------------------\\n|\\tInterLock Status: \\x1b[1;34;42mUNLOCKED\\x1b[0m\\n|\\tCase Temperature: 33.31°C\\n|\\tMaster Activation: \\x1b[1;34;41mOFF\\x1b[0m\\n|\\t------------Channel Summary-------------\\n|\\t CHANNEL1: \\n|\\t\\t Mode: ACC\\n|\\t\\t Set Cur: 60.0 mA\\n|\\t\\t Status: \\x1b[1;34;41mOFF\\x1b[0m\\n|\\t\\t Input Power: 1.611732 mW\\n|\\t\\t Output Power: 0.0 mW\\n|\\t\\t Internal PD Power: 0.0 mW\\n------------------------Amonics EDFA Status Summary Ends------------------------\\n'"
      ]
     },
     "execution_count": 62,
     "metadata": {},
     "output_type": "execute_result"
    }
   ],
   "source": [
    "amonic13.printStatus()"
   ]
  },
  {
   "cell_type": "code",
   "execution_count": 61,
   "metadata": {},
   "outputs": [
    {
     "name": "stdout",
     "output_type": "stream",
     "text": [
      "Amonics EDFA 13 dBm: setted Activation status as OFF, finished in 0.026 seconds\n",
      "Amonics EDFA 13 dBm: ......waiting ACC CH1 status set to OFF, now ON\n",
      "Amonics EDFA 13 dBm: setted ACC CH1 status as OFF, finished in 0.079 seconds\n"
     ]
    }
   ],
   "source": [
    "amonic13.activation = 0\n",
    "amonic13.accCh1Status = 0"
   ]
  },
  {
   "cell_type": "code",
   "execution_count": 63,
   "metadata": {},
   "outputs": [
    {
     "name": "stdout",
     "output_type": "stream",
     "text": [
      "------------------------------RF amplifier PS 30V 4A-----------------------------\n",
      "|-------------------Instek GPP DC Power Supply Status Summary--------------------\n",
      "|--------------------Model: GPP-1326, Serial No.SN:GET921679---------------------\n",
      "|\t------------Channel Summary-------------\n",
      "|\t CHANNEL1: Activation \u001b[1;34;42mON\u001b[0m.\n",
      "|\t\t VSET=30.000V, ISET=6.000A.\n",
      "|\t\t VOUT=29.997V, IOUT=4.101A.\n",
      "|\t\t Output power: 123.033W.\n",
      "|\t\t ---Over Voltage/Current Protection Status:---\n",
      "|\t\t OVP Status: OFF\t OCP Status: OFF \n",
      "|\t\t OVP Level : 35.0 V\t OCP Level : 7.0 A\n",
      "-----------------Instek GPP DC Power Supply Status Summary Ends-----------------\n",
      "\n"
     ]
    },
    {
     "data": {
      "text/plain": [
       "'------------------------------RF amplifier PS 30V 4A-----------------------------\\n|-------------------Instek GPP DC Power Supply Status Summary--------------------\\n|--------------------Model: GPP-1326, Serial No.SN:GET921679---------------------\\n|\\t------------Channel Summary-------------\\n|\\t CHANNEL1: Activation \\x1b[1;34;42mON\\x1b[0m.\\n|\\t\\t VSET=30.000V, ISET=6.000A.\\n|\\t\\t VOUT=29.997V, IOUT=4.101A.\\n|\\t\\t Output power: 123.033W.\\n|\\t\\t ---Over Voltage/Current Protection Status:---\\n|\\t\\t OVP Status: OFF\\t OCP Status: OFF \\n|\\t\\t OVP Level : 35.0 V\\t OCP Level : 7.0 A\\n-----------------Instek GPP DC Power Supply Status Summary Ends-----------------\\n'"
      ]
     },
     "execution_count": 63,
     "metadata": {},
     "output_type": "execute_result"
    }
   ],
   "source": [
    "rfampPS.printStatus()"
   ]
  },
  {
   "cell_type": "code",
   "execution_count": 64,
   "metadata": {},
   "outputs": [
    {
     "name": "stdout",
     "output_type": "stream",
     "text": [
      "-------------------------RF oscilator PS, CH2 15V, CH3 1V------------------------\n",
      "|----------------Instek DC Power Supply GPD-4303S Status Summary-----------------\n",
      "|--------------------Model: GPD-4303S, Serial No.SN:EV884423---------------------\n",
      "|\tMaster Activation: \u001b[1;34;42mON\u001b[0m\n",
      "|\t------------Channel Summary-------------\n",
      "|\t CH1: master, CH2: slave, mode UNRECOGNIZED?.\n",
      "|\t CHANNEL1: CC Mode.\n",
      "|\t\t VSET=0.000V, ISET=0.000A.\n",
      "|\t\t VOUT=0.000V, IOUT=0.001A.\n",
      "|\t\t Output power: 0.000W.\n",
      "|\t CHANNEL2: CV Mode.\n",
      "|\t\t VSET=15.000V, ISET=3.000A.\n",
      "|\t\t VOUT=14.993V, IOUT=0.426A.\n",
      "|\t\t Output power: 6.387W.\n",
      "|\t CHANNEL3: CV Mode.\n",
      "|\t\t VSET=0.950V, ISET=1.000A.\n",
      "|\t\t VOUT=0.950V, IOUT=0.002A.\n",
      "|\t\t Output power: 0.002W.\n",
      "|\t CHANNEL4: CV Mode.\n",
      "|\t\t VSET=0.000V, ISET=0.000A.\n",
      "|\t\t VOUT=0.000V, IOUT=0.001A.\n",
      "|\t\t Output power: 0.000W.\n",
      "--------------Instek DC Power Supply GPD-4303S Status Summary Ends--------------\n",
      "\n"
     ]
    },
    {
     "data": {
      "text/plain": [
       "'-------------------------RF oscilator PS, CH2 15V, CH3 1V------------------------\\n|----------------Instek DC Power Supply GPD-4303S Status Summary-----------------\\n|--------------------Model: GPD-4303S, Serial No.SN:EV884423---------------------\\n|\\tMaster Activation: \\x1b[1;34;42mON\\x1b[0m\\n|\\t------------Channel Summary-------------\\n|\\t CH1: master, CH2: slave, mode UNRECOGNIZED?.\\n|\\t CHANNEL1: CC Mode.\\n|\\t\\t VSET=0.000V, ISET=0.000A.\\n|\\t\\t VOUT=0.000V, IOUT=0.001A.\\n|\\t\\t Output power: 0.000W.\\n|\\t CHANNEL2: CV Mode.\\n|\\t\\t VSET=15.000V, ISET=3.000A.\\n|\\t\\t VOUT=14.993V, IOUT=0.426A.\\n|\\t\\t Output power: 6.387W.\\n|\\t CHANNEL3: CV Mode.\\n|\\t\\t VSET=0.950V, ISET=1.000A.\\n|\\t\\t VOUT=0.950V, IOUT=0.002A.\\n|\\t\\t Output power: 0.002W.\\n|\\t CHANNEL4: CV Mode.\\n|\\t\\t VSET=0.000V, ISET=0.000A.\\n|\\t\\t VOUT=0.000V, IOUT=0.001A.\\n|\\t\\t Output power: 0.000W.\\n--------------Instek DC Power Supply GPD-4303S Status Summary Ends--------------\\n'"
      ]
     },
     "execution_count": 64,
     "metadata": {},
     "output_type": "execute_result"
    }
   ],
   "source": [
    "rfoscPS.printStatus()"
   ]
  },
  {
   "cell_type": "code",
   "execution_count": 65,
   "metadata": {},
   "outputs": [
    {
     "ename": "NameError",
     "evalue": "name 'amonic27' is not defined",
     "output_type": "error",
     "traceback": [
      "\u001b[1;31m---------------------------------------------------------------------------\u001b[0m",
      "\u001b[1;31mNameError\u001b[0m                                 Traceback (most recent call last)",
      "\u001b[1;32mc:\\Users\\HSFLFC\\Desktop\\Keck\\Keck Comb\\Jun_Commission.ipynb Cell 53\u001b[0m in \u001b[0;36m<cell line: 1>\u001b[1;34m()\u001b[0m\n\u001b[1;32m----> <a href='vscode-notebook-cell:/c%3A/Users/HSFLFC/Desktop/Keck/Keck%20Comb/Jun_Commission.ipynb#Y132sZmlsZQ%3D%3D?line=0'>1</a>\u001b[0m amonic27\u001b[39m.\u001b[39mprintStatus()\n",
      "\u001b[1;31mNameError\u001b[0m: name 'amonic27' is not defined"
     ]
    }
   ],
   "source": [
    "amonic27.printStatus()"
   ]
  },
  {
   "cell_type": "code",
   "execution_count": 71,
   "metadata": {},
   "outputs": [
    {
     "name": "stdout",
     "output_type": "stream",
     "text": [
      "Amonics EDFA 27 dBm: ......waiting Activation status set to OFF, now ON\n",
      "Amonics EDFA 27 dBm: setted Activation status as OFF, finished in 0.075 seconds\n",
      "Amonics EDFA 27 dBm: ......waiting APC CH1 status set to OFF, now ON\n",
      "Amonics EDFA 27 dBm: setted APC CH1 status as OFF, finished in 0.080 seconds\n"
     ]
    }
   ],
   "source": [
    "amonic27.activation = 0\n",
    "amonic27.accCh1Status = 0"
   ]
  },
  {
   "cell_type": "code",
   "execution_count": 74,
   "metadata": {},
   "outputs": [
    {
     "name": "stdout",
     "output_type": "stream",
     "text": [
      "-------------------------------Amonics EDFA 27 dBm-------------------------------\n",
      "|--------------------------Amonics EDFA Status Summary---------------------------\n",
      "|------------------Model: AEDFA-PM-27-R-FA, Serial No.21082531-------------------\n",
      "|\tInterLock Status: \u001b[1;34;42mUNLOCKED\u001b[0m\n",
      "|\tCase Temperature: 32.44°C\n",
      "|\tMaster Activation: \u001b[1;34;41mOFF\u001b[0m\n",
      "|\t------------Channel Summary-------------\n",
      "|\t CHANNEL1: \n",
      "|\t\t Mode: APC\n",
      "|\t\t Set Pwr: 450.0 mW\n",
      "|\t\t Status: \u001b[1;34;41mOFF\u001b[0m\n",
      "|\t\t Input Power: 15.26489 mW\n",
      "|\t\t Output Power: 0.0 mW\n",
      "|\t\t Internal PD Power: 0.0 mW\n",
      "------------------------Amonics EDFA Status Summary Ends------------------------\n",
      "\n"
     ]
    },
    {
     "data": {
      "text/plain": [
       "'-------------------------------Amonics EDFA 27 dBm-------------------------------\\n|--------------------------Amonics EDFA Status Summary---------------------------\\n|------------------Model: AEDFA-PM-27-R-FA, Serial No.21082531-------------------\\n|\\tInterLock Status: \\x1b[1;34;42mUNLOCKED\\x1b[0m\\n|\\tCase Temperature: 32.44°C\\n|\\tMaster Activation: \\x1b[1;34;41mOFF\\x1b[0m\\n|\\t------------Channel Summary-------------\\n|\\t CHANNEL1: \\n|\\t\\t Mode: APC\\n|\\t\\t Set Pwr: 450.0 mW\\n|\\t\\t Status: \\x1b[1;34;41mOFF\\x1b[0m\\n|\\t\\t Input Power: 15.26489 mW\\n|\\t\\t Output Power: 0.0 mW\\n|\\t\\t Internal PD Power: 0.0 mW\\n------------------------Amonics EDFA Status Summary Ends------------------------\\n'"
      ]
     },
     "execution_count": 74,
     "metadata": {},
     "output_type": "execute_result"
    }
   ],
   "source": [
    "amonic27.printStatus()"
   ]
  },
  {
   "cell_type": "code",
   "execution_count": 76,
   "metadata": {},
   "outputs": [
    {
     "name": "stdout",
     "output_type": "stream",
     "text": [
      "RF amplifier PS 30V 4A: channel 1 output is turned OFF\n",
      "------------------------------RF amplifier PS 30V 4A-----------------------------\n",
      "|-------------------Instek GPP DC Power Supply Status Summary--------------------\n",
      "|--------------------Model: GPP-1326, Serial No.SN:GET921679---------------------\n",
      "|\t------------Channel Summary-------------\n",
      "|\t CHANNEL1: Activation \u001b[1;34;41mOFF\u001b[0m.\n",
      "|\t\t VSET=30.000V, ISET=6.000A.\n",
      "|\t\t VOUT=0.000V, IOUT=0.000A.\n",
      "|\t\t Output power: 0.000W.\n",
      "|\t\t ---Over Voltage/Current Protection Status:---\n",
      "|\t\t OVP Status: OFF\t OCP Status: OFF \n",
      "|\t\t OVP Level : 35.0 V\t OCP Level : 7.0 A\n",
      "-----------------Instek GPP DC Power Supply Status Summary Ends-----------------\n",
      "\n"
     ]
    },
    {
     "data": {
      "text/plain": [
       "'------------------------------RF amplifier PS 30V 4A-----------------------------\\n|-------------------Instek GPP DC Power Supply Status Summary--------------------\\n|--------------------Model: GPP-1326, Serial No.SN:GET921679---------------------\\n|\\t------------Channel Summary-------------\\n|\\t CHANNEL1: Activation \\x1b[1;34;41mOFF\\x1b[0m.\\n|\\t\\t VSET=30.000V, ISET=6.000A.\\n|\\t\\t VOUT=0.000V, IOUT=0.000A.\\n|\\t\\t Output power: 0.000W.\\n|\\t\\t ---Over Voltage/Current Protection Status:---\\n|\\t\\t OVP Status: OFF\\t OCP Status: OFF \\n|\\t\\t OVP Level : 35.0 V\\t OCP Level : 7.0 A\\n-----------------Instek GPP DC Power Supply Status Summary Ends-----------------\\n'"
      ]
     },
     "execution_count": 76,
     "metadata": {},
     "output_type": "execute_result"
    }
   ],
   "source": [
    "rfampPS.activation1 = 0\n",
    "\n",
    "rfampPS.printStatus()"
   ]
  },
  {
   "cell_type": "code",
   "execution_count": 78,
   "metadata": {},
   "outputs": [
    {
     "name": "stdout",
     "output_type": "stream",
     "text": [
      "Instek GPD-4303S DCSupply: Output activation is turned OFF.\n",
      "-------------------------RF oscilator PS, CH2 15V, CH3 1V------------------------\n",
      "|----------------Instek DC Power Supply GPD-4303S Status Summary-----------------\n",
      "|--------------------Model: GPD-4303S, Serial No.SN:EV884423---------------------\n",
      "|\tMaster Activation: \u001b[1;34;41mOFF\u001b[0m\n",
      "|\t------------Channel Summary-------------\n",
      "|\t CH1: master, CH2: slave, mode UNRECOGNIZED?.\n",
      "|\t CHANNEL1: CC Mode.\n",
      "|\t\t VSET=0.000V, ISET=0.000A.\n",
      "|\t\t VOUT=0.000V, IOUT=0.000A.\n",
      "|\t\t Output power: 0.000W.\n",
      "|\t CHANNEL2: CC Mode.\n",
      "|\t\t VSET=15.000V, ISET=3.000A.\n",
      "|\t\t VOUT=0.000V, IOUT=0.000A.\n",
      "|\t\t Output power: 0.000W.\n",
      "|\t CHANNEL3: CC Mode.\n",
      "|\t\t VSET=0.950V, ISET=1.000A.\n",
      "|\t\t VOUT=0.000V, IOUT=0.000A.\n",
      "|\t\t Output power: 0.000W.\n",
      "|\t CHANNEL4: CV Mode.\n",
      "|\t\t VSET=0.000V, ISET=0.000A.\n",
      "|\t\t VOUT=0.000V, IOUT=0.000A.\n",
      "|\t\t Output power: 0.000W.\n",
      "--------------Instek DC Power Supply GPD-4303S Status Summary Ends--------------\n",
      "\n"
     ]
    },
    {
     "data": {
      "text/plain": [
       "'-------------------------RF oscilator PS, CH2 15V, CH3 1V------------------------\\n|----------------Instek DC Power Supply GPD-4303S Status Summary-----------------\\n|--------------------Model: GPD-4303S, Serial No.SN:EV884423---------------------\\n|\\tMaster Activation: \\x1b[1;34;41mOFF\\x1b[0m\\n|\\t------------Channel Summary-------------\\n|\\t CH1: master, CH2: slave, mode UNRECOGNIZED?.\\n|\\t CHANNEL1: CC Mode.\\n|\\t\\t VSET=0.000V, ISET=0.000A.\\n|\\t\\t VOUT=0.000V, IOUT=0.000A.\\n|\\t\\t Output power: 0.000W.\\n|\\t CHANNEL2: CC Mode.\\n|\\t\\t VSET=15.000V, ISET=3.000A.\\n|\\t\\t VOUT=0.000V, IOUT=0.000A.\\n|\\t\\t Output power: 0.000W.\\n|\\t CHANNEL3: CC Mode.\\n|\\t\\t VSET=0.950V, ISET=1.000A.\\n|\\t\\t VOUT=0.000V, IOUT=0.000A.\\n|\\t\\t Output power: 0.000W.\\n|\\t CHANNEL4: CV Mode.\\n|\\t\\t VSET=0.000V, ISET=0.000A.\\n|\\t\\t VOUT=0.000V, IOUT=0.000A.\\n|\\t\\t Output power: 0.000W.\\n--------------Instek DC Power Supply GPD-4303S Status Summary Ends--------------\\n'"
      ]
     },
     "execution_count": 78,
     "metadata": {},
     "output_type": "execute_result"
    }
   ],
   "source": [
    "rfoscPS.activation = 0\n",
    "rfoscPS.printStatus()"
   ]
  },
  {
   "cell_type": "code",
   "execution_count": 73,
   "metadata": {},
   "outputs": [
    {
     "data": {
      "image/png": "[encoded data removed]",
      "text/plain": [
       "<Figure size 432x288 with 1 Axes>"
      ]
     },
     "metadata": {},
     "output_type": "display_data"
    }
   ],
   "source": [
    "# osa.startosa('a')\n",
    "osa.stoposa()"
   ]
  },
  {
   "cell_type": "code",
   "execution_count": 132,
   "metadata": {},
   "outputs": [
    {
     "name": "stdout",
     "output_type": "stream",
     "text": [
      "RF amplifier PS 30V 4A: channel 1 output is turned ON\n"
     ]
    }
   ],
   "source": [
    "rfampPS.activation1 = 1"
   ]
  },
  {
   "cell_type": "code",
   "execution_count": 79,
   "metadata": {},
   "outputs": [
    {
     "name": "stdout",
     "output_type": "stream",
     "text": [
      "Instek GPD-4303S DCSupply: Output activation is turned ON.\n"
     ]
    }
   ],
   "source": [
    "rfoscPS.activation = 1"
   ]
  },
  {
   "cell_type": "code",
   "execution_count": 133,
   "metadata": {},
   "outputs": [
    {
     "name": "stdout",
     "output_type": "stream",
     "text": [
      "------------------------------RF amplifier PS 30V 4A-----------------------------\n",
      "|-------------------Instek GPP DC Power Supply Status Summary--------------------\n",
      "|--------------------Model: GPP-1326, Serial No.SN:GET921679---------------------\n",
      "|\t------------Channel Summary-------------\n",
      "|\t CHANNEL1: Activation \u001b[1;34;42mON\u001b[0m.\n",
      "|\t\t VSET=30.000V, ISET=6.000A.\n",
      "|\t\t VOUT=29.996V, IOUT=4.084A.\n",
      "|\t\t Output power: 122.501W.\n",
      "|\t\t ---Over Voltage/Current Protection Status:---\n",
      "|\t\t OVP Status: OFF\t OCP Status: OFF \n",
      "|\t\t OVP Level : 35.0 V\t OCP Level : 7.0 A\n",
      "-----------------Instek GPP DC Power Supply Status Summary Ends-----------------\n",
      "\n"
     ]
    },
    {
     "data": {
      "text/plain": [
       "'------------------------------RF amplifier PS 30V 4A-----------------------------\\n|-------------------Instek GPP DC Power Supply Status Summary--------------------\\n|--------------------Model: GPP-1326, Serial No.SN:GET921679---------------------\\n|\\t------------Channel Summary-------------\\n|\\t CHANNEL1: Activation \\x1b[1;34;42mON\\x1b[0m.\\n|\\t\\t VSET=30.000V, ISET=6.000A.\\n|\\t\\t VOUT=29.996V, IOUT=4.084A.\\n|\\t\\t Output power: 122.501W.\\n|\\t\\t ---Over Voltage/Current Protection Status:---\\n|\\t\\t OVP Status: OFF\\t OCP Status: OFF \\n|\\t\\t OVP Level : 35.0 V\\t OCP Level : 7.0 A\\n-----------------Instek GPP DC Power Supply Status Summary Ends-----------------\\n'"
      ]
     },
     "execution_count": 133,
     "metadata": {},
     "output_type": "execute_result"
    }
   ],
   "source": [
    "rfampPS.printStatus()"
   ]
  },
  {
   "cell_type": "code",
   "execution_count": 68,
   "metadata": {},
   "outputs": [
    {
     "name": "stdout",
     "output_type": "stream",
     "text": [
      "Agilent 86142B: Spectrum collection STOPped.\n"
     ]
    }
   ],
   "source": [
    "osa.Stop()"
   ]
  },
  {
   "cell_type": "code",
   "execution_count": 1,
   "metadata": {},
   "outputs": [
    {
     "name": "stdout",
     "output_type": "stream",
     "text": [
      "Eaton PDU epduDC connected\n",
      "Eaton PDU epduDC: Login failed. You have 4 attempts left.\n",
      "\n",
      "\u0007Ready\n",
      "+============================================================================+\n",
      "|                      EATON ePDU Configuration Utility                      |\n",
      "+============================================================================+\n",
      "Enter Log\n",
      " kecklfc\n",
      "\u0007Enter Pass\n",
      " *********\n",
      "\u0007pdu#0\n",
      "Eaton PDU epduDC: Login succeed.\n"
     ]
    },
    {
     "data": {
      "text/plain": [
       "(1, 1)"
      ]
     },
     "execution_count": 1,
     "metadata": {},
     "output_type": "execute_result"
    }
   ],
   "source": [
    "from LFC.Hardware.EatonPDU import EatonPDU\n",
    "pdu = EatonPDU(addr='ASRL43::INSTR')\n",
    "pdu.connect()"
   ]
  },
  {
   "cell_type": "code",
   "execution_count": 19,
   "metadata": {},
   "outputs": [
    {
     "name": "stdout",
     "output_type": "stream",
     "text": [
      "Eaton PDU epduDC connected\n",
      "Eaton PDU epduDC: Login failed. You have 4 attempts left.\n",
      "\n",
      "\u0007Ready\n",
      "+============================================================================+\n",
      "|                      EATON ePDU Configuration Utility                      |\n",
      "+============================================================================+\n",
      "Enter Log\n",
      " kecklfc\n",
      "\u0007Enter Pass\n",
      " *********\n",
      "\u0007pdu#0\n",
      "Eaton PDU epduDC: Login succeed.\n"
     ]
    },
    {
     "data": {
      "text/plain": [
       "(1, 1)"
      ]
     },
     "execution_count": 19,
     "metadata": {},
     "output_type": "execute_result"
    }
   ],
   "source": [
    "from LFC.Hardware.EatonPDU import EatonPDU\n",
    "pdu_B = EatonPDU(addr='ASRL23::INSTR')\n",
    "pdu_B.connect()"
   ]
  },
  {
   "cell_type": "code",
   "execution_count": 20,
   "metadata": {},
   "outputs": [
    {
     "data": {
      "text/plain": [
       "'192.168.0.160'"
      ]
     },
     "execution_count": 20,
     "metadata": {},
     "output_type": "execute_result"
    }
   ],
   "source": [
    "pdu_B.get_ipv4_address()"
   ]
  },
  {
   "cell_type": "code",
   "execution_count": 7,
   "metadata": {},
   "outputs": [
    {
     "name": "stdout",
     "output_type": "stream",
     "text": [
      "Eaton PDU epduDC:Passcode matched preset value. Turn on is continued.\n"
     ]
    },
    {
     "data": {
      "text/plain": [
       "'0'"
      ]
     },
     "execution_count": 7,
     "metadata": {},
     "output_type": "execute_result"
    }
   ],
   "source": [
    "pdu.set_outlet_on(8)"
   ]
  },
  {
   "cell_type": "code",
   "execution_count": 18,
   "metadata": {},
   "outputs": [
    {
     "name": "stderr",
     "output_type": "stream",
     "text": [
      "c:\\Users\\HSFLFC\\Desktop\\Keck\\Keck Comb\\LFC\\Hardware\\EatonPDU.py:98: UserWarning: Eaton PDU epduDC: Not logged in. Try to re-login.\n",
      "  warnings.warn(self.devicename+\": Not logged in. Try to re-login.\")\n"
     ]
    },
    {
     "name": "stdout",
     "output_type": "stream",
     "text": [
      "Eaton PDU epduDC: Login failed. You have 4 attempts left.\n",
      "\n",
      "\u0007Ready\n",
      "+============================================================================+\n",
      "|                      EATON ePDU Configuration Utility                      |\n",
      "+============================================================================+\n",
      "Enter Log\n",
      " kecklfc\n",
      "\u0007Enter Pass\n",
      " *********\n",
      "\u0007pdu#0\n",
      "Eaton PDU epduDC: Login succeed.\n",
      "Eaton PDU epduDC: Last login expired, re-Login succeed.\n",
      "|\t\t\t FriendlyName: Outlet A8\n",
      "|\t\t\t PresentStatus: 1\n",
      "|\t\t\t Switchable: True\n",
      "|\t\t\t Current: 0.0 A\n",
      "|\t\t\t ActivePower: 0.0 W\n",
      "|\t\t\t ApparentPower: 0.0 VA\n",
      "|\t\t\t PowerFactor: 1.0\n",
      "\n"
     ]
    },
    {
     "data": {
      "text/plain": [
       "{'PresentStatus': 1,\n",
       " 'Switchable': True,\n",
       " 'FriendlyName': 'Outlet A8',\n",
       " 'Current_A': 0.0,\n",
       " 'ActivePower_W': 0.0,\n",
       " 'ApparentPower_VA': 0.0,\n",
       " 'PowerFactor': 1.0}"
      ]
     },
     "execution_count": 18,
     "metadata": {},
     "output_type": "execute_result"
    }
   ],
   "source": [
    "pdu.get_outlet_status(8)"
   ]
  },
  {
   "cell_type": "code",
   "execution_count": 30,
   "metadata": {},
   "outputs": [
    {
     "data": {
      "text/plain": [
       "'get PDU.Input[1].Phase[1].ActivePower\\n\\r\\x07547.3\\r\\n'"
      ]
     },
     "execution_count": 30,
     "metadata": {},
     "output_type": "execute_result"
    }
   ],
   "source": [
    "pdu.inst.clear()\n",
    "pdu.write('get PDU.Input[1].Phase[1].ActivePower')\n",
    "tt = pdu.inst.read(termination='pdu#0>')\n",
    "tt"
   ]
  },
  {
   "cell_type": "code",
   "execution_count": null,
   "metadata": {},
   "outputs": [],
   "source": [
    "# Overnght thermal test\n",
    "import time\n",
    "\n",
    "from LFC.Hardware.USB2408 import USB2408\n",
    "#initialize device and get temperature\n",
    "daq = USB2408(addr=0)\n",
    "daq.connect()\n",
    "daq2 = USB2408(addr=1)\n",
    "daq2.connect()\n",
    "\n",
    "\n",
    "filename = r\"C:\\Users\\HSFLFC\\Desktop\\Keck\\Logs\\DAQ_Temperature\\DAQ_Temperature_2023_0628_overnight.csv\"\n",
    "\n",
    "\n",
    "with  open(filename,\"w\") as f:\n",
    "    #TODO: write table head\n",
    "    f.write(time.strftime('%Z')+\",\")\n",
    "    for ii in daq.thermocouple_positions:\n",
    "        f.write(ii+\",\")\n",
    "    for ii in daq2.thermocouple_positions:\n",
    "        f.write(ii+\",\")\n",
    "    f.write(\"\\n\")\n",
    "while True:\n",
    "    try:\n",
    "        with open(filename,\"a\") as f:\n",
    "            f.write(time.ctime()+\",\")\n",
    "\n",
    "            print(\"DAQ1 Temp\".center(80,'-'))\n",
    "            Temp = daq.get_temp_all()\n",
    "            \n",
    "            for jj in Temp:\n",
    "                f.write(f\"{jj:.5f},\")\n",
    "\n",
    "            print(\"DAQ2 Temp\".center(80,'-'))\n",
    "            Temp = daq2.get_temp_all()\n",
    "            for jj in Temp:\n",
    "                f.write(f\"{jj:.5f},\")\n",
    "\n",
    "            f.write(\"\\n\")\n",
    "    except Exception as e:\n",
    "        print(e)\n",
    "    time.sleep(2)\n"
   ]
  },
  {
   "cell_type": "code",
   "execution_count": 5,
   "metadata": {},
   "outputs": [
    {
     "name": "stderr",
     "output_type": "stream",
     "text": [
      "\u001b[32m2023-07-21 10:37:57.304\u001b[0m | \u001b[1mINFO    \u001b[0m | \u001b[36mStanford Research System SIM900\u001b[0m | \u001b[36mDevice.py\u001b[0m:\u001b[36mconnect\u001b[0m:\u001b[36m71\u001b[0m\n",
      "\u001b[1mStanford Research System SIM900 connected\u001b[0m\n"
     ]
    },
    {
     "name": "stderr",
     "output_type": "stream",
     "text": [
      "\u001b[32m2023-07-21 10:38:02.504\u001b[0m | \u001b[1mINFO    \u001b[0m | \u001b[36mSRS PID controller SIM960\u001b[0m | \u001b[36mSRS_SIM900.py\u001b[0m:\u001b[36mprintStatus\u001b[0m:\u001b[36m201\u001b[0m\n",
      "\u001b[1m----------------------------SRS PID controller SIM960----------------------------\n",
      "|--------------------SRS PID controller SIM960 Status Summary--------------------\n",
      "|----------------------------SIM960,s/n033669,ver2.17----------------------------\n",
      "|\tOutput mode:\t\u001b[1;34;41mMAN\u001b[0m,\tOutput limit: -4.000V TO 4.000V\n",
      "|\tMeasured input:\t 0.291595V\n",
      "|\tAmplified error:\t 0.046097V\n",
      "|\tInstant Output voltage:\t -2.000554V\n",
      "|\tManual output set:\t -2.0V\n",
      "|\t================ Set Point related================\n",
      "|\t\tInternal setpoint = 0.31 V, Ramping \u001b[1;34;41mOFF\u001b[0m\n",
      "|\t\tSetpoint input mode INT, Ext setpoint input 0.309958V\n",
      "|\t\tSetpoint RAMP speed = 0.01 V/s, action \u001b[1;34;41mOFF\u001b[0m\n",
      "|\t============= P,I,D and Offset Status=============\n",
      "|\t\t P = 2.5    , \taction = \u001b[1;34;42mON\u001b[0m\n",
      "|\t\t I = 1.0 1/s, \taction = \u001b[1;34;42mON\u001b[0m\n",
      "|\t\t D = 1e-05   s, \taction = \u001b[1;34;41mOFF\u001b[0m\n",
      "|\t\tOff = -1.35  V, \taction = \u001b[1;34;42mON\u001b[0m\n",
      "-----------------SRS PID controller SIM960 Status Summary Ends------------------\n",
      "\u001b[0m\n"
     ]
    },
    {
     "data": {
      "text/plain": [
       "'----------------------------SRS PID controller SIM960----------------------------\\n|--------------------SRS PID controller SIM960 Status Summary--------------------\\n|----------------------------SIM960,s/n033669,ver2.17----------------------------\\n|\\tOutput mode:\\t\\x1b[1;34;41mMAN\\x1b[0m,\\tOutput limit: -4.000V TO 4.000V\\n|\\tMeasured input:\\t 0.291595V\\n|\\tAmplified error:\\t 0.046097V\\n|\\tInstant Output voltage:\\t -2.000554V\\n|\\tManual output set:\\t -2.0V\\n|\\t================ Set Point related================\\n|\\t\\tInternal setpoint = 0.31 V, Ramping \\x1b[1;34;41mOFF\\x1b[0m\\n|\\t\\tSetpoint input mode INT, Ext setpoint input 0.309958V\\n|\\t\\tSetpoint RAMP speed = 0.01 V/s, action \\x1b[1;34;41mOFF\\x1b[0m\\n|\\t============= P,I,D and Offset Status=============\\n|\\t\\t P = 2.5    , \\taction = \\x1b[1;34;42mON\\x1b[0m\\n|\\t\\t I = 1.0 1/s, \\taction = \\x1b[1;34;42mON\\x1b[0m\\n|\\t\\t D = 1e-05   s, \\taction = \\x1b[1;34;41mOFF\\x1b[0m\\n|\\t\\tOff = -1.35  V, \\taction = \\x1b[1;34;42mON\\x1b[0m\\n-----------------SRS PID controller SIM960 Status Summary Ends------------------\\n'"
      ]
     },
     "execution_count": 5,
     "metadata": {},
     "output_type": "execute_result"
    }
   ],
   "source": [
    "from LFC.Hardware.SRS_SIM900 import SRS_SIM900, SRS_PIDcontrol_SIM960\n",
    "srs = SRS_SIM900(addr=\"GPIB0::2::INSTR\")\n",
    "srs.connect()\n",
    "servo1 = SRS_PIDcontrol_SIM960(srs, 3)\n",
    "servo1.set_manual_output_max(4)\n",
    "servo1.set_manual_output_min(-4)\n",
    "servo1.printStatus()"
   ]
  },
  {
   "cell_type": "code",
   "execution_count": 26,
   "metadata": {},
   "outputs": [
    {
     "name": "stdout",
     "output_type": "stream",
     "text": [
      "SRS PID controller SIM960: Setting Output Lower limit in Volt to -4.0.\n",
      "SRS PID controller SIM960: Setting Output Upper limit in Volt to 4.0.\n"
     ]
    }
   ],
   "source": [
    "servo1.set_output_lowerlim(-4)\n",
    "servo1.set_output_upperlim(4)"
   ]
  },
  {
   "cell_type": "code",
   "execution_count": 7,
   "metadata": {},
   "outputs": [
    {
     "name": "stderr",
     "output_type": "stream",
     "text": [
      "\u001b[32m2023-07-21 10:56:20.607\u001b[0m | \u001b[1mINFO    \u001b[0m | \u001b[36mSRS PID controller SIM960\u001b[0m | \u001b[36mSRS_SIM900.py\u001b[0m:\u001b[36mset_manual_output\u001b[0m:\u001b[36m666\u001b[0m\n",
      "\u001b[1mSRS PID controller SIM960: ....Manual output voltage Ramping.... Disable ranp by set self.manual_output_ramp=0. \u001b[0m\n",
      "\u001b[32m2023-07-21 10:56:20.821\u001b[0m | \u001b[1mINFO    \u001b[0m | \u001b[36mSRS PID controller SIM960\u001b[0m | \u001b[36mSRS_SIM900.py\u001b[0m:\u001b[36mset_manual_output\u001b[0m:\u001b[36m671\u001b[0m\n",
      "\u001b[1mSRS PID controller SIM960: Output in Manual Mode in Volt set to -0.850.\u001b[0m\n",
      "\u001b[32m2023-07-21 10:56:21.040\u001b[0m | \u001b[1mINFO    \u001b[0m | \u001b[36mSRS PID controller SIM960\u001b[0m | \u001b[36mSRS_SIM900.py\u001b[0m:\u001b[36mset_manual_output\u001b[0m:\u001b[36m671\u001b[0m\n",
      "\u001b[1mSRS PID controller SIM960: Output in Manual Mode in Volt set to -0.952.\u001b[0m\n",
      "\u001b[32m2023-07-21 10:56:21.257\u001b[0m | \u001b[1mINFO    \u001b[0m | \u001b[36mSRS PID controller SIM960\u001b[0m | \u001b[36mSRS_SIM900.py\u001b[0m:\u001b[36mset_manual_output\u001b[0m:\u001b[36m671\u001b[0m\n",
      "\u001b[1mSRS PID controller SIM960: Output in Manual Mode in Volt set to -1.055.\u001b[0m\n",
      "\u001b[32m2023-07-21 10:56:21.477\u001b[0m | \u001b[1mINFO    \u001b[0m | \u001b[36mSRS PID controller SIM960\u001b[0m | \u001b[36mSRS_SIM900.py\u001b[0m:\u001b[36mset_manual_output\u001b[0m:\u001b[36m671\u001b[0m\n",
      "\u001b[1mSRS PID controller SIM960: Output in Manual Mode in Volt set to -1.157.\u001b[0m\n",
      "\u001b[32m2023-07-21 10:56:21.695\u001b[0m | \u001b[1mINFO    \u001b[0m | \u001b[36mSRS PID controller SIM960\u001b[0m | \u001b[36mSRS_SIM900.py\u001b[0m:\u001b[36mset_manual_output\u001b[0m:\u001b[36m671\u001b[0m\n",
      "\u001b[1mSRS PID controller SIM960: Output in Manual Mode in Volt set to -1.260.\u001b[0m\n",
      "\u001b[32m2023-07-21 10:56:21.914\u001b[0m | \u001b[1mINFO    \u001b[0m | \u001b[36mSRS PID controller SIM960\u001b[0m | \u001b[36mSRS_SIM900.py\u001b[0m:\u001b[36mset_manual_output\u001b[0m:\u001b[36m671\u001b[0m\n",
      "\u001b[1mSRS PID controller SIM960: Output in Manual Mode in Volt set to -1.362.\u001b[0m\n",
      "\u001b[32m2023-07-21 10:56:22.131\u001b[0m | \u001b[1mINFO    \u001b[0m | \u001b[36mSRS PID controller SIM960\u001b[0m | \u001b[36mSRS_SIM900.py\u001b[0m:\u001b[36mset_manual_output\u001b[0m:\u001b[36m671\u001b[0m\n",
      "\u001b[1mSRS PID controller SIM960: Output in Manual Mode in Volt set to -1.464.\u001b[0m\n",
      "\u001b[32m2023-07-21 10:56:22.350\u001b[0m | \u001b[1mINFO    \u001b[0m | \u001b[36mSRS PID controller SIM960\u001b[0m | \u001b[36mSRS_SIM900.py\u001b[0m:\u001b[36mset_manual_output\u001b[0m:\u001b[36m671\u001b[0m\n",
      "\u001b[1mSRS PID controller SIM960: Output in Manual Mode in Volt set to -1.567.\u001b[0m\n",
      "\u001b[32m2023-07-21 10:56:22.567\u001b[0m | \u001b[1mINFO    \u001b[0m | \u001b[36mSRS PID controller SIM960\u001b[0m | \u001b[36mSRS_SIM900.py\u001b[0m:\u001b[36mset_manual_output\u001b[0m:\u001b[36m671\u001b[0m\n",
      "\u001b[1mSRS PID controller SIM960: Output in Manual Mode in Volt set to -1.669.\u001b[0m\n",
      "\u001b[32m2023-07-21 10:56:22.789\u001b[0m | \u001b[1mINFO    \u001b[0m | \u001b[36mSRS PID controller SIM960\u001b[0m | \u001b[36mSRS_SIM900.py\u001b[0m:\u001b[36mset_manual_output\u001b[0m:\u001b[36m671\u001b[0m\n",
      "\u001b[1mSRS PID controller SIM960: Output in Manual Mode in Volt set to -1.771.\u001b[0m\n",
      "\u001b[32m2023-07-21 10:56:23.006\u001b[0m | \u001b[1mINFO    \u001b[0m | \u001b[36mSRS PID controller SIM960\u001b[0m | \u001b[36mSRS_SIM900.py\u001b[0m:\u001b[36mset_manual_output\u001b[0m:\u001b[36m671\u001b[0m\n",
      "\u001b[1mSRS PID controller SIM960: Output in Manual Mode in Volt set to -1.874.\u001b[0m\n",
      "\u001b[32m2023-07-21 10:56:23.222\u001b[0m | \u001b[1mINFO    \u001b[0m | \u001b[36mSRS PID controller SIM960\u001b[0m | \u001b[36mSRS_SIM900.py\u001b[0m:\u001b[36mset_manual_output\u001b[0m:\u001b[36m671\u001b[0m\n",
      "\u001b[1mSRS PID controller SIM960: Output in Manual Mode in Volt set to -1.976.\u001b[0m\n",
      "\u001b[32m2023-07-21 10:56:23.438\u001b[0m | \u001b[1mINFO    \u001b[0m | \u001b[36mSRS PID controller SIM960\u001b[0m | \u001b[36mSRS_SIM900.py\u001b[0m:\u001b[36mset_manual_output\u001b[0m:\u001b[36m671\u001b[0m\n",
      "\u001b[1mSRS PID controller SIM960: Output in Manual Mode in Volt set to -2.079.\u001b[0m\n",
      "\u001b[32m2023-07-21 10:56:23.660\u001b[0m | \u001b[1mINFO    \u001b[0m | \u001b[36mSRS PID controller SIM960\u001b[0m | \u001b[36mSRS_SIM900.py\u001b[0m:\u001b[36mset_manual_output\u001b[0m:\u001b[36m671\u001b[0m\n",
      "\u001b[1mSRS PID controller SIM960: Output in Manual Mode in Volt set to -2.181.\u001b[0m\n",
      "\u001b[32m2023-07-21 10:56:23.880\u001b[0m | \u001b[1mINFO    \u001b[0m | \u001b[36mSRS PID controller SIM960\u001b[0m | \u001b[36mSRS_SIM900.py\u001b[0m:\u001b[36mset_manual_output\u001b[0m:\u001b[36m671\u001b[0m\n",
      "\u001b[1mSRS PID controller SIM960: Output in Manual Mode in Volt set to -2.283.\u001b[0m\n",
      "\u001b[32m2023-07-21 10:56:24.100\u001b[0m | \u001b[1mINFO    \u001b[0m | \u001b[36mSRS PID controller SIM960\u001b[0m | \u001b[36mSRS_SIM900.py\u001b[0m:\u001b[36mset_manual_output\u001b[0m:\u001b[36m671\u001b[0m\n",
      "\u001b[1mSRS PID controller SIM960: Output in Manual Mode in Volt set to -2.386.\u001b[0m\n",
      "\u001b[32m2023-07-21 10:56:24.315\u001b[0m | \u001b[1mINFO    \u001b[0m | \u001b[36mSRS PID controller SIM960\u001b[0m | \u001b[36mSRS_SIM900.py\u001b[0m:\u001b[36mset_manual_output\u001b[0m:\u001b[36m671\u001b[0m\n",
      "\u001b[1mSRS PID controller SIM960: Output in Manual Mode in Volt set to -2.488.\u001b[0m\n",
      "\u001b[32m2023-07-21 10:56:24.536\u001b[0m | \u001b[1mINFO    \u001b[0m | \u001b[36mSRS PID controller SIM960\u001b[0m | \u001b[36mSRS_SIM900.py\u001b[0m:\u001b[36mset_manual_output\u001b[0m:\u001b[36m671\u001b[0m\n",
      "\u001b[1mSRS PID controller SIM960: Output in Manual Mode in Volt set to -2.590.\u001b[0m\n",
      "\u001b[32m2023-07-21 10:56:24.756\u001b[0m | \u001b[1mINFO    \u001b[0m | \u001b[36mSRS PID controller SIM960\u001b[0m | \u001b[36mSRS_SIM900.py\u001b[0m:\u001b[36mset_manual_output\u001b[0m:\u001b[36m671\u001b[0m\n",
      "\u001b[1mSRS PID controller SIM960: Output in Manual Mode in Volt set to -2.693.\u001b[0m\n",
      "\u001b[32m2023-07-21 10:56:24.976\u001b[0m | \u001b[1mINFO    \u001b[0m | \u001b[36mSRS PID controller SIM960\u001b[0m | \u001b[36mSRS_SIM900.py\u001b[0m:\u001b[36mset_manual_output\u001b[0m:\u001b[36m671\u001b[0m\n",
      "\u001b[1mSRS PID controller SIM960: Output in Manual Mode in Volt set to -2.795.\u001b[0m\n",
      "\u001b[32m2023-07-21 10:56:25.194\u001b[0m | \u001b[1mINFO    \u001b[0m | \u001b[36mSRS PID controller SIM960\u001b[0m | \u001b[36mSRS_SIM900.py\u001b[0m:\u001b[36mset_manual_output\u001b[0m:\u001b[36m671\u001b[0m\n",
      "\u001b[1mSRS PID controller SIM960: Output in Manual Mode in Volt set to -2.898.\u001b[0m\n",
      "\u001b[32m2023-07-21 10:56:25.411\u001b[0m | \u001b[1mINFO    \u001b[0m | \u001b[36mSRS PID controller SIM960\u001b[0m | \u001b[36mSRS_SIM900.py\u001b[0m:\u001b[36mset_manual_output\u001b[0m:\u001b[36m671\u001b[0m\n",
      "\u001b[1mSRS PID controller SIM960: Output in Manual Mode in Volt set to -3.000.\u001b[0m\n",
      "\u001b[32m2023-07-21 10:56:25.411\u001b[0m | \u001b[1mINFO    \u001b[0m | \u001b[36mSRS PID controller SIM960\u001b[0m | \u001b[36mSRS_SIM900.py\u001b[0m:\u001b[36mset_manual_output\u001b[0m:\u001b[36m681\u001b[0m\n",
      "\u001b[1mSRS PID controller SIM960: ....Manual output voltage Ramp Finished. Disable ramp by set self.manual_output_ramp=0. \u001b[0m\n",
      "\u001b[32m2023-07-21 10:56:25.629\u001b[0m | \u001b[1mINFO    \u001b[0m | \u001b[36mSRS PID controller SIM960\u001b[0m | \u001b[36mSRS_SIM900.py\u001b[0m:\u001b[36mset_output_mode\u001b[0m:\u001b[36m537\u001b[0m\n",
      "\u001b[1mSRS PID controller SIM960: PID output is turned OFF, output mode is turnd to Manual.\u001b[0m\n",
      "100%|██████████| 200/200 [00:28<00:00,  6.93it/s]\n"
     ]
    },
    {
     "data": {
      "image/png": "[encoded data removed]",
      "text/plain": [
       "<Figure size 432x288 with 1 Axes>"
      ]
     },
     "metadata": {
      "needs_background": "light"
     },
     "output_type": "display_data"
    },
    {
     "name": "stderr",
     "output_type": "stream",
     "text": [
      "\u001b[32m2023-07-21 10:56:54.823\u001b[0m | \u001b[1mINFO    \u001b[0m | \u001b[36mSRS PID controller SIM960\u001b[0m | \u001b[36mSRS_SIM900.py\u001b[0m:\u001b[36mset_manual_output\u001b[0m:\u001b[36m666\u001b[0m\n",
      "\u001b[1mSRS PID controller SIM960: ....Manual output voltage Ramping.... Disable ranp by set self.manual_output_ramp=0. \u001b[0m\n",
      "\u001b[32m2023-07-21 10:56:55.039\u001b[0m | \u001b[1mINFO    \u001b[0m | \u001b[36mSRS PID controller SIM960\u001b[0m | \u001b[36mSRS_SIM900.py\u001b[0m:\u001b[36mset_manual_output\u001b[0m:\u001b[36m671\u001b[0m\n",
      "\u001b[1mSRS PID controller SIM960: Output in Manual Mode in Volt set to 1.000.\u001b[0m\n",
      "\u001b[32m2023-07-21 10:56:55.260\u001b[0m | \u001b[1mINFO    \u001b[0m | \u001b[36mSRS PID controller SIM960\u001b[0m | \u001b[36mSRS_SIM900.py\u001b[0m:\u001b[36mset_manual_output\u001b[0m:\u001b[36m671\u001b[0m\n",
      "\u001b[1mSRS PID controller SIM960: Output in Manual Mode in Volt set to 0.895.\u001b[0m\n",
      "\u001b[32m2023-07-21 10:56:55.481\u001b[0m | \u001b[1mINFO    \u001b[0m | \u001b[36mSRS PID controller SIM960\u001b[0m | \u001b[36mSRS_SIM900.py\u001b[0m:\u001b[36mset_manual_output\u001b[0m:\u001b[36m671\u001b[0m\n",
      "\u001b[1mSRS PID controller SIM960: Output in Manual Mode in Volt set to 0.789.\u001b[0m\n",
      "\u001b[32m2023-07-21 10:56:55.698\u001b[0m | \u001b[1mINFO    \u001b[0m | \u001b[36mSRS PID controller SIM960\u001b[0m | \u001b[36mSRS_SIM900.py\u001b[0m:\u001b[36mset_manual_output\u001b[0m:\u001b[36m671\u001b[0m\n",
      "\u001b[1mSRS PID controller SIM960: Output in Manual Mode in Volt set to 0.684.\u001b[0m\n",
      "\u001b[32m2023-07-21 10:56:55.915\u001b[0m | \u001b[1mINFO    \u001b[0m | \u001b[36mSRS PID controller SIM960\u001b[0m | \u001b[36mSRS_SIM900.py\u001b[0m:\u001b[36mset_manual_output\u001b[0m:\u001b[36m671\u001b[0m\n",
      "\u001b[1mSRS PID controller SIM960: Output in Manual Mode in Volt set to 0.579.\u001b[0m\n",
      "\u001b[32m2023-07-21 10:56:56.135\u001b[0m | \u001b[1mINFO    \u001b[0m | \u001b[36mSRS PID controller SIM960\u001b[0m | \u001b[36mSRS_SIM900.py\u001b[0m:\u001b[36mset_manual_output\u001b[0m:\u001b[36m671\u001b[0m\n",
      "\u001b[1mSRS PID controller SIM960: Output in Manual Mode in Volt set to 0.474.\u001b[0m\n",
      "\u001b[32m2023-07-21 10:56:56.354\u001b[0m | \u001b[1mINFO    \u001b[0m | \u001b[36mSRS PID controller SIM960\u001b[0m | \u001b[36mSRS_SIM900.py\u001b[0m:\u001b[36mset_manual_output\u001b[0m:\u001b[36m671\u001b[0m\n",
      "\u001b[1mSRS PID controller SIM960: Output in Manual Mode in Volt set to 0.368.\u001b[0m\n",
      "\u001b[32m2023-07-21 10:56:56.571\u001b[0m | \u001b[1mINFO    \u001b[0m | \u001b[36mSRS PID controller SIM960\u001b[0m | \u001b[36mSRS_SIM900.py\u001b[0m:\u001b[36mset_manual_output\u001b[0m:\u001b[36m671\u001b[0m\n",
      "\u001b[1mSRS PID controller SIM960: Output in Manual Mode in Volt set to 0.263.\u001b[0m\n",
      "\u001b[32m2023-07-21 10:56:56.790\u001b[0m | \u001b[1mINFO    \u001b[0m | \u001b[36mSRS PID controller SIM960\u001b[0m | \u001b[36mSRS_SIM900.py\u001b[0m:\u001b[36mset_manual_output\u001b[0m:\u001b[36m671\u001b[0m\n",
      "\u001b[1mSRS PID controller SIM960: Output in Manual Mode in Volt set to 0.158.\u001b[0m\n",
      "\u001b[32m2023-07-21 10:56:57.011\u001b[0m | \u001b[1mINFO    \u001b[0m | \u001b[36mSRS PID controller SIM960\u001b[0m | \u001b[36mSRS_SIM900.py\u001b[0m:\u001b[36mset_manual_output\u001b[0m:\u001b[36m671\u001b[0m\n",
      "\u001b[1mSRS PID controller SIM960: Output in Manual Mode in Volt set to 0.053.\u001b[0m\n",
      "\u001b[32m2023-07-21 10:56:57.232\u001b[0m | \u001b[1mINFO    \u001b[0m | \u001b[36mSRS PID controller SIM960\u001b[0m | \u001b[36mSRS_SIM900.py\u001b[0m:\u001b[36mset_manual_output\u001b[0m:\u001b[36m671\u001b[0m\n",
      "\u001b[1mSRS PID controller SIM960: Output in Manual Mode in Volt set to -0.053.\u001b[0m\n",
      "\u001b[32m2023-07-21 10:56:57.448\u001b[0m | \u001b[1mINFO    \u001b[0m | \u001b[36mSRS PID controller SIM960\u001b[0m | \u001b[36mSRS_SIM900.py\u001b[0m:\u001b[36mset_manual_output\u001b[0m:\u001b[36m671\u001b[0m\n",
      "\u001b[1mSRS PID controller SIM960: Output in Manual Mode in Volt set to -0.158.\u001b[0m\n",
      "\u001b[32m2023-07-21 10:56:57.665\u001b[0m | \u001b[1mINFO    \u001b[0m | \u001b[36mSRS PID controller SIM960\u001b[0m | \u001b[36mSRS_SIM900.py\u001b[0m:\u001b[36mset_manual_output\u001b[0m:\u001b[36m671\u001b[0m\n",
      "\u001b[1mSRS PID controller SIM960: Output in Manual Mode in Volt set to -0.263.\u001b[0m\n",
      "\u001b[32m2023-07-21 10:56:57.882\u001b[0m | \u001b[1mINFO    \u001b[0m | \u001b[36mSRS PID controller SIM960\u001b[0m | \u001b[36mSRS_SIM900.py\u001b[0m:\u001b[36mset_manual_output\u001b[0m:\u001b[36m671\u001b[0m\n",
      "\u001b[1mSRS PID controller SIM960: Output in Manual Mode in Volt set to -0.368.\u001b[0m\n",
      "\u001b[32m2023-07-21 10:56:58.103\u001b[0m | \u001b[1mINFO    \u001b[0m | \u001b[36mSRS PID controller SIM960\u001b[0m | \u001b[36mSRS_SIM900.py\u001b[0m:\u001b[36mset_manual_output\u001b[0m:\u001b[36m671\u001b[0m\n",
      "\u001b[1mSRS PID controller SIM960: Output in Manual Mode in Volt set to -0.474.\u001b[0m\n",
      "\u001b[32m2023-07-21 10:56:58.321\u001b[0m | \u001b[1mINFO    \u001b[0m | \u001b[36mSRS PID controller SIM960\u001b[0m | \u001b[36mSRS_SIM900.py\u001b[0m:\u001b[36mset_manual_output\u001b[0m:\u001b[36m671\u001b[0m\n",
      "\u001b[1mSRS PID controller SIM960: Output in Manual Mode in Volt set to -0.579.\u001b[0m\n",
      "\u001b[32m2023-07-21 10:56:58.541\u001b[0m | \u001b[1mINFO    \u001b[0m | \u001b[36mSRS PID controller SIM960\u001b[0m | \u001b[36mSRS_SIM900.py\u001b[0m:\u001b[36mset_manual_output\u001b[0m:\u001b[36m671\u001b[0m\n",
      "\u001b[1mSRS PID controller SIM960: Output in Manual Mode in Volt set to -0.684.\u001b[0m\n",
      "\u001b[32m2023-07-21 10:56:58.760\u001b[0m | \u001b[1mINFO    \u001b[0m | \u001b[36mSRS PID controller SIM960\u001b[0m | \u001b[36mSRS_SIM900.py\u001b[0m:\u001b[36mset_manual_output\u001b[0m:\u001b[36m671\u001b[0m\n",
      "\u001b[1mSRS PID controller SIM960: Output in Manual Mode in Volt set to -0.789.\u001b[0m\n",
      "\u001b[32m2023-07-21 10:56:58.980\u001b[0m | \u001b[1mINFO    \u001b[0m | \u001b[36mSRS PID controller SIM960\u001b[0m | \u001b[36mSRS_SIM900.py\u001b[0m:\u001b[36mset_manual_output\u001b[0m:\u001b[36m671\u001b[0m\n",
      "\u001b[1mSRS PID controller SIM960: Output in Manual Mode in Volt set to -0.895.\u001b[0m\n",
      "\u001b[32m2023-07-21 10:56:59.199\u001b[0m | \u001b[1mINFO    \u001b[0m | \u001b[36mSRS PID controller SIM960\u001b[0m | \u001b[36mSRS_SIM900.py\u001b[0m:\u001b[36mset_manual_output\u001b[0m:\u001b[36m671\u001b[0m\n",
      "\u001b[1mSRS PID controller SIM960: Output in Manual Mode in Volt set to -1.000.\u001b[0m\n",
      "\u001b[32m2023-07-21 10:56:59.200\u001b[0m | \u001b[1mINFO    \u001b[0m | \u001b[36mSRS PID controller SIM960\u001b[0m | \u001b[36mSRS_SIM900.py\u001b[0m:\u001b[36mset_manual_output\u001b[0m:\u001b[36m681\u001b[0m\n",
      "\u001b[1mSRS PID controller SIM960: ....Manual output voltage Ramp Finished. Disable ramp by set self.manual_output_ramp=0. \u001b[0m\n"
     ]
    }
   ],
   "source": [
    "scan_start = -3\n",
    "scan_stop = 1\n",
    "num_steps= 200\n",
    "\n",
    "servo1.manual_output_ramp=0.1\n",
    "servo1.manual_output = scan_start\n",
    "\n",
    "r = servo1.manual_sweep(np.linspace(scan_start,scan_stop,num_steps))\n",
    "\n",
    "servo1.manual_output=-1"
   ]
  },
  {
   "cell_type": "code",
   "execution_count": 144,
   "metadata": {},
   "outputs": [
    {
     "name": "stdout",
     "output_type": "stream",
     "text": [
      "SRS PID controller SIM960: ....Manual output voltage Ramping.... Disable ranp by set self.manual_output_ramp=0. \n",
      "SRS PID controller SIM960: Output in Manual Mode in Volt set to -1.200.\n",
      "SRS PID controller SIM960: Output in Manual Mode in Volt set to -1.306.\n",
      "SRS PID controller SIM960: Output in Manual Mode in Volt set to -1.412.\n",
      "SRS PID controller SIM960: Output in Manual Mode in Volt set to -1.518.\n",
      "SRS PID controller SIM960: Output in Manual Mode in Volt set to -1.624.\n",
      "SRS PID controller SIM960: Output in Manual Mode in Volt set to -1.729.\n",
      "SRS PID controller SIM960: Output in Manual Mode in Volt set to -1.835.\n",
      "SRS PID controller SIM960: Output in Manual Mode in Volt set to -1.941.\n",
      "SRS PID controller SIM960: Output in Manual Mode in Volt set to -2.047.\n",
      "SRS PID controller SIM960: Output in Manual Mode in Volt set to -2.153.\n",
      "SRS PID controller SIM960: Output in Manual Mode in Volt set to -2.259.\n",
      "SRS PID controller SIM960: Output in Manual Mode in Volt set to -2.365.\n",
      "SRS PID controller SIM960: Output in Manual Mode in Volt set to -2.471.\n",
      "SRS PID controller SIM960: Output in Manual Mode in Volt set to -2.576.\n",
      "SRS PID controller SIM960: Output in Manual Mode in Volt set to -2.682.\n",
      "SRS PID controller SIM960: Output in Manual Mode in Volt set to -2.788.\n",
      "SRS PID controller SIM960: Output in Manual Mode in Volt set to -2.894.\n",
      "SRS PID controller SIM960: Output in Manual Mode in Volt set to -3.000.\n",
      "SRS PID controller SIM960: ....Manual output voltage Ramp Finished. Disable ramp by set self.manual_output_ramp=0. \n",
      "SRS PID controller SIM960: PID output is turned OFF, output mode is turnd to Manual.\n"
     ]
    },
    {
     "name": "stderr",
     "output_type": "stream",
     "text": [
      "100%|██████████| 800/800 [01:52<00:00,  7.09it/s]\n"
     ]
    },
    {
     "data": {
      "image/png": "[encoded data removed]",
      "text/plain": [
       "<Figure size 432x288 with 1 Axes>"
      ]
     },
     "metadata": {
      "needs_background": "light"
     },
     "output_type": "display_data"
    },
    {
     "name": "stdout",
     "output_type": "stream",
     "text": [
      "SRS PID controller SIM960: ....Manual output voltage Ramping.... Disable ranp by set self.manual_output_ramp=0. \n",
      "SRS PID controller SIM960: Output in Manual Mode in Volt set to 3.000.\n",
      "SRS PID controller SIM960: Output in Manual Mode in Volt set to 2.898.\n",
      "SRS PID controller SIM960: Output in Manual Mode in Volt set to 2.795.\n",
      "SRS PID controller SIM960: Output in Manual Mode in Volt set to 2.693.\n",
      "SRS PID controller SIM960: Output in Manual Mode in Volt set to 2.590.\n",
      "SRS PID controller SIM960: Output in Manual Mode in Volt set to 2.488.\n",
      "SRS PID controller SIM960: Output in Manual Mode in Volt set to 2.385.\n",
      "SRS PID controller SIM960: Output in Manual Mode in Volt set to 2.283.\n",
      "SRS PID controller SIM960: Output in Manual Mode in Volt set to 2.180.\n",
      "SRS PID controller SIM960: Output in Manual Mode in Volt set to 2.078.\n",
      "SRS PID controller SIM960: Output in Manual Mode in Volt set to 1.976.\n",
      "SRS PID controller SIM960: Output in Manual Mode in Volt set to 1.873.\n",
      "SRS PID controller SIM960: Output in Manual Mode in Volt set to 1.771.\n",
      "SRS PID controller SIM960: Output in Manual Mode in Volt set to 1.668.\n",
      "SRS PID controller SIM960: Output in Manual Mode in Volt set to 1.566.\n",
      "SRS PID controller SIM960: Output in Manual Mode in Volt set to 1.463.\n",
      "SRS PID controller SIM960: Output in Manual Mode in Volt set to 1.361.\n",
      "SRS PID controller SIM960: Output in Manual Mode in Volt set to 1.259.\n",
      "SRS PID controller SIM960: Output in Manual Mode in Volt set to 1.156.\n",
      "SRS PID controller SIM960: Output in Manual Mode in Volt set to 1.054.\n",
      "SRS PID controller SIM960: Output in Manual Mode in Volt set to 0.951.\n",
      "SRS PID controller SIM960: Output in Manual Mode in Volt set to 0.849.\n",
      "SRS PID controller SIM960: Output in Manual Mode in Volt set to 0.746.\n",
      "SRS PID controller SIM960: Output in Manual Mode in Volt set to 0.644.\n",
      "SRS PID controller SIM960: Output in Manual Mode in Volt set to 0.541.\n",
      "SRS PID controller SIM960: Output in Manual Mode in Volt set to 0.439.\n",
      "SRS PID controller SIM960: Output in Manual Mode in Volt set to 0.337.\n",
      "SRS PID controller SIM960: Output in Manual Mode in Volt set to 0.234.\n",
      "SRS PID controller SIM960: Output in Manual Mode in Volt set to 0.132.\n",
      "SRS PID controller SIM960: Output in Manual Mode in Volt set to 0.029.\n",
      "SRS PID controller SIM960: Output in Manual Mode in Volt set to -0.073.\n",
      "SRS PID controller SIM960: Output in Manual Mode in Volt set to -0.176.\n",
      "SRS PID controller SIM960: Output in Manual Mode in Volt set to -0.278.\n",
      "SRS PID controller SIM960: Output in Manual Mode in Volt set to -0.380.\n",
      "SRS PID controller SIM960: Output in Manual Mode in Volt set to -0.483.\n",
      "SRS PID controller SIM960: Output in Manual Mode in Volt set to -0.585.\n",
      "SRS PID controller SIM960: Output in Manual Mode in Volt set to -0.688.\n",
      "SRS PID controller SIM960: Output in Manual Mode in Volt set to -0.790.\n",
      "SRS PID controller SIM960: Output in Manual Mode in Volt set to -0.893.\n",
      "SRS PID controller SIM960: Output in Manual Mode in Volt set to -0.995.\n",
      "SRS PID controller SIM960: Output in Manual Mode in Volt set to -1.098.\n",
      "SRS PID controller SIM960: Output in Manual Mode in Volt set to -1.200.\n",
      "SRS PID controller SIM960: ....Manual output voltage Ramp Finished. Disable ramp by set self.manual_output_ramp=0. \n"
     ]
    }
   ],
   "source": [
    "scan_start = -3\n",
    "scan_stop = 3\n",
    "num_steps= 800\n",
    "\n",
    "servo1.manual_output_ramp=0.1\n",
    "servo1.manual_output = scan_start\n",
    "\n",
    "r = servo1.manual_sweep(np.linspace(scan_start,scan_stop,num_steps))\n",
    "\n",
    "servo1.manual_output=-1.2"
   ]
  },
  {
   "cell_type": "code",
   "execution_count": 5,
   "metadata": {},
   "outputs": [
    {
     "name": "stdout",
     "output_type": "stream",
     "text": [
      "----------------------------SRS PID controller SIM960----------------------------\n",
      "|--------------------SRS PID controller SIM960 Status Summary--------------------\n",
      "|----------------------------SIM960,s/n033658,ver2.17----------------------------\n",
      "|\tOutput mode:\t\u001b[1;34;41mMAN\u001b[0m,\tOutput limit: -0.500V TO 7.500V\n",
      "|\tMeasured input:\t 0.426258V\n",
      "|\tAmplified error:\t -99.999999V\n",
      "|\tInstant Output voltage:\t 0.000633V\n",
      "|\tManual output set:\t 0.0V\n",
      "|\t================ Set Point related================\n",
      "|\t\tInternal setpoint = 0.021 V, Ramping \u001b[1;34;41mOFF\u001b[0m\n",
      "|\t\tSetpoint input mode INT, Ext setpoint input 0.021258V\n",
      "|\t\tSetpoint RAMP speed = 0.01 V/s, action \u001b[1;34;41mOFF\u001b[0m\n",
      "|\t============= P,I,D and Offset Status=============\n",
      "|\t\t P = 30.0    , \taction = \u001b[1;34;42mON\u001b[0m\n",
      "|\t\t I = 0.1 1/s, \taction = \u001b[1;34;41mOFF\u001b[0m\n",
      "|\t\t D = 1e-05   s, \taction = \u001b[1;34;41mOFF\u001b[0m\n",
      "|\t\tOff = 0.3  V, \taction = \u001b[1;34;42mON\u001b[0m\n",
      "-----------------SRS PID controller SIM960 Status Summary Ends------------------\n",
      "\n"
     ]
    },
    {
     "data": {
      "text/plain": [
       "'----------------------------SRS PID controller SIM960----------------------------\\n|--------------------SRS PID controller SIM960 Status Summary--------------------\\n|----------------------------SIM960,s/n033658,ver2.17----------------------------\\n|\\tOutput mode:\\t\\x1b[1;34;41mMAN\\x1b[0m,\\tOutput limit: -0.500V TO 7.500V\\n|\\tMeasured input:\\t 0.426258V\\n|\\tAmplified error:\\t -99.999999V\\n|\\tInstant Output voltage:\\t 0.000633V\\n|\\tManual output set:\\t 0.0V\\n|\\t================ Set Point related================\\n|\\t\\tInternal setpoint = 0.021 V, Ramping \\x1b[1;34;41mOFF\\x1b[0m\\n|\\t\\tSetpoint input mode INT, Ext setpoint input 0.021258V\\n|\\t\\tSetpoint RAMP speed = 0.01 V/s, action \\x1b[1;34;41mOFF\\x1b[0m\\n|\\t============= P,I,D and Offset Status=============\\n|\\t\\t P = 30.0    , \\taction = \\x1b[1;34;42mON\\x1b[0m\\n|\\t\\t I = 0.1 1/s, \\taction = \\x1b[1;34;41mOFF\\x1b[0m\\n|\\t\\t D = 1e-05   s, \\taction = \\x1b[1;34;41mOFF\\x1b[0m\\n|\\t\\tOff = 0.3  V, \\taction = \\x1b[1;34;42mON\\x1b[0m\\n-----------------SRS PID controller SIM960 Status Summary Ends------------------\\n'"
      ]
     },
     "execution_count": 5,
     "metadata": {},
     "output_type": "execute_result"
    }
   ],
   "source": [
    "servo_fc = SRS_PIDcontrol_SIM960(srs, 1)\n",
    "\n",
    "servo_fc.printStatus()"
   ]
  },
  {
   "cell_type": "code",
   "execution_count": 41,
   "metadata": {},
   "outputs": [
    {
     "name": "stdout",
     "output_type": "stream",
     "text": [
      "SRS PID controller SIM960: ....Manual output voltage Ramping.... Disable ranp by set self.manual_output_ramp=0. \n",
      "SRS PID controller SIM960: Output in Manual Mode in Volt set to 0.000.\n",
      "SRS PID controller SIM960: Output in Manual Mode in Volt set to -0.125.\n",
      "SRS PID controller SIM960: Output in Manual Mode in Volt set to -0.250.\n",
      "SRS PID controller SIM960: Output in Manual Mode in Volt set to -0.375.\n",
      "SRS PID controller SIM960: Output in Manual Mode in Volt set to -0.500.\n",
      "SRS PID controller SIM960: ....Manual output voltage Ramp Finished. Disable ramp by set self.manual_output_ramp=0. \n",
      "SRS PID controller SIM960: PID output is turned OFF, output mode is turnd to Manual.\n"
     ]
    },
    {
     "name": "stderr",
     "output_type": "stream",
     "text": [
      "100%|██████████| 1000/1000 [02:20<00:00,  7.10it/s]\n"
     ]
    },
    {
     "data": {
      "image/png": "[encoded data removed]",
      "text/plain": [
       "<Figure size 432x288 with 1 Axes>"
      ]
     },
     "metadata": {
      "needs_background": "light"
     },
     "output_type": "display_data"
    },
    {
     "name": "stdout",
     "output_type": "stream",
     "text": [
      "SRS PID controller SIM960: ....Manual output voltage Ramping.... Disable ranp by set self.manual_output_ramp=0. \n",
      "SRS PID controller SIM960: Output in Manual Mode in Volt set to 7.500.\n",
      "SRS PID controller SIM960: Output in Manual Mode in Volt set to 7.399.\n",
      "SRS PID controller SIM960: Output in Manual Mode in Volt set to 7.297.\n",
      "SRS PID controller SIM960: Output in Manual Mode in Volt set to 7.196.\n",
      "SRS PID controller SIM960: Output in Manual Mode in Volt set to 7.095.\n",
      "SRS PID controller SIM960: Output in Manual Mode in Volt set to 6.993.\n",
      "SRS PID controller SIM960: Output in Manual Mode in Volt set to 6.892.\n",
      "SRS PID controller SIM960: Output in Manual Mode in Volt set to 6.791.\n",
      "SRS PID controller SIM960: Output in Manual Mode in Volt set to 6.689.\n",
      "SRS PID controller SIM960: Output in Manual Mode in Volt set to 6.588.\n",
      "SRS PID controller SIM960: Output in Manual Mode in Volt set to 6.486.\n",
      "SRS PID controller SIM960: Output in Manual Mode in Volt set to 6.385.\n",
      "SRS PID controller SIM960: Output in Manual Mode in Volt set to 6.284.\n",
      "SRS PID controller SIM960: Output in Manual Mode in Volt set to 6.182.\n",
      "SRS PID controller SIM960: Output in Manual Mode in Volt set to 6.081.\n",
      "SRS PID controller SIM960: Output in Manual Mode in Volt set to 5.980.\n",
      "SRS PID controller SIM960: Output in Manual Mode in Volt set to 5.878.\n",
      "SRS PID controller SIM960: Output in Manual Mode in Volt set to 5.777.\n",
      "SRS PID controller SIM960: Output in Manual Mode in Volt set to 5.676.\n",
      "SRS PID controller SIM960: Output in Manual Mode in Volt set to 5.574.\n",
      "SRS PID controller SIM960: Output in Manual Mode in Volt set to 5.473.\n",
      "SRS PID controller SIM960: Output in Manual Mode in Volt set to 5.372.\n",
      "SRS PID controller SIM960: Output in Manual Mode in Volt set to 5.270.\n",
      "SRS PID controller SIM960: Output in Manual Mode in Volt set to 5.169.\n",
      "SRS PID controller SIM960: Output in Manual Mode in Volt set to 5.068.\n",
      "SRS PID controller SIM960: Output in Manual Mode in Volt set to 4.966.\n",
      "SRS PID controller SIM960: Output in Manual Mode in Volt set to 4.865.\n",
      "SRS PID controller SIM960: Output in Manual Mode in Volt set to 4.764.\n",
      "SRS PID controller SIM960: Output in Manual Mode in Volt set to 4.662.\n",
      "SRS PID controller SIM960: Output in Manual Mode in Volt set to 4.561.\n",
      "SRS PID controller SIM960: Output in Manual Mode in Volt set to 4.459.\n",
      "SRS PID controller SIM960: Output in Manual Mode in Volt set to 4.358.\n",
      "SRS PID controller SIM960: Output in Manual Mode in Volt set to 4.257.\n",
      "SRS PID controller SIM960: Output in Manual Mode in Volt set to 4.155.\n",
      "SRS PID controller SIM960: Output in Manual Mode in Volt set to 4.054.\n",
      "SRS PID controller SIM960: Output in Manual Mode in Volt set to 3.953.\n",
      "SRS PID controller SIM960: Output in Manual Mode in Volt set to 3.851.\n",
      "SRS PID controller SIM960: Output in Manual Mode in Volt set to 3.750.\n",
      "SRS PID controller SIM960: Output in Manual Mode in Volt set to 3.649.\n",
      "SRS PID controller SIM960: Output in Manual Mode in Volt set to 3.547.\n",
      "SRS PID controller SIM960: Output in Manual Mode in Volt set to 3.446.\n",
      "SRS PID controller SIM960: Output in Manual Mode in Volt set to 3.345.\n",
      "SRS PID controller SIM960: Output in Manual Mode in Volt set to 3.243.\n",
      "SRS PID controller SIM960: Output in Manual Mode in Volt set to 3.142.\n",
      "SRS PID controller SIM960: Output in Manual Mode in Volt set to 3.041.\n",
      "SRS PID controller SIM960: Output in Manual Mode in Volt set to 2.939.\n",
      "SRS PID controller SIM960: Output in Manual Mode in Volt set to 2.838.\n",
      "SRS PID controller SIM960: Output in Manual Mode in Volt set to 2.736.\n",
      "SRS PID controller SIM960: Output in Manual Mode in Volt set to 2.635.\n",
      "SRS PID controller SIM960: Output in Manual Mode in Volt set to 2.534.\n",
      "SRS PID controller SIM960: Output in Manual Mode in Volt set to 2.432.\n",
      "SRS PID controller SIM960: Output in Manual Mode in Volt set to 2.331.\n",
      "SRS PID controller SIM960: Output in Manual Mode in Volt set to 2.230.\n",
      "SRS PID controller SIM960: Output in Manual Mode in Volt set to 2.128.\n",
      "SRS PID controller SIM960: Output in Manual Mode in Volt set to 2.027.\n",
      "SRS PID controller SIM960: Output in Manual Mode in Volt set to 1.926.\n",
      "SRS PID controller SIM960: Output in Manual Mode in Volt set to 1.824.\n",
      "SRS PID controller SIM960: Output in Manual Mode in Volt set to 1.723.\n",
      "SRS PID controller SIM960: Output in Manual Mode in Volt set to 1.622.\n",
      "SRS PID controller SIM960: Output in Manual Mode in Volt set to 1.520.\n",
      "SRS PID controller SIM960: Output in Manual Mode in Volt set to 1.419.\n",
      "SRS PID controller SIM960: Output in Manual Mode in Volt set to 1.318.\n",
      "SRS PID controller SIM960: Output in Manual Mode in Volt set to 1.216.\n",
      "SRS PID controller SIM960: Output in Manual Mode in Volt set to 1.115.\n",
      "SRS PID controller SIM960: Output in Manual Mode in Volt set to 1.014.\n",
      "SRS PID controller SIM960: Output in Manual Mode in Volt set to 0.912.\n",
      "SRS PID controller SIM960: Output in Manual Mode in Volt set to 0.811.\n",
      "SRS PID controller SIM960: Output in Manual Mode in Volt set to 0.709.\n",
      "SRS PID controller SIM960: Output in Manual Mode in Volt set to 0.608.\n",
      "SRS PID controller SIM960: Output in Manual Mode in Volt set to 0.507.\n",
      "SRS PID controller SIM960: Output in Manual Mode in Volt set to 0.405.\n",
      "SRS PID controller SIM960: Output in Manual Mode in Volt set to 0.304.\n",
      "SRS PID controller SIM960: Output in Manual Mode in Volt set to 0.203.\n",
      "SRS PID controller SIM960: Output in Manual Mode in Volt set to 0.101.\n",
      "SRS PID controller SIM960: Output in Manual Mode in Volt set to 0.000.\n",
      "SRS PID controller SIM960: ....Manual output voltage Ramp Finished. Disable ramp by set self.manual_output_ramp=0. \n"
     ]
    }
   ],
   "source": [
    "scan_start = -0.5\n",
    "scan_stop = 7.5\n",
    "num_steps= 1000\n",
    "\n",
    "servo_fc.manual_output_ramp=0.1\n",
    "servo_fc.manual_output = scan_start\n",
    "\n",
    "r = servo_fc.manual_sweep(np.linspace(scan_start,scan_stop,num_steps))\n",
    "\n",
    "servo_fc.manual_output=0"
   ]
  },
  {
   "cell_type": "code",
   "execution_count": 42,
   "metadata": {},
   "outputs": [
    {
     "name": "stdout",
     "output_type": "stream",
     "text": [
      "SRS PID controller SIM960: ....Manual output voltage Ramping.... Disable ranp by set self.manual_output_ramp=0. \n",
      "SRS PID controller SIM960: Output in Manual Mode in Volt set to 0.000.\n",
      "SRS PID controller SIM960: Output in Manual Mode in Volt set to 0.000.\n",
      "SRS PID controller SIM960: ....Manual output voltage Ramp Finished. Disable ramp by set self.manual_output_ramp=0. \n",
      "SRS PID controller SIM960: PID output is turned OFF, output mode is turnd to Manual.\n"
     ]
    },
    {
     "name": "stderr",
     "output_type": "stream",
     "text": [
      "100%|██████████| 200/200 [00:28<00:00,  6.93it/s]\n"
     ]
    },
    {
     "data": {
      "image/png": "[encoded data removed]",
      "text/plain": [
       "<Figure size 432x288 with 1 Axes>"
      ]
     },
     "metadata": {
      "needs_background": "light"
     },
     "output_type": "display_data"
    },
    {
     "name": "stdout",
     "output_type": "stream",
     "text": [
      "SRS PID controller SIM960: ....Manual output voltage Ramping.... Disable ranp by set self.manual_output_ramp=0. \n",
      "SRS PID controller SIM960: Output in Manual Mode in Volt set to 2.000.\n",
      "SRS PID controller SIM960: Output in Manual Mode in Volt set to 1.895.\n",
      "SRS PID controller SIM960: Output in Manual Mode in Volt set to 1.789.\n",
      "SRS PID controller SIM960: Output in Manual Mode in Volt set to 1.684.\n",
      "SRS PID controller SIM960: Output in Manual Mode in Volt set to 1.579.\n",
      "SRS PID controller SIM960: Output in Manual Mode in Volt set to 1.474.\n",
      "SRS PID controller SIM960: Output in Manual Mode in Volt set to 1.368.\n",
      "SRS PID controller SIM960: Output in Manual Mode in Volt set to 1.263.\n",
      "SRS PID controller SIM960: Output in Manual Mode in Volt set to 1.158.\n",
      "SRS PID controller SIM960: Output in Manual Mode in Volt set to 1.053.\n",
      "SRS PID controller SIM960: Output in Manual Mode in Volt set to 0.947.\n",
      "SRS PID controller SIM960: Output in Manual Mode in Volt set to 0.842.\n",
      "SRS PID controller SIM960: Output in Manual Mode in Volt set to 0.737.\n",
      "SRS PID controller SIM960: Output in Manual Mode in Volt set to 0.632.\n",
      "SRS PID controller SIM960: Output in Manual Mode in Volt set to 0.526.\n",
      "SRS PID controller SIM960: Output in Manual Mode in Volt set to 0.421.\n",
      "SRS PID controller SIM960: Output in Manual Mode in Volt set to 0.316.\n",
      "SRS PID controller SIM960: Output in Manual Mode in Volt set to 0.211.\n",
      "SRS PID controller SIM960: Output in Manual Mode in Volt set to 0.105.\n",
      "SRS PID controller SIM960: Output in Manual Mode in Volt set to 0.000.\n",
      "SRS PID controller SIM960: ....Manual output voltage Ramp Finished. Disable ramp by set self.manual_output_ramp=0. \n"
     ]
    }
   ],
   "source": [
    "scan_start = 0\n",
    "scan_stop = 2\n",
    "num_steps= 200\n",
    "\n",
    "servo_fc.manual_output_ramp=0.1\n",
    "servo_fc.manual_output = scan_start\n",
    "\n",
    "r = servo_fc.manual_sweep(np.linspace(scan_start,scan_stop,num_steps))\n",
    "\n",
    "servo_fc.manual_output=0"
   ]
  },
  {
   "cell_type": "code",
   "execution_count": 6,
   "metadata": {},
   "outputs": [
    {
     "name": "stdout",
     "output_type": "stream",
     "text": [
      "Filter Cavity TEC (LFC3751) connected\n",
      "---------------------------Filter Cavity TEC (LFC3751)---------------------------\n",
      "|--------------------------TEC LFC-3751 Status Summary---------------------------\n",
      "|----------------------Model: LFI-3751, Serial No.21380415-----------------------\n",
      "|\tOutput Status: \u001b[1;34;41mOFF\u001b[0m\n",
      "|\tTE current: -0.00A\n",
      "|\tTemp set: 25.74°C\n",
      "|\tTemp act: 12.96°C\n",
      "|\t Limit I: \n",
      "|\t\t Positive: 0.00 A\n",
      "|\t\t Negative: -0.60 A\n",
      "|\t Limit T: \n",
      "|\t\t High: 35.10°C\n",
      "|\t\t Low: 10.00°C\n",
      "|\t PID parameters: [30.0, 1.0, 0.0]\n",
      "|\t ABC thermistor (°C): [10.0, 25.0, 40.0]\n",
      "------------------------TEC LFC-3751 Status Summary Ends------------------------\n",
      "\n"
     ]
    },
    {
     "data": {
      "text/plain": [
       "'---------------------------Filter Cavity TEC (LFC3751)---------------------------\\n|--------------------------TEC LFC-3751 Status Summary---------------------------\\n|----------------------Model: LFI-3751, Serial No.21380415-----------------------\\n|\\tOutput Status: \\x1b[1;34;41mOFF\\x1b[0m\\n|\\tTE current: -0.00A\\n|\\tTemp set: 25.74°C\\n|\\tTemp act: 12.96°C\\n|\\t Limit I: \\n|\\t\\t Positive: 0.00 A\\n|\\t\\t Negative: -0.60 A\\n|\\t Limit T: \\n|\\t\\t High: 35.10°C\\n|\\t\\t Low: 10.00°C\\n|\\t PID parameters: [30.0, 1.0, 0.0]\\n|\\t ABC thermistor (°C): [10.0, 25.0, 40.0]\\n------------------------TEC LFC-3751 Status Summary Ends------------------------\\n'"
      ]
     },
     "execution_count": 6,
     "metadata": {},
     "output_type": "execute_result"
    }
   ],
   "source": [
    "from LFC.Hardware.TEC_LFC3751 import TEC_LFC3751\n",
    "tec_fc = TEC_LFC3751(addr='ASRL41::INSTR', name='Filter Cavity TEC (LFC3751)')\n",
    "tec_fc.connect()\n",
    "tec_fc.printStatus()"
   ]
  },
  {
   "cell_type": "code",
   "execution_count": 8,
   "metadata": {},
   "outputs": [
    {
     "name": "stdout",
     "output_type": "stream",
     "text": [
      "Filter Cavity TEC (LFC3751): Temperature setted to 25 degC.\n"
     ]
    }
   ],
   "source": [
    "tec_fc.Tset = 25"
   ]
  },
  {
   "cell_type": "code",
   "execution_count": 11,
   "metadata": {},
   "outputs": [
    {
     "name": "stdout",
     "output_type": "stream",
     "text": [
      "Filter Cavity TEC (LFC3751): setted Output status as ON.\n",
      "14.953\n",
      "15.037\n",
      "15.206\n",
      "15.373\n",
      "15.456\n",
      "15.621\n",
      "15.785\n",
      "15.947\n",
      "16.027\n",
      "16.186\n",
      "16.343\n",
      "16.499\n",
      "16.576\n",
      "16.729\n",
      "16.88\n",
      "16.955\n",
      "17.103\n",
      "17.249\n",
      "17.395\n",
      "17.467\n",
      "17.609\n",
      "17.75\n",
      "17.819\n",
      "17.958\n",
      "18.095\n",
      "18.231\n",
      "18.298\n",
      "18.431\n",
      "18.564\n",
      "18.629\n",
      "18.76\n",
      "18.889\n",
      "19.017\n",
      "19.08\n",
      "19.206\n",
      "19.331\n",
      "19.455\n",
      "19.517\n",
      "19.639\n",
      "19.761\n",
      "19.822\n",
      "19.942\n",
      "20.061\n",
      "20.179\n",
      "20.238\n",
      "20.355\n",
      "20.471\n",
      "20.529\n",
      "20.644\n",
      "20.759\n",
      "20.872\n",
      "20.929\n",
      "21.041\n",
      "21.153\n",
      "21.208\n",
      "21.319\n",
      "21.429\n",
      "21.539\n",
      "21.593\n",
      "21.702\n",
      "21.81\n",
      "21.918\n",
      "21.971\n",
      "22.078\n",
      "22.184\n",
      "22.237\n",
      "22.343\n",
      "22.448\n",
      "22.552\n",
      "22.605\n",
      "22.708\n",
      "22.812\n",
      "22.864\n",
      "22.966\n",
      "23.068\n",
      "23.17\n",
      "23.221\n",
      "23.322\n",
      "23.422\n",
      "23.473\n",
      "23.573\n",
      "23.673\n",
      "23.772\n",
      "23.822\n",
      "23.921\n",
      "24.02\n",
      "24.069\n",
      "24.167\n",
      "24.264\n",
      "24.361\n",
      "24.41\n",
      "24.506\n",
      "24.6\n",
      "24.687\n",
      "24.727\n",
      "24.796\n",
      "24.847\n",
      "24.865\n",
      "24.885\n",
      "24.885\n"
     ]
    }
   ],
   "source": [
    "tec_fc.output = 1\n",
    "import time\n",
    "time.sleep(1)\n",
    "for ii in range(100):\n",
    "    print(tec_fc.Tact)\n",
    "    time.sleep(1)"
   ]
  },
  {
   "cell_type": "code",
   "execution_count": 12,
   "metadata": {},
   "outputs": [
    {
     "name": "stdout",
     "output_type": "stream",
     "text": [
      "----------------------------SRS PID controller SIM960----------------------------\n",
      "|--------------------SRS PID controller SIM960 Status Summary--------------------\n",
      "|----------------------------SIM960,s/n033683,ver2.17----------------------------\n",
      "|\tOutput mode:\t\u001b[1;34;42mPID\u001b[0m,\tOutput limit: -4.000V TO 5.000V\n",
      "|\tMeasured input:\t 0.010821V\n",
      "|\tAmplified error:\t -0.014175V\n",
      "|\tInstant Output voltage:\t 0.679224V\n",
      "|\tManual output set:\t 0.0V\n",
      "|\t================ Set Point related================\n",
      "|\t\tInternal setpoint = 0.0 V, Ramping \u001b[1;34;41mOFF\u001b[0m\n",
      "|\t\tSetpoint input mode INT, Ext setpoint input 0.001021V\n",
      "|\t\tSetpoint RAMP speed = 0.01 V/s, action \u001b[1;34;41mOFF\u001b[0m\n",
      "|\t============= P,I,D and Offset Status=============\n",
      "|\t\t P = 1.5    , \taction = \u001b[1;34;42mON\u001b[0m\n",
      "|\t\t I = 0.05 1/s, \taction = \u001b[1;34;42mON\u001b[0m\n",
      "|\t\t D = 1.4e-05   s, \taction = \u001b[1;34;41mOFF\u001b[0m\n",
      "|\t\tOff = 0.0  V, \taction = \u001b[1;34;42mON\u001b[0m\n",
      "-----------------SRS PID controller SIM960 Status Summary Ends------------------\n",
      "\n"
     ]
    },
    {
     "data": {
      "text/plain": [
       "'----------------------------SRS PID controller SIM960----------------------------\\n|--------------------SRS PID controller SIM960 Status Summary--------------------\\n|----------------------------SIM960,s/n033683,ver2.17----------------------------\\n|\\tOutput mode:\\t\\x1b[1;34;42mPID\\x1b[0m,\\tOutput limit: -4.000V TO 5.000V\\n|\\tMeasured input:\\t 0.010821V\\n|\\tAmplified error:\\t -0.014175V\\n|\\tInstant Output voltage:\\t 0.679224V\\n|\\tManual output set:\\t 0.0V\\n|\\t================ Set Point related================\\n|\\t\\tInternal setpoint = 0.0 V, Ramping \\x1b[1;34;41mOFF\\x1b[0m\\n|\\t\\tSetpoint input mode INT, Ext setpoint input 0.001021V\\n|\\t\\tSetpoint RAMP speed = 0.01 V/s, action \\x1b[1;34;41mOFF\\x1b[0m\\n|\\t============= P,I,D and Offset Status=============\\n|\\t\\t P = 1.5    , \\taction = \\x1b[1;34;42mON\\x1b[0m\\n|\\t\\t I = 0.05 1/s, \\taction = \\x1b[1;34;42mON\\x1b[0m\\n|\\t\\t D = 1.4e-05   s, \\taction = \\x1b[1;34;41mOFF\\x1b[0m\\n|\\t\\tOff = 0.0  V, \\taction = \\x1b[1;34;42mON\\x1b[0m\\n-----------------SRS PID controller SIM960 Status Summary Ends------------------\\n'"
      ]
     },
     "execution_count": 12,
     "metadata": {},
     "output_type": "execute_result"
    }
   ],
   "source": [
    "servo1.printStatus()"
   ]
  },
  {
   "cell_type": "code",
   "execution_count": 55,
   "metadata": {},
   "outputs": [
    {
     "name": "stdout",
     "output_type": "stream",
     "text": [
      "Amonics EDFA 23 dBm connected\n"
     ]
    },
    {
     "data": {
      "text/plain": [
       "1"
      ]
     },
     "execution_count": 55,
     "metadata": {},
     "output_type": "execute_result"
    }
   ],
   "source": [
    "from LFC.Hardware.AmonicsEDFA import AmonicsEDFA\n",
    "amonic23 = AmonicsEDFA(addr='ASRL13::INSTR', name='Amonics EDFA 23 dBm')\n",
    "amonic23.connect()\n",
    "# amonic23.printStatus()"
   ]
  },
  {
   "cell_type": "code",
   "execution_count": 56,
   "metadata": {},
   "outputs": [
    {
     "name": "stdout",
     "output_type": "stream",
     "text": [
      "-------------------------------Amonics EDFA 23 dBm-------------------------------\n",
      "|--------------------------Amonics EDFA Status Summary---------------------------\n",
      "|------------------Model: AEDFA-PM-23-R-FA, Serial No.22020702-------------------\n",
      "|\tInterLock Status: \u001b[1;34;42mUNLOCKED\u001b[0m\n",
      "|\tCase Temperature: 37.00°C\n",
      "|\tMaster Activation: \u001b[1;34;42mON\u001b[0m\n",
      "|\t------------Channel Summary-------------\n",
      "|\t CHANNEL1: \n",
      "|\t\t Mode: ACC\n",
      "|\t\t Set Cur: 80.0 mA\n",
      "|\t\t Status: \u001b[1;34;42mON\u001b[0m\n",
      "|\t\t Input Power: 1.753765 mW\n",
      "|\t\t Output Power: 5.051322 mW\n",
      "|\t\t Internal PD Power: 43.25232 mW\n",
      "------------------------Amonics EDFA Status Summary Ends------------------------\n",
      "\n"
     ]
    },
    {
     "data": {
      "text/plain": [
       "'-------------------------------Amonics EDFA 23 dBm-------------------------------\\n|--------------------------Amonics EDFA Status Summary---------------------------\\n|------------------Model: AEDFA-PM-23-R-FA, Serial No.22020702-------------------\\n|\\tInterLock Status: \\x1b[1;34;42mUNLOCKED\\x1b[0m\\n|\\tCase Temperature: 37.00°C\\n|\\tMaster Activation: \\x1b[1;34;42mON\\x1b[0m\\n|\\t------------Channel Summary-------------\\n|\\t CHANNEL1: \\n|\\t\\t Mode: ACC\\n|\\t\\t Set Cur: 80.0 mA\\n|\\t\\t Status: \\x1b[1;34;42mON\\x1b[0m\\n|\\t\\t Input Power: 1.753765 mW\\n|\\t\\t Output Power: 5.051322 mW\\n|\\t\\t Internal PD Power: 43.25232 mW\\n------------------------Amonics EDFA Status Summary Ends------------------------\\n'"
      ]
     },
     "execution_count": 56,
     "metadata": {},
     "output_type": "execute_result"
    }
   ],
   "source": [
    "amonic23.printStatus()"
   ]
  },
  {
   "cell_type": "code",
   "execution_count": 57,
   "metadata": {},
   "outputs": [
    {
     "name": "stdout",
     "output_type": "stream",
     "text": [
      "Amonics EDFA 23 dBm: ......waiting Activation status set to OFF, now ON\n",
      "Amonics EDFA 23 dBm: setted Activation status as OFF, finished in 0.087 seconds\n",
      "Amonics EDFA 23 dBm: ......waiting ACC CH1 status set to OFF, now ON\n",
      "Amonics EDFA 23 dBm: setted ACC CH1 status as OFF, finished in 0.080 seconds\n"
     ]
    }
   ],
   "source": [
    "amonic23.activation = 0\n",
    "amonic23.accCh1Status = 0\n"
   ]
  }
 ],
 "metadata": {
  "kernelspec": {
   "display_name": "lfc",
   "language": "python",
   "name": "python3"
  },
  "language_info": {
   "codemirror_mode": {
    "name": "ipython",
    "version": 3
   },
   "file_extension": ".py",
   "mimetype": "text/x-python",
   "name": "python",
   "nbconvert_exporter": "python",
   "pygments_lexer": "ipython3",
   "version": "3.8.12"
  },
  "orig_nbformat": 4
 },
 "nbformat": 4,
 "nbformat_minor": 2
}
