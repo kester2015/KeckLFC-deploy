{
 "cells": [
  {
   "cell_type": "code",
   "execution_count": 2,
   "id": "8a0affc8",
   "metadata": {},
   "outputs": [
    {
     "name": "stdout",
     "output_type": "stream",
     "text": [
      "Stanford Research System SIM900 connected\n",
      "Stanford_Research_Systems,SIM960,s/n011553,ver2.17\n",
      "Stanford_Research_Systems,SIM960,s/n013274,ver2.17\n",
      "Stanford_Research_Systems,SIM960,s/n008867,ver2.17\n",
      "Stanford_Research_Systems,SIM928,s/n014211,ver2.2\n",
      "Stanford_Research_Systems,SIM928,s/n014210,ver2.2\n"
     ]
    }
   ],
   "source": [
    "from LFC.Hardware.SRS_SIM900 import SRS_SIM900, SRS_PIDcontrol_SIM960, SRS_VoltSorc_SIM928\n",
    "import numpy as np\n",
    "srs = SRS_SIM900()\n",
    "srs.connect()\n",
    "\n",
    "servo1 = SRS_PIDcontrol_SIM960(srs,1)\n",
    "servo2 = SRS_PIDcontrol_SIM960(srs,3)\n",
    "servo3 = SRS_PIDcontrol_SIM960(srs,5)\n",
    "voltsorc1 = SRS_VoltSorc_SIM928(srs,7)\n",
    "voltsorc2 = SRS_VoltSorc_SIM928(srs,8)\n",
    "\n",
    "print(servo1.query(\"*IDN?\"))\n",
    "print(servo2.query(\"*IDN?\"))\n",
    "print(servo3.query(\"*IDN?\"))\n",
    "print(voltsorc1.query(\"*IDN?\"))\n",
    "print(voltsorc2.query(\"*IDN?\"))"
   ]
  },
  {
   "cell_type": "code",
   "execution_count": 3,
   "id": "5565dfd2",
   "metadata": {},
   "outputs": [
    {
     "name": "stdout",
     "output_type": "stream",
     "text": [
      "----------------------------SRS PID controller SIM960----------------------------\n",
      "|--------------------SRS PID controller SIM960 Status Summary--------------------\n",
      "|----------------------------SIM960,s/n013274,ver2.17----------------------------\n",
      "|\tOutput mode:\t\u001b[1;34;41mMAN\u001b[0m,\tOutput limit: -10.000V TO 10.000V\n",
      "|\tMeasured input:\t -0.000697V\n",
      "|\tAmplified error:\t 0.001904V\n",
      "|\tInstant Output voltage:\t 0.001296V\n",
      "|\tManual output set:\t 0.0V\n",
      "|\t================ Set Point related================\n",
      "|\t\tInternal setpoint = -0.02 V, Ramping \u001b[1;34;41mOFF\u001b[0m\n",
      "|\t\tSetpoint input mode INT, Ext setpoint input -0.019803V\n",
      "|\t\tSetpoint RAMP speed = 0.01 V/s, action \u001b[1;34;41mOFF\u001b[0m\n",
      "|\t============= P,I,D and Offset Status=============\n",
      "|\t\t P = -0.1    , \taction = \u001b[1;34;42mON\u001b[0m\n",
      "|\t\t I = 25000.0 1/s, \taction = \u001b[1;34;42mON\u001b[0m\n",
      "|\t\t D = 1.5e-05   s, \taction = \u001b[1;34;42mON\u001b[0m\n",
      "|\t\tOff = 8.53  V, \taction = \u001b[1;34;42mON\u001b[0m\n",
      "-----------------SRS PID controller SIM960 Status Summary Ends------------------\n",
      "\n"
     ]
    },
    {
     "data": {
      "text/plain": [
       "'----------------------------SRS PID controller SIM960----------------------------\\n|--------------------SRS PID controller SIM960 Status Summary--------------------\\n|----------------------------SIM960,s/n013274,ver2.17----------------------------\\n|\\tOutput mode:\\t\\x1b[1;34;41mMAN\\x1b[0m,\\tOutput limit: -10.000V TO 10.000V\\n|\\tMeasured input:\\t -0.000697V\\n|\\tAmplified error:\\t 0.001904V\\n|\\tInstant Output voltage:\\t 0.001296V\\n|\\tManual output set:\\t 0.0V\\n|\\t================ Set Point related================\\n|\\t\\tInternal setpoint = -0.02 V, Ramping \\x1b[1;34;41mOFF\\x1b[0m\\n|\\t\\tSetpoint input mode INT, Ext setpoint input -0.019803V\\n|\\t\\tSetpoint RAMP speed = 0.01 V/s, action \\x1b[1;34;41mOFF\\x1b[0m\\n|\\t============= P,I,D and Offset Status=============\\n|\\t\\t P = -0.1    , \\taction = \\x1b[1;34;42mON\\x1b[0m\\n|\\t\\t I = 25000.0 1/s, \\taction = \\x1b[1;34;42mON\\x1b[0m\\n|\\t\\t D = 1.5e-05   s, \\taction = \\x1b[1;34;42mON\\x1b[0m\\n|\\t\\tOff = 8.53  V, \\taction = \\x1b[1;34;42mON\\x1b[0m\\n-----------------SRS PID controller SIM960 Status Summary Ends------------------\\n'"
      ]
     },
     "execution_count": 3,
     "metadata": {},
     "output_type": "execute_result"
    }
   ],
   "source": [
    "# servo1.manual_output=0.55\n",
    "servo2.printStatus()\n",
    "# servo2.printStatus()\n",
    "# servo3.printStatus()"
   ]
  },
  {
   "cell_type": "code",
   "execution_count": 4,
   "id": "83b7cf1f",
   "metadata": {},
   "outputs": [
    {
     "name": "stdout",
     "output_type": "stream",
     "text": [
      "SRS PID controller SIM960: Setting Output Lower limit in Volt to -10.0.\n",
      "SRS PID controller SIM960: Setting Output Upper limit in Volt to 10.0.\n"
     ]
    }
   ],
   "source": [
    "servo2.output_lowerlim=-10\n",
    "servo2.output_upperlim=10"
   ]
  },
  {
   "cell_type": "code",
   "execution_count": 11,
   "id": "5381ba51",
   "metadata": {},
   "outputs": [
    {
     "name": "stdout",
     "output_type": "stream",
     "text": [
      "SRS PID controller SIM960: PID output is turned OFF, output mode is turnd to Manual.\n"
     ]
    },
    {
     "data": {
      "image/png": "[encoded data removed]",
      "text/plain": [
       "<Figure size 432x288 with 1 Axes>"
      ]
     },
     "metadata": {
      "needs_background": "light"
     },
     "output_type": "display_data"
    },
    {
     "name": "stdout",
     "output_type": "stream",
     "text": [
      "SRS PID controller SIM960: Setting Output in Manual Mode in Volt to 0.0.\n"
     ]
    }
   ],
   "source": [
    "r = servo2.manual_sweep(np.linspace(5,5.8,30), interval_pause=0.1)\n",
    "servo2.manual_output=0"
   ]
  },
  {
   "cell_type": "code",
   "execution_count": 12,
   "id": "3c8e8fa8",
   "metadata": {},
   "outputs": [
    {
     "name": "stdout",
     "output_type": "stream",
     "text": [
      "SRS PID controller SIM960: Setting Locking set point in Volt to 0.0.\n",
      "SRS PID controller SIM960: Setting Output offset in Volts to 5.33.\n",
      "SRS PID controller SIM960: Output Offset Calculator action is set to ON.\n",
      "SRS PID controller SIM960: Setting Proportional Gain in V/V to -0.1.\n",
      "SRS PID controller SIM960: Setting Output in Manual Mode in Volt to 5.33.\n",
      "SRS PID controller SIM960: output mode 1 is understood as PID mode.\n",
      "SRS PID controller SIM960: PID output is turned ON.\n"
     ]
    }
   ],
   "source": [
    "servo2.setpoint = 0\n",
    "servo2.outoffset= 5.33\n",
    "servo2.outoffset_action=1\n",
    "servo2.prop_gain= -0.1\n",
    "\n",
    "servo2.manual_output=servo2.outoffset\n",
    "servo2.output_mode=1"
   ]
  },
  {
   "cell_type": "code",
   "execution_count": 222,
   "id": "1d954fc4",
   "metadata": {},
   "outputs": [
    {
     "name": "stdout",
     "output_type": "stream",
     "text": [
      "SRS PID controller SIM960: Setting Output offset in Volts to -5.3.\n",
      "SRS PID controller SIM960: Output Offset Calculator action is set to ON.\n"
     ]
    }
   ],
   "source": [
    "servo2.outoffset=-5.3\n",
    "servo2.outoffset_action=1"
   ]
  },
  {
   "cell_type": "code",
   "execution_count": 214,
   "id": "650d648f",
   "metadata": {},
   "outputs": [
    {
     "name": "stderr",
     "output_type": "stream",
     "text": [
      "Z:\\Maodong\\Projects\\Keck\\Keck Comb\\LFC\\Hardware\\SRS_SIM900.py:717: UserWarning: SRS PID controller SIM960: Setting Proportional Gain in V/V precision overgiven, 1 decimal degits required. Given number -0.15 is rounded.\n",
      "  warnings.warn(self.devicename + \": Setting \" + printstr + \" precision overgiven, \" + str(decimal) +\n"
     ]
    },
    {
     "name": "stdout",
     "output_type": "stream",
     "text": [
      "SRS PID controller SIM960: Setting Proportional Gain in V/V to -0.1.\n",
      "SRS PID controller SIM960: Setting Integral Gain in 1/seconds to 25000.0.\n",
      "SRS PID controller SIM960: Setting Derivative Gain in seconds to 1.5e-05.\n",
      "SRS PID controller SIM960: Proportional Gain Calculator action is set to ON.\n",
      "SRS PID controller SIM960: Integral Gain Calculator action is set to ON.\n",
      "SRS PID controller SIM960: Derivative Gain Calculator action is set to ON.\n"
     ]
    }
   ],
   "source": [
    "servo2.prop_gain=-0.15\n",
    "servo2.intg_gain=2.5e4\n",
    "servo2.derv_gain=1.5e-5\n",
    "servo2.prop_action=1\n",
    "servo2.intg_action=1\n",
    "servo2.derv_action=1"
   ]
  },
  {
   "cell_type": "code",
   "execution_count": 228,
   "id": "65a08798",
   "metadata": {},
   "outputs": [
    {
     "name": "stdout",
     "output_type": "stream",
     "text": [
      "SRS PID controller SIM960: Setting Locking set point in Volt to -0.05.\n"
     ]
    }
   ],
   "source": [
    "servo2.setpoint = -0.05"
   ]
  },
  {
   "cell_type": "code",
   "execution_count": 125,
   "id": "b77d9735",
   "metadata": {},
   "outputs": [
    {
     "name": "stdout",
     "output_type": "stream",
     "text": [
      "SRS PID controller SIM960: output mode 0 is understood as Manual mode.\n",
      "SRS PID controller SIM960: PID output is turned OFF, output mode is turnd to Manual.\n"
     ]
    }
   ],
   "source": [
    "servo2.output_mode=0"
   ]
  },
  {
   "cell_type": "code",
   "execution_count": 157,
   "id": "6998a19f",
   "metadata": {},
   "outputs": [
    {
     "name": "stdout",
     "output_type": "stream",
     "text": [
      "SRS PID controller SIM960: Setting Output in Manual Mode in Volt to -0.84.\n"
     ]
    }
   ],
   "source": [
    "servo2.manual_output=-0.84"
   ]
  },
  {
   "cell_type": "code",
   "execution_count": 55,
   "id": "82f6afd7",
   "metadata": {},
   "outputs": [
    {
     "name": "stdout",
     "output_type": "stream",
     "text": [
      "SRS PID controller SIM960: Integral Gain Calculator action is set to OFF.\n"
     ]
    }
   ],
   "source": [
    "servo2.intg_action=0"
   ]
  },
  {
   "cell_type": "code",
   "execution_count": 11,
   "id": "a4d6b096",
   "metadata": {},
   "outputs": [
    {
     "data": {
      "text/plain": [
       "1"
      ]
     },
     "execution_count": 11,
     "metadata": {},
     "output_type": "execute_result"
    }
   ],
   "source": [
    "srs.active_module"
   ]
  },
  {
   "cell_type": "code",
   "execution_count": 31,
   "id": "e86ce0b7",
   "metadata": {},
   "outputs": [],
   "source": [
    "srs.clear()"
   ]
  },
  {
   "cell_type": "code",
   "execution_count": 18,
   "id": "010c45db",
   "metadata": {},
   "outputs": [
    {
     "data": {
      "text/plain": [
       "'LOL'"
      ]
     },
     "execution_count": 18,
     "metadata": {},
     "output_type": "execute_result"
    }
   ],
   "source": [
    "srs.query_slot(0,\"ECHO? 'LOL'\")"
   ]
  },
  {
   "cell_type": "code",
   "execution_count": 143,
   "id": "bc54fef5",
   "metadata": {},
   "outputs": [],
   "source": [
    "srs.write(\"FLSH\")\n",
    "ss= srs.query(\"*IDN?\")"
   ]
  },
  {
   "cell_type": "code",
   "execution_count": 150,
   "id": "ba824852",
   "metadata": {},
   "outputs": [
    {
     "data": {
      "text/plain": [
       "'SIM960,s/n011553,ver2.17'"
      ]
     },
     "execution_count": 150,
     "metadata": {},
     "output_type": "execute_result"
    }
   ],
   "source": [
    "','.join(ss.split(',')[1:])"
   ]
  },
  {
   "cell_type": "code",
   "execution_count": 39,
   "id": "501faf02",
   "metadata": {},
   "outputs": [
    {
     "data": {
      "text/plain": [
       "10000.0"
      ]
     },
     "execution_count": 39,
     "metadata": {},
     "output_type": "execute_result"
    }
   ],
   "source": [
    "float('1 E4 '.replace(\" \", \"\"))"
   ]
  },
  {
   "cell_type": "code",
   "execution_count": 138,
   "id": "426384f1",
   "metadata": {},
   "outputs": [
    {
     "data": {
      "text/plain": [
       "'+8.0E+2'"
      ]
     },
     "execution_count": 138,
     "metadata": {},
     "output_type": "execute_result"
    }
   ],
   "source": [
    "import time\n",
    "servo1.write(\"INTG800\")\n",
    "time.sleep(1)\n",
    "servo1.query(\"INTG?\")"
   ]
  },
  {
   "cell_type": "code",
   "execution_count": 131,
   "id": "124e8075",
   "metadata": {},
   "outputs": [],
   "source": [
    "servo1.write(\"GAIN100\")"
   ]
  },
  {
   "cell_type": "code",
   "execution_count": 141,
   "id": "5813e6ff",
   "metadata": {},
   "outputs": [
    {
     "data": {
      "text/plain": [
       "'+00.599861'"
      ]
     },
     "execution_count": 141,
     "metadata": {},
     "output_type": "execute_result"
    }
   ],
   "source": [
    "servo1.query(\"SMON?\")"
   ]
  }
 ],
 "metadata": {
  "kernelspec": {
   "display_name": "Python 3 (ipykernel)",
   "language": "python",
   "name": "python3"
  },
  "language_info": {
   "codemirror_mode": {
    "name": "ipython",
    "version": 3
   },
   "file_extension": ".py",
   "mimetype": "text/x-python",
   "name": "python",
   "nbconvert_exporter": "python",
   "pygments_lexer": "ipython3",
   "version": "3.11.0"
  }
 },
 "nbformat": 4,
 "nbformat_minor": 5
}
