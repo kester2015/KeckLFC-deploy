{
 "cells": [
  {
   "cell_type": "code",
   "execution_count": 1,
   "id": "827b9c54",
   "metadata": {},
   "outputs": [],
   "source": [
    "from LFC.Hardware.ORIONLaser import ORIONLaser"
   ]
  },
  {
   "cell_type": "code",
   "execution_count": 2,
   "id": "9f0d3325",
   "metadata": {},
   "outputs": [
    {
     "name": "stdout",
     "output_type": "stream",
     "text": [
      "ORION Laser Module connected\n"
     ]
    },
    {
     "data": {
      "text/plain": [
       "'0.11.7'"
      ]
     },
     "execution_count": 2,
     "metadata": {},
     "output_type": "execute_result"
    }
   ],
   "source": [
    "rio = ORIONLaser(addr='ASRL12::INSTR')\n",
    "rio.connect()\n",
    "rio.readFirmwareVersion()"
   ]
  },
  {
   "cell_type": "code",
   "execution_count": 11,
   "id": "981fcceb",
   "metadata": {},
   "outputs": [
    {
     "name": "stdout",
     "output_type": "stream",
     "text": [
      "0\n",
      "1\n",
      "0\n",
      "-----------------------ORION Laser Module Status Summary------------------------\n",
      "-------------Product ID: RIO0175-3-22-4-CJ5, Ver 0.11.7, SN: 811177-------------\n",
      "|\t Status Code: bytearray(b'\\x00\\x01\\x00\\x01\\x00\\x01')\n",
      "|\t Photo monitor voltage: 0.608 Volt (also mA, r=1kOhm)\n",
      "|\t Board Temp:   31.1338 °C\n",
      "|\t Thermis Temp: 22.8003 °C\n",
      "|\t Volatile Settings (reset to non-volatile after re-plug): \n",
      "|\t\t Diode Cur = 145.0000 mA, TEC Set = 22.859°C\n",
      "|\t Non Volatile Settings (Doesn't reset after re-plug): \n",
      "|\t\t Diode Cur = 145.0000 mA, TEC Set = 22.859°C\n",
      "---------------------ORION Laser Module Status Summary Ends---------------------\n"
     ]
    },
    {
     "data": {
      "text/plain": [
       "\"-----------------------ORION Laser Module Status Summary------------------------\\n-------------Product ID: RIO0175-3-22-4-CJ5, Ver 0.11.7, SN: 811177-------------\\n|\\t Status Code: bytearray(b'\\\\x00\\\\x01\\\\x00\\\\x01\\\\x00\\\\x01')\\n|\\t Photo monitor voltage: 0.608 Volt (also mA, r=1kOhm)\\n|\\t Board Temp:   31.1338 °C\\n|\\t Thermis Temp: 22.8003 °C\\n|\\t Volatile Settings (reset to non-volatile after re-plug): \\n|\\t\\t Diode Cur = 145.0000 mA, TEC Set = 22.859°C\\n|\\t Non Volatile Settings (Doesn't reset after re-plug): \\n|\\t\\t Diode Cur = 145.0000 mA, TEC Set = 22.859°C\\n---------------------ORION Laser Module Status Summary Ends---------------------\""
      ]
     },
     "execution_count": 11,
     "metadata": {},
     "output_type": "execute_result"
    }
   ],
   "source": [
    "rio.printStatus()"
   ]
  },
  {
   "cell_type": "code",
   "execution_count": 28,
   "id": "cfa92907",
   "metadata": {},
   "outputs": [],
   "source": [
    "rio.default_DiodCur_TEC()"
   ]
  },
  {
   "cell_type": "code",
   "execution_count": 22,
   "id": "edfd8190",
   "metadata": {},
   "outputs": [
    {
     "data": {
      "text/plain": [
       "{'valid': True,\n",
       " 'packetlength': 10,\n",
       " 'status': 0,\n",
       " 'cmdID': 30,\n",
       " 'data': bytearray(b'\\x05\\xaa')}"
      ]
     },
     "execution_count": 22,
     "metadata": {},
     "output_type": "execute_result"
    }
   ],
   "source": [
    "rio.writeLaserdiodeCur_mA(145)"
   ]
  },
  {
   "cell_type": "code",
   "execution_count": 24,
   "id": "ab056fcf",
   "metadata": {},
   "outputs": [
    {
     "data": {
      "text/plain": [
       "{'valid': True,\n",
       " 'packetlength': 10,\n",
       " 'status': 0,\n",
       " 'cmdID': 32,\n",
       " 'data': bytearray(b'*\\xeb')}"
      ]
     },
     "execution_count": 24,
     "metadata": {},
     "output_type": "execute_result"
    }
   ],
   "source": [
    "rio.writeTECsetpoint(22.96)"
   ]
  },
  {
   "cell_type": "code",
   "execution_count": 5,
   "id": "9303d90e",
   "metadata": {},
   "outputs": [
    {
     "data": {
      "text/plain": [
       "26.69472432869958"
      ]
     },
     "execution_count": 5,
     "metadata": {},
     "output_type": "execute_result"
    }
   ],
   "source": [
    "rio._ohm2degC(9335)"
   ]
  },
  {
   "cell_type": "markdown",
   "id": "8593dcb9",
   "metadata": {},
   "source": [
    "# int.from_bytes(rio.query(0x28)['data'],'big')"
   ]
  },
  {
   "cell_type": "code",
   "execution_count": 4,
   "id": "f66428d1",
   "metadata": {},
   "outputs": [],
   "source": [
    "productID = rio.query(0x42)"
   ]
  },
  {
   "cell_type": "code",
   "execution_count": 4,
   "id": "bdcd923d",
   "metadata": {},
   "outputs": [
    {
     "name": "stdout",
     "output_type": "stream",
     "text": [
      "82\n",
      "73\n",
      "79\n",
      "48\n",
      "49\n",
      "55\n",
      "53\n",
      "45\n",
      "51\n",
      "45\n",
      "50\n",
      "50\n",
      "45\n",
      "52\n",
      "45\n",
      "67\n",
      "74\n",
      "53\n"
     ]
    }
   ],
   "source": [
    "for ii in productID['data']:\n",
    "    print(ii)"
   ]
  },
  {
   "cell_type": "markdown",
   "id": "1d33947c",
   "metadata": {},
   "source": [
    "# Record Rio status"
   ]
  },
  {
   "cell_type": "code",
   "execution_count": 14,
   "id": "98b28574",
   "metadata": {},
   "outputs": [
    {
     "name": "stdout",
     "output_type": "stream",
     "text": [
      "('175033_0317', 25.88942104353896)\n",
      "('175033_0317', 33.161617728149984)\n",
      "('175033_0317', 0.49919871794871795)\n",
      "('175133_0317', 25.890828495327355)\n",
      "('175133_0317', 33.18008044822561)\n",
      "('175133_0317', 0.49950396825396826)\n",
      "('175233_0317', 25.882383963164102)\n",
      "('175233_0317', 33.18623468825082)\n",
      "('175233_0317', 0.49950396825396826)\n",
      "('175333_0317', 25.88097658278309)\n",
      "('175333_0317', 33.197004608294925)\n",
      "('175333_0317', 0.4994276556776557)\n",
      "('175433_0317', 25.882383963164102)\n",
      "('175433_0317', 33.21085164835165)\n",
      "('175433_0317', 0.49919871794871795)\n",
      "('175534_0317', 25.882383963164102)\n",
      "('175534_0317', 33.22623724841467)\n",
      "('175534_0317', 0.49950396825396826)\n",
      "('175634_0317', 25.876754512977527)\n",
      "('175634_0317', 33.24008428847138)\n",
      "('175634_0317', 0.49919871794871795)\n",
      "('175734_0317', 25.865496182815548)\n",
      "('175734_0317', 33.249315648509196)\n",
      "('175734_0317', 0.4993131868131868)\n",
      "('175834_0317', 25.88942104353896)\n",
      "('175834_0317', 33.26162412855961)\n",
      "('175834_0317', 0.4993513431013431)\n",
      "('175934_0317', 25.885198759611797)\n",
      "('175934_0317', 33.26008556855331)\n",
      "('175934_0317', 0.4996947496947497)\n",
      "('180034_0317', 25.882383963164102)\n",
      "('180034_0317', 33.26316268856591)\n",
      "('180034_0317', 0.4992750305250305)\n",
      "('180134_0317', 25.88942104353896)\n",
      "('180134_0317', 33.284702528654144)\n",
      "('180134_0317', 0.4992750305250305)\n",
      "('180235_0317', 25.882383963164102)\n",
      "('180235_0317', 33.284702528654144)\n",
      "('180235_0317', 0.4990079365079365)\n",
      "('180335_0317', 25.882383963164102)\n",
      "('180335_0317', 33.30316524872977)\n",
      "('180335_0317', 0.4993513431013431)\n",
      "('180435_0317', 25.885198759611797)\n",
      "('180435_0317', 33.30316524872977)\n",
      "('180435_0317', 0.4994276556776557)\n",
      "('180535_0317', 25.876754512977527)\n",
      "('180535_0317', 33.31855084879278)\n",
      "('180535_0317', 0.499732905982906)\n",
      "('180635_0317', 25.88942104353896)\n",
      "('180635_0317', 33.329320768836894)\n",
      "('180635_0317', 0.4991224053724054)\n",
      "('180735_0317', 25.890828495327355)\n",
      "('180735_0317', 33.32624364882429)\n",
      "('180735_0317', 0.49954212454212454)\n",
      "('180835_0317', 25.885198759611797)\n",
      "('180835_0317', 33.34316780889362)\n",
      "('180835_0317', 0.49919871794871795)\n",
      "('180936_0317', 25.88097658278309)\n",
      "('180936_0317', 33.335475008862105)\n",
      "('180936_0317', 0.49958028083028083)\n",
      "('181036_0317', 25.890828495327355)\n",
      "('181036_0317', 33.35086060892512)\n",
      "('181036_0317', 0.4993894993894994)\n",
      "('181136_0317', 25.888013603658806)\n",
      "('181136_0317', 33.35701484895033)\n",
      "('181136_0317', 0.49923687423687424)\n",
      "('181236_0317', 25.878161857692533)\n",
      "('181236_0317', 33.36624620898814)\n",
      "('181236_0317', 0.4992750305250305)\n",
      "('181336_0317', 25.890828495327355)\n",
      "('181336_0317', 33.36778476899445)\n",
      "('181336_0317', 0.4993894993894994)\n",
      "('181436_0317', 25.88097658278309)\n",
      "('181436_0317', 33.377016129032256)\n",
      "('181436_0317', 0.4992750305250305)\n",
      "('181536_0317', 25.892235959026607)\n",
      "('181536_0317', 33.38624748907007)\n",
      "('181536_0317', 0.4994276556776557)\n",
      "('181636_0317', 25.886606175683994)\n",
      "('181636_0317', 33.38009324904486)\n",
      "('181636_0317', 0.4993894993894994)\n",
      "('181737_0317', 25.88942104353896)\n",
      "('181737_0317', 33.406248769152)\n",
      "('181737_0317', 0.49916056166056166)\n",
      "('181837_0317', 25.892235959026607)\n",
      "('181837_0317', 33.41548012918981)\n",
      "('181837_0317', 0.4993513431013431)\n",
      "('181937_0317', 25.878161857692533)\n",
      "('181937_0317', 33.42163436921502)\n",
      "('181937_0317', 0.4994276556776557)\n",
      "('182037_0317', 25.88942104353896)\n",
      "('182037_0317', 33.42163436921502)\n",
      "('182037_0317', 0.49954212454212454)\n",
      "('182137_0317', 25.893643434639785)\n",
      "('182137_0317', 33.438558529284336)\n",
      "('182137_0317', 0.49958028083028083)\n",
      "('182237_0317', 25.890828495327355)\n",
      "('182237_0317', 33.440097089290646)\n",
      "('182237_0317', 0.4994276556776557)\n",
      "('182337_0317', 25.885198759611797)\n",
      "('182337_0317', 33.44471276930955)\n",
      "('182337_0317', 0.49946581196581197)\n",
      "('182438_0317', 25.88097658278309)\n",
      "('182438_0317', 33.46163692937887)\n",
      "('182438_0317', 0.4994276556776557)\n",
      "('182538_0317', 25.890828495327355)\n",
      "('182538_0317', 33.469329729410376)\n",
      "('182538_0317', 0.4993131868131868)\n",
      "('182638_0317', 25.890828495327355)\n",
      "('182638_0317', 33.469329729410376)\n",
      "('182638_0317', 0.49946581196581197)\n"
     ]
    },
    {
     "ename": "KeyboardInterrupt",
     "evalue": "",
     "output_type": "error",
     "traceback": [
      "\u001b[1;31m---------------------------------------------------------------------------\u001b[0m",
      "\u001b[1;31mVisaIOError\u001b[0m                               Traceback (most recent call last)",
      "Input \u001b[1;32mIn [14]\u001b[0m, in \u001b[0;36m<cell line: 14>\u001b[1;34m()\u001b[0m\n\u001b[0;32m     16\u001b[0m timestamp \u001b[38;5;241m=\u001b[39m datetime\u001b[38;5;241m.\u001b[39mnow()\u001b[38;5;241m.\u001b[39mstrftime(\u001b[38;5;124m\"\u001b[39m\u001b[38;5;124m%\u001b[39m\u001b[38;5;124mH\u001b[39m\u001b[38;5;124m%\u001b[39m\u001b[38;5;124mM\u001b[39m\u001b[38;5;124m%\u001b[39m\u001b[38;5;124mS_\u001b[39m\u001b[38;5;124m%\u001b[39m\u001b[38;5;124mm\u001b[39m\u001b[38;5;132;01m%d\u001b[39;00m\u001b[38;5;124m\"\u001b[39m)\n\u001b[1;32m---> 17\u001b[0m thermistDic[timestamp] \u001b[38;5;241m=\u001b[39m \u001b[43mrio\u001b[49m\u001b[38;5;241;43m.\u001b[39;49m\u001b[43mreadThermisTemp\u001b[49m\u001b[43m(\u001b[49m\u001b[43m)\u001b[49m\n\u001b[0;32m     18\u001b[0m boardtempDic[timestamp] \u001b[38;5;241m=\u001b[39m rio\u001b[38;5;241m.\u001b[39mreadBoardTemp()\n",
      "File \u001b[1;32m~\\OneDrive - California Institute of Technology\\Shared with Everyone\\ZDisk\\Keck Comb\\LFC\\Hardware\\ORIONLaser.py:100\u001b[0m, in \u001b[0;36mORIONLaser.readThermisTemp\u001b[1;34m(self)\u001b[0m\n\u001b[0;32m     99\u001b[0m \u001b[38;5;28;01mdef\u001b[39;00m \u001b[38;5;21mreadThermisTemp\u001b[39m(\u001b[38;5;28mself\u001b[39m):\n\u001b[1;32m--> 100\u001b[0m     Thermistor_V \u001b[38;5;241m=\u001b[39m \u001b[38;5;28mint\u001b[39m\u001b[38;5;241m.\u001b[39mfrom_bytes(\u001b[38;5;28;43mself\u001b[39;49m\u001b[38;5;241;43m.\u001b[39;49m\u001b[43mquery\u001b[49m\u001b[43m(\u001b[49m\u001b[38;5;241;43m0x11\u001b[39;49m\u001b[43m)\u001b[49m[\u001b[38;5;124m'\u001b[39m\u001b[38;5;124mdata\u001b[39m\u001b[38;5;124m'\u001b[39m],\n\u001b[0;32m    101\u001b[0m                                   byteorder\u001b[38;5;241m=\u001b[39m\u001b[38;5;124m'\u001b[39m\u001b[38;5;124mbig\u001b[39m\u001b[38;5;124m'\u001b[39m) \u001b[38;5;241m*\u001b[39m \u001b[38;5;241m2.5\u001b[39m \u001b[38;5;241m/\u001b[39m \u001b[38;5;241m65520\u001b[39m\n\u001b[0;32m    102\u001b[0m     Thermistor_Ohms \u001b[38;5;241m=\u001b[39m Thermistor_V \u001b[38;5;241m*\u001b[39m \u001b[38;5;241m10000\u001b[39m \u001b[38;5;241m/\u001b[39m (\u001b[38;5;241m2.5\u001b[39m \u001b[38;5;241m-\u001b[39m Thermistor_V)\n",
      "File \u001b[1;32m~\\OneDrive - California Institute of Technology\\Shared with Everyone\\ZDisk\\Keck Comb\\LFC\\Hardware\\ORIONLaser.py:153\u001b[0m, in \u001b[0;36mORIONLaser.query\u001b[1;34m(self, cmdID, data, pktID, read)\u001b[0m\n\u001b[0;32m    152\u001b[0m \u001b[38;5;28mself\u001b[39m\u001b[38;5;241m.\u001b[39minst\u001b[38;5;241m.\u001b[39mwrite_raw(\u001b[38;5;28mbytes\u001b[39m(packet))\n\u001b[1;32m--> 153\u001b[0m \u001b[38;5;28;01mreturn\u001b[39;00m \u001b[38;5;28;43mself\u001b[39;49m\u001b[38;5;241;43m.\u001b[39;49m\u001b[43mread\u001b[49m\u001b[43m(\u001b[49m\u001b[43m)\u001b[49m\n",
      "File \u001b[1;32m~\\OneDrive - California Institute of Technology\\Shared with Everyone\\ZDisk\\Keck Comb\\LFC\\Hardware\\ORIONLaser.py:156\u001b[0m, in \u001b[0;36mORIONLaser.read\u001b[1;34m(self)\u001b[0m\n\u001b[0;32m    155\u001b[0m \u001b[38;5;28;01mdef\u001b[39;00m \u001b[38;5;21mread\u001b[39m(\u001b[38;5;28mself\u001b[39m):\n\u001b[1;32m--> 156\u001b[0m     packet \u001b[38;5;241m=\u001b[39m \u001b[38;5;28mbytearray\u001b[39m(\u001b[38;5;28;43mself\u001b[39;49m\u001b[38;5;241;43m.\u001b[39;49m\u001b[43minst\u001b[49m\u001b[38;5;241;43m.\u001b[39;49m\u001b[43mread_raw\u001b[49m\u001b[43m(\u001b[49m\u001b[43m)\u001b[49m)[\u001b[38;5;241m1\u001b[39m:]  \u001b[38;5;66;03m# Remove leading 0x00\u001b[39;00m\n\u001b[0;32m    157\u001b[0m     ret \u001b[38;5;241m=\u001b[39m {}\n",
      "File \u001b[1;32m~\\.conda\\envs\\lfc\\lib\\site-packages\\pyvisa\\resources\\messagebased.py:405\u001b[0m, in \u001b[0;36mMessageBasedResource.read_raw\u001b[1;34m(self, size)\u001b[0m\n\u001b[0;32m    389\u001b[0m \u001b[38;5;124;03m\"\"\"Read the unmodified string sent from the instrument to the computer.\u001b[39;00m\n\u001b[0;32m    390\u001b[0m \n\u001b[0;32m    391\u001b[0m \u001b[38;5;124;03mIn contrast to read(), no termination characters are stripped.\u001b[39;00m\n\u001b[1;32m   (...)\u001b[0m\n\u001b[0;32m    403\u001b[0m \n\u001b[0;32m    404\u001b[0m \u001b[38;5;124;03m\"\"\"\u001b[39;00m\n\u001b[1;32m--> 405\u001b[0m \u001b[38;5;28;01mreturn\u001b[39;00m \u001b[38;5;28mbytes\u001b[39m(\u001b[38;5;28;43mself\u001b[39;49m\u001b[38;5;241;43m.\u001b[39;49m\u001b[43m_read_raw\u001b[49m\u001b[43m(\u001b[49m\u001b[43msize\u001b[49m\u001b[43m)\u001b[49m)\n",
      "File \u001b[1;32m~\\.conda\\envs\\lfc\\lib\\site-packages\\pyvisa\\resources\\messagebased.py:442\u001b[0m, in \u001b[0;36mMessageBasedResource._read_raw\u001b[1;34m(self, size)\u001b[0m\n\u001b[0;32m    436\u001b[0m logger\u001b[38;5;241m.\u001b[39mdebug(\n\u001b[0;32m    437\u001b[0m     \u001b[38;5;124m\"\u001b[39m\u001b[38;5;132;01m%s\u001b[39;00m\u001b[38;5;124m - reading \u001b[39m\u001b[38;5;132;01m%d\u001b[39;00m\u001b[38;5;124m bytes (last status \u001b[39m\u001b[38;5;132;01m%r\u001b[39;00m\u001b[38;5;124m)\u001b[39m\u001b[38;5;124m\"\u001b[39m,\n\u001b[0;32m    438\u001b[0m     \u001b[38;5;28mself\u001b[39m\u001b[38;5;241m.\u001b[39m_resource_name,\n\u001b[0;32m    439\u001b[0m     size,\n\u001b[0;32m    440\u001b[0m     status,\n\u001b[0;32m    441\u001b[0m )\n\u001b[1;32m--> 442\u001b[0m chunk, status \u001b[38;5;241m=\u001b[39m \u001b[38;5;28;43mself\u001b[39;49m\u001b[38;5;241;43m.\u001b[39;49m\u001b[43mvisalib\u001b[49m\u001b[38;5;241;43m.\u001b[39;49m\u001b[43mread\u001b[49m\u001b[43m(\u001b[49m\u001b[38;5;28;43mself\u001b[39;49m\u001b[38;5;241;43m.\u001b[39;49m\u001b[43msession\u001b[49m\u001b[43m,\u001b[49m\u001b[43m \u001b[49m\u001b[43msize\u001b[49m\u001b[43m)\u001b[49m\n\u001b[0;32m    443\u001b[0m ret\u001b[38;5;241m.\u001b[39mextend(chunk)\n",
      "File \u001b[1;32m~\\.conda\\envs\\lfc\\lib\\site-packages\\pyvisa\\ctwrapper\\functions.py:2337\u001b[0m, in \u001b[0;36mread\u001b[1;34m(library, session, count)\u001b[0m\n\u001b[0;32m   2336\u001b[0m return_count \u001b[38;5;241m=\u001b[39m ViUInt32()\n\u001b[1;32m-> 2337\u001b[0m ret \u001b[38;5;241m=\u001b[39m \u001b[43mlibrary\u001b[49m\u001b[38;5;241;43m.\u001b[39;49m\u001b[43mviRead\u001b[49m\u001b[43m(\u001b[49m\u001b[43msession\u001b[49m\u001b[43m,\u001b[49m\u001b[43m \u001b[49m\u001b[43mbuffer\u001b[49m\u001b[43m,\u001b[49m\u001b[43m \u001b[49m\u001b[43mcount\u001b[49m\u001b[43m,\u001b[49m\u001b[43m \u001b[49m\u001b[43mbyref\u001b[49m\u001b[43m(\u001b[49m\u001b[43mreturn_count\u001b[49m\u001b[43m)\u001b[49m\u001b[43m)\u001b[49m\n\u001b[0;32m   2338\u001b[0m \u001b[38;5;28;01mreturn\u001b[39;00m buffer\u001b[38;5;241m.\u001b[39mraw[: return_count\u001b[38;5;241m.\u001b[39mvalue], ret\n",
      "File \u001b[1;32m~\\.conda\\envs\\lfc\\lib\\site-packages\\pyvisa\\ctwrapper\\highlevel.py:222\u001b[0m, in \u001b[0;36mIVIVisaLibrary._return_handler\u001b[1;34m(self, ret_value, func, arguments)\u001b[0m\n\u001b[0;32m    220\u001b[0m         session \u001b[38;5;241m=\u001b[39m \u001b[38;5;28;01mNone\u001b[39;00m\n\u001b[1;32m--> 222\u001b[0m \u001b[38;5;28;01mreturn\u001b[39;00m \u001b[38;5;28;43mself\u001b[39;49m\u001b[38;5;241;43m.\u001b[39;49m\u001b[43mhandle_return_value\u001b[49m\u001b[43m(\u001b[49m\u001b[43msession\u001b[49m\u001b[43m,\u001b[49m\u001b[43m \u001b[49m\u001b[43mret_value\u001b[49m\u001b[43m)\u001b[49m\n",
      "File \u001b[1;32m~\\.conda\\envs\\lfc\\lib\\site-packages\\pyvisa\\highlevel.py:251\u001b[0m, in \u001b[0;36mVisaLibraryBase.handle_return_value\u001b[1;34m(self, session, status_code)\u001b[0m\n\u001b[0;32m    250\u001b[0m \u001b[38;5;28;01mif\u001b[39;00m rv \u001b[38;5;241m<\u001b[39m \u001b[38;5;241m0\u001b[39m:\n\u001b[1;32m--> 251\u001b[0m     \u001b[38;5;28;01mraise\u001b[39;00m errors\u001b[38;5;241m.\u001b[39mVisaIOError(rv)\n\u001b[0;32m    253\u001b[0m \u001b[38;5;28;01mif\u001b[39;00m rv \u001b[38;5;129;01min\u001b[39;00m \u001b[38;5;28mself\u001b[39m\u001b[38;5;241m.\u001b[39missue_warning_on:\n",
      "\u001b[1;31mVisaIOError\u001b[0m: VI_ERROR_TMO (-1073807339): Timeout expired before operation completed.",
      "\nDuring handling of the above exception, another exception occurred:\n",
      "\u001b[1;31mKeyboardInterrupt\u001b[0m                         Traceback (most recent call last)",
      "Input \u001b[1;32mIn [14]\u001b[0m, in \u001b[0;36m<cell line: 14>\u001b[1;34m()\u001b[0m\n\u001b[0;32m     19\u001b[0m     photoMonitDic[timestamp] \u001b[38;5;241m=\u001b[39m rio\u001b[38;5;241m.\u001b[39mreadPhotomonitorV()\n\u001b[0;32m     20\u001b[0m \u001b[38;5;28;01mexcept\u001b[39;00m:\n\u001b[1;32m---> 21\u001b[0m     \u001b[43mtime\u001b[49m\u001b[38;5;241;43m.\u001b[39;49m\u001b[43msleep\u001b[49m\u001b[43m(\u001b[49m\u001b[43mtime_interval\u001b[49m\u001b[43m)\u001b[49m\n\u001b[0;32m     22\u001b[0m     \u001b[38;5;28;01mcontinue\u001b[39;00m\n\u001b[0;32m     23\u001b[0m \u001b[38;5;28mprint\u001b[39m(\u001b[38;5;28mlist\u001b[39m(thermistDic\u001b[38;5;241m.\u001b[39mitems())[\u001b[38;5;241m-\u001b[39m\u001b[38;5;241m1\u001b[39m])\n",
      "\u001b[1;31mKeyboardInterrupt\u001b[0m: "
     ]
    }
   ],
   "source": [
    "from scipy.io import savemat\n",
    "from datetime import datetime\n",
    "import time\n",
    "thermistDic = {}\n",
    "boardtempDic = {}\n",
    "photoMonitDic = {}\n",
    "\n",
    "time_interval = 60\n",
    "time_total = 20*3600\n",
    "\n",
    "# time_interval = 1\n",
    "# time_total = 10\n",
    "\n",
    "for ii in range(int(time_total/time_interval)):\n",
    "    try:\n",
    "        timestamp = datetime.now().strftime(\"%H%M%S_%m%d\")\n",
    "        thermistDic[timestamp] = rio.readThermisTemp()\n",
    "        boardtempDic[timestamp] = rio.readBoardTemp()\n",
    "        photoMonitDic[timestamp] = rio.readPhotomonitorV()\n",
    "    except:\n",
    "        time.sleep(time_interval)\n",
    "        continue\n",
    "    print(list(thermistDic.items())[-1])\n",
    "    print(list(boardtempDic.items())[-1])\n",
    "    print(list(photoMonitDic.items())[-1])\n",
    "    time.sleep(time_interval)\n",
    "    savemat(\"Z:\\Maodong\\Projects\\Keck\\HNLF_comb_stability\\Rio_log_220317.mat\", {\"Riotimestamps\":list(thermistDic.keys()), \"RiothermistTemps\":list(thermistDic.values()),  \"RioboardTemps\":list(boardtempDic.values()), \"RiophotoMonitors\":list(photoMonitDic.values())})"
   ]
  },
  {
   "cell_type": "code",
   "execution_count": 12,
   "id": "7f0187f5",
   "metadata": {},
   "outputs": [],
   "source": [
    "savemat(\"Z:\\Maodong\\Projects\\Keck\\HNLF_comb_stability\\Rio_log_220317.mat\", {\"timestamps\":list(thermistDic.keys()), \"thermistTemps\":list(thermistDic.values()),  \"boardTemps\":list(boardtempDic.values()), \"photoMonitors\":list(photoMonitDic.values())})"
   ]
  },
  {
   "cell_type": "code",
   "execution_count": 20,
   "id": "b0c9a2e8",
   "metadata": {},
   "outputs": [
    {
     "ename": "VisaIOError",
     "evalue": "VI_ERROR_TMO (-1073807339): Timeout expired before operation completed.",
     "output_type": "error",
     "traceback": [
      "\u001b[1;31m---------------------------------------------------------------------------\u001b[0m",
      "\u001b[1;31mVisaIOError\u001b[0m                               Traceback (most recent call last)",
      "Input \u001b[1;32mIn [20]\u001b[0m, in \u001b[0;36m<cell line: 1>\u001b[1;34m()\u001b[0m\n\u001b[1;32m----> 1\u001b[0m \u001b[43mrio\u001b[49m\u001b[38;5;241;43m.\u001b[39;49m\u001b[43mdisconnect\u001b[49m\u001b[43m(\u001b[49m\u001b[43m)\u001b[49m\n",
      "File \u001b[1;32m~\\OneDrive - California Institute of Technology\\Shared with Everyone\\ZDisk\\Keck Comb\\LFC\\Hardware\\ORIONLaser.py:179\u001b[0m, in \u001b[0;36mORIONLaser.disconnect\u001b[1;34m(self)\u001b[0m\n\u001b[0;32m    178\u001b[0m \u001b[38;5;28;01mdef\u001b[39;00m \u001b[38;5;21mdisconnect\u001b[39m(\u001b[38;5;28mself\u001b[39m):\n\u001b[1;32m--> 179\u001b[0m     \u001b[38;5;28;43mself\u001b[39;49m\u001b[38;5;241;43m.\u001b[39;49m\u001b[43mquery\u001b[49m\u001b[43m(\u001b[49m\u001b[38;5;241;43m0x25\u001b[39;49m\u001b[43m,\u001b[49m\u001b[43m \u001b[49m\u001b[43mread\u001b[49m\u001b[38;5;241;43m=\u001b[39;49m\u001b[38;5;28;43;01mFalse\u001b[39;49;00m\u001b[43m)\u001b[49m\n\u001b[0;32m    180\u001b[0m     \u001b[38;5;28;01mreturn\u001b[39;00m \u001b[38;5;28msuper\u001b[39m()\u001b[38;5;241m.\u001b[39mdisconnect()\n",
      "File \u001b[1;32m~\\OneDrive - California Institute of Technology\\Shared with Everyone\\ZDisk\\Keck Comb\\LFC\\Hardware\\ORIONLaser.py:153\u001b[0m, in \u001b[0;36mORIONLaser.query\u001b[1;34m(self, cmdID, data, pktID, read)\u001b[0m\n\u001b[0;32m    151\u001b[0m packet[\u001b[38;5;241m-\u001b[39m\u001b[38;5;241m1\u001b[39m] \u001b[38;5;241m=\u001b[39m \u001b[38;5;241m0xA5\u001b[39m\n\u001b[0;32m    152\u001b[0m \u001b[38;5;28mself\u001b[39m\u001b[38;5;241m.\u001b[39minst\u001b[38;5;241m.\u001b[39mwrite_raw(\u001b[38;5;28mbytes\u001b[39m(packet))\n\u001b[1;32m--> 153\u001b[0m \u001b[38;5;28;01mreturn\u001b[39;00m \u001b[38;5;28;43mself\u001b[39;49m\u001b[38;5;241;43m.\u001b[39;49m\u001b[43mread\u001b[49m\u001b[43m(\u001b[49m\u001b[43m)\u001b[49m\n",
      "File \u001b[1;32m~\\OneDrive - California Institute of Technology\\Shared with Everyone\\ZDisk\\Keck Comb\\LFC\\Hardware\\ORIONLaser.py:156\u001b[0m, in \u001b[0;36mORIONLaser.read\u001b[1;34m(self)\u001b[0m\n\u001b[0;32m    155\u001b[0m \u001b[38;5;28;01mdef\u001b[39;00m \u001b[38;5;21mread\u001b[39m(\u001b[38;5;28mself\u001b[39m):\n\u001b[1;32m--> 156\u001b[0m     packet \u001b[38;5;241m=\u001b[39m \u001b[38;5;28mbytearray\u001b[39m(\u001b[38;5;28;43mself\u001b[39;49m\u001b[38;5;241;43m.\u001b[39;49m\u001b[43minst\u001b[49m\u001b[38;5;241;43m.\u001b[39;49m\u001b[43mread_raw\u001b[49m\u001b[43m(\u001b[49m\u001b[43m)\u001b[49m)[\u001b[38;5;241m1\u001b[39m:]  \u001b[38;5;66;03m# Remove leading 0x00\u001b[39;00m\n\u001b[0;32m    157\u001b[0m     ret \u001b[38;5;241m=\u001b[39m {}\n\u001b[0;32m    158\u001b[0m     ret[\u001b[38;5;124m'\u001b[39m\u001b[38;5;124mvalid\u001b[39m\u001b[38;5;124m'\u001b[39m] \u001b[38;5;241m=\u001b[39m \u001b[38;5;28;01mTrue\u001b[39;00m\n",
      "File \u001b[1;32m~\\.conda\\envs\\lfc\\lib\\site-packages\\pyvisa\\resources\\messagebased.py:405\u001b[0m, in \u001b[0;36mMessageBasedResource.read_raw\u001b[1;34m(self, size)\u001b[0m\n\u001b[0;32m    388\u001b[0m \u001b[38;5;28;01mdef\u001b[39;00m \u001b[38;5;21mread_raw\u001b[39m(\u001b[38;5;28mself\u001b[39m, size: Optional[\u001b[38;5;28mint\u001b[39m] \u001b[38;5;241m=\u001b[39m \u001b[38;5;28;01mNone\u001b[39;00m) \u001b[38;5;241m-\u001b[39m\u001b[38;5;241m>\u001b[39m \u001b[38;5;28mbytes\u001b[39m:\n\u001b[0;32m    389\u001b[0m     \u001b[38;5;124;03m\"\"\"Read the unmodified string sent from the instrument to the computer.\u001b[39;00m\n\u001b[0;32m    390\u001b[0m \n\u001b[0;32m    391\u001b[0m \u001b[38;5;124;03m    In contrast to read(), no termination characters are stripped.\u001b[39;00m\n\u001b[1;32m   (...)\u001b[0m\n\u001b[0;32m    403\u001b[0m \n\u001b[0;32m    404\u001b[0m \u001b[38;5;124;03m    \"\"\"\u001b[39;00m\n\u001b[1;32m--> 405\u001b[0m     \u001b[38;5;28;01mreturn\u001b[39;00m \u001b[38;5;28mbytes\u001b[39m(\u001b[38;5;28;43mself\u001b[39;49m\u001b[38;5;241;43m.\u001b[39;49m\u001b[43m_read_raw\u001b[49m\u001b[43m(\u001b[49m\u001b[43msize\u001b[49m\u001b[43m)\u001b[49m)\n",
      "File \u001b[1;32m~\\.conda\\envs\\lfc\\lib\\site-packages\\pyvisa\\resources\\messagebased.py:442\u001b[0m, in \u001b[0;36mMessageBasedResource._read_raw\u001b[1;34m(self, size)\u001b[0m\n\u001b[0;32m    435\u001b[0m     \u001b[38;5;28;01mwhile\u001b[39;00m status \u001b[38;5;241m==\u001b[39m loop_status:\n\u001b[0;32m    436\u001b[0m         logger\u001b[38;5;241m.\u001b[39mdebug(\n\u001b[0;32m    437\u001b[0m             \u001b[38;5;124m\"\u001b[39m\u001b[38;5;132;01m%s\u001b[39;00m\u001b[38;5;124m - reading \u001b[39m\u001b[38;5;132;01m%d\u001b[39;00m\u001b[38;5;124m bytes (last status \u001b[39m\u001b[38;5;132;01m%r\u001b[39;00m\u001b[38;5;124m)\u001b[39m\u001b[38;5;124m\"\u001b[39m,\n\u001b[0;32m    438\u001b[0m             \u001b[38;5;28mself\u001b[39m\u001b[38;5;241m.\u001b[39m_resource_name,\n\u001b[0;32m    439\u001b[0m             size,\n\u001b[0;32m    440\u001b[0m             status,\n\u001b[0;32m    441\u001b[0m         )\n\u001b[1;32m--> 442\u001b[0m         chunk, status \u001b[38;5;241m=\u001b[39m \u001b[38;5;28;43mself\u001b[39;49m\u001b[38;5;241;43m.\u001b[39;49m\u001b[43mvisalib\u001b[49m\u001b[38;5;241;43m.\u001b[39;49m\u001b[43mread\u001b[49m\u001b[43m(\u001b[49m\u001b[38;5;28;43mself\u001b[39;49m\u001b[38;5;241;43m.\u001b[39;49m\u001b[43msession\u001b[49m\u001b[43m,\u001b[49m\u001b[43m \u001b[49m\u001b[43msize\u001b[49m\u001b[43m)\u001b[49m\n\u001b[0;32m    443\u001b[0m         ret\u001b[38;5;241m.\u001b[39mextend(chunk)\n\u001b[0;32m    444\u001b[0m \u001b[38;5;28;01mexcept\u001b[39;00m errors\u001b[38;5;241m.\u001b[39mVisaIOError \u001b[38;5;28;01mas\u001b[39;00m e:\n",
      "File \u001b[1;32m~\\.conda\\envs\\lfc\\lib\\site-packages\\pyvisa\\ctwrapper\\functions.py:2337\u001b[0m, in \u001b[0;36mread\u001b[1;34m(library, session, count)\u001b[0m\n\u001b[0;32m   2335\u001b[0m buffer \u001b[38;5;241m=\u001b[39m create_string_buffer(count)\n\u001b[0;32m   2336\u001b[0m return_count \u001b[38;5;241m=\u001b[39m ViUInt32()\n\u001b[1;32m-> 2337\u001b[0m ret \u001b[38;5;241m=\u001b[39m \u001b[43mlibrary\u001b[49m\u001b[38;5;241;43m.\u001b[39;49m\u001b[43mviRead\u001b[49m\u001b[43m(\u001b[49m\u001b[43msession\u001b[49m\u001b[43m,\u001b[49m\u001b[43m \u001b[49m\u001b[43mbuffer\u001b[49m\u001b[43m,\u001b[49m\u001b[43m \u001b[49m\u001b[43mcount\u001b[49m\u001b[43m,\u001b[49m\u001b[43m \u001b[49m\u001b[43mbyref\u001b[49m\u001b[43m(\u001b[49m\u001b[43mreturn_count\u001b[49m\u001b[43m)\u001b[49m\u001b[43m)\u001b[49m\n\u001b[0;32m   2338\u001b[0m \u001b[38;5;28;01mreturn\u001b[39;00m buffer\u001b[38;5;241m.\u001b[39mraw[: return_count\u001b[38;5;241m.\u001b[39mvalue], ret\n",
      "File \u001b[1;32m~\\.conda\\envs\\lfc\\lib\\site-packages\\pyvisa\\ctwrapper\\highlevel.py:222\u001b[0m, in \u001b[0;36mIVIVisaLibrary._return_handler\u001b[1;34m(self, ret_value, func, arguments)\u001b[0m\n\u001b[0;32m    219\u001b[0m         \u001b[38;5;66;03m# Set session back to a safe value\u001b[39;00m\n\u001b[0;32m    220\u001b[0m         session \u001b[38;5;241m=\u001b[39m \u001b[38;5;28;01mNone\u001b[39;00m\n\u001b[1;32m--> 222\u001b[0m \u001b[38;5;28;01mreturn\u001b[39;00m \u001b[38;5;28;43mself\u001b[39;49m\u001b[38;5;241;43m.\u001b[39;49m\u001b[43mhandle_return_value\u001b[49m\u001b[43m(\u001b[49m\u001b[43msession\u001b[49m\u001b[43m,\u001b[49m\u001b[43m \u001b[49m\u001b[43mret_value\u001b[49m\u001b[43m)\u001b[49m\n",
      "File \u001b[1;32m~\\.conda\\envs\\lfc\\lib\\site-packages\\pyvisa\\highlevel.py:251\u001b[0m, in \u001b[0;36mVisaLibraryBase.handle_return_value\u001b[1;34m(self, session, status_code)\u001b[0m\n\u001b[0;32m    248\u001b[0m     \u001b[38;5;28mself\u001b[39m\u001b[38;5;241m.\u001b[39m_last_status_in_session[session] \u001b[38;5;241m=\u001b[39m rv\n\u001b[0;32m    250\u001b[0m \u001b[38;5;28;01mif\u001b[39;00m rv \u001b[38;5;241m<\u001b[39m \u001b[38;5;241m0\u001b[39m:\n\u001b[1;32m--> 251\u001b[0m     \u001b[38;5;28;01mraise\u001b[39;00m errors\u001b[38;5;241m.\u001b[39mVisaIOError(rv)\n\u001b[0;32m    253\u001b[0m \u001b[38;5;28;01mif\u001b[39;00m rv \u001b[38;5;129;01min\u001b[39;00m \u001b[38;5;28mself\u001b[39m\u001b[38;5;241m.\u001b[39missue_warning_on:\n\u001b[0;32m    254\u001b[0m     \u001b[38;5;28;01mif\u001b[39;00m session \u001b[38;5;129;01mand\u001b[39;00m rv \u001b[38;5;129;01mnot\u001b[39;00m \u001b[38;5;129;01min\u001b[39;00m \u001b[38;5;28mself\u001b[39m\u001b[38;5;241m.\u001b[39m_ignore_warning_in_session[session]:\n",
      "\u001b[1;31mVisaIOError\u001b[0m: VI_ERROR_TMO (-1073807339): Timeout expired before operation completed."
     ]
    }
   ],
   "source": [
    "rio.disconnect()"
   ]
  },
  {
   "cell_type": "code",
   "execution_count": 5,
   "id": "543163ba",
   "metadata": {},
   "outputs": [
    {
     "data": {
      "text/plain": [
       "'RIO0175-3-22-4-CJ5'"
      ]
     },
     "execution_count": 5,
     "metadata": {},
     "output_type": "execute_result"
    }
   ],
   "source": [
    "productID['data'].decode()"
   ]
  },
  {
   "cell_type": "code",
   "execution_count": 6,
   "id": "9dc78801",
   "metadata": {},
   "outputs": [
    {
     "data": {
      "text/plain": [
       "132.35"
      ]
     },
     "execution_count": 6,
     "metadata": {},
     "output_type": "execute_result"
    }
   ],
   "source": [
    "v = int.from_bytes(rio.query(0x0a)['data'],byteorder='big')\n",
    "v*15/3600"
   ]
  },
  {
   "cell_type": "code",
   "execution_count": 28,
   "id": "d259e70a",
   "metadata": {},
   "outputs": [
    {
     "data": {
      "text/plain": [
       "9661"
      ]
     },
     "execution_count": 28,
     "metadata": {},
     "output_type": "execute_result"
    }
   ],
   "source": [
    "int.from_bytes(rio.query(0x1f)['data'], byteorder='big')"
   ]
  },
  {
   "cell_type": "code",
   "execution_count": 40,
   "id": "254ec5a9",
   "metadata": {},
   "outputs": [
    {
     "data": {
      "text/plain": [
       "{'valid': True,\n",
       " 'packetlength': 10,\n",
       " 'status': 0,\n",
       " 'cmdID': 31,\n",
       " 'data': bytearray(b'%\\xbd')}"
      ]
     },
     "execution_count": 40,
     "metadata": {},
     "output_type": "execute_result"
    }
   ],
   "source": [
    "rio.query(0x1f)"
   ]
  },
  {
   "cell_type": "code",
   "execution_count": 41,
   "id": "3463bea6",
   "metadata": {},
   "outputs": [],
   "source": [
    "rio.write(0x20, data=int.to_bytes(9500,length=2,byteorder='big') )"
   ]
  },
  {
   "cell_type": "code",
   "execution_count": 38,
   "id": "6a3be115",
   "metadata": {},
   "outputs": [
    {
     "data": {
      "text/plain": [
       "b'%\\x1c'"
      ]
     },
     "execution_count": 38,
     "metadata": {},
     "output_type": "execute_result"
    }
   ],
   "source": [
    "int.to_bytes(9500,length=2,byteorder='big')"
   ]
  },
  {
   "cell_type": "code",
   "execution_count": 94,
   "id": "94a81dae",
   "metadata": {},
   "outputs": [
    {
     "data": {
      "text/plain": [
       "0.4964896214896215"
      ]
     },
     "execution_count": 94,
     "metadata": {},
     "output_type": "execute_result"
    }
   ],
   "source": [
    "int.from_bytes(rio.query(0x13)['data'],byteorder='big')*2.5/65520"
   ]
  },
  {
   "cell_type": "code",
   "execution_count": 25,
   "id": "7541bb8f",
   "metadata": {},
   "outputs": [
    {
     "data": {
      "text/plain": [
       "2.0"
      ]
     },
     "execution_count": 25,
     "metadata": {},
     "output_type": "execute_result"
    }
   ],
   "source": [
    "import numpy as np\n",
    "np.log(2.71828)\n",
    "np.power(8,1/3)"
   ]
  },
  {
   "cell_type": "code",
   "execution_count": 77,
   "id": "46166962",
   "metadata": {},
   "outputs": [],
   "source": [
    "resp = rio.query(0x0e)['data']"
   ]
  },
  {
   "cell_type": "code",
   "execution_count": 4,
   "id": "7ac1d76f",
   "metadata": {},
   "outputs": [
    {
     "data": {
      "text/plain": [
       "25.901886293856478"
      ]
     },
     "execution_count": 4,
     "metadata": {},
     "output_type": "execute_result"
    }
   ],
   "source": [
    "rio.readTECsetpoint()"
   ]
  },
  {
   "cell_type": "code",
   "execution_count": 36,
   "id": "af6a7eb3",
   "metadata": {},
   "outputs": [
    {
     "data": {
      "text/plain": [
       "90.0"
      ]
     },
     "execution_count": 36,
     "metadata": {},
     "output_type": "execute_result"
    }
   ],
   "source": [
    "np.interp(0.8,Board_V, Board_T)"
   ]
  },
  {
   "cell_type": "code",
   "execution_count": 49,
   "id": "07d49356",
   "metadata": {},
   "outputs": [
    {
     "data": {
      "text/plain": [
       "nan"
      ]
     },
     "execution_count": 49,
     "metadata": {},
     "output_type": "execute_result"
    }
   ],
   "source": [
    "np.NaN"
   ]
  },
  {
   "cell_type": "code",
   "execution_count": 83,
   "id": "bca197e7",
   "metadata": {},
   "outputs": [
    {
     "name": "stdout",
     "output_type": "stream",
     "text": [
      "800214\n"
     ]
    }
   ],
   "source": [
    "print(f\"{0xc35d6}\")"
   ]
  },
  {
   "cell_type": "code",
   "execution_count": 82,
   "id": "19b81c7d",
   "metadata": {},
   "outputs": [
    {
     "data": {
      "text/plain": [
       "2"
      ]
     },
     "execution_count": 82,
     "metadata": {},
     "output_type": "execute_result"
    }
   ],
   "source": [
    "len([0xA5, 0xE8])"
   ]
  },
  {
   "cell_type": "code",
   "execution_count": null,
   "id": "df31270f",
   "metadata": {},
   "outputs": [],
   "source": []
  }
 ],
 "metadata": {
  "kernelspec": {
   "display_name": "Python 3 (ipykernel)",
   "language": "python",
   "name": "python3"
  },
  "language_info": {
   "codemirror_mode": {
    "name": "ipython",
    "version": 3
   },
   "file_extension": ".py",
   "mimetype": "text/x-python",
   "name": "python",
   "nbconvert_exporter": "python",
   "pygments_lexer": "ipython3",
   "version": "3.8.12"
  }
 },
 "nbformat": 4,
 "nbformat_minor": 5
}
