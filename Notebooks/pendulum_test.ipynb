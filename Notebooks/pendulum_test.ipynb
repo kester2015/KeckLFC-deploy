{
 "cells": [
  {
   "cell_type": "code",
   "execution_count": 1,
   "id": "c5afe255",
   "metadata": {},
   "outputs": [
    {
     "name": "stdout",
     "output_type": "stream",
     "text": [
      "Pendulum microwave counter connected\n"
     ]
    },
    {
     "data": {
      "text/plain": [
       "1"
      ]
     },
     "execution_count": 1,
     "metadata": {},
     "output_type": "execute_result"
    }
   ],
   "source": [
    "from LFC.Hardware.PendulumCNT90 import PendulumCNT90\n",
    "mfc = PendulumCNT90()\n",
    "mfc.connect()"
   ]
  },
  {
   "cell_type": "code",
   "execution_count": 5,
   "id": "625194e0",
   "metadata": {},
   "outputs": [
    {
     "data": {
      "text/plain": [
       "15999999933.17"
      ]
     },
     "execution_count": 5,
     "metadata": {},
     "output_type": "execute_result"
    }
   ],
   "source": [
    "mfc.measFreq('c')"
   ]
  },
  {
   "cell_type": "code",
   "execution_count": 6,
   "id": "b7dd7c49",
   "metadata": {},
   "outputs": [
    {
     "name": "stdout",
     "output_type": "stream",
     "text": [
      "Pendulum Freq Counter: Gate is turned on, measurement result is continuously updated on display.\n"
     ]
    }
   ],
   "source": [
    "mfc.run()"
   ]
  },
  {
   "cell_type": "code",
   "execution_count": null,
   "id": "f99aa35b",
   "metadata": {},
   "outputs": [],
   "source": []
  }
 ],
 "metadata": {
  "kernelspec": {
   "display_name": "Python 3 (ipykernel)",
   "language": "python",
   "name": "python3"
  },
  "language_info": {
   "codemirror_mode": {
    "name": "ipython",
    "version": 3
   },
   "file_extension": ".py",
   "mimetype": "text/x-python",
   "name": "python",
   "nbconvert_exporter": "python",
   "pygments_lexer": "ipython3",
   "version": "3.8.12"
  }
 },
 "nbformat": 4,
 "nbformat_minor": 5
}
