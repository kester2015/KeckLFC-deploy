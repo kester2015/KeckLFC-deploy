{
 "cells": [
  {
   "cell_type": "code",
   "execution_count": 1,
   "id": "d6aff396",
   "metadata": {},
   "outputs": [
    {
     "ename": "AttributeError",
     "evalue": "'AmonicsEDFA' object has no attribute 'inst'",
     "output_type": "error",
     "traceback": [
      "\u001b[1;31m---------------------------------------------------------------------------\u001b[0m",
      "\u001b[1;31mAttributeError\u001b[0m                            Traceback (most recent call last)",
      "Input \u001b[1;32mIn [1]\u001b[0m, in \u001b[0;36m<cell line: 2>\u001b[1;34m()\u001b[0m\n\u001b[0;32m      1\u001b[0m \u001b[38;5;28;01mfrom\u001b[39;00m \u001b[38;5;21;01mLFC\u001b[39;00m\u001b[38;5;21;01m.\u001b[39;00m\u001b[38;5;21;01mKeckLFC\u001b[39;00m \u001b[38;5;28;01mimport\u001b[39;00m KeckLFC\n\u001b[1;32m----> 2\u001b[0m lfc \u001b[38;5;241m=\u001b[39m \u001b[43mKeckLFC\u001b[49m\u001b[43m(\u001b[49m\u001b[43mamamp_addr\u001b[49m\u001b[43m \u001b[49m\u001b[38;5;241;43m=\u001b[39;49m\u001b[43m \u001b[49m\u001b[38;5;124;43m'\u001b[39;49m\u001b[38;5;124;43mASRL13::INSTR\u001b[39;49m\u001b[38;5;124;43m'\u001b[39;49m\u001b[43m,\u001b[49m\u001b[43m \u001b[49m\u001b[43mamamp_name\u001b[49m\u001b[43m \u001b[49m\u001b[38;5;241;43m=\u001b[39;49m\u001b[43m \u001b[49m\u001b[38;5;124;43m'\u001b[39;49m\u001b[38;5;124;43mAmonic 23dbm EDFA\u001b[39;49m\u001b[38;5;124;43m'\u001b[39;49m\u001b[43m,\u001b[49m\u001b[38;5;66;43;03m#'Amonic 6A 680mW EDFA',\u001b[39;49;00m\n\u001b[0;32m      3\u001b[0m \u001b[43m              \u001b[49m\u001b[43mptamp_addr\u001b[49m\u001b[43m \u001b[49m\u001b[38;5;241;43m=\u001b[39;49m\u001b[43m \u001b[49m\u001b[38;5;124;43m'\u001b[39;49m\u001b[38;5;124;43mASRL6::INSTR\u001b[39;49m\u001b[38;5;124;43m'\u001b[39;49m\u001b[43m,\u001b[49m\u001b[43m \u001b[49m\u001b[43mptamp_name\u001b[49m\u001b[43m \u001b[49m\u001b[38;5;241;43m=\u001b[39;49m\u001b[43m \u001b[49m\u001b[38;5;124;43m'\u001b[39;49m\u001b[38;5;124;43mPritel 3.85A 3.6W FA\u001b[39;49m\u001b[38;5;124;43m'\u001b[39;49m\u001b[43m,\u001b[49m\n\u001b[0;32m      4\u001b[0m \u001b[43m              \u001b[49m\u001b[43mRFoscPS_addr\u001b[49m\u001b[43m \u001b[49m\u001b[38;5;241;43m=\u001b[39;49m\u001b[43m \u001b[49m\u001b[38;5;124;43m'\u001b[39;49m\u001b[38;5;124;43mASRL5::INSTR\u001b[39;49m\u001b[38;5;124;43m'\u001b[39;49m\u001b[43m,\u001b[49m\u001b[43m \u001b[49m\u001b[43mRFoscPS_name\u001b[49m\u001b[43m \u001b[49m\u001b[38;5;241;43m=\u001b[39;49m\u001b[43m \u001b[49m\u001b[38;5;124;43m'\u001b[39;49m\u001b[38;5;124;43mRF oscillator Power Supply 15V 0.4A\u001b[39;49m\u001b[38;5;124;43m'\u001b[39;49m\u001b[43m,\u001b[49m\n\u001b[0;32m      5\u001b[0m \u001b[43m              \u001b[49m\u001b[43mRFampPS_addr\u001b[49m\u001b[43m \u001b[49m\u001b[38;5;241;43m=\u001b[39;49m\u001b[43m \u001b[49m\u001b[38;5;124;43m'\u001b[39;49m\u001b[38;5;124;43mASRL10::INSTR\u001b[39;49m\u001b[38;5;124;43m'\u001b[39;49m\u001b[43m,\u001b[49m\u001b[43m \u001b[49m\u001b[43mRFampPS_name\u001b[49m\u001b[43m \u001b[49m\u001b[38;5;241;43m=\u001b[39;49m\u001b[43m \u001b[49m\u001b[38;5;124;43m'\u001b[39;49m\u001b[38;5;124;43mRF amplifier Power Supply 30V 4.5A\u001b[39;49m\u001b[38;5;124;43m'\u001b[39;49m\u001b[43m,\u001b[49m\n\u001b[0;32m      6\u001b[0m \u001b[43m              \u001b[49m\u001b[43mrbclock_addr\u001b[49m\u001b[43m \u001b[49m\u001b[38;5;241;43m=\u001b[39;49m\u001b[43m \u001b[49m\u001b[38;5;124;43m'\u001b[39;49m\u001b[38;5;124;43mASRL9::INSTR\u001b[39;49m\u001b[38;5;124;43m'\u001b[39;49m\u001b[43m,\u001b[49m\u001b[43m \u001b[49m\u001b[43mrbclock_name\u001b[49m\u001b[43m \u001b[49m\u001b[38;5;241;43m=\u001b[39;49m\u001b[43m \u001b[49m\u001b[38;5;124;43m'\u001b[39;49m\u001b[38;5;124;43mFS725 Rubidium Frequency Standard\u001b[39;49m\u001b[38;5;124;43m'\u001b[39;49m\u001b[43m)\u001b[49m\n\u001b[0;32m      8\u001b[0m lfc\u001b[38;5;241m.\u001b[39mconnect_all()\n\u001b[0;32m      9\u001b[0m lfc\u001b[38;5;241m.\u001b[39mptamp\u001b[38;5;241m.\u001b[39m__pwrAmpMax \u001b[38;5;241m=\u001b[39m \u001b[38;5;241m4700\u001b[39m\n",
      "File \u001b[1;32mZ:\\Maodong\\Projects\\Keck\\Keck Comb\\LFC\\KeckLFC.py:24\u001b[0m, in \u001b[0;36mKeckLFC.__init__\u001b[1;34m(self, amamp_addr, amamp_name, amamp2_addr, amamp2_name, ptamp_addr, ptamp_name, RFoscPS_addr, RFoscPS_name, RFampPS_addr, RFampPS_name, rbclock_addr, rbclock_name, wsp_addr, wsp_name)\u001b[0m\n\u001b[0;32m     15\u001b[0m \u001b[38;5;28;01mdef\u001b[39;00m \u001b[38;5;21m__init__\u001b[39m(\u001b[38;5;28mself\u001b[39m, \n\u001b[0;32m     16\u001b[0m             amamp_addr \u001b[38;5;241m=\u001b[39m \u001b[38;5;124m'\u001b[39m\u001b[38;5;124mASRL13::INSTR\u001b[39m\u001b[38;5;124m'\u001b[39m, amamp_name \u001b[38;5;241m=\u001b[39m \u001b[38;5;124m'\u001b[39m\u001b[38;5;124mAmonic 6A 680mW EDFA\u001b[39m\u001b[38;5;124m'\u001b[39m,\n\u001b[0;32m     17\u001b[0m             amamp2_addr \u001b[38;5;241m=\u001b[39m \u001b[38;5;124m'\u001b[39m\u001b[38;5;124mASRL4::INSTR\u001b[39m\u001b[38;5;124m'\u001b[39m, amamp2_name \u001b[38;5;241m=\u001b[39m \u001b[38;5;124m'\u001b[39m\u001b[38;5;124mAmonic 13dbm EDFA\u001b[39m\u001b[38;5;124m'\u001b[39m,\n\u001b[1;32m   (...)\u001b[0m\n\u001b[0;32m     22\u001b[0m             wsp_addr \u001b[38;5;241m=\u001b[39m \u001b[38;5;124m'\u001b[39m\u001b[38;5;124mSN201904\u001b[39m\u001b[38;5;124m'\u001b[39m, wsp_name \u001b[38;5;241m=\u001b[39m \u001b[38;5;124m\"\u001b[39m\u001b[38;5;124mWS1\u001b[39m\u001b[38;5;124m\"\u001b[39m\n\u001b[0;32m     23\u001b[0m             ) \u001b[38;5;241m-\u001b[39m\u001b[38;5;241m>\u001b[39m \u001b[38;5;28;01mNone\u001b[39;00m:\n\u001b[1;32m---> 24\u001b[0m     \u001b[38;5;28mself\u001b[39m\u001b[38;5;241m.\u001b[39mamamp \u001b[38;5;241m=\u001b[39m \u001b[43mAmonicsEDFA\u001b[49m\u001b[43m(\u001b[49m\u001b[43maddr\u001b[49m\u001b[38;5;241;43m=\u001b[39;49m\u001b[43mamamp_addr\u001b[49m\u001b[43m,\u001b[49m\u001b[43m \u001b[49m\u001b[43mname\u001b[49m\u001b[43m \u001b[49m\u001b[38;5;241;43m=\u001b[39;49m\u001b[43m \u001b[49m\u001b[43mamamp_name\u001b[49m\u001b[43m)\u001b[49m\n\u001b[0;32m     25\u001b[0m     \u001b[38;5;28mself\u001b[39m\u001b[38;5;241m.\u001b[39mamamp2 \u001b[38;5;241m=\u001b[39m AmonicsEDFA(addr\u001b[38;5;241m=\u001b[39mamamp2_addr, name \u001b[38;5;241m=\u001b[39m amamp2_name)\n\u001b[0;32m     26\u001b[0m     \u001b[38;5;28mself\u001b[39m\u001b[38;5;241m.\u001b[39mptamp \u001b[38;5;241m=\u001b[39m PritelAmp(addr\u001b[38;5;241m=\u001b[39mptamp_addr, name\u001b[38;5;241m=\u001b[39mptamp_name)\n",
      "File \u001b[1;32mZ:\\Maodong\\Projects\\Keck\\Keck Comb\\LFC\\Hardware\\AmonicsEDFA.py:22\u001b[0m, in \u001b[0;36mAmonicsEDFA.__init__\u001b[1;34m(self, addr, name)\u001b[0m\n\u001b[0;32m     20\u001b[0m \u001b[38;5;28msuper\u001b[39m()\u001b[38;5;241m.\u001b[39m\u001b[38;5;21m__init__\u001b[39m(addr\u001b[38;5;241m=\u001b[39maddr, name\u001b[38;5;241m=\u001b[39mname)\n\u001b[0;32m     21\u001b[0m \u001b[38;5;28mself\u001b[39m\u001b[38;5;241m.\u001b[39m__activation_timeout \u001b[38;5;241m=\u001b[39m \u001b[38;5;241m3\u001b[39m  \u001b[38;5;66;03m# time to wait for device to turn on/off activation and channel status. in unit of second.\u001b[39;00m\n\u001b[1;32m---> 22\u001b[0m \u001b[38;5;28;43mself\u001b[39;49m\u001b[38;5;241;43m.\u001b[39;49m\u001b[43minst\u001b[49m\u001b[38;5;241m.\u001b[39mtimeout \u001b[38;5;241m=\u001b[39m \u001b[38;5;241m25000\u001b[39m  \u001b[38;5;66;03m# communication time-out time set in units of ms\u001b[39;00m\n\u001b[0;32m     23\u001b[0m \u001b[38;5;28mself\u001b[39m\u001b[38;5;241m.\u001b[39minst\u001b[38;5;241m.\u001b[39mbaud_rate \u001b[38;5;241m=\u001b[39m \u001b[38;5;241m19200\u001b[39m  \u001b[38;5;66;03m# baud rate is 9600 by default. THIS SETTING IS NECESSARY for success communication\u001b[39;00m\n\u001b[0;32m     24\u001b[0m \u001b[38;5;28mself\u001b[39m\u001b[38;5;241m.\u001b[39minst\u001b[38;5;241m.\u001b[39mread_termination \u001b[38;5;241m=\u001b[39m \u001b[38;5;124m'\u001b[39m\u001b[38;5;130;01m\\r\u001b[39;00m\u001b[38;5;130;01m\\n\u001b[39;00m\u001b[38;5;124m'\u001b[39m  \u001b[38;5;66;03m# read_termination is not specified by default.\u001b[39;00m\n",
      "\u001b[1;31mAttributeError\u001b[0m: 'AmonicsEDFA' object has no attribute 'inst'"
     ]
    }
   ],
   "source": [
    "from LFC.KeckLFC import KeckLFC\n",
    "lfc = KeckLFC(amamp_addr = 'ASRL13::INSTR', amamp_name = 'Amonic 23dbm EDFA',#'Amonic 6A 680mW EDFA',\n",
    "              ptamp_addr = 'ASRL6::INSTR', ptamp_name = 'Pritel 3.85A 3.6W FA',\n",
    "              RFoscPS_addr = 'ASRL5::INSTR', RFoscPS_name = 'RF oscillator Power Supply 15V 0.4A',\n",
    "              RFampPS_addr = 'ASRL10::INSTR', RFampPS_name = 'RF amplifier Power Supply 30V 4.5A',\n",
    "              rbclock_addr = 'ASRL9::INSTR', rbclock_name = 'FS725 Rubidium Frequency Standard')\n",
    "\n",
    "lfc.connect_all()\n",
    "lfc.ptamp.__pwrAmpMax = 4700 # set maximum you can go on pritel to 4.7A"
   ]
  },
  {
   "cell_type": "code",
   "execution_count": 3,
   "id": "7e07c50d",
   "metadata": {},
   "outputs": [
    {
     "name": "stdout",
     "output_type": "stream",
     "text": [
      "Amonic 6A 680mW EDFA connected\n",
      "Pritel 3.85A 3.6W FA connected\n",
      "RF amplifier Power Supply 30V 4.5A connected\n",
      "RF oscillator Power Supply 15V 0.4A connected\n",
      "FS725 Rubidium Frequency Standard connected\n",
      "Finisar Waveshaper SN201904 connected\n"
     ]
    }
   ],
   "source": []
  },
  {
   "cell_type": "code",
   "execution_count": 2,
   "id": "70942dbe",
   "metadata": {},
   "outputs": [
    {
     "name": "stdout",
     "output_type": "stream",
     "text": [
      "--------------------------------Amonic 23dbm EDFA--------------------------------\n",
      "|--------------------------Amonics EDFA Status Summary---------------------------\n",
      "|------------------Model: AEDFA-PM-23-R-FA, Serial No.22020702-------------------\n",
      "|\tInterLock Status: \u001b[1;34;42mUNLOCKED\u001b[0m\n",
      "|\tCase Temperature: 25.75°C\n",
      "|\tMaster Activation: \u001b[1;34;42mON\u001b[0m\n",
      "|\t------------Channel Summary-------------\n",
      "|\t CHANNEL1: \n",
      "|\t\t Mode: ACC\n",
      "|\t\t Set Cur: 380.0 mA\n",
      "|\t\t Status: \u001b[1;34;42mON\u001b[0m\n",
      "|\t\t Input Power: 1.157034 mW\n",
      "|\t\t Output Power: 201.3105 mW\n",
      "|\t\t Internal PD Power: 250.6396 mW\n",
      "------------------------Amonics EDFA Status Summary Ends------------------------\n",
      "\n",
      "--------------------------------Amonic 13dbm EDFA--------------------------------\n",
      "|--------------------------Amonics EDFA Status Summary---------------------------\n",
      "|------------------Model: AEDFA-PM-13-R-FA, Serial No.22020701-------------------\n",
      "|\tInterLock Status: \u001b[1;34;42mUNLOCKED\u001b[0m\n",
      "|\tCase Temperature: 25.56°C\n",
      "|\tMaster Activation: \u001b[1;34;42mON\u001b[0m\n",
      "|\t------------Channel Summary-------------\n",
      "|\t CHANNEL1: \n",
      "|\t\t Mode: ACC\n",
      "|\t\t Set Cur: 65.0 mA\n",
      "|\t\t Status: \u001b[1;34;42mON\u001b[0m\n",
      "|\t\t Input Power: 1.796749 mW\n",
      "|\t\t Output Power: 5.590559 mW\n",
      "|\t\t Internal PD Power: 20.95745 mW\n",
      "------------------------Amonics EDFA Status Summary Ends------------------------\n",
      "\n",
      "-------------------------------Pritel 3.85A 3.6W FA------------------------------\n",
      "|-----------------Pritel OPTICAL FIBER AMPLIFIER Status Summary------------------\n",
      "|\t Pump status: \u001b[1;34;41mOFF\u001b[0m\n",
      "|\t InputPower = 0 mW, \tPreAmp = 0 mA\n",
      "|\t OutputPower = 0.00 W, \tPwrAmp = 0.00 A\n",
      "|\t AutoShutDown Enabled. PowerAmp pump current is disabled.\n",
      "----------------Pritel OPTICAL FIBER AMPLIFIER Status Summary Ends---------------\n",
      "\n",
      "------------------------RF amplifier Power Supply 30V 4.5A-----------------------\n",
      "|-------------------Instek GPP DC Power Supply Status Summary--------------------\n",
      "|--------------------Model: GPP-1326, Serial No.SN:GET842785---------------------\n",
      "|\t------------Channel Summary-------------\n",
      "|\t CHANNEL1: Activation \u001b[1;34;42mON\u001b[0m.\n",
      "|\t\t VSET=30.000V, ISET=6.000A.\n",
      "|\t\t VOUT=29.995V, IOUT=4.377A.\n",
      "|\t\t Output power: 131.276W.\n",
      "|\t\t ---Over Voltage/Current Protection Status:---\n",
      "|\t\t OVP Status: OFF\t OCP Status: OFF \n",
      "|\t\t OVP Level : 35.0 V\t OCP Level : 7.0 A\n",
      "-----------------Instek GPP DC Power Supply Status Summary Ends-----------------\n",
      "\n",
      "-----------------------RF oscillator Power Supply 15V 0.4A-----------------------\n",
      "|----------------Instek DC Power Supply GPD-4303S Status Summary-----------------\n",
      "|--------------------Model: GPD-4303S, Serial No.SN:EV884423---------------------\n",
      "|\tMaster Activation: \u001b[1;34;42mON\u001b[0m\n",
      "|\t------------Channel Summary-------------\n",
      "|\t CH1: master, CH2: slave, mode UNRECOGNIZED?.\n",
      "|\t CHANNEL1: CV Mode.\n",
      "|\t\t VSET=1.088V, ISET=0.200A.\n",
      "|\t\t VOUT=1.086V, IOUT=0.000A.\n",
      "|\t\t Output power: 0.000W.\n",
      "|\t CHANNEL2: CV Mode.\n",
      "|\t\t VSET=15.000V, ISET=3.000A.\n",
      "|\t\t VOUT=14.994V, IOUT=0.416A.\n",
      "|\t\t Output power: 6.238W.\n",
      "|\t CHANNEL3: CV Mode.\n",
      "|\t\t VSET=0.000V, ISET=0.000A.\n",
      "|\t\t VOUT=0.000V, IOUT=0.002A.\n",
      "|\t\t Output power: 0.000W.\n",
      "|\t CHANNEL4: CV Mode.\n",
      "|\t\t VSET=0.000V, ISET=0.000A.\n",
      "|\t\t VOUT=0.000V, IOUT=0.000A.\n",
      "|\t\t Output power: 0.000W.\n",
      "--------------Instek DC Power Supply GPD-4303S Status Summary Ends--------------\n",
      "\n",
      "------------------------FS725 Rubidium Frequency Standard------------------------\n",
      "|----------------FS725 Rubidium Frequency Standard Status Summary----------------\n",
      "|-------------------------Model: FS725, Serial No.34437--------------------------\n",
      "|\t Phase Lock Status: \u001b[1;34;42mLOCKED\u001b[0m\n",
      "|\t Freq  Lock Status: \u001b[1;34;42mLOCKED\u001b[0m\n",
      "-------------FS725 Rubidium Frequency Standard Status Summary Ends--------------\n",
      "\n",
      "-------------------Finisar Waveshaper SN201904 Status Summary-------------------\n",
      "|\t Atten info: \n",
      "|\t Phase info: \n",
      "----------------Finisar Waveshaper SN201904 Status Summary Ends-----------------\n"
     ]
    },
    {
     "data": {
      "image/png": "[encoded data removed]",
      "text/plain": [
       "<Figure size 648x432 with 4 Axes>"
      ]
     },
     "metadata": {
      "needs_background": "light"
     },
     "output_type": "display_data"
    }
   ],
   "source": [
    "lfc.printStatus_all()"
   ]
  },
  {
   "cell_type": "code",
   "execution_count": 5,
   "id": "e0249cfb",
   "metadata": {},
   "outputs": [
    {
     "name": "stdout",
     "output_type": "stream",
     "text": [
      "-----------------------RF oscillator Power Supply 15V 0.4A-----------------------\n",
      "|----------------Instek DC Power Supply GPD-4303S Status Summary-----------------\n",
      "|--------------------Model: GPD-4303S, Serial No.SN:EV884423---------------------\n",
      "|\tMaster Activation: \u001b[1;34;42mON\u001b[0m\n",
      "|\t------------Channel Summary-------------\n",
      "|\t CH1: master, CH2: slave, mode UNRECOGNIZED?.\n",
      "|\t CHANNEL1: CV Mode.\n",
      "|\t\t VSET=1.088V, ISET=0.200A.\n",
      "|\t\t VOUT=1.086V, IOUT=0.000A.\n",
      "|\t\t Output power: 0.000W.\n",
      "|\t CHANNEL2: CV Mode.\n",
      "|\t\t VSET=15.000V, ISET=3.000A.\n",
      "|\t\t VOUT=14.994V, IOUT=0.416A.\n",
      "|\t\t Output power: 6.238W.\n",
      "|\t CHANNEL3: CV Mode.\n",
      "|\t\t VSET=0.000V, ISET=0.000A.\n",
      "|\t\t VOUT=0.000V, IOUT=0.002A.\n",
      "|\t\t Output power: 0.000W.\n",
      "|\t CHANNEL4: CV Mode.\n",
      "|\t\t VSET=0.000V, ISET=0.000A.\n",
      "|\t\t VOUT=0.000V, IOUT=0.000A.\n",
      "|\t\t Output power: 0.000W.\n",
      "--------------Instek DC Power Supply GPD-4303S Status Summary Ends--------------\n",
      "\n"
     ]
    },
    {
     "data": {
      "text/plain": [
       "'-----------------------RF oscillator Power Supply 15V 0.4A-----------------------\\n|----------------Instek DC Power Supply GPD-4303S Status Summary-----------------\\n|--------------------Model: GPD-4303S, Serial No.SN:EV884423---------------------\\n|\\tMaster Activation: \\x1b[1;34;42mON\\x1b[0m\\n|\\t------------Channel Summary-------------\\n|\\t CH1: master, CH2: slave, mode UNRECOGNIZED?.\\n|\\t CHANNEL1: CV Mode.\\n|\\t\\t VSET=1.088V, ISET=0.200A.\\n|\\t\\t VOUT=1.086V, IOUT=0.000A.\\n|\\t\\t Output power: 0.000W.\\n|\\t CHANNEL2: CV Mode.\\n|\\t\\t VSET=15.000V, ISET=3.000A.\\n|\\t\\t VOUT=14.994V, IOUT=0.416A.\\n|\\t\\t Output power: 6.238W.\\n|\\t CHANNEL3: CV Mode.\\n|\\t\\t VSET=0.000V, ISET=0.000A.\\n|\\t\\t VOUT=0.000V, IOUT=0.002A.\\n|\\t\\t Output power: 0.000W.\\n|\\t CHANNEL4: CV Mode.\\n|\\t\\t VSET=0.000V, ISET=0.000A.\\n|\\t\\t VOUT=0.000V, IOUT=0.000A.\\n|\\t\\t Output power: 0.000W.\\n--------------Instek DC Power Supply GPD-4303S Status Summary Ends--------------\\n'"
      ]
     },
     "execution_count": 5,
     "metadata": {},
     "output_type": "execute_result"
    }
   ],
   "source": [
    "# lfc.RFoscPS.connect()\n",
    "lfc.RFoscPS.printStatus()"
   ]
  },
  {
   "cell_type": "code",
   "execution_count": 2,
   "id": "abc514e4",
   "metadata": {},
   "outputs": [
    {
     "name": "stdout",
     "output_type": "stream",
     "text": [
      "------------------------Mini-Comb Turn UP process Begins------------------------\n",
      "Amonic 6A 680mW EDFA: CH1 mode set as APC\n",
      "Amonic 6A 680mW EDFA: setted APC mode CH1 current as 630.0 mW.\n",
      "Amonic 6A 680mW EDFA: ......waiting APC CH1 status set to ON, now OFF\n",
      "Amonic 6A 680mW EDFA: setted APC CH1 status as ON, finished in 0.078 seconds\n",
      "Amonic 6A 680mW EDFA: ACTIVATING LASER OUTPUT, MAKE SURE SEED INPUT POWER IS APPROPRIATE TO AVOID DAMAGE\n",
      "Amonic 6A 680mW EDFA: ......waiting Activation status set to ON, now OFF\n",
      "Amonic 6A 680mW EDFA: setted Activation status as ON, finished in 0.080 seconds\n",
      "Waiting Amonic output stablize to 630mW. Last 3 seconds ave = 0.0 mW....\n",
      "[  0.       0.     155.0811]\n",
      "Waiting Amonic output stablize to 630mW. Last 3 seconds ave = 51.6937 mW....\n",
      "[456.0571 447.8989 426.3382]\n",
      "Waiting Amonic output stablize to 630mW. Last 3 seconds ave = 443.4314 mW....\n",
      "[430.7086 451.978  447.0248]\n",
      "Waiting Amonic output stablize to 630mW. Last 3 seconds ave = 443.23713333333336 mW....\n",
      "[438.8668 421.6765 405.3602]\n",
      "Waiting Amonic output stablize to 630mW. Last 3 seconds ave = 421.9678333333334 mW....\n",
      "[420.511  431.2913 442.6544]\n",
      "Waiting Amonic output stablize to 630mW. Last 3 seconds ave = 431.4855666666667 mW....\n",
      "[445.2767 448.773  447.6076]\n",
      "Waiting Amonic output stablize to 630mW. Last 3 seconds ave = 447.2191 mW....\n",
      "[305.4234   0.       0.    ]\n",
      "Waiting Amonic output stablize to 630mW. Last 3 seconds ave = 101.8078 mW....\n"
     ]
    },
    {
     "ename": "KeyboardInterrupt",
     "evalue": "",
     "output_type": "error",
     "traceback": [
      "\u001b[1;31m---------------------------------------------------------------------------\u001b[0m",
      "\u001b[1;31mKeyboardInterrupt\u001b[0m                         Traceback (most recent call last)",
      "Input \u001b[1;32mIn [2]\u001b[0m, in \u001b[0;36m<cell line: 1>\u001b[1;34m()\u001b[0m\n\u001b[1;32m----> 1\u001b[0m \u001b[43mlfc\u001b[49m\u001b[38;5;241;43m.\u001b[39;49m\u001b[43mminicomb_Up\u001b[49m\u001b[43m(\u001b[49m\u001b[43m)\u001b[49m\n\u001b[0;32m      3\u001b[0m lfc\u001b[38;5;241m.\u001b[39mRFoscPS\u001b[38;5;241m.\u001b[39mVset1 \u001b[38;5;241m=\u001b[39m \u001b[38;5;241m1.8\u001b[39m \u001b[38;5;66;03m#0.15\u001b[39;00m\n\u001b[0;32m      4\u001b[0m lfc\u001b[38;5;241m.\u001b[39mRFoscPS\u001b[38;5;241m.\u001b[39mIset1 \u001b[38;5;241m=\u001b[39m \u001b[38;5;241m0.2\u001b[39m\n",
      "File \u001b[1;32mZ:\\Maodong\\Projects\\Keck\\Keck Comb\\LFC\\KeckLFC.py:91\u001b[0m, in \u001b[0;36mKeckLFC.minicomb_Up\u001b[1;34m(self, amonic_mode)\u001b[0m\n\u001b[0;32m     89\u001b[0m time\u001b[38;5;241m.\u001b[39msleep(\u001b[38;5;241m1\u001b[39m)\n\u001b[0;32m     90\u001b[0m amamp_out[\u001b[38;5;241m1\u001b[39m] \u001b[38;5;241m=\u001b[39m \u001b[38;5;28mself\u001b[39m\u001b[38;5;241m.\u001b[39mamamp\u001b[38;5;241m.\u001b[39moutputPowerCh1\n\u001b[1;32m---> 91\u001b[0m \u001b[43mtime\u001b[49m\u001b[38;5;241;43m.\u001b[39;49m\u001b[43msleep\u001b[49m\u001b[43m(\u001b[49m\u001b[38;5;241;43m1\u001b[39;49m\u001b[43m)\u001b[49m\n\u001b[0;32m     92\u001b[0m amamp_out[\u001b[38;5;241m2\u001b[39m] \u001b[38;5;241m=\u001b[39m \u001b[38;5;28mself\u001b[39m\u001b[38;5;241m.\u001b[39mamamp\u001b[38;5;241m.\u001b[39moutputPowerCh1\n\u001b[0;32m     93\u001b[0m \u001b[38;5;28mprint\u001b[39m(amamp_out)\n",
      "\u001b[1;31mKeyboardInterrupt\u001b[0m: "
     ]
    }
   ],
   "source": [
    "lfc.minicomb_Up()\n",
    "\n",
    "lfc.RFoscPS.Vset1 = 1.8 #0.15\n",
    "lfc.RFoscPS.Iset1 = 0.2"
   ]
  },
  {
   "cell_type": "code",
   "execution_count": 3,
   "id": "02ab7091",
   "metadata": {},
   "outputs": [
    {
     "name": "stdout",
     "output_type": "stream",
     "text": [
      "-----------------------Mini-Comb Turn DOWN process Begins-----------------------\n",
      "Amonic 13dbm EDFA: setted Activation status as OFF, finished in 0.030 seconds\n",
      "Amonic 13dbm EDFA: setted ACC CH1 status as OFF, finished in 0.030 seconds\n",
      "Amonic 23dbm EDFA: setted Activation status as OFF, finished in 0.050 seconds\n",
      "Amonic 23dbm EDFA: setted ACC CH1 status as OFF, finished in 0.030 seconds\n",
      "RF amplifier Power Supply 30V 4.5A: channel 1 output is turned OFF\n",
      "Waiting RF oscillator Power Supply output Down below 0.01A. Last 3 seconds ave = 4.3467 A....\n",
      "[0. 0. 0.]\n"
     ]
    },
    {
     "ename": "VisaIOError",
     "evalue": "VI_ERROR_TMO (-1073807339): Timeout expired before operation completed.",
     "output_type": "error",
     "traceback": [
      "\u001b[1;31m---------------------------------------------------------------------------\u001b[0m",
      "\u001b[1;31mVisaIOError\u001b[0m                               Traceback (most recent call last)",
      "Input \u001b[1;32mIn [3]\u001b[0m, in \u001b[0;36m<cell line: 1>\u001b[1;34m()\u001b[0m\n\u001b[1;32m----> 1\u001b[0m \u001b[43mlfc\u001b[49m\u001b[38;5;241;43m.\u001b[39;49m\u001b[43mminicomb_Down\u001b[49m\u001b[43m(\u001b[49m\u001b[43m)\u001b[49m\n",
      "File \u001b[1;32mZ:\\Maodong\\Projects\\Keck\\Keck Comb\\LFC\\KeckLFC.py:179\u001b[0m, in \u001b[0;36mKeckLFC.minicomb_Down\u001b[1;34m(self)\u001b[0m\n\u001b[0;32m    176\u001b[0m     rfampPS_out[\u001b[38;5;241m2\u001b[39m] \u001b[38;5;241m=\u001b[39m \u001b[38;5;28mself\u001b[39m\u001b[38;5;241m.\u001b[39mRFampPS\u001b[38;5;241m.\u001b[39mIout1\n\u001b[0;32m    177\u001b[0m     \u001b[38;5;28mprint\u001b[39m(rfampPS_out)\n\u001b[1;32m--> 179\u001b[0m rfoscPS_out \u001b[38;5;241m=\u001b[39m np\u001b[38;5;241m.\u001b[39marray([\u001b[38;5;241m1.\u001b[39m,\u001b[38;5;241m1.\u001b[39m,\u001b[38;5;241m1.\u001b[39m])\u001b[38;5;241m*\u001b[39m\u001b[38;5;28;43mself\u001b[39;49m\u001b[38;5;241;43m.\u001b[39;49m\u001b[43mRFoscPS\u001b[49m\u001b[38;5;241;43m.\u001b[39;49m\u001b[43mIout2\u001b[49m\n\u001b[0;32m    180\u001b[0m \u001b[38;5;28mself\u001b[39m\u001b[38;5;241m.\u001b[39mRFoscPS\u001b[38;5;241m.\u001b[39mactivation \u001b[38;5;241m=\u001b[39m \u001b[38;5;241m0\u001b[39m\n\u001b[0;32m    181\u001b[0m \u001b[38;5;28;01mwhile\u001b[39;00m \u001b[38;5;129;01mnot\u001b[39;00m (np\u001b[38;5;241m.\u001b[39mmean(rfoscPS_out)\u001b[38;5;241m<\u001b[39m\u001b[38;5;241m0.01\u001b[39m):\n",
      "File \u001b[1;32mZ:\\Maodong\\Projects\\Keck\\Keck Comb\\LFC\\Hardware\\InstekGPD_4303S.py:74\u001b[0m, in \u001b[0;36mInstekGPD_4303S.Iout2\u001b[1;34m(self)\u001b[0m\n\u001b[0;32m     72\u001b[0m \u001b[38;5;129m@property\u001b[39m\n\u001b[0;32m     73\u001b[0m \u001b[38;5;28;01mdef\u001b[39;00m \u001b[38;5;21mIout2\u001b[39m(\u001b[38;5;28mself\u001b[39m):\n\u001b[1;32m---> 74\u001b[0m     \u001b[38;5;28;01mreturn\u001b[39;00m \u001b[38;5;28;43mself\u001b[39;49m\u001b[38;5;241;43m.\u001b[39;49m\u001b[43m_getIOUT\u001b[49m\u001b[43m(\u001b[49m\u001b[43mchannel\u001b[49m\u001b[38;5;241;43m=\u001b[39;49m\u001b[38;5;241;43m2\u001b[39;49m\u001b[43m)\u001b[49m\n",
      "File \u001b[1;32mZ:\\Maodong\\Projects\\Keck\\Keck Comb\\LFC\\Hardware\\InstekGPD_4303S.py:260\u001b[0m, in \u001b[0;36mInstekGPD_4303S._getIOUT\u001b[1;34m(self, channel)\u001b[0m\n\u001b[0;32m    259\u001b[0m \u001b[38;5;28;01mdef\u001b[39;00m \u001b[38;5;21m_getIOUT\u001b[39m(\u001b[38;5;28mself\u001b[39m, channel\u001b[38;5;241m=\u001b[39m\u001b[38;5;241m1\u001b[39m):\n\u001b[1;32m--> 260\u001b[0m     \u001b[38;5;28;43mself\u001b[39;49m\u001b[38;5;241;43m.\u001b[39;49m\u001b[43m__validate_channel\u001b[49m\u001b[43m(\u001b[49m\u001b[43mchannel\u001b[49m\u001b[43m)\u001b[49m\n\u001b[0;32m    261\u001b[0m     cmd \u001b[38;5;241m=\u001b[39m \u001b[38;5;124mf\u001b[39m\u001b[38;5;124m\"\u001b[39m\u001b[38;5;124mIOUT\u001b[39m\u001b[38;5;132;01m{\u001b[39;00mchannel\u001b[38;5;132;01m:\u001b[39;00m\u001b[38;5;124m.0f\u001b[39m\u001b[38;5;132;01m}\u001b[39;00m\u001b[38;5;124m?\u001b[39m\u001b[38;5;124m\"\u001b[39m\n\u001b[0;32m    262\u001b[0m     \u001b[38;5;28;01mreturn\u001b[39;00m \u001b[38;5;28mself\u001b[39m\u001b[38;5;241m.\u001b[39m__current_str_to_A(\u001b[38;5;28mself\u001b[39m\u001b[38;5;241m.\u001b[39mquery(cmd))\n",
      "File \u001b[1;32mZ:\\Maodong\\Projects\\Keck\\Keck Comb\\LFC\\Hardware\\InstekGPD_4303S.py:332\u001b[0m, in \u001b[0;36mInstekGPD_4303S.__validate_channel\u001b[1;34m(self, channel)\u001b[0m\n\u001b[0;32m    331\u001b[0m \u001b[38;5;28;01mdef\u001b[39;00m \u001b[38;5;21m__validate_channel\u001b[39m(\u001b[38;5;28mself\u001b[39m, channel):  \u001b[38;5;66;03m# validate specified channel exists in certain model, return True if valid\u001b[39;00m\n\u001b[1;32m--> 332\u001b[0m     \u001b[38;5;28;01mif\u001b[39;00m \u001b[38;5;28;43mself\u001b[39;49m\u001b[38;5;241;43m.\u001b[39;49m\u001b[43mmodelNumber\u001b[49m \u001b[38;5;241m==\u001b[39m \u001b[38;5;124m'\u001b[39m\u001b[38;5;124mGPD-4303S\u001b[39m\u001b[38;5;124m'\u001b[39m:\n\u001b[0;32m    333\u001b[0m         valid \u001b[38;5;241m=\u001b[39m \u001b[38;5;28;01mTrue\u001b[39;00m \u001b[38;5;28;01mif\u001b[39;00m channel \u001b[38;5;129;01min\u001b[39;00m [\u001b[38;5;241m1\u001b[39m, \u001b[38;5;241m2\u001b[39m, \u001b[38;5;241m3\u001b[39m, \u001b[38;5;241m4\u001b[39m] \u001b[38;5;28;01melse\u001b[39;00m \u001b[38;5;28;01mFalse\u001b[39;00m\n\u001b[0;32m    334\u001b[0m         \u001b[38;5;28;01mif\u001b[39;00m \u001b[38;5;129;01mnot\u001b[39;00m valid:\n",
      "File \u001b[1;32mZ:\\Maodong\\Projects\\Keck\\Keck Comb\\LFC\\Hardware\\InstekGPD_4303S.py:23\u001b[0m, in \u001b[0;36mInstekGPD_4303S.modelNumber\u001b[1;34m(self)\u001b[0m\n\u001b[0;32m     21\u001b[0m \u001b[38;5;129m@property\u001b[39m\n\u001b[0;32m     22\u001b[0m \u001b[38;5;28;01mdef\u001b[39;00m \u001b[38;5;21mmodelNumber\u001b[39m(\u001b[38;5;28mself\u001b[39m):\n\u001b[1;32m---> 23\u001b[0m     \u001b[38;5;28;01mreturn\u001b[39;00m \u001b[38;5;28;43mself\u001b[39;49m\u001b[38;5;241;43m.\u001b[39;49m\u001b[43m_IDN\u001b[49m\u001b[38;5;241m.\u001b[39msplit(\u001b[38;5;124m'\u001b[39m\u001b[38;5;124m,\u001b[39m\u001b[38;5;124m'\u001b[39m)[\u001b[38;5;241m1\u001b[39m]\n",
      "File \u001b[1;32mZ:\\Maodong\\Projects\\Keck\\Keck Comb\\LFC\\Hardware\\InstekGPD_4303S.py:20\u001b[0m, in \u001b[0;36mInstekGPD_4303S._IDN\u001b[1;34m(self)\u001b[0m\n\u001b[0;32m     17\u001b[0m \u001b[38;5;129m@property\u001b[39m\n\u001b[0;32m     18\u001b[0m \u001b[38;5;28;01mdef\u001b[39;00m \u001b[38;5;21m_IDN\u001b[39m(\u001b[38;5;28mself\u001b[39m):\n\u001b[0;32m     19\u001b[0m     cmd \u001b[38;5;241m=\u001b[39m \u001b[38;5;124m\"\u001b[39m\u001b[38;5;124m*IDN?\u001b[39m\u001b[38;5;124m\"\u001b[39m\n\u001b[1;32m---> 20\u001b[0m     \u001b[38;5;28;01mreturn\u001b[39;00m \u001b[38;5;28;43mself\u001b[39;49m\u001b[38;5;241;43m.\u001b[39;49m\u001b[43mquery\u001b[49m\u001b[43m(\u001b[49m\u001b[43mcmd\u001b[49m\u001b[43m)\u001b[49m\n",
      "File \u001b[1;32mZ:\\Maodong\\Projects\\Keck\\Keck Comb\\LFC\\Hardware\\Device.py:47\u001b[0m, in \u001b[0;36mDevice.query\u001b[1;34m(self, cmd)\u001b[0m\n\u001b[0;32m     46\u001b[0m \u001b[38;5;28;01mdef\u001b[39;00m \u001b[38;5;21mquery\u001b[39m(\u001b[38;5;28mself\u001b[39m, cmd):\n\u001b[1;32m---> 47\u001b[0m     \u001b[38;5;28;01mreturn\u001b[39;00m \u001b[38;5;28;43mself\u001b[39;49m\u001b[38;5;241;43m.\u001b[39;49m\u001b[43minst\u001b[49m\u001b[38;5;241;43m.\u001b[39;49m\u001b[43mquery\u001b[49m\u001b[43m(\u001b[49m\u001b[43mcmd\u001b[49m\u001b[43m)\u001b[49m\n",
      "File \u001b[1;32m~\\.conda\\envs\\lfc\\lib\\site-packages\\pyvisa\\resources\\messagebased.py:644\u001b[0m, in \u001b[0;36mMessageBasedResource.query\u001b[1;34m(self, message, delay)\u001b[0m\n\u001b[0;32m    641\u001b[0m \u001b[38;5;28;01mif\u001b[39;00m delay \u001b[38;5;241m>\u001b[39m \u001b[38;5;241m0.0\u001b[39m:\n\u001b[0;32m    642\u001b[0m     time\u001b[38;5;241m.\u001b[39msleep(delay)\n\u001b[1;32m--> 644\u001b[0m \u001b[38;5;28;01mreturn\u001b[39;00m \u001b[38;5;28;43mself\u001b[39;49m\u001b[38;5;241;43m.\u001b[39;49m\u001b[43mread\u001b[49m\u001b[43m(\u001b[49m\u001b[43m)\u001b[49m\n",
      "File \u001b[1;32m~\\.conda\\envs\\lfc\\lib\\site-packages\\pyvisa\\resources\\messagebased.py:486\u001b[0m, in \u001b[0;36mMessageBasedResource.read\u001b[1;34m(self, termination, encoding)\u001b[0m\n\u001b[0;32m    484\u001b[0m \u001b[38;5;28;01mif\u001b[39;00m termination \u001b[38;5;129;01mis\u001b[39;00m \u001b[38;5;28;01mNone\u001b[39;00m:\n\u001b[0;32m    485\u001b[0m     termination \u001b[38;5;241m=\u001b[39m \u001b[38;5;28mself\u001b[39m\u001b[38;5;241m.\u001b[39m_read_termination\n\u001b[1;32m--> 486\u001b[0m     message \u001b[38;5;241m=\u001b[39m \u001b[38;5;28;43mself\u001b[39;49m\u001b[38;5;241;43m.\u001b[39;49m\u001b[43m_read_raw\u001b[49m\u001b[43m(\u001b[49m\u001b[43m)\u001b[49m\u001b[38;5;241m.\u001b[39mdecode(enco)\n\u001b[0;32m    487\u001b[0m \u001b[38;5;28;01melse\u001b[39;00m:\n\u001b[0;32m    488\u001b[0m     \u001b[38;5;28;01mwith\u001b[39;00m \u001b[38;5;28mself\u001b[39m\u001b[38;5;241m.\u001b[39mread_termination_context(termination):\n",
      "File \u001b[1;32m~\\.conda\\envs\\lfc\\lib\\site-packages\\pyvisa\\resources\\messagebased.py:442\u001b[0m, in \u001b[0;36mMessageBasedResource._read_raw\u001b[1;34m(self, size)\u001b[0m\n\u001b[0;32m    435\u001b[0m     \u001b[38;5;28;01mwhile\u001b[39;00m status \u001b[38;5;241m==\u001b[39m loop_status:\n\u001b[0;32m    436\u001b[0m         logger\u001b[38;5;241m.\u001b[39mdebug(\n\u001b[0;32m    437\u001b[0m             \u001b[38;5;124m\"\u001b[39m\u001b[38;5;132;01m%s\u001b[39;00m\u001b[38;5;124m - reading \u001b[39m\u001b[38;5;132;01m%d\u001b[39;00m\u001b[38;5;124m bytes (last status \u001b[39m\u001b[38;5;132;01m%r\u001b[39;00m\u001b[38;5;124m)\u001b[39m\u001b[38;5;124m\"\u001b[39m,\n\u001b[0;32m    438\u001b[0m             \u001b[38;5;28mself\u001b[39m\u001b[38;5;241m.\u001b[39m_resource_name,\n\u001b[0;32m    439\u001b[0m             size,\n\u001b[0;32m    440\u001b[0m             status,\n\u001b[0;32m    441\u001b[0m         )\n\u001b[1;32m--> 442\u001b[0m         chunk, status \u001b[38;5;241m=\u001b[39m \u001b[38;5;28;43mself\u001b[39;49m\u001b[38;5;241;43m.\u001b[39;49m\u001b[43mvisalib\u001b[49m\u001b[38;5;241;43m.\u001b[39;49m\u001b[43mread\u001b[49m\u001b[43m(\u001b[49m\u001b[38;5;28;43mself\u001b[39;49m\u001b[38;5;241;43m.\u001b[39;49m\u001b[43msession\u001b[49m\u001b[43m,\u001b[49m\u001b[43m \u001b[49m\u001b[43msize\u001b[49m\u001b[43m)\u001b[49m\n\u001b[0;32m    443\u001b[0m         ret\u001b[38;5;241m.\u001b[39mextend(chunk)\n\u001b[0;32m    444\u001b[0m \u001b[38;5;28;01mexcept\u001b[39;00m errors\u001b[38;5;241m.\u001b[39mVisaIOError \u001b[38;5;28;01mas\u001b[39;00m e:\n",
      "File \u001b[1;32m~\\.conda\\envs\\lfc\\lib\\site-packages\\pyvisa\\ctwrapper\\functions.py:2337\u001b[0m, in \u001b[0;36mread\u001b[1;34m(library, session, count)\u001b[0m\n\u001b[0;32m   2335\u001b[0m buffer \u001b[38;5;241m=\u001b[39m create_string_buffer(count)\n\u001b[0;32m   2336\u001b[0m return_count \u001b[38;5;241m=\u001b[39m ViUInt32()\n\u001b[1;32m-> 2337\u001b[0m ret \u001b[38;5;241m=\u001b[39m \u001b[43mlibrary\u001b[49m\u001b[38;5;241;43m.\u001b[39;49m\u001b[43mviRead\u001b[49m\u001b[43m(\u001b[49m\u001b[43msession\u001b[49m\u001b[43m,\u001b[49m\u001b[43m \u001b[49m\u001b[43mbuffer\u001b[49m\u001b[43m,\u001b[49m\u001b[43m \u001b[49m\u001b[43mcount\u001b[49m\u001b[43m,\u001b[49m\u001b[43m \u001b[49m\u001b[43mbyref\u001b[49m\u001b[43m(\u001b[49m\u001b[43mreturn_count\u001b[49m\u001b[43m)\u001b[49m\u001b[43m)\u001b[49m\n\u001b[0;32m   2338\u001b[0m \u001b[38;5;28;01mreturn\u001b[39;00m buffer\u001b[38;5;241m.\u001b[39mraw[: return_count\u001b[38;5;241m.\u001b[39mvalue], ret\n",
      "File \u001b[1;32m~\\.conda\\envs\\lfc\\lib\\site-packages\\pyvisa\\ctwrapper\\highlevel.py:222\u001b[0m, in \u001b[0;36mIVIVisaLibrary._return_handler\u001b[1;34m(self, ret_value, func, arguments)\u001b[0m\n\u001b[0;32m    219\u001b[0m         \u001b[38;5;66;03m# Set session back to a safe value\u001b[39;00m\n\u001b[0;32m    220\u001b[0m         session \u001b[38;5;241m=\u001b[39m \u001b[38;5;28;01mNone\u001b[39;00m\n\u001b[1;32m--> 222\u001b[0m \u001b[38;5;28;01mreturn\u001b[39;00m \u001b[38;5;28;43mself\u001b[39;49m\u001b[38;5;241;43m.\u001b[39;49m\u001b[43mhandle_return_value\u001b[49m\u001b[43m(\u001b[49m\u001b[43msession\u001b[49m\u001b[43m,\u001b[49m\u001b[43m \u001b[49m\u001b[43mret_value\u001b[49m\u001b[43m)\u001b[49m\n",
      "File \u001b[1;32m~\\.conda\\envs\\lfc\\lib\\site-packages\\pyvisa\\highlevel.py:251\u001b[0m, in \u001b[0;36mVisaLibraryBase.handle_return_value\u001b[1;34m(self, session, status_code)\u001b[0m\n\u001b[0;32m    248\u001b[0m     \u001b[38;5;28mself\u001b[39m\u001b[38;5;241m.\u001b[39m_last_status_in_session[session] \u001b[38;5;241m=\u001b[39m rv\n\u001b[0;32m    250\u001b[0m \u001b[38;5;28;01mif\u001b[39;00m rv \u001b[38;5;241m<\u001b[39m \u001b[38;5;241m0\u001b[39m:\n\u001b[1;32m--> 251\u001b[0m     \u001b[38;5;28;01mraise\u001b[39;00m errors\u001b[38;5;241m.\u001b[39mVisaIOError(rv)\n\u001b[0;32m    253\u001b[0m \u001b[38;5;28;01mif\u001b[39;00m rv \u001b[38;5;129;01min\u001b[39;00m \u001b[38;5;28mself\u001b[39m\u001b[38;5;241m.\u001b[39missue_warning_on:\n\u001b[0;32m    254\u001b[0m     \u001b[38;5;28;01mif\u001b[39;00m session \u001b[38;5;129;01mand\u001b[39;00m rv \u001b[38;5;129;01mnot\u001b[39;00m \u001b[38;5;129;01min\u001b[39;00m \u001b[38;5;28mself\u001b[39m\u001b[38;5;241m.\u001b[39m_ignore_warning_in_session[session]:\n",
      "\u001b[1;31mVisaIOError\u001b[0m: VI_ERROR_TMO (-1073807339): Timeout expired before operation completed."
     ]
    }
   ],
   "source": [
    "lfc.minicomb_Down()"
   ]
  },
  {
   "cell_type": "code",
   "execution_count": 4,
   "id": "1aaa2fde",
   "metadata": {},
   "outputs": [
    {
     "name": "stdout",
     "output_type": "stream",
     "text": [
      "-------------------------------Amonic 6A 680mW EDFA------------------------------\n",
      "|--------------------------Amonics EDFA Status Summary---------------------------\n",
      "|------------------Model: AEDFA-PM-27-R-FA, Serial No.21082531-------------------\n",
      "|\tInterLock Status: \u001b[1;34;42mUNLOCKED\u001b[0m\n",
      "|\tCase Temperature: 24.85°C\n",
      "|\tMaster Activation: \u001b[1;34;42mON\u001b[0m\n",
      "|\t------------Channel Summary-------------\n",
      "|\t CHANNEL1: \n",
      "|\t\t Mode: APC\n",
      "|\t\t Cur/Pow: 630.0 mA/mW\n",
      "|\t\t Status: \u001b[1;34;42mON\u001b[0m\n",
      "|\t\t Output Power: 630.8737mW\n",
      "|\t\t Internal PD Power: 311.13mW\n",
      "------------------------Amonics EDFA Status Summary Ends------------------------\n",
      "\n",
      "-------------------------------Pritel 3.85A 3.6W FA------------------------------\n",
      "|-----------------Pritel OPTICAL FIBER AMPLIFIER Status Summary------------------\n",
      "|\t Pump status: \u001b[1;34;41mOFF\u001b[0m\n",
      "|\t InputPower = 0 mW, \tPreAmp = 0 mA\n",
      "|\t OutputPower = 0.00 W, \tPwrAmp = 0.00 A\n",
      "|\t AutoShutDown Enabled. PowerAmp pump current is disabled.\n",
      "----------------Pritel OPTICAL FIBER AMPLIFIER Status Summary Ends---------------\n",
      "\n",
      "------------------------RF amplifier Power Supply 30V 4.5A-----------------------\n",
      "|-------------------Instek GPP DC Power Supply Status Summary--------------------\n",
      "|--------------------Model: GPP-1326, Serial No.SN:GET842785---------------------\n",
      "|\t------------Channel Summary-------------\n",
      "|\t CHANNEL1: Activation \u001b[1;34;42mON\u001b[0m.\n",
      "|\t\t VSET=30.000V, ISET=5.000A.\n",
      "|\t\t VOUT=29.995V, IOUT=4.388A.\n",
      "|\t\t Output power: 131.627W.\n",
      "|\t\t ---Over Voltage/Current Protection Status:---\n",
      "|\t\t OVP Status: OFF\t OCP Status: OFF \n",
      "|\t\t OVP Level : 35.0 V\t OCP Level : 7.0 A\n",
      "-----------------Instek GPP DC Power Supply Status Summary Ends-----------------\n",
      "\n",
      "-----------------------RF oscillator Power Supply 15V 0.4A-----------------------\n",
      "|----------------Instek DC Power Supply GPD-4303S Status Summary-----------------\n",
      "|--------------------Model: GPD-4303S, Serial No.SN:EV884423---------------------\n",
      "|\tMaster Activation: \u001b[1;34;42mON\u001b[0m\n",
      "|\t------------Channel Summary-------------\n",
      "|\t CH1: master, CH2: slave, mode UNRECOGNIZED?.\n",
      "|\t CHANNEL1: CV Mode.\n",
      "|\t\t VSET=0.200V, ISET=0.200A.\n",
      "|\t\t VOUT=0.199V, IOUT=0.000A.\n",
      "|\t\t Output power: 0.000W.\n",
      "|\t CHANNEL2: CV Mode.\n",
      "|\t\t VSET=15.000V, ISET=3.000A.\n",
      "|\t\t VOUT=14.993V, IOUT=0.413A.\n",
      "|\t\t Output power: 6.192W.\n",
      "|\t CHANNEL3: CV Mode.\n",
      "|\t\t VSET=0.000V, ISET=0.000A.\n",
      "|\t\t VOUT=0.000V, IOUT=0.002A.\n",
      "|\t\t Output power: 0.000W.\n",
      "|\t CHANNEL4: CV Mode.\n",
      "|\t\t VSET=0.000V, ISET=0.000A.\n",
      "|\t\t VOUT=0.000V, IOUT=0.001A.\n",
      "|\t\t Output power: 0.000W.\n",
      "--------------Instek DC Power Supply GPD-4303S Status Summary Ends--------------\n",
      "\n",
      "------------------------FS725 Rubidium Frequency Standard------------------------\n",
      "|----------------FS725 Rubidium Frequency Standard Status Summary----------------\n",
      "|-------------------------Model: FS725, Serial No.34437--------------------------\n",
      "|\t Phase Lock Status: \u001b[1;34;42mLOCKED\u001b[0m\n",
      "|\t Freq  Lock Status: \u001b[1;34;42mLOCKED\u001b[0m\n",
      "-------------FS725 Rubidium Frequency Standard Status Summary Ends--------------\n",
      "\n",
      "-------------------Finisar Waveshaper SN201904 Status Summary-------------------\n",
      "|\t Atten info: \n",
      "|\t Phase info: \n",
      "----------------Finisar Waveshaper SN201904 Status Summary Ends-----------------\n"
     ]
    },
    {
     "data": {
      "image/png": "[encoded data removed]",
      "text/plain": [
       "<Figure size 648x432 with 4 Axes>"
      ]
     },
     "metadata": {
      "needs_background": "light"
     },
     "output_type": "display_data"
    }
   ],
   "source": [
    "lfc.printStatus_all()"
   ]
  },
  {
   "cell_type": "code",
   "execution_count": 8,
   "id": "41528923",
   "metadata": {},
   "outputs": [
    {
     "name": "stdout",
     "output_type": "stream",
     "text": [
      "-------------------------------Amonic 6A 680mW EDFA------------------------------\n",
      "|--------------------------Amonics EDFA Status Summary---------------------------\n",
      "|------------------Model: AEDFA-PM-27-R-FA, Serial No.21082531-------------------\n",
      "|\tInterLock Status: \u001b[1;34;42mUNLOCKED\u001b[0m\n",
      "|\tCase Temperature: 21.25°C\n",
      "|\tMaster Activation: \u001b[1;34;42mON\u001b[0m\n",
      "|\t------------Channel Summary-------------\n",
      "|\t CHANNEL1: \n",
      "|\t\t Mode: APC\n",
      "|\t\t Cur/Pow: 630.0 mA/mW\n",
      "|\t\t Status: \u001b[1;34;42mON\u001b[0m\n",
      "|\t\t Output Power: 630.8737mW\n",
      "|\t\t Internal PD Power: 310.4904mW\n",
      "------------------------Amonics EDFA Status Summary Ends------------------------\n",
      "\n",
      "-------------------------------Pritel 3.85A 3.6W FA------------------------------\n",
      "|-----------------Pritel OPTICAL FIBER AMPLIFIER Status Summary------------------\n",
      "|\t Pump status: \u001b[1;34;41mOFF\u001b[0m\n",
      "|\t InputPower = 0 mW, \tPreAmp = 0 mA\n",
      "|\t OutputPower = 0.00 W, \tPwrAmp = 0.00 A\n",
      "|\t AutoShutDown Enabled. PowerAmp pump current is disabled.\n",
      "----------------Pritel OPTICAL FIBER AMPLIFIER Status Summary Ends---------------\n",
      "\n",
      "------------------------RF amplifier Power Supply 30V 4.5A-----------------------\n",
      "|-------------------Instek GPP DC Power Supply Status Summary--------------------\n",
      "|--------------------Model: GPP-1326, Serial No.SN:GET842785---------------------\n",
      "|\t------------Channel Summary-------------\n",
      "|\t CHANNEL1: Activation \u001b[1;34;42mON\u001b[0m.\n",
      "|\t\t VSET=30.000V, ISET=5.000A.\n",
      "|\t\t VOUT=29.996V, IOUT=4.394A.\n",
      "|\t\t Output power: 131.817W.\n",
      "|\t\t ---Over Voltage/Current Protection Status:---\n",
      "|\t\t OVP Status: OFF\t OCP Status: OFF \n",
      "|\t\t OVP Level : 35.0 V\t OCP Level : 7.0 A\n",
      "-----------------Instek GPP DC Power Supply Status Summary Ends-----------------\n",
      "\n",
      "-----------------------RF oscillator Power Supply 15V 0.4A-----------------------\n",
      "|----------------Instek DC Power Supply GPD-4303S Status Summary-----------------\n",
      "|--------------------Model: GPD-4303S, Serial No.SN:EV884423---------------------\n",
      "|\tMaster Activation: \u001b[1;34;42mON\u001b[0m\n",
      "|\t------------Channel Summary-------------\n",
      "|\t CH1: master, CH2: slave, mode UNRECOGNIZED?.\n",
      "|\t CHANNEL1: CC Mode.\n",
      "|\t\t VSET=0.000V, ISET=0.000A.\n",
      "|\t\t VOUT=0.000V, IOUT=0.000A.\n",
      "|\t\t Output power: 0.000W.\n",
      "|\t CHANNEL2: CV Mode.\n",
      "|\t\t VSET=15.000V, ISET=3.000A.\n",
      "|\t\t VOUT=14.994V, IOUT=0.422A.\n",
      "|\t\t Output power: 6.327W.\n",
      "|\t CHANNEL3: CV Mode.\n",
      "|\t\t VSET=0.000V, ISET=0.000A.\n",
      "|\t\t VOUT=0.000V, IOUT=0.002A.\n",
      "|\t\t Output power: 0.000W.\n",
      "|\t CHANNEL4: CV Mode.\n",
      "|\t\t VSET=0.000V, ISET=0.000A.\n",
      "|\t\t VOUT=0.000V, IOUT=0.001A.\n",
      "|\t\t Output power: 0.000W.\n",
      "--------------Instek DC Power Supply GPD-4303S Status Summary Ends--------------\n",
      "\n",
      "------------------------FS725 Rubidium Frequency Standard------------------------\n",
      "|----------------FS725 Rubidium Frequency Standard Status Summary----------------\n",
      "|-------------------------Model: FS725, Serial No.34437--------------------------\n",
      "|\t Phase Lock Status: \u001b[1;34;42mLOCKED\u001b[0m\n",
      "|\t Freq  Lock Status: \u001b[1;34;42mLOCKED\u001b[0m\n",
      "-------------FS725 Rubidium Frequency Standard Status Summary Ends--------------\n",
      "\n",
      "-------------------Finisar Waveshaper SN201904 Status Summary-------------------\n",
      "|\t Atten info: Set atten to BandPass [189.675~194.675] THz ([1580.559~1539.964] nm)\n",
      "|\t Phase info: Set 3rd disper with d2=2.2 ps/nm, d3=-0.0 ps/nm^2, center 192.17465256410256 THz\n",
      "----------------Finisar Waveshaper SN201904 Status Summary Ends-----------------\n"
     ]
    },
    {
     "data": {
      "image/png": "[encoded data removed]",
      "text/plain": [
       "<Figure size 648x432 with 4 Axes>"
      ]
     },
     "metadata": {
      "needs_background": "light"
     },
     "output_type": "display_data"
    }
   ],
   "source": [
    "lfc.printStatus_all()"
   ]
  },
  {
   "cell_type": "code",
   "execution_count": 38,
   "id": "1aa5dba9",
   "metadata": {},
   "outputs": [
    {
     "name": "stdout",
     "output_type": "stream",
     "text": [
      "Amonic 6A 680mW EDFA: setted APC mode CH1 current as 350.0 mW.\n"
     ]
    }
   ],
   "source": [
    "lfc.amamp.accCh1Cur = '350mw'"
   ]
  },
  {
   "cell_type": "code",
   "execution_count": 14,
   "id": "f9e177e5",
   "metadata": {},
   "outputs": [
    {
     "name": "stdout",
     "output_type": "stream",
     "text": [
      "-------------------------------Pritel 3.85A 3.6W FA------------------------------\n",
      "|-----------------Pritel OPTICAL FIBER AMPLIFIER Status Summary------------------\n",
      "|\t Pump status: \u001b[1;34;42mON\u001b[0m\n",
      "|\t InputPower = 73 mW, \tPreAmp = 604 mA\n",
      "|\t OutputPower = 3.26 W, \tPwrAmp = 3.49 A\n",
      "|\t AutoShutDown Disabled.\n",
      "----------------Pritel OPTICAL FIBER AMPLIFIER Status Summary Ends---------------\n",
      "\n"
     ]
    },
    {
     "data": {
      "text/plain": [
       "'-------------------------------Pritel 3.85A 3.6W FA------------------------------\\n|-----------------Pritel OPTICAL FIBER AMPLIFIER Status Summary------------------\\n|\\t Pump status: \\x1b[1;34;42mON\\x1b[0m\\n|\\t InputPower = 73 mW, \\tPreAmp = 604 mA\\n|\\t OutputPower = 3.26 W, \\tPwrAmp = 3.49 A\\n|\\t AutoShutDown Disabled.\\n----------------Pritel OPTICAL FIBER AMPLIFIER Status Summary Ends---------------\\n'"
      ]
     },
     "execution_count": 14,
     "metadata": {},
     "output_type": "execute_result"
    }
   ],
   "source": [
    "lfc.ptamp.printStatus()"
   ]
  },
  {
   "cell_type": "code",
   "execution_count": 6,
   "id": "38c50855",
   "metadata": {},
   "outputs": [],
   "source": [
    "lfc.ptamp.__pwrAmpMax = 4700 # set maximum you can go to 4.7A"
   ]
  },
  {
   "cell_type": "code",
   "execution_count": 29,
   "id": "04603aa1",
   "metadata": {},
   "outputs": [
    {
     "name": "stdout",
     "output_type": "stream",
     "text": [
      "Pritel 3.85A 3.6W FA: Disable Ramping by self.ramp_pwr_ma = 0, now 100 mA.\n",
      "Pritel 3.85A 3.6W FA: Setting PowerAmp Current to 3.74 A, , current Output 3.63 W.\n",
      "Pritel 3.85A 3.6W FA: Setting PowerAmp Current to 3.64 A, , current Output 3.49 W.\n",
      "Pritel 3.85A 3.6W FA: Setting PowerAmp Current to 3.54 A, , current Output 3.36 W.\n",
      "Pritel 3.85A 3.6W FA: Setting PowerAmp Current to 3.44 A, , current Output 3.25 W.\n",
      "Pritel 3.85A 3.6W FA: Setting PowerAmp Current to 3.34 A, , current Output 3.15 W.\n",
      "Pritel 3.85A 3.6W FA: Setting PowerAmp Current to 3.23 A, , current Output 3.03 W.\n",
      "Pritel 3.85A 3.6W FA: Setting PowerAmp Current to 3.13 A, , current Output 2.91 W.\n",
      "Pritel 3.85A 3.6W FA: Setting PowerAmp Current to 3.03 A, , current Output 2.79 W.\n",
      "Pritel 3.85A 3.6W FA: Setting PowerAmp Current to 2.93 A, , current Output 2.67 W.\n",
      "Pritel 3.85A 3.6W FA: Setting PowerAmp Current to 2.83 A, , current Output 2.65 W.\n",
      "Pritel 3.85A 3.6W FA: Setting PowerAmp Current to 2.73 A, , current Output 2.45 W.\n",
      "Pritel 3.85A 3.6W FA: Setting PowerAmp Current to 2.63 A, , current Output 2.33 W.\n",
      "Pritel 3.85A 3.6W FA: Setting PowerAmp Current to 2.53 A, , current Output 2.22 W.\n",
      "Pritel 3.85A 3.6W FA: Setting PowerAmp Current to 2.43 A, , current Output 2.19 W.\n",
      "Pritel 3.85A 3.6W FA: Setting PowerAmp Current to 2.32 A, , current Output 2.00 W.\n",
      "Pritel 3.85A 3.6W FA: Setting PowerAmp Current to 2.22 A, , current Output 1.86 W.\n",
      "Pritel 3.85A 3.6W FA: Setting PowerAmp Current to 2.12 A, , current Output 1.74 W.\n",
      "Pritel 3.85A 3.6W FA: Setting PowerAmp Current to 2.02 A, , current Output 1.72 W.\n",
      "Pritel 3.85A 3.6W FA: Setting PowerAmp Current to 1.92 A, , current Output 1.53 W.\n",
      "Pritel 3.85A 3.6W FA: Setting PowerAmp Current to 1.82 A, , current Output 1.43 W.\n",
      "Pritel 3.85A 3.6W FA: Setting PowerAmp Current to 1.72 A, , current Output 1.32 W.\n",
      "Pritel 3.85A 3.6W FA: Setting PowerAmp Current to 1.62 A, , current Output 1.28 W.\n",
      "Pritel 3.85A 3.6W FA: Setting PowerAmp Current to 1.52 A, , current Output 1.09 W.\n",
      "Pritel 3.85A 3.6W FA: Setting PowerAmp Current to 1.42 A, , current Output 0.99 W.\n",
      "Pritel 3.85A 3.6W FA: Setting PowerAmp Current to 1.31 A, , current Output 0.86 W.\n",
      "Pritel 3.85A 3.6W FA: Setting PowerAmp Current to 1.21 A, , current Output 0.83 W.\n",
      "Pritel 3.85A 3.6W FA: Setting PowerAmp Current to 1.11 A, , current Output 0.65 W.\n",
      "Pritel 3.85A 3.6W FA: Setting PowerAmp Current to 1.01 A, , current Output 0.55 W.\n",
      "Pritel 3.85A 3.6W FA: Setting PowerAmp Current to 0.91 A, , current Output 0.43 W.\n",
      "Pritel 3.85A 3.6W FA: Setting PowerAmp Current to 0.81 A, , current Output 0.41 W.\n",
      "Pritel 3.85A 3.6W FA: Setting PowerAmp Current to 0.71 A, , current Output 0.24 W.\n",
      "Pritel 3.85A 3.6W FA: Setting PowerAmp Current to 0.61 A, , current Output 0.13 W.\n",
      "Pritel 3.85A 3.6W FA: Setting PowerAmp Current to 0.51 A, , current Output 0.04 W.\n",
      "Pritel 3.85A 3.6W FA: Setting PowerAmp Current to 0.40 A, , current Output 0.00 W.\n",
      "Pritel 3.85A 3.6W FA: Setting PowerAmp Current to 0.30 A, , current Output 0.00 W.\n",
      "Pritel 3.85A 3.6W FA: Setting PowerAmp Current to 0.20 A, , current Output 0.00 W.\n",
      "Pritel 3.85A 3.6W FA: Setting PowerAmp Current to 0.10 A, , current Output 0.00 W.\n",
      "Pritel 3.85A 3.6W FA: Setting PowerAmp Current to 0.00 A, , current Output 0.00 W.\n",
      "Pritel 3.85A 3.6W FA: Disable Ramping by self.ramp_pre_ma = 0, now 100 mA.\n",
      "Pritel 3.85A 3.6W FA: Setting PreAmp Current to 600 mA, current Output 0.00 W.\n",
      "Pritel 3.85A 3.6W FA: Setting PreAmp Current to 500 mA, current Output 0.00 W.\n",
      "Pritel 3.85A 3.6W FA: Setting PreAmp Current to 400 mA, current Output 0.00 W.\n",
      "Pritel 3.85A 3.6W FA: Setting PreAmp Current to 300 mA, current Output 0.00 W.\n",
      "Pritel 3.85A 3.6W FA: Setting PreAmp Current to 200 mA, current Output 0.00 W.\n",
      "Pritel 3.85A 3.6W FA: Setting PreAmp Current to 100 mA, current Output 0.00 W.\n",
      "Pritel 3.85A 3.6W FA: Setting PreAmp Current to 000 mA, current Output 0.00 W.\n",
      "Pritel 3.85A 3.6W FA: setted Activation status as OFF, finished in 0.496 seconds\n"
     ]
    }
   ],
   "source": [
    "lfc.ptamp.ramp_pwr_ma = 100\n",
    "lfc.ptamp.pwrAmp = '0A'\n",
    "lfc.ptamp.preAmp=0\n",
    "lfc.ptamp.activation = 0"
   ]
  },
  {
   "cell_type": "code",
   "execution_count": 13,
   "id": "e5f7a82c",
   "metadata": {},
   "outputs": [
    {
     "name": "stdout",
     "output_type": "stream",
     "text": [
      "Pritel 3.85A 3.6W FA: setted Activation status as OFF, finished in 0.460 seconds\n"
     ]
    }
   ],
   "source": [
    "lfc.ptamp.activation = 0"
   ]
  },
  {
   "cell_type": "code",
   "execution_count": 14,
   "id": "dbbd41b2",
   "metadata": {},
   "outputs": [
    {
     "name": "stdout",
     "output_type": "stream",
     "text": [
      "-------------------------------Pritel 3.85A 3.6W FA------------------------------\n",
      "|-----------------Pritel OPTICAL FIBER AMPLIFIER Status Summary------------------\n",
      "|\t Pump status: \u001b[1;34;42mON\u001b[0m\n",
      "|\t InputPower = 101 mW, \tPreAmp = 605 mA\n",
      "|\t OutputPower = 3.49 W, \tPwrAmp = 3.69 A\n",
      "|\t AutoShutDown Disabled.\n",
      "----------------Pritel OPTICAL FIBER AMPLIFIER Status Summary Ends---------------\n",
      "\n"
     ]
    },
    {
     "data": {
      "text/plain": [
       "'-------------------------------Pritel 3.85A 3.6W FA------------------------------\\n|-----------------Pritel OPTICAL FIBER AMPLIFIER Status Summary------------------\\n|\\t Pump status: \\x1b[1;34;42mON\\x1b[0m\\n|\\t InputPower = 101 mW, \\tPreAmp = 605 mA\\n|\\t OutputPower = 3.49 W, \\tPwrAmp = 3.69 A\\n|\\t AutoShutDown Disabled.\\n----------------Pritel OPTICAL FIBER AMPLIFIER Status Summary Ends---------------\\n'"
      ]
     },
     "execution_count": 14,
     "metadata": {},
     "output_type": "execute_result"
    }
   ],
   "source": [
    "lfc.ptamp.printStatus()"
   ]
  },
  {
   "cell_type": "code",
   "execution_count": 30,
   "id": "cf4d12c8",
   "metadata": {},
   "outputs": [
    {
     "name": "stdout",
     "output_type": "stream",
     "text": [
      "Instek GPD-4303S DCSupply: Output activation is turned OFF.\n"
     ]
    }
   ],
   "source": [
    "lfc.RFoscPS.activation = 0"
   ]
  },
  {
   "cell_type": "code",
   "execution_count": 18,
   "id": "9c6f8a62",
   "metadata": {},
   "outputs": [
    {
     "name": "stdout",
     "output_type": "stream",
     "text": [
      "Pritel 3.85A 3.6W FA: Disable Ramping by self.ramp_pre_ma = 0, now 100 mA.\n",
      "Pritel 3.85A 3.6W FA: Setting PreAmp Current to 000 mA, current Output 0.00 W.\n",
      "Pritel 3.85A 3.6W FA: Setting PreAmp Current to 120 mA, current Output 0.00 W.\n",
      "Pritel 3.85A 3.6W FA: Setting PreAmp Current to 240 mA, current Output 0.00 W.\n",
      "Pritel 3.85A 3.6W FA: Setting PreAmp Current to 360 mA, current Output 0.00 W.\n",
      "Pritel 3.85A 3.6W FA: Setting PreAmp Current to 480 mA, current Output 0.00 W.\n",
      "Pritel 3.85A 3.6W FA: Setting PreAmp Current to 600 mA, current Output 0.00 W.\n",
      "Pritel 3.85A 3.6W FA: ACTIVATING LASER PUMP (OUTPUT), MAKE SURE SEED INPUT POWER IS APPROPRIATE TO AVOID DAMAGE.\n",
      "Pritel 3.85A 3.6W FA: setted Activation status as ON, finished in 0.496 seconds\n",
      "Pritel 3.85A 3.6W FA: Disable Ramping by self.ramp_pwr_ma = 0, now 100 mA.\n",
      "Pritel 3.85A 3.6W FA: Setting PowerAmp Current to 0.05 A, , current Output 0.00 W.\n",
      "Pritel 3.85A 3.6W FA: Setting PowerAmp Current to 0.15 A, , current Output 0.00 W.\n",
      "Pritel 3.85A 3.6W FA: Setting PowerAmp Current to 0.25 A, , current Output 0.00 W.\n",
      "Pritel 3.85A 3.6W FA: Setting PowerAmp Current to 0.35 A, , current Output 0.00 W.\n",
      "Pritel 3.85A 3.6W FA: Setting PowerAmp Current to 0.46 A, , current Output 0.00 W.\n",
      "Pritel 3.85A 3.6W FA: Setting PowerAmp Current to 0.56 A, , current Output 0.04 W.\n",
      "Pritel 3.85A 3.6W FA: Setting PowerAmp Current to 0.66 A, , current Output 0.14 W.\n",
      "Pritel 3.85A 3.6W FA: Setting PowerAmp Current to 0.76 A, , current Output 0.25 W.\n",
      "Pritel 3.85A 3.6W FA: Setting PowerAmp Current to 0.86 A, , current Output 0.28 W.\n",
      "Pritel 3.85A 3.6W FA: Setting PowerAmp Current to 0.96 A, , current Output 0.44 W.\n",
      "Pritel 3.85A 3.6W FA: Setting PowerAmp Current to 1.06 A, , current Output 0.55 W.\n",
      "Pritel 3.85A 3.6W FA: Setting PowerAmp Current to 1.16 A, , current Output 0.65 W.\n",
      "Pritel 3.85A 3.6W FA: Setting PowerAmp Current to 1.27 A, , current Output 0.76 W.\n",
      "Pritel 3.85A 3.6W FA: Setting PowerAmp Current to 1.37 A, , current Output 0.86 W.\n",
      "Pritel 3.85A 3.6W FA: Setting PowerAmp Current to 1.47 A, , current Output 1.00 W.\n",
      "Pritel 3.85A 3.6W FA: Setting PowerAmp Current to 1.57 A, , current Output 1.08 W.\n",
      "Pritel 3.85A 3.6W FA: Setting PowerAmp Current to 1.67 A, , current Output 1.14 W.\n",
      "Pritel 3.85A 3.6W FA: Setting PowerAmp Current to 1.77 A, , current Output 1.36 W.\n",
      "Pritel 3.85A 3.6W FA: Setting PowerAmp Current to 1.87 A, , current Output 1.44 W.\n",
      "Pritel 3.85A 3.6W FA: Setting PowerAmp Current to 1.98 A, , current Output 1.54 W.\n",
      "Pritel 3.85A 3.6W FA: Setting PowerAmp Current to 2.08 A, , current Output 1.66 W.\n",
      "Pritel 3.85A 3.6W FA: Setting PowerAmp Current to 2.18 A, , current Output 1.71 W.\n",
      "Pritel 3.85A 3.6W FA: Setting PowerAmp Current to 2.28 A, , current Output 1.88 W.\n",
      "Pritel 3.85A 3.6W FA: Setting PowerAmp Current to 2.38 A, , current Output 2.00 W.\n",
      "Pritel 3.85A 3.6W FA: Setting PowerAmp Current to 2.48 A, , current Output 2.11 W.\n",
      "Pritel 3.85A 3.6W FA: Setting PowerAmp Current to 2.58 A, , current Output 2.15 W.\n",
      "Pritel 3.85A 3.6W FA: Setting PowerAmp Current to 2.69 A, , current Output 2.32 W.\n",
      "Pritel 3.85A 3.6W FA: Setting PowerAmp Current to 2.79 A, , current Output 2.46 W.\n",
      "Pritel 3.85A 3.6W FA: Setting PowerAmp Current to 2.89 A, , current Output 2.58 W.\n",
      "Pritel 3.85A 3.6W FA: Setting PowerAmp Current to 2.99 A, , current Output 2.63 W.\n",
      "Pritel 3.85A 3.6W FA: Setting PowerAmp Current to 3.09 A, , current Output 2.81 W.\n",
      "Pritel 3.85A 3.6W FA: Setting PowerAmp Current to 3.19 A, , current Output 2.92 W.\n",
      "Pritel 3.85A 3.6W FA: Setting PowerAmp Current to 3.29 A, , current Output 3.02 W.\n",
      "Pritel 3.85A 3.6W FA: Setting PowerAmp Current to 3.39 A, , current Output 3.08 W.\n",
      "Pritel 3.85A 3.6W FA: Setting PowerAmp Current to 3.50 A, , current Output 3.26 W.\n",
      "Pritel 3.85A 3.6W FA: Setting PowerAmp Current to 3.60 A, , current Output 3.37 W.\n",
      "Pritel 3.85A 3.6W FA: Setting PowerAmp Current to 3.70 A, , current Output 3.50 W.\n",
      "Pritel 3.85A 3.6W FA: Setting PowerAmp Current to 3.80 A, , current Output 3.56 W.\n"
     ]
    },
    {
     "data": {
      "text/plain": [
       "3560.0"
      ]
     },
     "execution_count": 18,
     "metadata": {},
     "output_type": "execute_result"
    }
   ],
   "source": [
    "lfc.ptamp.ramp_pwr_ma = 100\n",
    "lfc.ptamp.preAmp = '600mA'\n",
    "lfc.ptamp.activation = 1\n",
    "# ptamp never higher than 4.6A, which will be our operation point (or 4.5W output)\n",
    "lfc.ptamp.pwrAmp = '3.8A' # 3.8A will give about 3.6W\n",
    "# lfc.ptamp.pwrAmp = '4.35A' # about 4.2W\n",
    "lfc.ptamp.outputPwr_mW\n"
   ]
  },
  {
   "cell_type": "code",
   "execution_count": 16,
   "id": "5c6b915e",
   "metadata": {},
   "outputs": [
    {
     "name": "stdout",
     "output_type": "stream",
     "text": [
      "Pritel 3.85A 3.6W FA: Disable Ramping by self.ramp_pre_ma = 0, now 100 mA.\n",
      "Pritel 3.85A 3.6W FA: Setting PreAmp Current to 600 mA, current Output 0.48 W.\n",
      "Pritel 3.85A 3.6W FA: Setting PreAmp Current to 600 mA, current Output 0.48 W.\n",
      "Pritel 3.85A 3.6W FA: Disable Ramping by self.ramp_pwr_ma = 0, now 50 mA.\n",
      "Pritel 3.85A 3.6W FA: Setting PowerAmp Current to 0.91 A, , current Output 0.53 W.\n",
      "Pritel 3.85A 3.6W FA: Setting PowerAmp Current to 0.96 A, , current Output 0.43 W.\n",
      "Pritel 3.85A 3.6W FA: Setting PowerAmp Current to 1.01 A, , current Output 0.49 W.\n",
      "Pritel 3.85A 3.6W FA: Setting PowerAmp Current to 1.06 A, , current Output 0.54 W.\n",
      "Pritel 3.85A 3.6W FA: Setting PowerAmp Current to 1.11 A, , current Output 0.60 W.\n",
      "Pritel 3.85A 3.6W FA: Setting PowerAmp Current to 1.16 A, , current Output 0.65 W.\n",
      "Pritel 3.85A 3.6W FA: Setting PowerAmp Current to 1.21 A, , current Output 0.70 W.\n",
      "Pritel 3.85A 3.6W FA: Setting PowerAmp Current to 1.26 A, , current Output 0.76 W.\n",
      "Pritel 3.85A 3.6W FA: Setting PowerAmp Current to 1.32 A, , current Output 0.80 W.\n",
      "Pritel 3.85A 3.6W FA: Setting PowerAmp Current to 1.37 A, , current Output 0.87 W.\n",
      "Pritel 3.85A 3.6W FA: Setting PowerAmp Current to 1.42 A, , current Output 0.94 W.\n",
      "Pritel 3.85A 3.6W FA: Setting PowerAmp Current to 1.47 A, , current Output 1.00 W.\n",
      "Pritel 3.85A 3.6W FA: Setting PowerAmp Current to 1.52 A, , current Output 1.05 W.\n",
      "Pritel 3.85A 3.6W FA: Setting PowerAmp Current to 1.57 A, , current Output 1.09 W.\n",
      "Pritel 3.85A 3.6W FA: Setting PowerAmp Current to 1.62 A, , current Output 1.15 W.\n",
      "Pritel 3.85A 3.6W FA: Setting PowerAmp Current to 1.67 A, , current Output 1.22 W.\n",
      "Pritel 3.85A 3.6W FA: Setting PowerAmp Current to 1.72 A, , current Output 1.27 W.\n",
      "Pritel 3.85A 3.6W FA: Setting PowerAmp Current to 1.77 A, , current Output 1.32 W.\n",
      "Pritel 3.85A 3.6W FA: Setting PowerAmp Current to 1.82 A, , current Output 1.37 W.\n",
      "Pritel 3.85A 3.6W FA: Setting PowerAmp Current to 1.87 A, , current Output 1.42 W.\n",
      "Pritel 3.85A 3.6W FA: Setting PowerAmp Current to 1.92 A, , current Output 1.48 W.\n",
      "Pritel 3.85A 3.6W FA: Setting PowerAmp Current to 1.97 A, , current Output 1.54 W.\n",
      "Pritel 3.85A 3.6W FA: Setting PowerAmp Current to 2.03 A, , current Output 1.59 W.\n",
      "Pritel 3.85A 3.6W FA: Setting PowerAmp Current to 2.08 A, , current Output 1.66 W.\n",
      "Pritel 3.85A 3.6W FA: Setting PowerAmp Current to 2.13 A, , current Output 1.72 W.\n",
      "Pritel 3.85A 3.6W FA: Setting PowerAmp Current to 2.18 A, , current Output 1.76 W.\n",
      "Pritel 3.85A 3.6W FA: Setting PowerAmp Current to 2.23 A, , current Output 1.81 W.\n",
      "Pritel 3.85A 3.6W FA: Setting PowerAmp Current to 2.28 A, , current Output 1.86 W.\n",
      "Pritel 3.85A 3.6W FA: Setting PowerAmp Current to 2.33 A, , current Output 1.93 W.\n",
      "Pritel 3.85A 3.6W FA: Setting PowerAmp Current to 2.38 A, , current Output 2.00 W.\n",
      "Pritel 3.85A 3.6W FA: Setting PowerAmp Current to 2.43 A, , current Output 2.06 W.\n",
      "Pritel 3.85A 3.6W FA: Setting PowerAmp Current to 2.48 A, , current Output 2.10 W.\n",
      "Pritel 3.85A 3.6W FA: Setting PowerAmp Current to 2.53 A, , current Output 2.15 W.\n",
      "Pritel 3.85A 3.6W FA: Setting PowerAmp Current to 2.58 A, , current Output 2.19 W.\n",
      "Pritel 3.85A 3.6W FA: Setting PowerAmp Current to 2.63 A, , current Output 2.26 W.\n",
      "Pritel 3.85A 3.6W FA: Setting PowerAmp Current to 2.68 A, , current Output 2.33 W.\n",
      "Pritel 3.85A 3.6W FA: Setting PowerAmp Current to 2.74 A, , current Output 2.39 W.\n",
      "Pritel 3.85A 3.6W FA: Setting PowerAmp Current to 2.79 A, , current Output 2.47 W.\n",
      "Pritel 3.85A 3.6W FA: Setting PowerAmp Current to 2.84 A, , current Output 2.52 W.\n",
      "Pritel 3.85A 3.6W FA: Setting PowerAmp Current to 2.89 A, , current Output 2.57 W.\n",
      "Pritel 3.85A 3.6W FA: Setting PowerAmp Current to 2.94 A, , current Output 2.65 W.\n",
      "Pritel 3.85A 3.6W FA: Setting PowerAmp Current to 2.99 A, , current Output 2.70 W.\n",
      "Pritel 3.85A 3.6W FA: Setting PowerAmp Current to 3.04 A, , current Output 2.76 W.\n",
      "Pritel 3.85A 3.6W FA: Setting PowerAmp Current to 3.09 A, , current Output 2.82 W.\n",
      "Pritel 3.85A 3.6W FA: Setting PowerAmp Current to 3.14 A, , current Output 2.87 W.\n",
      "Pritel 3.85A 3.6W FA: Setting PowerAmp Current to 3.19 A, , current Output 2.91 W.\n",
      "Pritel 3.85A 3.6W FA: Setting PowerAmp Current to 3.24 A, , current Output 2.96 W.\n",
      "Pritel 3.85A 3.6W FA: Setting PowerAmp Current to 3.29 A, , current Output 3.04 W.\n",
      "Pritel 3.85A 3.6W FA: Setting PowerAmp Current to 3.34 A, , current Output 3.11 W.\n",
      "Pritel 3.85A 3.6W FA: Setting PowerAmp Current to 3.39 A, , current Output 3.15 W.\n",
      "Pritel 3.85A 3.6W FA: Setting PowerAmp Current to 3.45 A, , current Output 3.20 W.\n",
      "Pritel 3.85A 3.6W FA: Setting PowerAmp Current to 3.50 A, , current Output 3.26 W.\n",
      "Pritel 3.85A 3.6W FA: Setting PowerAmp Current to 3.55 A, , current Output 3.30 W.\n",
      "Pritel 3.85A 3.6W FA: Setting PowerAmp Current to 3.60 A, , current Output 3.38 W.\n",
      "Pritel 3.85A 3.6W FA: Setting PowerAmp Current to 3.65 A, , current Output 3.45 W.\n",
      "Pritel 3.85A 3.6W FA: Setting PowerAmp Current to 3.70 A, , current Output 3.51 W.\n",
      "Pritel 3.85A 3.6W FA: Setting PowerAmp Current to 3.75 A, , current Output 3.55 W.\n",
      "Pritel 3.85A 3.6W FA: Setting PowerAmp Current to 3.80 A, , current Output 3.59 W.\n"
     ]
    }
   ],
   "source": [
    "lfc.ptamp.ramp_pre_ma=100\n",
    "lfc.ptamp.preAmp = '600mA'\n",
    "lfc.ptamp.pwrAmp='3.8A'"
   ]
  },
  {
   "cell_type": "code",
   "execution_count": 111,
   "id": "4b81f4d3",
   "metadata": {},
   "outputs": [
    {
     "data": {
      "text/plain": [
       "4390.0"
      ]
     },
     "execution_count": 111,
     "metadata": {},
     "output_type": "execute_result"
    }
   ],
   "source": [
    "lfc.ptamp.outputPwr_mW"
   ]
  },
  {
   "cell_type": "code",
   "execution_count": 21,
   "id": "21efad3f",
   "metadata": {},
   "outputs": [
    {
     "name": "stdout",
     "output_type": "stream",
     "text": [
      "Pritel 3.85A 3.6W FA: ACTIVATING LASER PUMP (OUTPUT), MAKE SURE SEED INPUT POWER IS APPROPRIATE TO AVOID DAMAGE.\n",
      "Pritel 3.85A 3.6W FA: setted Activation status as ON, finished in 0.496 seconds\n",
      "Pritel 3.85A 3.6W FA: Disable Ramping by self.ramp_pwr_ma = 0, now 50 mA.\n",
      "Pritel 3.85A 3.6W FA: Setting PowerAmp Current to 4.40 A, , current Output 4.33 W.\n",
      "Pritel 3.85A 3.6W FA: Setting PowerAmp Current to 4.30 A, , current Output 4.23 W.\n"
     ]
    },
    {
     "data": {
      "text/plain": [
       "4200.0"
      ]
     },
     "execution_count": 21,
     "metadata": {},
     "output_type": "execute_result"
    }
   ],
   "source": [
    "lfc.ptamp.ramp_pwr_ma = 20\n",
    "lfc.ptamp.activation = 1\n",
    "lfc.ptamp.pwrAmp = '4.3A' # about 3.6W\n",
    "lfc.ptamp.outputPwr_mW"
   ]
  },
  {
   "cell_type": "code",
   "execution_count": 14,
   "id": "72116a6e",
   "metadata": {},
   "outputs": [
    {
     "name": "stdout",
     "output_type": "stream",
     "text": [
      "Pritel 3.85A 3.6W FA: Disable Ramping by self.ramp_pwr_ma = 0, now 500 mA.\n",
      "Pritel 3.85A 3.6W FA: Setting PowerAmp Current to 0.00 A, , current Output 0.00 W.\n",
      "Pritel 3.85A 3.6W FA: Setting PowerAmp Current to 0.53 A, , current Output 0.00 W.\n",
      "Pritel 3.85A 3.6W FA: Setting PowerAmp Current to 1.05 A, , current Output 0.40 W.\n",
      "Pritel 3.85A 3.6W FA: Setting PowerAmp Current to 1.58 A, , current Output 0.96 W.\n",
      "Pritel 3.85A 3.6W FA: Setting PowerAmp Current to 2.11 A, , current Output 1.53 W.\n",
      "Pritel 3.85A 3.6W FA: Setting PowerAmp Current to 2.64 A, , current Output 2.15 W.\n",
      "Pritel 3.85A 3.6W FA: Setting PowerAmp Current to 3.16 A, , current Output 2.81 W.\n",
      "Pritel 3.85A 3.6W FA: Setting PowerAmp Current to 3.69 A, , current Output 3.42 W.\n",
      "Pritel 3.85A 3.6W FA: Setting PowerAmp Current to 4.22 A, , current Output 3.98 W.\n",
      "Pritel 3.85A 3.6W FA: Setting PowerAmp Current to 4.75 A, , current Output 4.62 W.\n",
      "Pritel 3.85A 3.6W FA: Setting PowerAmp Current to 5.27 A, , current Output 5.23 W.\n",
      "Pritel 3.85A 3.6W FA: Setting PowerAmp Current to 5.80 A, , current Output 5.82 W.\n"
     ]
    },
    {
     "data": {
      "text/plain": [
       "5950.0"
      ]
     },
     "execution_count": 14,
     "metadata": {},
     "output_type": "execute_result"
    }
   ],
   "source": [
    "lfc.ptamp.ramp_pwr_ma = 500\n",
    "lfc.ptamp.pwrAmp = '2.8A'#'3.8A'\n",
    "lfc.ptamp.outputPwr_mW"
   ]
  },
  {
   "cell_type": "code",
   "execution_count": 89,
   "id": "3ee33e3d",
   "metadata": {},
   "outputs": [
    {
     "name": "stdout",
     "output_type": "stream",
     "text": [
      "-------------------------------Pritel 3.85A 3.6W FA------------------------------\n",
      "|-----------------Pritel OPTICAL FIBER AMPLIFIER Status Summary------------------\n",
      "|\t Pump status: \u001b[1;34;42mON\u001b[0m\n",
      "|\t InputPower = 107 mW, \tPreAmp = 604 mA\n",
      "|\t OutputPower = 3.61 W, \tPwrAmp = 3.74 A\n",
      "|\t AutoShutDown Disabled.\n",
      "----------------Pritel OPTICAL FIBER AMPLIFIER Status Summary Ends---------------\n",
      "\n"
     ]
    },
    {
     "data": {
      "text/plain": [
       "'-------------------------------Pritel 3.85A 3.6W FA------------------------------\\n|-----------------Pritel OPTICAL FIBER AMPLIFIER Status Summary------------------\\n|\\t Pump status: \\x1b[1;34;42mON\\x1b[0m\\n|\\t InputPower = 107 mW, \\tPreAmp = 604 mA\\n|\\t OutputPower = 3.61 W, \\tPwrAmp = 3.74 A\\n|\\t AutoShutDown Disabled.\\n----------------Pritel OPTICAL FIBER AMPLIFIER Status Summary Ends---------------\\n'"
      ]
     },
     "execution_count": 89,
     "metadata": {},
     "output_type": "execute_result"
    }
   ],
   "source": [
    "lfc.ptamp.printStatus()"
   ]
  },
  {
   "cell_type": "code",
   "execution_count": 6,
   "id": "b926a6d3",
   "metadata": {},
   "outputs": [
    {
     "name": "stdout",
     "output_type": "stream",
     "text": [
      "Pritel 3.85A 3.6W FA: ......waiting Activation status set to OFF, now ON\n",
      "Pritel 3.85A 3.6W FA: setted Activation status as OFF, finished in 1.258 seconds\n"
     ]
    }
   ],
   "source": [
    "lfc.ptamp.activation = 0"
   ]
  },
  {
   "cell_type": "code",
   "execution_count": 28,
   "id": "1efb8b2c",
   "metadata": {},
   "outputs": [
    {
     "name": "stdout",
     "output_type": "stream",
     "text": [
      "Waveshaper Set atten to BandPass [189.675~194.675] THz ([1580.559~1539.964] nm).\n",
      "Waveshaper profile write successful.\n"
     ]
    },
    {
     "data": {
      "image/png": "[encoded data removed]",
      "text/plain": [
       "<Figure size 648x432 with 4 Axes>"
      ]
     },
     "metadata": {
      "needs_background": "light"
     },
     "output_type": "display_data"
    }
   ],
   "source": [
    "# import numpy as np\n",
    "# for d2_ in np.linspace(1.87,1.92,6):\n",
    "lfc.wsp.set3rdDisper(d2=1.92, d3= -0.0, preview_plot=0)\n",
    "lfc.wsp.setBandPass(span=5)# ws.plotStatus()\n",
    "lfc.wsp.writeProfile()\n",
    "lfc.wsp.plotStatus()"
   ]
  },
  {
   "cell_type": "code",
   "execution_count": 22,
   "id": "164ec63a",
   "metadata": {},
   "outputs": [
    {
     "data": {
      "text/plain": [
       "array([2.1 , 2.13, 2.16, 2.19, 2.22, 2.25, 2.28, 2.31, 2.34, 2.37, 2.4 ])"
      ]
     },
     "execution_count": 22,
     "metadata": {},
     "output_type": "execute_result"
    }
   ],
   "source": [
    "import numpy as np\n",
    "np.linspace(2.1,2.4,11)"
   ]
  },
  {
   "cell_type": "code",
   "execution_count": 46,
   "id": "a1bb5014",
   "metadata": {},
   "outputs": [
    {
     "name": "stdout",
     "output_type": "stream",
     "text": [
      "Waveshaper Set atten to BandPass [188.675~195.675] THz ([1588.936~1532.094] nm).\n",
      "Waveshaper profile write successful.\n"
     ]
    },
    {
     "data": {
      "image/png": "[encoded data removed]",
      "text/plain": [
       "<Figure size 648x432 with 4 Axes>"
      ]
     },
     "metadata": {
      "needs_background": "light"
     },
     "output_type": "display_data"
    }
   ],
   "source": [
    "# Cahill setup parameter\n",
    "lfc.wsp.set3rdDisper(d2=2.32, d3= 0., preview_plot=0)\n",
    "lfc.wsp.setBandPass(span=7)# ws.plotStatus()\n",
    "lfc.wsp.writeProfile()\n",
    "lfc.wsp.plotStatus()"
   ]
  },
  {
   "cell_type": "code",
   "execution_count": 79,
   "id": "4a7b1e85",
   "metadata": {},
   "outputs": [
    {
     "name": "stdout",
     "output_type": "stream",
     "text": [
      "ANDO AQ-6315E Optical Spectrum Analyzer connected\n",
      "Waveshaper Set atten to BandPass [188.675~195.675] THz ([1588.936~1532.094] nm).\n"
     ]
    },
    {
     "data": {
      "image/png": "[encoded data removed]",
      "text/plain": [
       "<Figure size 432x288 with 1 Axes>"
      ]
     },
     "metadata": {
      "needs_background": "light"
     },
     "output_type": "display_data"
    },
    {
     "name": "stdout",
     "output_type": "stream",
     "text": [
      "ANDO AQ-6315E Optical Spectrum Analyzer: Trace C data is collected and is shown in the plot.\n"
     ]
    },
    {
     "data": {
      "image/png": "[encoded data removed]",
      "text/plain": [
       "<Figure size 432x216 with 1 Axes>"
      ]
     },
     "metadata": {
      "needs_background": "light"
     },
     "output_type": "display_data"
    },
    {
     "name": "stdout",
     "output_type": "stream",
     "text": [
      "Waveshaper Set atten to BandPass [191.475~192.875] THz ([1565.703~1554.338] nm)\n",
      " Inverse Attenuation is applied with max attenuation 5 dB..\n",
      "Waveshaper profile write successful.\n"
     ]
    },
    {
     "data": {
      "image/png": "[encoded data removed]",
      "text/plain": [
       "<Figure size 648x432 with 4 Axes>"
      ]
     },
     "metadata": {
      "needs_background": "light"
     },
     "output_type": "display_data"
    }
   ],
   "source": [
    "from LFC.Hardware.AndoOSA_AQ6315E import AndoOSA_AQ6315E\n",
    "osa = AndoOSA_AQ6315E()\n",
    "osa.connect()\n",
    "\n",
    "# lfc.wsp.set3rdDisper(d2=2.14, d3= 0.24, preview_plot=0)\n",
    "lfc.wsp.set3rdDisper(d2=2.1, d3= -0.0, preview_plot=0)\n",
    "\n",
    "lfc.wsp.setBandPass(span=7)# ws.plotStatus()\n",
    "\n",
    "# from scipy.io import loadmat\n",
    "# r = loadmat(r'Z:\\Maodong\\Projects\\Keck\\Filter Cavity test\\20220819-LockToFC-useSRS\\overnightRun_3_2\\00000_Cavity_output_FCT_20.52C_FCV_0.520_RioTset_22.86C_RioTact_22.83C.mat')\n",
    "# osa_wl, osa_pw = r['OSAWavelength'], r['OSAPower']\n",
    "\n",
    "osa_wl, osa_pw = osa.get_trace(trace='c')\n",
    "\n",
    "lfc.wsp.inverseAtten(osa_wl, osa_pw, max_atten_db=5, osa_pw_noise=-40,\n",
    "                     bandpass_span=1.4, bandpass_unit='thz')\n",
    "\n",
    "# lfc.wsp.inverseAtten(osa_wl, osa_pw, max_atten_db=0, \n",
    "#                      bandpass_center=299792458/(1560-0.25)/1000,bandpass_span=1.05, bandpass_unit='thz',\n",
    "#                      perform_peak_search=1)\n",
    "\n",
    "lfc.wsp.writeProfile()\n",
    "lfc.wsp.plotStatus()"
   ]
  },
  {
   "cell_type": "code",
   "execution_count": 6,
   "id": "271e66c2",
   "metadata": {},
   "outputs": [
    {
     "name": "stdout",
     "output_type": "stream",
     "text": [
      "-------------------Finisar Waveshaper SN201904 Status Summary-------------------\n",
      "|\t Atten info: Set atten to BandPass [188.675~195.675] THz ([1588.936~1532.094] nm)\n",
      "|\t Phase info: Set 3rd disper with d2=2.14 ps/nm, d3=0.0 ps/nm^2, center 192.17465256410256 THz\n",
      "----------------Finisar Waveshaper SN201904 Status Summary Ends-----------------\n"
     ]
    },
    {
     "data": {
      "image/png": "[encoded data removed]",
      "text/plain": [
       "<Figure size 648x432 with 4 Axes>"
      ]
     },
     "metadata": {
      "needs_background": "light"
     },
     "output_type": "display_data"
    }
   ],
   "source": [
    "lfc.wsp.printStatus()"
   ]
  },
  {
   "cell_type": "code",
   "execution_count": 21,
   "id": "557a2176",
   "metadata": {},
   "outputs": [
    {
     "name": "stdout",
     "output_type": "stream",
     "text": [
      "RF amplifier Power Supply 30V 4.5A: channel 1 output is turned OFF\n"
     ]
    }
   ],
   "source": [
    "lfc.RFampPS.activation1=0"
   ]
  },
  {
   "cell_type": "code",
   "execution_count": 31,
   "id": "4d320cbd",
   "metadata": {},
   "outputs": [
    {
     "name": "stdout",
     "output_type": "stream",
     "text": [
      "Instek GPD-4303S DCSupply: Output activation is turned ON.\n"
     ]
    }
   ],
   "source": [
    "lfc.RFoscPS.activation = 1"
   ]
  },
  {
   "cell_type": "markdown",
   "id": "791237b4",
   "metadata": {},
   "source": [
    "# Record Amonic EDFA caseTemperature overnight"
   ]
  },
  {
   "cell_type": "code",
   "execution_count": 12,
   "id": "a57853b0",
   "metadata": {},
   "outputs": [
    {
     "name": "stdout",
     "output_type": "stream",
     "text": [
      "('110434_0406', 102.0)\n",
      "('110434_0406', 3570.0)\n",
      "('110535_0406', 102.0)\n",
      "('110535_0406', 3570.0)\n",
      "('110635_0406', 102.0)\n",
      "('110635_0406', 3570.0)\n",
      "('110736_0406', 102.0)\n",
      "('110736_0406', 3570.0)\n",
      "('110837_0406', 102.0)\n",
      "('110837_0406', 3570.0)\n",
      "('110938_0406', 102.0)\n",
      "('110938_0406', 3570.0)\n",
      "('111038_0406', 102.0)\n",
      "('111038_0406', 3570.0)\n",
      "('111139_0406', 102.0)\n",
      "('111139_0406', 3570.0)\n",
      "('111239_0406', 102.0)\n",
      "('111239_0406', 3570.0)\n",
      "('111340_0406', 102.0)\n",
      "('111340_0406', 3570.0)\n",
      "('111440_0406', 102.0)\n",
      "('111440_0406', 3570.0)\n",
      "('111541_0406', 102.0)\n",
      "('111541_0406', 3570.0)\n",
      "('111642_0406', 102.0)\n",
      "('111642_0406', 3570.0)\n",
      "('111742_0406', 102.0)\n",
      "('111742_0406', 3570.0)\n",
      "('111843_0406', 102.0)\n",
      "('111843_0406', 3570.0)\n",
      "('111943_0406', 102.0)\n",
      "('111943_0406', 3570.0)\n",
      "('112044_0406', 102.0)\n",
      "('112044_0406', 3570.0)\n",
      "('112145_0406', 102.0)\n",
      "('112145_0406', 3570.0)\n",
      "('112245_0406', 102.0)\n",
      "('112245_0406', 3570.0)\n",
      "('112346_0406', 102.0)\n",
      "('112346_0406', 3580.0)\n",
      "('112446_0406', 102.0)\n",
      "('112446_0406', 3570.0)\n",
      "('112547_0406', 102.0)\n",
      "('112547_0406', 3570.0)\n",
      "('112648_0406', 102.0)\n",
      "('112648_0406', 3570.0)\n",
      "('112748_0406', 102.0)\n",
      "('112748_0406', 3570.0)\n",
      "('112849_0406', 102.0)\n",
      "('112849_0406', 3570.0)\n",
      "('112949_0406', 102.0)\n",
      "('112949_0406', 3570.0)\n",
      "('113050_0406', 102.0)\n",
      "('113050_0406', 3570.0)\n",
      "('113151_0406', 102.0)\n",
      "('113151_0406', 3570.0)\n",
      "('113251_0406', 102.0)\n",
      "('113251_0406', 3570.0)\n",
      "('113352_0406', 102.0)\n",
      "('113352_0406', 3570.0)\n",
      "('113452_0406', 102.0)\n",
      "('113452_0406', 3570.0)\n",
      "('113553_0406', 102.0)\n",
      "('113553_0406', 3570.0)\n",
      "('113653_0406', 102.0)\n",
      "('113653_0406', 3570.0)\n",
      "('113754_0406', 102.0)\n",
      "('113754_0406', 3580.0)\n",
      "('113854_0406', 102.0)\n",
      "('113854_0406', 3570.0)\n",
      "('113955_0406', 102.0)\n",
      "('113955_0406', 3570.0)\n",
      "('114055_0406', 102.0)\n",
      "('114055_0406', 3570.0)\n",
      "('114156_0406', 102.0)\n",
      "('114156_0406', 3580.0)\n",
      "('114257_0406', 102.0)\n",
      "('114257_0406', 3580.0)\n",
      "('114357_0406', 102.0)\n",
      "('114357_0406', 3580.0)\n",
      "('114458_0406', 102.0)\n",
      "('114458_0406', 3580.0)\n",
      "('114558_0406', 102.0)\n",
      "('114558_0406', 3580.0)\n",
      "('114659_0406', 102.0)\n",
      "('114659_0406', 3580.0)\n",
      "('114759_0406', 102.0)\n",
      "('114759_0406', 3580.0)\n",
      "('114900_0406', 102.0)\n",
      "('114900_0406', 3580.0)\n",
      "('115000_0406', 102.0)\n",
      "('115000_0406', 3580.0)\n",
      "('115103_0406', 102.0)\n",
      "('115103_0406', 3580.0)\n",
      "('115203_0406', 102.0)\n",
      "('115203_0406', 3580.0)\n",
      "('115304_0406', 102.0)\n",
      "('115304_0406', 3580.0)\n",
      "('115404_0406', 102.0)\n",
      "('115404_0406', 3580.0)\n",
      "('115505_0406', 102.0)\n",
      "('115505_0406', 3580.0)\n",
      "('115605_0406', 102.0)\n",
      "('115605_0406', 3580.0)\n",
      "('115706_0406', 102.0)\n",
      "('115706_0406', 3580.0)\n",
      "('115807_0406', 102.0)\n",
      "('115807_0406', 3580.0)\n",
      "('115907_0406', 102.0)\n",
      "('115907_0406', 3580.0)\n",
      "('120008_0406', 102.0)\n",
      "('120008_0406', 3580.0)\n",
      "('120108_0406', 102.0)\n",
      "('120108_0406', 3580.0)\n",
      "('120209_0406', 102.0)\n",
      "('120209_0406', 3580.0)\n",
      "('120309_0406', 102.0)\n",
      "('120309_0406', 3580.0)\n",
      "('120410_0406', 102.0)\n",
      "('120410_0406', 3580.0)\n",
      "('120511_0406', 102.0)\n",
      "('120511_0406', 3580.0)\n",
      "('120611_0406', 102.0)\n",
      "('120611_0406', 3580.0)\n",
      "('120712_0406', 102.0)\n",
      "('120712_0406', 3580.0)\n",
      "('120813_0406', 102.0)\n",
      "('120813_0406', 3580.0)\n",
      "('120913_0406', 102.0)\n",
      "('120913_0406', 3580.0)\n",
      "('121014_0406', 102.0)\n",
      "('121014_0406', 3580.0)\n",
      "('121114_0406', 102.0)\n",
      "('121114_0406', 3580.0)\n",
      "('121215_0406', 102.0)\n",
      "('121215_0406', 3580.0)\n",
      "('121315_0406', 102.0)\n",
      "('121315_0406', 3580.0)\n",
      "('121416_0406', 102.0)\n",
      "('121416_0406', 3580.0)\n",
      "('121516_0406', 102.0)\n",
      "('121516_0406', 3580.0)\n",
      "('121617_0406', 102.0)\n",
      "('121617_0406', 3570.0)\n",
      "('121718_0406', 102.0)\n",
      "('121718_0406', 3580.0)\n",
      "('121818_0406', 102.0)\n",
      "('121818_0406', 3580.0)\n",
      "('121919_0406', 102.0)\n",
      "('121919_0406', 3580.0)\n",
      "('122019_0406', 102.0)\n",
      "('122019_0406', 3580.0)\n",
      "('122120_0406', 102.0)\n",
      "('122120_0406', 3580.0)\n",
      "('122221_0406', 102.0)\n",
      "('122221_0406', 3580.0)\n",
      "('122321_0406', 102.0)\n",
      "('122321_0406', 3580.0)\n",
      "('122422_0406', 102.0)\n",
      "('122422_0406', 3580.0)\n",
      "('122522_0406', 102.0)\n",
      "('122522_0406', 3580.0)\n",
      "('122623_0406', 102.0)\n",
      "('122623_0406', 3580.0)\n",
      "('122723_0406', 102.0)\n",
      "('122723_0406', 3580.0)\n",
      "('122824_0406', 102.0)\n",
      "('122824_0406', 3580.0)\n",
      "('122925_0406', 102.0)\n",
      "('122925_0406', 3580.0)\n",
      "('123025_0406', 102.0)\n",
      "('123025_0406', 3580.0)\n",
      "('123126_0406', 102.0)\n",
      "('123126_0406', 3580.0)\n",
      "('123226_0406', 102.0)\n",
      "('123226_0406', 3580.0)\n",
      "('123327_0406', 102.0)\n",
      "('123327_0406', 3580.0)\n",
      "('123427_0406', 102.0)\n",
      "('123427_0406', 3580.0)\n",
      "('123528_0406', 102.0)\n",
      "('123528_0406', 3580.0)\n",
      "('123628_0406', 102.0)\n",
      "('123628_0406', 3580.0)\n",
      "('123729_0406', 102.0)\n",
      "('123729_0406', 3580.0)\n",
      "('123830_0406', 102.0)\n",
      "('123830_0406', 3580.0)\n",
      "('123930_0406', 102.0)\n",
      "('123930_0406', 3570.0)\n",
      "('124031_0406', 102.0)\n",
      "('124031_0406', 3570.0)\n",
      "('124131_0406', 102.0)\n",
      "('124131_0406', 3570.0)\n",
      "('124232_0406', 102.0)\n",
      "('124232_0406', 3580.0)\n",
      "('124332_0406', 102.0)\n",
      "('124332_0406', 3580.0)\n",
      "('124433_0406', 102.0)\n",
      "('124433_0406', 3580.0)\n",
      "('124534_0406', 102.0)\n",
      "('124534_0406', 3580.0)\n",
      "('124634_0406', 102.0)\n",
      "('124634_0406', 3580.0)\n",
      "('124736_0406', 102.0)\n",
      "('124736_0406', 3580.0)\n",
      "('124838_0406', 102.0)\n",
      "('124838_0406', 3580.0)\n",
      "('124939_0406', 102.0)\n",
      "('124939_0406', 3580.0)\n",
      "('125040_0406', 102.0)\n",
      "('125040_0406', 3580.0)\n",
      "('125140_0406', 102.0)\n",
      "('125140_0406', 3570.0)\n",
      "('125241_0406', 102.0)\n",
      "('125241_0406', 3580.0)\n",
      "('125341_0406', 102.0)\n",
      "('125341_0406', 3580.0)\n",
      "('125442_0406', 102.0)\n",
      "('125442_0406', 3580.0)\n",
      "('125542_0406', 102.0)\n",
      "('125542_0406', 3580.0)\n",
      "('125645_0406', 102.0)\n",
      "('125645_0406', 3580.0)\n",
      "('125745_0406', 102.0)\n",
      "('125745_0406', 3580.0)\n",
      "('125846_0406', 102.0)\n",
      "('125846_0406', 3580.0)\n",
      "('125946_0406', 102.0)\n",
      "('125946_0406', 3580.0)\n",
      "('130047_0406', 102.0)\n",
      "('130047_0406', 3580.0)\n",
      "('130148_0406', 102.0)\n",
      "('130148_0406', 3580.0)\n",
      "('130248_0406', 102.0)\n",
      "('130248_0406', 3580.0)\n",
      "('130349_0406', 102.0)\n",
      "('130349_0406', 3580.0)\n",
      "('130450_0406', 102.0)\n",
      "('130450_0406', 3580.0)\n",
      "('130551_0406', 102.0)\n",
      "('130551_0406', 3580.0)\n",
      "('130651_0406', 102.0)\n",
      "('130651_0406', 3580.0)\n",
      "('130752_0406', 102.0)\n",
      "('130752_0406', 3580.0)\n",
      "('130852_0406', 102.0)\n",
      "('130852_0406', 3570.0)\n",
      "('130953_0406', 102.0)\n",
      "('130953_0406', 3570.0)\n",
      "('131054_0406', 102.0)\n",
      "('131054_0406', 3580.0)\n",
      "('131155_0406', 102.0)\n",
      "('131155_0406', 3580.0)\n",
      "('131255_0406', 102.0)\n",
      "('131255_0406', 3570.0)\n",
      "('131356_0406', 102.0)\n",
      "('131356_0406', 3570.0)\n",
      "('131456_0406', 102.0)\n",
      "('131456_0406', 3570.0)\n",
      "('131557_0406', 102.0)\n",
      "('131557_0406', 3580.0)\n"
     ]
    },
    {
     "ename": "KeyboardInterrupt",
     "evalue": "",
     "output_type": "error",
     "traceback": [
      "\u001b[1;31m---------------------------------------------------------------------------\u001b[0m",
      "\u001b[1;31mKeyboardInterrupt\u001b[0m                         Traceback (most recent call last)",
      "Input \u001b[1;32mIn [12]\u001b[0m, in \u001b[0;36m<cell line: 13>\u001b[1;34m()\u001b[0m\n\u001b[0;32m     23\u001b[0m \u001b[38;5;28mprint\u001b[39m(\u001b[38;5;28mlist\u001b[39m(prepwrDic\u001b[38;5;241m.\u001b[39mitems())[\u001b[38;5;241m-\u001b[39m\u001b[38;5;241m1\u001b[39m])\n\u001b[0;32m     24\u001b[0m \u001b[38;5;28mprint\u001b[39m(\u001b[38;5;28mlist\u001b[39m(outputDic\u001b[38;5;241m.\u001b[39mitems())[\u001b[38;5;241m-\u001b[39m\u001b[38;5;241m1\u001b[39m])\n\u001b[1;32m---> 25\u001b[0m \u001b[43mtime\u001b[49m\u001b[38;5;241;43m.\u001b[39;49m\u001b[43msleep\u001b[49m\u001b[43m(\u001b[49m\u001b[43mtime_interval\u001b[49m\u001b[43m)\u001b[49m\n\u001b[0;32m     26\u001b[0m savemat(\u001b[38;5;124m\"\u001b[39m\u001b[38;5;124mZ:\u001b[39m\u001b[38;5;124m\\\u001b[39m\u001b[38;5;124mMaodong\u001b[39m\u001b[38;5;124m\\\u001b[39m\u001b[38;5;124mProjects\u001b[39m\u001b[38;5;124m\\\u001b[39m\u001b[38;5;124mKeck\u001b[39m\u001b[38;5;124m\\\u001b[39m\u001b[38;5;124mHNLF_comb_stability\u001b[39m\u001b[38;5;124m\\\u001b[39m\u001b[38;5;124mPtamp_log_220406.mat\u001b[39m\u001b[38;5;124m\"\u001b[39m, \n\u001b[0;32m     27\u001b[0m         {\u001b[38;5;124m\"\u001b[39m\u001b[38;5;124mtimestamps\u001b[39m\u001b[38;5;124m\"\u001b[39m:\u001b[38;5;28mlist\u001b[39m(prepwrDic\u001b[38;5;241m.\u001b[39mkeys()), \u001b[38;5;124m\"\u001b[39m\u001b[38;5;124mpreamp_pwr\u001b[39m\u001b[38;5;124m\"\u001b[39m:\u001b[38;5;28mlist\u001b[39m(prepwrDic\u001b[38;5;241m.\u001b[39mvalues()),  \u001b[38;5;124m\"\u001b[39m\u001b[38;5;124moutput_pwr\u001b[39m\u001b[38;5;124m\"\u001b[39m:\u001b[38;5;28mlist\u001b[39m(outputDic\u001b[38;5;241m.\u001b[39mvalues())})\n",
      "\u001b[1;31mKeyboardInterrupt\u001b[0m: "
     ]
    }
   ],
   "source": [
    "from scipy.io import savemat\n",
    "from datetime import datetime\n",
    "import time\n",
    "prepwrDic = {}\n",
    "outputDic = {}\n",
    "\n",
    "time_interval = 60\n",
    "time_total = 48*3600\n",
    "\n",
    "# time_interval = 1\n",
    "# time_total = 10\n",
    "\n",
    "for ii in range(int(time_total/time_interval)):\n",
    "    try:\n",
    "        timestamp = datetime.now().strftime(\"%H%M%S_%m%d\")\n",
    "#         tempDic[timestamp] = lfc.amamp.caseTemperature\n",
    "#         outputDic[timestamp] = lfc.amamp.outputPowerCh1\n",
    "        prepwrDic[timestamp] = lfc.ptamp.inputPwr_mW\n",
    "        outputDic[timestamp] = lfc.ptamp.outputPwr_mW\n",
    "    except:\n",
    "        time.sleep(time_interval)\n",
    "        continue\n",
    "    print(list(prepwrDic.items())[-1])\n",
    "    print(list(outputDic.items())[-1])\n",
    "    time.sleep(time_interval)\n",
    "    savemat(\"Z:\\Maodong\\Projects\\Keck\\HNLF_comb_stability\\Ptamp_log_220406.mat\", \n",
    "            {\"timestamps\":list(prepwrDic.keys()), \"preamp_pwr\":list(prepwrDic.values()),  \"output_pwr\":list(outputDic.values())})"
   ]
  },
  {
   "cell_type": "code",
   "execution_count": 28,
   "id": "1f77f733",
   "metadata": {},
   "outputs": [
    {
     "data": {
      "text/plain": [
       "632.0391"
      ]
     },
     "execution_count": 28,
     "metadata": {},
     "output_type": "execute_result"
    }
   ],
   "source": [
    "lfc.amamp.outputPowerCh1"
   ]
  },
  {
   "cell_type": "code",
   "execution_count": 39,
   "id": "7c3a2faf",
   "metadata": {},
   "outputs": [
    {
     "name": "stdout",
     "output_type": "stream",
     "text": [
      "Error:<class 'pyvisa.errors.VisaIOError'>\n",
      "-------------------------------Pritel 3.85A 3.6W FA------------------------------\n",
      "|-----------------Pritel OPTICAL FIBER AMPLIFIER Status Summary------------------\n",
      "|\t Pump status: \u001b[1;34;42mON\u001b[0m\n",
      "|\t InputPower = 130 mW, \tPreAmp = 604 mA\n",
      "|\t OutputPower = 3.57 W, \tPwrAmp = 3.74 A\n",
      "|\t AutoShutDown Disabled.\n",
      "----------------Pritel OPTICAL FIBER AMPLIFIER Status Summary Ends---------------\n",
      "\n",
      "------------------------RF amplifier Power Supply 30V 4.5A-----------------------\n",
      "|-------------------Instek GPP DC Power Supply Status Summary--------------------\n",
      "|--------------------Model: GPP-1326, Serial No.SN:GET842785---------------------\n",
      "|\t------------Channel Summary-------------\n",
      "|\t CHANNEL1: Activation \u001b[1;34;42mON\u001b[0m.\n",
      "|\t\t VSET=30.000V, ISET=5.000A.\n",
      "|\t\t VOUT=29.996V, IOUT=4.395A.\n",
      "|\t\t Output power: 132.885W.\n",
      "|\t\t ---Over Voltage/Current Protection Status:---\n",
      "|\t\t OVP Status: OFF\t OCP Status: OFF \n",
      "|\t\t OVP Level : 35.0 V\t OCP Level : 7.0 A\n",
      "-----------------Instek GPP DC Power Supply Status Summary Ends-----------------\n",
      "\n",
      "-----------------------RF oscillator Power Supply 15V 0.4A-----------------------\n",
      "|----------------Instek DC Power Supply GPD-4303S Status Summary-----------------\n",
      "|--------------------Model: GPD-4303S, Serial No.SN:EV884423---------------------\n",
      "|\tMaster Activation: \u001b[1;34;42mON\u001b[0m\n",
      "|\t------------Channel Summary-------------\n",
      "|\t CH1: master, CH2: slave, mode indep.\n",
      "|\t CHANNEL1: CC Mode.\n",
      "|\t\t VSET=0.000V, ISET=0.000A.\n",
      "|\t\t VOUT=0.000V, IOUT=0.000A.\n",
      "|\t\t Output power: 0.000W.\n",
      "|\t CHANNEL2: CV Mode.\n",
      "|\t\t VSET=15.000V, ISET=3.000A.\n",
      "|\t\t VOUT=14.993V, IOUT=0.408A.\n",
      "|\t\t Output power: 6.117W.\n",
      "|\t CHANNEL3: CV Mode.\n",
      "|\t\t VSET=0.000V, ISET=0.000A.\n",
      "|\t\t VOUT=0.000V, IOUT=0.003A.\n",
      "|\t\t Output power: 0.000W.\n",
      "|\t CHANNEL4: CV Mode.\n",
      "|\t\t VSET=0.000V, ISET=0.000A.\n",
      "|\t\t VOUT=0.000V, IOUT=0.001A.\n",
      "|\t\t Output power: 0.000W.\n",
      "--------------Instek DC Power Supply GPD-4303S Status Summary Ends--------------\n",
      "\n"
     ]
    }
   ],
   "source": [
    "lfc.printStatus_all()"
   ]
  },
  {
   "cell_type": "code",
   "execution_count": 5,
   "id": "97dfc3d1",
   "metadata": {},
   "outputs": [],
   "source": [
    "from LFC.Hardware.RbClock import RbClock"
   ]
  },
  {
   "cell_type": "code",
   "execution_count": 11,
   "id": "1d53e4c1",
   "metadata": {},
   "outputs": [],
   "source": [
    "rbclock = RbClock(addr='ASRL12::INSTR')"
   ]
  },
  {
   "cell_type": "code",
   "execution_count": 12,
   "id": "17eee8fa",
   "metadata": {},
   "outputs": [
    {
     "name": "stdout",
     "output_type": "stream",
     "text": [
      "FS725 Rubidium Frequency Standard connected\n"
     ]
    },
    {
     "data": {
      "text/plain": [
       "1"
      ]
     },
     "execution_count": 12,
     "metadata": {},
     "output_type": "execute_result"
    }
   ],
   "source": [
    "rbclock.connect()"
   ]
  },
  {
   "cell_type": "code",
   "execution_count": 13,
   "id": "e2ea4042",
   "metadata": {},
   "outputs": [
    {
     "name": "stdout",
     "output_type": "stream",
     "text": [
      "------------------------FS725 Rubidium Frequency Standard------------------------\n",
      "|----------------FS725 Rubidium Frequency Standard Status Summary----------------\n",
      "|-------------------------Model: FS725, Serial No.34437--------------------------\n",
      "|\t Phase Lock Status: \u001b[1;34;42mLOCKED\u001b[0m\n",
      "|\t Freq  Lock Status: \u001b[1;34;42mLOCKED\u001b[0m\n",
      "-------------FS725 Rubidium Frequency Standard Status Summary Ends--------------\n",
      "\n"
     ]
    },
    {
     "data": {
      "text/plain": [
       "'------------------------FS725 Rubidium Frequency Standard------------------------\\n|----------------FS725 Rubidium Frequency Standard Status Summary----------------\\n|-------------------------Model: FS725, Serial No.34437--------------------------\\n|\\t Phase Lock Status: \\x1b[1;34;42mLOCKED\\x1b[0m\\n|\\t Freq  Lock Status: \\x1b[1;34;42mLOCKED\\x1b[0m\\n-------------FS725 Rubidium Frequency Standard Status Summary Ends--------------\\n'"
      ]
     },
     "execution_count": 13,
     "metadata": {},
     "output_type": "execute_result"
    }
   ],
   "source": [
    "rbclock.printStatus()"
   ]
  },
  {
   "cell_type": "code",
   "execution_count": 5,
   "id": "f1aad92c",
   "metadata": {},
   "outputs": [
    {
     "name": "stdout",
     "output_type": "stream",
     "text": [
      "-------------------------------Amonic 6A 680mW EDFA------------------------------\n",
      "|--------------------------Amonics EDFA Status Summary---------------------------\n",
      "|------------------Model: AEDFA-PM-27-R-FA, Serial No.21082531-------------------\n",
      "|\tInterLock Status: \u001b[1;34;42mUNLOCKED\u001b[0m\n",
      "|\tCase Temperature: 24.88°C\n",
      "|\tMaster Activation: \u001b[1;34;41mOFF\u001b[0m\n",
      "|\t------------Channel Summary-------------\n",
      "|\t CHANNEL1: \n",
      "|\t\t Mode: APC\n",
      "|\t\t Current: 630.0mA\n",
      "|\t\t Status: \u001b[1;34;41mOFF\u001b[0m\n",
      "|\t\t Output Power: 0.0mW\n",
      "|\t\t Internal PD Power: 0.0mW\n",
      "------------------------Amonics EDFA Status Summary Ends------------------------\n",
      "\n"
     ]
    },
    {
     "data": {
      "text/plain": [
       "'-------------------------------Amonic 6A 680mW EDFA------------------------------\\n|--------------------------Amonics EDFA Status Summary---------------------------\\n|------------------Model: AEDFA-PM-27-R-FA, Serial No.21082531-------------------\\n|\\tInterLock Status: \\x1b[1;34;42mUNLOCKED\\x1b[0m\\n|\\tCase Temperature: 24.88°C\\n|\\tMaster Activation: \\x1b[1;34;41mOFF\\x1b[0m\\n|\\t------------Channel Summary-------------\\n|\\t CHANNEL1: \\n|\\t\\t Mode: APC\\n|\\t\\t Current: 630.0mA\\n|\\t\\t Status: \\x1b[1;34;41mOFF\\x1b[0m\\n|\\t\\t Output Power: 0.0mW\\n|\\t\\t Internal PD Power: 0.0mW\\n------------------------Amonics EDFA Status Summary Ends------------------------\\n'"
      ]
     },
     "execution_count": 5,
     "metadata": {},
     "output_type": "execute_result"
    }
   ],
   "source": [
    "lfc.amamp.printStatus()"
   ]
  },
  {
   "cell_type": "code",
   "execution_count": 28,
   "id": "84fed22c",
   "metadata": {},
   "outputs": [
    {
     "data": {
      "text/plain": [
       "'6.301000e+02'"
      ]
     },
     "execution_count": 28,
     "metadata": {},
     "output_type": "execute_result"
    }
   ],
   "source": [
    "lfc.amamp.query(\":READ:DRIV:MAX:APC:CH1?\")"
   ]
  },
  {
   "cell_type": "code",
   "execution_count": 6,
   "id": "923b2cc0",
   "metadata": {},
   "outputs": [
    {
     "name": "stdout",
     "output_type": "stream",
     "text": [
      "Amonic 6A 680mW EDFA: CH1 mode set as APC\n",
      "Amonic 6A 680mW EDFA: setted APC mode CH1 current as 630.0 mW.\n",
      "Amonic 6A 680mW EDFA: ......waiting APC CH1 status set to ON, now OFF\n",
      "Amonic 6A 680mW EDFA: setted APC CH1 status as ON, finished in 0.076 seconds\n",
      "Amonic 6A 680mW EDFA: ACTIVATING LASER OUTPUT, MAKE SURE SEED INPUT POWER IS APPROPRIATE TO AVOID DAMAGE\n",
      "Amonic 6A 680mW EDFA: ......waiting Activation status set to ON, now OFF\n",
      "Amonic 6A 680mW EDFA: setted Activation status as ON, finished in 0.109 seconds\n"
     ]
    }
   ],
   "source": [
    "lfc.amamp.modeCh1 = 'ApC'\n",
    "lfc.amamp.accCh1Cur = 630\n",
    "lfc.amamp.accCh1Status = 1\n",
    "lfc.amamp.activation = 1"
   ]
  },
  {
   "cell_type": "code",
   "execution_count": 16,
   "id": "bd63906b",
   "metadata": {},
   "outputs": [
    {
     "name": "stdout",
     "output_type": "stream",
     "text": [
      "Waveshaper profile write successful.\n"
     ]
    }
   ],
   "source": [
    "lfc.wsp.set3rdDisper(d2=2.1, d3=-0., preview_plot=0)\n",
    "lfc.wsp.writeProfile()"
   ]
  },
  {
   "cell_type": "code",
   "execution_count": 35,
   "id": "78357378",
   "metadata": {},
   "outputs": [
    {
     "name": "stdout",
     "output_type": "stream",
     "text": [
      "-------------------Finisar Waveshaper SN201904 Status Summary-------------------\n",
      "|\t Atten info: \n",
      "|\t Phase info: Set 3rd disper with d2=2.12 ps/nm, d3=-0.0 ps/nm^2, center 192.17465256410256 THz\n",
      "----------------Finisar Waveshaper SN201904 Status Summary Ends-----------------\n"
     ]
    },
    {
     "data": {
      "image/png": "[encoded data removed]",
      "text/plain": [
       "<Figure size 648x432 with 4 Axes>"
      ]
     },
     "metadata": {
      "needs_background": "light"
     },
     "output_type": "display_data"
    }
   ],
   "source": [
    "lfc.wsp.printStatus()"
   ]
  },
  {
   "cell_type": "code",
   "execution_count": 74,
   "id": "c6141c7c",
   "metadata": {},
   "outputs": [
    {
     "name": "stdout",
     "output_type": "stream",
     "text": [
      "Instek GPD-4303S DCSupply: VSET channel 1 set to 1.830V\n",
      "Instek GPD-4303S DCSupply: ISET channel 1 set to 0.200A\n"
     ]
    }
   ],
   "source": [
    "lfc.RFoscPS.Vset1 = 1.83\n",
    "lfc.RFoscPS.Iset1 = 0.2"
   ]
  },
  {
   "cell_type": "code",
   "execution_count": null,
   "id": "a3c2b8be",
   "metadata": {},
   "outputs": [],
   "source": [
    "lfc.RFoscPS.Iout2"
   ]
  },
  {
   "cell_type": "code",
   "execution_count": 2,
   "id": "0a1e693c",
   "metadata": {},
   "outputs": [
    {
     "name": "stdout",
     "output_type": "stream",
     "text": [
      "Amonics EDFA connected\n",
      "-----------------------------------Amonics EDFA----------------------------------\n",
      "|--------------------------Amonics EDFA Status Summary---------------------------\n",
      "|------------------Model: AEDFA-PM-13-R-FA, Serial No.22020701-------------------\n",
      "|\tInterLock Status: \u001b[1;34;42mUNLOCKED\u001b[0m\n",
      "|\tCase Temperature: 27.44°C\n",
      "|\tMaster Activation: \u001b[1;34;41mOFF\u001b[0m\n",
      "|\t------------Channel Summary-------------\n",
      "|\t CHANNEL1: \n",
      "|\t\t Mode: ACC\n",
      "|\t\t Set Cur: 200.0 mA\n",
      "|\t\t Status: \u001b[1;34;41mOFF\u001b[0m\n",
      "|\t\t Input Power: 3.035998 mW\n",
      "|\t\t Output Power: 0.5319493 mW\n",
      "|\t\t Internal PD Power: 0.0 mW\n",
      "------------------------Amonics EDFA Status Summary Ends------------------------\n",
      "\n"
     ]
    },
    {
     "data": {
      "text/plain": [
       "'-----------------------------------Amonics EDFA----------------------------------\\n|--------------------------Amonics EDFA Status Summary---------------------------\\n|------------------Model: AEDFA-PM-13-R-FA, Serial No.22020701-------------------\\n|\\tInterLock Status: \\x1b[1;34;42mUNLOCKED\\x1b[0m\\n|\\tCase Temperature: 27.44°C\\n|\\tMaster Activation: \\x1b[1;34;41mOFF\\x1b[0m\\n|\\t------------Channel Summary-------------\\n|\\t CHANNEL1: \\n|\\t\\t Mode: ACC\\n|\\t\\t Set Cur: 200.0 mA\\n|\\t\\t Status: \\x1b[1;34;41mOFF\\x1b[0m\\n|\\t\\t Input Power: 3.035998 mW\\n|\\t\\t Output Power: 0.5319493 mW\\n|\\t\\t Internal PD Power: 0.0 mW\\n------------------------Amonics EDFA Status Summary Ends------------------------\\n'"
      ]
     },
     "execution_count": 2,
     "metadata": {},
     "output_type": "execute_result"
    }
   ],
   "source": [
    "from LFC.Hardware.AmonicsEDFA import AmonicsEDFA\n",
    "amamp2 = AmonicsEDFA(addr='ASRL4::INSTR')\n",
    "amamp2.connect()\n",
    "amamp2.printStatus()"
   ]
  },
  {
   "cell_type": "code",
   "execution_count": 9,
   "id": "a0f6dfda",
   "metadata": {},
   "outputs": [
    {
     "name": "stdout",
     "output_type": "stream",
     "text": [
      "Amonics EDFA: CH1 mode set as APC\n"
     ]
    }
   ],
   "source": [
    "amamp2.modeCh1='ApC'"
   ]
  },
  {
   "cell_type": "code",
   "execution_count": 12,
   "id": "8d34f79c",
   "metadata": {},
   "outputs": [
    {
     "name": "stdout",
     "output_type": "stream",
     "text": [
      "-----------------------------------Amonics EDFA----------------------------------\n",
      "|--------------------------Amonics EDFA Status Summary---------------------------\n",
      "|------------------Model: AEDFA-PM-13-R-FA, Serial No.22020701-------------------\n",
      "|\tInterLock Status: \u001b[1;34;42mUNLOCKED\u001b[0m\n",
      "|\tCase Temperature: 27.27°C\n",
      "|\tMaster Activation: \u001b[1;34;41mOFF\u001b[0m\n",
      "|\t------------Channel Summary-------------\n",
      "|\t CHANNEL1: \n",
      "|\t\t Mode: ACC\n",
      "|\t\t Set Cur: 200.0 mA\n",
      "|\t\t Status: \u001b[1;34;41mOFF\u001b[0m\n",
      "|\t\t Output Power: 1.650861mW\n",
      "|\t\t Internal PD Power: 0.0mW\n",
      "------------------------Amonics EDFA Status Summary Ends------------------------\n",
      "\n"
     ]
    },
    {
     "data": {
      "text/plain": [
       "'-----------------------------------Amonics EDFA----------------------------------\\n|--------------------------Amonics EDFA Status Summary---------------------------\\n|------------------Model: AEDFA-PM-13-R-FA, Serial No.22020701-------------------\\n|\\tInterLock Status: \\x1b[1;34;42mUNLOCKED\\x1b[0m\\n|\\tCase Temperature: 27.27°C\\n|\\tMaster Activation: \\x1b[1;34;41mOFF\\x1b[0m\\n|\\t------------Channel Summary-------------\\n|\\t CHANNEL1: \\n|\\t\\t Mode: ACC\\n|\\t\\t Set Cur: 200.0 mA\\n|\\t\\t Status: \\x1b[1;34;41mOFF\\x1b[0m\\n|\\t\\t Output Power: 1.650861mW\\n|\\t\\t Internal PD Power: 0.0mW\\n------------------------Amonics EDFA Status Summary Ends------------------------\\n'"
      ]
     },
     "execution_count": 12,
     "metadata": {},
     "output_type": "execute_result"
    }
   ],
   "source": [
    "amamp2.printStatus()"
   ]
  },
  {
   "cell_type": "code",
   "execution_count": 3,
   "id": "e430b5d4",
   "metadata": {},
   "outputs": [
    {
     "name": "stdout",
     "output_type": "stream",
     "text": [
      "-------------------------------Amonic 6A 680mW EDFA------------------------------\n",
      "|--------------------------Amonics EDFA Status Summary---------------------------\n",
      "|------------------Model: AEDFA-PM-27-R-FA, Serial No.21082531-------------------\n",
      "|\tInterLock Status: \u001b[1;34;42mUNLOCKED\u001b[0m\n",
      "|\tCase Temperature: 23.75°C\n",
      "|\tMaster Activation: \u001b[1;34;42mON\u001b[0m\n",
      "|\t------------Channel Summary-------------\n",
      "|\t CHANNEL1: \n",
      "|\t\t Mode: APC\n",
      "|\t\t Set Pwr: 350.0 mW\n",
      "|\t\t Status: \u001b[1;34;42mON\u001b[0m\n",
      "|\t\t Input Power: nan mW\n",
      "|\t\t Output Power: 350.5844 mW\n",
      "|\t\t Internal PD Power: 312.9211 mW\n",
      "------------------------Amonics EDFA Status Summary Ends------------------------\n",
      "\n"
     ]
    },
    {
     "name": "stderr",
     "output_type": "stream",
     "text": [
      "Z:\\Maodong\\Projects\\Keck\\Keck Comb\\LFC\\Hardware\\AmonicsEDFA.py:96: UserWarning: Amonic 6A 680mW EDFA: input power monitor not supported on AEDFA-PM-27-R-FA-sn. 21082531\n",
      "  warnings.warn(self.devicename + \": input power monitor not supported on \" + self.modelNumber + \"-sn. \" +\n"
     ]
    },
    {
     "data": {
      "text/plain": [
       "'-------------------------------Amonic 6A 680mW EDFA------------------------------\\n|--------------------------Amonics EDFA Status Summary---------------------------\\n|------------------Model: AEDFA-PM-27-R-FA, Serial No.21082531-------------------\\n|\\tInterLock Status: \\x1b[1;34;42mUNLOCKED\\x1b[0m\\n|\\tCase Temperature: 23.75°C\\n|\\tMaster Activation: \\x1b[1;34;42mON\\x1b[0m\\n|\\t------------Channel Summary-------------\\n|\\t CHANNEL1: \\n|\\t\\t Mode: APC\\n|\\t\\t Set Pwr: 350.0 mW\\n|\\t\\t Status: \\x1b[1;34;42mON\\x1b[0m\\n|\\t\\t Input Power: nan mW\\n|\\t\\t Output Power: 350.5844 mW\\n|\\t\\t Internal PD Power: 312.9211 mW\\n------------------------Amonics EDFA Status Summary Ends------------------------\\n'"
      ]
     },
     "execution_count": 3,
     "metadata": {},
     "output_type": "execute_result"
    }
   ],
   "source": [
    "lfc.amamp.printStatus()"
   ]
  },
  {
   "cell_type": "code",
   "execution_count": 16,
   "id": "ab68c3a7",
   "metadata": {},
   "outputs": [
    {
     "data": {
      "text/plain": [
       "'3.035998e+00'"
      ]
     },
     "execution_count": 16,
     "metadata": {},
     "output_type": "execute_result"
    }
   ],
   "source": [
    "amamp2.query(\":SENS:POW:IN:CH1?\")"
   ]
  },
  {
   "cell_type": "code",
   "execution_count": 34,
   "id": "b3a8d7c2",
   "metadata": {},
   "outputs": [
    {
     "name": "stdout",
     "output_type": "stream",
     "text": [
      "ANDO AQ-6315E Optical Spectrum Analyzer connected\n"
     ]
    },
    {
     "data": {
      "text/plain": [
       "1"
      ]
     },
     "execution_count": 34,
     "metadata": {},
     "output_type": "execute_result"
    }
   ],
   "source": [
    "from LFC.Hardware.AndoOSA_AQ6315E import AndoOSA_AQ6315E\n",
    "osa = AndoOSA_AQ6315E()\n",
    "osa.connect()"
   ]
  },
  {
   "cell_type": "code",
   "execution_count": 38,
   "id": "f5a40c54",
   "metadata": {},
   "outputs": [
    {
     "name": "stdout",
     "output_type": "stream",
     "text": [
      "ANDO AQ-6315E Optical Spectrum Analyzer: Scan start wavelength set to 1559.00 nm.\n",
      "ANDO AQ-6315E Optical Spectrum Analyzer: Scan stop wavelength set to 1561.00 nm.\n",
      "ANDO AQ-6315E Optical Spectrum Analyzer: Scan span wavelength set to 2.00 nm.\n"
     ]
    }
   ],
   "source": [
    "osa.wlspan = 2"
   ]
  },
  {
   "cell_type": "code",
   "execution_count": 4,
   "id": "f0e9bff3",
   "metadata": {},
   "outputs": [
    {
     "name": "stdout",
     "output_type": "stream",
     "text": [
      "ANDO AQ-6315E Optical Spectrum Analyzer connected\n",
      "ANDO AQ-6315E Optical Spectrum Analyzer: Scan start wavelength set to 1680.00 nm.\n",
      "ANDO AQ-6315E Optical Spectrum Analyzer: Scan stop wavelength set to 1690.00 nm.\n",
      "ANDO AQ-6315E Optical Spectrum Analyzer: Scan span wavelength set to 10.00 nm.\n",
      "ANDO AQ-6315E Optical Spectrum Analyzer: Scan start wavelength set to 1690.00 nm.\n",
      "ANDO AQ-6315E Optical Spectrum Analyzer: Scan stop wavelength set to 1700.00 nm.\n",
      "ANDO AQ-6315E Optical Spectrum Analyzer: Scan center wavelength set to 1695.00 nm.\n",
      "ANDO AQ-6315E Optical Spectrum Analyzer: Spectrum collection SINGLE run start.\n"
     ]
    },
    {
     "data": {
      "image/png": "[encoded data removed]",
      "text/plain": [
       "<Figure size 432x288 with 1 Axes>"
      ]
     },
     "metadata": {
      "needs_background": "light"
     },
     "output_type": "display_data"
    },
    {
     "name": "stdout",
     "output_type": "stream",
     "text": [
      "ANDO AQ-6315E Optical Spectrum Analyzer: Trace B data is collected and is shown in the plot.\n",
      "ANDO AQ-6315E Optical Spectrum Analyzer: Trace B data is saved to Z:\\Maodong\\Projects\\Keck\\System Assembly test\\20220824-Ando-full-spec\\Run_4\\center_1695nm_span_10nm.mat\n",
      "ANDO AQ-6315E Optical Spectrum Analyzer: Trace B data is saved to Z:\\Maodong\\Projects\\Keck\\System Assembly test\\20220824-Ando-full-spec\\Run_4\\center_1695nm_span_10nm.txt\n"
     ]
    }
   ],
   "source": [
    "# osa.wlstart=700\n",
    "# osa.wlstop=800\n",
    "\n",
    "import time\n",
    "filedir_global = r\"Z:\\Maodong\\Projects\\Keck\\System Assembly test\\20220824-Ando-full-spec\" + \"\\\\\"\n",
    "osa.wlspan = 10\n",
    "for wl_center in [1695]:\n",
    "    osa.wlcenter=wl_center\n",
    "    time.sleep(0.1)\n",
    "    osa.Single()\n",
    "    time.sleep(2)\n",
    "    trace = 'b'\n",
    "    file_subfolder =  'Run_4\\\\'\n",
    "    try:\n",
    "        filename = f\"center_{wl_center:.0f}nm_span_10nm\"\n",
    "        osa.save_trace(trace, filedir_global+file_subfolder+filename)\n",
    "    except:\n",
    "        pass\n",
    "    \n",
    "\n",
    "# osa.wlspan=10"
   ]
  },
  {
   "cell_type": "code",
   "execution_count": 83,
   "id": "11987ba0",
   "metadata": {},
   "outputs": [
    {
     "name": "stdout",
     "output_type": "stream",
     "text": [
      "ANDO AQ-6315E Optical Spectrum Analyzer: Scan start wavelength set to 1255.00 nm.\n",
      "ANDO AQ-6315E Optical Spectrum Analyzer: Scan stop wavelength set to 1265.00 nm.\n",
      "ANDO AQ-6315E Optical Spectrum Analyzer: Scan span wavelength set to 10.00 nm.\n"
     ]
    }
   ],
   "source": [
    "osa.wlspan=10"
   ]
  },
  {
   "cell_type": "code",
   "execution_count": 45,
   "id": "3ea02f99",
   "metadata": {},
   "outputs": [
    {
     "name": "stdout",
     "output_type": "stream",
     "text": [
      "ANDO AQ-6315E Optical Spectrum Analyzer: Resolution set to 0.05 nm.\n"
     ]
    }
   ],
   "source": [
    "osa.resolution=0.05"
   ]
  },
  {
   "cell_type": "code",
   "execution_count": 49,
   "id": "390008a4",
   "metadata": {},
   "outputs": [
    {
     "name": "stdout",
     "output_type": "stream",
     "text": [
      "ANDO AQ-6315E Optical Spectrum Analyzer: OSA sensitivity set to norm.\n"
     ]
    }
   ],
   "source": [
    "osa.set_sens('norm')"
   ]
  },
  {
   "cell_type": "code",
   "execution_count": 7,
   "id": "6311a0fd",
   "metadata": {},
   "outputs": [
    {
     "name": "stdout",
     "output_type": "stream",
     "text": [
      "ANDO AQ-6315E Optical Spectrum Analyzer: Scan start wavelength set to 1555.00 nm.\n",
      "ANDO AQ-6315E Optical Spectrum Analyzer: Scan stop wavelength set to 1565.00 nm.\n",
      "ANDO AQ-6315E Optical Spectrum Analyzer: Scan center wavelength set to 1560.00 nm.\n",
      "ANDO AQ-6315E Optical Spectrum Analyzer: Scan start wavelength set to 1550.00 nm.\n",
      "ANDO AQ-6315E Optical Spectrum Analyzer: Scan stop wavelength set to 1570.00 nm.\n",
      "ANDO AQ-6315E Optical Spectrum Analyzer: Scan span wavelength set to 20.00 nm.\n"
     ]
    }
   ],
   "source": [
    "osa.wlcenter=1560\n",
    "osa.wlspan = 20"
   ]
  },
  {
   "cell_type": "code",
   "execution_count": 8,
   "id": "8980577a",
   "metadata": {},
   "outputs": [
    {
     "name": "stdout",
     "output_type": "stream",
     "text": [
      "ANDO AQ-6315E Optical Spectrum Analyzer: Spectrum collection RUN (repeat) start.\n"
     ]
    }
   ],
   "source": [
    "osa.Run()"
   ]
  },
  {
   "cell_type": "code",
   "execution_count": null,
   "id": "82a6af12",
   "metadata": {},
   "outputs": [],
   "source": []
  }
 ],
 "metadata": {
  "kernelspec": {
   "display_name": "Python 3 (ipykernel)",
   "language": "python",
   "name": "python3"
  },
  "language_info": {
   "codemirror_mode": {
    "name": "ipython",
    "version": 3
   },
   "file_extension": ".py",
   "mimetype": "text/x-python",
   "name": "python",
   "nbconvert_exporter": "python",
   "pygments_lexer": "ipython3",
   "version": "3.8.12"
  }
 },
 "nbformat": 4,
 "nbformat_minor": 5
}
