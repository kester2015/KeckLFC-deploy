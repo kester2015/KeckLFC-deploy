{
 "cells": [
  {
   "cell_type": "code",
   "execution_count": 5,
   "id": "c6fee56e",
   "metadata": {},
   "outputs": [
    {
     "name": "stdout",
     "output_type": "stream",
     "text": [
      "Red Pitaya connected\n"
     ]
    },
    {
     "data": {
      "text/plain": [
       "1"
      ]
     },
     "execution_count": 5,
     "metadata": {},
     "output_type": "execute_result"
    }
   ],
   "source": [
    "from LFC.Hardware import *\n",
    "rp_amp = RedPitaya('131.215.238.95')\n",
    "rp_amp.connect()"
   ]
  },
  {
   "cell_type": "code",
   "execution_count": 6,
   "id": "34e92b72",
   "metadata": {},
   "outputs": [
    {
     "name": "stderr",
     "output_type": "stream",
     "text": [
      "Exception in thread Thread-6:\n",
      "Traceback (most recent call last):\n",
      "  File \"C:\\Users\\HSFLFC\\.conda\\envs\\lfc\\lib\\threading.py\", line 932, in _bootstrap_inner\n",
      "    self.run()\n",
      "  File \"C:\\Users\\HSFLFC\\.conda\\envs\\lfc\\lib\\threading.py\", line 870, in run\n",
      "    self._target(*self._args, **self._kwargs)\n",
      "  File \"C:\\Users\\HSFLFC\\OneDrive - California Institute of Technology\\Shared with Everyone\\ZDisk\\Keck Comb\\LFC\\Hardware\\RedPitaya.py\", line 81, in osc\n",
      "    y = self.acquire(port)\n",
      "  File \"C:\\Users\\HSFLFC\\OneDrive - California Institute of Technology\\Shared with Everyone\\ZDisk\\Keck Comb\\LFC\\Hardware\\RedPitaya.py\", line 58, in acquire\n",
      "    if self.read() == 'TD':\n",
      "  File \"C:\\Users\\HSFLFC\\OneDrive - California Institute of Technology\\Shared with Everyone\\ZDisk\\Keck Comb\\LFC\\Hardware\\RedPitaya.py\", line 28, in read\n",
      "    return self.inst.rx_txt()\n",
      "  File \"C:\\Users\\HSFLFC\\OneDrive - California Institute of Technology\\Shared with Everyone\\ZDisk\\Keck Comb\\LFC\\Hardware\\RedPitaya.py\", line 315, in rx_txt\n",
      "    chunk = self._socket.recv(chunksize + len(self.delimiter)).decode(\n",
      "socket.timeout: timed out\n"
     ]
    }
   ],
   "source": [
    "rp_amp.startosc(port = 1)\n",
    "rp_amp.setosc(dec = 2**10, xlim = None, ylim = (-10,10), trigger = \"CH_PE\")"
   ]
  },
  {
   "cell_type": "code",
   "execution_count": 15,
   "id": "480f6291",
   "metadata": {},
   "outputs": [
    {
     "data": {
      "image/png": "[encoded data removed]",
      "text/plain": [
       "<Figure size 432x288 with 1 Axes>"
      ]
     },
     "metadata": {},
     "output_type": "display_data"
    }
   ],
   "source": [
    "rp_amp.ramp(port=2)"
   ]
  },
  {
   "cell_type": "code",
   "execution_count": 16,
   "id": "2a1f6074",
   "metadata": {},
   "outputs": [
    {
     "data": {
      "image/png": "[encoded data removed]",
      "text/plain": [
       "<Figure size 432x288 with 1 Axes>"
      ]
     },
     "metadata": {},
     "output_type": "display_data"
    }
   ],
   "source": [
    "rp_amp.disable(port=2)"
   ]
  },
  {
   "cell_type": "code",
   "execution_count": null,
   "id": "94dbd135",
   "metadata": {},
   "outputs": [],
   "source": []
  }
 ],
 "metadata": {
  "kernelspec": {
   "display_name": "Python 3 (ipykernel)",
   "language": "python",
   "name": "python3"
  },
  "language_info": {
   "codemirror_mode": {
    "name": "ipython",
    "version": 3
   },
   "file_extension": ".py",
   "mimetype": "text/x-python",
   "name": "python",
   "nbconvert_exporter": "python",
   "pygments_lexer": "ipython3",
   "version": "3.8.12"
  }
 },
 "nbformat": 4,
 "nbformat_minor": 5
}
