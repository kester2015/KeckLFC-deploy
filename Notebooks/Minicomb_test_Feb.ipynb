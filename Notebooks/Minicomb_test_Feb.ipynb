{
 "cells": [
  {
   "cell_type": "code",
   "execution_count": 166,
   "metadata": {},
   "outputs": [
    {
     "name": "stderr",
     "output_type": "stream",
     "text": [
      "\u001b[32m2024-06-22 15:02:07.412\u001b[0m | \u001b[1mINFO    \u001b[0m | \u001b[36mAgilent 86142B\u001b[0m | \u001b[36mDevice.py\u001b[0m:\u001b[36mconnect\u001b[0m:\u001b[36m78\u001b[0m\n",
      "\u001b[1mAgilent 86142B connected\u001b[0m\n"
     ]
    },
    {
     "data": {
      "text/plain": [
       "1"
      ]
     },
     "execution_count": 166,
     "metadata": {},
     "output_type": "execute_result"
    }
   ],
   "source": [
    "from KeckLFC.Hardware.Agilent_86142B import Agilent_86142B\n",
    "\n",
    "osa = Agilent_86142B()\n",
    "osa.connect()\n"
   ]
  },
  {
   "cell_type": "code",
   "execution_count": 167,
   "metadata": {},
   "outputs": [
    {
     "data": {
      "image/png": "[encoded data removed]",
      "text/plain": [
       "<Figure size 640x480 with 1 Axes>"
      ]
     },
     "metadata": {},
     "output_type": "display_data"
    },
    {
     "name": "stderr",
     "output_type": "stream",
     "text": [
      "\u001b[32m2024-06-22 15:02:32.857\u001b[0m | \u001b[1mINFO    \u001b[0m | \u001b[36mAgilent 86142B\u001b[0m | \u001b[36mAgilent_86142B.py\u001b[0m:\u001b[36mget_trace\u001b[0m:\u001b[36m327\u001b[0m\n",
      "\u001b[1mAgilent 86142B: Trace A data is collected and is shown in the plot.\u001b[0m\n"
     ]
    },
    {
     "data": {
      "text/plain": [
       "(array([1553.5  , 1553.515, 1553.53 , ..., 1568.47 , 1568.485, 1568.5  ],\n",
       "       dtype=float32),\n",
       " array([-80.5727 , -80.5727 , -80.5727 , ..., -75.92898, -80.3937 ,\n",
       "        -80.3937 ], dtype=float32))"
      ]
     },
     "execution_count": 167,
     "metadata": {},
     "output_type": "execute_result"
    }
   ],
   "source": [
    "osa.get_trace('a')"
   ]
  },
  {
   "cell_type": "code",
   "execution_count": 2,
   "metadata": {},
   "outputs": [
    {
     "name": "stdout",
     "output_type": "stream",
     "text": [
      "c:\\Users\\KeckLFC\\KeckLFC-main\n"
     ]
    }
   ],
   "source": [
    "cd .."
   ]
  },
  {
   "cell_type": "code",
   "execution_count": 36,
   "metadata": {},
   "outputs": [
    {
     "name": "stderr",
     "output_type": "stream",
     "text": [
      "\u001b[32m2024-04-10 10:38:47.902\u001b[0m | \u001b[1mINFO    \u001b[0m | \u001b[36mAgilent 86142B\u001b[0m | \u001b[36mAgilent_86142B.py\u001b[0m:\u001b[36mset_wlstart\u001b[0m:\u001b[36m118\u001b[0m\n",
      "\u001b[1mAgilent 86142B: Scan start wavelength set to 1552.50 nm.\u001b[0m\n",
      "\u001b[32m2024-04-10 10:38:48.721\u001b[0m | \u001b[1mINFO    \u001b[0m | \u001b[36mAgilent 86142B\u001b[0m | \u001b[36mAgilent_86142B.py\u001b[0m:\u001b[36mset_wlstop\u001b[0m:\u001b[36m127\u001b[0m\n",
      "\u001b[1mAgilent 86142B: Scan stop wavelength set to 1569.50 nm.\u001b[0m\n",
      "\u001b[32m2024-04-10 10:38:48.728\u001b[0m | \u001b[1mINFO    \u001b[0m | \u001b[36mAgilent 86142B\u001b[0m | \u001b[36mAgilent_86142B.py\u001b[0m:\u001b[36mset_wlcenter\u001b[0m:\u001b[36m151\u001b[0m\n",
      "\u001b[1mAgilent 86142B: Scan center wavelength set to 1561.00 nm.\u001b[0m\n"
     ]
    }
   ],
   "source": [
    "osa.wlcenter=1561"
   ]
  },
  {
   "cell_type": "code",
   "execution_count": 60,
   "metadata": {},
   "outputs": [
    {
     "name": "stderr",
     "output_type": "stream",
     "text": [
      "\u001b[32m2024-02-22 14:15:07.796\u001b[0m | \u001b[1mINFO    \u001b[0m | \u001b[36mAgilent 86142B\u001b[0m | \u001b[36mDevice.py\u001b[0m:\u001b[36mdisconnect\u001b[0m:\u001b[36m90\u001b[0m\n",
      "\u001b[1mAgilent 86142B disconnected\u001b[0m\n"
     ]
    },
    {
     "data": {
      "text/plain": [
       "1"
      ]
     },
     "execution_count": 60,
     "metadata": {},
     "output_type": "execute_result"
    }
   ],
   "source": [
    "# osa.disconnect()"
   ]
  },
  {
   "cell_type": "code",
   "execution_count": 7,
   "metadata": {},
   "outputs": [
    {
     "name": "stdout",
     "output_type": "stream",
     "text": [
      "c:\\Users\\KeckLFC\\KeckLFC-main\n"
     ]
    }
   ],
   "source": [
    "cd KeckLFC-main"
   ]
  },
  {
   "cell_type": "code",
   "execution_count": 8,
   "metadata": {},
   "outputs": [],
   "source": [
    "from KeckLFC.Hardware.Arduino_relay import Arduino_relay"
   ]
  },
  {
   "cell_type": "code",
   "execution_count": 9,
   "metadata": {},
   "outputs": [
    {
     "name": "stderr",
     "output_type": "stream",
     "text": [
      "\u001b[32m2024-06-03 11:20:55.480\u001b[0m | \u001b[1mINFO    \u001b[0m | \u001b[36mArduino Relay Circuit\u001b[0m | \u001b[36mArduino_relay.py\u001b[0m:\u001b[36mconnect\u001b[0m:\u001b[36m57\u001b[0m\n",
      "\u001b[1mError:<class 'serial.serialutil.SerialException'>\u001b[0m\n"
     ]
    },
    {
     "data": {
      "text/plain": [
       "-1"
      ]
     },
     "execution_count": 9,
     "metadata": {},
     "output_type": "execute_result"
    }
   ],
   "source": [
    "arduino = Arduino_relay()\n",
    "arduino.connect()"
   ]
  },
  {
   "cell_type": "code",
   "execution_count": 10,
   "metadata": {},
   "outputs": [
    {
     "data": {
      "text/plain": [
       "0"
      ]
     },
     "execution_count": 10,
     "metadata": {},
     "output_type": "execute_result"
    }
   ],
   "source": [
    "arduino.disconnect()"
   ]
  },
  {
   "cell_type": "code",
   "execution_count": null,
   "metadata": {},
   "outputs": [],
   "source": []
  },
  {
   "cell_type": "code",
   "execution_count": 3,
   "metadata": {},
   "outputs": [
    {
     "name": "stdout",
     "output_type": "stream",
     "text": [
      " Volume in drive C has no label.\n",
      " Volume Serial Number is BC2E-EE77\n",
      "\n",
      " Directory of c:\\Users\\KeckLFC\\KeckLFC-main\\KeckLFC\\Notebooks\n",
      "\n",
      "05/07/2024  02:06 PM    <DIR>          .\n",
      "05/27/2024  10:21 AM    <DIR>          ..\n",
      "11/03/2023  12:35 PM            52,871 AndoOSA_test.ipynb\n",
      "11/03/2023  12:35 PM        11,504,127 Compression_Stage_Test.ipynb\n",
      "05/27/2024  10:18 AM            47,665 email_test.ipynb\n",
      "11/03/2023  12:35 PM         3,929,808 Filter-Cavity-Locking-Test.ipynb\n",
      "03/05/2024  10:43 AM         2,418,222 July_Commission.ipynb\n",
      "11/03/2023  12:35 PM           451,323 Jun_Commission.ipynb\n",
      "11/03/2023  12:35 PM           434,279 KeckLFC_class_test.ipynb\n",
      "02/07/2024  02:07 PM               258 KTL_test.py\n",
      "11/03/2023  12:35 PM            43,815 LFI-3751_test.ipynb\n",
      "04/22/2024  12:10 PM           642,930 Minicomb_test_Feb.ipynb\n",
      "05/07/2024  02:06 PM           125,217 new_laptop_test.ipynb\n",
      "11/03/2023  12:35 PM             7,469 OZvoaTest.ipynb\n",
      "11/03/2023  12:35 PM             1,826 pendulum_test.ipynb\n",
      "11/03/2023  12:35 PM           107,824 pyRPL_test.ipynb\n",
      "11/03/2023  12:35 PM           164,022 Rack_Reconfigure_test.ipynb\n",
      "11/03/2023  12:35 PM            70,605 redpitaya_test-Copy1.ipynb\n",
      "11/03/2023  12:35 PM            70,900 redpitaya_test-Copy2.ipynb\n",
      "11/03/2023  12:35 PM            72,956 redpitaya_test.ipynb\n",
      "03/05/2024  10:43 AM           538,042 remote_lock.ipynb\n",
      "11/03/2023  12:35 PM            36,110 RIO_test-Copy1.ipynb\n",
      "11/03/2023  12:35 PM            46,336 RIO_test.ipynb\n",
      "11/03/2023  12:35 PM            31,385 SRS_SIM900_test.ipynb\n",
      "11/03/2023  12:35 PM        12,426,371 TDS2024C_test.ipynb\n",
      "03/05/2024  10:43 AM           256,932 test.ipynb\n",
      "11/03/2023  12:35 PM           298,676 Untitled.ipynb\n",
      "11/03/2023  12:35 PM            11,016 USB2408_test.ipynb\n",
      "11/03/2023  12:35 PM            22,067 VAmp_test.ipynb\n",
      "11/03/2023  12:35 PM           116,621 Waveshaper_class_test.ipynb\n",
      "04/17/2024  01:42 PM           749,706 ws.log\n",
      "              29 File(s)     34,679,379 bytes\n",
      "               2 Dir(s)  372,020,633,600 bytes free\n"
     ]
    }
   ],
   "source": [
    "!dir"
   ]
  },
  {
   "cell_type": "code",
   "execution_count": null,
   "metadata": {},
   "outputs": [
    {
     "data": {
      "image/png": "[encoded data removed]",
      "text/plain": [
       "<Figure size 640x480 with 1 Axes>"
      ]
     },
     "metadata": {},
     "output_type": "display_data"
    },
    {
     "name": "stderr",
     "output_type": "stream",
     "text": [
      "\u001b[32m2024-04-16 12:10:30.629\u001b[0m | \u001b[1mINFO    \u001b[0m | \u001b[36mAgilent 86142B\u001b[0m | \u001b[36mAgilent_86142B.py\u001b[0m:\u001b[36mget_trace\u001b[0m:\u001b[36m327\u001b[0m\n",
      "\u001b[1mAgilent 86142B: Trace A data is collected and is shown in the plot.\u001b[0m\n"
     ]
    },
    {
     "data": {
      "text/plain": [
       "(array([1552.5  , 1552.517, 1552.534, ..., 1569.466, 1569.483, 1569.5  ],\n",
       "       dtype=float32),\n",
       " array([-76.36949, -73.69371, -79.12568, ..., -78.9236 , -78.9236 ,\n",
       "        -73.49053], dtype=float32))"
      ]
     },
     "execution_count": 8,
     "metadata": {},
     "output_type": "execute_result"
    }
   ],
   "source": [
    "# osa.wlstop =1567\n",
    "\n",
    "osa.get_trace('a')"
   ]
  },
  {
   "cell_type": "code",
   "execution_count": 77,
   "metadata": {},
   "outputs": [
    {
     "name": "stderr",
     "output_type": "stream",
     "text": [
      "\u001b[32m2024-02-22 14:18:32.631\u001b[0m | \u001b[1mINFO    \u001b[0m | \u001b[36mAgilent 86142B\u001b[0m | \u001b[36mAgilent_86142B.py\u001b[0m:\u001b[36mset_reflevel\u001b[0m:\u001b[36m109\u001b[0m\n",
      "\u001b[1mAgilent 86142B: Reference level set to -40.0 dBm.\u001b[0m\n"
     ]
    }
   ],
   "source": [
    "osa.set_reflevel(-40)"
   ]
  },
  {
   "cell_type": "code",
   "execution_count": 72,
   "metadata": {},
   "outputs": [
    {
     "name": "stderr",
     "output_type": "stream",
     "text": [
      "\u001b[32m2024-02-22 14:17:54.357\u001b[0m | \u001b[1mINFO    \u001b[0m | \u001b[36mAgilent 86142B\u001b[0m | \u001b[36mAgilent_86142B.py\u001b[0m:\u001b[36mset_resolution\u001b[0m:\u001b[36m160\u001b[0m\n",
      "\u001b[1mAgilent 86142B: Resolution set to 0.06 nm.\u001b[0m\n"
     ]
    },
    {
     "data": {
      "text/plain": [
       "0.06"
      ]
     },
     "execution_count": 72,
     "metadata": {},
     "output_type": "execute_result"
    }
   ],
   "source": [
    "osa.set_resolution(0.05)\n",
    "osa.get_resolution()"
   ]
  },
  {
   "cell_type": "code",
   "execution_count": 45,
   "metadata": {},
   "outputs": [
    {
     "data": {
      "text/plain": [
       "1625.0"
      ]
     },
     "execution_count": 45,
     "metadata": {},
     "output_type": "execute_result"
    }
   ],
   "source": [
    "osa.write(f'SENS:WAV:STAR {1550:.2f}nm')\n",
    "osa.get_wlcenter()"
   ]
  },
  {
   "cell_type": "code",
   "execution_count": null,
   "metadata": {},
   "outputs": [],
   "source": []
  },
  {
   "cell_type": "code",
   "execution_count": 168,
   "metadata": {},
   "outputs": [
    {
     "name": "stderr",
     "output_type": "stream",
     "text": [
      "\u001b[32m2024-06-22 15:02:55.447\u001b[0m | \u001b[1mINFO    \u001b[0m | \u001b[36mAmonics EDFA 27 dBm\u001b[0m | \u001b[36mDevice.py\u001b[0m:\u001b[36mconnect\u001b[0m:\u001b[36m78\u001b[0m\n",
      "\u001b[1mAmonics EDFA 27 dBm connected\u001b[0m\n"
     ]
    },
    {
     "name": "stderr",
     "output_type": "stream",
     "text": [
      "\u001b[32m2024-06-22 15:02:55.780\u001b[0m | \u001b[1mINFO    \u001b[0m | \u001b[36mAmonics EDFA 27 dBm\u001b[0m | \u001b[36mAmonicsEDFA.py\u001b[0m:\u001b[36mprintStatus\u001b[0m:\u001b[36m49\u001b[0m\n",
      "\u001b[1m-------------------------------Amonics EDFA 27 dBm-------------------------------\n",
      "|--------------------------Amonics EDFA Status Summary---------------------------\n",
      "|------------------Model: AEDFA-PM-27-R-FA, Serial No.21082531-------------------\n",
      "|\tInterLock Status: \u001b[1;34;42mUNLOCKED\u001b[0m\n",
      "|\tCase Temperature: 24.60°C\n",
      "|\tMaster Activation: \u001b[1;34;41mOFF\u001b[0m\n",
      "|\t------------Channel Summary-------------\n",
      "|\t CHANNEL1: \n",
      "|\t\t Mode: APC\n",
      "|\t\t Set Pwr: 450.0 mW\n",
      "|\t\t Status: \u001b[1;34;41mOFF\u001b[0m\n",
      "|\t\t Input Power: 0.0 mW\n",
      "|\t\t Output Power: 0.0 mW\n",
      "|\t\t Internal PD Power: 0.0 mW\n",
      "------------------------Amonics EDFA Status Summary Ends------------------------\n",
      "\u001b[0m\n"
     ]
    },
    {
     "data": {
      "text/plain": [
       "'-------------------------------Amonics EDFA 27 dBm-------------------------------\\n|--------------------------Amonics EDFA Status Summary---------------------------\\n|------------------Model: AEDFA-PM-27-R-FA, Serial No.21082531-------------------\\n|\\tInterLock Status: \\x1b[1;34;42mUNLOCKED\\x1b[0m\\n|\\tCase Temperature: 24.60°C\\n|\\tMaster Activation: \\x1b[1;34;41mOFF\\x1b[0m\\n|\\t------------Channel Summary-------------\\n|\\t CHANNEL1: \\n|\\t\\t Mode: APC\\n|\\t\\t Set Pwr: 450.0 mW\\n|\\t\\t Status: \\x1b[1;34;41mOFF\\x1b[0m\\n|\\t\\t Input Power: 0.0 mW\\n|\\t\\t Output Power: 0.0 mW\\n|\\t\\t Internal PD Power: 0.0 mW\\n------------------------Amonics EDFA Status Summary Ends------------------------\\n'"
      ]
     },
     "execution_count": 168,
     "metadata": {},
     "output_type": "execute_result"
    }
   ],
   "source": [
    "from KeckLFC.Hardware.AmonicsEDFA import AmonicsEDFA\n",
    "amonic27 = AmonicsEDFA(addr=f'ASRL{6}::INSTR', name='Amonics EDFA 27 dBm')\n",
    "amonic27.connect()\n",
    "amonic27.printStatus()\n"
   ]
  },
  {
   "cell_type": "code",
   "execution_count": 9,
   "metadata": {},
   "outputs": [
    {
     "name": "stderr",
     "output_type": "stream",
     "text": [
      "\u001b[32m2024-02-22 13:27:21.869\u001b[0m | \u001b[1mINFO    \u001b[0m | \u001b[36mAmonics EDFA 27 dBm\u001b[0m | \u001b[36mAmonicsEDFA.py\u001b[0m:\u001b[36m_setChMode\u001b[0m:\u001b[36m297\u001b[0m\n",
      "\u001b[1mAmonics EDFA 27 dBm: CH1 mode set as apc\u001b[0m\n"
     ]
    }
   ],
   "source": [
    "amonic27._setChMode('apc')"
   ]
  },
  {
   "cell_type": "code",
   "execution_count": 11,
   "metadata": {},
   "outputs": [
    {
     "name": "stderr",
     "output_type": "stream",
     "text": [
      "\u001b[32m2024-02-22 13:28:37.515\u001b[0m | \u001b[1mINFO    \u001b[0m | \u001b[36mAmonics EDFA 27 dBm\u001b[0m | \u001b[36mAmonicsEDFA.py\u001b[0m:\u001b[36m_setIorP\u001b[0m:\u001b[36m229\u001b[0m\n",
      "\u001b[1mAmonics EDFA 27 dBm: setted APC mode CH1 current as 450.0 mW.\u001b[0m\n"
     ]
    }
   ],
   "source": [
    "amonic27.accCh1Cur='450mw'"
   ]
  },
  {
   "cell_type": "code",
   "execution_count": 5,
   "metadata": {},
   "outputs": [
    {
     "name": "stderr",
     "output_type": "stream",
     "text": [
      "\u001b[32m2024-04-08 13:42:42.026\u001b[0m | \u001b[1mINFO    \u001b[0m | \u001b[36mAmonics EDFA 27 dBm\u001b[0m | \u001b[36mAmonicsEDFA.py\u001b[0m:\u001b[36m_setChStatus\u001b[0m:\u001b[36m278\u001b[0m\n",
      "\u001b[1mAmonics EDFA 27 dBm: ......waiting APC CH1 status set to ON, now OFF\u001b[0m\n"
     ]
    },
    {
     "name": "stderr",
     "output_type": "stream",
     "text": [
      "\u001b[32m2024-04-08 13:42:42.079\u001b[0m | \u001b[1mINFO    \u001b[0m | \u001b[36mAmonics EDFA 27 dBm\u001b[0m | \u001b[36mAmonicsEDFA.py\u001b[0m:\u001b[36m_setChStatus\u001b[0m:\u001b[36m281\u001b[0m\n",
      "\u001b[1mAmonics EDFA 27 dBm: setted APC CH1 status as ON, finished in 0.080 seconds\u001b[0m\n",
      "\u001b[32m2024-04-08 13:42:42.111\u001b[0m | \u001b[1mINFO    \u001b[0m | \u001b[36mAmonics EDFA 27 dBm\u001b[0m | \u001b[36mAmonicsEDFA.py\u001b[0m:\u001b[36mactivation\u001b[0m:\u001b[36m185\u001b[0m\n",
      "\u001b[1mAmonics EDFA 27 dBm: ACTIVATING LASER OUTPUT, MAKE SURE SEED INPUT POWER IS APPROPRIATE TO AVOID DAMAGE\u001b[0m\n",
      "\u001b[32m2024-04-08 13:42:42.144\u001b[0m | \u001b[1mINFO    \u001b[0m | \u001b[36mAmonics EDFA 27 dBm\u001b[0m | \u001b[36mAmonicsEDFA.py\u001b[0m:\u001b[36mactivation\u001b[0m:\u001b[36m192\u001b[0m\n",
      "\u001b[1mAmonics EDFA 27 dBm: ......waiting Activation status set to ON, now OFF\u001b[0m\n",
      "\u001b[32m2024-04-08 13:42:42.191\u001b[0m | \u001b[1mINFO    \u001b[0m | \u001b[36mAmonics EDFA 27 dBm\u001b[0m | \u001b[36mAmonicsEDFA.py\u001b[0m:\u001b[36mactivation\u001b[0m:\u001b[36m195\u001b[0m\n",
      "\u001b[1mAmonics EDFA 27 dBm: setted Activation status as ON, finished in 0.078 seconds\u001b[0m\n"
     ]
    }
   ],
   "source": [
    "amonic27.accCh1Status = 1\n",
    "amonic27.activation = 1"
   ]
  },
  {
   "cell_type": "code",
   "execution_count": 169,
   "metadata": {},
   "outputs": [
    {
     "name": "stderr",
     "output_type": "stream",
     "text": [
      "\u001b[32m2024-06-22 15:03:08.913\u001b[0m | \u001b[1mINFO    \u001b[0m | \u001b[36mRF oscilator PS, CH2 15V, CH3 1V\u001b[0m | \u001b[36mDevice.py\u001b[0m:\u001b[36mconnect\u001b[0m:\u001b[36m78\u001b[0m\n",
      "\u001b[1mRF oscilator PS, CH2 15V, CH3 1V connected\u001b[0m\n",
      "\u001b[32m2024-06-22 15:03:12.164\u001b[0m | \u001b[1mINFO    \u001b[0m | \u001b[36mRF oscilator PS, CH2 15V, CH3 1V\u001b[0m | \u001b[36mInstekGPD_4303S.py\u001b[0m:\u001b[36mprintStatus\u001b[0m:\u001b[36m200\u001b[0m\n",
      "\u001b[1m-------------------------RF oscilator PS, CH2 15V, CH3 1V------------------------\n",
      "|----------------Instek DC Power Supply GPD-4303S Status Summary-----------------\n",
      "|--------------------Model: GPD-4303S, Serial No.SN:EV884423---------------------\n",
      "|\tMaster Activation: \u001b[1;34;41mOFF\u001b[0m\n",
      "|\t------------Channel Summary-------------\n",
      "|\t CH1: master, CH2: slave, mode UNRECOGNIZED?.\n",
      "|\t CHANNEL1: CC Mode.\n",
      "|\t\t VSET=0.000V, ISET=0.000A.\n",
      "|\t\t VOUT=0.000V, IOUT=0.000A.\n",
      "|\t\t Output power: 0.000W.\n",
      "|\t CHANNEL2: CC Mode.\n",
      "|\t\t VSET=15.000V, ISET=3.000A.\n",
      "|\t\t VOUT=0.000V, IOUT=0.000A.\n",
      "|\t\t Output power: 0.000W.\n",
      "|\t CHANNEL3: CC Mode.\n",
      "|\t\t VSET=0.100V, ISET=1.000A.\n",
      "|\t\t VOUT=0.000V, IOUT=0.000A.\n",
      "|\t\t Output power: 0.000W.\n",
      "|\t CHANNEL4: CV Mode.\n",
      "|\t\t VSET=0.000V, ISET=0.000A.\n",
      "|\t\t VOUT=0.000V, IOUT=0.000A.\n",
      "|\t\t Output power: 0.000W.\n",
      "--------------Instek DC Power Supply GPD-4303S Status Summary Ends--------------\n",
      "\u001b[0m\n"
     ]
    },
    {
     "data": {
      "text/plain": [
       "'-------------------------RF oscilator PS, CH2 15V, CH3 1V------------------------\\n|----------------Instek DC Power Supply GPD-4303S Status Summary-----------------\\n|--------------------Model: GPD-4303S, Serial No.SN:EV884423---------------------\\n|\\tMaster Activation: \\x1b[1;34;41mOFF\\x1b[0m\\n|\\t------------Channel Summary-------------\\n|\\t CH1: master, CH2: slave, mode UNRECOGNIZED?.\\n|\\t CHANNEL1: CC Mode.\\n|\\t\\t VSET=0.000V, ISET=0.000A.\\n|\\t\\t VOUT=0.000V, IOUT=0.000A.\\n|\\t\\t Output power: 0.000W.\\n|\\t CHANNEL2: CC Mode.\\n|\\t\\t VSET=15.000V, ISET=3.000A.\\n|\\t\\t VOUT=0.000V, IOUT=0.000A.\\n|\\t\\t Output power: 0.000W.\\n|\\t CHANNEL3: CC Mode.\\n|\\t\\t VSET=0.100V, ISET=1.000A.\\n|\\t\\t VOUT=0.000V, IOUT=0.000A.\\n|\\t\\t Output power: 0.000W.\\n|\\t CHANNEL4: CV Mode.\\n|\\t\\t VSET=0.000V, ISET=0.000A.\\n|\\t\\t VOUT=0.000V, IOUT=0.000A.\\n|\\t\\t Output power: 0.000W.\\n--------------Instek DC Power Supply GPD-4303S Status Summary Ends--------------\\n'"
      ]
     },
     "execution_count": 169,
     "metadata": {},
     "output_type": "execute_result"
    }
   ],
   "source": [
    "from KeckLFC.Hardware.InstekGPD_4303S import InstekGPD_4303S\n",
    "rfoscPS = InstekGPD_4303S(addr='ASRL13::INSTR', name='RF oscilator PS, CH2 15V, CH3 1V')\n",
    "rfoscPS.connect()\n",
    "rfoscPS.printStatus()"
   ]
  },
  {
   "cell_type": "code",
   "execution_count": 19,
   "metadata": {},
   "outputs": [
    {
     "name": "stderr",
     "output_type": "stream",
     "text": [
      "\u001b[32m2024-04-10 08:58:25.403\u001b[0m | \u001b[1mINFO    \u001b[0m | \u001b[36mRF oscilator PS, CH2 15V, CH3 1V\u001b[0m | \u001b[36mInstekGPD_4303S.py\u001b[0m:\u001b[36mprintStatus\u001b[0m:\u001b[36m200\u001b[0m\n",
      "\u001b[1m-------------------------RF oscilator PS, CH2 15V, CH3 1V------------------------\n",
      "|----------------Instek DC Power Supply GPD-4303S Status Summary-----------------\n",
      "|--------------------Model: GPD-4303S, Serial No.SN:EV884423---------------------\n",
      "|\tMaster Activation: \u001b[1;34;42mON\u001b[0m\n",
      "|\t------------Channel Summary-------------\n",
      "|\t CH1: master, CH2: slave, mode UNRECOGNIZED?.\n",
      "|\t CHANNEL1: CC Mode.\n",
      "|\t\t VSET=0.000V, ISET=0.000A.\n",
      "|\t\t VOUT=0.000V, IOUT=0.000A.\n",
      "|\t\t Output power: 0.000W.\n",
      "|\t CHANNEL2: CV Mode.\n",
      "|\t\t VSET=15.000V, ISET=3.000A.\n",
      "|\t\t VOUT=14.996V, IOUT=0.432A.\n",
      "|\t\t Output power: 6.478W.\n",
      "|\t CHANNEL3: CV Mode.\n",
      "|\t\t VSET=0.850V, ISET=1.000A.\n",
      "|\t\t VOUT=0.850V, IOUT=0.002A.\n",
      "|\t\t Output power: 0.002W.\n",
      "|\t CHANNEL4: CV Mode.\n",
      "|\t\t VSET=0.000V, ISET=0.000A.\n",
      "|\t\t VOUT=0.000V, IOUT=0.000A.\n",
      "|\t\t Output power: 0.000W.\n",
      "--------------Instek DC Power Supply GPD-4303S Status Summary Ends--------------\n",
      "\u001b[0m\n"
     ]
    },
    {
     "data": {
      "text/plain": [
       "'-------------------------RF oscilator PS, CH2 15V, CH3 1V------------------------\\n|----------------Instek DC Power Supply GPD-4303S Status Summary-----------------\\n|--------------------Model: GPD-4303S, Serial No.SN:EV884423---------------------\\n|\\tMaster Activation: \\x1b[1;34;42mON\\x1b[0m\\n|\\t------------Channel Summary-------------\\n|\\t CH1: master, CH2: slave, mode UNRECOGNIZED?.\\n|\\t CHANNEL1: CC Mode.\\n|\\t\\t VSET=0.000V, ISET=0.000A.\\n|\\t\\t VOUT=0.000V, IOUT=0.000A.\\n|\\t\\t Output power: 0.000W.\\n|\\t CHANNEL2: CV Mode.\\n|\\t\\t VSET=15.000V, ISET=3.000A.\\n|\\t\\t VOUT=14.996V, IOUT=0.432A.\\n|\\t\\t Output power: 6.478W.\\n|\\t CHANNEL3: CV Mode.\\n|\\t\\t VSET=0.850V, ISET=1.000A.\\n|\\t\\t VOUT=0.850V, IOUT=0.002A.\\n|\\t\\t Output power: 0.002W.\\n|\\t CHANNEL4: CV Mode.\\n|\\t\\t VSET=0.000V, ISET=0.000A.\\n|\\t\\t VOUT=0.000V, IOUT=0.000A.\\n|\\t\\t Output power: 0.000W.\\n--------------Instek DC Power Supply GPD-4303S Status Summary Ends--------------\\n'"
      ]
     },
     "execution_count": 19,
     "metadata": {},
     "output_type": "execute_result"
    }
   ],
   "source": [
    "rfoscPS.printStatus()"
   ]
  },
  {
   "cell_type": "code",
   "execution_count": 18,
   "metadata": {},
   "outputs": [
    {
     "name": "stderr",
     "output_type": "stream",
     "text": [
      "\u001b[32m2024-04-10 08:57:51.802\u001b[0m | \u001b[1mINFO    \u001b[0m | \u001b[36mRF oscilator PS, CH2 15V, CH3 1V\u001b[0m | \u001b[36mInstekGPD_4303S.py\u001b[0m:\u001b[36m_setVSET\u001b[0m:\u001b[36m320\u001b[0m\n",
      "\u001b[1mInstek GPD-4303S DCSupply: VSET channel 3 set to 0.850V\u001b[0m\n"
     ]
    }
   ],
   "source": []
  },
  {
   "cell_type": "code",
   "execution_count": 8,
   "metadata": {},
   "outputs": [
    {
     "name": "stderr",
     "output_type": "stream",
     "text": [
      "\u001b[32m2024-04-08 13:43:30.198\u001b[0m | \u001b[1mINFO    \u001b[0m | \u001b[36mRF oscilator PS, CH2 15V, CH3 1V\u001b[0m | \u001b[36mInstekGPD_4303S.py\u001b[0m:\u001b[36mactivation\u001b[0m:\u001b[36m44\u001b[0m\n",
      "\u001b[1mInstek GPD-4303S DCSupply: Output activation is turned ON.\u001b[0m\n"
     ]
    }
   ],
   "source": [
    "rfoscPS.activation = 1"
   ]
  },
  {
   "cell_type": "code",
   "execution_count": 170,
   "metadata": {},
   "outputs": [
    {
     "name": "stderr",
     "output_type": "stream",
     "text": [
      "\u001b[32m2024-06-22 15:03:20.780\u001b[0m | \u001b[1mINFO    \u001b[0m | \u001b[36mRF amplifier PS 30V 4A\u001b[0m | \u001b[36mDevice.py\u001b[0m:\u001b[36mconnect\u001b[0m:\u001b[36m78\u001b[0m\n",
      "\u001b[1mRF amplifier PS 30V 4A connected\u001b[0m\n",
      "\u001b[32m2024-06-22 15:03:20.930\u001b[0m | \u001b[1mINFO    \u001b[0m | \u001b[36mRF amplifier PS 30V 4A\u001b[0m | \u001b[36mInstekGppDCSupply.py\u001b[0m:\u001b[36mprintStatus\u001b[0m:\u001b[36m56\u001b[0m\n",
      "\u001b[1m------------------------------RF amplifier PS 30V 4A-----------------------------\n",
      "|-------------------Instek GPP DC Power Supply Status Summary--------------------\n",
      "|--------------------Model: GPP-1326, Serial No.SN:GET921679---------------------\n",
      "|\t------------Channel Summary-------------\n",
      "|\t CHANNEL1: Activation \u001b[1;34;41mOFF\u001b[0m.\n",
      "|\t\t VSET=30.000V, ISET=5.000A.\n",
      "|\t\t VOUT=0.000V, IOUT=0.000A.\n",
      "|\t\t Output power: 0.000W.\n",
      "|\t\t ---Over Voltage/Current Protection Status:---\n",
      "|\t\t OVP Status: OFF\t OCP Status: OFF \n",
      "|\t\t OVP Level : 35.0 V\t OCP Level : 7.0 A\n",
      "-----------------Instek GPP DC Power Supply Status Summary Ends-----------------\n",
      "\u001b[0m\n"
     ]
    },
    {
     "data": {
      "text/plain": [
       "'------------------------------RF amplifier PS 30V 4A-----------------------------\\n|-------------------Instek GPP DC Power Supply Status Summary--------------------\\n|--------------------Model: GPP-1326, Serial No.SN:GET921679---------------------\\n|\\t------------Channel Summary-------------\\n|\\t CHANNEL1: Activation \\x1b[1;34;41mOFF\\x1b[0m.\\n|\\t\\t VSET=30.000V, ISET=5.000A.\\n|\\t\\t VOUT=0.000V, IOUT=0.000A.\\n|\\t\\t Output power: 0.000W.\\n|\\t\\t ---Over Voltage/Current Protection Status:---\\n|\\t\\t OVP Status: OFF\\t OCP Status: OFF \\n|\\t\\t OVP Level : 35.0 V\\t OCP Level : 7.0 A\\n-----------------Instek GPP DC Power Supply Status Summary Ends-----------------\\n'"
      ]
     },
     "execution_count": 170,
     "metadata": {},
     "output_type": "execute_result"
    }
   ],
   "source": [
    "from KeckLFC.Hardware.InstekGppDCSupply import InstekGppDCSupply\n",
    "\n",
    "rfampPS = InstekGppDCSupply(addr=f'ASRL{4}::INSTR', name='RF amplifier PS 30V 4A')\n",
    "rfampPS.connect()\n",
    "rfampPS.printStatus()\n"
   ]
  },
  {
   "cell_type": "code",
   "execution_count": 16,
   "metadata": {},
   "outputs": [
    {
     "name": "stderr",
     "output_type": "stream",
     "text": [
      "\u001b[32m2024-04-10 08:55:58.969\u001b[0m | \u001b[1mINFO    \u001b[0m | \u001b[36mRF amplifier PS 30V 4A\u001b[0m | \u001b[36mInstekGppDCSupply.py\u001b[0m:\u001b[36m_setVSET\u001b[0m:\u001b[36m284\u001b[0m\n",
      "\u001b[1mRF amplifier PS 30V 4A: VSET channel 1 set to 30.000V\u001b[0m\n",
      "\u001b[32m2024-04-10 08:55:59.000\u001b[0m | \u001b[1mINFO    \u001b[0m | \u001b[36mRF amplifier PS 30V 4A\u001b[0m | \u001b[36mInstekGppDCSupply.py\u001b[0m:\u001b[36m_setISET\u001b[0m:\u001b[36m260\u001b[0m\n",
      "\u001b[1mRF amplifier PS 30V 4A: ISET channel 1 set to 5.000A\u001b[0m\n"
     ]
    }
   ],
   "source": [
    "rfampPS.Vset1=30\n",
    "rfampPS.Iset1=5"
   ]
  },
  {
   "cell_type": "code",
   "execution_count": 21,
   "metadata": {},
   "outputs": [
    {
     "name": "stderr",
     "output_type": "stream",
     "text": [
      "\u001b[32m2024-04-10 10:33:47.856\u001b[0m | \u001b[1mINFO    \u001b[0m | \u001b[36mRF amplifier PS 30V 4A\u001b[0m | \u001b[36mInstekGppDCSupply.py\u001b[0m:\u001b[36m_setOutputStatus\u001b[0m:\u001b[36m237\u001b[0m\n",
      "\u001b[1mRF amplifier PS 30V 4A: channel 1 output is turned ON\u001b[0m\n"
     ]
    }
   ],
   "source": [
    "rfampPS.activation1 = 1"
   ]
  },
  {
   "cell_type": "code",
   "execution_count": 161,
   "metadata": {},
   "outputs": [
    {
     "name": "stderr",
     "output_type": "stream",
     "text": [
      "\u001b[32m2024-06-22 14:52:35.106\u001b[0m | \u001b[1mINFO    \u001b[0m | \u001b[36mAmonics EDFA 27 dBm\u001b[0m | \u001b[36mDevice.py\u001b[0m:\u001b[36mconnect\u001b[0m:\u001b[36m78\u001b[0m\n",
      "\u001b[1mAmonics EDFA 27 dBm connected\u001b[0m\n",
      "\u001b[32m2024-06-22 14:52:35.469\u001b[0m | \u001b[1mINFO    \u001b[0m | \u001b[36mAmonics EDFA 27 dBm\u001b[0m | \u001b[36mAmonicsEDFA.py\u001b[0m:\u001b[36mprintStatus\u001b[0m:\u001b[36m49\u001b[0m\n",
      "\u001b[1m-------------------------------Amonics EDFA 27 dBm-------------------------------\n",
      "|--------------------------Amonics EDFA Status Summary---------------------------\n",
      "|------------------Model: AEDFA-PM-27-R-FA, Serial No.21082531-------------------\n",
      "|\tInterLock Status: \u001b[1;34;42mUNLOCKED\u001b[0m\n",
      "|\tCase Temperature: 24.56°C\n",
      "|\tMaster Activation: \u001b[1;34;41mOFF\u001b[0m\n",
      "|\t------------Channel Summary-------------\n",
      "|\t CHANNEL1: \n",
      "|\t\t Mode: APC\n",
      "|\t\t Set Pwr: 450.0 mW\n",
      "|\t\t Status: \u001b[1;34;41mOFF\u001b[0m\n",
      "|\t\t Input Power: 3.657436 mW\n",
      "|\t\t Output Power: 0.0 mW\n",
      "|\t\t Internal PD Power: 0.0 mW\n",
      "------------------------Amonics EDFA Status Summary Ends------------------------\n",
      "\u001b[0m\n"
     ]
    },
    {
     "data": {
      "text/plain": [
       "'-------------------------------Amonics EDFA 27 dBm-------------------------------\\n|--------------------------Amonics EDFA Status Summary---------------------------\\n|------------------Model: AEDFA-PM-27-R-FA, Serial No.21082531-------------------\\n|\\tInterLock Status: \\x1b[1;34;42mUNLOCKED\\x1b[0m\\n|\\tCase Temperature: 24.56°C\\n|\\tMaster Activation: \\x1b[1;34;41mOFF\\x1b[0m\\n|\\t------------Channel Summary-------------\\n|\\t CHANNEL1: \\n|\\t\\t Mode: APC\\n|\\t\\t Set Pwr: 450.0 mW\\n|\\t\\t Status: \\x1b[1;34;41mOFF\\x1b[0m\\n|\\t\\t Input Power: 3.657436 mW\\n|\\t\\t Output Power: 0.0 mW\\n|\\t\\t Internal PD Power: 0.0 mW\\n------------------------Amonics EDFA Status Summary Ends------------------------\\n'"
      ]
     },
     "execution_count": 161,
     "metadata": {},
     "output_type": "execute_result"
    }
   ],
   "source": [
    "from KeckLFC.Hardware.AmonicsEDFA import AmonicsEDFA\n",
    "amonic27 = AmonicsEDFA(addr=f'ASRL{6}::INSTR', name='Amonics EDFA 27 dBm')\n",
    "amonic27.connect()\n",
    "amonic27.printStatus()"
   ]
  },
  {
   "cell_type": "code",
   "execution_count": 18,
   "metadata": {},
   "outputs": [
    {
     "data": {
      "text/plain": [
       "0.0"
      ]
     },
     "execution_count": 18,
     "metadata": {},
     "output_type": "execute_result"
    }
   ],
   "source": [
    "amonic27.inputPowerCh1"
   ]
  },
  {
   "cell_type": "code",
   "execution_count": 47,
   "metadata": {},
   "outputs": [
    {
     "data": {
      "image/png": "[encoded data removed]",
      "text/plain": [
       "<Figure size 640x480 with 1 Axes>"
      ]
     },
     "metadata": {},
     "output_type": "display_data"
    },
    {
     "name": "stderr",
     "output_type": "stream",
     "text": [
      "\u001b[32m2024-04-16 12:30:05.804\u001b[0m | \u001b[1mINFO    \u001b[0m | \u001b[36mAgilent 86142B\u001b[0m | \u001b[36mAgilent_86142B.py\u001b[0m:\u001b[36mget_trace\u001b[0m:\u001b[36m327\u001b[0m\n",
      "\u001b[1mAgilent 86142B: Trace A data is collected and is shown in the plot.\u001b[0m\n",
      "\u001b[32m2024-04-16 12:30:06.013\u001b[0m | \u001b[1mINFO    \u001b[0m | \u001b[36mMinicomb Intensity Lock Servo\u001b[0m | \u001b[36mSRS_SIM900.py\u001b[0m:\u001b[36m__set_num_withcmd\u001b[0m:\u001b[36m812\u001b[0m\n",
      "\u001b[1mMinicomb Intensity Lock Servo: Setting Output in Manual Mode in Volt to 0.32.\u001b[0m\n",
      "\u001b[32m2024-04-16 12:30:07.114\u001b[0m | \u001b[1mINFO    \u001b[0m | \u001b[36mRF oscilator PS, CH2 15V, CH3 1V\u001b[0m | \u001b[36mInstekGPD_4303S.py\u001b[0m:\u001b[36m_setVSET\u001b[0m:\u001b[36m320\u001b[0m\n",
      "\u001b[1mInstek GPD-4303S DCSupply: VSET channel 3 set to 0.720V\u001b[0m\n",
      "\u001b[32m2024-04-16 12:30:07.125\u001b[0m | \u001b[1mINFO    \u001b[0m | \u001b[36mAgilent 86142B\u001b[0m | \u001b[36mAgilent_86142B.py\u001b[0m:\u001b[36mRun\u001b[0m:\u001b[36m164\u001b[0m\n",
      "\u001b[1mAgilent 86142B: Spectrum collection RUN (repeat) start.\u001b[0m\n"
     ]
    },
    {
     "data": {
      "image/png": "[encoded data removed]",
      "text/plain": [
       "<Figure size 640x480 with 1 Axes>"
      ]
     },
     "metadata": {},
     "output_type": "display_data"
    },
    {
     "name": "stderr",
     "output_type": "stream",
     "text": [
      "\u001b[32m2024-04-16 12:30:10.965\u001b[0m | \u001b[1mINFO    \u001b[0m | \u001b[36mAgilent 86142B\u001b[0m | \u001b[36mAgilent_86142B.py\u001b[0m:\u001b[36mget_trace\u001b[0m:\u001b[36m327\u001b[0m\n",
      "\u001b[1mAgilent 86142B: Trace A data is collected and is shown in the plot.\u001b[0m\n"
     ]
    },
    {
     "data": {
      "text/plain": [
       "(array([1552.5  , 1552.517, 1552.534, ..., 1569.466, 1569.483, 1569.5  ],\n",
       "       dtype=float32),\n",
       " array([-73.739716, -71.32746 , -75.623535, ..., -74.20567 , -73.04839 ,\n",
       "        -74.067215], dtype=float32))"
      ]
     },
     "execution_count": 47,
     "metadata": {},
     "output_type": "execute_result"
    }
   ],
   "source": [
    "osa.get_trace('a')\n",
    "servo_IM.manual_output = 0.32\n",
    "rfoscPS.Vset3=0.72\n",
    "osa.Run()\n",
    "import time\n",
    "time.sleep(3)\n",
    "osa.get_trace('a')"
   ]
  },
  {
   "cell_type": "code",
   "execution_count": 171,
   "metadata": {},
   "outputs": [
    {
     "name": "stderr",
     "output_type": "stream",
     "text": [
      "\u001b[32m2024-06-22 15:03:33.726\u001b[0m | \u001b[1mINFO    \u001b[0m | \u001b[36mAmonics EDFA 23 dBm\u001b[0m | \u001b[36mDevice.py\u001b[0m:\u001b[36mconnect\u001b[0m:\u001b[36m78\u001b[0m\n",
      "\u001b[1mAmonics EDFA 23 dBm connected\u001b[0m\n",
      "\u001b[32m2024-06-22 15:03:40.054\u001b[0m | \u001b[1mINFO    \u001b[0m | \u001b[36mAmonics EDFA 23 dBm\u001b[0m | \u001b[36mAmonicsEDFA.py\u001b[0m:\u001b[36mprintStatus\u001b[0m:\u001b[36m49\u001b[0m\n",
      "\u001b[1m-------------------------------Amonics EDFA 23 dBm-------------------------------\n",
      "|--------------------------Amonics EDFA Status Summary---------------------------\n",
      "|------------------Model: AEDFA-PM-23-R-FA, Serial No.22020702-------------------\n",
      "|\tInterLock Status: \u001b[1;34;42mUNLOCKED\u001b[0m\n",
      "|\tCase Temperature: 28.19°C\n",
      "|\tMaster Activation: \u001b[1;34;41mOFF\u001b[0m\n",
      "|\t------------Channel Summary-------------\n",
      "|\t CHANNEL1: \n",
      "|\t\t Mode: ACC\n",
      "|\t\t Set Cur: 80.0 mA\n",
      "|\t\t Status: \u001b[1;34;41mOFF\u001b[0m\n",
      "|\t\t Input Power: 0.0 mW\n",
      "|\t\t Output Power: 0.0 mW\n",
      "|\t\t Internal PD Power: 0.0 mW\n",
      "------------------------Amonics EDFA Status Summary Ends------------------------\n",
      "\u001b[0m\n"
     ]
    },
    {
     "data": {
      "text/plain": [
       "'-------------------------------Amonics EDFA 23 dBm-------------------------------\\n|--------------------------Amonics EDFA Status Summary---------------------------\\n|------------------Model: AEDFA-PM-23-R-FA, Serial No.22020702-------------------\\n|\\tInterLock Status: \\x1b[1;34;42mUNLOCKED\\x1b[0m\\n|\\tCase Temperature: 28.19°C\\n|\\tMaster Activation: \\x1b[1;34;41mOFF\\x1b[0m\\n|\\t------------Channel Summary-------------\\n|\\t CHANNEL1: \\n|\\t\\t Mode: ACC\\n|\\t\\t Set Cur: 80.0 mA\\n|\\t\\t Status: \\x1b[1;34;41mOFF\\x1b[0m\\n|\\t\\t Input Power: 0.0 mW\\n|\\t\\t Output Power: 0.0 mW\\n|\\t\\t Internal PD Power: 0.0 mW\\n------------------------Amonics EDFA Status Summary Ends------------------------\\n'"
      ]
     },
     "execution_count": 171,
     "metadata": {},
     "output_type": "execute_result"
    }
   ],
   "source": [
    "from KeckLFC.Hardware.AmonicsEDFA import AmonicsEDFA\n",
    "amonic23 = AmonicsEDFA(addr=f'ASRL{12}::INSTR', name='Amonics EDFA 23 dBm')\n",
    "amonic23.connect()\n",
    "amonic23.printStatus()"
   ]
  },
  {
   "cell_type": "code",
   "execution_count": 69,
   "metadata": {},
   "outputs": [
    {
     "name": "stderr",
     "output_type": "stream",
     "text": [
      "\u001b[32m2024-04-10 10:52:20.981\u001b[0m | \u001b[1mINFO    \u001b[0m | \u001b[36mAmonics EDFA 23 dBm\u001b[0m | \u001b[36mAmonicsEDFA.py\u001b[0m:\u001b[36m_setIorP\u001b[0m:\u001b[36m227\u001b[0m\n",
      "\u001b[1mAmonics EDFA 23 dBm: setted ACC mode CH1 current as 80.0 mA.\u001b[0m\n",
      "\u001b[32m2024-04-10 10:52:23.032\u001b[0m | \u001b[1mINFO    \u001b[0m | \u001b[36mAmonics EDFA 23 dBm\u001b[0m | \u001b[36mAmonicsEDFA.py\u001b[0m:\u001b[36m_setChStatus\u001b[0m:\u001b[36m278\u001b[0m\n",
      "\u001b[1mAmonics EDFA 23 dBm: ......waiting ACC CH1 status set to ON, now OFF\u001b[0m\n",
      "\u001b[32m2024-04-10 10:52:23.080\u001b[0m | \u001b[1mINFO    \u001b[0m | \u001b[36mAmonics EDFA 23 dBm\u001b[0m | \u001b[36mAmonicsEDFA.py\u001b[0m:\u001b[36m_setChStatus\u001b[0m:\u001b[36m281\u001b[0m\n",
      "\u001b[1mAmonics EDFA 23 dBm: setted ACC CH1 status as ON, finished in 0.089 seconds\u001b[0m\n",
      "\u001b[32m2024-04-10 10:52:25.111\u001b[0m | \u001b[1mINFO    \u001b[0m | \u001b[36mAmonics EDFA 23 dBm\u001b[0m | \u001b[36mAmonicsEDFA.py\u001b[0m:\u001b[36mactivation\u001b[0m:\u001b[36m185\u001b[0m\n",
      "\u001b[1mAmonics EDFA 23 dBm: ACTIVATING LASER OUTPUT, MAKE SURE SEED INPUT POWER IS APPROPRIATE TO AVOID DAMAGE\u001b[0m\n",
      "\u001b[32m2024-04-10 10:52:25.144\u001b[0m | \u001b[1mINFO    \u001b[0m | \u001b[36mAmonics EDFA 23 dBm\u001b[0m | \u001b[36mAmonicsEDFA.py\u001b[0m:\u001b[36mactivation\u001b[0m:\u001b[36m192\u001b[0m\n",
      "\u001b[1mAmonics EDFA 23 dBm: ......waiting Activation status set to ON, now OFF\u001b[0m\n",
      "\u001b[32m2024-04-10 10:52:25.192\u001b[0m | \u001b[1mINFO    \u001b[0m | \u001b[36mAmonics EDFA 23 dBm\u001b[0m | \u001b[36mAmonicsEDFA.py\u001b[0m:\u001b[36mactivation\u001b[0m:\u001b[36m195\u001b[0m\n",
      "\u001b[1mAmonics EDFA 23 dBm: setted Activation status as ON, finished in 0.078 seconds\u001b[0m\n",
      "\u001b[32m2024-04-10 10:52:34.500\u001b[0m | \u001b[1mINFO    \u001b[0m | \u001b[36mAmonics EDFA 23 dBm\u001b[0m | \u001b[36mAmonicsEDFA.py\u001b[0m:\u001b[36mprintStatus\u001b[0m:\u001b[36m49\u001b[0m\n",
      "\u001b[1m-------------------------------Amonics EDFA 23 dBm-------------------------------\n",
      "|--------------------------Amonics EDFA Status Summary---------------------------\n",
      "|------------------Model: AEDFA-PM-23-R-FA, Serial No.22020702-------------------\n",
      "|\tInterLock Status: \u001b[1;34;42mUNLOCKED\u001b[0m\n",
      "|\tCase Temperature: 28.91°C\n",
      "|\tMaster Activation: \u001b[1;34;42mON\u001b[0m\n",
      "|\t------------Channel Summary-------------\n",
      "|\t CHANNEL1: \n",
      "|\t\t Mode: ACC\n",
      "|\t\t Set Cur: 80.0 mA\n",
      "|\t\t Status: \u001b[1;34;42mON\u001b[0m\n",
      "|\t\t Input Power: 1.095919 mW\n",
      "|\t\t Output Power: 4.247348 mW\n",
      "|\t\t Internal PD Power: 43.97186 mW\n",
      "------------------------Amonics EDFA Status Summary Ends------------------------\n",
      "\u001b[0m\n"
     ]
    },
    {
     "data": {
      "text/plain": [
       "'-------------------------------Amonics EDFA 23 dBm-------------------------------\\n|--------------------------Amonics EDFA Status Summary---------------------------\\n|------------------Model: AEDFA-PM-23-R-FA, Serial No.22020702-------------------\\n|\\tInterLock Status: \\x1b[1;34;42mUNLOCKED\\x1b[0m\\n|\\tCase Temperature: 28.91°C\\n|\\tMaster Activation: \\x1b[1;34;42mON\\x1b[0m\\n|\\t------------Channel Summary-------------\\n|\\t CHANNEL1: \\n|\\t\\t Mode: ACC\\n|\\t\\t Set Cur: 80.0 mA\\n|\\t\\t Status: \\x1b[1;34;42mON\\x1b[0m\\n|\\t\\t Input Power: 1.095919 mW\\n|\\t\\t Output Power: 4.247348 mW\\n|\\t\\t Internal PD Power: 43.97186 mW\\n------------------------Amonics EDFA Status Summary Ends------------------------\\n'"
      ]
     },
     "execution_count": 69,
     "metadata": {},
     "output_type": "execute_result"
    }
   ],
   "source": [
    "amonic23.accCh1Cur = '80mA'\n",
    "amonic23.accCh1Status = 1\n",
    "amonic23.activation = 1\n",
    "\n",
    "time.sleep(3)\n",
    "amonic23.printStatus()"
   ]
  },
  {
   "cell_type": "code",
   "execution_count": 172,
   "metadata": {},
   "outputs": [
    {
     "name": "stderr",
     "output_type": "stream",
     "text": [
      "\u001b[32m2024-06-22 15:03:46.606\u001b[0m | \u001b[1mINFO    \u001b[0m | \u001b[36mArduino Relay Circuit\u001b[0m | \u001b[36mArduino_relay.py\u001b[0m:\u001b[36mconnect\u001b[0m:\u001b[36m52\u001b[0m\n",
      "\u001b[1mArduino Relay Circuit connected\u001b[0m\n",
      "\u001b[32m2024-06-22 15:03:47.012\u001b[0m | \u001b[1mINFO    \u001b[0m | \u001b[36mArduino Relay Circuit\u001b[0m | \u001b[36mArduino_relay.py\u001b[0m:\u001b[36mquery\u001b[0m:\u001b[36m90\u001b[0m\n",
      "\u001b[1mArduino Relay Circuit: Failed to query get, trial num 1, trying again\u001b[0m\n",
      "\u001b[32m2024-06-22 15:03:47.220\u001b[0m | \u001b[1mINFO    \u001b[0m | \u001b[36mArduino Relay Circuit\u001b[0m | \u001b[36mArduino_relay.py\u001b[0m:\u001b[36mquery\u001b[0m:\u001b[36m90\u001b[0m\n",
      "\u001b[1mArduino Relay Circuit: Failed to query get, trial num 2, trying again\u001b[0m\n",
      "\u001b[32m2024-06-22 15:03:47.429\u001b[0m | \u001b[1mINFO    \u001b[0m | \u001b[36mArduino Relay Circuit\u001b[0m | \u001b[36mArduino_relay.py\u001b[0m:\u001b[36mquery\u001b[0m:\u001b[36m90\u001b[0m\n",
      "\u001b[1mArduino Relay Circuit: Failed to query get, trial num 3, trying again\u001b[0m\n",
      "\u001b[32m2024-06-22 15:03:47.842\u001b[0m | \u001b[1mINFO    \u001b[0m | \u001b[36mArduino Relay Circuit\u001b[0m | \u001b[36mArduino_relay.py\u001b[0m:\u001b[36mprintStatus\u001b[0m:\u001b[36m43\u001b[0m\n",
      "\u001b[1m----------------------Arduino Relay Module Status Summary-----------------------\n",
      "|\t Relay Status: relay is \u001b[1;34;41m STOPPING \u001b[0m amplifier, because input power is too low\n",
      "|\t Relay Info: get\n",
      "|\t\tNow voltage is 5\n",
      "|\t\tNow voltage to judge (low) is 0\n",
      "|\t\tNow voltage to judge (high) is 1024\n",
      "|\t\tLow Threshold is 317\n",
      "|\t\tHigh Threshold is 690\n",
      "|\t YJ Shutter State: YJState\n",
      "|\t\tYJ shutter is DOWN, YJ is \u001b[1;34;42m passing \u001b[0m.\n",
      "--------------------Arduino Relay Module Status Summary Ends--------------------\u001b[0m\n"
     ]
    },
    {
     "data": {
      "text/plain": [
       "'----------------------Arduino Relay Module Status Summary-----------------------\\n|\\t Relay Status: relay is \\x1b[1;34;41m STOPPING \\x1b[0m amplifier, because input power is too low\\n|\\t Relay Info: get\\r\\r\\n|\\t\\tNow voltage is 5\\r\\n|\\t\\tNow voltage to judge (low) is 0\\r\\n|\\t\\tNow voltage to judge (high) is 1024\\r\\n|\\t\\tLow Threshold is 317\\r\\n|\\t\\tHigh Threshold is 690\\n|\\t YJ Shutter State: YJState\\r\\r\\n|\\t\\tYJ shutter is DOWN, YJ is \\x1b[1;34;42m passing \\x1b[0m.\\n--------------------Arduino Relay Module Status Summary Ends--------------------'"
      ]
     },
     "execution_count": 172,
     "metadata": {},
     "output_type": "execute_result"
    }
   ],
   "source": [
    "from KeckLFC.Hardware.Arduino_relay import Arduino_relay\n",
    "arduino = Arduino_relay(addr=\"COM3\")\n",
    "# print(f'com={i}')\n",
    "arduino.connect()\n",
    "arduino.printStatus()\n"
   ]
  },
  {
   "cell_type": "code",
   "execution_count": 138,
   "metadata": {},
   "outputs": [
    {
     "name": "stdout",
     "output_type": "stream",
     "text": [
      "1\n"
     ]
    }
   ],
   "source": [
    "message=arduino.get_YJ_info()\n",
    "            \n",
    "if message in ['YJState\\r\\r\\nYJ shutter is UP, YJ is shutted.']:\n",
    "                message = 0\n",
    "if message in ['YJState\\r\\r\\nYJ shutter is DOWN, YJ is passing.']:\n",
    "                message = 1\n",
    "\n",
    "print(message)"
   ]
  },
  {
   "cell_type": "code",
   "execution_count": 135,
   "metadata": {},
   "outputs": [
    {
     "data": {
      "text/plain": [
       "'YJShut\\r\\r\\nYJ shutter is UP, YJ is shutted.'"
      ]
     },
     "execution_count": 135,
     "metadata": {},
     "output_type": "execute_result"
    }
   ],
   "source": [
    "arduino.shut_YJ()"
   ]
  },
  {
   "cell_type": "code",
   "execution_count": 137,
   "metadata": {},
   "outputs": [
    {
     "data": {
      "text/plain": [
       "'YJPass\\r\\r\\nYJ shutter is DOWN, YJ is passing.'"
      ]
     },
     "execution_count": 137,
     "metadata": {},
     "output_type": "execute_result"
    }
   ],
   "source": [
    "arduino.pass_YJ()"
   ]
  },
  {
   "cell_type": "code",
   "execution_count": 139,
   "metadata": {},
   "outputs": [
    {
     "name": "stderr",
     "output_type": "stream",
     "text": [
      "\u001b[32m2024-06-22 13:53:41.255\u001b[0m | \u001b[1mINFO    \u001b[0m | \u001b[36mArduino Relay Circuit\u001b[0m | \u001b[36mArduino_relay.py\u001b[0m:\u001b[36mdisconnect\u001b[0m:\u001b[36m65\u001b[0m\n",
      "\u001b[1mArduino Relay Circuit disconnected\u001b[0m\n"
     ]
    },
    {
     "data": {
      "text/plain": [
       "1"
      ]
     },
     "execution_count": 139,
     "metadata": {},
     "output_type": "execute_result"
    }
   ],
   "source": [
    "arduino.disconnect()"
   ]
  },
  {
   "cell_type": "code",
   "execution_count": 116,
   "metadata": {},
   "outputs": [
    {
     "data": {
      "text/plain": [
       "'YJState\\r\\r\\nYJ shutter is DOWN, YJ is passing.'"
      ]
     },
     "execution_count": 116,
     "metadata": {},
     "output_type": "execute_result"
    }
   ],
   "source": [
    "arduino.get_YJ_info()"
   ]
  },
  {
   "cell_type": "code",
   "execution_count": 113,
   "metadata": {},
   "outputs": [
    {
     "data": {
      "text/plain": [
       "'YJState\\r\\r\\nYJ shutter is UP, YJ is shutted.'"
      ]
     },
     "execution_count": 113,
     "metadata": {},
     "output_type": "execute_result"
    }
   ],
   "source": [
    "arduino.query(\"YJState\")"
   ]
  },
  {
   "cell_type": "code",
   "execution_count": 125,
   "metadata": {},
   "outputs": [
    {
     "data": {
      "text/plain": [
       "'YJShut\\r\\r\\nYJ shutter is UP, YJ is shutted.'"
      ]
     },
     "execution_count": 125,
     "metadata": {},
     "output_type": "execute_result"
    }
   ],
   "source": [
    "arduino.shut_YJ()"
   ]
  },
  {
   "cell_type": "code",
   "execution_count": 13,
   "metadata": {},
   "outputs": [
    {
     "data": {
      "text/plain": [
       "'GET\\r\\r\\nNow voltage is 4\\r\\nNow voltage to judge (low) is 0\\r\\nNow voltage to judge (high) is 1024\\r\\nLow Threshold is 317\\r\\nHigh Threshold is 690'"
      ]
     },
     "execution_count": 13,
     "metadata": {},
     "output_type": "execute_result"
    }
   ],
   "source": [
    "arduino.query('GET')"
   ]
  },
  {
   "cell_type": "code",
   "execution_count": 119,
   "metadata": {},
   "outputs": [
    {
     "data": {
      "text/plain": [
       "0"
      ]
     },
     "execution_count": 119,
     "metadata": {},
     "output_type": "execute_result"
    }
   ],
   "source": [
    "message=arduino.get_YJ_info()\n",
    "\n",
    "if message in ['YJState\\r\\r\\nYJ shutter is UP, YJ is shutted.']:\n",
    "    message = 0\n",
    "if message in ['YJState\\r\\r\\nYJ shutter is DOWN, YJ is passing.']:\n",
    "    message = 1\n",
    "# fill in read functions\n",
    "message"
   ]
  },
  {
   "cell_type": "code",
   "execution_count": 14,
   "metadata": {},
   "outputs": [
    {
     "name": "stderr",
     "output_type": "stream",
     "text": [
      "\u001b[32m2024-06-03 14:26:17.327\u001b[0m | \u001b[1mINFO    \u001b[0m | \u001b[36mPendulum microwave counter\u001b[0m | \u001b[36mDevice.py\u001b[0m:\u001b[36mconnect\u001b[0m:\u001b[36m78\u001b[0m\n",
      "\u001b[1mPendulum microwave counter connected\u001b[0m\n"
     ]
    },
    {
     "data": {
      "text/plain": [
       "1"
      ]
     },
     "execution_count": 14,
     "metadata": {},
     "output_type": "execute_result"
    }
   ],
   "source": [
    "from KeckLFC.Hardware.PendulumCNT90 import PendulumCNT90\n",
    "pendulem = PendulumCNT90()\n",
    "pendulem.connect()"
   ]
  },
  {
   "cell_type": "code",
   "execution_count": 16,
   "metadata": {},
   "outputs": [
    {
     "name": "stderr",
     "output_type": "stream",
     "text": [
      "\u001b[32m2024-06-03 14:31:39.127\u001b[0m | \u001b[31m\u001b[1mERROR   \u001b[0m | \u001b[36mPendulum microwave counter\u001b[0m | \u001b[36mPendulumCNT90.py\u001b[0m:\u001b[36mmeasFreq\u001b[0m:\u001b[36m63\u001b[0m\n",
      "\u001b[31m\u001b[1mPendulum Freq Counter: Measurement not completed, check signal input.\u001b[0m\n"
     ]
    },
    {
     "data": {
      "text/plain": [
       "-1"
      ]
     },
     "execution_count": 16,
     "metadata": {},
     "output_type": "execute_result"
    }
   ],
   "source": [
    "pendulem.measFreq(1)"
   ]
  },
  {
   "cell_type": "code",
   "execution_count": 12,
   "metadata": {},
   "outputs": [
    {
     "data": {
      "text/plain": [
       "'relay is STOPPING amplifier, because input power is too low'"
      ]
     },
     "execution_count": 12,
     "metadata": {},
     "output_type": "execute_result"
    }
   ],
   "source": [
    "arduino.get_relay_status()"
   ]
  },
  {
   "cell_type": "code",
   "execution_count": 71,
   "metadata": {},
   "outputs": [
    {
     "name": "stderr",
     "output_type": "stream",
     "text": [
      "\u001b[32m2024-04-17 12:43:06.387\u001b[0m | \u001b[1mINFO    \u001b[0m | \u001b[36mArduino Relay Circuit\u001b[0m | \u001b[36mArduino_relay.py\u001b[0m:\u001b[36mprintStatus\u001b[0m:\u001b[36m43\u001b[0m\n",
      "\u001b[1m----------------------Arduino Relay Module Status Summary-----------------------\n",
      "|\t Relay Status: relay sending \u001b[1;34;42m OK_to_Amplify \u001b[0m signal to amplifier\n",
      "|\t Relay Info: get\n",
      "|\t\tNow voltage is 589\n",
      "|\t\tNow voltage to judge (low) is 568\n",
      "|\t\tNow voltage to judge (high) is 590\n",
      "|\t\tLow Threshold is 317\n",
      "|\t\tHigh Threshold is 690\n",
      "|\t YJ Shutter State: YJState\n",
      "|\t\tYJ shutter is DOWN, YJ is \u001b[1;34;42m passing \u001b[0m.\n",
      "--------------------Arduino Relay Module Status Summary Ends--------------------\u001b[0m\n"
     ]
    },
    {
     "data": {
      "text/plain": [
       "'----------------------Arduino Relay Module Status Summary-----------------------\\n|\\t Relay Status: relay sending \\x1b[1;34;42m OK_to_Amplify \\x1b[0m signal to amplifier\\n|\\t Relay Info: get\\r\\r\\n|\\t\\tNow voltage is 589\\r\\n|\\t\\tNow voltage to judge (low) is 568\\r\\n|\\t\\tNow voltage to judge (high) is 590\\r\\n|\\t\\tLow Threshold is 317\\r\\n|\\t\\tHigh Threshold is 690\\n|\\t YJ Shutter State: YJState\\r\\r\\n|\\t\\tYJ shutter is DOWN, YJ is \\x1b[1;34;42m passing \\x1b[0m.\\n--------------------Arduino Relay Module Status Summary Ends--------------------'"
      ]
     },
     "execution_count": 71,
     "metadata": {},
     "output_type": "execute_result"
    }
   ],
   "source": [
    "arduino.reset_relay_latch()\n",
    "arduino.printStatus()\n"
   ]
  },
  {
   "cell_type": "code",
   "execution_count": 243,
   "metadata": {},
   "outputs": [
    {
     "data": {
      "text/plain": [
       "'YJPass\\r\\r\\nYJ shutter is DOWN, YJ is passing.'"
      ]
     },
     "execution_count": 243,
     "metadata": {},
     "output_type": "execute_result"
    }
   ],
   "source": [
    "arduino.pass_YJ()"
   ]
  },
  {
   "cell_type": "code",
   "execution_count": 70,
   "metadata": {},
   "outputs": [
    {
     "name": "stderr",
     "output_type": "stream",
     "text": [
      "\u001b[32m2024-04-17 12:42:56.147\u001b[0m | \u001b[1mINFO    \u001b[0m | \u001b[36mArduino Relay Circuit\u001b[0m | \u001b[36mArduino_relay.py\u001b[0m:\u001b[36mprintStatus\u001b[0m:\u001b[36m43\u001b[0m\n",
      "\u001b[1m----------------------Arduino Relay Module Status Summary-----------------------\n",
      "|\t Relay Status: relay is \u001b[1;34;41m STOPPING \u001b[0m amplifier, but will be \u001b[1;34;42m OK_to_Amplify \u001b[0m after reset_relay_latch.\n",
      "|\t Relay Info: get\n",
      "|\t\tNow voltage is 568\n",
      "|\t\tNow voltage to judge (low) is 483\n",
      "|\t\tNow voltage to judge (high) is 691\n",
      "|\t\tLow Threshold is 317\n",
      "|\t\tHigh Threshold is 690\n",
      "|\t YJ Shutter State: YJState\n",
      "|\t\tYJ shutter is DOWN, YJ is \u001b[1;34;42m passing \u001b[0m.\n",
      "--------------------Arduino Relay Module Status Summary Ends--------------------\u001b[0m\n"
     ]
    },
    {
     "data": {
      "text/plain": [
       "'----------------------Arduino Relay Module Status Summary-----------------------\\n|\\t Relay Status: relay is \\x1b[1;34;41m STOPPING \\x1b[0m amplifier, but will be \\x1b[1;34;42m OK_to_Amplify \\x1b[0m after reset_relay_latch.\\n|\\t Relay Info: get\\r\\r\\n|\\t\\tNow voltage is 568\\r\\n|\\t\\tNow voltage to judge (low) is 483\\r\\n|\\t\\tNow voltage to judge (high) is 691\\r\\n|\\t\\tLow Threshold is 317\\r\\n|\\t\\tHigh Threshold is 690\\n|\\t YJ Shutter State: YJState\\r\\r\\n|\\t\\tYJ shutter is DOWN, YJ is \\x1b[1;34;42m passing \\x1b[0m.\\n--------------------Arduino Relay Module Status Summary Ends--------------------'"
      ]
     },
     "execution_count": 70,
     "metadata": {},
     "output_type": "execute_result"
    }
   ],
   "source": [
    "arduino.printStatus()"
   ]
  },
  {
   "cell_type": "code",
   "execution_count": 10,
   "metadata": {},
   "outputs": [
    {
     "name": "stderr",
     "output_type": "stream",
     "text": [
      "\u001b[32m2024-04-16 12:17:57.059\u001b[0m | \u001b[1mINFO    \u001b[0m | \u001b[36mFinisar Waveshaper SN201904\u001b[0m | \u001b[36mDevice.py\u001b[0m:\u001b[36mconnect\u001b[0m:\u001b[36m78\u001b[0m\n",
      "\u001b[1mFinisar Waveshaper SN201904 connected\u001b[0m\n"
     ]
    },
    {
     "data": {
      "text/plain": [
       "1"
      ]
     },
     "execution_count": 10,
     "metadata": {},
     "output_type": "execute_result"
    }
   ],
   "source": [
    "from KeckLFC.Hardware.Waveshaper import Waveshaper\n",
    "\n",
    "wsp = Waveshaper()\n",
    "wsp.connect()"
   ]
  },
  {
   "cell_type": "code",
   "execution_count": 141,
   "metadata": {},
   "outputs": [
    {
     "name": "stderr",
     "output_type": "stream",
     "text": [
      "\u001b[32m2024-04-17 13:31:58.349\u001b[0m | \u001b[1mINFO    \u001b[0m | \u001b[36mFinisar Waveshaper SN201904\u001b[0m | \u001b[36mWaveshaper.py\u001b[0m:\u001b[36mset3rdDisper\u001b[0m:\u001b[36m90\u001b[0m\n",
      "\u001b[1mWaveshaper Set 3rd disper with d2=-2.69 ps/nm, d3=0.0 ps/nm^2, center 192.17465256410256 THz.\u001b[0m\n",
      "\u001b[32m2024-04-17 13:31:58.356\u001b[0m | \u001b[1mINFO    \u001b[0m | \u001b[36mFinisar Waveshaper SN201904\u001b[0m | \u001b[36mWaveshaper.py\u001b[0m:\u001b[36msetBandPass\u001b[0m:\u001b[36m127\u001b[0m\n",
      "\u001b[1mWaveshaper Set atten to BandPass [189.675~194.675] THz ([1580.559~1539.964] nm).\u001b[0m\n",
      "\u001b[32m2024-04-17 13:31:59.790\u001b[0m | \u001b[1mINFO    \u001b[0m | \u001b[36mFinisar Waveshaper SN201904\u001b[0m | \u001b[36mWaveshaper.py\u001b[0m:\u001b[36mwriteProfile\u001b[0m:\u001b[36m226\u001b[0m\n",
      "\u001b[1mWaveshaper profile write successful.\u001b[0m\n"
     ]
    },
    {
     "data": {
      "image/png": "[encoded data removed]",
      "text/plain": [
       "<Figure size 900x600 with 4 Axes>"
      ]
     },
     "metadata": {},
     "output_type": "display_data"
    }
   ],
   "source": [
    "wsp.set3rdDisper(d2=-2.69,d3=0.)\n",
    "wsp.setBandPass(span=5)\n",
    "wsp.plotStatus()\n",
    "wsp.writeProfile()"
   ]
  },
  {
   "cell_type": "code",
   "execution_count": 67,
   "metadata": {},
   "outputs": [
    {
     "data": {
      "image/png": "[encoded data removed]",
      "text/plain": [
       "<Figure size 640x480 with 1 Axes>"
      ]
     },
     "metadata": {},
     "output_type": "display_data"
    },
    {
     "name": "stderr",
     "output_type": "stream",
     "text": [
      "\u001b[32m2024-04-17 12:39:37.856\u001b[0m | \u001b[1mINFO    \u001b[0m | \u001b[36mAgilent 86142B\u001b[0m | \u001b[36mAgilent_86142B.py\u001b[0m:\u001b[36mget_trace\u001b[0m:\u001b[36m327\u001b[0m\n",
      "\u001b[1mAgilent 86142B: Trace A data is collected and is shown in the plot.\u001b[0m\n"
     ]
    },
    {
     "data": {
      "text/plain": [
       "(array([1552.5  , 1552.517, 1552.534, ..., 1569.466, 1569.483, 1569.5  ],\n",
       "       dtype=float32),\n",
       " array([-76.5774 , -78.20536, -78.99807, ..., -78.9236 , -78.30168,\n",
       "        -76.99837], dtype=float32))"
      ]
     },
     "execution_count": 67,
     "metadata": {},
     "output_type": "execute_result"
    }
   ],
   "source": [
    "osa.get_trace('a')"
   ]
  },
  {
   "cell_type": "code",
   "execution_count": null,
   "metadata": {},
   "outputs": [],
   "source": []
  },
  {
   "cell_type": "code",
   "execution_count": null,
   "metadata": {},
   "outputs": [],
   "source": []
  },
  {
   "cell_type": "code",
   "execution_count": 108,
   "metadata": {},
   "outputs": [
    {
     "name": "stderr",
     "output_type": "stream",
     "text": [
      "\u001b[32m2024-06-06 08:52:34.638\u001b[0m | \u001b[1mINFO    \u001b[0m | \u001b[36mStanford Research System SIM900\u001b[0m | \u001b[36mDevice.py\u001b[0m:\u001b[36mconnect\u001b[0m:\u001b[36m78\u001b[0m\n",
      "\u001b[1mStanford Research System SIM900 connected\u001b[0m\n"
     ]
    }
   ],
   "source": [
    "from KeckLFC.Hardware.SRS_SIM900 import SRS_SIM900, SRS_PIDcontrol_SIM960\n",
    "srs = SRS_SIM900(addr='GPIB0::2::INSTR')\n",
    "srs.connect()\n",
    "servo_FC = SRS_PIDcontrol_SIM960(srs, 1, name='Filter Cavity PDH Lock Servo')\n",
    "servo_IM = SRS_PIDcontrol_SIM960(srs, 3, name='Minicomb Intensity Lock Servo')\n",
    "servo_RB = SRS_PIDcontrol_SIM960(srs, 5, name='Rio Laser Fceo Rb spectroscopy Lock Servo')\n"
   ]
  },
  {
   "cell_type": "code",
   "execution_count": 109,
   "metadata": {},
   "outputs": [
    {
     "name": "stderr",
     "output_type": "stream",
     "text": [
      "\u001b[32m2024-06-06 08:52:42.995\u001b[0m | \u001b[1mINFO    \u001b[0m | \u001b[36mMinicomb Intensity Lock Servo\u001b[0m | \u001b[36mSRS_SIM900.py\u001b[0m:\u001b[36mprintStatus\u001b[0m:\u001b[36m201\u001b[0m\n",
      "\u001b[1m--------------------------Minicomb Intensity Lock Servo--------------------------\n",
      "|--------------------SRS PID controller SIM960 Status Summary--------------------\n",
      "|----------------------------SIM960,s/n033669,ver2.17----------------------------\n",
      "|\tOutput mode:\t\u001b[1;34;42mPID\u001b[0m,\tOutput limit: -3.000V TO 3.000V\n",
      "|\tMeasured input:\t -0.006018V\n",
      "|\tAmplified error:\t 5.991892V\n",
      "|\tInstant Output voltage:\t 3.104846V\n",
      "|\tManual output set:\t -0.88V\n",
      "|\t================ Set Point related================\n",
      "|\t\tInternal setpoint = 2.62 V, Ramping \u001b[1;34;41mOFF\u001b[0m\n",
      "|\t\tSetpoint input mode INT, Ext setpoint input 2.618739V\n",
      "|\t\tSetpoint RAMP speed = 0.01 V/s, action \u001b[1;34;41mOFF\u001b[0m\n",
      "|\t============= P,I,D and Offset Status=============\n",
      "|\t\t P = 4.0    , \taction = \u001b[1;34;42mON\u001b[0m\n",
      "|\t\t I = 0.1 1/s, \taction = \u001b[1;34;42mON\u001b[0m\n",
      "|\t\t D = 1e-05   s, \taction = \u001b[1;34;41mOFF\u001b[0m\n",
      "|\t\tOff = 0.32  V, \taction = \u001b[1;34;42mON\u001b[0m\n",
      "-----------------SRS PID controller SIM960 Status Summary Ends------------------\n",
      "\u001b[0m\n"
     ]
    },
    {
     "data": {
      "text/plain": [
       "'--------------------------Minicomb Intensity Lock Servo--------------------------\\n|--------------------SRS PID controller SIM960 Status Summary--------------------\\n|----------------------------SIM960,s/n033669,ver2.17----------------------------\\n|\\tOutput mode:\\t\\x1b[1;34;42mPID\\x1b[0m,\\tOutput limit: -3.000V TO 3.000V\\n|\\tMeasured input:\\t -0.006018V\\n|\\tAmplified error:\\t 5.991892V\\n|\\tInstant Output voltage:\\t 3.104846V\\n|\\tManual output set:\\t -0.88V\\n|\\t================ Set Point related================\\n|\\t\\tInternal setpoint = 2.62 V, Ramping \\x1b[1;34;41mOFF\\x1b[0m\\n|\\t\\tSetpoint input mode INT, Ext setpoint input 2.618739V\\n|\\t\\tSetpoint RAMP speed = 0.01 V/s, action \\x1b[1;34;41mOFF\\x1b[0m\\n|\\t============= P,I,D and Offset Status=============\\n|\\t\\t P = 4.0    , \\taction = \\x1b[1;34;42mON\\x1b[0m\\n|\\t\\t I = 0.1 1/s, \\taction = \\x1b[1;34;42mON\\x1b[0m\\n|\\t\\t D = 1e-05   s, \\taction = \\x1b[1;34;41mOFF\\x1b[0m\\n|\\t\\tOff = 0.32  V, \\taction = \\x1b[1;34;42mON\\x1b[0m\\n-----------------SRS PID controller SIM960 Status Summary Ends------------------\\n'"
      ]
     },
     "execution_count": 109,
     "metadata": {},
     "output_type": "execute_result"
    }
   ],
   "source": [
    "servo_IM.printStatus()"
   ]
  },
  {
   "cell_type": "code",
   "execution_count": 97,
   "metadata": {},
   "outputs": [
    {
     "name": "stderr",
     "output_type": "stream",
     "text": [
      "\u001b[32m2024-02-22 14:28:40.478\u001b[0m | \u001b[1mINFO    \u001b[0m | \u001b[36mStanford Research System SIM900\u001b[0m | \u001b[36mDevice.py\u001b[0m:\u001b[36mdisconnect\u001b[0m:\u001b[36m90\u001b[0m\n",
      "\u001b[1mStanford Research System SIM900 disconnected\u001b[0m\n"
     ]
    },
    {
     "data": {
      "text/plain": [
       "1"
      ]
     },
     "execution_count": 97,
     "metadata": {},
     "output_type": "execute_result"
    }
   ],
   "source": [
    "srs.disconnect()"
   ]
  },
  {
   "cell_type": "code",
   "execution_count": null,
   "metadata": {},
   "outputs": [],
   "source": [
    "from KeckLFC.Hardware.PritelAmp import PritelAmp\n",
    "\n",
    "for i in range(3,23):\n",
    "    try:\n",
    "        ptamp = PritelAmp(addr=f\"ASRL{i}::INSTR\")\n",
    "        ptamp.connect()\n",
    "        ptamp.printStatus()\n",
    "\n",
    "        print(f'com={i} success')\n",
    "        \n",
    "    except:\n",
    "        # ptamp.disconnect()\n",
    "        print(f'com={i} failed')"
   ]
  },
  {
   "cell_type": "code",
   "execution_count": 14,
   "metadata": {},
   "outputs": [
    {
     "name": "stderr",
     "output_type": "stream",
     "text": [
      "\u001b[32m2024-04-16 12:18:35.738\u001b[0m | \u001b[1mINFO    \u001b[0m | \u001b[36mPritel Amp\u001b[0m | \u001b[36mPritelAmp.py\u001b[0m:\u001b[36mconnect\u001b[0m:\u001b[36m60\u001b[0m\n",
      "\u001b[1mPritel Amp connected\u001b[0m\n",
      "\u001b[32m2024-04-16 12:18:37.207\u001b[0m | \u001b[1mINFO    \u001b[0m | \u001b[36mPritel Amp\u001b[0m | \u001b[36mPritelAmp.py\u001b[0m:\u001b[36mprintStatus\u001b[0m:\u001b[36m38\u001b[0m\n",
      "\u001b[1m------------------------------------Pritel Amp-----------------------------------\n",
      "|-----------------Pritel OPTICAL FIBER AMPLIFIER Status Summary------------------\n",
      "|\t Pump status: \u001b[1;34;42mON\u001b[0m\n",
      "|\t InputPower = 139 mW, \tPreAmp = 603 mA\n",
      "|\t OutputPower = 0.00 W, \tPwrAmp = 0.00 A\n",
      "|\t AutoShutDown Disabled.\n",
      "----------------Pritel OPTICAL FIBER AMPLIFIER Status Summary Ends---------------\n",
      "\u001b[0m\n"
     ]
    },
    {
     "data": {
      "text/plain": [
       "'------------------------------------Pritel Amp-----------------------------------\\n|-----------------Pritel OPTICAL FIBER AMPLIFIER Status Summary------------------\\n|\\t Pump status: \\x1b[1;34;42mON\\x1b[0m\\n|\\t InputPower = 139 mW, \\tPreAmp = 603 mA\\n|\\t OutputPower = 0.00 W, \\tPwrAmp = 0.00 A\\n|\\t AutoShutDown Disabled.\\n----------------Pritel OPTICAL FIBER AMPLIFIER Status Summary Ends---------------\\n'"
      ]
     },
     "execution_count": 14,
     "metadata": {},
     "output_type": "execute_result"
    }
   ],
   "source": [
    "from KeckLFC.Hardware.PritelAmp import PritelAmp\n",
    "ptamp = PritelAmp(addr=f'ASRL{7}::INSTR', name='Pritel Amp')\n",
    "ptamp.connect()\n",
    "ptamp.printStatus()\n"
   ]
  },
  {
   "cell_type": "code",
   "execution_count": 257,
   "metadata": {},
   "outputs": [
    {
     "data": {
      "text/plain": [
       "0.0"
      ]
     },
     "execution_count": 257,
     "metadata": {},
     "output_type": "execute_result"
    }
   ],
   "source": [
    "ptamp.preAmp"
   ]
  },
  {
   "cell_type": "code",
   "execution_count": 15,
   "metadata": {},
   "outputs": [
    {
     "name": "stderr",
     "output_type": "stream",
     "text": [
      "\u001b[32m2024-04-16 12:18:40.120\u001b[0m | \u001b[1mINFO    \u001b[0m | \u001b[36mPritel Amp\u001b[0m | \u001b[36mPritelAmp.py\u001b[0m:\u001b[36mactivation\u001b[0m:\u001b[36m195\u001b[0m\n",
      "\u001b[1mPritel Amp: ACTIVATING LASER PUMP (OUTPUT), MAKE SURE SEED INPUT POWER IS APPROPRIATE TO AVOID DAMAGE.\u001b[0m\n",
      "\u001b[32m2024-04-16 12:18:40.615\u001b[0m | \u001b[1mINFO    \u001b[0m | \u001b[36mPritel Amp\u001b[0m | \u001b[36mPritelAmp.py\u001b[0m:\u001b[36mactivation\u001b[0m:\u001b[36m206\u001b[0m\n",
      "\u001b[1mPritel Amp: setted Activation status as ON, finished in 0.494 seconds\u001b[0m\n"
     ]
    }
   ],
   "source": [
    "ptamp.activation=1"
   ]
  },
  {
   "cell_type": "code",
   "execution_count": 3,
   "metadata": {},
   "outputs": [
    {
     "name": "stderr",
     "output_type": "stream",
     "text": [
      "\u001b[32m2024-04-16 12:12:00.098\u001b[0m | \u001b[1mINFO    \u001b[0m | \u001b[36mPritel Amp\u001b[0m | \u001b[36mPritelAmp.py\u001b[0m:\u001b[36mpreAmp\u001b[0m:\u001b[36m115\u001b[0m\n",
      "\u001b[1mPritel Amp: Disable Ramping by self.ramp_pre_ma = 0, now 100 mA.\u001b[0m\n",
      "\u001b[32m2024-04-16 12:12:00.888\u001b[0m | \u001b[1mINFO    \u001b[0m | \u001b[36mPritel Amp\u001b[0m | \u001b[36mPritelAmp.py\u001b[0m:\u001b[36mpreAmp\u001b[0m:\u001b[36m121\u001b[0m\n",
      "\u001b[1mPritel Amp: Setting PreAmp Current to 000 mA, current Output 0.00 W.\u001b[0m\n",
      "\u001b[32m2024-04-16 12:12:01.388\u001b[0m | \u001b[1mINFO    \u001b[0m | \u001b[36mPritel Amp\u001b[0m | \u001b[36mPritelAmp.py\u001b[0m:\u001b[36mpreAmp\u001b[0m:\u001b[36m121\u001b[0m\n",
      "\u001b[1mPritel Amp: Setting PreAmp Current to 120 mA, current Output 0.00 W.\u001b[0m\n",
      "\u001b[32m2024-04-16 12:12:01.881\u001b[0m | \u001b[1mINFO    \u001b[0m | \u001b[36mPritel Amp\u001b[0m | \u001b[36mPritelAmp.py\u001b[0m:\u001b[36mpreAmp\u001b[0m:\u001b[36m121\u001b[0m\n",
      "\u001b[1mPritel Amp: Setting PreAmp Current to 240 mA, current Output 0.00 W.\u001b[0m\n",
      "\u001b[32m2024-04-16 12:12:02.358\u001b[0m | \u001b[1mINFO    \u001b[0m | \u001b[36mPritel Amp\u001b[0m | \u001b[36mPritelAmp.py\u001b[0m:\u001b[36mpreAmp\u001b[0m:\u001b[36m121\u001b[0m\n",
      "\u001b[1mPritel Amp: Setting PreAmp Current to 360 mA, current Output 0.00 W.\u001b[0m\n",
      "\u001b[32m2024-04-16 12:12:02.859\u001b[0m | \u001b[1mINFO    \u001b[0m | \u001b[36mPritel Amp\u001b[0m | \u001b[36mPritelAmp.py\u001b[0m:\u001b[36mpreAmp\u001b[0m:\u001b[36m121\u001b[0m\n",
      "\u001b[1mPritel Amp: Setting PreAmp Current to 480 mA, current Output 0.00 W.\u001b[0m\n",
      "\u001b[32m2024-04-16 12:12:03.355\u001b[0m | \u001b[1mINFO    \u001b[0m | \u001b[36mPritel Amp\u001b[0m | \u001b[36mPritelAmp.py\u001b[0m:\u001b[36mpreAmp\u001b[0m:\u001b[36m121\u001b[0m\n",
      "\u001b[1mPritel Amp: Setting PreAmp Current to 600 mA, current Output 0.00 W.\u001b[0m\n",
      "\u001b[32m2024-04-16 12:12:04.359\u001b[0m | \u001b[1mINFO    \u001b[0m | \u001b[36mPritel Amp\u001b[0m | \u001b[36mPritelAmp.py\u001b[0m:\u001b[36mactivation\u001b[0m:\u001b[36m195\u001b[0m\n",
      "\u001b[1mPritel Amp: ACTIVATING LASER PUMP (OUTPUT), MAKE SURE SEED INPUT POWER IS APPROPRIATE TO AVOID DAMAGE.\u001b[0m\n",
      "\u001b[32m2024-04-16 12:12:04.842\u001b[0m | \u001b[1mINFO    \u001b[0m | \u001b[36mPritel Amp\u001b[0m | \u001b[36mPritelAmp.py\u001b[0m:\u001b[36mactivation\u001b[0m:\u001b[36m203\u001b[0m\n",
      "\u001b[1mPritel Amp: ......waiting Activation status set to ON, now OFF\u001b[0m\n",
      "\u001b[32m2024-04-16 12:12:05.571\u001b[0m | \u001b[1mINFO    \u001b[0m | \u001b[36mPritel Amp\u001b[0m | \u001b[36mPritelAmp.py\u001b[0m:\u001b[36mactivation\u001b[0m:\u001b[36m203\u001b[0m\n",
      "\u001b[1mPritel Amp: ......waiting Activation status set to ON, now OFF\u001b[0m\n",
      "\u001b[32m2024-04-16 12:12:06.242\u001b[0m | \u001b[1mINFO    \u001b[0m | \u001b[36mPritel Amp\u001b[0m | \u001b[36mPritelAmp.py\u001b[0m:\u001b[36mactivation\u001b[0m:\u001b[36m203\u001b[0m\n",
      "\u001b[1mPritel Amp: ......waiting Activation status set to ON, now OFF\u001b[0m\n",
      "\u001b[32m2024-04-16 12:12:06.990\u001b[0m | \u001b[1mINFO    \u001b[0m | \u001b[36mPritel Amp\u001b[0m | \u001b[36mPritelAmp.py\u001b[0m:\u001b[36mactivation\u001b[0m:\u001b[36m203\u001b[0m\n",
      "\u001b[1mPritel Amp: ......waiting Activation status set to ON, now OFF\u001b[0m\n",
      "\u001b[32m2024-04-16 12:12:07.698\u001b[0m | \u001b[1mINFO    \u001b[0m | \u001b[36mPritel Amp\u001b[0m | \u001b[36mPritelAmp.py\u001b[0m:\u001b[36mactivation\u001b[0m:\u001b[36m203\u001b[0m\n",
      "\u001b[1mPritel Amp: ......waiting Activation status set to ON, now OFF\u001b[0m\n",
      "\u001b[32m2024-04-16 12:12:08.370\u001b[0m | \u001b[1mINFO    \u001b[0m | \u001b[36mPritel Amp\u001b[0m | \u001b[36mPritelAmp.py\u001b[0m:\u001b[36mactivation\u001b[0m:\u001b[36m203\u001b[0m\n",
      "\u001b[1mPritel Amp: ......waiting Activation status set to ON, now OFF\u001b[0m\n",
      "\u001b[32m2024-04-16 12:12:09.042\u001b[0m | \u001b[1mINFO    \u001b[0m | \u001b[36mPritel Amp\u001b[0m | \u001b[36mPritelAmp.py\u001b[0m:\u001b[36mactivation\u001b[0m:\u001b[36m203\u001b[0m\n",
      "\u001b[1mPritel Amp: ......waiting Activation status set to ON, now OFF\u001b[0m\n"
     ]
    },
    {
     "ename": "RuntimeError",
     "evalue": "Pritel Amp: Activation set failed in 5 seconds.",
     "output_type": "error",
     "traceback": [
      "\u001b[1;31m---------------------------------------------------------------------------\u001b[0m",
      "\u001b[1;31mRuntimeError\u001b[0m                              Traceback (most recent call last)",
      "Cell \u001b[1;32mIn[3], line 1\u001b[0m\n\u001b[1;32m----> 1\u001b[0m \u001b[43mptamp\u001b[49m\u001b[38;5;241;43m.\u001b[39;49m\u001b[43measy_turnOn\u001b[49m\u001b[43m(\u001b[49m\u001b[43m)\u001b[49m\n",
      "File \u001b[1;32mc:\\Users\\KeckLFC\\KeckLFC-main\\KeckLFC\\Hardware\\PritelAmp.py:83\u001b[0m, in \u001b[0;36mPritelAmp.easy_turnOn\u001b[1;34m(self, pwr_mA, pre_mA)\u001b[0m\n\u001b[0;32m     81\u001b[0m \u001b[38;5;28mself\u001b[39m\u001b[38;5;241m.\u001b[39mpreAmp \u001b[38;5;241m=\u001b[39m pre_mA\n\u001b[0;32m     82\u001b[0m time\u001b[38;5;241m.\u001b[39msleep(\u001b[38;5;241m1\u001b[39m)\n\u001b[1;32m---> 83\u001b[0m \u001b[38;5;28;43mself\u001b[39;49m\u001b[38;5;241;43m.\u001b[39;49m\u001b[43mactivation\u001b[49m \u001b[38;5;241m=\u001b[39m \u001b[38;5;241m1\u001b[39m\n\u001b[0;32m     84\u001b[0m \u001b[38;5;28mself\u001b[39m\u001b[38;5;241m.\u001b[39mpwrAmp \u001b[38;5;241m=\u001b[39m pwr_mA\n",
      "File \u001b[1;32mc:\\Users\\KeckLFC\\KeckLFC-main\\KeckLFC\\Hardware\\PritelAmp.py:202\u001b[0m, in \u001b[0;36mPritelAmp.activation\u001b[1;34m(self, status)\u001b[0m\n\u001b[0;32m    200\u001b[0m \u001b[38;5;28;01mwhile\u001b[39;00m \u001b[38;5;129;01mnot\u001b[39;00m \u001b[38;5;28mself\u001b[39m\u001b[38;5;241m.\u001b[39mactivation\u001b[38;5;241m.\u001b[39mcasefold() \u001b[38;5;241m==\u001b[39m status\u001b[38;5;241m.\u001b[39mcasefold():\n\u001b[0;32m    201\u001b[0m     \u001b[38;5;28;01mif\u001b[39;00m time\u001b[38;5;241m.\u001b[39mtime() \u001b[38;5;241m-\u001b[39m timer_start \u001b[38;5;241m>\u001b[39m time_out:\n\u001b[1;32m--> 202\u001b[0m         \u001b[38;5;28;01mraise\u001b[39;00m \u001b[38;5;167;01mRuntimeError\u001b[39;00m(\u001b[38;5;28mself\u001b[39m\u001b[38;5;241m.\u001b[39mdevicename \u001b[38;5;241m+\u001b[39m \u001b[38;5;124m\"\u001b[39m\u001b[38;5;124m: \u001b[39m\u001b[38;5;124m\"\u001b[39m \u001b[38;5;241m+\u001b[39m \u001b[38;5;124mf\u001b[39m\u001b[38;5;124m\"\u001b[39m\u001b[38;5;124mActivation set failed in \u001b[39m\u001b[38;5;132;01m{\u001b[39;00mtime_out\u001b[38;5;132;01m}\u001b[39;00m\u001b[38;5;124m seconds.\u001b[39m\u001b[38;5;124m\"\u001b[39m)\n\u001b[0;32m    203\u001b[0m     \u001b[38;5;28mself\u001b[39m\u001b[38;5;241m.\u001b[39minfo(\u001b[38;5;28mself\u001b[39m\u001b[38;5;241m.\u001b[39mdevicename \u001b[38;5;241m+\u001b[39m \u001b[38;5;124m\"\u001b[39m\u001b[38;5;124m: \u001b[39m\u001b[38;5;124m\"\u001b[39m \u001b[38;5;241m+\u001b[39m \u001b[38;5;124m\"\u001b[39m\u001b[38;5;124m......waiting Activation status set to \u001b[39m\u001b[38;5;124m\"\u001b[39m \u001b[38;5;241m+\u001b[39m status \u001b[38;5;241m+\u001b[39m \u001b[38;5;124m\"\u001b[39m\u001b[38;5;124m, now \u001b[39m\u001b[38;5;124m\"\u001b[39m \u001b[38;5;241m+\u001b[39m\n\u001b[0;32m    204\u001b[0m               \u001b[38;5;28mself\u001b[39m\u001b[38;5;241m.\u001b[39mactivation)\n\u001b[0;32m    205\u001b[0m     \u001b[38;5;28mself\u001b[39m\u001b[38;5;241m.\u001b[39mquery(cmd)\n",
      "\u001b[1;31mRuntimeError\u001b[0m: Pritel Amp: Activation set failed in 5 seconds."
     ]
    }
   ],
   "source": [
    "ptamp.easy_turnOn()"
   ]
  },
  {
   "cell_type": "code",
   "execution_count": 16,
   "metadata": {},
   "outputs": [
    {
     "name": "stderr",
     "output_type": "stream",
     "text": [
      "\u001b[32m2024-04-16 12:18:50.216\u001b[0m | \u001b[1mINFO    \u001b[0m | \u001b[36mPritel Amp\u001b[0m | \u001b[36mPritelAmp.py\u001b[0m:\u001b[36mprintStatus\u001b[0m:\u001b[36m38\u001b[0m\n",
      "\u001b[1m------------------------------------Pritel Amp-----------------------------------\n",
      "|-----------------Pritel OPTICAL FIBER AMPLIFIER Status Summary------------------\n",
      "|\t Pump status: \u001b[1;34;42mON\u001b[0m\n",
      "|\t InputPower = 139 mW, \tPreAmp = 603 mA\n",
      "|\t OutputPower = 0.00 W, \tPwrAmp = 0.00 A\n",
      "|\t AutoShutDown Disabled.\n",
      "----------------Pritel OPTICAL FIBER AMPLIFIER Status Summary Ends---------------\n",
      "\u001b[0m\n"
     ]
    },
    {
     "data": {
      "text/plain": [
       "'------------------------------------Pritel Amp-----------------------------------\\n|-----------------Pritel OPTICAL FIBER AMPLIFIER Status Summary------------------\\n|\\t Pump status: \\x1b[1;34;42mON\\x1b[0m\\n|\\t InputPower = 139 mW, \\tPreAmp = 603 mA\\n|\\t OutputPower = 0.00 W, \\tPwrAmp = 0.00 A\\n|\\t AutoShutDown Disabled.\\n----------------Pritel OPTICAL FIBER AMPLIFIER Status Summary Ends---------------\\n'"
      ]
     },
     "execution_count": 16,
     "metadata": {},
     "output_type": "execute_result"
    }
   ],
   "source": [
    "ptamp.printStatus()"
   ]
  },
  {
   "cell_type": "code",
   "execution_count": 161,
   "metadata": {},
   "outputs": [
    {
     "name": "stderr",
     "output_type": "stream",
     "text": [
      "\u001b[32m2024-04-19 11:40:41.896\u001b[0m | \u001b[1mINFO    \u001b[0m | \u001b[36mPritel Amp\u001b[0m | \u001b[36mPritelAmp.py\u001b[0m:\u001b[36mprintStatus\u001b[0m:\u001b[36m38\u001b[0m\n",
      "\u001b[1m------------------------------------Pritel Amp-----------------------------------\n",
      "|-----------------Pritel OPTICAL FIBER AMPLIFIER Status Summary------------------\n",
      "|\t Pump status: \u001b[1;34;41mOFF\u001b[0m\n",
      "|\t InputPower = 1 mW, \tPreAmp = 0 mA\n",
      "|\t OutputPower = 0.00 W, \tPwrAmp = 0.00 A\n",
      "|\t AutoShutDown Enabled. PowerAmp pump current is disabled.\n",
      "----------------Pritel OPTICAL FIBER AMPLIFIER Status Summary Ends---------------\n",
      "\u001b[0m\n"
     ]
    },
    {
     "data": {
      "text/plain": [
       "'------------------------------------Pritel Amp-----------------------------------\\n|-----------------Pritel OPTICAL FIBER AMPLIFIER Status Summary------------------\\n|\\t Pump status: \\x1b[1;34;41mOFF\\x1b[0m\\n|\\t InputPower = 1 mW, \\tPreAmp = 0 mA\\n|\\t OutputPower = 0.00 W, \\tPwrAmp = 0.00 A\\n|\\t AutoShutDown Enabled. PowerAmp pump current is disabled.\\n----------------Pritel OPTICAL FIBER AMPLIFIER Status Summary Ends---------------\\n'"
      ]
     },
     "execution_count": 161,
     "metadata": {},
     "output_type": "execute_result"
    }
   ],
   "source": [
    "ptamp.printStatus()"
   ]
  },
  {
   "cell_type": "code",
   "execution_count": 158,
   "metadata": {},
   "outputs": [
    {
     "name": "stderr",
     "output_type": "stream",
     "text": [
      "\u001b[32m2024-04-17 14:17:48.105\u001b[0m | \u001b[1mINFO    \u001b[0m | \u001b[36mPritel Amp\u001b[0m | \u001b[36mPritelAmp.py\u001b[0m:\u001b[36mpwrAmp\u001b[0m:\u001b[36m151\u001b[0m\n",
      "\u001b[1mPritel Amp: Disable Ramping by self.ramp_pwr_ma = 0, now 50 mA.\u001b[0m\n",
      "\u001b[32m2024-04-17 14:17:48.969\u001b[0m | \u001b[1mINFO    \u001b[0m | \u001b[36mPritel Amp\u001b[0m | \u001b[36mPritelAmp.py\u001b[0m:\u001b[36mpwrAmp\u001b[0m:\u001b[36m157\u001b[0m\n",
      "\u001b[1mPritel Amp: Setting PowerAmp Current to 4.24 A, current Output 3.87 W.\u001b[0m\n",
      "\u001b[32m2024-04-17 14:17:49.609\u001b[0m | \u001b[1mINFO    \u001b[0m | \u001b[36mPritel Amp\u001b[0m | \u001b[36mPritelAmp.py\u001b[0m:\u001b[36mpwrAmp\u001b[0m:\u001b[36m157\u001b[0m\n",
      "\u001b[1mPritel Amp: Setting PowerAmp Current to 4.19 A, current Output 3.80 W.\u001b[0m\n",
      "\u001b[32m2024-04-17 14:17:50.257\u001b[0m | \u001b[1mINFO    \u001b[0m | \u001b[36mPritel Amp\u001b[0m | \u001b[36mPritelAmp.py\u001b[0m:\u001b[36mpwrAmp\u001b[0m:\u001b[36m157\u001b[0m\n",
      "\u001b[1mPritel Amp: Setting PowerAmp Current to 4.14 A, current Output 3.74 W.\u001b[0m\n",
      "\u001b[32m2024-04-17 14:17:50.913\u001b[0m | \u001b[1mINFO    \u001b[0m | \u001b[36mPritel Amp\u001b[0m | \u001b[36mPritelAmp.py\u001b[0m:\u001b[36mpwrAmp\u001b[0m:\u001b[36m157\u001b[0m\n",
      "\u001b[1mPritel Amp: Setting PowerAmp Current to 4.09 A, current Output 3.71 W.\u001b[0m\n",
      "\u001b[32m2024-04-17 14:17:51.567\u001b[0m | \u001b[1mINFO    \u001b[0m | \u001b[36mPritel Amp\u001b[0m | \u001b[36mPritelAmp.py\u001b[0m:\u001b[36mpwrAmp\u001b[0m:\u001b[36m157\u001b[0m\n",
      "\u001b[1mPritel Amp: Setting PowerAmp Current to 4.04 A, current Output 3.67 W.\u001b[0m\n",
      "\u001b[32m2024-04-17 14:17:52.227\u001b[0m | \u001b[1mINFO    \u001b[0m | \u001b[36mPritel Amp\u001b[0m | \u001b[36mPritelAmp.py\u001b[0m:\u001b[36mpwrAmp\u001b[0m:\u001b[36m157\u001b[0m\n",
      "\u001b[1mPritel Amp: Setting PowerAmp Current to 3.99 A, current Output 3.62 W.\u001b[0m\n",
      "\u001b[32m2024-04-17 14:17:52.880\u001b[0m | \u001b[1mINFO    \u001b[0m | \u001b[36mPritel Amp\u001b[0m | \u001b[36mPritelAmp.py\u001b[0m:\u001b[36mpwrAmp\u001b[0m:\u001b[36m157\u001b[0m\n",
      "\u001b[1mPritel Amp: Setting PowerAmp Current to 3.94 A, current Output 3.58 W.\u001b[0m\n",
      "\u001b[32m2024-04-17 14:17:53.557\u001b[0m | \u001b[1mINFO    \u001b[0m | \u001b[36mPritel Amp\u001b[0m | \u001b[36mPritelAmp.py\u001b[0m:\u001b[36mpwrAmp\u001b[0m:\u001b[36m157\u001b[0m\n",
      "\u001b[1mPritel Amp: Setting PowerAmp Current to 3.89 A, current Output 3.53 W.\u001b[0m\n",
      "\u001b[32m2024-04-17 14:17:54.207\u001b[0m | \u001b[1mINFO    \u001b[0m | \u001b[36mPritel Amp\u001b[0m | \u001b[36mPritelAmp.py\u001b[0m:\u001b[36mpwrAmp\u001b[0m:\u001b[36m157\u001b[0m\n",
      "\u001b[1mPritel Amp: Setting PowerAmp Current to 3.84 A, current Output 3.49 W.\u001b[0m\n",
      "\u001b[32m2024-04-17 14:17:54.867\u001b[0m | \u001b[1mINFO    \u001b[0m | \u001b[36mPritel Amp\u001b[0m | \u001b[36mPritelAmp.py\u001b[0m:\u001b[36mpwrAmp\u001b[0m:\u001b[36m157\u001b[0m\n",
      "\u001b[1mPritel Amp: Setting PowerAmp Current to 3.79 A, current Output 3.44 W.\u001b[0m\n",
      "\u001b[32m2024-04-17 14:17:55.524\u001b[0m | \u001b[1mINFO    \u001b[0m | \u001b[36mPritel Amp\u001b[0m | \u001b[36mPritelAmp.py\u001b[0m:\u001b[36mpwrAmp\u001b[0m:\u001b[36m157\u001b[0m\n",
      "\u001b[1mPritel Amp: Setting PowerAmp Current to 3.74 A, current Output 3.38 W.\u001b[0m\n",
      "\u001b[32m2024-04-17 14:17:56.177\u001b[0m | \u001b[1mINFO    \u001b[0m | \u001b[36mPritel Amp\u001b[0m | \u001b[36mPritelAmp.py\u001b[0m:\u001b[36mpwrAmp\u001b[0m:\u001b[36m157\u001b[0m\n",
      "\u001b[1mPritel Amp: Setting PowerAmp Current to 3.68 A, current Output 3.35 W.\u001b[0m\n",
      "\u001b[32m2024-04-17 14:17:56.849\u001b[0m | \u001b[1mINFO    \u001b[0m | \u001b[36mPritel Amp\u001b[0m | \u001b[36mPritelAmp.py\u001b[0m:\u001b[36mpwrAmp\u001b[0m:\u001b[36m157\u001b[0m\n",
      "\u001b[1mPritel Amp: Setting PowerAmp Current to 3.63 A, current Output 3.28 W.\u001b[0m\n",
      "\u001b[32m2024-04-17 14:17:57.507\u001b[0m | \u001b[1mINFO    \u001b[0m | \u001b[36mPritel Amp\u001b[0m | \u001b[36mPritelAmp.py\u001b[0m:\u001b[36mpwrAmp\u001b[0m:\u001b[36m157\u001b[0m\n",
      "\u001b[1mPritel Amp: Setting PowerAmp Current to 3.58 A, current Output 3.24 W.\u001b[0m\n",
      "\u001b[32m2024-04-17 14:17:58.164\u001b[0m | \u001b[1mINFO    \u001b[0m | \u001b[36mPritel Amp\u001b[0m | \u001b[36mPritelAmp.py\u001b[0m:\u001b[36mpwrAmp\u001b[0m:\u001b[36m157\u001b[0m\n",
      "\u001b[1mPritel Amp: Setting PowerAmp Current to 3.53 A, current Output 3.18 W.\u001b[0m\n",
      "\u001b[32m2024-04-17 14:17:58.818\u001b[0m | \u001b[1mINFO    \u001b[0m | \u001b[36mPritel Amp\u001b[0m | \u001b[36mPritelAmp.py\u001b[0m:\u001b[36mpwrAmp\u001b[0m:\u001b[36m157\u001b[0m\n",
      "\u001b[1mPritel Amp: Setting PowerAmp Current to 3.48 A, current Output 3.13 W.\u001b[0m\n",
      "\u001b[32m2024-04-17 14:17:59.474\u001b[0m | \u001b[1mINFO    \u001b[0m | \u001b[36mPritel Amp\u001b[0m | \u001b[36mPritelAmp.py\u001b[0m:\u001b[36mpwrAmp\u001b[0m:\u001b[36m157\u001b[0m\n",
      "\u001b[1mPritel Amp: Setting PowerAmp Current to 3.43 A, current Output 3.09 W.\u001b[0m\n",
      "\u001b[32m2024-04-17 14:18:00.144\u001b[0m | \u001b[1mINFO    \u001b[0m | \u001b[36mPritel Amp\u001b[0m | \u001b[36mPritelAmp.py\u001b[0m:\u001b[36mpwrAmp\u001b[0m:\u001b[36m157\u001b[0m\n",
      "\u001b[1mPritel Amp: Setting PowerAmp Current to 3.38 A, current Output 3.04 W.\u001b[0m\n",
      "\u001b[32m2024-04-17 14:18:00.800\u001b[0m | \u001b[1mINFO    \u001b[0m | \u001b[36mPritel Amp\u001b[0m | \u001b[36mPritelAmp.py\u001b[0m:\u001b[36mpwrAmp\u001b[0m:\u001b[36m157\u001b[0m\n",
      "\u001b[1mPritel Amp: Setting PowerAmp Current to 3.33 A, current Output 2.98 W.\u001b[0m\n",
      "\u001b[32m2024-04-17 14:18:01.459\u001b[0m | \u001b[1mINFO    \u001b[0m | \u001b[36mPritel Amp\u001b[0m | \u001b[36mPritelAmp.py\u001b[0m:\u001b[36mpwrAmp\u001b[0m:\u001b[36m157\u001b[0m\n",
      "\u001b[1mPritel Amp: Setting PowerAmp Current to 3.28 A, current Output 2.94 W.\u001b[0m\n",
      "\u001b[32m2024-04-17 14:18:02.113\u001b[0m | \u001b[1mINFO    \u001b[0m | \u001b[36mPritel Amp\u001b[0m | \u001b[36mPritelAmp.py\u001b[0m:\u001b[36mpwrAmp\u001b[0m:\u001b[36m157\u001b[0m\n",
      "\u001b[1mPritel Amp: Setting PowerAmp Current to 3.23 A, current Output 2.90 W.\u001b[0m\n",
      "\u001b[32m2024-04-17 14:18:02.773\u001b[0m | \u001b[1mINFO    \u001b[0m | \u001b[36mPritel Amp\u001b[0m | \u001b[36mPritelAmp.py\u001b[0m:\u001b[36mpwrAmp\u001b[0m:\u001b[36m157\u001b[0m\n",
      "\u001b[1mPritel Amp: Setting PowerAmp Current to 3.18 A, current Output 2.84 W.\u001b[0m\n",
      "\u001b[32m2024-04-17 14:18:03.427\u001b[0m | \u001b[1mINFO    \u001b[0m | \u001b[36mPritel Amp\u001b[0m | \u001b[36mPritelAmp.py\u001b[0m:\u001b[36mpwrAmp\u001b[0m:\u001b[36m157\u001b[0m\n",
      "\u001b[1mPritel Amp: Setting PowerAmp Current to 3.13 A, current Output 2.78 W.\u001b[0m\n",
      "\u001b[32m2024-04-17 14:18:04.100\u001b[0m | \u001b[1mINFO    \u001b[0m | \u001b[36mPritel Amp\u001b[0m | \u001b[36mPritelAmp.py\u001b[0m:\u001b[36mpwrAmp\u001b[0m:\u001b[36m157\u001b[0m\n",
      "\u001b[1mPritel Amp: Setting PowerAmp Current to 3.08 A, current Output 2.73 W.\u001b[0m\n",
      "\u001b[32m2024-04-17 14:18:04.757\u001b[0m | \u001b[1mINFO    \u001b[0m | \u001b[36mPritel Amp\u001b[0m | \u001b[36mPritelAmp.py\u001b[0m:\u001b[36mpwrAmp\u001b[0m:\u001b[36m157\u001b[0m\n",
      "\u001b[1mPritel Amp: Setting PowerAmp Current to 3.03 A, current Output 2.68 W.\u001b[0m\n",
      "\u001b[32m2024-04-17 14:18:05.408\u001b[0m | \u001b[1mINFO    \u001b[0m | \u001b[36mPritel Amp\u001b[0m | \u001b[36mPritelAmp.py\u001b[0m:\u001b[36mpwrAmp\u001b[0m:\u001b[36m157\u001b[0m\n",
      "\u001b[1mPritel Amp: Setting PowerAmp Current to 2.98 A, current Output 2.63 W.\u001b[0m\n",
      "\u001b[32m2024-04-17 14:18:06.066\u001b[0m | \u001b[1mINFO    \u001b[0m | \u001b[36mPritel Amp\u001b[0m | \u001b[36mPritelAmp.py\u001b[0m:\u001b[36mpwrAmp\u001b[0m:\u001b[36m157\u001b[0m\n",
      "\u001b[1mPritel Amp: Setting PowerAmp Current to 2.93 A, current Output 2.58 W.\u001b[0m\n",
      "\u001b[32m2024-04-17 14:18:06.719\u001b[0m | \u001b[1mINFO    \u001b[0m | \u001b[36mPritel Amp\u001b[0m | \u001b[36mPritelAmp.py\u001b[0m:\u001b[36mpwrAmp\u001b[0m:\u001b[36m157\u001b[0m\n",
      "\u001b[1mPritel Amp: Setting PowerAmp Current to 2.88 A, current Output 2.53 W.\u001b[0m\n",
      "\u001b[32m2024-04-17 14:18:07.398\u001b[0m | \u001b[1mINFO    \u001b[0m | \u001b[36mPritel Amp\u001b[0m | \u001b[36mPritelAmp.py\u001b[0m:\u001b[36mpwrAmp\u001b[0m:\u001b[36m157\u001b[0m\n",
      "\u001b[1mPritel Amp: Setting PowerAmp Current to 2.83 A, current Output 2.49 W.\u001b[0m\n",
      "\u001b[32m2024-04-17 14:18:08.054\u001b[0m | \u001b[1mINFO    \u001b[0m | \u001b[36mPritel Amp\u001b[0m | \u001b[36mPritelAmp.py\u001b[0m:\u001b[36mpwrAmp\u001b[0m:\u001b[36m157\u001b[0m\n",
      "\u001b[1mPritel Amp: Setting PowerAmp Current to 2.78 A, current Output 2.44 W.\u001b[0m\n",
      "\u001b[32m2024-04-17 14:18:08.709\u001b[0m | \u001b[1mINFO    \u001b[0m | \u001b[36mPritel Amp\u001b[0m | \u001b[36mPritelAmp.py\u001b[0m:\u001b[36mpwrAmp\u001b[0m:\u001b[36m157\u001b[0m\n",
      "\u001b[1mPritel Amp: Setting PowerAmp Current to 2.73 A, current Output 2.39 W.\u001b[0m\n",
      "\u001b[32m2024-04-17 14:18:09.363\u001b[0m | \u001b[1mINFO    \u001b[0m | \u001b[36mPritel Amp\u001b[0m | \u001b[36mPritelAmp.py\u001b[0m:\u001b[36mpwrAmp\u001b[0m:\u001b[36m157\u001b[0m\n",
      "\u001b[1mPritel Amp: Setting PowerAmp Current to 2.68 A, current Output 2.32 W.\u001b[0m\n",
      "\u001b[32m2024-04-17 14:18:10.021\u001b[0m | \u001b[1mINFO    \u001b[0m | \u001b[36mPritel Amp\u001b[0m | \u001b[36mPritelAmp.py\u001b[0m:\u001b[36mpwrAmp\u001b[0m:\u001b[36m157\u001b[0m\n",
      "\u001b[1mPritel Amp: Setting PowerAmp Current to 2.62 A, current Output 2.26 W.\u001b[0m\n",
      "\u001b[32m2024-04-17 14:18:10.683\u001b[0m | \u001b[1mINFO    \u001b[0m | \u001b[36mPritel Amp\u001b[0m | \u001b[36mPritelAmp.py\u001b[0m:\u001b[36mpwrAmp\u001b[0m:\u001b[36m157\u001b[0m\n",
      "\u001b[1mPritel Amp: Setting PowerAmp Current to 2.57 A, current Output 2.19 W.\u001b[0m\n",
      "\u001b[32m2024-04-17 14:18:11.344\u001b[0m | \u001b[1mINFO    \u001b[0m | \u001b[36mPritel Amp\u001b[0m | \u001b[36mPritelAmp.py\u001b[0m:\u001b[36mpwrAmp\u001b[0m:\u001b[36m157\u001b[0m\n",
      "\u001b[1mPritel Amp: Setting PowerAmp Current to 2.52 A, current Output 2.13 W.\u001b[0m\n",
      "\u001b[32m2024-04-17 14:18:12.005\u001b[0m | \u001b[1mINFO    \u001b[0m | \u001b[36mPritel Amp\u001b[0m | \u001b[36mPritelAmp.py\u001b[0m:\u001b[36mpwrAmp\u001b[0m:\u001b[36m157\u001b[0m\n",
      "\u001b[1mPritel Amp: Setting PowerAmp Current to 2.47 A, current Output 2.08 W.\u001b[0m\n",
      "\u001b[32m2024-04-17 14:18:12.657\u001b[0m | \u001b[1mINFO    \u001b[0m | \u001b[36mPritel Amp\u001b[0m | \u001b[36mPritelAmp.py\u001b[0m:\u001b[36mpwrAmp\u001b[0m:\u001b[36m157\u001b[0m\n",
      "\u001b[1mPritel Amp: Setting PowerAmp Current to 2.42 A, current Output 2.04 W.\u001b[0m\n",
      "\u001b[32m2024-04-17 14:18:13.311\u001b[0m | \u001b[1mINFO    \u001b[0m | \u001b[36mPritel Amp\u001b[0m | \u001b[36mPritelAmp.py\u001b[0m:\u001b[36mpwrAmp\u001b[0m:\u001b[36m157\u001b[0m\n",
      "\u001b[1mPritel Amp: Setting PowerAmp Current to 2.37 A, current Output 1.99 W.\u001b[0m\n",
      "\u001b[32m2024-04-17 14:18:13.984\u001b[0m | \u001b[1mINFO    \u001b[0m | \u001b[36mPritel Amp\u001b[0m | \u001b[36mPritelAmp.py\u001b[0m:\u001b[36mpwrAmp\u001b[0m:\u001b[36m157\u001b[0m\n",
      "\u001b[1mPritel Amp: Setting PowerAmp Current to 2.32 A, current Output 1.94 W.\u001b[0m\n",
      "\u001b[32m2024-04-17 14:18:14.636\u001b[0m | \u001b[1mINFO    \u001b[0m | \u001b[36mPritel Amp\u001b[0m | \u001b[36mPritelAmp.py\u001b[0m:\u001b[36mpwrAmp\u001b[0m:\u001b[36m157\u001b[0m\n",
      "\u001b[1mPritel Amp: Setting PowerAmp Current to 2.27 A, current Output 1.89 W.\u001b[0m\n",
      "\u001b[32m2024-04-17 14:18:15.297\u001b[0m | \u001b[1mINFO    \u001b[0m | \u001b[36mPritel Amp\u001b[0m | \u001b[36mPritelAmp.py\u001b[0m:\u001b[36mpwrAmp\u001b[0m:\u001b[36m157\u001b[0m\n",
      "\u001b[1mPritel Amp: Setting PowerAmp Current to 2.22 A, current Output 1.84 W.\u001b[0m\n",
      "\u001b[32m2024-04-17 14:18:15.958\u001b[0m | \u001b[1mINFO    \u001b[0m | \u001b[36mPritel Amp\u001b[0m | \u001b[36mPritelAmp.py\u001b[0m:\u001b[36mpwrAmp\u001b[0m:\u001b[36m157\u001b[0m\n",
      "\u001b[1mPritel Amp: Setting PowerAmp Current to 2.17 A, current Output 1.78 W.\u001b[0m\n",
      "\u001b[32m2024-04-17 14:18:16.613\u001b[0m | \u001b[1mINFO    \u001b[0m | \u001b[36mPritel Amp\u001b[0m | \u001b[36mPritelAmp.py\u001b[0m:\u001b[36mpwrAmp\u001b[0m:\u001b[36m157\u001b[0m\n",
      "\u001b[1mPritel Amp: Setting PowerAmp Current to 2.12 A, current Output 1.72 W.\u001b[0m\n",
      "\u001b[32m2024-04-17 14:18:17.284\u001b[0m | \u001b[1mINFO    \u001b[0m | \u001b[36mPritel Amp\u001b[0m | \u001b[36mPritelAmp.py\u001b[0m:\u001b[36mpwrAmp\u001b[0m:\u001b[36m157\u001b[0m\n",
      "\u001b[1mPritel Amp: Setting PowerAmp Current to 2.07 A, current Output 1.66 W.\u001b[0m\n",
      "\u001b[32m2024-04-17 14:18:17.941\u001b[0m | \u001b[1mINFO    \u001b[0m | \u001b[36mPritel Amp\u001b[0m | \u001b[36mPritelAmp.py\u001b[0m:\u001b[36mpwrAmp\u001b[0m:\u001b[36m157\u001b[0m\n",
      "\u001b[1mPritel Amp: Setting PowerAmp Current to 2.02 A, current Output 1.61 W.\u001b[0m\n",
      "\u001b[32m2024-04-17 14:18:18.592\u001b[0m | \u001b[1mINFO    \u001b[0m | \u001b[36mPritel Amp\u001b[0m | \u001b[36mPritelAmp.py\u001b[0m:\u001b[36mpwrAmp\u001b[0m:\u001b[36m157\u001b[0m\n",
      "\u001b[1mPritel Amp: Setting PowerAmp Current to 1.97 A, current Output 1.57 W.\u001b[0m\n",
      "\u001b[32m2024-04-17 14:18:19.252\u001b[0m | \u001b[1mINFO    \u001b[0m | \u001b[36mPritel Amp\u001b[0m | \u001b[36mPritelAmp.py\u001b[0m:\u001b[36mpwrAmp\u001b[0m:\u001b[36m157\u001b[0m\n",
      "\u001b[1mPritel Amp: Setting PowerAmp Current to 1.92 A, current Output 1.51 W.\u001b[0m\n",
      "\u001b[32m2024-04-17 14:18:19.909\u001b[0m | \u001b[1mINFO    \u001b[0m | \u001b[36mPritel Amp\u001b[0m | \u001b[36mPritelAmp.py\u001b[0m:\u001b[36mpwrAmp\u001b[0m:\u001b[36m157\u001b[0m\n",
      "\u001b[1mPritel Amp: Setting PowerAmp Current to 1.87 A, current Output 1.46 W.\u001b[0m\n",
      "\u001b[32m2024-04-17 14:18:20.582\u001b[0m | \u001b[1mINFO    \u001b[0m | \u001b[36mPritel Amp\u001b[0m | \u001b[36mPritelAmp.py\u001b[0m:\u001b[36mpwrAmp\u001b[0m:\u001b[36m157\u001b[0m\n",
      "\u001b[1mPritel Amp: Setting PowerAmp Current to 1.82 A, current Output 1.40 W.\u001b[0m\n",
      "\u001b[32m2024-04-17 14:18:21.234\u001b[0m | \u001b[1mINFO    \u001b[0m | \u001b[36mPritel Amp\u001b[0m | \u001b[36mPritelAmp.py\u001b[0m:\u001b[36mpwrAmp\u001b[0m:\u001b[36m157\u001b[0m\n",
      "\u001b[1mPritel Amp: Setting PowerAmp Current to 1.77 A, current Output 1.35 W.\u001b[0m\n",
      "\u001b[32m2024-04-17 14:18:21.891\u001b[0m | \u001b[1mINFO    \u001b[0m | \u001b[36mPritel Amp\u001b[0m | \u001b[36mPritelAmp.py\u001b[0m:\u001b[36mpwrAmp\u001b[0m:\u001b[36m157\u001b[0m\n",
      "\u001b[1mPritel Amp: Setting PowerAmp Current to 1.72 A, current Output 1.29 W.\u001b[0m\n",
      "\u001b[32m2024-04-17 14:18:22.542\u001b[0m | \u001b[1mINFO    \u001b[0m | \u001b[36mPritel Amp\u001b[0m | \u001b[36mPritelAmp.py\u001b[0m:\u001b[36mpwrAmp\u001b[0m:\u001b[36m157\u001b[0m\n",
      "\u001b[1mPritel Amp: Setting PowerAmp Current to 1.67 A, current Output 1.24 W.\u001b[0m\n",
      "\u001b[32m2024-04-17 14:18:23.203\u001b[0m | \u001b[1mINFO    \u001b[0m | \u001b[36mPritel Amp\u001b[0m | \u001b[36mPritelAmp.py\u001b[0m:\u001b[36mpwrAmp\u001b[0m:\u001b[36m157\u001b[0m\n",
      "\u001b[1mPritel Amp: Setting PowerAmp Current to 1.62 A, current Output 1.18 W.\u001b[0m\n",
      "\u001b[32m2024-04-17 14:18:23.878\u001b[0m | \u001b[1mINFO    \u001b[0m | \u001b[36mPritel Amp\u001b[0m | \u001b[36mPritelAmp.py\u001b[0m:\u001b[36mpwrAmp\u001b[0m:\u001b[36m157\u001b[0m\n",
      "\u001b[1mPritel Amp: Setting PowerAmp Current to 1.56 A, current Output 1.13 W.\u001b[0m\n",
      "\u001b[32m2024-04-17 14:18:24.535\u001b[0m | \u001b[1mINFO    \u001b[0m | \u001b[36mPritel Amp\u001b[0m | \u001b[36mPritelAmp.py\u001b[0m:\u001b[36mpwrAmp\u001b[0m:\u001b[36m157\u001b[0m\n",
      "\u001b[1mPritel Amp: Setting PowerAmp Current to 1.51 A, current Output 1.07 W.\u001b[0m\n",
      "\u001b[32m2024-04-17 14:18:25.191\u001b[0m | \u001b[1mINFO    \u001b[0m | \u001b[36mPritel Amp\u001b[0m | \u001b[36mPritelAmp.py\u001b[0m:\u001b[36mpwrAmp\u001b[0m:\u001b[36m157\u001b[0m\n",
      "\u001b[1mPritel Amp: Setting PowerAmp Current to 1.46 A, current Output 1.01 W.\u001b[0m\n",
      "\u001b[32m2024-04-17 14:18:25.841\u001b[0m | \u001b[1mINFO    \u001b[0m | \u001b[36mPritel Amp\u001b[0m | \u001b[36mPritelAmp.py\u001b[0m:\u001b[36mpwrAmp\u001b[0m:\u001b[36m157\u001b[0m\n",
      "\u001b[1mPritel Amp: Setting PowerAmp Current to 1.41 A, current Output 0.96 W.\u001b[0m\n",
      "\u001b[32m2024-04-17 14:18:26.500\u001b[0m | \u001b[1mINFO    \u001b[0m | \u001b[36mPritel Amp\u001b[0m | \u001b[36mPritelAmp.py\u001b[0m:\u001b[36mpwrAmp\u001b[0m:\u001b[36m157\u001b[0m\n",
      "\u001b[1mPritel Amp: Setting PowerAmp Current to 1.36 A, current Output 0.90 W.\u001b[0m\n",
      "\u001b[32m2024-04-17 14:18:27.150\u001b[0m | \u001b[1mINFO    \u001b[0m | \u001b[36mPritel Amp\u001b[0m | \u001b[36mPritelAmp.py\u001b[0m:\u001b[36mpwrAmp\u001b[0m:\u001b[36m157\u001b[0m\n",
      "\u001b[1mPritel Amp: Setting PowerAmp Current to 1.31 A, current Output 0.85 W.\u001b[0m\n",
      "\u001b[32m2024-04-17 14:18:27.824\u001b[0m | \u001b[1mINFO    \u001b[0m | \u001b[36mPritel Amp\u001b[0m | \u001b[36mPritelAmp.py\u001b[0m:\u001b[36mpwrAmp\u001b[0m:\u001b[36m157\u001b[0m\n",
      "\u001b[1mPritel Amp: Setting PowerAmp Current to 1.26 A, current Output 0.79 W.\u001b[0m\n",
      "\u001b[32m2024-04-17 14:18:28.484\u001b[0m | \u001b[1mINFO    \u001b[0m | \u001b[36mPritel Amp\u001b[0m | \u001b[36mPritelAmp.py\u001b[0m:\u001b[36mpwrAmp\u001b[0m:\u001b[36m157\u001b[0m\n",
      "\u001b[1mPritel Amp: Setting PowerAmp Current to 1.21 A, current Output 0.73 W.\u001b[0m\n",
      "\u001b[32m2024-04-17 14:18:29.141\u001b[0m | \u001b[1mINFO    \u001b[0m | \u001b[36mPritel Amp\u001b[0m | \u001b[36mPritelAmp.py\u001b[0m:\u001b[36mpwrAmp\u001b[0m:\u001b[36m157\u001b[0m\n",
      "\u001b[1mPritel Amp: Setting PowerAmp Current to 1.16 A, current Output 0.69 W.\u001b[0m\n",
      "\u001b[32m2024-04-17 14:18:29.791\u001b[0m | \u001b[1mINFO    \u001b[0m | \u001b[36mPritel Amp\u001b[0m | \u001b[36mPritelAmp.py\u001b[0m:\u001b[36mpwrAmp\u001b[0m:\u001b[36m157\u001b[0m\n",
      "\u001b[1mPritel Amp: Setting PowerAmp Current to 1.11 A, current Output 0.63 W.\u001b[0m\n",
      "\u001b[32m2024-04-17 14:18:30.445\u001b[0m | \u001b[1mINFO    \u001b[0m | \u001b[36mPritel Amp\u001b[0m | \u001b[36mPritelAmp.py\u001b[0m:\u001b[36mpwrAmp\u001b[0m:\u001b[36m157\u001b[0m\n",
      "\u001b[1mPritel Amp: Setting PowerAmp Current to 1.06 A, current Output 0.57 W.\u001b[0m\n",
      "\u001b[32m2024-04-17 14:18:31.124\u001b[0m | \u001b[1mINFO    \u001b[0m | \u001b[36mPritel Amp\u001b[0m | \u001b[36mPritelAmp.py\u001b[0m:\u001b[36mpwrAmp\u001b[0m:\u001b[36m157\u001b[0m\n",
      "\u001b[1mPritel Amp: Setting PowerAmp Current to 1.01 A, current Output 0.51 W.\u001b[0m\n",
      "\u001b[32m2024-04-17 14:18:31.775\u001b[0m | \u001b[1mINFO    \u001b[0m | \u001b[36mPritel Amp\u001b[0m | \u001b[36mPritelAmp.py\u001b[0m:\u001b[36mpwrAmp\u001b[0m:\u001b[36m157\u001b[0m\n",
      "\u001b[1mPritel Amp: Setting PowerAmp Current to 0.96 A, current Output 0.45 W.\u001b[0m\n",
      "\u001b[32m2024-04-17 14:18:32.434\u001b[0m | \u001b[1mINFO    \u001b[0m | \u001b[36mPritel Amp\u001b[0m | \u001b[36mPritelAmp.py\u001b[0m:\u001b[36mpwrAmp\u001b[0m:\u001b[36m157\u001b[0m\n",
      "\u001b[1mPritel Amp: Setting PowerAmp Current to 0.91 A, current Output 0.41 W.\u001b[0m\n",
      "\u001b[32m2024-04-17 14:18:33.093\u001b[0m | \u001b[1mINFO    \u001b[0m | \u001b[36mPritel Amp\u001b[0m | \u001b[36mPritelAmp.py\u001b[0m:\u001b[36mpwrAmp\u001b[0m:\u001b[36m157\u001b[0m\n",
      "\u001b[1mPritel Amp: Setting PowerAmp Current to 0.86 A, current Output 0.36 W.\u001b[0m\n",
      "\u001b[32m2024-04-17 14:18:33.751\u001b[0m | \u001b[1mINFO    \u001b[0m | \u001b[36mPritel Amp\u001b[0m | \u001b[36mPritelAmp.py\u001b[0m:\u001b[36mpwrAmp\u001b[0m:\u001b[36m157\u001b[0m\n",
      "\u001b[1mPritel Amp: Setting PowerAmp Current to 0.81 A, current Output 0.30 W.\u001b[0m\n",
      "\u001b[32m2024-04-17 14:18:34.423\u001b[0m | \u001b[1mINFO    \u001b[0m | \u001b[36mPritel Amp\u001b[0m | \u001b[36mPritelAmp.py\u001b[0m:\u001b[36mpwrAmp\u001b[0m:\u001b[36m157\u001b[0m\n",
      "\u001b[1mPritel Amp: Setting PowerAmp Current to 0.76 A, current Output 0.26 W.\u001b[0m\n",
      "\u001b[32m2024-04-17 14:18:35.074\u001b[0m | \u001b[1mINFO    \u001b[0m | \u001b[36mPritel Amp\u001b[0m | \u001b[36mPritelAmp.py\u001b[0m:\u001b[36mpwrAmp\u001b[0m:\u001b[36m157\u001b[0m\n",
      "\u001b[1mPritel Amp: Setting PowerAmp Current to 0.71 A, current Output 0.20 W.\u001b[0m\n",
      "\u001b[32m2024-04-17 14:18:35.734\u001b[0m | \u001b[1mINFO    \u001b[0m | \u001b[36mPritel Amp\u001b[0m | \u001b[36mPritelAmp.py\u001b[0m:\u001b[36mpwrAmp\u001b[0m:\u001b[36m157\u001b[0m\n",
      "\u001b[1mPritel Amp: Setting PowerAmp Current to 0.66 A, current Output 0.15 W.\u001b[0m\n",
      "\u001b[32m2024-04-17 14:18:36.391\u001b[0m | \u001b[1mINFO    \u001b[0m | \u001b[36mPritel Amp\u001b[0m | \u001b[36mPritelAmp.py\u001b[0m:\u001b[36mpwrAmp\u001b[0m:\u001b[36m157\u001b[0m\n",
      "\u001b[1mPritel Amp: Setting PowerAmp Current to 0.61 A, current Output 0.10 W.\u001b[0m\n",
      "\u001b[32m2024-04-17 14:18:37.043\u001b[0m | \u001b[1mINFO    \u001b[0m | \u001b[36mPritel Amp\u001b[0m | \u001b[36mPritelAmp.py\u001b[0m:\u001b[36mpwrAmp\u001b[0m:\u001b[36m157\u001b[0m\n",
      "\u001b[1mPritel Amp: Setting PowerAmp Current to 0.56 A, current Output 0.05 W.\u001b[0m\n",
      "\u001b[32m2024-04-17 14:18:37.711\u001b[0m | \u001b[1mINFO    \u001b[0m | \u001b[36mPritel Amp\u001b[0m | \u001b[36mPritelAmp.py\u001b[0m:\u001b[36mpwrAmp\u001b[0m:\u001b[36m157\u001b[0m\n",
      "\u001b[1mPritel Amp: Setting PowerAmp Current to 0.50 A, current Output 0.00 W.\u001b[0m\n",
      "\u001b[32m2024-04-17 14:18:38.375\u001b[0m | \u001b[1mINFO    \u001b[0m | \u001b[36mPritel Amp\u001b[0m | \u001b[36mPritelAmp.py\u001b[0m:\u001b[36mpwrAmp\u001b[0m:\u001b[36m157\u001b[0m\n",
      "\u001b[1mPritel Amp: Setting PowerAmp Current to 0.45 A, current Output 0.00 W.\u001b[0m\n",
      "\u001b[32m2024-04-17 14:18:39.025\u001b[0m | \u001b[1mINFO    \u001b[0m | \u001b[36mPritel Amp\u001b[0m | \u001b[36mPritelAmp.py\u001b[0m:\u001b[36mpwrAmp\u001b[0m:\u001b[36m157\u001b[0m\n",
      "\u001b[1mPritel Amp: Setting PowerAmp Current to 0.40 A, current Output 0.00 W.\u001b[0m\n",
      "\u001b[32m2024-04-17 14:18:39.684\u001b[0m | \u001b[1mINFO    \u001b[0m | \u001b[36mPritel Amp\u001b[0m | \u001b[36mPritelAmp.py\u001b[0m:\u001b[36mpwrAmp\u001b[0m:\u001b[36m157\u001b[0m\n",
      "\u001b[1mPritel Amp: Setting PowerAmp Current to 0.35 A, current Output 0.00 W.\u001b[0m\n",
      "\u001b[32m2024-04-17 14:18:40.342\u001b[0m | \u001b[1mINFO    \u001b[0m | \u001b[36mPritel Amp\u001b[0m | \u001b[36mPritelAmp.py\u001b[0m:\u001b[36mpwrAmp\u001b[0m:\u001b[36m157\u001b[0m\n",
      "\u001b[1mPritel Amp: Setting PowerAmp Current to 0.30 A, current Output 0.00 W.\u001b[0m\n",
      "\u001b[32m2024-04-17 14:18:41.014\u001b[0m | \u001b[1mINFO    \u001b[0m | \u001b[36mPritel Amp\u001b[0m | \u001b[36mPritelAmp.py\u001b[0m:\u001b[36mpwrAmp\u001b[0m:\u001b[36m157\u001b[0m\n",
      "\u001b[1mPritel Amp: Setting PowerAmp Current to 0.25 A, current Output 0.00 W.\u001b[0m\n",
      "\u001b[32m2024-04-17 14:18:41.667\u001b[0m | \u001b[1mINFO    \u001b[0m | \u001b[36mPritel Amp\u001b[0m | \u001b[36mPritelAmp.py\u001b[0m:\u001b[36mpwrAmp\u001b[0m:\u001b[36m157\u001b[0m\n",
      "\u001b[1mPritel Amp: Setting PowerAmp Current to 0.20 A, current Output 0.00 W.\u001b[0m\n",
      "\u001b[32m2024-04-17 14:18:42.327\u001b[0m | \u001b[1mINFO    \u001b[0m | \u001b[36mPritel Amp\u001b[0m | \u001b[36mPritelAmp.py\u001b[0m:\u001b[36mpwrAmp\u001b[0m:\u001b[36m157\u001b[0m\n",
      "\u001b[1mPritel Amp: Setting PowerAmp Current to 0.15 A, current Output 0.00 W.\u001b[0m\n",
      "\u001b[32m2024-04-17 14:18:42.981\u001b[0m | \u001b[1mINFO    \u001b[0m | \u001b[36mPritel Amp\u001b[0m | \u001b[36mPritelAmp.py\u001b[0m:\u001b[36mpwrAmp\u001b[0m:\u001b[36m157\u001b[0m\n",
      "\u001b[1mPritel Amp: Setting PowerAmp Current to 0.10 A, current Output 0.00 W.\u001b[0m\n",
      "\u001b[32m2024-04-17 14:18:43.635\u001b[0m | \u001b[1mINFO    \u001b[0m | \u001b[36mPritel Amp\u001b[0m | \u001b[36mPritelAmp.py\u001b[0m:\u001b[36mpwrAmp\u001b[0m:\u001b[36m157\u001b[0m\n",
      "\u001b[1mPritel Amp: Setting PowerAmp Current to 0.05 A, current Output 0.00 W.\u001b[0m\n",
      "\u001b[32m2024-04-17 14:18:44.311\u001b[0m | \u001b[1mINFO    \u001b[0m | \u001b[36mPritel Amp\u001b[0m | \u001b[36mPritelAmp.py\u001b[0m:\u001b[36mpwrAmp\u001b[0m:\u001b[36m157\u001b[0m\n",
      "\u001b[1mPritel Amp: Setting PowerAmp Current to 0.00 A, current Output 0.00 W.\u001b[0m\n"
     ]
    }
   ],
   "source": [
    "ptamp.pwrAmp = '0A'"
   ]
  },
  {
   "cell_type": "code",
   "execution_count": 160,
   "metadata": {},
   "outputs": [
    {
     "name": "stderr",
     "output_type": "stream",
     "text": [
      "\u001b[32m2024-04-17 14:19:44.189\u001b[0m | \u001b[1mINFO    \u001b[0m | \u001b[36mPritel Amp\u001b[0m | \u001b[36mPritelAmp.py\u001b[0m:\u001b[36mactivation\u001b[0m:\u001b[36m203\u001b[0m\n",
      "\u001b[1mPritel Amp: ......waiting Activation status set to OFF, now ON\u001b[0m\n",
      "\u001b[32m2024-04-17 14:19:44.861\u001b[0m | \u001b[1mINFO    \u001b[0m | \u001b[36mPritel Amp\u001b[0m | \u001b[36mPritelAmp.py\u001b[0m:\u001b[36mactivation\u001b[0m:\u001b[36m206\u001b[0m\n",
      "\u001b[1mPritel Amp: setted Activation status as OFF, finished in 1.123 seconds\u001b[0m\n"
     ]
    }
   ],
   "source": [
    "# ptamp.preAmp = '600mA'\n",
    "# ptamp.pwrAmp = '0A'\n",
    "\n",
    "ptamp.activation = 0"
   ]
  },
  {
   "cell_type": "code",
   "execution_count": null,
   "metadata": {},
   "outputs": [],
   "source": []
  },
  {
   "cell_type": "code",
   "execution_count": 80,
   "metadata": {},
   "outputs": [
    {
     "name": "stderr",
     "output_type": "stream",
     "text": [
      "\u001b[32m2024-02-22 14:20:40.162\u001b[0m | \u001b[1mINFO    \u001b[0m | \u001b[36mAmonics EDFA 13 dBm\u001b[0m | \u001b[36mDevice.py\u001b[0m:\u001b[36mconnect\u001b[0m:\u001b[36m78\u001b[0m\n",
      "\u001b[1mAmonics EDFA 13 dBm connected\u001b[0m\n",
      "\u001b[32m2024-02-22 14:20:46.424\u001b[0m | \u001b[1mINFO    \u001b[0m | \u001b[36mAmonics EDFA 13 dBm\u001b[0m | \u001b[36mAmonicsEDFA.py\u001b[0m:\u001b[36mprintStatus\u001b[0m:\u001b[36m49\u001b[0m\n",
      "\u001b[1m-------------------------------Amonics EDFA 13 dBm-------------------------------\n",
      "|--------------------------Amonics EDFA Status Summary---------------------------\n",
      "|------------------Model: AEDFA-PM-13-R-FA, Serial No.22020701-------------------\n",
      "|\tInterLock Status: \u001b[1;34;42mUNLOCKED\u001b[0m\n",
      "|\tCase Temperature: 27.31°C\n",
      "|\tMaster Activation: \u001b[1;34;41mOFF\u001b[0m\n",
      "|\t------------Channel Summary-------------\n",
      "|\t CHANNEL1: \n",
      "|\t\t Mode: ACC\n",
      "|\t\t Set Cur: 0.0 mA\n",
      "|\t\t Status: \u001b[1;34;41mOFF\u001b[0m\n",
      "|\t\t Input Power: 0.0 mW\n",
      "|\t\t Output Power: 0.0 mW\n",
      "|\t\t Internal PD Power: 0.0 mW\n",
      "------------------------Amonics EDFA Status Summary Ends------------------------\n",
      "\u001b[0m\n"
     ]
    },
    {
     "data": {
      "text/plain": [
       "'-------------------------------Amonics EDFA 13 dBm-------------------------------\\n|--------------------------Amonics EDFA Status Summary---------------------------\\n|------------------Model: AEDFA-PM-13-R-FA, Serial No.22020701-------------------\\n|\\tInterLock Status: \\x1b[1;34;42mUNLOCKED\\x1b[0m\\n|\\tCase Temperature: 27.31°C\\n|\\tMaster Activation: \\x1b[1;34;41mOFF\\x1b[0m\\n|\\t------------Channel Summary-------------\\n|\\t CHANNEL1: \\n|\\t\\t Mode: ACC\\n|\\t\\t Set Cur: 0.0 mA\\n|\\t\\t Status: \\x1b[1;34;41mOFF\\x1b[0m\\n|\\t\\t Input Power: 0.0 mW\\n|\\t\\t Output Power: 0.0 mW\\n|\\t\\t Internal PD Power: 0.0 mW\\n------------------------Amonics EDFA Status Summary Ends------------------------\\n'"
      ]
     },
     "execution_count": 80,
     "metadata": {},
     "output_type": "execute_result"
    }
   ],
   "source": [
    "from KeckLFC.Hardware.AmonicsEDFA import AmonicsEDFA\n",
    "amonic13 = AmonicsEDFA(addr=f'ASRL{9}::INSTR', name='Amonics EDFA 13 dBm')\n",
    "amonic13.connect()\n",
    "amonic13.printStatus()"
   ]
  },
  {
   "cell_type": "code",
   "execution_count": 17,
   "metadata": {},
   "outputs": [
    {
     "name": "stderr",
     "output_type": "stream",
     "text": [
      "\u001b[32m2024-04-16 12:18:59.854\u001b[0m | \u001b[1mINFO    \u001b[0m | \u001b[36mAgiltron 2 by 2 switch\u001b[0m | \u001b[36mDevice.py\u001b[0m:\u001b[36mconnect\u001b[0m:\u001b[36m78\u001b[0m\n",
      "\u001b[1mAgiltron 2 by 2 switch connected\u001b[0m\n"
     ]
    },
    {
     "data": {
      "text/plain": [
       "1"
      ]
     },
     "execution_count": 17,
     "metadata": {},
     "output_type": "execute_result"
    }
   ],
   "source": [
    "from KeckLFC.Hardware.Agiltron_2by2_switch import AgiltronSelfAlign22\n",
    "sw2 = AgiltronSelfAlign22(addr=f'COM{20}')\n",
    "sw2.connect()\n",
    "sw2.check_status()"
   ]
  },
  {
   "cell_type": "code",
   "execution_count": 156,
   "metadata": {},
   "outputs": [
    {
     "name": "stderr",
     "output_type": "stream",
     "text": [
      "\u001b[32m2024-04-17 14:15:35.198\u001b[0m | \u001b[1mINFO    \u001b[0m | \u001b[36mAgiltron 2 by 2 switch\u001b[0m | \u001b[36mAgiltron_2by2_switch.py\u001b[0m:\u001b[36mset_status\u001b[0m:\u001b[36m113\u001b[0m\n",
      "\u001b[1mstatus set to 1\u001b[0m\n"
     ]
    }
   ],
   "source": [
    "sw2.set_status(1)"
   ]
  },
  {
   "cell_type": "code",
   "execution_count": 157,
   "metadata": {},
   "outputs": [
    {
     "data": {
      "text/plain": [
       "1"
      ]
     },
     "execution_count": 157,
     "metadata": {},
     "output_type": "execute_result"
    }
   ],
   "source": [
    "sw2.check_status()"
   ]
  },
  {
   "cell_type": "code",
   "execution_count": 155,
   "metadata": {},
   "outputs": [
    {
     "data": {
      "text/plain": [
       "2"
      ]
     },
     "execution_count": 155,
     "metadata": {},
     "output_type": "execute_result"
    }
   ],
   "source": [
    "sw2.check_status()"
   ]
  },
  {
   "cell_type": "code",
   "execution_count": null,
   "metadata": {},
   "outputs": [],
   "source": [
    "################ locking all 2024-04-08"
   ]
  },
  {
   "cell_type": "code",
   "execution_count": 4,
   "metadata": {},
   "outputs": [
    {
     "name": "stderr",
     "output_type": "stream",
     "text": [
      "\u001b[32m2024-04-10 08:48:10.202\u001b[0m | \u001b[1mINFO    \u001b[0m | \u001b[36mStanford Research System SIM900\u001b[0m | \u001b[36mDevice.py\u001b[0m:\u001b[36mconnect\u001b[0m:\u001b[36m78\u001b[0m\n",
      "\u001b[1mStanford Research System SIM900 connected\u001b[0m\n",
      "\u001b[32m2024-04-10 08:48:13.312\u001b[0m | \u001b[1mINFO    \u001b[0m | \u001b[36mTDS2024C OSC\u001b[0m | \u001b[36mDevice.py\u001b[0m:\u001b[36mconnect\u001b[0m:\u001b[36m78\u001b[0m\n",
      "\u001b[1mTDS2024C OSC connected\u001b[0m\n",
      "\u001b[32m2024-04-10 08:48:13.384\u001b[0m | \u001b[1mINFO    \u001b[0m | \u001b[36mKeysight FG 33500\u001b[0m | \u001b[36mDevice.py\u001b[0m:\u001b[36mconnect\u001b[0m:\u001b[36m78\u001b[0m\n",
      "\u001b[1mKeysight FG 33500 connected\u001b[0m\n"
     ]
    },
    {
     "data": {
      "text/plain": [
       "1"
      ]
     },
     "execution_count": 4,
     "metadata": {},
     "output_type": "execute_result"
    }
   ],
   "source": [
    "from KeckLFC.Hardware.SRS_SIM900 import SRS_SIM900, SRS_PIDcontrol_SIM960\n",
    "srs = SRS_SIM900(addr='GPIB0::2::INSTR')\n",
    "srs.connect()\n",
    "servo_FC = SRS_PIDcontrol_SIM960(srs, 1, name='Filter Cavity PDH Lock Servo')\n",
    "servo_IM = SRS_PIDcontrol_SIM960(srs, 3, name='Minicomb Intensity Lock Servo')\n",
    "servo_RB = SRS_PIDcontrol_SIM960(srs, 5, name='Rio Laser Fceo Rb spectroscopy Lock Servo')\n",
    "\n",
    "from KeckLFC.Hardware.TDS2024C import TDS2024C\n",
    "osc = TDS2024C()\n",
    "osc.connect()\n",
    "\n",
    "from KeckLFC.Hardware.KeysightFG_33500 import KeysightFG_33500\n",
    "fg = KeysightFG_33500(addr='USB0::0x0957::0x2807::MY59003824::INSTR', name='Keysight FG 33500')\n",
    "fg.connect()"
   ]
  },
  {
   "cell_type": "code",
   "execution_count": 65,
   "metadata": {},
   "outputs": [
    {
     "name": "stderr",
     "output_type": "stream",
     "text": [
      "\u001b[32m2024-04-17 11:23:47.954\u001b[0m | \u001b[1mINFO    \u001b[0m | \u001b[36mMinicomb Intensity Lock Servo\u001b[0m | \u001b[36mSRS_SIM900.py\u001b[0m:\u001b[36m__set_num_withcmd\u001b[0m:\u001b[36m812\u001b[0m\n",
      "\u001b[1mMinicomb Intensity Lock Servo: Setting Output Upper limit in Volt to 3.0.\u001b[0m\n",
      "\u001b[32m2024-04-17 11:23:48.168\u001b[0m | \u001b[1mINFO    \u001b[0m | \u001b[36mMinicomb Intensity Lock Servo\u001b[0m | \u001b[36mSRS_SIM900.py\u001b[0m:\u001b[36m__set_num_withcmd\u001b[0m:\u001b[36m812\u001b[0m\n",
      "\u001b[1mMinicomb Intensity Lock Servo: Setting Output Lower limit in Volt to -3.0.\u001b[0m\n",
      "\u001b[32m2024-04-17 11:23:53.230\u001b[0m | \u001b[1mINFO    \u001b[0m | \u001b[36mMinicomb Intensity Lock Servo\u001b[0m | \u001b[36mSRS_SIM900.py\u001b[0m:\u001b[36mprintStatus\u001b[0m:\u001b[36m201\u001b[0m\n",
      "\u001b[1m--------------------------Minicomb Intensity Lock Servo--------------------------\n",
      "|--------------------SRS PID controller SIM960 Status Summary--------------------\n",
      "|----------------------------SIM960,s/n033669,ver2.17----------------------------\n",
      "|\tOutput mode:\t\u001b[1;34;42mPID\u001b[0m,\tOutput limit: -3.000V TO 3.000V\n",
      "|\tMeasured input:\t 3.783233V\n",
      "|\tAmplified error:\t -0.013235V\n",
      "|\tInstant Output voltage:\t 0.165126V\n",
      "|\tManual output set:\t 0.32V\n",
      "|\t================ Set Point related================\n",
      "|\t\tInternal setpoint = 3.78 V, Ramping \u001b[1;34;41mOFF\u001b[0m\n",
      "|\t\tSetpoint input mode INT, Ext setpoint input 3.778188V\n",
      "|\t\tSetpoint RAMP speed = 0.01 V/s, action \u001b[1;34;41mOFF\u001b[0m\n",
      "|\t============= P,I,D and Offset Status=============\n",
      "|\t\t P = 4.0    , \taction = \u001b[1;34;42mON\u001b[0m\n",
      "|\t\t I = 0.1 1/s, \taction = \u001b[1;34;42mON\u001b[0m\n",
      "|\t\t D = 1e-05   s, \taction = \u001b[1;34;41mOFF\u001b[0m\n",
      "|\t\tOff = 0.32  V, \taction = \u001b[1;34;42mON\u001b[0m\n",
      "-----------------SRS PID controller SIM960 Status Summary Ends------------------\n",
      "\u001b[0m\n"
     ]
    },
    {
     "data": {
      "text/plain": [
       "'--------------------------Minicomb Intensity Lock Servo--------------------------\\n|--------------------SRS PID controller SIM960 Status Summary--------------------\\n|----------------------------SIM960,s/n033669,ver2.17----------------------------\\n|\\tOutput mode:\\t\\x1b[1;34;42mPID\\x1b[0m,\\tOutput limit: -3.000V TO 3.000V\\n|\\tMeasured input:\\t 3.783233V\\n|\\tAmplified error:\\t -0.013235V\\n|\\tInstant Output voltage:\\t 0.165126V\\n|\\tManual output set:\\t 0.32V\\n|\\t================ Set Point related================\\n|\\t\\tInternal setpoint = 3.78 V, Ramping \\x1b[1;34;41mOFF\\x1b[0m\\n|\\t\\tSetpoint input mode INT, Ext setpoint input 3.778188V\\n|\\t\\tSetpoint RAMP speed = 0.01 V/s, action \\x1b[1;34;41mOFF\\x1b[0m\\n|\\t============= P,I,D and Offset Status=============\\n|\\t\\t P = 4.0    , \\taction = \\x1b[1;34;42mON\\x1b[0m\\n|\\t\\t I = 0.1 1/s, \\taction = \\x1b[1;34;42mON\\x1b[0m\\n|\\t\\t D = 1e-05   s, \\taction = \\x1b[1;34;41mOFF\\x1b[0m\\n|\\t\\tOff = 0.32  V, \\taction = \\x1b[1;34;42mON\\x1b[0m\\n-----------------SRS PID controller SIM960 Status Summary Ends------------------\\n'"
      ]
     },
     "execution_count": 65,
     "metadata": {},
     "output_type": "execute_result"
    }
   ],
   "source": [
    "servo_IM.output_upperlim = 3\n",
    "servo_IM.output_lowerlim = -3\n",
    "servo_IM.printStatus()\n"
   ]
  },
  {
   "cell_type": "code",
   "execution_count": 48,
   "metadata": {},
   "outputs": [
    {
     "name": "stderr",
     "output_type": "stream",
     "text": [
      "\u001b[32m2024-04-16 12:30:31.782\u001b[0m | \u001b[1mINFO    \u001b[0m | \u001b[36mMinicomb Intensity Lock Servo\u001b[0m | \u001b[36mSRS_SIM900.py\u001b[0m:\u001b[36mset_manual_output\u001b[0m:\u001b[36m666\u001b[0m\n",
      "\u001b[1mMinicomb Intensity Lock Servo: ....Manual output voltage Ramping.... Disable ranp by set self.manual_output_ramp=0. \u001b[0m\n",
      "\u001b[32m2024-04-16 12:30:31.988\u001b[0m | \u001b[1mINFO    \u001b[0m | \u001b[36mMinicomb Intensity Lock Servo\u001b[0m | \u001b[36mSRS_SIM900.py\u001b[0m:\u001b[36mset_manual_output\u001b[0m:\u001b[36m671\u001b[0m\n",
      "\u001b[1mMinicomb Intensity Lock Servo: Output in Manual Mode in Volt set to 0.320.\u001b[0m\n",
      "\u001b[32m2024-04-16 12:30:32.198\u001b[0m | \u001b[1mINFO    \u001b[0m | \u001b[36mMinicomb Intensity Lock Servo\u001b[0m | \u001b[36mSRS_SIM900.py\u001b[0m:\u001b[36mset_manual_output\u001b[0m:\u001b[36m671\u001b[0m\n",
      "\u001b[1mMinicomb Intensity Lock Servo: Output in Manual Mode in Volt set to 0.219.\u001b[0m\n",
      "\u001b[32m2024-04-16 12:30:32.405\u001b[0m | \u001b[1mINFO    \u001b[0m | \u001b[36mMinicomb Intensity Lock Servo\u001b[0m | \u001b[36mSRS_SIM900.py\u001b[0m:\u001b[36mset_manual_output\u001b[0m:\u001b[36m671\u001b[0m\n",
      "\u001b[1mMinicomb Intensity Lock Servo: Output in Manual Mode in Volt set to 0.118.\u001b[0m\n",
      "\u001b[32m2024-04-16 12:30:32.608\u001b[0m | \u001b[1mINFO    \u001b[0m | \u001b[36mMinicomb Intensity Lock Servo\u001b[0m | \u001b[36mSRS_SIM900.py\u001b[0m:\u001b[36mset_manual_output\u001b[0m:\u001b[36m671\u001b[0m\n",
      "\u001b[1mMinicomb Intensity Lock Servo: Output in Manual Mode in Volt set to 0.017.\u001b[0m\n",
      "\u001b[32m2024-04-16 12:30:32.821\u001b[0m | \u001b[1mINFO    \u001b[0m | \u001b[36mMinicomb Intensity Lock Servo\u001b[0m | \u001b[36mSRS_SIM900.py\u001b[0m:\u001b[36mset_manual_output\u001b[0m:\u001b[36m671\u001b[0m\n",
      "\u001b[1mMinicomb Intensity Lock Servo: Output in Manual Mode in Volt set to -0.083.\u001b[0m\n",
      "\u001b[32m2024-04-16 12:30:33.029\u001b[0m | \u001b[1mINFO    \u001b[0m | \u001b[36mMinicomb Intensity Lock Servo\u001b[0m | \u001b[36mSRS_SIM900.py\u001b[0m:\u001b[36mset_manual_output\u001b[0m:\u001b[36m671\u001b[0m\n",
      "\u001b[1mMinicomb Intensity Lock Servo: Output in Manual Mode in Volt set to -0.184.\u001b[0m\n",
      "\u001b[32m2024-04-16 12:30:33.233\u001b[0m | \u001b[1mINFO    \u001b[0m | \u001b[36mMinicomb Intensity Lock Servo\u001b[0m | \u001b[36mSRS_SIM900.py\u001b[0m:\u001b[36mset_manual_output\u001b[0m:\u001b[36m671\u001b[0m\n",
      "\u001b[1mMinicomb Intensity Lock Servo: Output in Manual Mode in Volt set to -0.285.\u001b[0m\n",
      "\u001b[32m2024-04-16 12:30:33.445\u001b[0m | \u001b[1mINFO    \u001b[0m | \u001b[36mMinicomb Intensity Lock Servo\u001b[0m | \u001b[36mSRS_SIM900.py\u001b[0m:\u001b[36mset_manual_output\u001b[0m:\u001b[36m671\u001b[0m\n",
      "\u001b[1mMinicomb Intensity Lock Servo: Output in Manual Mode in Volt set to -0.386.\u001b[0m\n",
      "\u001b[32m2024-04-16 12:30:33.655\u001b[0m | \u001b[1mINFO    \u001b[0m | \u001b[36mMinicomb Intensity Lock Servo\u001b[0m | \u001b[36mSRS_SIM900.py\u001b[0m:\u001b[36mset_manual_output\u001b[0m:\u001b[36m671\u001b[0m\n",
      "\u001b[1mMinicomb Intensity Lock Servo: Output in Manual Mode in Volt set to -0.487.\u001b[0m\n",
      "\u001b[32m2024-04-16 12:30:33.859\u001b[0m | \u001b[1mINFO    \u001b[0m | \u001b[36mMinicomb Intensity Lock Servo\u001b[0m | \u001b[36mSRS_SIM900.py\u001b[0m:\u001b[36mset_manual_output\u001b[0m:\u001b[36m671\u001b[0m\n",
      "\u001b[1mMinicomb Intensity Lock Servo: Output in Manual Mode in Volt set to -0.588.\u001b[0m\n",
      "\u001b[32m2024-04-16 12:30:34.065\u001b[0m | \u001b[1mINFO    \u001b[0m | \u001b[36mMinicomb Intensity Lock Servo\u001b[0m | \u001b[36mSRS_SIM900.py\u001b[0m:\u001b[36mset_manual_output\u001b[0m:\u001b[36m671\u001b[0m\n",
      "\u001b[1mMinicomb Intensity Lock Servo: Output in Manual Mode in Volt set to -0.689.\u001b[0m\n",
      "\u001b[32m2024-04-16 12:30:34.273\u001b[0m | \u001b[1mINFO    \u001b[0m | \u001b[36mMinicomb Intensity Lock Servo\u001b[0m | \u001b[36mSRS_SIM900.py\u001b[0m:\u001b[36mset_manual_output\u001b[0m:\u001b[36m671\u001b[0m\n",
      "\u001b[1mMinicomb Intensity Lock Servo: Output in Manual Mode in Volt set to -0.790.\u001b[0m\n",
      "\u001b[32m2024-04-16 12:30:34.481\u001b[0m | \u001b[1mINFO    \u001b[0m | \u001b[36mMinicomb Intensity Lock Servo\u001b[0m | \u001b[36mSRS_SIM900.py\u001b[0m:\u001b[36mset_manual_output\u001b[0m:\u001b[36m671\u001b[0m\n",
      "\u001b[1mMinicomb Intensity Lock Servo: Output in Manual Mode in Volt set to -0.890.\u001b[0m\n",
      "\u001b[32m2024-04-16 12:30:34.690\u001b[0m | \u001b[1mINFO    \u001b[0m | \u001b[36mMinicomb Intensity Lock Servo\u001b[0m | \u001b[36mSRS_SIM900.py\u001b[0m:\u001b[36mset_manual_output\u001b[0m:\u001b[36m671\u001b[0m\n",
      "\u001b[1mMinicomb Intensity Lock Servo: Output in Manual Mode in Volt set to -0.991.\u001b[0m\n",
      "\u001b[32m2024-04-16 12:30:34.901\u001b[0m | \u001b[1mINFO    \u001b[0m | \u001b[36mMinicomb Intensity Lock Servo\u001b[0m | \u001b[36mSRS_SIM900.py\u001b[0m:\u001b[36mset_manual_output\u001b[0m:\u001b[36m671\u001b[0m\n",
      "\u001b[1mMinicomb Intensity Lock Servo: Output in Manual Mode in Volt set to -1.092.\u001b[0m\n",
      "\u001b[32m2024-04-16 12:30:35.113\u001b[0m | \u001b[1mINFO    \u001b[0m | \u001b[36mMinicomb Intensity Lock Servo\u001b[0m | \u001b[36mSRS_SIM900.py\u001b[0m:\u001b[36mset_manual_output\u001b[0m:\u001b[36m671\u001b[0m\n",
      "\u001b[1mMinicomb Intensity Lock Servo: Output in Manual Mode in Volt set to -1.193.\u001b[0m\n",
      "\u001b[32m2024-04-16 12:30:35.321\u001b[0m | \u001b[1mINFO    \u001b[0m | \u001b[36mMinicomb Intensity Lock Servo\u001b[0m | \u001b[36mSRS_SIM900.py\u001b[0m:\u001b[36mset_manual_output\u001b[0m:\u001b[36m671\u001b[0m\n",
      "\u001b[1mMinicomb Intensity Lock Servo: Output in Manual Mode in Volt set to -1.294.\u001b[0m\n",
      "\u001b[32m2024-04-16 12:30:35.523\u001b[0m | \u001b[1mINFO    \u001b[0m | \u001b[36mMinicomb Intensity Lock Servo\u001b[0m | \u001b[36mSRS_SIM900.py\u001b[0m:\u001b[36mset_manual_output\u001b[0m:\u001b[36m671\u001b[0m\n",
      "\u001b[1mMinicomb Intensity Lock Servo: Output in Manual Mode in Volt set to -1.395.\u001b[0m\n",
      "\u001b[32m2024-04-16 12:30:35.732\u001b[0m | \u001b[1mINFO    \u001b[0m | \u001b[36mMinicomb Intensity Lock Servo\u001b[0m | \u001b[36mSRS_SIM900.py\u001b[0m:\u001b[36mset_manual_output\u001b[0m:\u001b[36m671\u001b[0m\n",
      "\u001b[1mMinicomb Intensity Lock Servo: Output in Manual Mode in Volt set to -1.496.\u001b[0m\n",
      "\u001b[32m2024-04-16 12:30:35.940\u001b[0m | \u001b[1mINFO    \u001b[0m | \u001b[36mMinicomb Intensity Lock Servo\u001b[0m | \u001b[36mSRS_SIM900.py\u001b[0m:\u001b[36mset_manual_output\u001b[0m:\u001b[36m671\u001b[0m\n",
      "\u001b[1mMinicomb Intensity Lock Servo: Output in Manual Mode in Volt set to -1.597.\u001b[0m\n",
      "\u001b[32m2024-04-16 12:30:36.148\u001b[0m | \u001b[1mINFO    \u001b[0m | \u001b[36mMinicomb Intensity Lock Servo\u001b[0m | \u001b[36mSRS_SIM900.py\u001b[0m:\u001b[36mset_manual_output\u001b[0m:\u001b[36m671\u001b[0m\n",
      "\u001b[1mMinicomb Intensity Lock Servo: Output in Manual Mode in Volt set to -1.697.\u001b[0m\n",
      "\u001b[32m2024-04-16 12:30:36.362\u001b[0m | \u001b[1mINFO    \u001b[0m | \u001b[36mMinicomb Intensity Lock Servo\u001b[0m | \u001b[36mSRS_SIM900.py\u001b[0m:\u001b[36mset_manual_output\u001b[0m:\u001b[36m671\u001b[0m\n",
      "\u001b[1mMinicomb Intensity Lock Servo: Output in Manual Mode in Volt set to -1.798.\u001b[0m\n",
      "\u001b[32m2024-04-16 12:30:36.567\u001b[0m | \u001b[1mINFO    \u001b[0m | \u001b[36mMinicomb Intensity Lock Servo\u001b[0m | \u001b[36mSRS_SIM900.py\u001b[0m:\u001b[36mset_manual_output\u001b[0m:\u001b[36m671\u001b[0m\n",
      "\u001b[1mMinicomb Intensity Lock Servo: Output in Manual Mode in Volt set to -1.899.\u001b[0m\n",
      "\u001b[32m2024-04-16 12:30:36.778\u001b[0m | \u001b[1mINFO    \u001b[0m | \u001b[36mMinicomb Intensity Lock Servo\u001b[0m | \u001b[36mSRS_SIM900.py\u001b[0m:\u001b[36mset_manual_output\u001b[0m:\u001b[36m671\u001b[0m\n",
      "\u001b[1mMinicomb Intensity Lock Servo: Output in Manual Mode in Volt set to -2.000.\u001b[0m\n",
      "\u001b[32m2024-04-16 12:30:36.778\u001b[0m | \u001b[1mINFO    \u001b[0m | \u001b[36mMinicomb Intensity Lock Servo\u001b[0m | \u001b[36mSRS_SIM900.py\u001b[0m:\u001b[36mset_manual_output\u001b[0m:\u001b[36m681\u001b[0m\n",
      "\u001b[1mMinicomb Intensity Lock Servo: ....Manual output voltage Ramp Finished. Disable ramp by set self.manual_output_ramp=0. \u001b[0m\n",
      "\u001b[32m2024-04-16 12:30:36.982\u001b[0m | \u001b[1mINFO    \u001b[0m | \u001b[36mMinicomb Intensity Lock Servo\u001b[0m | \u001b[36mSRS_SIM900.py\u001b[0m:\u001b[36mset_output_mode\u001b[0m:\u001b[36m537\u001b[0m\n",
      "\u001b[1mMinicomb Intensity Lock Servo: PID output is turned OFF, output mode is turnd to Manual.\u001b[0m\n",
      "100%|██████████| 200/200 [00:26<00:00,  7.53it/s]\n"
     ]
    },
    {
     "data": {
      "image/png": "[encoded data removed]",
      "text/plain": [
       "<Figure size 640x480 with 1 Axes>"
      ]
     },
     "metadata": {},
     "output_type": "display_data"
    },
    {
     "name": "stderr",
     "output_type": "stream",
     "text": [
      "\u001b[32m2024-04-16 12:31:03.956\u001b[0m | \u001b[1mINFO    \u001b[0m | \u001b[36mMinicomb Intensity Lock Servo\u001b[0m | \u001b[36mSRS_SIM900.py\u001b[0m:\u001b[36mset_manual_output\u001b[0m:\u001b[36m666\u001b[0m\n",
      "\u001b[1mMinicomb Intensity Lock Servo: ....Manual output voltage Ramping.... Disable ranp by set self.manual_output_ramp=0. \u001b[0m\n",
      "\u001b[32m2024-04-16 12:31:04.166\u001b[0m | \u001b[1mINFO    \u001b[0m | \u001b[36mMinicomb Intensity Lock Servo\u001b[0m | \u001b[36mSRS_SIM900.py\u001b[0m:\u001b[36mset_manual_output\u001b[0m:\u001b[36m671\u001b[0m\n",
      "\u001b[1mMinicomb Intensity Lock Servo: Output in Manual Mode in Volt set to 3.000.\u001b[0m\n",
      "\u001b[32m2024-04-16 12:31:04.374\u001b[0m | \u001b[1mINFO    \u001b[0m | \u001b[36mMinicomb Intensity Lock Servo\u001b[0m | \u001b[36mSRS_SIM900.py\u001b[0m:\u001b[36mset_manual_output\u001b[0m:\u001b[36m671\u001b[0m\n",
      "\u001b[1mMinicomb Intensity Lock Servo: Output in Manual Mode in Volt set to 2.897.\u001b[0m\n",
      "\u001b[32m2024-04-16 12:31:04.583\u001b[0m | \u001b[1mINFO    \u001b[0m | \u001b[36mMinicomb Intensity Lock Servo\u001b[0m | \u001b[36mSRS_SIM900.py\u001b[0m:\u001b[36mset_manual_output\u001b[0m:\u001b[36m671\u001b[0m\n",
      "\u001b[1mMinicomb Intensity Lock Servo: Output in Manual Mode in Volt set to 2.794.\u001b[0m\n",
      "\u001b[32m2024-04-16 12:31:04.793\u001b[0m | \u001b[1mINFO    \u001b[0m | \u001b[36mMinicomb Intensity Lock Servo\u001b[0m | \u001b[36mSRS_SIM900.py\u001b[0m:\u001b[36mset_manual_output\u001b[0m:\u001b[36m671\u001b[0m\n",
      "\u001b[1mMinicomb Intensity Lock Servo: Output in Manual Mode in Volt set to 2.691.\u001b[0m\n",
      "\u001b[32m2024-04-16 12:31:05.000\u001b[0m | \u001b[1mINFO    \u001b[0m | \u001b[36mMinicomb Intensity Lock Servo\u001b[0m | \u001b[36mSRS_SIM900.py\u001b[0m:\u001b[36mset_manual_output\u001b[0m:\u001b[36m671\u001b[0m\n",
      "\u001b[1mMinicomb Intensity Lock Servo: Output in Manual Mode in Volt set to 2.588.\u001b[0m\n",
      "\u001b[32m2024-04-16 12:31:05.207\u001b[0m | \u001b[1mINFO    \u001b[0m | \u001b[36mMinicomb Intensity Lock Servo\u001b[0m | \u001b[36mSRS_SIM900.py\u001b[0m:\u001b[36mset_manual_output\u001b[0m:\u001b[36m671\u001b[0m\n",
      "\u001b[1mMinicomb Intensity Lock Servo: Output in Manual Mode in Volt set to 2.485.\u001b[0m\n",
      "\u001b[32m2024-04-16 12:31:05.416\u001b[0m | \u001b[1mINFO    \u001b[0m | \u001b[36mMinicomb Intensity Lock Servo\u001b[0m | \u001b[36mSRS_SIM900.py\u001b[0m:\u001b[36mset_manual_output\u001b[0m:\u001b[36m671\u001b[0m\n",
      "\u001b[1mMinicomb Intensity Lock Servo: Output in Manual Mode in Volt set to 2.382.\u001b[0m\n",
      "\u001b[32m2024-04-16 12:31:05.626\u001b[0m | \u001b[1mINFO    \u001b[0m | \u001b[36mMinicomb Intensity Lock Servo\u001b[0m | \u001b[36mSRS_SIM900.py\u001b[0m:\u001b[36mset_manual_output\u001b[0m:\u001b[36m671\u001b[0m\n",
      "\u001b[1mMinicomb Intensity Lock Servo: Output in Manual Mode in Volt set to 2.278.\u001b[0m\n",
      "\u001b[32m2024-04-16 12:31:05.835\u001b[0m | \u001b[1mINFO    \u001b[0m | \u001b[36mMinicomb Intensity Lock Servo\u001b[0m | \u001b[36mSRS_SIM900.py\u001b[0m:\u001b[36mset_manual_output\u001b[0m:\u001b[36m671\u001b[0m\n",
      "\u001b[1mMinicomb Intensity Lock Servo: Output in Manual Mode in Volt set to 2.175.\u001b[0m\n",
      "\u001b[32m2024-04-16 12:31:06.040\u001b[0m | \u001b[1mINFO    \u001b[0m | \u001b[36mMinicomb Intensity Lock Servo\u001b[0m | \u001b[36mSRS_SIM900.py\u001b[0m:\u001b[36mset_manual_output\u001b[0m:\u001b[36m671\u001b[0m\n",
      "\u001b[1mMinicomb Intensity Lock Servo: Output in Manual Mode in Volt set to 2.072.\u001b[0m\n",
      "\u001b[32m2024-04-16 12:31:06.249\u001b[0m | \u001b[1mINFO    \u001b[0m | \u001b[36mMinicomb Intensity Lock Servo\u001b[0m | \u001b[36mSRS_SIM900.py\u001b[0m:\u001b[36mset_manual_output\u001b[0m:\u001b[36m671\u001b[0m\n",
      "\u001b[1mMinicomb Intensity Lock Servo: Output in Manual Mode in Volt set to 1.969.\u001b[0m\n",
      "\u001b[32m2024-04-16 12:31:06.457\u001b[0m | \u001b[1mINFO    \u001b[0m | \u001b[36mMinicomb Intensity Lock Servo\u001b[0m | \u001b[36mSRS_SIM900.py\u001b[0m:\u001b[36mset_manual_output\u001b[0m:\u001b[36m671\u001b[0m\n",
      "\u001b[1mMinicomb Intensity Lock Servo: Output in Manual Mode in Volt set to 1.866.\u001b[0m\n",
      "\u001b[32m2024-04-16 12:31:06.660\u001b[0m | \u001b[1mINFO    \u001b[0m | \u001b[36mMinicomb Intensity Lock Servo\u001b[0m | \u001b[36mSRS_SIM900.py\u001b[0m:\u001b[36mset_manual_output\u001b[0m:\u001b[36m671\u001b[0m\n",
      "\u001b[1mMinicomb Intensity Lock Servo: Output in Manual Mode in Volt set to 1.763.\u001b[0m\n",
      "\u001b[32m2024-04-16 12:31:06.873\u001b[0m | \u001b[1mINFO    \u001b[0m | \u001b[36mMinicomb Intensity Lock Servo\u001b[0m | \u001b[36mSRS_SIM900.py\u001b[0m:\u001b[36mset_manual_output\u001b[0m:\u001b[36m671\u001b[0m\n",
      "\u001b[1mMinicomb Intensity Lock Servo: Output in Manual Mode in Volt set to 1.660.\u001b[0m\n",
      "\u001b[32m2024-04-16 12:31:07.075\u001b[0m | \u001b[1mINFO    \u001b[0m | \u001b[36mMinicomb Intensity Lock Servo\u001b[0m | \u001b[36mSRS_SIM900.py\u001b[0m:\u001b[36mset_manual_output\u001b[0m:\u001b[36m671\u001b[0m\n",
      "\u001b[1mMinicomb Intensity Lock Servo: Output in Manual Mode in Volt set to 1.557.\u001b[0m\n",
      "\u001b[32m2024-04-16 12:31:07.282\u001b[0m | \u001b[1mINFO    \u001b[0m | \u001b[36mMinicomb Intensity Lock Servo\u001b[0m | \u001b[36mSRS_SIM900.py\u001b[0m:\u001b[36mset_manual_output\u001b[0m:\u001b[36m671\u001b[0m\n",
      "\u001b[1mMinicomb Intensity Lock Servo: Output in Manual Mode in Volt set to 1.454.\u001b[0m\n",
      "\u001b[32m2024-04-16 12:31:07.496\u001b[0m | \u001b[1mINFO    \u001b[0m | \u001b[36mMinicomb Intensity Lock Servo\u001b[0m | \u001b[36mSRS_SIM900.py\u001b[0m:\u001b[36mset_manual_output\u001b[0m:\u001b[36m671\u001b[0m\n",
      "\u001b[1mMinicomb Intensity Lock Servo: Output in Manual Mode in Volt set to 1.351.\u001b[0m\n",
      "\u001b[32m2024-04-16 12:31:07.700\u001b[0m | \u001b[1mINFO    \u001b[0m | \u001b[36mMinicomb Intensity Lock Servo\u001b[0m | \u001b[36mSRS_SIM900.py\u001b[0m:\u001b[36mset_manual_output\u001b[0m:\u001b[36m671\u001b[0m\n",
      "\u001b[1mMinicomb Intensity Lock Servo: Output in Manual Mode in Volt set to 1.248.\u001b[0m\n",
      "\u001b[32m2024-04-16 12:31:07.907\u001b[0m | \u001b[1mINFO    \u001b[0m | \u001b[36mMinicomb Intensity Lock Servo\u001b[0m | \u001b[36mSRS_SIM900.py\u001b[0m:\u001b[36mset_manual_output\u001b[0m:\u001b[36m671\u001b[0m\n",
      "\u001b[1mMinicomb Intensity Lock Servo: Output in Manual Mode in Volt set to 1.145.\u001b[0m\n",
      "\u001b[32m2024-04-16 12:31:08.116\u001b[0m | \u001b[1mINFO    \u001b[0m | \u001b[36mMinicomb Intensity Lock Servo\u001b[0m | \u001b[36mSRS_SIM900.py\u001b[0m:\u001b[36mset_manual_output\u001b[0m:\u001b[36m671\u001b[0m\n",
      "\u001b[1mMinicomb Intensity Lock Servo: Output in Manual Mode in Volt set to 1.042.\u001b[0m\n",
      "\u001b[32m2024-04-16 12:31:08.328\u001b[0m | \u001b[1mINFO    \u001b[0m | \u001b[36mMinicomb Intensity Lock Servo\u001b[0m | \u001b[36mSRS_SIM900.py\u001b[0m:\u001b[36mset_manual_output\u001b[0m:\u001b[36m671\u001b[0m\n",
      "\u001b[1mMinicomb Intensity Lock Servo: Output in Manual Mode in Volt set to 0.938.\u001b[0m\n",
      "\u001b[32m2024-04-16 12:31:08.534\u001b[0m | \u001b[1mINFO    \u001b[0m | \u001b[36mMinicomb Intensity Lock Servo\u001b[0m | \u001b[36mSRS_SIM900.py\u001b[0m:\u001b[36mset_manual_output\u001b[0m:\u001b[36m671\u001b[0m\n",
      "\u001b[1mMinicomb Intensity Lock Servo: Output in Manual Mode in Volt set to 0.835.\u001b[0m\n",
      "\u001b[32m2024-04-16 12:31:08.740\u001b[0m | \u001b[1mINFO    \u001b[0m | \u001b[36mMinicomb Intensity Lock Servo\u001b[0m | \u001b[36mSRS_SIM900.py\u001b[0m:\u001b[36mset_manual_output\u001b[0m:\u001b[36m671\u001b[0m\n",
      "\u001b[1mMinicomb Intensity Lock Servo: Output in Manual Mode in Volt set to 0.732.\u001b[0m\n",
      "\u001b[32m2024-04-16 12:31:08.950\u001b[0m | \u001b[1mINFO    \u001b[0m | \u001b[36mMinicomb Intensity Lock Servo\u001b[0m | \u001b[36mSRS_SIM900.py\u001b[0m:\u001b[36mset_manual_output\u001b[0m:\u001b[36m671\u001b[0m\n",
      "\u001b[1mMinicomb Intensity Lock Servo: Output in Manual Mode in Volt set to 0.629.\u001b[0m\n",
      "\u001b[32m2024-04-16 12:31:09.157\u001b[0m | \u001b[1mINFO    \u001b[0m | \u001b[36mMinicomb Intensity Lock Servo\u001b[0m | \u001b[36mSRS_SIM900.py\u001b[0m:\u001b[36mset_manual_output\u001b[0m:\u001b[36m671\u001b[0m\n",
      "\u001b[1mMinicomb Intensity Lock Servo: Output in Manual Mode in Volt set to 0.526.\u001b[0m\n",
      "\u001b[32m2024-04-16 12:31:09.367\u001b[0m | \u001b[1mINFO    \u001b[0m | \u001b[36mMinicomb Intensity Lock Servo\u001b[0m | \u001b[36mSRS_SIM900.py\u001b[0m:\u001b[36mset_manual_output\u001b[0m:\u001b[36m671\u001b[0m\n",
      "\u001b[1mMinicomb Intensity Lock Servo: Output in Manual Mode in Volt set to 0.423.\u001b[0m\n",
      "\u001b[32m2024-04-16 12:31:09.574\u001b[0m | \u001b[1mINFO    \u001b[0m | \u001b[36mMinicomb Intensity Lock Servo\u001b[0m | \u001b[36mSRS_SIM900.py\u001b[0m:\u001b[36mset_manual_output\u001b[0m:\u001b[36m671\u001b[0m\n",
      "\u001b[1mMinicomb Intensity Lock Servo: Output in Manual Mode in Volt set to 0.320.\u001b[0m\n",
      "\u001b[32m2024-04-16 12:31:09.574\u001b[0m | \u001b[1mINFO    \u001b[0m | \u001b[36mMinicomb Intensity Lock Servo\u001b[0m | \u001b[36mSRS_SIM900.py\u001b[0m:\u001b[36mset_manual_output\u001b[0m:\u001b[36m681\u001b[0m\n",
      "\u001b[1mMinicomb Intensity Lock Servo: ....Manual output voltage Ramp Finished. Disable ramp by set self.manual_output_ramp=0. \u001b[0m\n"
     ]
    }
   ],
   "source": [
    "import numpy as np\n",
    "scan_start = -2\n",
    "scan_stop =3\n",
    "num_steps= 200\n",
    "\n",
    "servo_IM.manual_output_ramp=0.1\n",
    "servo_IM.manual_output = scan_start\n",
    "\n",
    "r = servo_IM.manual_sweep(np.linspace(scan_start,scan_stop,num_steps))\n",
    "\n",
    "servo_IM.manual_output=0.32"
   ]
  },
  {
   "cell_type": "code",
   "execution_count": 534,
   "metadata": {},
   "outputs": [],
   "source": [
    "servo_IM = SRS_PIDcontrol_SIM960(srs, 3, name='Minicomb Intensity Lock Servo')"
   ]
  },
  {
   "cell_type": "code",
   "execution_count": 55,
   "metadata": {},
   "outputs": [
    {
     "name": "stderr",
     "output_type": "stream",
     "text": [
      "\u001b[32m2024-04-16 12:33:16.457\u001b[0m | \u001b[1mINFO    \u001b[0m | \u001b[36mMinicomb Intensity Lock Servo\u001b[0m | \u001b[36mSRS_SIM900.py\u001b[0m:\u001b[36m__set_num_withcmd\u001b[0m:\u001b[36m812\u001b[0m\n",
      "\u001b[1mMinicomb Intensity Lock Servo: Setting Proportional Gain in V/V to 4.0.\u001b[0m\n",
      "\u001b[32m2024-04-16 12:33:16.673\u001b[0m | \u001b[1mINFO    \u001b[0m | \u001b[36mMinicomb Intensity Lock Servo\u001b[0m | \u001b[36mSRS_SIM900.py\u001b[0m:\u001b[36m__set_num_withcmd\u001b[0m:\u001b[36m812\u001b[0m\n",
      "\u001b[1mMinicomb Intensity Lock Servo: Setting Integral Gain in 1/seconds to 0.1.\u001b[0m\n",
      "\u001b[32m2024-04-16 12:33:16.882\u001b[0m | \u001b[1mINFO    \u001b[0m | \u001b[36mMinicomb Intensity Lock Servo\u001b[0m | \u001b[36mSRS_SIM900.py\u001b[0m:\u001b[36m__set_num_withcmd\u001b[0m:\u001b[36m812\u001b[0m\n",
      "\u001b[1mMinicomb Intensity Lock Servo: Setting Output offset in Volts to 0.32.\u001b[0m\n",
      "\u001b[32m2024-04-16 12:33:17.089\u001b[0m | \u001b[1mINFO    \u001b[0m | \u001b[36mMinicomb Intensity Lock Servo\u001b[0m | \u001b[36mSRS_SIM900.py\u001b[0m:\u001b[36m__set_num_withcmd\u001b[0m:\u001b[36m812\u001b[0m\n",
      "\u001b[1mMinicomb Intensity Lock Servo: Setting Locking set point in Volt to 3.78.\u001b[0m\n"
     ]
    }
   ],
   "source": [
    "servo_IM.prop_gain=4  #-2\n",
    "servo_IM.intg_gain=0.1   #1\n",
    "servo_IM.outoffset=0.32\n",
    "servo_IM.set_setpoint(3.78)"
   ]
  },
  {
   "cell_type": "code",
   "execution_count": 51,
   "metadata": {},
   "outputs": [
    {
     "name": "stderr",
     "output_type": "stream",
     "text": [
      "\u001b[32m2024-04-16 12:32:29.061\u001b[0m | \u001b[1mINFO    \u001b[0m | \u001b[36mMinicomb Intensity Lock Servo\u001b[0m | \u001b[36mSRS_SIM900.py\u001b[0m:\u001b[36mset_output_mode\u001b[0m:\u001b[36m534\u001b[0m\n",
      "\u001b[1mMinicomb Intensity Lock Servo: PID output is turned ON.\u001b[0m\n"
     ]
    }
   ],
   "source": [
    "servo_IM.output_mode = 'pid'  #'man'  or 'pid'"
   ]
  },
  {
   "cell_type": "code",
   "execution_count": 66,
   "metadata": {},
   "outputs": [
    {
     "name": "stderr",
     "output_type": "stream",
     "text": [
      "\u001b[32m2024-04-17 12:39:09.203\u001b[0m | \u001b[1mINFO    \u001b[0m | \u001b[36mMinicomb Intensity Lock Servo\u001b[0m | \u001b[36mSRS_SIM900.py\u001b[0m:\u001b[36mprintStatus\u001b[0m:\u001b[36m201\u001b[0m\n",
      "\u001b[1m--------------------------Minicomb Intensity Lock Servo--------------------------\n",
      "|--------------------SRS PID controller SIM960 Status Summary--------------------\n",
      "|----------------------------SIM960,s/n033669,ver2.17----------------------------\n",
      "|\tOutput mode:\t\u001b[1;34;42mPID\u001b[0m,\tOutput limit: -3.000V TO 3.000V\n",
      "|\tMeasured input:\t 3.783758V\n",
      "|\tAmplified error:\t -0.015279V\n",
      "|\tInstant Output voltage:\t 0.161829V\n",
      "|\tManual output set:\t 0.32V\n",
      "|\t================ Set Point related================\n",
      "|\t\tInternal setpoint = 3.78 V, Ramping \u001b[1;34;41mOFF\u001b[0m\n",
      "|\t\tSetpoint input mode INT, Ext setpoint input 3.778178V\n",
      "|\t\tSetpoint RAMP speed = 0.01 V/s, action \u001b[1;34;41mOFF\u001b[0m\n",
      "|\t============= P,I,D and Offset Status=============\n",
      "|\t\t P = 4.0    , \taction = \u001b[1;34;42mON\u001b[0m\n",
      "|\t\t I = 0.1 1/s, \taction = \u001b[1;34;42mON\u001b[0m\n",
      "|\t\t D = 1e-05   s, \taction = \u001b[1;34;41mOFF\u001b[0m\n",
      "|\t\tOff = 0.32  V, \taction = \u001b[1;34;42mON\u001b[0m\n",
      "-----------------SRS PID controller SIM960 Status Summary Ends------------------\n",
      "\u001b[0m\n"
     ]
    },
    {
     "data": {
      "text/plain": [
       "'--------------------------Minicomb Intensity Lock Servo--------------------------\\n|--------------------SRS PID controller SIM960 Status Summary--------------------\\n|----------------------------SIM960,s/n033669,ver2.17----------------------------\\n|\\tOutput mode:\\t\\x1b[1;34;42mPID\\x1b[0m,\\tOutput limit: -3.000V TO 3.000V\\n|\\tMeasured input:\\t 3.783758V\\n|\\tAmplified error:\\t -0.015279V\\n|\\tInstant Output voltage:\\t 0.161829V\\n|\\tManual output set:\\t 0.32V\\n|\\t================ Set Point related================\\n|\\t\\tInternal setpoint = 3.78 V, Ramping \\x1b[1;34;41mOFF\\x1b[0m\\n|\\t\\tSetpoint input mode INT, Ext setpoint input 3.778178V\\n|\\t\\tSetpoint RAMP speed = 0.01 V/s, action \\x1b[1;34;41mOFF\\x1b[0m\\n|\\t============= P,I,D and Offset Status=============\\n|\\t\\t P = 4.0    , \\taction = \\x1b[1;34;42mON\\x1b[0m\\n|\\t\\t I = 0.1 1/s, \\taction = \\x1b[1;34;42mON\\x1b[0m\\n|\\t\\t D = 1e-05   s, \\taction = \\x1b[1;34;41mOFF\\x1b[0m\\n|\\t\\tOff = 0.32  V, \\taction = \\x1b[1;34;42mON\\x1b[0m\\n-----------------SRS PID controller SIM960 Status Summary Ends------------------\\n'"
      ]
     },
     "execution_count": 66,
     "metadata": {},
     "output_type": "execute_result"
    }
   ],
   "source": [
    "servo_IM.printStatus()"
   ]
  },
  {
   "cell_type": "code",
   "execution_count": 62,
   "metadata": {},
   "outputs": [
    {
     "name": "stdout",
     "output_type": "stream",
     "text": [
      "0.307418\n",
      "0.307296\n",
      "0.307144\n",
      "0.307148\n",
      "0.307009\n",
      "0.30698\n",
      "0.30698\n",
      "0.306806\n",
      "0.306723\n",
      "0.306608\n"
     ]
    }
   ],
   "source": [
    "# servo_IM.output_mode = 'man'  #'man'  or 'pid'\n",
    "# servo_IM.output_mode = 'pid'  #'man'  or 'pid'\n",
    "import time\n",
    "for i in range(10):\n",
    "\n",
    "    print(servo_IM.get_output_voltage() ) \n",
    "    time.sleep(0.5)"
   ]
  },
  {
   "cell_type": "code",
   "execution_count": 1,
   "metadata": {},
   "outputs": [
    {
     "name": "stderr",
     "output_type": "stream",
     "text": [
      "\u001b[32m2024-04-16 12:05:48.241\u001b[0m | \u001b[1mINFO    \u001b[0m | \u001b[36mDevice\u001b[0m | \u001b[36mDevice.py\u001b[0m:\u001b[36m<module>\u001b[0m:\u001b[36m51\u001b[0m\n",
      "\u001b[1mlogger initialized\u001b[0m\n",
      "\u001b[32m2024-04-16 12:05:49.937\u001b[0m | \u001b[1mINFO    \u001b[0m | \u001b[36mhk_shutter\u001b[0m | \u001b[36mhk_shutter.py\u001b[0m:\u001b[36mconnect\u001b[0m:\u001b[36m31\u001b[0m\n",
      "\u001b[1mhk_shutter connected\u001b[0m\n"
     ]
    },
    {
     "data": {
      "text/plain": [
       "1"
      ]
     },
     "execution_count": 1,
     "metadata": {},
     "output_type": "execute_result"
    }
   ],
   "source": [
    "from KeckLFC.Hardware.hk_shutter import hk_shutter\n",
    "hks = hk_shutter(addr='COM17')   #5,8,11,14,17\n",
    "hks.connect()"
   ]
  },
  {
   "cell_type": "code",
   "execution_count": 3,
   "metadata": {},
   "outputs": [
    {
     "name": "stdout",
     "output_type": "stream",
     "text": [
      "Shutter is 1\n"
     ]
    },
    {
     "data": {
      "text/plain": [
       "1"
      ]
     },
     "execution_count": 3,
     "metadata": {},
     "output_type": "execute_result"
    }
   ],
   "source": [
    "hks.get_status()"
   ]
  },
  {
   "cell_type": "code",
   "execution_count": 259,
   "metadata": {},
   "outputs": [
    {
     "name": "stderr",
     "output_type": "stream",
     "text": [
      "\u001b[32m2024-04-11 12:01:00.507\u001b[0m | \u001b[1mINFO    \u001b[0m | \u001b[36mTDS2024C OSC\u001b[0m | \u001b[36mDevice.py\u001b[0m:\u001b[36mconnect\u001b[0m:\u001b[36m78\u001b[0m\n",
      "\u001b[1mTDS2024C OSC connected\u001b[0m\n"
     ]
    },
    {
     "data": {
      "text/plain": [
       "1"
      ]
     },
     "execution_count": 259,
     "metadata": {},
     "output_type": "execute_result"
    }
   ],
   "source": [
    "from KeckLFC.Hardware.TDS2024C import TDS2024C\n",
    "osc = TDS2024C()\n",
    "osc.connect()"
   ]
  },
  {
   "cell_type": "code",
   "execution_count": 333,
   "metadata": {},
   "outputs": [
    {
     "name": "stderr",
     "output_type": "stream",
     "text": [
      "\u001b[32m2024-04-11 13:55:57.924\u001b[0m | \u001b[1mINFO    \u001b[0m | \u001b[36mTDS2024C OSC\u001b[0m | \u001b[36mTDS2024C.py\u001b[0m:\u001b[36mget_trace\u001b[0m:\u001b[36m134\u001b[0m\n",
      "\u001b[1mTDS2024C OSC: Trace 4 data read finished.\u001b[0m\n"
     ]
    },
    {
     "data": {
      "text/plain": [
       "{'BYT_Nr': 2,\n",
       " 'BIT_Nr': 16,\n",
       " 'ENCd': 'ASC',\n",
       " 'BN_Fmt': 'RP',\n",
       " 'BYT_Or': 'MSB',\n",
       " 'NR_Pt': 2500,\n",
       " 'WFID': '\"Ch4, DC coupling, 5.0E0 V/div, 1.0E-1 s/div, 2500 points, Sample mode\"',\n",
       " 'PT_FMT': 'Y',\n",
       " 'XINcr': 0.0004,\n",
       " 'PT_Off': 0.0,\n",
       " 'XZEro': 0.0,\n",
       " 'XUNit': '\"s\"',\n",
       " 'YMUlt': 0.00078125,\n",
       " 'YZEro': 0.0,\n",
       " 'YOFF': -12800.0,\n",
       " 'YUNit': '\"Volts\"',\n",
       " 'Y': array([12., 12., 12., ..., 12., 12., 12.]),\n",
       " 'X': array([0.000e+00, 4.000e-04, 8.000e-04, ..., 9.988e-01, 9.992e-01,\n",
       "        9.996e-01])}"
      ]
     },
     "execution_count": 333,
     "metadata": {},
     "output_type": "execute_result"
    },
    {
     "data": {
      "image/png": "[encoded data removed]",
      "text/plain": [
       "<Figure size 640x480 with 1 Axes>"
      ]
     },
     "metadata": {},
     "output_type": "display_data"
    }
   ],
   "source": [
    "osc.get_trace(trace=4)"
   ]
  },
  {
   "cell_type": "code",
   "execution_count": null,
   "metadata": {},
   "outputs": [],
   "source": [
    "osc.query('CH1:VOL 1')"
   ]
  },
  {
   "cell_type": "code",
   "execution_count": 261,
   "metadata": {},
   "outputs": [],
   "source": [
    "osc.write(\"ACQuire:STATE RUN\")"
   ]
  },
  {
   "cell_type": "code",
   "execution_count": 319,
   "metadata": {},
   "outputs": [
    {
     "data": {
      "text/plain": [
       "'1.0E0'"
      ]
     },
     "execution_count": 319,
     "metadata": {},
     "output_type": "execute_result"
    }
   ],
   "source": [
    "osc.query('CH1:SCA?')"
   ]
  },
  {
   "cell_type": "code",
   "execution_count": 277,
   "metadata": {},
   "outputs": [],
   "source": [
    "a=1\n",
    "osc.write(f'CH{a}:SCA 3')"
   ]
  },
  {
   "cell_type": "code",
   "execution_count": 331,
   "metadata": {},
   "outputs": [
    {
     "data": {
      "text/plain": [
       "'1.0E-1'"
      ]
     },
     "execution_count": 331,
     "metadata": {},
     "output_type": "execute_result"
    }
   ],
   "source": [
    "osc.query('HOR:SCA?')"
   ]
  },
  {
   "cell_type": "code",
   "execution_count": 281,
   "metadata": {},
   "outputs": [],
   "source": [
    "osc.write('HOR:POS 1')"
   ]
  },
  {
   "cell_type": "code",
   "execution_count": 308,
   "metadata": {},
   "outputs": [],
   "source": [
    "osc.write('TRIG:MAI:EDGE:SOU EXT')"
   ]
  },
  {
   "cell_type": "code",
   "execution_count": 309,
   "metadata": {},
   "outputs": [
    {
     "data": {
      "text/plain": [
       "'EXT'"
      ]
     },
     "execution_count": 309,
     "metadata": {},
     "output_type": "execute_result"
    }
   ],
   "source": [
    "osc.query('TRIG:MAI:EDGE:SOU?')"
   ]
  },
  {
   "cell_type": "code",
   "execution_count": 307,
   "metadata": {},
   "outputs": [
    {
     "data": {
      "text/plain": [
       "'2.0E-1'"
      ]
     },
     "execution_count": 307,
     "metadata": {},
     "output_type": "execute_result"
    }
   ],
   "source": [
    "osc.query('TRIG:MAI:LEV?')"
   ]
  },
  {
   "cell_type": "code",
   "execution_count": 328,
   "metadata": {},
   "outputs": [
    {
     "data": {
      "text/plain": [
       "'3.0E0'"
      ]
     },
     "execution_count": 328,
     "metadata": {},
     "output_type": "execute_result"
    }
   ],
   "source": [
    "osc.query('CH1:POS?')"
   ]
  },
  {
   "cell_type": "code",
   "execution_count": 327,
   "metadata": {},
   "outputs": [],
   "source": [
    "osc.write('CH1:POS 3')"
   ]
  },
  {
   "cell_type": "code",
   "execution_count": 360,
   "metadata": {},
   "outputs": [
    {
     "data": {
      "text/plain": [
       "'1;0;0;1;0;0;0;0;0'"
      ]
     },
     "execution_count": 360,
     "metadata": {},
     "output_type": "execute_result"
    }
   ],
   "source": [
    "osc.query('SEL?')"
   ]
  },
  {
   "cell_type": "code",
   "execution_count": 347,
   "metadata": {},
   "outputs": [],
   "source": [
    "osc.write('SEL:CH4 ON')"
   ]
  },
  {
   "cell_type": "code",
   "execution_count": 364,
   "metadata": {},
   "outputs": [],
   "source": [
    "\n",
    "def set_vol_pos(self,channle,pos):\n",
    "\n",
    "    self.write(f'CH{channle}:POS {pos}')\n",
    "    print(f'CH{channle} set to '+ self.query(f'CH{channle}:POS?'))\n",
    "    #return self.query(f'CH{channle}:POS?')\n",
    "\n",
    "def set_vol_scale(self,channle,sca):\n",
    "\n",
    "    self.write(f'CH{channle}:SCA {sca}')\n",
    "    print(f'CH{channle} set to '+self.query(f'CH{channle}:SCA?'))\n",
    "    #return self.query(f'CH{channle}:SCA?')\n",
    "\n",
    "def set_time_pos(self,pos):\n",
    "    self.write(f'HOR:POS {pos}')\n",
    "    print(f'time pos set to '+self.query(f'HOR:POS?'))\n",
    "\n",
    "def set_time_scale(self,sca):\n",
    "\n",
    "    self.write(f'HOR:SCA {sca}')\n",
    "    print(f'time scale set to '+self.query(f'HOR:SCA?'))\n",
    "\n",
    "def trace_disp(self,chan,state):\n",
    "\n",
    "    if (state == 1) or( state=='ON'):\n",
    "        self.write(f'SEL:CH{chan} ON')\n",
    "    if (state == 0) or(state== 'OFF'):\n",
    "        self.write(f'SEL:CH{chan} OFF')\n",
    "    print(f'display set to '+self.query('SEL?'))\n",
    "\n",
    "def set_trigger_source(self,chan):\n",
    "\n",
    "    self.write(f'TRIG:MAI:EDGE:SOU {chan}')\n",
    "    print(f'trigger souce set to '+self.query(f'TRIG:MAI:EDGE:SOU?'))\n",
    "\n",
    "def set_trigger_lev(self,lvl):\n",
    "    self.write(f'TRIG:MAI:LEV {lvl}')\n",
    "    print(f'trigger level set to '+self.query('TRIG:MAI:LEV?'))"
   ]
  },
  {
   "cell_type": "code",
   "execution_count": 395,
   "metadata": {},
   "outputs": [
    {
     "name": "stdout",
     "output_type": "stream",
     "text": [
      "time pos set to 0.0E0\n"
     ]
    }
   ],
   "source": [
    "set_time_pos(osc,0)"
   ]
  },
  {
   "cell_type": "code",
   "execution_count": 402,
   "metadata": {},
   "outputs": [
    {
     "name": "stdout",
     "output_type": "stream",
     "text": [
      "trigger level set to 2.0E0\n"
     ]
    }
   ],
   "source": [
    "set_trigger_lev(osc, 2)"
   ]
  },
  {
   "cell_type": "code",
   "execution_count": 394,
   "metadata": {},
   "outputs": [
    {
     "name": "stdout",
     "output_type": "stream",
     "text": [
      "trigger souce set to CH4\n"
     ]
    }
   ],
   "source": [
    "set_trigger_source(osc,'CH4')"
   ]
  },
  {
   "cell_type": "code",
   "execution_count": 440,
   "metadata": {},
   "outputs": [
    {
     "name": "stdout",
     "output_type": "stream",
     "text": [
      "CH1 set to -1.48E0\n"
     ]
    },
    {
     "data": {
      "text/plain": [
       "'-1.48E0'"
      ]
     },
     "execution_count": 440,
     "metadata": {},
     "output_type": "execute_result"
    }
   ],
   "source": [
    "set_vol_pos(osc, 1, -1.5)\n"
   ]
  },
  {
   "cell_type": "code",
   "execution_count": 443,
   "metadata": {},
   "outputs": [
    {
     "name": "stdout",
     "output_type": "stream",
     "text": [
      "CH2 set to 1.0E-2\n"
     ]
    },
    {
     "data": {
      "text/plain": [
       "'1.0E-2'"
      ]
     },
     "execution_count": 443,
     "metadata": {},
     "output_type": "execute_result"
    }
   ],
   "source": [
    "set_vol_scale(osc,2,0.01)"
   ]
  },
  {
   "cell_type": "code",
   "execution_count": 431,
   "metadata": {},
   "outputs": [
    {
     "name": "stdout",
     "output_type": "stream",
     "text": [
      "CH1 set to 3.0E-2\n",
      "CH2 set to 3.0E-2\n",
      "CH3 set to 3.0E-2\n"
     ]
    },
    {
     "data": {
      "text/plain": [
       "'3.0E-2'"
      ]
     },
     "execution_count": 431,
     "metadata": {},
     "output_type": "execute_result"
    }
   ],
   "source": [
    "set_vol_scale(osc,1,0.03)\n",
    "\n",
    "set_vol_scale(osc,2,0.03)\n",
    "\n",
    "set_vol_scale(osc,3,0.03)\n"
   ]
  },
  {
   "cell_type": "code",
   "execution_count": 375,
   "metadata": {},
   "outputs": [
    {
     "name": "stdout",
     "output_type": "stream",
     "text": [
      "trigger level set to 2.0E-1\n"
     ]
    }
   ],
   "source": [
    "set_trigger_lev(osc,0.2)"
   ]
  },
  {
   "cell_type": "code",
   "execution_count": 424,
   "metadata": {},
   "outputs": [
    {
     "name": "stdout",
     "output_type": "stream",
     "text": [
      "time scale set to 5.0E-2\n"
     ]
    }
   ],
   "source": [
    "set_time_scale(osc,0.05)"
   ]
  },
  {
   "cell_type": "code",
   "execution_count": 433,
   "metadata": {},
   "outputs": [
    {
     "name": "stdout",
     "output_type": "stream",
     "text": [
      "display set to 1;1;1;1;0;0;0;0;0\n"
     ]
    }
   ],
   "source": [
    "trace_disp(self=osc,chan=3,state=1)\n",
    "# chan=1\n",
    "# osc.write(f'SEL:CH{chan} ON')"
   ]
  },
  {
   "cell_type": "code",
   "execution_count": null,
   "metadata": {},
   "outputs": [],
   "source": []
  },
  {
   "cell_type": "code",
   "execution_count": 435,
   "metadata": {},
   "outputs": [
    {
     "name": "stderr",
     "output_type": "stream",
     "text": [
      "\u001b[32m2024-04-12 14:00:50.429\u001b[0m | \u001b[1mINFO    \u001b[0m | \u001b[36mTDS2024C OSC\u001b[0m | \u001b[36mTDS2024C.py\u001b[0m:\u001b[36mget_trace\u001b[0m:\u001b[36m134\u001b[0m\n",
      "\u001b[1mTDS2024C OSC: Trace 2 data read finished.\u001b[0m\n"
     ]
    },
    {
     "data": {
      "text/plain": [
       "{'BYT_Nr': 2,\n",
       " 'BIT_Nr': 16,\n",
       " 'ENCd': 'ASC',\n",
       " 'BN_Fmt': 'RP',\n",
       " 'BYT_Or': 'MSB',\n",
       " 'NR_Pt': 2500,\n",
       " 'WFID': '\"Ch2, DC coupling, 3.0E-2 V/div, 5.0E-2 s/div, 2500 points, Sample mode\"',\n",
       " 'PT_FMT': 'Y',\n",
       " 'XINcr': 0.0002,\n",
       " 'PT_Off': 0.0,\n",
       " 'XZEro': -0.25,\n",
       " 'XUNit': '\"s\"',\n",
       " 'YMUlt': 4.6875e-06,\n",
       " 'YZEro': 0.0,\n",
       " 'YOFF': -1792.0,\n",
       " 'YUNit': '\"Volts\"',\n",
       " 'Y': array([0.0036, 0.006 , 0.0012, ..., 0.0012, 0.0024, 0.0024]),\n",
       " 'X': array([-0.25  , -0.2498, -0.2496, ...,  0.2494,  0.2496,  0.2498])}"
      ]
     },
     "execution_count": 435,
     "metadata": {},
     "output_type": "execute_result"
    },
    {
     "data": {
      "image/png": "[encoded data removed]",
      "text/plain": [
       "<Figure size 640x480 with 1 Axes>"
      ]
     },
     "metadata": {},
     "output_type": "display_data"
    }
   ],
   "source": [
    "osc.get_trace(2)"
   ]
  },
  {
   "cell_type": "code",
   "execution_count": 6,
   "metadata": {},
   "outputs": [],
   "source": [
    "from KeckLFC.Hardware import autolock\n",
    "import time\n",
    "import matplotlib.pyplot as plt\n",
    "autolock = autolock.AutoRbLock(osc, fg, servo_RB)"
   ]
  },
  {
   "cell_type": "code",
   "execution_count": 303,
   "metadata": {},
   "outputs": [
    {
     "name": "stdout",
     "output_type": "stream",
     "text": [
      "trig source=CH1\n",
      "\n"
     ]
    }
   ],
   "source": [
    "fg.set_trigger_source(1)"
   ]
  },
  {
   "cell_type": "code",
   "execution_count": 334,
   "metadata": {},
   "outputs": [
    {
     "data": {
      "text/plain": [
       "0.01515"
      ]
     },
     "execution_count": 334,
     "metadata": {},
     "output_type": "execute_result"
    }
   ],
   "source": [
    "servo_RB.output_voltage"
   ]
  },
  {
   "cell_type": "code",
   "execution_count": null,
   "metadata": {},
   "outputs": [],
   "source": []
  },
  {
   "cell_type": "code",
   "execution_count": null,
   "metadata": {},
   "outputs": [],
   "source": []
  },
  {
   "cell_type": "code",
   "execution_count": 412,
   "metadata": {},
   "outputs": [],
   "source": [
    "fg.set_trigger_type(1, 'IMM')"
   ]
  },
  {
   "cell_type": "code",
   "execution_count": 413,
   "metadata": {},
   "outputs": [
    {
     "data": {
      "text/plain": [
       "'IMM\\n'"
      ]
     },
     "execution_count": 413,
     "metadata": {},
     "output_type": "execute_result"
    }
   ],
   "source": [
    "fg.query(\"TRIG1:SOUR?\")"
   ]
  },
  {
   "cell_type": "code",
   "execution_count": 419,
   "metadata": {},
   "outputs": [
    {
     "name": "stdout",
     "output_type": "stream",
     "text": [
      "Channel 1 parameters:\n",
      "Frequency: 10.0\n",
      "Amplitude: 8.0\n",
      "Offset: 0.0\n",
      "Phase: 0.0\n",
      "State: 1\n",
      "\n",
      "Function: RAMP\n",
      "\n"
     ]
    }
   ],
   "source": [
    "fg.get_channel_amplitude(1)\n",
    "fg.get_channel_parameters(1)"
   ]
  },
  {
   "cell_type": "code",
   "execution_count": 420,
   "metadata": {},
   "outputs": [
    {
     "data": {
      "text/plain": [
       "'1\\n'"
      ]
     },
     "execution_count": 420,
     "metadata": {},
     "output_type": "execute_result"
    }
   ],
   "source": [
    "fg.get_channel_state(1)"
   ]
  },
  {
   "cell_type": "code",
   "execution_count": null,
   "metadata": {},
   "outputs": [],
   "source": []
  },
  {
   "cell_type": "code",
   "execution_count": null,
   "metadata": {},
   "outputs": [],
   "source": []
  },
  {
   "cell_type": "code",
   "execution_count": null,
   "metadata": {},
   "outputs": [],
   "source": []
  },
  {
   "cell_type": "code",
   "execution_count": 422,
   "metadata": {},
   "outputs": [
    {
     "name": "stderr",
     "output_type": "stream",
     "text": [
      "\u001b[32m2024-04-12 13:45:21.732\u001b[0m | \u001b[1mINFO    \u001b[0m | \u001b[36mRio Laser Fceo Rb spectroscopy Lock Servo\u001b[0m | \u001b[36mSRS_SIM900.py\u001b[0m:\u001b[36mprintStatus\u001b[0m:\u001b[36m201\u001b[0m\n",
      "\u001b[1m--------------------Rio Laser Fceo Rb spectroscopy Lock Servo--------------------\n",
      "|--------------------SRS PID controller SIM960 Status Summary--------------------\n",
      "|----------------------------SIM960,s/n033683,ver2.17----------------------------\n",
      "|\tOutput mode:\t\u001b[1;34;41mMAN\u001b[0m,\tOutput limit: -4.000V TO 4.000V\n",
      "|\tMeasured input:\t 0.002018V\n",
      "|\tAmplified error:\t -0.007743V\n",
      "|\tInstant Output voltage:\t -0.005581V\n",
      "|\tManual output set:\t 0.0V\n",
      "|\t================ Set Point related================\n",
      "|\t\tInternal setpoint = -0.01 V, Ramping \u001b[1;34;41mOFF\u001b[0m\n",
      "|\t\tSetpoint input mode INT, Ext setpoint input -0.009426V\n",
      "|\t\tSetpoint RAMP speed = 0.01 V/s, action \u001b[1;34;41mOFF\u001b[0m\n",
      "|\t============= P,I,D and Offset Status=============\n",
      "|\t\t P = 0.7    , \taction = \u001b[1;34;42mON\u001b[0m\n",
      "|\t\t I = 1500.0 1/s, \taction = \u001b[1;34;42mON\u001b[0m\n",
      "|\t\t D = 6e-05   s, \taction = \u001b[1;34;41mOFF\u001b[0m\n",
      "|\t\tOff = 0.0  V, \taction = \u001b[1;34;42mON\u001b[0m\n",
      "-----------------SRS PID controller SIM960 Status Summary Ends------------------\n",
      "\u001b[0m\n"
     ]
    },
    {
     "data": {
      "text/plain": [
       "'--------------------Rio Laser Fceo Rb spectroscopy Lock Servo--------------------\\n|--------------------SRS PID controller SIM960 Status Summary--------------------\\n|----------------------------SIM960,s/n033683,ver2.17----------------------------\\n|\\tOutput mode:\\t\\x1b[1;34;41mMAN\\x1b[0m,\\tOutput limit: -4.000V TO 4.000V\\n|\\tMeasured input:\\t 0.002018V\\n|\\tAmplified error:\\t -0.007743V\\n|\\tInstant Output voltage:\\t -0.005581V\\n|\\tManual output set:\\t 0.0V\\n|\\t================ Set Point related================\\n|\\t\\tInternal setpoint = -0.01 V, Ramping \\x1b[1;34;41mOFF\\x1b[0m\\n|\\t\\tSetpoint input mode INT, Ext setpoint input -0.009426V\\n|\\t\\tSetpoint RAMP speed = 0.01 V/s, action \\x1b[1;34;41mOFF\\x1b[0m\\n|\\t============= P,I,D and Offset Status=============\\n|\\t\\t P = 0.7    , \\taction = \\x1b[1;34;42mON\\x1b[0m\\n|\\t\\t I = 1500.0 1/s, \\taction = \\x1b[1;34;42mON\\x1b[0m\\n|\\t\\t D = 6e-05   s, \\taction = \\x1b[1;34;41mOFF\\x1b[0m\\n|\\t\\tOff = 0.0  V, \\taction = \\x1b[1;34;42mON\\x1b[0m\\n-----------------SRS PID controller SIM960 Status Summary Ends------------------\\n'"
      ]
     },
     "execution_count": 422,
     "metadata": {},
     "output_type": "execute_result"
    }
   ],
   "source": [
    "servo_RB.printStatus()"
   ]
  },
  {
   "cell_type": "code",
   "execution_count": 425,
   "metadata": {},
   "outputs": [
    {
     "name": "stderr",
     "output_type": "stream",
     "text": [
      "\u001b[32m2024-04-12 13:52:12.512\u001b[0m | \u001b[1mINFO    \u001b[0m | \u001b[36mRio Laser Fceo Rb spectroscopy Lock Servo\u001b[0m | \u001b[36mSRS_SIM900.py\u001b[0m:\u001b[36mset_output_mode\u001b[0m:\u001b[36m537\u001b[0m\n",
      "\u001b[1mRio Laser Fceo Rb spectroscopy Lock Servo: PID output is turned OFF, output mode is turnd to Manual.\u001b[0m\n"
     ]
    },
    {
     "name": "stdout",
     "output_type": "stream",
     "text": [
      "Channel 1 parameters:\n",
      "Frequency: 20.0\n",
      "Amplitude: 4.0\n",
      "Offset: 0.0\n",
      "Phase: 0.0\n",
      "State: 1\n",
      "\n",
      "Function: RAMP\n",
      "\n",
      "RAMP\n",
      "\n"
     ]
    }
   ],
   "source": [
    "servo_RB.output_mode='man'\n",
    "fg.set_channel_parameters(channel=1, freq=20, amp=4, offset=0, phase=0)\n",
    "fg.set_channel_func(1, 'ramp')\n",
    "fg.set_channel_state(1, 1)\n",
    "# time.sleep(10)\n",
    "# trace_x,trace_y=autolock.get_trace(trace = 1)\n",
    "# plt.plot(trace_x,trace_y)"
   ]
  },
  {
   "cell_type": "code",
   "execution_count": 11,
   "metadata": {},
   "outputs": [
    {
     "name": "stderr",
     "output_type": "stream",
     "text": [
      "\u001b[32m2024-04-10 08:50:34.044\u001b[0m | \u001b[1mINFO    \u001b[0m | \u001b[36mTDS2024C OSC\u001b[0m | \u001b[36mTDS2024C.py\u001b[0m:\u001b[36mget_trace\u001b[0m:\u001b[36m134\u001b[0m\n",
      "\u001b[1mTDS2024C OSC: Trace 4 data read finished.\u001b[0m\n"
     ]
    },
    {
     "data": {
      "text/plain": [
       "{'BYT_Nr': 2,\n",
       " 'BIT_Nr': 16,\n",
       " 'ENCd': 'ASC',\n",
       " 'BN_Fmt': 'RP',\n",
       " 'BYT_Or': 'MSB',\n",
       " 'NR_Pt': 2500,\n",
       " 'WFID': '\"Ch4, DC coupling, 5.0E0 V/div, 5.0E-4 s/div, 2500 points, Sample mode\"',\n",
       " 'PT_FMT': 'Y',\n",
       " 'XINcr': 2e-06,\n",
       " 'PT_Off': 0.0,\n",
       " 'XZEro': -0.0025,\n",
       " 'XUNit': '\"s\"',\n",
       " 'YMUlt': 0.00078125,\n",
       " 'YZEro': 0.0,\n",
       " 'YOFF': -12800.0,\n",
       " 'YUNit': '\"Volts\"',\n",
       " 'Y': array([12., 12., 12., ..., 12., 12., 12.]),\n",
       " 'X': array([-0.0025  , -0.002498, -0.002496, ...,  0.002494,  0.002496,\n",
       "         0.002498])}"
      ]
     },
     "execution_count": 11,
     "metadata": {},
     "output_type": "execute_result"
    },
    {
     "data": {
      "image/png": "[encoded data removed]",
      "text/plain": [
       "<Figure size 640x480 with 1 Axes>"
      ]
     },
     "metadata": {},
     "output_type": "display_data"
    }
   ],
   "source": [
    "osc.get_trace(trace=4)"
   ]
  },
  {
   "cell_type": "code",
   "execution_count": 86,
   "metadata": {},
   "outputs": [
    {
     "name": "stderr",
     "output_type": "stream",
     "text": [
      "\u001b[32m2024-04-17 12:52:21.798\u001b[0m | \u001b[1mINFO    \u001b[0m | \u001b[36m1.55um VOA\u001b[0m | \u001b[36mDevice.py\u001b[0m:\u001b[36mconnect\u001b[0m:\u001b[36m78\u001b[0m\n",
      "\u001b[1m1.55um VOA connected\u001b[0m\n"
     ]
    },
    {
     "ename": "VisaIOError",
     "evalue": "VI_ERROR_TMO (-1073807339): Timeout expired before operation completed.",
     "output_type": "error",
     "traceback": [
      "\u001b[1;31m---------------------------------------------------------------------------\u001b[0m",
      "\u001b[1;31mVisaIOError\u001b[0m                               Traceback (most recent call last)",
      "Cell \u001b[1;32mIn[86], line 4\u001b[0m\n\u001b[0;32m      2\u001b[0m voa1550 \u001b[38;5;241m=\u001b[39m OZopticsVOA(addr\u001b[38;5;241m=\u001b[39m\u001b[38;5;124mf\u001b[39m\u001b[38;5;124m'\u001b[39m\u001b[38;5;124mASRL\u001b[39m\u001b[38;5;132;01m{\u001b[39;00m\u001b[38;5;241m15\u001b[39m\u001b[38;5;132;01m}\u001b[39;00m\u001b[38;5;124m::INSTR\u001b[39m\u001b[38;5;124m'\u001b[39m, name\u001b[38;5;241m=\u001b[39m\u001b[38;5;124m'\u001b[39m\u001b[38;5;124m1.55um VOA\u001b[39m\u001b[38;5;124m'\u001b[39m)\n\u001b[0;32m      3\u001b[0m voa1550\u001b[38;5;241m.\u001b[39mconnect()\n\u001b[1;32m----> 4\u001b[0m \u001b[43mvoa1550\u001b[49m\u001b[38;5;241;43m.\u001b[39;49m\u001b[43mprintStatus\u001b[49m\u001b[43m(\u001b[49m\u001b[43m)\u001b[49m\n",
      "File \u001b[1;32mc:\\Users\\KeckLFC\\KeckLFC-main\\KeckLFC\\Hardware\\OZopticsVOA.py:38\u001b[0m, in \u001b[0;36mOZopticsVOA.printStatus\u001b[1;34m(self)\u001b[0m\n\u001b[0;32m     36\u001b[0m message \u001b[38;5;241m=\u001b[39m \u001b[38;5;28mself\u001b[39m\u001b[38;5;241m.\u001b[39mdevicename\u001b[38;5;241m.\u001b[39mcenter(\u001b[38;5;241m80\u001b[39m,\u001b[38;5;124m'\u001b[39m\u001b[38;5;124m-\u001b[39m\u001b[38;5;124m'\u001b[39m)\u001b[38;5;241m+\u001b[39m\u001b[38;5;124m'\u001b[39m\u001b[38;5;130;01m\\n\u001b[39;00m\u001b[38;5;124m'\u001b[39m\n\u001b[0;32m     37\u001b[0m message \u001b[38;5;241m=\u001b[39m message \u001b[38;5;241m+\u001b[39m \u001b[38;5;124m'\u001b[39m\u001b[38;5;124mOZ optics VOA Status Summary\u001b[39m\u001b[38;5;124m'\u001b[39m\u001b[38;5;241m.\u001b[39mcenter(\u001b[38;5;241m80\u001b[39m,\u001b[38;5;124m'\u001b[39m\u001b[38;5;124m-\u001b[39m\u001b[38;5;124m'\u001b[39m)\u001b[38;5;241m+\u001b[39m\u001b[38;5;124m'\u001b[39m\u001b[38;5;130;01m\\n\u001b[39;00m\u001b[38;5;124m'\u001b[39m\n\u001b[1;32m---> 38\u001b[0m message \u001b[38;5;241m=\u001b[39m message \u001b[38;5;241m+\u001b[39m \u001b[38;5;124mf\u001b[39m\u001b[38;5;124m\"\u001b[39m\u001b[38;5;124m|\u001b[39m\u001b[38;5;130;01m\\t\u001b[39;00m\u001b[38;5;124m Attenuation: \u001b[39m\u001b[38;5;132;01m{\u001b[39;00m\u001b[38;5;28;43mself\u001b[39;49m\u001b[38;5;241;43m.\u001b[39;49m\u001b[43matten_db\u001b[49m\u001b[38;5;132;01m:\u001b[39;00m\u001b[38;5;124m.2f\u001b[39m\u001b[38;5;132;01m}\u001b[39;00m\u001b[38;5;124m (dB)\u001b[39m\u001b[38;5;124m\"\u001b[39m\u001b[38;5;241m+\u001b[39m\u001b[38;5;124m'\u001b[39m\u001b[38;5;130;01m\\n\u001b[39;00m\u001b[38;5;124m'\u001b[39m\n\u001b[0;32m     39\u001b[0m time\u001b[38;5;241m.\u001b[39msleep(\u001b[38;5;241m0.1\u001b[39m)\n\u001b[0;32m     40\u001b[0m message \u001b[38;5;241m=\u001b[39m message \u001b[38;5;241m+\u001b[39m \u001b[38;5;124m\"\u001b[39m\u001b[38;5;124m|\u001b[39m\u001b[38;5;130;01m\\t\u001b[39;00m\u001b[38;5;124m Device Configure String:\u001b[39m\u001b[38;5;124m\"\u001b[39m \u001b[38;5;241m+\u001b[39m \u001b[38;5;124m'\u001b[39m\u001b[38;5;130;01m\\n\u001b[39;00m\u001b[38;5;124m'\u001b[39m\n",
      "File \u001b[1;32mc:\\Users\\KeckLFC\\KeckLFC-main\\KeckLFC\\Hardware\\OZopticsVOA.py:50\u001b[0m, in \u001b[0;36mOZopticsVOA.atten_db\u001b[1;34m(self)\u001b[0m\n\u001b[0;32m     47\u001b[0m \u001b[38;5;129m@property\u001b[39m\n\u001b[0;32m     48\u001b[0m \u001b[38;5;28;01mdef\u001b[39;00m \u001b[38;5;21matten_db\u001b[39m(\u001b[38;5;28mself\u001b[39m):\n\u001b[0;32m     49\u001b[0m     time\u001b[38;5;241m.\u001b[39msleep(\u001b[38;5;28mself\u001b[39m\u001b[38;5;241m.\u001b[39m__cmd_interval)\n\u001b[1;32m---> 50\u001b[0m     \u001b[38;5;28;01mreturn\u001b[39;00m \u001b[38;5;28mfloat\u001b[39m(\u001b[38;5;28;43mself\u001b[39;49m\u001b[38;5;241;43m.\u001b[39;49m\u001b[43m_getAttenStr\u001b[49m\u001b[43m(\u001b[49m\u001b[43m)\u001b[49m\u001b[38;5;241m.\u001b[39mreplace(\u001b[38;5;124m'\u001b[39m\u001b[38;5;124m(\u001b[39m\u001b[38;5;124m'\u001b[39m,\u001b[38;5;124m'\u001b[39m\u001b[38;5;124m:\u001b[39m\u001b[38;5;124m'\u001b[39m)\u001b[38;5;241m.\u001b[39msplit((\u001b[38;5;124m'\u001b[39m\u001b[38;5;124m:\u001b[39m\u001b[38;5;124m'\u001b[39m))[\u001b[38;5;241m1\u001b[39m])\n",
      "File \u001b[1;32mc:\\Users\\KeckLFC\\KeckLFC-main\\KeckLFC\\Hardware\\OZopticsVOA.py:66\u001b[0m, in \u001b[0;36mOZopticsVOA._getAttenStr\u001b[1;34m(self)\u001b[0m\n\u001b[0;32m     64\u001b[0m \u001b[38;5;28;01mdef\u001b[39;00m \u001b[38;5;21m_getAttenStr\u001b[39m(\u001b[38;5;28mself\u001b[39m):\n\u001b[0;32m     65\u001b[0m     cmd \u001b[38;5;241m=\u001b[39m \u001b[38;5;124m\"\u001b[39m\u001b[38;5;124mA?\u001b[39m\u001b[38;5;124m\"\u001b[39m\n\u001b[1;32m---> 66\u001b[0m     \u001b[38;5;28;01mreturn\u001b[39;00m \u001b[38;5;28;43mself\u001b[39;49m\u001b[38;5;241;43m.\u001b[39;49m\u001b[43mquery\u001b[49m\u001b[43m(\u001b[49m\u001b[43mcmd\u001b[49m\u001b[43m)\u001b[49m\n",
      "File \u001b[1;32mc:\\Users\\KeckLFC\\KeckLFC-main\\KeckLFC\\Hardware\\OZopticsVOA.py:30\u001b[0m, in \u001b[0;36mOZopticsVOA.query\u001b[1;34m(self, cmd)\u001b[0m\n\u001b[0;32m     28\u001b[0m \u001b[38;5;28mself\u001b[39m\u001b[38;5;241m.\u001b[39minst\u001b[38;5;241m.\u001b[39mclear()\n\u001b[0;32m     29\u001b[0m \u001b[38;5;28msuper\u001b[39m()\u001b[38;5;241m.\u001b[39mwrite(cmd)\n\u001b[1;32m---> 30\u001b[0m \u001b[38;5;28;01mreturn\u001b[39;00m \u001b[38;5;28;43mself\u001b[39;49m\u001b[38;5;241;43m.\u001b[39;49m\u001b[43mread\u001b[49m\u001b[43m(\u001b[49m\u001b[43m)\u001b[49m\n",
      "File \u001b[1;32mc:\\Users\\KeckLFC\\KeckLFC-main\\KeckLFC\\Hardware\\OZopticsVOA.py:24\u001b[0m, in \u001b[0;36mOZopticsVOA.read\u001b[1;34m(self)\u001b[0m\n\u001b[0;32m     22\u001b[0m     \u001b[38;5;28;01mif\u001b[39;00m \u001b[38;5;129;01mnot\u001b[39;00m count\u001b[38;5;241m==\u001b[39m\u001b[38;5;241m1\u001b[39m:\n\u001b[0;32m     23\u001b[0m         result \u001b[38;5;241m=\u001b[39m result \u001b[38;5;241m+\u001b[39m response \u001b[38;5;241m+\u001b[39m \u001b[38;5;124m'\u001b[39m\u001b[38;5;130;01m\\n\u001b[39;00m\u001b[38;5;124m'\u001b[39m\n\u001b[1;32m---> 24\u001b[0m     response \u001b[38;5;241m=\u001b[39m \u001b[38;5;28;43msuper\u001b[39;49m\u001b[43m(\u001b[49m\u001b[43m)\u001b[49m\u001b[38;5;241;43m.\u001b[39;49m\u001b[43mread\u001b[49m\u001b[43m(\u001b[49m\u001b[43m)\u001b[49m\n\u001b[0;32m     25\u001b[0m \u001b[38;5;28;01mreturn\u001b[39;00m \u001b[38;5;28mstr\u001b[39m(result)\n",
      "File \u001b[1;32mc:\\Users\\KeckLFC\\KeckLFC-main\\KeckLFC\\Hardware\\Device.py:98\u001b[0m, in \u001b[0;36mDevice.read\u001b[1;34m(self)\u001b[0m\n\u001b[0;32m     97\u001b[0m \u001b[38;5;28;01mdef\u001b[39;00m \u001b[38;5;21mread\u001b[39m(\u001b[38;5;28mself\u001b[39m):\n\u001b[1;32m---> 98\u001b[0m     \u001b[38;5;28;01mreturn\u001b[39;00m \u001b[38;5;28;43mself\u001b[39;49m\u001b[38;5;241;43m.\u001b[39;49m\u001b[43minst\u001b[49m\u001b[38;5;241;43m.\u001b[39;49m\u001b[43mread\u001b[49m\u001b[43m(\u001b[49m\u001b[43m)\u001b[49m\n",
      "File \u001b[1;32mc:\\Users\\KeckLFC\\.conda\\envs\\lfc-env\\Lib\\site-packages\\pyvisa\\resources\\messagebased.py:486\u001b[0m, in \u001b[0;36mMessageBasedResource.read\u001b[1;34m(self, termination, encoding)\u001b[0m\n\u001b[0;32m    484\u001b[0m \u001b[38;5;28;01mif\u001b[39;00m termination \u001b[38;5;129;01mis\u001b[39;00m \u001b[38;5;28;01mNone\u001b[39;00m:\n\u001b[0;32m    485\u001b[0m     termination \u001b[38;5;241m=\u001b[39m \u001b[38;5;28mself\u001b[39m\u001b[38;5;241m.\u001b[39m_read_termination\n\u001b[1;32m--> 486\u001b[0m     message \u001b[38;5;241m=\u001b[39m \u001b[38;5;28;43mself\u001b[39;49m\u001b[38;5;241;43m.\u001b[39;49m\u001b[43m_read_raw\u001b[49m\u001b[43m(\u001b[49m\u001b[43m)\u001b[49m\u001b[38;5;241m.\u001b[39mdecode(enco)\n\u001b[0;32m    487\u001b[0m \u001b[38;5;28;01melse\u001b[39;00m:\n\u001b[0;32m    488\u001b[0m     \u001b[38;5;28;01mwith\u001b[39;00m \u001b[38;5;28mself\u001b[39m\u001b[38;5;241m.\u001b[39mread_termination_context(termination):\n",
      "File \u001b[1;32mc:\\Users\\KeckLFC\\.conda\\envs\\lfc-env\\Lib\\site-packages\\pyvisa\\resources\\messagebased.py:442\u001b[0m, in \u001b[0;36mMessageBasedResource._read_raw\u001b[1;34m(self, size)\u001b[0m\n\u001b[0;32m    435\u001b[0m     \u001b[38;5;28;01mwhile\u001b[39;00m status \u001b[38;5;241m==\u001b[39m loop_status:\n\u001b[0;32m    436\u001b[0m         logger\u001b[38;5;241m.\u001b[39mdebug(\n\u001b[0;32m    437\u001b[0m             \u001b[38;5;124m\"\u001b[39m\u001b[38;5;132;01m%s\u001b[39;00m\u001b[38;5;124m - reading \u001b[39m\u001b[38;5;132;01m%d\u001b[39;00m\u001b[38;5;124m bytes (last status \u001b[39m\u001b[38;5;132;01m%r\u001b[39;00m\u001b[38;5;124m)\u001b[39m\u001b[38;5;124m\"\u001b[39m,\n\u001b[0;32m    438\u001b[0m             \u001b[38;5;28mself\u001b[39m\u001b[38;5;241m.\u001b[39m_resource_name,\n\u001b[0;32m    439\u001b[0m             size,\n\u001b[0;32m    440\u001b[0m             status,\n\u001b[0;32m    441\u001b[0m         )\n\u001b[1;32m--> 442\u001b[0m         chunk, status \u001b[38;5;241m=\u001b[39m \u001b[38;5;28;43mself\u001b[39;49m\u001b[38;5;241;43m.\u001b[39;49m\u001b[43mvisalib\u001b[49m\u001b[38;5;241;43m.\u001b[39;49m\u001b[43mread\u001b[49m\u001b[43m(\u001b[49m\u001b[38;5;28;43mself\u001b[39;49m\u001b[38;5;241;43m.\u001b[39;49m\u001b[43msession\u001b[49m\u001b[43m,\u001b[49m\u001b[43m \u001b[49m\u001b[43msize\u001b[49m\u001b[43m)\u001b[49m\n\u001b[0;32m    443\u001b[0m         ret\u001b[38;5;241m.\u001b[39mextend(chunk)\n\u001b[0;32m    444\u001b[0m \u001b[38;5;28;01mexcept\u001b[39;00m errors\u001b[38;5;241m.\u001b[39mVisaIOError \u001b[38;5;28;01mas\u001b[39;00m e:\n",
      "File \u001b[1;32mc:\\Users\\KeckLFC\\.conda\\envs\\lfc-env\\Lib\\site-packages\\pyvisa\\ctwrapper\\functions.py:2337\u001b[0m, in \u001b[0;36mread\u001b[1;34m(library, session, count)\u001b[0m\n\u001b[0;32m   2335\u001b[0m buffer \u001b[38;5;241m=\u001b[39m create_string_buffer(count)\n\u001b[0;32m   2336\u001b[0m return_count \u001b[38;5;241m=\u001b[39m ViUInt32()\n\u001b[1;32m-> 2337\u001b[0m ret \u001b[38;5;241m=\u001b[39m \u001b[43mlibrary\u001b[49m\u001b[38;5;241;43m.\u001b[39;49m\u001b[43mviRead\u001b[49m\u001b[43m(\u001b[49m\u001b[43msession\u001b[49m\u001b[43m,\u001b[49m\u001b[43m \u001b[49m\u001b[43mbuffer\u001b[49m\u001b[43m,\u001b[49m\u001b[43m \u001b[49m\u001b[43mcount\u001b[49m\u001b[43m,\u001b[49m\u001b[43m \u001b[49m\u001b[43mbyref\u001b[49m\u001b[43m(\u001b[49m\u001b[43mreturn_count\u001b[49m\u001b[43m)\u001b[49m\u001b[43m)\u001b[49m\n\u001b[0;32m   2338\u001b[0m \u001b[38;5;28;01mreturn\u001b[39;00m buffer\u001b[38;5;241m.\u001b[39mraw[: return_count\u001b[38;5;241m.\u001b[39mvalue], ret\n",
      "File \u001b[1;32mc:\\Users\\KeckLFC\\.conda\\envs\\lfc-env\\Lib\\site-packages\\pyvisa\\ctwrapper\\highlevel.py:226\u001b[0m, in \u001b[0;36mIVIVisaLibrary._return_handler\u001b[1;34m(self, ret_value, func, arguments)\u001b[0m\n\u001b[0;32m    223\u001b[0m         \u001b[38;5;66;03m# Set session back to a safe value\u001b[39;00m\n\u001b[0;32m    224\u001b[0m         session \u001b[38;5;241m=\u001b[39m \u001b[38;5;28;01mNone\u001b[39;00m\n\u001b[1;32m--> 226\u001b[0m \u001b[38;5;28;01mreturn\u001b[39;00m \u001b[38;5;28;43mself\u001b[39;49m\u001b[38;5;241;43m.\u001b[39;49m\u001b[43mhandle_return_value\u001b[49m\u001b[43m(\u001b[49m\u001b[43msession\u001b[49m\u001b[43m,\u001b[49m\u001b[43m \u001b[49m\u001b[43mret_value\u001b[49m\u001b[43m)\u001b[49m\n",
      "File \u001b[1;32mc:\\Users\\KeckLFC\\.conda\\envs\\lfc-env\\Lib\\site-packages\\pyvisa\\highlevel.py:251\u001b[0m, in \u001b[0;36mVisaLibraryBase.handle_return_value\u001b[1;34m(self, session, status_code)\u001b[0m\n\u001b[0;32m    248\u001b[0m     \u001b[38;5;28mself\u001b[39m\u001b[38;5;241m.\u001b[39m_last_status_in_session[session] \u001b[38;5;241m=\u001b[39m rv\n\u001b[0;32m    250\u001b[0m \u001b[38;5;28;01mif\u001b[39;00m rv \u001b[38;5;241m<\u001b[39m \u001b[38;5;241m0\u001b[39m:\n\u001b[1;32m--> 251\u001b[0m     \u001b[38;5;28;01mraise\u001b[39;00m errors\u001b[38;5;241m.\u001b[39mVisaIOError(rv)\n\u001b[0;32m    253\u001b[0m \u001b[38;5;28;01mif\u001b[39;00m rv \u001b[38;5;129;01min\u001b[39;00m \u001b[38;5;28mself\u001b[39m\u001b[38;5;241m.\u001b[39missue_warning_on:\n\u001b[0;32m    254\u001b[0m     \u001b[38;5;28;01mif\u001b[39;00m session \u001b[38;5;129;01mand\u001b[39;00m rv \u001b[38;5;129;01mnot\u001b[39;00m \u001b[38;5;129;01min\u001b[39;00m \u001b[38;5;28mself\u001b[39m\u001b[38;5;241m.\u001b[39m_ignore_warning_in_session[session]:\n",
      "\u001b[1;31mVisaIOError\u001b[0m: VI_ERROR_TMO (-1073807339): Timeout expired before operation completed."
     ]
    }
   ],
   "source": [
    "from KeckLFC.Hardware.OZopticsVOA import OZopticsVOA\n",
    "voa1550 = OZopticsVOA(addr=f'ASRL{15}::INSTR', name='1.55um VOA')\n",
    "voa1550.connect()\n",
    "voa1550.printStatus()"
   ]
  },
  {
   "cell_type": "code",
   "execution_count": 219,
   "metadata": {},
   "outputs": [
    {
     "name": "stderr",
     "output_type": "stream",
     "text": [
      "\u001b[32m2024-04-10 14:49:34.570\u001b[0m | \u001b[1mINFO    \u001b[0m | \u001b[36m1.55um VOA\u001b[0m | \u001b[36mOZopticsVOA.py\u001b[0m:\u001b[36mprintStatus\u001b[0m:\u001b[36m44\u001b[0m\n",
      "\u001b[1m-----------------------------------1.55um VOA-----------------------------------\n",
      "--------------------------OZ optics VOA Status Summary--------------------------\n",
      "|\t Attenuation: 20.00 (dB)\n",
      "|\t Device Configure String:\n",
      "|\t\tDD100MC \n",
      "|\t\tV6.4\n",
      "|\t\tNO:303700-01\n",
      "|\t\tMAX ATTEN:61.00\n",
      "|\t\tOVERSHOOT:-30\n",
      "|\t\tCALIB:FEB-22-2022\n",
      "|\t\tGEAR RATIO:485:1\n",
      "|\t\tMOTOR VOLT:5V\n",
      "|\t\tMINTERVAL(MS):0.90\n",
      "|\t\tIL:0.00\n",
      "|\t\tWAVELENGTH:1550\n",
      "|\t\tI2C ADDRESS:64\n",
      "|\t\tW0 1550\n",
      "-----------------------OZ optics VOA Status Summary Ends------------------------\n",
      "\u001b[0m\n"
     ]
    },
    {
     "data": {
      "text/plain": [
       "'-----------------------------------1.55um VOA-----------------------------------\\n--------------------------OZ optics VOA Status Summary--------------------------\\n|\\t Attenuation: 20.00 (dB)\\n|\\t Device Configure String:\\n|\\t\\tDD100MC \\n|\\t\\tV6.4\\n|\\t\\tNO:303700-01\\n|\\t\\tMAX ATTEN:61.00\\n|\\t\\tOVERSHOOT:-30\\n|\\t\\tCALIB:FEB-22-2022\\n|\\t\\tGEAR RATIO:485:1\\n|\\t\\tMOTOR VOLT:5V\\n|\\t\\tMINTERVAL(MS):0.90\\n|\\t\\tIL:0.00\\n|\\t\\tWAVELENGTH:1550\\n|\\t\\tI2C ADDRESS:64\\n|\\t\\tW0 1550\\n-----------------------OZ optics VOA Status Summary Ends------------------------\\n'"
      ]
     },
     "execution_count": 219,
     "metadata": {},
     "output_type": "execute_result"
    }
   ],
   "source": [
    "voa1550.printStatus()"
   ]
  },
  {
   "cell_type": "code",
   "execution_count": 154,
   "metadata": {},
   "outputs": [
    {
     "name": "stderr",
     "output_type": "stream",
     "text": [
      "\u001b[32m2024-04-17 13:43:36.482\u001b[0m | \u001b[1mINFO    \u001b[0m | \u001b[36m1.55um VOA\u001b[0m | \u001b[36mOZopticsVOA.py\u001b[0m:\u001b[36m_setAttenStr\u001b[0m:\u001b[36m61\u001b[0m\n",
      "\u001b[1m1.55um VOA: VOA attenuation setted to 34.00 dB.\u001b[0m\n"
     ]
    }
   ],
   "source": [
    "voa1550.atten_db=34"
   ]
  },
  {
   "cell_type": "code",
   "execution_count": 123,
   "metadata": {},
   "outputs": [
    {
     "name": "stderr",
     "output_type": "stream",
     "text": [
      "\u001b[32m2024-04-17 13:12:56.396\u001b[0m | \u001b[1mINFO    \u001b[0m | \u001b[36m2um VOA\u001b[0m | \u001b[36mOZopticsVOA.py\u001b[0m:\u001b[36m_setAttenStr\u001b[0m:\u001b[36m61\u001b[0m\n",
      "\u001b[1m2um VOA: VOA attenuation setted to 0.00 dB.\u001b[0m\n"
     ]
    }
   ],
   "source": [
    "voa2000.atten_db=0"
   ]
  },
  {
   "cell_type": "code",
   "execution_count": 152,
   "metadata": {},
   "outputs": [
    {
     "name": "stderr",
     "output_type": "stream",
     "text": [
      "\u001b[32m2024-04-17 13:42:54.402\u001b[0m | \u001b[1mINFO    \u001b[0m | \u001b[36mFinisar Waveshaper SN201904\u001b[0m | \u001b[36mWaveshaper.py\u001b[0m:\u001b[36mset3rdDisper\u001b[0m:\u001b[36m90\u001b[0m\n",
      "\u001b[1mWaveshaper Set 3rd disper with d2=-2.71 ps/nm, d3=0.0 ps/nm^2, center 192.17465256410256 THz.\u001b[0m\n",
      "\u001b[32m2024-04-17 13:42:54.408\u001b[0m | \u001b[1mINFO    \u001b[0m | \u001b[36mFinisar Waveshaper SN201904\u001b[0m | \u001b[36mWaveshaper.py\u001b[0m:\u001b[36msetBandPass\u001b[0m:\u001b[36m127\u001b[0m\n",
      "\u001b[1mWaveshaper Set atten to BandPass [189.675~194.675] THz ([1580.559~1539.964] nm).\u001b[0m\n",
      "\u001b[32m2024-04-17 13:42:55.826\u001b[0m | \u001b[1mINFO    \u001b[0m | \u001b[36mFinisar Waveshaper SN201904\u001b[0m | \u001b[36mWaveshaper.py\u001b[0m:\u001b[36mwriteProfile\u001b[0m:\u001b[36m226\u001b[0m\n",
      "\u001b[1mWaveshaper profile write successful.\u001b[0m\n"
     ]
    },
    {
     "data": {
      "image/png": "[encoded data removed]",
      "text/plain": [
       "<Figure size 900x600 with 4 Axes>"
      ]
     },
     "metadata": {},
     "output_type": "display_data"
    }
   ],
   "source": [
    "wsp.set3rdDisper(d2=-2.71,d3=0.)\n",
    "wsp.setBandPass(span=5)\n",
    "wsp.plotStatus()\n",
    "wsp.writeProfile()"
   ]
  },
  {
   "cell_type": "code",
   "execution_count": 187,
   "metadata": {},
   "outputs": [
    {
     "name": "stderr",
     "output_type": "stream",
     "text": [
      "\u001b[32m2024-04-10 14:27:38.528\u001b[0m | \u001b[1mINFO    \u001b[0m | \u001b[36m2um VOA\u001b[0m | \u001b[36mOZopticsVOA.py\u001b[0m:\u001b[36mprintStatus\u001b[0m:\u001b[36m44\u001b[0m\n",
      "\u001b[1m------------------------------------2um VOA-------------------------------------\n",
      "--------------------------OZ optics VOA Status Summary--------------------------\n",
      "|\t Attenuation: 10.00 (dB)\n",
      "|\t Device Configure String:\n",
      "|\t\tDD100MC\n",
      "|\t\tV6.2a\n",
      "|\t\tNO:303699-01\n",
      "|\t\tMAX ATTEN:55.00\n",
      "|\t\tOVERSHOOT:-30\n",
      "|\t\tCALIB:MAR-02-2022\n",
      "|\t\tGEAR RATIO:485:1\n",
      "|\t\tMINTERVAL(MS):0.90\n",
      "|\t\tMOTOR VOLT:5\n",
      "|\t\tIL:0.00\n",
      "|\t\tWAVELENGTH:2000\n",
      "|\t\tI2C ADDRESS:64\n",
      "|\t\tW0 2000\n",
      "-----------------------OZ optics VOA Status Summary Ends------------------------\n",
      "\u001b[0m\n"
     ]
    },
    {
     "data": {
      "text/plain": [
       "'------------------------------------2um VOA-------------------------------------\\n--------------------------OZ optics VOA Status Summary--------------------------\\n|\\t Attenuation: 10.00 (dB)\\n|\\t Device Configure String:\\n|\\t\\tDD100MC\\n|\\t\\tV6.2a\\n|\\t\\tNO:303699-01\\n|\\t\\tMAX ATTEN:55.00\\n|\\t\\tOVERSHOOT:-30\\n|\\t\\tCALIB:MAR-02-2022\\n|\\t\\tGEAR RATIO:485:1\\n|\\t\\tMINTERVAL(MS):0.90\\n|\\t\\tMOTOR VOLT:5\\n|\\t\\tIL:0.00\\n|\\t\\tWAVELENGTH:2000\\n|\\t\\tI2C ADDRESS:64\\n|\\t\\tW0 2000\\n-----------------------OZ optics VOA Status Summary Ends------------------------\\n'"
      ]
     },
     "execution_count": 187,
     "metadata": {},
     "output_type": "execute_result"
    }
   ],
   "source": [
    "voa2000.printStatus()"
   ]
  },
  {
   "cell_type": "code",
   "execution_count": 148,
   "metadata": {},
   "outputs": [
    {
     "name": "stderr",
     "output_type": "stream",
     "text": [
      "\u001b[32m2024-04-17 13:37:49.529\u001b[0m | \u001b[1mINFO    \u001b[0m | \u001b[36m1.55um VOA\u001b[0m | \u001b[36mOZopticsVOA.py\u001b[0m:\u001b[36m_setAttenStr\u001b[0m:\u001b[36m61\u001b[0m\n",
      "\u001b[1m1.55um VOA: VOA attenuation setted to 32.00 dB.\u001b[0m\n"
     ]
    }
   ],
   "source": [
    "voa1550.atten_db=32"
   ]
  },
  {
   "cell_type": "code",
   "execution_count": 145,
   "metadata": {},
   "outputs": [
    {
     "data": {
      "text/plain": [
       "0.0"
      ]
     },
     "execution_count": 145,
     "metadata": {},
     "output_type": "execute_result"
    }
   ],
   "source": [
    "voa2000.atten_db"
   ]
  },
  {
   "cell_type": "code",
   "execution_count": null,
   "metadata": {},
   "outputs": [],
   "source": []
  },
  {
   "cell_type": "code",
   "execution_count": null,
   "metadata": {},
   "outputs": [],
   "source": []
  },
  {
   "cell_type": "code",
   "execution_count": 87,
   "metadata": {},
   "outputs": [
    {
     "name": "stderr",
     "output_type": "stream",
     "text": [
      "\u001b[32m2024-04-17 12:52:40.526\u001b[0m | \u001b[1mINFO    \u001b[0m | \u001b[36m2um VOA\u001b[0m | \u001b[36mDevice.py\u001b[0m:\u001b[36mconnect\u001b[0m:\u001b[36m78\u001b[0m\n",
      "\u001b[1m2um VOA connected\u001b[0m\n"
     ]
    },
    {
     "ename": "VisaIOError",
     "evalue": "VI_ERROR_TMO (-1073807339): Timeout expired before operation completed.",
     "output_type": "error",
     "traceback": [
      "\u001b[1;31m---------------------------------------------------------------------------\u001b[0m",
      "\u001b[1;31mVisaIOError\u001b[0m                               Traceback (most recent call last)",
      "Cell \u001b[1;32mIn[87], line 4\u001b[0m\n\u001b[0;32m      2\u001b[0m voa2000 \u001b[38;5;241m=\u001b[39m OZopticsVOA(addr\u001b[38;5;241m=\u001b[39m\u001b[38;5;124mf\u001b[39m\u001b[38;5;124m'\u001b[39m\u001b[38;5;124mASRL\u001b[39m\u001b[38;5;132;01m{\u001b[39;00m\u001b[38;5;241m18\u001b[39m\u001b[38;5;132;01m}\u001b[39;00m\u001b[38;5;124m::INSTR\u001b[39m\u001b[38;5;124m'\u001b[39m, name\u001b[38;5;241m=\u001b[39m\u001b[38;5;124m'\u001b[39m\u001b[38;5;124m2um VOA\u001b[39m\u001b[38;5;124m'\u001b[39m)\n\u001b[0;32m      3\u001b[0m voa2000\u001b[38;5;241m.\u001b[39mconnect()\n\u001b[1;32m----> 4\u001b[0m \u001b[43mvoa2000\u001b[49m\u001b[38;5;241;43m.\u001b[39;49m\u001b[43mprintStatus\u001b[49m\u001b[43m(\u001b[49m\u001b[43m)\u001b[49m\n",
      "File \u001b[1;32mc:\\Users\\KeckLFC\\KeckLFC-main\\KeckLFC\\Hardware\\OZopticsVOA.py:38\u001b[0m, in \u001b[0;36mOZopticsVOA.printStatus\u001b[1;34m(self)\u001b[0m\n\u001b[0;32m     36\u001b[0m message \u001b[38;5;241m=\u001b[39m \u001b[38;5;28mself\u001b[39m\u001b[38;5;241m.\u001b[39mdevicename\u001b[38;5;241m.\u001b[39mcenter(\u001b[38;5;241m80\u001b[39m,\u001b[38;5;124m'\u001b[39m\u001b[38;5;124m-\u001b[39m\u001b[38;5;124m'\u001b[39m)\u001b[38;5;241m+\u001b[39m\u001b[38;5;124m'\u001b[39m\u001b[38;5;130;01m\\n\u001b[39;00m\u001b[38;5;124m'\u001b[39m\n\u001b[0;32m     37\u001b[0m message \u001b[38;5;241m=\u001b[39m message \u001b[38;5;241m+\u001b[39m \u001b[38;5;124m'\u001b[39m\u001b[38;5;124mOZ optics VOA Status Summary\u001b[39m\u001b[38;5;124m'\u001b[39m\u001b[38;5;241m.\u001b[39mcenter(\u001b[38;5;241m80\u001b[39m,\u001b[38;5;124m'\u001b[39m\u001b[38;5;124m-\u001b[39m\u001b[38;5;124m'\u001b[39m)\u001b[38;5;241m+\u001b[39m\u001b[38;5;124m'\u001b[39m\u001b[38;5;130;01m\\n\u001b[39;00m\u001b[38;5;124m'\u001b[39m\n\u001b[1;32m---> 38\u001b[0m message \u001b[38;5;241m=\u001b[39m message \u001b[38;5;241m+\u001b[39m \u001b[38;5;124mf\u001b[39m\u001b[38;5;124m\"\u001b[39m\u001b[38;5;124m|\u001b[39m\u001b[38;5;130;01m\\t\u001b[39;00m\u001b[38;5;124m Attenuation: \u001b[39m\u001b[38;5;132;01m{\u001b[39;00m\u001b[38;5;28;43mself\u001b[39;49m\u001b[38;5;241;43m.\u001b[39;49m\u001b[43matten_db\u001b[49m\u001b[38;5;132;01m:\u001b[39;00m\u001b[38;5;124m.2f\u001b[39m\u001b[38;5;132;01m}\u001b[39;00m\u001b[38;5;124m (dB)\u001b[39m\u001b[38;5;124m\"\u001b[39m\u001b[38;5;241m+\u001b[39m\u001b[38;5;124m'\u001b[39m\u001b[38;5;130;01m\\n\u001b[39;00m\u001b[38;5;124m'\u001b[39m\n\u001b[0;32m     39\u001b[0m time\u001b[38;5;241m.\u001b[39msleep(\u001b[38;5;241m0.1\u001b[39m)\n\u001b[0;32m     40\u001b[0m message \u001b[38;5;241m=\u001b[39m message \u001b[38;5;241m+\u001b[39m \u001b[38;5;124m\"\u001b[39m\u001b[38;5;124m|\u001b[39m\u001b[38;5;130;01m\\t\u001b[39;00m\u001b[38;5;124m Device Configure String:\u001b[39m\u001b[38;5;124m\"\u001b[39m \u001b[38;5;241m+\u001b[39m \u001b[38;5;124m'\u001b[39m\u001b[38;5;130;01m\\n\u001b[39;00m\u001b[38;5;124m'\u001b[39m\n",
      "File \u001b[1;32mc:\\Users\\KeckLFC\\KeckLFC-main\\KeckLFC\\Hardware\\OZopticsVOA.py:50\u001b[0m, in \u001b[0;36mOZopticsVOA.atten_db\u001b[1;34m(self)\u001b[0m\n\u001b[0;32m     47\u001b[0m \u001b[38;5;129m@property\u001b[39m\n\u001b[0;32m     48\u001b[0m \u001b[38;5;28;01mdef\u001b[39;00m \u001b[38;5;21matten_db\u001b[39m(\u001b[38;5;28mself\u001b[39m):\n\u001b[0;32m     49\u001b[0m     time\u001b[38;5;241m.\u001b[39msleep(\u001b[38;5;28mself\u001b[39m\u001b[38;5;241m.\u001b[39m__cmd_interval)\n\u001b[1;32m---> 50\u001b[0m     \u001b[38;5;28;01mreturn\u001b[39;00m \u001b[38;5;28mfloat\u001b[39m(\u001b[38;5;28;43mself\u001b[39;49m\u001b[38;5;241;43m.\u001b[39;49m\u001b[43m_getAttenStr\u001b[49m\u001b[43m(\u001b[49m\u001b[43m)\u001b[49m\u001b[38;5;241m.\u001b[39mreplace(\u001b[38;5;124m'\u001b[39m\u001b[38;5;124m(\u001b[39m\u001b[38;5;124m'\u001b[39m,\u001b[38;5;124m'\u001b[39m\u001b[38;5;124m:\u001b[39m\u001b[38;5;124m'\u001b[39m)\u001b[38;5;241m.\u001b[39msplit((\u001b[38;5;124m'\u001b[39m\u001b[38;5;124m:\u001b[39m\u001b[38;5;124m'\u001b[39m))[\u001b[38;5;241m1\u001b[39m])\n",
      "File \u001b[1;32mc:\\Users\\KeckLFC\\KeckLFC-main\\KeckLFC\\Hardware\\OZopticsVOA.py:66\u001b[0m, in \u001b[0;36mOZopticsVOA._getAttenStr\u001b[1;34m(self)\u001b[0m\n\u001b[0;32m     64\u001b[0m \u001b[38;5;28;01mdef\u001b[39;00m \u001b[38;5;21m_getAttenStr\u001b[39m(\u001b[38;5;28mself\u001b[39m):\n\u001b[0;32m     65\u001b[0m     cmd \u001b[38;5;241m=\u001b[39m \u001b[38;5;124m\"\u001b[39m\u001b[38;5;124mA?\u001b[39m\u001b[38;5;124m\"\u001b[39m\n\u001b[1;32m---> 66\u001b[0m     \u001b[38;5;28;01mreturn\u001b[39;00m \u001b[38;5;28;43mself\u001b[39;49m\u001b[38;5;241;43m.\u001b[39;49m\u001b[43mquery\u001b[49m\u001b[43m(\u001b[49m\u001b[43mcmd\u001b[49m\u001b[43m)\u001b[49m\n",
      "File \u001b[1;32mc:\\Users\\KeckLFC\\KeckLFC-main\\KeckLFC\\Hardware\\OZopticsVOA.py:30\u001b[0m, in \u001b[0;36mOZopticsVOA.query\u001b[1;34m(self, cmd)\u001b[0m\n\u001b[0;32m     28\u001b[0m \u001b[38;5;28mself\u001b[39m\u001b[38;5;241m.\u001b[39minst\u001b[38;5;241m.\u001b[39mclear()\n\u001b[0;32m     29\u001b[0m \u001b[38;5;28msuper\u001b[39m()\u001b[38;5;241m.\u001b[39mwrite(cmd)\n\u001b[1;32m---> 30\u001b[0m \u001b[38;5;28;01mreturn\u001b[39;00m \u001b[38;5;28;43mself\u001b[39;49m\u001b[38;5;241;43m.\u001b[39;49m\u001b[43mread\u001b[49m\u001b[43m(\u001b[49m\u001b[43m)\u001b[49m\n",
      "File \u001b[1;32mc:\\Users\\KeckLFC\\KeckLFC-main\\KeckLFC\\Hardware\\OZopticsVOA.py:24\u001b[0m, in \u001b[0;36mOZopticsVOA.read\u001b[1;34m(self)\u001b[0m\n\u001b[0;32m     22\u001b[0m     \u001b[38;5;28;01mif\u001b[39;00m \u001b[38;5;129;01mnot\u001b[39;00m count\u001b[38;5;241m==\u001b[39m\u001b[38;5;241m1\u001b[39m:\n\u001b[0;32m     23\u001b[0m         result \u001b[38;5;241m=\u001b[39m result \u001b[38;5;241m+\u001b[39m response \u001b[38;5;241m+\u001b[39m \u001b[38;5;124m'\u001b[39m\u001b[38;5;130;01m\\n\u001b[39;00m\u001b[38;5;124m'\u001b[39m\n\u001b[1;32m---> 24\u001b[0m     response \u001b[38;5;241m=\u001b[39m \u001b[38;5;28;43msuper\u001b[39;49m\u001b[43m(\u001b[49m\u001b[43m)\u001b[49m\u001b[38;5;241;43m.\u001b[39;49m\u001b[43mread\u001b[49m\u001b[43m(\u001b[49m\u001b[43m)\u001b[49m\n\u001b[0;32m     25\u001b[0m \u001b[38;5;28;01mreturn\u001b[39;00m \u001b[38;5;28mstr\u001b[39m(result)\n",
      "File \u001b[1;32mc:\\Users\\KeckLFC\\KeckLFC-main\\KeckLFC\\Hardware\\Device.py:98\u001b[0m, in \u001b[0;36mDevice.read\u001b[1;34m(self)\u001b[0m\n\u001b[0;32m     97\u001b[0m \u001b[38;5;28;01mdef\u001b[39;00m \u001b[38;5;21mread\u001b[39m(\u001b[38;5;28mself\u001b[39m):\n\u001b[1;32m---> 98\u001b[0m     \u001b[38;5;28;01mreturn\u001b[39;00m \u001b[38;5;28;43mself\u001b[39;49m\u001b[38;5;241;43m.\u001b[39;49m\u001b[43minst\u001b[49m\u001b[38;5;241;43m.\u001b[39;49m\u001b[43mread\u001b[49m\u001b[43m(\u001b[49m\u001b[43m)\u001b[49m\n",
      "File \u001b[1;32mc:\\Users\\KeckLFC\\.conda\\envs\\lfc-env\\Lib\\site-packages\\pyvisa\\resources\\messagebased.py:486\u001b[0m, in \u001b[0;36mMessageBasedResource.read\u001b[1;34m(self, termination, encoding)\u001b[0m\n\u001b[0;32m    484\u001b[0m \u001b[38;5;28;01mif\u001b[39;00m termination \u001b[38;5;129;01mis\u001b[39;00m \u001b[38;5;28;01mNone\u001b[39;00m:\n\u001b[0;32m    485\u001b[0m     termination \u001b[38;5;241m=\u001b[39m \u001b[38;5;28mself\u001b[39m\u001b[38;5;241m.\u001b[39m_read_termination\n\u001b[1;32m--> 486\u001b[0m     message \u001b[38;5;241m=\u001b[39m \u001b[38;5;28;43mself\u001b[39;49m\u001b[38;5;241;43m.\u001b[39;49m\u001b[43m_read_raw\u001b[49m\u001b[43m(\u001b[49m\u001b[43m)\u001b[49m\u001b[38;5;241m.\u001b[39mdecode(enco)\n\u001b[0;32m    487\u001b[0m \u001b[38;5;28;01melse\u001b[39;00m:\n\u001b[0;32m    488\u001b[0m     \u001b[38;5;28;01mwith\u001b[39;00m \u001b[38;5;28mself\u001b[39m\u001b[38;5;241m.\u001b[39mread_termination_context(termination):\n",
      "File \u001b[1;32mc:\\Users\\KeckLFC\\.conda\\envs\\lfc-env\\Lib\\site-packages\\pyvisa\\resources\\messagebased.py:442\u001b[0m, in \u001b[0;36mMessageBasedResource._read_raw\u001b[1;34m(self, size)\u001b[0m\n\u001b[0;32m    435\u001b[0m     \u001b[38;5;28;01mwhile\u001b[39;00m status \u001b[38;5;241m==\u001b[39m loop_status:\n\u001b[0;32m    436\u001b[0m         logger\u001b[38;5;241m.\u001b[39mdebug(\n\u001b[0;32m    437\u001b[0m             \u001b[38;5;124m\"\u001b[39m\u001b[38;5;132;01m%s\u001b[39;00m\u001b[38;5;124m - reading \u001b[39m\u001b[38;5;132;01m%d\u001b[39;00m\u001b[38;5;124m bytes (last status \u001b[39m\u001b[38;5;132;01m%r\u001b[39;00m\u001b[38;5;124m)\u001b[39m\u001b[38;5;124m\"\u001b[39m,\n\u001b[0;32m    438\u001b[0m             \u001b[38;5;28mself\u001b[39m\u001b[38;5;241m.\u001b[39m_resource_name,\n\u001b[0;32m    439\u001b[0m             size,\n\u001b[0;32m    440\u001b[0m             status,\n\u001b[0;32m    441\u001b[0m         )\n\u001b[1;32m--> 442\u001b[0m         chunk, status \u001b[38;5;241m=\u001b[39m \u001b[38;5;28;43mself\u001b[39;49m\u001b[38;5;241;43m.\u001b[39;49m\u001b[43mvisalib\u001b[49m\u001b[38;5;241;43m.\u001b[39;49m\u001b[43mread\u001b[49m\u001b[43m(\u001b[49m\u001b[38;5;28;43mself\u001b[39;49m\u001b[38;5;241;43m.\u001b[39;49m\u001b[43msession\u001b[49m\u001b[43m,\u001b[49m\u001b[43m \u001b[49m\u001b[43msize\u001b[49m\u001b[43m)\u001b[49m\n\u001b[0;32m    443\u001b[0m         ret\u001b[38;5;241m.\u001b[39mextend(chunk)\n\u001b[0;32m    444\u001b[0m \u001b[38;5;28;01mexcept\u001b[39;00m errors\u001b[38;5;241m.\u001b[39mVisaIOError \u001b[38;5;28;01mas\u001b[39;00m e:\n",
      "File \u001b[1;32mc:\\Users\\KeckLFC\\.conda\\envs\\lfc-env\\Lib\\site-packages\\pyvisa\\ctwrapper\\functions.py:2337\u001b[0m, in \u001b[0;36mread\u001b[1;34m(library, session, count)\u001b[0m\n\u001b[0;32m   2335\u001b[0m buffer \u001b[38;5;241m=\u001b[39m create_string_buffer(count)\n\u001b[0;32m   2336\u001b[0m return_count \u001b[38;5;241m=\u001b[39m ViUInt32()\n\u001b[1;32m-> 2337\u001b[0m ret \u001b[38;5;241m=\u001b[39m \u001b[43mlibrary\u001b[49m\u001b[38;5;241;43m.\u001b[39;49m\u001b[43mviRead\u001b[49m\u001b[43m(\u001b[49m\u001b[43msession\u001b[49m\u001b[43m,\u001b[49m\u001b[43m \u001b[49m\u001b[43mbuffer\u001b[49m\u001b[43m,\u001b[49m\u001b[43m \u001b[49m\u001b[43mcount\u001b[49m\u001b[43m,\u001b[49m\u001b[43m \u001b[49m\u001b[43mbyref\u001b[49m\u001b[43m(\u001b[49m\u001b[43mreturn_count\u001b[49m\u001b[43m)\u001b[49m\u001b[43m)\u001b[49m\n\u001b[0;32m   2338\u001b[0m \u001b[38;5;28;01mreturn\u001b[39;00m buffer\u001b[38;5;241m.\u001b[39mraw[: return_count\u001b[38;5;241m.\u001b[39mvalue], ret\n",
      "File \u001b[1;32mc:\\Users\\KeckLFC\\.conda\\envs\\lfc-env\\Lib\\site-packages\\pyvisa\\ctwrapper\\highlevel.py:226\u001b[0m, in \u001b[0;36mIVIVisaLibrary._return_handler\u001b[1;34m(self, ret_value, func, arguments)\u001b[0m\n\u001b[0;32m    223\u001b[0m         \u001b[38;5;66;03m# Set session back to a safe value\u001b[39;00m\n\u001b[0;32m    224\u001b[0m         session \u001b[38;5;241m=\u001b[39m \u001b[38;5;28;01mNone\u001b[39;00m\n\u001b[1;32m--> 226\u001b[0m \u001b[38;5;28;01mreturn\u001b[39;00m \u001b[38;5;28;43mself\u001b[39;49m\u001b[38;5;241;43m.\u001b[39;49m\u001b[43mhandle_return_value\u001b[49m\u001b[43m(\u001b[49m\u001b[43msession\u001b[49m\u001b[43m,\u001b[49m\u001b[43m \u001b[49m\u001b[43mret_value\u001b[49m\u001b[43m)\u001b[49m\n",
      "File \u001b[1;32mc:\\Users\\KeckLFC\\.conda\\envs\\lfc-env\\Lib\\site-packages\\pyvisa\\highlevel.py:251\u001b[0m, in \u001b[0;36mVisaLibraryBase.handle_return_value\u001b[1;34m(self, session, status_code)\u001b[0m\n\u001b[0;32m    248\u001b[0m     \u001b[38;5;28mself\u001b[39m\u001b[38;5;241m.\u001b[39m_last_status_in_session[session] \u001b[38;5;241m=\u001b[39m rv\n\u001b[0;32m    250\u001b[0m \u001b[38;5;28;01mif\u001b[39;00m rv \u001b[38;5;241m<\u001b[39m \u001b[38;5;241m0\u001b[39m:\n\u001b[1;32m--> 251\u001b[0m     \u001b[38;5;28;01mraise\u001b[39;00m errors\u001b[38;5;241m.\u001b[39mVisaIOError(rv)\n\u001b[0;32m    253\u001b[0m \u001b[38;5;28;01mif\u001b[39;00m rv \u001b[38;5;129;01min\u001b[39;00m \u001b[38;5;28mself\u001b[39m\u001b[38;5;241m.\u001b[39missue_warning_on:\n\u001b[0;32m    254\u001b[0m     \u001b[38;5;28;01mif\u001b[39;00m session \u001b[38;5;129;01mand\u001b[39;00m rv \u001b[38;5;129;01mnot\u001b[39;00m \u001b[38;5;129;01min\u001b[39;00m \u001b[38;5;28mself\u001b[39m\u001b[38;5;241m.\u001b[39m_ignore_warning_in_session[session]:\n",
      "\u001b[1;31mVisaIOError\u001b[0m: VI_ERROR_TMO (-1073807339): Timeout expired before operation completed."
     ]
    }
   ],
   "source": [
    "from KeckLFC.Hardware.OZopticsVOA import OZopticsVOA\n",
    "voa2000 = OZopticsVOA(addr=f'ASRL{18}::INSTR', name='2um VOA')\n",
    "voa2000.connect()\n",
    "voa2000.printStatus()"
   ]
  },
  {
   "cell_type": "code",
   "execution_count": 95,
   "metadata": {},
   "outputs": [
    {
     "name": "stderr",
     "output_type": "stream",
     "text": [
      "\u001b[32m2024-04-17 12:53:59.527\u001b[0m | \u001b[1mINFO    \u001b[0m | \u001b[36m2um VOA\u001b[0m | \u001b[36mOZopticsVOA.py\u001b[0m:\u001b[36m_setAttenStr\u001b[0m:\u001b[36m61\u001b[0m\n",
      "\u001b[1m2um VOA: VOA attenuation setted to 20.00 dB.\u001b[0m\n"
     ]
    }
   ],
   "source": [
    "voa2000.atten_db=20"
   ]
  },
  {
   "cell_type": "code",
   "execution_count": 195,
   "metadata": {},
   "outputs": [
    {
     "name": "stderr",
     "output_type": "stream",
     "text": [
      "\u001b[32m2024-04-10 14:37:13.643\u001b[0m | \u001b[1mINFO    \u001b[0m | \u001b[36m1um VOA\u001b[0m | \u001b[36mDevice.py\u001b[0m:\u001b[36mconnect\u001b[0m:\u001b[36m78\u001b[0m\n",
      "\u001b[1m1um VOA connected\u001b[0m\n"
     ]
    },
    {
     "name": "stderr",
     "output_type": "stream",
     "text": [
      "\u001b[32m2024-04-10 14:37:14.263\u001b[0m | \u001b[1mINFO    \u001b[0m | \u001b[36m1um VOA\u001b[0m | \u001b[36mOZopticsVOA.py\u001b[0m:\u001b[36mprintStatus\u001b[0m:\u001b[36m44\u001b[0m\n",
      "\u001b[1m------------------------------------1um VOA-------------------------------------\n",
      "--------------------------OZ optics VOA Status Summary--------------------------\n",
      "|\t Attenuation: 40.00 (dB)\n",
      "|\t Device Configure String:\n",
      "|\t\tDD100MC \n",
      "|\t\tV1.1\n",
      "|\t\tNO:311029-01\n",
      "|\t\tMAX ATTEN:60.00\n",
      "|\t\tOVERSHOOT:0\n",
      "|\t\tCALIB:NOV-18-2022\n",
      "|\t\tGEAR RATIO:485:1\n",
      "|\t\tMOTOR VOLT:5V\n",
      "|\t\tMINTERVAL(MS):0.90\n",
      "|\t\tIL:0.00\n",
      "|\t\tWAVELENGTH:1310\n",
      "|\t\tI2C ADDRESS:64\n",
      "|\t\tW0 0980\n",
      "|\t\tW1 1310\n",
      "-----------------------OZ optics VOA Status Summary Ends------------------------\n",
      "\u001b[0m\n"
     ]
    },
    {
     "data": {
      "text/plain": [
       "'------------------------------------1um VOA-------------------------------------\\n--------------------------OZ optics VOA Status Summary--------------------------\\n|\\t Attenuation: 40.00 (dB)\\n|\\t Device Configure String:\\n|\\t\\tDD100MC \\n|\\t\\tV1.1\\n|\\t\\tNO:311029-01\\n|\\t\\tMAX ATTEN:60.00\\n|\\t\\tOVERSHOOT:0\\n|\\t\\tCALIB:NOV-18-2022\\n|\\t\\tGEAR RATIO:485:1\\n|\\t\\tMOTOR VOLT:5V\\n|\\t\\tMINTERVAL(MS):0.90\\n|\\t\\tIL:0.00\\n|\\t\\tWAVELENGTH:1310\\n|\\t\\tI2C ADDRESS:64\\n|\\t\\tW0 0980\\n|\\t\\tW1 1310\\n-----------------------OZ optics VOA Status Summary Ends------------------------\\n'"
      ]
     },
     "execution_count": 195,
     "metadata": {},
     "output_type": "execute_result"
    }
   ],
   "source": [
    "from KeckLFC.Hardware.OZopticsVOA import OZopticsVOA\n",
    "voa1310 = OZopticsVOA(addr=f'ASRL{19}::INSTR', name='1um VOA')\n",
    "voa1310.connect()\n",
    "voa1310.printStatus()"
   ]
  },
  {
   "cell_type": "code",
   "execution_count": 246,
   "metadata": {},
   "outputs": [
    {
     "data": {
      "text/plain": [
       "0.0"
      ]
     },
     "execution_count": 246,
     "metadata": {},
     "output_type": "execute_result"
    }
   ],
   "source": [
    "voa1310.atten_db"
   ]
  },
  {
   "cell_type": "code",
   "execution_count": 82,
   "metadata": {},
   "outputs": [
    {
     "name": "stderr",
     "output_type": "stream",
     "text": [
      "\u001b[32m2024-04-10 11:03:20.884\u001b[0m | \u001b[1mINFO    \u001b[0m | \u001b[36mOctave Waveguide TEC (TC720)\u001b[0m | \u001b[36mTEC_TC720.py\u001b[0m:\u001b[36mconnect\u001b[0m:\u001b[36m140\u001b[0m\n",
      "\u001b[1mError:<class 'serial.serialutil.SerialException'>\u001b[0m\n"
     ]
    },
    {
     "ename": "AttributeError",
     "evalue": "'TEC_TC720' object has no attribute 'ser'",
     "output_type": "error",
     "traceback": [
      "\u001b[1;31m---------------------------------------------------------------------------\u001b[0m",
      "\u001b[1;31mAttributeError\u001b[0m                            Traceback (most recent call last)",
      "Cell \u001b[1;32mIn[82], line 5\u001b[0m\n\u001b[0;32m      3\u001b[0m tec_wg \u001b[38;5;241m=\u001b[39m TEC_TC720(addr\u001b[38;5;241m=\u001b[39m\u001b[38;5;124m'\u001b[39m\u001b[38;5;124mCOM16\u001b[39m\u001b[38;5;124m'\u001b[39m, name\u001b[38;5;241m=\u001b[39m\u001b[38;5;124m'\u001b[39m\u001b[38;5;124mOctave Waveguide TEC (TC720)\u001b[39m\u001b[38;5;124m'\u001b[39m)\n\u001b[0;32m      4\u001b[0m tec_wg\u001b[38;5;241m.\u001b[39mconnect()\n\u001b[1;32m----> 5\u001b[0m \u001b[43mtec_wg\u001b[49m\u001b[38;5;241;43m.\u001b[39;49m\u001b[43mget_mode\u001b[49m\u001b[43m(\u001b[49m\u001b[43m)\u001b[49m\n",
      "File \u001b[1;32mc:\\Users\\KeckLFC\\KeckLFC-main\\KeckLFC\\Hardware\\TEC_TC720.py:417\u001b[0m, in \u001b[0;36mTEC_TC720.get_mode\u001b[1;34m(self)\u001b[0m\n\u001b[0;32m    408\u001b[0m \u001b[38;5;250m\u001b[39m\u001b[38;5;124;03m\"\"\"\u001b[39;00m\n\u001b[0;32m    409\u001b[0m \u001b[38;5;124;03mGet the mode of the temperature control unit. \u001b[39;00m\n\u001b[0;32m    410\u001b[0m \u001b[38;5;124;03mReturns mode:\u001b[39;00m\n\u001b[1;32m   (...)\u001b[0m\n\u001b[0;32m    414\u001b[0m \u001b[38;5;124;03m\u001b[39;00m\n\u001b[0;32m    415\u001b[0m \u001b[38;5;124;03m\"\"\"\u001b[39;00m\n\u001b[0;32m    416\u001b[0m \u001b[38;5;66;03m#Ask for mode\u001b[39;00m\n\u001b[1;32m--> 417\u001b[0m \u001b[38;5;28;43mself\u001b[39;49m\u001b[38;5;241;43m.\u001b[39;49m\u001b[43msend_message\u001b[49m\u001b[43m(\u001b[49m\u001b[38;5;28;43mself\u001b[39;49m\u001b[38;5;241;43m.\u001b[39;49m\u001b[43mmessage_builder\u001b[49m\u001b[43m(\u001b[49m\u001b[38;5;124;43m'\u001b[39;49m\u001b[38;5;124;43m71\u001b[39;49m\u001b[38;5;124;43m'\u001b[39;49m\u001b[43m)\u001b[49m\u001b[43m)\u001b[49m\n\u001b[0;32m    418\u001b[0m \u001b[38;5;28;01mreturn\u001b[39;00m \u001b[38;5;28mself\u001b[39m\u001b[38;5;241m.\u001b[39mresponse_to_int(\u001b[38;5;28mself\u001b[39m\u001b[38;5;241m.\u001b[39mread_message())\n",
      "File \u001b[1;32mc:\\Users\\KeckLFC\\KeckLFC-main\\KeckLFC\\Hardware\\TEC_TC720.py:294\u001b[0m, in \u001b[0;36mTEC_TC720.send_message\u001b[1;34m(self, message, write)\u001b[0m\n\u001b[0;32m    274\u001b[0m \u001b[38;5;250m\u001b[39m\u001b[38;5;124;03m\"\"\"\u001b[39;00m\n\u001b[0;32m    275\u001b[0m \u001b[38;5;124;03mSend message to the temperature control unit. Use the \u001b[39;00m\n\u001b[0;32m    276\u001b[0m \u001b[38;5;124;03mself.message_builder()function to construct the message in the right \u001b[39;00m\n\u001b[1;32m   (...)\u001b[0m\n\u001b[0;32m    291\u001b[0m \u001b[38;5;124;03m\u001b[39;00m\n\u001b[0;32m    292\u001b[0m \u001b[38;5;124;03m\"\"\"\u001b[39;00m\n\u001b[0;32m    293\u001b[0m \u001b[38;5;66;03m#Make sure the reply buffer is empty\u001b[39;00m\n\u001b[1;32m--> 294\u001b[0m \u001b[38;5;28;43mself\u001b[39;49m\u001b[38;5;241;43m.\u001b[39;49m\u001b[43mser\u001b[49m\u001b[38;5;241m.\u001b[39mread_all()\n\u001b[0;32m    296\u001b[0m \u001b[38;5;66;03m#There are 2 types of messages, read commands and write commands.\u001b[39;00m\n\u001b[0;32m    297\u001b[0m \u001b[38;5;66;03m#The read command is responded with the requested value.\u001b[39;00m\n\u001b[0;32m    298\u001b[0m \u001b[38;5;66;03m#The write command is responded with a repeat of the value to write.\u001b[39;00m\n\u001b[1;32m   (...)\u001b[0m\n\u001b[0;32m    303\u001b[0m \n\u001b[0;32m    304\u001b[0m \u001b[38;5;66;03m#Send read commands\u001b[39;00m\n\u001b[0;32m    305\u001b[0m \u001b[38;5;28;01mif\u001b[39;00m \u001b[38;5;124m'\u001b[39m\u001b[38;5;124m'\u001b[39m\u001b[38;5;241m.\u001b[39mjoin(message[\u001b[38;5;241m3\u001b[39m:\u001b[38;5;241m7\u001b[39m]) \u001b[38;5;241m==\u001b[39m \u001b[38;5;124m'\u001b[39m\u001b[38;5;124m0000\u001b[39m\u001b[38;5;124m'\u001b[39m \u001b[38;5;129;01mand\u001b[39;00m write \u001b[38;5;241m==\u001b[39m \u001b[38;5;28;01mFalse\u001b[39;00m:\n",
      "\u001b[1;31mAttributeError\u001b[0m: 'TEC_TC720' object has no attribute 'ser'"
     ]
    }
   ],
   "source": [
    "from KeckLFC.Hardware.TEC_TC720 import TEC_TC720\n",
    "# tec_PPLN = TEC_TC720(addr='ASRL46::INSTR')\n",
    "tec_wg = TEC_TC720(addr='COM16', name='Octave Waveguide TEC (TC720)')\n",
    "tec_wg.connect()\n",
    "tec_wg.get_mode()"
   ]
  },
  {
   "cell_type": "code",
   "execution_count": 173,
   "metadata": {},
   "outputs": [],
   "source": [
    "from KeckLFC.Hardware.Clarity import Clarity\n",
    "ctl=Clarity(addr=f'ASRL{23}::INSTR')"
   ]
  },
  {
   "cell_type": "code",
   "execution_count": 174,
   "metadata": {},
   "outputs": [
    {
     "data": {
      "text/plain": [
       "0"
      ]
     },
     "execution_count": 174,
     "metadata": {},
     "output_type": "execute_result"
    }
   ],
   "source": [
    "ctl.get_status()"
   ]
  },
  {
   "cell_type": "code",
   "execution_count": 164,
   "metadata": {},
   "outputs": [
    {
     "data": {
      "text/plain": [
       "0"
      ]
     },
     "execution_count": 164,
     "metadata": {},
     "output_type": "execute_result"
    }
   ],
   "source": [
    "ctl.set_onoff(0)"
   ]
  },
  {
   "cell_type": "code",
   "execution_count": 90,
   "metadata": {},
   "outputs": [
    {
     "name": "stderr",
     "output_type": "stream",
     "text": [
      "\u001b[32m2024-06-04 16:01:01.826\u001b[0m | \u001b[1mINFO    \u001b[0m | \u001b[36mPPLN Doubler TEC (TC720)\u001b[0m | \u001b[36mTEC_TC720.py\u001b[0m:\u001b[36mconnect\u001b[0m:\u001b[36m126\u001b[0m\n",
      "\u001b[1mPPLN Doubler TEC (TC720) connected\u001b[0m\n"
     ]
    },
    {
     "data": {
      "text/plain": [
       "1"
      ]
     },
     "execution_count": 90,
     "metadata": {},
     "output_type": "execute_result"
    }
   ],
   "source": [
    "\n",
    "from KeckLFC.Hardware.TEC_TC720 import TEC_TC720\n",
    "\n",
    "tec_ppln = TEC_TC720(addr=f'COM{22}', name='PPLN Doubler TEC (TC720)')\n",
    "tec_ppln.connect()\n",
    "#tec_ppln.get_mode()\n",
    "        \n",
    "       "
   ]
  },
  {
   "cell_type": "code",
   "execution_count": 30,
   "metadata": {},
   "outputs": [
    {
     "data": {
      "text/plain": [
       "0"
      ]
     },
     "execution_count": 30,
     "metadata": {},
     "output_type": "execute_result"
    }
   ],
   "source": [
    "tec_ppln.get_control_type()"
   ]
  },
  {
   "cell_type": "code",
   "execution_count": 91,
   "metadata": {},
   "outputs": [
    {
     "data": {
      "text/plain": [
       "23.93"
      ]
     },
     "execution_count": 91,
     "metadata": {},
     "output_type": "execute_result"
    }
   ],
   "source": [
    "tec_ppln.get_temp()"
   ]
  },
  {
   "cell_type": "code",
   "execution_count": 32,
   "metadata": {},
   "outputs": [],
   "source": [
    "tec_ppln.set_temp(22)"
   ]
  },
  {
   "cell_type": "code",
   "execution_count": 99,
   "metadata": {},
   "outputs": [],
   "source": [
    "import time\n",
    "import numpy as np"
   ]
  },
  {
   "cell_type": "code",
   "execution_count": 100,
   "metadata": {},
   "outputs": [
    {
     "name": "stdout",
     "output_type": "stream",
     "text": [
      "22.46\n",
      "22.82\n",
      "20.18\n"
     ]
    }
   ],
   "source": [
    "now_temp=tec_ppln.get_temp()\n",
    "set_temp=20.1\n",
    "\n",
    "temp_gap=round(set_temp-now_temp,2)\n",
    "\n",
    "int_p=int(temp_gap//0.5 )\n",
    "mod=temp_gap % 0.5\n",
    "if (int_p>0) or (int_p==0):\n",
    "    int_p=int_p\n",
    "else:\n",
    "    int_p=np.abs(int_p)-1\n",
    "\n",
    "for i in range(1,int_p+1):\n",
    "    tec_ppln.set_temp(now_temp+i*0.5)\n",
    "    time.sleep(4)\n",
    "    print(tec_ppln.get_temp())\n",
    "\n",
    "tec_ppln.set_temp(set_temp)\n",
    "time.sleep(4)\n",
    "\n",
    "\n",
    "print(tec_ppln.get_temp())\n"
   ]
  },
  {
   "cell_type": "code",
   "execution_count": 103,
   "metadata": {},
   "outputs": [
    {
     "name": "stderr",
     "output_type": "stream",
     "text": [
      "\u001b[32m2024-06-04 16:14:59.634\u001b[0m | \u001b[1mINFO    \u001b[0m | \u001b[36mPPLN Doubler TEC (TC720)\u001b[0m | \u001b[36mTEC_TC720.py\u001b[0m:\u001b[36mdisconnect\u001b[0m:\u001b[36m150\u001b[0m\n",
      "\u001b[1mPPLN Doubler TEC (TC720) disconnected\u001b[0m\n"
     ]
    },
    {
     "data": {
      "text/plain": [
       "1"
      ]
     },
     "execution_count": 103,
     "metadata": {},
     "output_type": "execute_result"
    }
   ],
   "source": [
    "tec_ppln.disconnect()"
   ]
  },
  {
   "cell_type": "code",
   "execution_count": 93,
   "metadata": {},
   "outputs": [
    {
     "data": {
      "text/plain": [
       "-2.68"
      ]
     },
     "execution_count": 93,
     "metadata": {},
     "output_type": "execute_result"
    }
   ],
   "source": [
    "temp_gap"
   ]
  },
  {
   "cell_type": "code",
   "execution_count": 96,
   "metadata": {},
   "outputs": [
    {
     "data": {
      "text/plain": [
       "(0, 0.0)"
      ]
     },
     "execution_count": 96,
     "metadata": {},
     "output_type": "execute_result"
    }
   ],
   "source": [
    "int_p,mod"
   ]
  },
  {
   "cell_type": "code",
   "execution_count": 24,
   "metadata": {},
   "outputs": [
    {
     "data": {
      "text/plain": [
       "16.55"
      ]
     },
     "execution_count": 24,
     "metadata": {},
     "output_type": "execute_result"
    }
   ],
   "source": [
    "tec_ppln.get_temp2()"
   ]
  },
  {
   "cell_type": "code",
   "execution_count": 316,
   "metadata": {},
   "outputs": [
    {
     "name": "stderr",
     "output_type": "stream",
     "text": [
      "\u001b[32m2024-04-11 13:28:20.620\u001b[0m | \u001b[1mINFO    \u001b[0m | \u001b[36mPPLN Doubler TEC (TC720)\u001b[0m | \u001b[36mTEC_TC720.py\u001b[0m:\u001b[36mdisconnect\u001b[0m:\u001b[36m150\u001b[0m\n",
      "\u001b[1mPPLN Doubler TEC (TC720) disconnected\u001b[0m\n"
     ]
    },
    {
     "data": {
      "text/plain": [
       "1"
      ]
     },
     "execution_count": 316,
     "metadata": {},
     "output_type": "execute_result"
    }
   ],
   "source": [
    "tec_ppln.disconnect()"
   ]
  },
  {
   "cell_type": "code",
   "execution_count": 27,
   "metadata": {},
   "outputs": [
    {
     "name": "stdout",
     "output_type": "stream",
     "text": [
      "Looking for Board 0 in InstaCal to be USB-2408 series...\n",
      "USB-2408 found as Board number 0.\n",
      "\n",
      "USB-2408 DAQ in Electronics Rack: set channel 0 done\n",
      "USB-2408 DAQ in Electronics Rack: set channel 1 done\n",
      "USB-2408 DAQ in Electronics Rack: set channel 2 done\n",
      "USB-2408 DAQ in Electronics Rack: set channel 3 done\n",
      "USB-2408 DAQ in Electronics Rack: set channel 4 done\n",
      "USB-2408 DAQ in Electronics Rack: set channel 5 done\n",
      "USB-2408 DAQ in Electronics Rack: set channel 6 done\n",
      "USB-2408 DAQ in Electronics Rack: set channel 7 done\n",
      "USB-2408 DAQ in Electronics Rack connected.\n"
     ]
    },
    {
     "data": {
      "text/plain": [
       "1"
      ]
     },
     "execution_count": 27,
     "metadata": {},
     "output_type": "execute_result"
    }
   ],
   "source": [
    "from KeckLFC.Hardware.USB2408 import USB2408\n",
    "daq0=USB2408(addr=0)\n",
    "daq0.connect()"
   ]
  },
  {
   "cell_type": "code",
   "execution_count": 28,
   "metadata": {},
   "outputs": [
    {
     "name": "stdout",
     "output_type": "stream",
     "text": [
      "USB-2408 DAQ in Electronics Rack: Channel 0:  27.317 Degrees.\t Position at Rack side buffle (middle side rack).\n",
      "USB-2408 DAQ in Electronics Rack: Channel 1:  27.479 Degrees.\t Position at Waveshaper (upper rack).\n",
      "USB-2408 DAQ in Electronics Rack: Channel 2:  34.014 Degrees.\t Position at Rb clock (middle rack).\n",
      "USB-2408 DAQ in Electronics Rack: Channel 3:  27.275 Degrees.\t Position at Pritel (middle upper rack).\n",
      "USB-2408 DAQ in Electronics Rack: Channel 4:  14.449 Degrees.\t Position at Rack Glycol out.\n",
      "USB-2408 DAQ in Electronics Rack: Channel 5:  9.785 Degrees.\t Position at Rack Glycol in.\n",
      "USB-2408 DAQ in Electronics Rack: Channel 6:  19.106 Degrees.\t Position at Power Supply Shelf (bottom rack).\n",
      "Error: Error 145: Temperature input has open connection.\n",
      "cannot access local variable 'value_temperature' where it is not associated with a value\n"
     ]
    },
    {
     "data": {
      "text/plain": [
       "[27.316503524780273,\n",
       " 27.478805541992188,\n",
       " 34.01416778564453,\n",
       " 27.275047302246094,\n",
       " 14.449472427368164,\n",
       " 9.78514289855957,\n",
       " 19.106029510498047,\n",
       " nan]"
      ]
     },
     "execution_count": 28,
     "metadata": {},
     "output_type": "execute_result"
    }
   ],
   "source": [
    "daq0.get_temp_all()"
   ]
  },
  {
   "cell_type": "code",
   "execution_count": null,
   "metadata": {},
   "outputs": [],
   "source": []
  }
 ],
 "metadata": {
  "kernelspec": {
   "display_name": "lfc-env",
   "language": "python",
   "name": "python3"
  },
  "language_info": {
   "codemirror_mode": {
    "name": "ipython",
    "version": 3
   },
   "file_extension": ".py",
   "mimetype": "text/x-python",
   "name": "python",
   "nbconvert_exporter": "python",
   "pygments_lexer": "ipython3",
   "version": "3.11.5"
  }
 },
 "nbformat": 4,
 "nbformat_minor": 2
}
