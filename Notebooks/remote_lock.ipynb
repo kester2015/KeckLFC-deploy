{
 "cells": [
  {
   "cell_type": "code",
   "execution_count": 1,
   "metadata": {},
   "outputs": [
    {
     "name": "stderr",
     "output_type": "stream",
     "text": [
      "\u001b[32m2023-09-05 10:26:31.988\u001b[0m | \u001b[1mINFO    \u001b[0m | \u001b[36mDevice\u001b[0m | \u001b[36mDevice.py\u001b[0m:\u001b[36m<module>\u001b[0m:\u001b[36m44\u001b[0m\n",
      "\u001b[1mlogger initialized\u001b[0m\n"
     ]
    }
   ],
   "source": [
    "import numpy as np\n",
    "import matplotlib.pyplot as plt\n",
    "import time\n",
    "\n",
    "from LFC.Hardware.SRS_SIM900 import SRS_SIM900, SRS_PIDcontrol_SIM960\n",
    "from LFC.Hardware.Waveshaper import Waveshaper\n",
    "from LFC.Hardware.AndoOSA_AQ6315E import AndoOSA_AQ6315E\n",
    "from LFC.Hardware.PritelAmp import PritelAmp\n",
    "from LFC.Hardware.ORIONLaser import ORIONLaser\n",
    "from LFC.Hardware.AmonicsEDFA import AmonicsEDFA\n",
    "from LFC.Hardware.InstekGppDCSupply import InstekGppDCSupply\n",
    "from LFC.Hardware.InstekGPD_4303S import InstekGPD_4303S\n",
    "from LFC.Hardware.TEC_LFC3751 import TEC_LFC3751\n",
    "from LFC.Hardware.TEC_LDT5525B import TEC_LDT5525B\n",
    "from LFC.Hardware.PendulumCNT90 import PendulumCNT90\n",
    "from LFC.Hardware.OZopticsVOA import OZopticsVOA"
   ]
  },
  {
   "cell_type": "code",
   "execution_count": null,
   "metadata": {},
   "outputs": [],
   "source": []
  },
  {
   "cell_type": "code",
   "execution_count": null,
   "metadata": {},
   "outputs": [],
   "source": []
  },
  {
   "cell_type": "code",
   "execution_count": null,
   "metadata": {},
   "outputs": [],
   "source": []
  },
  {
   "cell_type": "code",
   "execution_count": null,
   "metadata": {},
   "outputs": [],
   "source": []
  },
  {
   "cell_type": "code",
   "execution_count": 2,
   "metadata": {},
   "outputs": [
    {
     "name": "stderr",
     "output_type": "stream",
     "text": [
      "\u001b[32m2023-08-22 10:34:43.739\u001b[0m | \u001b[1mINFO    \u001b[0m | \u001b[36mORION Laser Module\u001b[0m | \u001b[36mDevice.py\u001b[0m:\u001b[36mconnect\u001b[0m:\u001b[36m71\u001b[0m\n",
      "\u001b[1mORION Laser Module connected\u001b[0m\n"
     ]
    },
    {
     "ename": "AttributeError",
     "evalue": "'int' object has no attribute 'format'",
     "output_type": "error",
     "traceback": [
      "\u001b[1;31m---------------------------------------------------------------------------\u001b[0m",
      "\u001b[1;31mAttributeError\u001b[0m                            Traceback (most recent call last)",
      "\u001b[1;32mc:\\Users\\HSFLFC\\Desktop\\Keck\\Keck Comb\\remote_lock.ipynb Cell 2\u001b[0m in \u001b[0;36m<cell line: 4>\u001b[1;34m()\u001b[0m\n\u001b[0;32m      <a href='vscode-notebook-cell:/c%3A/Users/HSFLFC/Desktop/Keck/Keck%20Comb/remote_lock.ipynb#W1sZmlsZQ%3D%3D?line=1'>2</a>\u001b[0m rio \u001b[39m=\u001b[39m ORIONLaser(addr\u001b[39m=\u001b[39m\u001b[39m'\u001b[39m\u001b[39mASRL55::INSTR\u001b[39m\u001b[39m'\u001b[39m)\n\u001b[0;32m      <a href='vscode-notebook-cell:/c%3A/Users/HSFLFC/Desktop/Keck/Keck%20Comb/remote_lock.ipynb#W1sZmlsZQ%3D%3D?line=2'>3</a>\u001b[0m rio\u001b[39m.\u001b[39mconnect()\n\u001b[1;32m----> <a href='vscode-notebook-cell:/c%3A/Users/HSFLFC/Desktop/Keck/Keck%20Comb/remote_lock.ipynb#W1sZmlsZQ%3D%3D?line=3'>4</a>\u001b[0m rio\u001b[39m.\u001b[39;49mprintStatus()\n",
      "File \u001b[1;32mc:\\Users\\HSFLFC\\Desktop\\Keck\\Keck Comb\\LFC\\Hardware\\ORIONLaser.py:38\u001b[0m, in \u001b[0;36mORIONLaser.printStatus\u001b[1;34m(self)\u001b[0m\n\u001b[0;32m     36\u001b[0m message \u001b[39m=\u001b[39m message \u001b[39m+\u001b[39m \u001b[39mstr\u001b[39m(\u001b[39m\"\u001b[39m\u001b[39mProduct ID: \u001b[39m\u001b[39m\"\u001b[39m \u001b[39m+\u001b[39m ID \u001b[39m+\u001b[39m \u001b[39m\"\u001b[39m\u001b[39m, Ver \u001b[39m\u001b[39m\"\u001b[39m \u001b[39m+\u001b[39m ver \u001b[39m+\u001b[39m \u001b[39mf\u001b[39m\u001b[39m\"\u001b[39m\u001b[39m, SN: \u001b[39m\u001b[39m{\u001b[39;00mSN\u001b[39m}\u001b[39;00m\u001b[39m\"\u001b[39m)\u001b[39m.\u001b[39mcenter(\u001b[39m80\u001b[39m, \u001b[39m'\u001b[39m\u001b[39m-\u001b[39m\u001b[39m'\u001b[39m) \u001b[39m+\u001b[39m \u001b[39m\"\u001b[39m\u001b[39m\\n\u001b[39;00m\u001b[39m\"\u001b[39m\n\u001b[0;32m     37\u001b[0m time\u001b[39m.\u001b[39msleep(\u001b[39m0.1\u001b[39m)\n\u001b[1;32m---> 38\u001b[0m message \u001b[39m=\u001b[39m message \u001b[39m+\u001b[39m \u001b[39mf\u001b[39m\u001b[39m\"\u001b[39m\u001b[39m|\u001b[39m\u001b[39m\\t\u001b[39;00m\u001b[39m Status Code: \u001b[39m\u001b[39m{\u001b[39;00m\u001b[39mself\u001b[39m\u001b[39m.\u001b[39mreadStatus()\u001b[39m}\u001b[39;00m\u001b[39m\\n\u001b[39;00m\u001b[39m\"\u001b[39m\n\u001b[0;32m     39\u001b[0m time\u001b[39m.\u001b[39msleep(\u001b[39m0.1\u001b[39m)\n\u001b[0;32m     40\u001b[0m message \u001b[39m=\u001b[39m message \u001b[39m+\u001b[39m \u001b[39mf\u001b[39m\u001b[39m\"\u001b[39m\u001b[39m|\u001b[39m\u001b[39m\\t\u001b[39;00m\u001b[39m Photo monitor voltage: \u001b[39m\u001b[39m{\u001b[39;00m\u001b[39mself\u001b[39m\u001b[39m.\u001b[39mreadPhotomonitorV()\u001b[39m:\u001b[39;00m\u001b[39m.3f\u001b[39m\u001b[39m}\u001b[39;00m\u001b[39m Volt (also mA, r=1kOhm)\u001b[39m\u001b[39m\\n\u001b[39;00m\u001b[39m\"\u001b[39m\n",
      "File \u001b[1;32mc:\\Users\\HSFLFC\\Desktop\\Keck\\Keck Comb\\LFC\\Hardware\\ORIONLaser.py:81\u001b[0m, in \u001b[0;36mORIONLaser.readStatus\u001b[1;34m(self)\u001b[0m\n\u001b[0;32m     79\u001b[0m W2 \u001b[39m=\u001b[39m response[\u001b[39m'\u001b[39m\u001b[39mdata\u001b[39m\u001b[39m'\u001b[39m][\u001b[39m1\u001b[39m]\n\u001b[0;32m     80\u001b[0m W3 \u001b[39m=\u001b[39m response[\u001b[39m'\u001b[39m\u001b[39mdata\u001b[39m\u001b[39m'\u001b[39m][\u001b[39m2\u001b[39m]\n\u001b[1;32m---> 81\u001b[0m \u001b[39mself\u001b[39;49m\u001b[39m.\u001b[39;49minfo(W1)\n\u001b[0;32m     82\u001b[0m \u001b[39mself\u001b[39m\u001b[39m.\u001b[39minfo(W2)\n\u001b[0;32m     83\u001b[0m \u001b[39mself\u001b[39m\u001b[39m.\u001b[39minfo(W3)\n",
      "File \u001b[1;32mc:\\Users\\HSFLFC\\Desktop\\Keck\\Keck Comb\\LFC\\Hardware\\Device.py:104\u001b[0m, in \u001b[0;36mDevice.info\u001b[1;34m(self, x, name, level)\u001b[0m\n\u001b[0;32m    103\u001b[0m \u001b[39mdef\u001b[39;00m \u001b[39minfo\u001b[39m(\u001b[39mself\u001b[39m, x, name\u001b[39m=\u001b[39m\u001b[39m'\u001b[39m\u001b[39m'\u001b[39m, level\u001b[39m=\u001b[39m\u001b[39m1\u001b[39m):\n\u001b[1;32m--> 104\u001b[0m     logger\u001b[39m.\u001b[39;49minfo(x, devicename\u001b[39m=\u001b[39;49mname \u001b[39mor\u001b[39;49;00m \u001b[39mself\u001b[39;49m\u001b[39m.\u001b[39;49mdevicename, \u001b[39m*\u001b[39;49m\u001b[39m*\u001b[39;49mget_call_kwargs(level))\n",
      "File \u001b[1;32mc:\\Users\\HSFLFC\\.conda\\envs\\lfc\\lib\\site-packages\\loguru\\_logger.py:2014\u001b[0m, in \u001b[0;36mLogger.info\u001b[1;34m(_Logger__self, _Logger__message, *args, **kwargs)\u001b[0m\n\u001b[0;32m   2012\u001b[0m \u001b[39mdef\u001b[39;00m \u001b[39minfo\u001b[39m(__self, __message, \u001b[39m*\u001b[39margs, \u001b[39m*\u001b[39m\u001b[39m*\u001b[39mkwargs):  \u001b[39m# noqa: N805\u001b[39;00m\n\u001b[0;32m   2013\u001b[0m     \u001b[39mr\u001b[39m\u001b[39m\"\"\"Log ``message.format(*args, **kwargs)`` with severity ``'INFO'``.\"\"\"\u001b[39;00m\n\u001b[1;32m-> 2014\u001b[0m     __self\u001b[39m.\u001b[39;49m_log(\u001b[39m\"\u001b[39;49m\u001b[39mINFO\u001b[39;49m\u001b[39m\"\u001b[39;49m, \u001b[39mFalse\u001b[39;49;00m, __self\u001b[39m.\u001b[39;49m_options, __message, args, kwargs)\n",
      "File \u001b[1;32mc:\\Users\\HSFLFC\\.conda\\envs\\lfc\\lib\\site-packages\\loguru\\_logger.py:1991\u001b[0m, in \u001b[0;36mLogger._log\u001b[1;34m(self, level, from_decorator, options, message, args, kwargs)\u001b[0m\n\u001b[0;32m   1989\u001b[0m \u001b[39melif\u001b[39;00m args \u001b[39mor\u001b[39;00m kwargs:\n\u001b[0;32m   1990\u001b[0m     colored_message \u001b[39m=\u001b[39m \u001b[39mNone\u001b[39;00m\n\u001b[1;32m-> 1991\u001b[0m     log_record[\u001b[39m\"\u001b[39m\u001b[39mmessage\u001b[39m\u001b[39m\"\u001b[39m] \u001b[39m=\u001b[39m message\u001b[39m.\u001b[39;49mformat(\u001b[39m*\u001b[39margs, \u001b[39m*\u001b[39m\u001b[39m*\u001b[39mkwargs)\n\u001b[0;32m   1992\u001b[0m \u001b[39melse\u001b[39;00m:\n\u001b[0;32m   1993\u001b[0m     colored_message \u001b[39m=\u001b[39m \u001b[39mNone\u001b[39;00m\n",
      "\u001b[1;31mAttributeError\u001b[0m: 'int' object has no attribute 'format'"
     ]
    }
   ],
   "source": [
    "from LFC.Hardware.ORIONLaser import ORIONLaser\n",
    "rio = ORIONLaser(addr='ASRL55::INSTR')\n",
    "rio.connect()\n",
    "rio.printStatus()"
   ]
  },
  {
   "cell_type": "code",
   "execution_count": 1,
   "metadata": {},
   "outputs": [
    {
     "name": "stderr",
     "output_type": "stream",
     "text": [
      "\u001b[32m2023-08-28 18:58:30.222\u001b[0m | \u001b[1mINFO    \u001b[0m | \u001b[36mDevice\u001b[0m | \u001b[36mDevice.py\u001b[0m:\u001b[36m<module>\u001b[0m:\u001b[36m44\u001b[0m\n",
      "\u001b[1mlogger initialized\u001b[0m\n",
      "\u001b[32m2023-08-28 18:58:31.801\u001b[0m | \u001b[1mINFO    \u001b[0m | \u001b[36mRF oscilator PS, CH2 15V, CH3 1V\u001b[0m | \u001b[36mDevice.py\u001b[0m:\u001b[36mconnect\u001b[0m:\u001b[36m71\u001b[0m\n",
      "\u001b[1mRF oscilator PS, CH2 15V, CH3 1V connected\u001b[0m\n",
      "\u001b[32m2023-08-28 18:58:34.987\u001b[0m | \u001b[1mINFO    \u001b[0m | \u001b[36mRF oscilator PS, CH2 15V, CH3 1V\u001b[0m | \u001b[36mInstekGPD_4303S.py\u001b[0m:\u001b[36mprintStatus\u001b[0m:\u001b[36m200\u001b[0m\n",
      "\u001b[1m-------------------------RF oscilator PS, CH2 15V, CH3 1V------------------------\n",
      "|----------------Instek DC Power Supply GPD-4303S Status Summary-----------------\n",
      "|--------------------Model: GPD-4303S, Serial No.SN:EV884423---------------------\n",
      "|\tMaster Activation: \u001b[1;34;41mOFF\u001b[0m\n",
      "|\t------------Channel Summary-------------\n",
      "|\t CH1: master, CH2: slave, mode UNRECOGNIZED?.\n",
      "|\t CHANNEL1: CC Mode.\n",
      "|\t\t VSET=0.000V, ISET=0.000A.\n",
      "|\t\t VOUT=0.000V, IOUT=0.000A.\n",
      "|\t\t Output power: 0.000W.\n",
      "|\t CHANNEL2: CC Mode.\n",
      "|\t\t VSET=15.000V, ISET=3.000A.\n",
      "|\t\t VOUT=0.000V, IOUT=0.000A.\n",
      "|\t\t Output power: 0.000W.\n",
      "|\t CHANNEL3: CC Mode.\n",
      "|\t\t VSET=0.830V, ISET=1.000A.\n",
      "|\t\t VOUT=0.000V, IOUT=0.000A.\n",
      "|\t\t Output power: 0.000W.\n",
      "|\t CHANNEL4: CV Mode.\n",
      "|\t\t VSET=0.000V, ISET=0.000A.\n",
      "|\t\t VOUT=0.000V, IOUT=0.000A.\n",
      "|\t\t Output power: 0.000W.\n",
      "--------------Instek DC Power Supply GPD-4303S Status Summary Ends--------------\n",
      "\u001b[0m\n"
     ]
    },
    {
     "data": {
      "text/plain": [
       "'-------------------------RF oscilator PS, CH2 15V, CH3 1V------------------------\\n|----------------Instek DC Power Supply GPD-4303S Status Summary-----------------\\n|--------------------Model: GPD-4303S, Serial No.SN:EV884423---------------------\\n|\\tMaster Activation: \\x1b[1;34;41mOFF\\x1b[0m\\n|\\t------------Channel Summary-------------\\n|\\t CH1: master, CH2: slave, mode UNRECOGNIZED?.\\n|\\t CHANNEL1: CC Mode.\\n|\\t\\t VSET=0.000V, ISET=0.000A.\\n|\\t\\t VOUT=0.000V, IOUT=0.000A.\\n|\\t\\t Output power: 0.000W.\\n|\\t CHANNEL2: CC Mode.\\n|\\t\\t VSET=15.000V, ISET=3.000A.\\n|\\t\\t VOUT=0.000V, IOUT=0.000A.\\n|\\t\\t Output power: 0.000W.\\n|\\t CHANNEL3: CC Mode.\\n|\\t\\t VSET=0.830V, ISET=1.000A.\\n|\\t\\t VOUT=0.000V, IOUT=0.000A.\\n|\\t\\t Output power: 0.000W.\\n|\\t CHANNEL4: CV Mode.\\n|\\t\\t VSET=0.000V, ISET=0.000A.\\n|\\t\\t VOUT=0.000V, IOUT=0.000A.\\n|\\t\\t Output power: 0.000W.\\n--------------Instek DC Power Supply GPD-4303S Status Summary Ends--------------\\n'"
      ]
     },
     "execution_count": 1,
     "metadata": {},
     "output_type": "execute_result"
    }
   ],
   "source": [
    "from LFC.Hardware.InstekGPD_4303S import InstekGPD_4303S\n",
    "rfoscPS = InstekGPD_4303S(addr='ASRL5::INSTR', name='RF oscilator PS, CH2 15V, CH3 1V')\n",
    "rfoscPS.connect()\n",
    "rfoscPS.printStatus()"
   ]
  },
  {
   "cell_type": "code",
   "execution_count": 4,
   "metadata": {},
   "outputs": [
    {
     "name": "stdout",
     "output_type": "stream",
     "text": [
      "0.43\n",
      "0.431\n",
      "0.433\n",
      "0.434\n",
      "0.436\n",
      "0.436\n",
      "0.438\n",
      "0.44\n",
      "0.441\n",
      "0.441\n",
      "0.441\n",
      "0.442\n",
      "0.441\n",
      "0.441\n",
      "0.439\n",
      "0.439\n",
      "0.438\n",
      "0.437\n",
      "0.436\n",
      "0.436\n",
      "0.436\n",
      "0.435\n",
      "0.435\n",
      "0.435\n",
      "0.435\n",
      "0.435\n",
      "0.435\n",
      "0.435\n",
      "0.435\n",
      "0.436\n",
      "0.436\n",
      "0.437\n",
      "0.437\n",
      "0.438\n",
      "0.438\n",
      "0.438\n",
      "0.438\n",
      "0.437\n",
      "0.437\n",
      "0.437\n",
      "0.437\n",
      "0.437\n",
      "0.436\n",
      "0.436\n",
      "0.436\n",
      "0.436\n",
      "0.436\n",
      "0.436\n",
      "0.436\n",
      "0.436\n",
      "0.436\n",
      "0.436\n",
      "0.436\n",
      "0.436\n",
      "0.436\n",
      "0.436\n",
      "0.436\n",
      "0.436\n",
      "0.436\n",
      "0.437\n",
      "0.437\n",
      "0.437\n",
      "0.436\n",
      "0.436\n",
      "0.436\n",
      "0.436\n",
      "0.436\n",
      "0.436\n",
      "0.436\n",
      "0.436\n",
      "0.436\n",
      "0.436\n",
      "0.436\n",
      "0.436\n",
      "0.436\n",
      "0.436\n",
      "0.436\n",
      "0.436\n",
      "0.436\n",
      "0.436\n",
      "0.436\n",
      "0.436\n",
      "0.436\n",
      "0.436\n",
      "0.436\n",
      "0.436\n",
      "0.436\n",
      "0.436\n",
      "0.436\n",
      "0.436\n",
      "0.436\n",
      "0.436\n",
      "0.436\n",
      "0.436\n",
      "0.436\n",
      "0.436\n",
      "0.436\n",
      "0.435\n",
      "0.435\n",
      "0.435\n"
     ]
    }
   ],
   "source": [
    "for ii in range(100):\n",
    "    print(rfoscPS.Iout2)\n",
    "    import time\n",
    "    time.sleep(0.1)"
   ]
  },
  {
   "cell_type": "code",
   "execution_count": 91,
   "metadata": {},
   "outputs": [
    {
     "name": "stderr",
     "output_type": "stream",
     "text": [
      "\u001b[32m2023-08-09 14:36:28.141\u001b[0m | \u001b[1mINFO    \u001b[0m | \u001b[36mRF oscilator PS, CH2 15V, CH3 1V\u001b[0m | \u001b[36mInstekGPD_4303S.py\u001b[0m:\u001b[36mactivation\u001b[0m:\u001b[36m44\u001b[0m\n",
      "\u001b[1mInstek GPD-4303S DCSupply: Output activation is turned OFF.\u001b[0m\n",
      "\u001b[32m2023-08-09 14:36:31.348\u001b[0m | \u001b[1mINFO    \u001b[0m | \u001b[36mRF oscilator PS, CH2 15V, CH3 1V\u001b[0m | \u001b[36mInstekGPD_4303S.py\u001b[0m:\u001b[36mprintStatus\u001b[0m:\u001b[36m200\u001b[0m\n",
      "\u001b[1m-------------------------RF oscilator PS, CH2 15V, CH3 1V------------------------\n",
      "|----------------Instek DC Power Supply GPD-4303S Status Summary-----------------\n",
      "|--------------------Model: GPD-4303S, Serial No.SN:EV884423---------------------\n",
      "|\tMaster Activation: \u001b[1;34;41mOFF\u001b[0m\n",
      "|\t------------Channel Summary-------------\n",
      "|\t CH1: master, CH2: slave, mode UNRECOGNIZED?.\n",
      "|\t CHANNEL1: CC Mode.\n",
      "|\t\t VSET=0.000V, ISET=0.000A.\n",
      "|\t\t VOUT=0.000V, IOUT=0.000A.\n",
      "|\t\t Output power: 0.000W.\n",
      "|\t CHANNEL2: CC Mode.\n",
      "|\t\t VSET=15.000V, ISET=3.000A.\n",
      "|\t\t VOUT=0.000V, IOUT=0.000A.\n",
      "|\t\t Output power: 0.000W.\n",
      "|\t CHANNEL3: CC Mode.\n",
      "|\t\t VSET=0.700V, ISET=1.000A.\n",
      "|\t\t VOUT=0.000V, IOUT=0.000A.\n",
      "|\t\t Output power: 0.000W.\n",
      "|\t CHANNEL4: CV Mode.\n",
      "|\t\t VSET=0.000V, ISET=0.000A.\n",
      "|\t\t VOUT=0.000V, IOUT=0.000A.\n",
      "|\t\t Output power: 0.000W.\n",
      "--------------Instek DC Power Supply GPD-4303S Status Summary Ends--------------\n",
      "\u001b[0m\n"
     ]
    },
    {
     "data": {
      "text/plain": [
       "'-------------------------RF oscilator PS, CH2 15V, CH3 1V------------------------\\n|----------------Instek DC Power Supply GPD-4303S Status Summary-----------------\\n|--------------------Model: GPD-4303S, Serial No.SN:EV884423---------------------\\n|\\tMaster Activation: \\x1b[1;34;41mOFF\\x1b[0m\\n|\\t------------Channel Summary-------------\\n|\\t CH1: master, CH2: slave, mode UNRECOGNIZED?.\\n|\\t CHANNEL1: CC Mode.\\n|\\t\\t VSET=0.000V, ISET=0.000A.\\n|\\t\\t VOUT=0.000V, IOUT=0.000A.\\n|\\t\\t Output power: 0.000W.\\n|\\t CHANNEL2: CC Mode.\\n|\\t\\t VSET=15.000V, ISET=3.000A.\\n|\\t\\t VOUT=0.000V, IOUT=0.000A.\\n|\\t\\t Output power: 0.000W.\\n|\\t CHANNEL3: CC Mode.\\n|\\t\\t VSET=0.700V, ISET=1.000A.\\n|\\t\\t VOUT=0.000V, IOUT=0.000A.\\n|\\t\\t Output power: 0.000W.\\n|\\t CHANNEL4: CV Mode.\\n|\\t\\t VSET=0.000V, ISET=0.000A.\\n|\\t\\t VOUT=0.000V, IOUT=0.000A.\\n|\\t\\t Output power: 0.000W.\\n--------------Instek DC Power Supply GPD-4303S Status Summary Ends--------------\\n'"
      ]
     },
     "execution_count": 91,
     "metadata": {},
     "output_type": "execute_result"
    }
   ],
   "source": [
    "rfoscPS.activation = 0\n",
    "rfoscPS.printStatus()"
   ]
  },
  {
   "cell_type": "code",
   "execution_count": null,
   "metadata": {},
   "outputs": [],
   "source": []
  },
  {
   "cell_type": "code",
   "execution_count": 1,
   "metadata": {},
   "outputs": [
    {
     "name": "stderr",
     "output_type": "stream",
     "text": [
      "\u001b[32m2023-08-28 19:07:13.514\u001b[0m | \u001b[1mINFO    \u001b[0m | \u001b[36mDevice\u001b[0m | \u001b[36mDevice.py\u001b[0m:\u001b[36m<module>\u001b[0m:\u001b[36m44\u001b[0m\n",
      "\u001b[1mlogger initialized\u001b[0m\n",
      "\u001b[32m2023-08-28 19:07:14.391\u001b[0m | \u001b[1mINFO    \u001b[0m | \u001b[36mRF amplifier PS 30V 4A\u001b[0m | \u001b[36mDevice.py\u001b[0m:\u001b[36mconnect\u001b[0m:\u001b[36m71\u001b[0m\n",
      "\u001b[1mRF amplifier PS 30V 4A connected\u001b[0m\n",
      "\u001b[32m2023-08-28 19:07:14.534\u001b[0m | \u001b[1mINFO    \u001b[0m | \u001b[36mRF amplifier PS 30V 4A\u001b[0m | \u001b[36mInstekGppDCSupply.py\u001b[0m:\u001b[36mprintStatus\u001b[0m:\u001b[36m56\u001b[0m\n",
      "\u001b[1m------------------------------RF amplifier PS 30V 4A-----------------------------\n",
      "|-------------------Instek GPP DC Power Supply Status Summary--------------------\n",
      "|--------------------Model: GPP-1326, Serial No.SN:GET921679---------------------\n",
      "|\t------------Channel Summary-------------\n",
      "|\t CHANNEL1: Activation \u001b[1;34;41mOFF\u001b[0m.\n",
      "|\t\t VSET=30.000V, ISET=6.000A.\n",
      "|\t\t VOUT=0.000V, IOUT=0.000A.\n",
      "|\t\t Output power: 0.000W.\n",
      "|\t\t ---Over Voltage/Current Protection Status:---\n",
      "|\t\t OVP Status: OFF\t OCP Status: OFF \n",
      "|\t\t OVP Level : 35.0 V\t OCP Level : 7.0 A\n",
      "-----------------Instek GPP DC Power Supply Status Summary Ends-----------------\n",
      "\u001b[0m\n"
     ]
    },
    {
     "data": {
      "text/plain": [
       "'------------------------------RF amplifier PS 30V 4A-----------------------------\\n|-------------------Instek GPP DC Power Supply Status Summary--------------------\\n|--------------------Model: GPP-1326, Serial No.SN:GET921679---------------------\\n|\\t------------Channel Summary-------------\\n|\\t CHANNEL1: Activation \\x1b[1;34;41mOFF\\x1b[0m.\\n|\\t\\t VSET=30.000V, ISET=6.000A.\\n|\\t\\t VOUT=0.000V, IOUT=0.000A.\\n|\\t\\t Output power: 0.000W.\\n|\\t\\t ---Over Voltage/Current Protection Status:---\\n|\\t\\t OVP Status: OFF\\t OCP Status: OFF \\n|\\t\\t OVP Level : 35.0 V\\t OCP Level : 7.0 A\\n-----------------Instek GPP DC Power Supply Status Summary Ends-----------------\\n'"
      ]
     },
     "execution_count": 1,
     "metadata": {},
     "output_type": "execute_result"
    }
   ],
   "source": [
    "from LFC.Hardware.InstekGppDCSupply import InstekGppDCSupply\n",
    "rfampPS = InstekGppDCSupply(addr='ASRL34::INSTR', name='RF amplifier PS 30V 4A')\n",
    "rfampPS.connect()\n",
    "rfampPS.printStatus()"
   ]
  },
  {
   "cell_type": "code",
   "execution_count": 84,
   "metadata": {},
   "outputs": [
    {
     "name": "stderr",
     "output_type": "stream",
     "text": [
      "\u001b[32m2023-08-09 14:27:56.582\u001b[0m | \u001b[1mINFO    \u001b[0m | \u001b[36mRF amplifier PS 30V 4A\u001b[0m | \u001b[36mInstekGppDCSupply.py\u001b[0m:\u001b[36m_setOutputStatus\u001b[0m:\u001b[36m237\u001b[0m\n",
      "\u001b[1mRF amplifier PS 30V 4A: channel 1 output is turned OFF\u001b[0m\n"
     ]
    }
   ],
   "source": [
    "rfampPS.activation1 = 0"
   ]
  },
  {
   "cell_type": "code",
   "execution_count": 90,
   "metadata": {},
   "outputs": [
    {
     "name": "stderr",
     "output_type": "stream",
     "text": [
      "\u001b[32m2023-08-09 14:36:14.366\u001b[0m | \u001b[1mINFO    \u001b[0m | \u001b[36mRF amplifier PS 30V 4A\u001b[0m | \u001b[36mInstekGppDCSupply.py\u001b[0m:\u001b[36mprintStatus\u001b[0m:\u001b[36m56\u001b[0m\n",
      "\u001b[1m------------------------------RF amplifier PS 30V 4A-----------------------------\n",
      "|-------------------Instek GPP DC Power Supply Status Summary--------------------\n",
      "|--------------------Model: GPP-1326, Serial No.SN:GET921679---------------------\n",
      "|\t------------Channel Summary-------------\n",
      "|\t CHANNEL1: Activation \u001b[1;34;41mOFF\u001b[0m.\n",
      "|\t\t VSET=30.000V, ISET=6.000A.\n",
      "|\t\t VOUT=0.000V, IOUT=0.000A.\n",
      "|\t\t Output power: 0.000W.\n",
      "|\t\t ---Over Voltage/Current Protection Status:---\n",
      "|\t\t OVP Status: OFF\t OCP Status: OFF \n",
      "|\t\t OVP Level : 35.0 V\t OCP Level : 7.0 A\n",
      "-----------------Instek GPP DC Power Supply Status Summary Ends-----------------\n",
      "\u001b[0m\n"
     ]
    },
    {
     "data": {
      "text/plain": [
       "'------------------------------RF amplifier PS 30V 4A-----------------------------\\n|-------------------Instek GPP DC Power Supply Status Summary--------------------\\n|--------------------Model: GPP-1326, Serial No.SN:GET921679---------------------\\n|\\t------------Channel Summary-------------\\n|\\t CHANNEL1: Activation \\x1b[1;34;41mOFF\\x1b[0m.\\n|\\t\\t VSET=30.000V, ISET=6.000A.\\n|\\t\\t VOUT=0.000V, IOUT=0.000A.\\n|\\t\\t Output power: 0.000W.\\n|\\t\\t ---Over Voltage/Current Protection Status:---\\n|\\t\\t OVP Status: OFF\\t OCP Status: OFF \\n|\\t\\t OVP Level : 35.0 V\\t OCP Level : 7.0 A\\n-----------------Instek GPP DC Power Supply Status Summary Ends-----------------\\n'"
      ]
     },
     "execution_count": 90,
     "metadata": {},
     "output_type": "execute_result"
    }
   ],
   "source": [
    "rfampPS.printStatus()"
   ]
  },
  {
   "cell_type": "code",
   "execution_count": null,
   "metadata": {},
   "outputs": [],
   "source": []
  },
  {
   "cell_type": "code",
   "execution_count": null,
   "metadata": {},
   "outputs": [],
   "source": []
  },
  {
   "cell_type": "code",
   "execution_count": null,
   "metadata": {},
   "outputs": [],
   "source": []
  },
  {
   "cell_type": "code",
   "execution_count": 4,
   "metadata": {},
   "outputs": [
    {
     "name": "stderr",
     "output_type": "stream",
     "text": [
      "\u001b[32m2023-08-28 19:06:31.984\u001b[0m | \u001b[1mINFO    \u001b[0m | \u001b[36mAmonics EDFA 27 dBm\u001b[0m | \u001b[36mDevice.py\u001b[0m:\u001b[36mconnect\u001b[0m:\u001b[36m71\u001b[0m\n",
      "\u001b[1mAmonics EDFA 27 dBm connected\u001b[0m\n",
      "\u001b[32m2023-08-28 19:06:32.293\u001b[0m | \u001b[1mINFO    \u001b[0m | \u001b[36mAmonics EDFA 27 dBm\u001b[0m | \u001b[36mAmonicsEDFA.py\u001b[0m:\u001b[36mprintStatus\u001b[0m:\u001b[36m49\u001b[0m\n",
      "\u001b[1m-------------------------------Amonics EDFA 27 dBm-------------------------------\n",
      "|--------------------------Amonics EDFA Status Summary---------------------------\n",
      "|------------------Model: AEDFA-PM-27-R-FA, Serial No.21082531-------------------\n",
      "|\tInterLock Status: \u001b[1;34;42mUNLOCKED\u001b[0m\n",
      "|\tCase Temperature: 25.90°C\n",
      "|\tMaster Activation: \u001b[1;34;42mON\u001b[0m\n",
      "|\t------------Channel Summary-------------\n",
      "|\t CHANNEL1: \n",
      "|\t\t Mode: APC\n",
      "|\t\t Set Pwr: 450.0 mW\n",
      "|\t\t Status: \u001b[1;34;42mON\u001b[0m\n",
      "|\t\t Input Power: 15.00944 mW\n",
      "|\t\t Output Power: 449.9385 mW\n",
      "|\t\t Internal PD Power: 326.3539 mW\n",
      "------------------------Amonics EDFA Status Summary Ends------------------------\n",
      "\u001b[0m\n"
     ]
    },
    {
     "data": {
      "text/plain": [
       "'-------------------------------Amonics EDFA 27 dBm-------------------------------\\n|--------------------------Amonics EDFA Status Summary---------------------------\\n|------------------Model: AEDFA-PM-27-R-FA, Serial No.21082531-------------------\\n|\\tInterLock Status: \\x1b[1;34;42mUNLOCKED\\x1b[0m\\n|\\tCase Temperature: 25.90°C\\n|\\tMaster Activation: \\x1b[1;34;42mON\\x1b[0m\\n|\\t------------Channel Summary-------------\\n|\\t CHANNEL1: \\n|\\t\\t Mode: APC\\n|\\t\\t Set Pwr: 450.0 mW\\n|\\t\\t Status: \\x1b[1;34;42mON\\x1b[0m\\n|\\t\\t Input Power: 15.00944 mW\\n|\\t\\t Output Power: 449.9385 mW\\n|\\t\\t Internal PD Power: 326.3539 mW\\n------------------------Amonics EDFA Status Summary Ends------------------------\\n'"
      ]
     },
     "execution_count": 4,
     "metadata": {},
     "output_type": "execute_result"
    }
   ],
   "source": [
    "from LFC.Hardware.AmonicsEDFA import AmonicsEDFA\n",
    "amonic27 = AmonicsEDFA(addr='ASRL7::INSTR', name='Amonics EDFA 27 dBm')\n",
    "amonic27.connect()\n",
    "amonic27.printStatus()"
   ]
  },
  {
   "cell_type": "code",
   "execution_count": null,
   "metadata": {},
   "outputs": [],
   "source": []
  },
  {
   "cell_type": "code",
   "execution_count": 8,
   "metadata": {},
   "outputs": [
    {
     "name": "stderr",
     "output_type": "stream",
     "text": [
      "\u001b[32m2023-08-16 11:21:37.645\u001b[0m | \u001b[1mINFO    \u001b[0m | \u001b[36mAmonics EDFA 27 dBm\u001b[0m | \u001b[36mAmonicsEDFA.py\u001b[0m:\u001b[36m_setChMode\u001b[0m:\u001b[36m297\u001b[0m\n",
      "\u001b[1mAmonics EDFA 27 dBm: CH1 mode set as APC\u001b[0m\n",
      "\u001b[32m2023-08-16 11:21:37.785\u001b[0m | \u001b[1mINFO    \u001b[0m | \u001b[36mAmonics EDFA 27 dBm\u001b[0m | \u001b[36mAmonicsEDFA.py\u001b[0m:\u001b[36m_setIorP\u001b[0m:\u001b[36m229\u001b[0m\n",
      "\u001b[1mAmonics EDFA 27 dBm: setted APC mode CH1 current as 450.0 mW.\u001b[0m\n",
      "\u001b[32m2023-08-16 11:21:38.105\u001b[0m | \u001b[1mINFO    \u001b[0m | \u001b[36mAmonics EDFA 27 dBm\u001b[0m | \u001b[36mAmonicsEDFA.py\u001b[0m:\u001b[36mprintStatus\u001b[0m:\u001b[36m49\u001b[0m\n",
      "\u001b[1m-------------------------------Amonics EDFA 27 dBm-------------------------------\n",
      "|--------------------------Amonics EDFA Status Summary---------------------------\n",
      "|------------------Model: AEDFA-PM-27-R-FA, Serial No.21082531-------------------\n",
      "|\tInterLock Status: \u001b[1;34;42mUNLOCKED\u001b[0m\n",
      "|\tCase Temperature: 24.94°C\n",
      "|\tMaster Activation: \u001b[1;34;41mOFF\u001b[0m\n",
      "|\t------------Channel Summary-------------\n",
      "|\t CHANNEL1: \n",
      "|\t\t Mode: APC\n",
      "|\t\t Set Pwr: 450.0 mW\n",
      "|\t\t Status: \u001b[1;34;41mOFF\u001b[0m\n",
      "|\t\t Input Power: 14.30867 mW\n",
      "|\t\t Output Power: 0.0 mW\n",
      "|\t\t Internal PD Power: 0.0 mW\n",
      "------------------------Amonics EDFA Status Summary Ends------------------------\n",
      "\u001b[0m\n"
     ]
    },
    {
     "data": {
      "text/plain": [
       "'-------------------------------Amonics EDFA 27 dBm-------------------------------\\n|--------------------------Amonics EDFA Status Summary---------------------------\\n|------------------Model: AEDFA-PM-27-R-FA, Serial No.21082531-------------------\\n|\\tInterLock Status: \\x1b[1;34;42mUNLOCKED\\x1b[0m\\n|\\tCase Temperature: 24.94°C\\n|\\tMaster Activation: \\x1b[1;34;41mOFF\\x1b[0m\\n|\\t------------Channel Summary-------------\\n|\\t CHANNEL1: \\n|\\t\\t Mode: APC\\n|\\t\\t Set Pwr: 450.0 mW\\n|\\t\\t Status: \\x1b[1;34;41mOFF\\x1b[0m\\n|\\t\\t Input Power: 14.30867 mW\\n|\\t\\t Output Power: 0.0 mW\\n|\\t\\t Internal PD Power: 0.0 mW\\n------------------------Amonics EDFA Status Summary Ends------------------------\\n'"
      ]
     },
     "execution_count": 8,
     "metadata": {},
     "output_type": "execute_result"
    }
   ],
   "source": [
    "amonic27.modeCh1 = 'APC'\n",
    "amonic27.accCh1Cur = 450\n",
    "amonic27.printStatus()"
   ]
  },
  {
   "cell_type": "code",
   "execution_count": 5,
   "metadata": {},
   "outputs": [
    {
     "name": "stderr",
     "output_type": "stream",
     "text": [
      "\u001b[32m2023-08-28 19:06:39.604\u001b[0m | \u001b[33m\u001b[1mWARNING \u001b[0m | \u001b[36mAmonics EDFA 27 dBm\u001b[0m | \u001b[36mAmonicsEDFA.py\u001b[0m:\u001b[36m_setChStatus\u001b[0m:\u001b[36m268\u001b[0m\n",
      "\u001b[33m\u001b[1mAmonics EDFA 27 dBm: Setting APC CH1 status OFF while activation ON will automatically OFF the activation. Add self.activation='off' before self.accCh1Status='off' \u001b[0m\n",
      "c:\\Users\\HSFLFC\\Desktop\\Keck\\Keck Comb\\LFC\\Hardware\\Device.py:109: UserWarning: Amonics EDFA 27 dBm: Setting APC CH1 status OFF while activation ON will automatically OFF the activation. Add self.activation='off' before self.accCh1Status='off' \n",
      "  warnings.warn(x)\n",
      "\u001b[32m2023-08-28 19:06:39.636\u001b[0m | \u001b[1mINFO    \u001b[0m | \u001b[36mAmonics EDFA 27 dBm\u001b[0m | \u001b[36mAmonicsEDFA.py\u001b[0m:\u001b[36m_setChStatus\u001b[0m:\u001b[36m278\u001b[0m\n",
      "\u001b[1mAmonics EDFA 27 dBm: ......waiting APC CH1 status set to OFF, now ON\u001b[0m\n",
      "\u001b[32m2023-08-28 19:06:39.685\u001b[0m | \u001b[1mINFO    \u001b[0m | \u001b[36mAmonics EDFA 27 dBm\u001b[0m | \u001b[36mAmonicsEDFA.py\u001b[0m:\u001b[36m_setChStatus\u001b[0m:\u001b[36m281\u001b[0m\n",
      "\u001b[1mAmonics EDFA 27 dBm: setted APC CH1 status as OFF, finished in 0.078 seconds\u001b[0m\n",
      "\u001b[32m2023-08-28 19:06:39.716\u001b[0m | \u001b[1mINFO    \u001b[0m | \u001b[36mAmonics EDFA 27 dBm\u001b[0m | \u001b[36mAmonicsEDFA.py\u001b[0m:\u001b[36mactivation\u001b[0m:\u001b[36m195\u001b[0m\n",
      "\u001b[1mAmonics EDFA 27 dBm: setted Activation status as OFF, finished in 0.030 seconds\u001b[0m\n",
      "\u001b[32m2023-08-28 19:06:43.061\u001b[0m | \u001b[1mINFO    \u001b[0m | \u001b[36mAmonics EDFA 27 dBm\u001b[0m | \u001b[36mAmonicsEDFA.py\u001b[0m:\u001b[36mprintStatus\u001b[0m:\u001b[36m49\u001b[0m\n",
      "\u001b[1m-------------------------------Amonics EDFA 27 dBm-------------------------------\n",
      "|--------------------------Amonics EDFA Status Summary---------------------------\n",
      "|------------------Model: AEDFA-PM-27-R-FA, Serial No.21082531-------------------\n",
      "|\tInterLock Status: \u001b[1;34;42mUNLOCKED\u001b[0m\n",
      "|\tCase Temperature: 25.88°C\n",
      "|\tMaster Activation: \u001b[1;34;41mOFF\u001b[0m\n",
      "|\t------------Channel Summary-------------\n",
      "|\t CHANNEL1: \n",
      "|\t\t Mode: APC\n",
      "|\t\t Set Pwr: 450.0 mW\n",
      "|\t\t Status: \u001b[1;34;41mOFF\u001b[0m\n",
      "|\t\t Input Power: 15.00944 mW\n",
      "|\t\t Output Power: 0.0 mW\n",
      "|\t\t Internal PD Power: 0.0 mW\n",
      "------------------------Amonics EDFA Status Summary Ends------------------------\n",
      "\u001b[0m\n"
     ]
    },
    {
     "data": {
      "text/plain": [
       "'-------------------------------Amonics EDFA 27 dBm-------------------------------\\n|--------------------------Amonics EDFA Status Summary---------------------------\\n|------------------Model: AEDFA-PM-27-R-FA, Serial No.21082531-------------------\\n|\\tInterLock Status: \\x1b[1;34;42mUNLOCKED\\x1b[0m\\n|\\tCase Temperature: 25.88°C\\n|\\tMaster Activation: \\x1b[1;34;41mOFF\\x1b[0m\\n|\\t------------Channel Summary-------------\\n|\\t CHANNEL1: \\n|\\t\\t Mode: APC\\n|\\t\\t Set Pwr: 450.0 mW\\n|\\t\\t Status: \\x1b[1;34;41mOFF\\x1b[0m\\n|\\t\\t Input Power: 15.00944 mW\\n|\\t\\t Output Power: 0.0 mW\\n|\\t\\t Internal PD Power: 0.0 mW\\n------------------------Amonics EDFA Status Summary Ends------------------------\\n'"
      ]
     },
     "execution_count": 5,
     "metadata": {},
     "output_type": "execute_result"
    }
   ],
   "source": [
    "amonic27.accCh1Status = 0\n",
    "amonic27.activation = 0\n",
    "time.sleep(3)\n",
    "amonic27.printStatus()"
   ]
  },
  {
   "cell_type": "code",
   "execution_count": 5,
   "metadata": {},
   "outputs": [
    {
     "name": "stderr",
     "output_type": "stream",
     "text": [
      "\u001b[32m2023-08-22 10:38:36.357\u001b[0m | \u001b[1mINFO    \u001b[0m | \u001b[36mAmonics EDFA 27 dBm\u001b[0m | \u001b[36mAmonicsEDFA.py\u001b[0m:\u001b[36mprintStatus\u001b[0m:\u001b[36m49\u001b[0m\n",
      "\u001b[1m-------------------------------Amonics EDFA 27 dBm-------------------------------\n",
      "|--------------------------Amonics EDFA Status Summary---------------------------\n",
      "|------------------Model: AEDFA-PM-27-R-FA, Serial No.21082531-------------------\n",
      "|\tInterLock Status: \u001b[1;34;42mUNLOCKED\u001b[0m\n",
      "|\tCase Temperature: 23.62°C\n",
      "|\tMaster Activation: \u001b[1;34;42mON\u001b[0m\n",
      "|\t------------Channel Summary-------------\n",
      "|\t CHANNEL1: \n",
      "|\t\t Mode: APC\n",
      "|\t\t Set Pwr: 450.0 mW\n",
      "|\t\t Status: \u001b[1;34;42mON\u001b[0m\n",
      "|\t\t Input Power: 14.26848 mW\n",
      "|\t\t Output Power: 449.0644 mW\n",
      "|\t\t Internal PD Power: 328.6567 mW\n",
      "------------------------Amonics EDFA Status Summary Ends------------------------\n",
      "\u001b[0m\n"
     ]
    },
    {
     "data": {
      "text/plain": [
       "'-------------------------------Amonics EDFA 27 dBm-------------------------------\\n|--------------------------Amonics EDFA Status Summary---------------------------\\n|------------------Model: AEDFA-PM-27-R-FA, Serial No.21082531-------------------\\n|\\tInterLock Status: \\x1b[1;34;42mUNLOCKED\\x1b[0m\\n|\\tCase Temperature: 23.62°C\\n|\\tMaster Activation: \\x1b[1;34;42mON\\x1b[0m\\n|\\t------------Channel Summary-------------\\n|\\t CHANNEL1: \\n|\\t\\t Mode: APC\\n|\\t\\t Set Pwr: 450.0 mW\\n|\\t\\t Status: \\x1b[1;34;42mON\\x1b[0m\\n|\\t\\t Input Power: 14.26848 mW\\n|\\t\\t Output Power: 449.0644 mW\\n|\\t\\t Internal PD Power: 328.6567 mW\\n------------------------Amonics EDFA Status Summary Ends------------------------\\n'"
      ]
     },
     "execution_count": 5,
     "metadata": {},
     "output_type": "execute_result"
    }
   ],
   "source": [
    "amonic27.printStatus()"
   ]
  },
  {
   "cell_type": "code",
   "execution_count": 80,
   "metadata": {},
   "outputs": [
    {
     "ename": "NameError",
     "evalue": "name 'amonic27' is not defined",
     "output_type": "error",
     "traceback": [
      "\u001b[1;31m---------------------------------------------------------------------------\u001b[0m",
      "\u001b[1;31mNameError\u001b[0m                                 Traceback (most recent call last)",
      "\u001b[1;32mc:\\Users\\HSFLFC\\Desktop\\Keck\\Keck Comb\\remote_lock.ipynb Cell 18\u001b[0m in \u001b[0;36m<cell line: 1>\u001b[1;34m()\u001b[0m\n\u001b[1;32m----> <a href='vscode-notebook-cell:/c%3A/Users/HSFLFC/Desktop/Keck/Keck%20Comb/remote_lock.ipynb#X15sZmlsZQ%3D%3D?line=0'>1</a>\u001b[0m amonic27\u001b[39m.\u001b[39mprintStatus()\n",
      "\u001b[1;31mNameError\u001b[0m: name 'amonic27' is not defined"
     ]
    }
   ],
   "source": [
    "amonic27.printStatus()"
   ]
  },
  {
   "cell_type": "code",
   "execution_count": 4,
   "metadata": {},
   "outputs": [
    {
     "name": "stderr",
     "output_type": "stream",
     "text": [
      "\u001b[32m2023-08-17 06:48:32.818\u001b[0m | \u001b[33m\u001b[1mWARNING \u001b[0m | \u001b[36mAmonics EDFA 27 dBm\u001b[0m | \u001b[36mAmonicsEDFA.py\u001b[0m:\u001b[36m_setChStatus\u001b[0m:\u001b[36m268\u001b[0m\n",
      "\u001b[33m\u001b[1mAmonics EDFA 27 dBm: Setting APC CH1 status OFF while activation ON will automatically OFF the activation. Add self.activation='off' before self.accCh1Status='off' \u001b[0m\n"
     ]
    },
    {
     "name": "stderr",
     "output_type": "stream",
     "text": [
      "c:\\Users\\HSFLFC\\Desktop\\Keck\\Keck Comb\\LFC\\Hardware\\Device.py:109: UserWarning: Amonics EDFA 27 dBm: Setting APC CH1 status OFF while activation ON will automatically OFF the activation. Add self.activation='off' before self.accCh1Status='off' \n",
      "  warnings.warn(x)\n",
      "\u001b[32m2023-08-17 06:48:32.866\u001b[0m | \u001b[1mINFO    \u001b[0m | \u001b[36mAmonics EDFA 27 dBm\u001b[0m | \u001b[36mAmonicsEDFA.py\u001b[0m:\u001b[36m_setChStatus\u001b[0m:\u001b[36m278\u001b[0m\n",
      "\u001b[1mAmonics EDFA 27 dBm: ......waiting APC CH1 status set to OFF, now ON\u001b[0m\n",
      "\u001b[32m2023-08-17 06:48:32.914\u001b[0m | \u001b[1mINFO    \u001b[0m | \u001b[36mAmonics EDFA 27 dBm\u001b[0m | \u001b[36mAmonicsEDFA.py\u001b[0m:\u001b[36m_setChStatus\u001b[0m:\u001b[36m281\u001b[0m\n",
      "\u001b[1mAmonics EDFA 27 dBm: setted APC CH1 status as OFF, finished in 0.091 seconds\u001b[0m\n",
      "\u001b[32m2023-08-17 06:48:32.946\u001b[0m | \u001b[1mINFO    \u001b[0m | \u001b[36mAmonics EDFA 27 dBm\u001b[0m | \u001b[36mAmonicsEDFA.py\u001b[0m:\u001b[36mactivation\u001b[0m:\u001b[36m195\u001b[0m\n",
      "\u001b[1mAmonics EDFA 27 dBm: setted Activation status as OFF, finished in 0.030 seconds\u001b[0m\n",
      "\u001b[32m2023-08-17 06:48:38.274\u001b[0m | \u001b[1mINFO    \u001b[0m | \u001b[36mAmonics EDFA 27 dBm\u001b[0m | \u001b[36mAmonicsEDFA.py\u001b[0m:\u001b[36mprintStatus\u001b[0m:\u001b[36m49\u001b[0m\n",
      "\u001b[1m-------------------------------Amonics EDFA 27 dBm-------------------------------\n",
      "|--------------------------Amonics EDFA Status Summary---------------------------\n",
      "|------------------Model: AEDFA-PM-27-R-FA, Serial No.21082531-------------------\n",
      "|\tInterLock Status: \u001b[1;34;42mUNLOCKED\u001b[0m\n",
      "|\tCase Temperature: 25.81°C\n",
      "|\tMaster Activation: \u001b[1;34;41mOFF\u001b[0m\n",
      "|\t------------Channel Summary-------------\n",
      "|\t CHANNEL1: \n",
      "|\t\t Mode: APC\n",
      "|\t\t Set Pwr: 450.0 mW\n",
      "|\t\t Status: \u001b[1;34;41mOFF\u001b[0m\n",
      "|\t\t Input Power: 14.6755 mW\n",
      "|\t\t Output Power: 0.0 mW\n",
      "|\t\t Internal PD Power: 0.0 mW\n",
      "------------------------Amonics EDFA Status Summary Ends------------------------\n",
      "\u001b[0m\n"
     ]
    },
    {
     "data": {
      "text/plain": [
       "'-------------------------------Amonics EDFA 27 dBm-------------------------------\\n|--------------------------Amonics EDFA Status Summary---------------------------\\n|------------------Model: AEDFA-PM-27-R-FA, Serial No.21082531-------------------\\n|\\tInterLock Status: \\x1b[1;34;42mUNLOCKED\\x1b[0m\\n|\\tCase Temperature: 25.81°C\\n|\\tMaster Activation: \\x1b[1;34;41mOFF\\x1b[0m\\n|\\t------------Channel Summary-------------\\n|\\t CHANNEL1: \\n|\\t\\t Mode: APC\\n|\\t\\t Set Pwr: 450.0 mW\\n|\\t\\t Status: \\x1b[1;34;41mOFF\\x1b[0m\\n|\\t\\t Input Power: 14.6755 mW\\n|\\t\\t Output Power: 0.0 mW\\n|\\t\\t Internal PD Power: 0.0 mW\\n------------------------Amonics EDFA Status Summary Ends------------------------\\n'"
      ]
     },
     "execution_count": 4,
     "metadata": {},
     "output_type": "execute_result"
    }
   ],
   "source": [
    "amonic27.accCh1Status = 0\n",
    "amonic27.activation = 0\n",
    "import time\n",
    "time.sleep(5)\n",
    "amonic27.printStatus()"
   ]
  },
  {
   "cell_type": "code",
   "execution_count": null,
   "metadata": {},
   "outputs": [],
   "source": []
  },
  {
   "cell_type": "code",
   "execution_count": 5,
   "metadata": {},
   "outputs": [
    {
     "name": "stderr",
     "output_type": "stream",
     "text": [
      "\u001b[32m2023-08-16 11:17:11.023\u001b[0m | \u001b[1mINFO    \u001b[0m | \u001b[36mAgilent OSA 86142B\u001b[0m | \u001b[36mDevice.py\u001b[0m:\u001b[36mconnect\u001b[0m:\u001b[36m71\u001b[0m\n",
      "\u001b[1mAgilent OSA 86142B connected\u001b[0m\n"
     ]
    },
    {
     "data": {
      "text/plain": [
       "1"
      ]
     },
     "execution_count": 5,
     "metadata": {},
     "output_type": "execute_result"
    }
   ],
   "source": [
    "from LFC.Hardware.Agilent_86142B import Agilent_86142B\n",
    "osa = Agilent_86142B(addr='GPIB0::30::INSTR', name='Agilent OSA 86142B')\n",
    "\n",
    "osa.connect()"
   ]
  },
  {
   "cell_type": "code",
   "execution_count": 47,
   "metadata": {},
   "outputs": [
    {
     "data": {
      "image/png": "[encoded data removed]",
      "text/plain": [
       "<Figure size 432x288 with 1 Axes>"
      ]
     },
     "metadata": {
      "needs_background": "light"
     },
     "output_type": "display_data"
    },
    {
     "name": "stderr",
     "output_type": "stream",
     "text": [
      "\u001b[32m2023-07-26 14:25:23.896\u001b[0m | \u001b[1mINFO    \u001b[0m | \u001b[36mAgilent OSA 86142B\u001b[0m | \u001b[36mAgilent_86142B.py\u001b[0m:\u001b[36mget_trace\u001b[0m:\u001b[36m327\u001b[0m\n",
      "\u001b[1mAgilent OSA 86142B: Trace A data is collected and is shown in the plot.\u001b[0m\n",
      "\u001b[32m2023-07-26 14:25:24.983\u001b[0m | \u001b[1mINFO    \u001b[0m | \u001b[36mRF oscilator PS, CH2 15V, CH3 1V\u001b[0m | \u001b[36mInstekGPD_4303S.py\u001b[0m:\u001b[36m_setVSET\u001b[0m:\u001b[36m320\u001b[0m\n",
      "\u001b[1mInstek GPD-4303S DCSupply: VSET channel 3 set to 0.700V\u001b[0m\n"
     ]
    },
    {
     "data": {
      "image/png": "[encoded data removed]",
      "text/plain": [
       "<Figure size 432x288 with 1 Axes>"
      ]
     },
     "metadata": {
      "needs_background": "light"
     },
     "output_type": "display_data"
    },
    {
     "name": "stderr",
     "output_type": "stream",
     "text": [
      "\u001b[32m2023-07-26 14:25:29.357\u001b[0m | \u001b[1mINFO    \u001b[0m | \u001b[36mAgilent OSA 86142B\u001b[0m | \u001b[36mAgilent_86142B.py\u001b[0m:\u001b[36mget_trace\u001b[0m:\u001b[36m327\u001b[0m\n",
      "\u001b[1mAgilent OSA 86142B: Trace A data is collected and is shown in the plot.\u001b[0m\n"
     ]
    },
    {
     "data": {
      "text/plain": [
       "(array([1554.   , 1554.013, 1554.026, ..., 1566.974, 1566.987, 1567.   ],\n",
       "       dtype=float32),\n",
       " array([-85.08727, -82.9298 , -83.53427, ..., -82.63667, -82.37087,\n",
       "        -80.82221], dtype=float32))"
      ]
     },
     "execution_count": 47,
     "metadata": {},
     "output_type": "execute_result"
    }
   ],
   "source": [
    "import time\n",
    "osa.get_trace('a')\n",
    "rfoscPS.Vset3=0.7\n",
    "time.sleep(3)\n",
    "osa.get_trace('a')"
   ]
  },
  {
   "cell_type": "code",
   "execution_count": 15,
   "metadata": {},
   "outputs": [
    {
     "name": "stderr",
     "output_type": "stream",
     "text": [
      "\u001b[32m2023-07-26 13:57:35.681\u001b[0m | \u001b[1mINFO    \u001b[0m | \u001b[36mRF oscilator PS, CH2 15V, CH3 1V\u001b[0m | \u001b[36mInstekGPD_4303S.py\u001b[0m:\u001b[36m_setVSET\u001b[0m:\u001b[36m320\u001b[0m\n",
      "\u001b[1mInstek GPD-4303S DCSupply: VSET channel 3 set to 0.800V\u001b[0m\n"
     ]
    }
   ],
   "source": [
    "rfoscPS.Vset3=0.8"
   ]
  },
  {
   "cell_type": "code",
   "execution_count": 88,
   "metadata": {},
   "outputs": [
    {
     "name": "stderr",
     "output_type": "stream",
     "text": [
      "\u001b[32m2023-08-09 14:33:34.824\u001b[0m | \u001b[1mINFO    \u001b[0m | \u001b[36mAmonics EDFA 23 dBm\u001b[0m | \u001b[36mDevice.py\u001b[0m:\u001b[36mconnect\u001b[0m:\u001b[36m71\u001b[0m\n",
      "\u001b[1mAmonics EDFA 23 dBm connected\u001b[0m\n",
      "\u001b[32m2023-08-09 14:33:41.126\u001b[0m | \u001b[1mINFO    \u001b[0m | \u001b[36mAmonics EDFA 23 dBm\u001b[0m | \u001b[36mAmonicsEDFA.py\u001b[0m:\u001b[36mprintStatus\u001b[0m:\u001b[36m49\u001b[0m\n",
      "\u001b[1m-------------------------------Amonics EDFA 23 dBm-------------------------------\n",
      "|--------------------------Amonics EDFA Status Summary---------------------------\n",
      "|------------------Model: AEDFA-PM-23-R-FA, Serial No.22020702-------------------\n",
      "|\tInterLock Status: \u001b[1;34;42mUNLOCKED\u001b[0m\n",
      "|\tCase Temperature: 30.48°C\n",
      "|\tMaster Activation: \u001b[1;34;41mOFF\u001b[0m\n",
      "|\t------------Channel Summary-------------\n",
      "|\t CHANNEL1: \n",
      "|\t\t Mode: ACC\n",
      "|\t\t Set Cur: 80.0 mA\n",
      "|\t\t Status: \u001b[1;34;41mOFF\u001b[0m\n",
      "|\t\t Input Power: 0.0 mW\n",
      "|\t\t Output Power: 0.0 mW\n",
      "|\t\t Internal PD Power: 0.0 mW\n",
      "------------------------Amonics EDFA Status Summary Ends------------------------\n",
      "\u001b[0m\n"
     ]
    },
    {
     "data": {
      "text/plain": [
       "'-------------------------------Amonics EDFA 23 dBm-------------------------------\\n|--------------------------Amonics EDFA Status Summary---------------------------\\n|------------------Model: AEDFA-PM-23-R-FA, Serial No.22020702-------------------\\n|\\tInterLock Status: \\x1b[1;34;42mUNLOCKED\\x1b[0m\\n|\\tCase Temperature: 30.48°C\\n|\\tMaster Activation: \\x1b[1;34;41mOFF\\x1b[0m\\n|\\t------------Channel Summary-------------\\n|\\t CHANNEL1: \\n|\\t\\t Mode: ACC\\n|\\t\\t Set Cur: 80.0 mA\\n|\\t\\t Status: \\x1b[1;34;41mOFF\\x1b[0m\\n|\\t\\t Input Power: 0.0 mW\\n|\\t\\t Output Power: 0.0 mW\\n|\\t\\t Internal PD Power: 0.0 mW\\n------------------------Amonics EDFA Status Summary Ends------------------------\\n'"
      ]
     },
     "execution_count": 88,
     "metadata": {},
     "output_type": "execute_result"
    }
   ],
   "source": [
    "from LFC.Hardware.AmonicsEDFA import AmonicsEDFA\n",
    "amonic23 = AmonicsEDFA(addr='ASRL13::INSTR', name='Amonics EDFA 23 dBm')\n",
    "amonic23.connect()\n",
    "amonic23.printStatus()"
   ]
  },
  {
   "cell_type": "code",
   "execution_count": null,
   "metadata": {},
   "outputs": [],
   "source": []
  },
  {
   "cell_type": "code",
   "execution_count": 24,
   "metadata": {},
   "outputs": [
    {
     "name": "stderr",
     "output_type": "stream",
     "text": [
      "\u001b[32m2023-07-26 14:13:05.468\u001b[0m | \u001b[1mINFO    \u001b[0m | \u001b[36mPendulum CNT90\u001b[0m | \u001b[36mDevice.py\u001b[0m:\u001b[36mconnect\u001b[0m:\u001b[36m71\u001b[0m\n",
      "\u001b[1mPendulum CNT90 connected\u001b[0m\n"
     ]
    },
    {
     "data": {
      "text/plain": [
       "1"
      ]
     },
     "execution_count": 24,
     "metadata": {},
     "output_type": "execute_result"
    }
   ],
   "source": [
    "from LFC.Hardware.PendulumCNT90 import PendulumCNT90\n",
    "cnt90 = PendulumCNT90(addr='GPIB0::10::INSTR', name='Pendulum CNT90')\n",
    "cnt90.connect()"
   ]
  },
  {
   "cell_type": "code",
   "execution_count": 25,
   "metadata": {},
   "outputs": [
    {
     "data": {
      "text/plain": [
       "15.999999999989999"
      ]
     },
     "execution_count": 25,
     "metadata": {},
     "output_type": "execute_result"
    }
   ],
   "source": [
    "cnt90.measFreq('c')/1e9"
   ]
  },
  {
   "cell_type": "code",
   "execution_count": 1,
   "metadata": {},
   "outputs": [
    {
     "name": "stderr",
     "output_type": "stream",
     "text": [
      "\u001b[32m2023-08-22 16:24:31.723\u001b[0m | \u001b[1mINFO    \u001b[0m | \u001b[36mDevice\u001b[0m | \u001b[36mDevice.py\u001b[0m:\u001b[36m<module>\u001b[0m:\u001b[36m44\u001b[0m\n",
      "\u001b[1mlogger initialized\u001b[0m\n",
      "\u001b[32m2023-08-22 16:24:33.087\u001b[0m | \u001b[1mINFO    \u001b[0m | \u001b[36mStanford Research System SIM900\u001b[0m | \u001b[36mDevice.py\u001b[0m:\u001b[36mconnect\u001b[0m:\u001b[36m71\u001b[0m\n",
      "\u001b[1mStanford Research System SIM900 connected\u001b[0m\n"
     ]
    }
   ],
   "source": [
    "from LFC.Hardware.SRS_SIM900 import SRS_SIM900, SRS_PIDcontrol_SIM960\n",
    "srs = SRS_SIM900(addr='GPIB0::2::INSTR')\n",
    "srs.connect()\n",
    "servo_FC = SRS_PIDcontrol_SIM960(srs, 1, name='Filter Cavity PDH Lock Servo')\n",
    "servo_IM = SRS_PIDcontrol_SIM960(srs, 3, name='Minicomb Intensity Lock Servo')\n",
    "servo_RB = SRS_PIDcontrol_SIM960(srs, 5, name='Rio Laser Fceo Rb spectroscopy Lock Servo')"
   ]
  },
  {
   "cell_type": "code",
   "execution_count": 27,
   "metadata": {},
   "outputs": [
    {
     "data": {
      "text/plain": [
       "0.0"
      ]
     },
     "execution_count": 27,
     "metadata": {},
     "output_type": "execute_result"
    }
   ],
   "source": [
    "servo_IM.get_manual_output()\n",
    "servo_IM.set_manual_output(0.5)"
   ]
  },
  {
   "cell_type": "code",
   "execution_count": 71,
   "metadata": {},
   "outputs": [
    {
     "name": "stderr",
     "output_type": "stream",
     "text": [
      "\u001b[32m2023-07-26 14:53:20.304\u001b[0m | \u001b[1mINFO    \u001b[0m | \u001b[36mAgilent OSA 86142B\u001b[0m | \u001b[36mAgilent_86142B.py\u001b[0m:\u001b[36mRun\u001b[0m:\u001b[36m164\u001b[0m\n",
      "\u001b[1mAgilent OSA 86142B: Spectrum collection RUN (repeat) start.\u001b[0m\n"
     ]
    }
   ],
   "source": [
    "osa.Run()"
   ]
  },
  {
   "cell_type": "code",
   "execution_count": null,
   "metadata": {},
   "outputs": [],
   "source": []
  },
  {
   "cell_type": "code",
   "execution_count": null,
   "metadata": {},
   "outputs": [],
   "source": [
    "import time\n",
    "\n",
    "\n",
    "osa.get_trace('a')\n",
    "\n",
    "servo_IM.set_manual_output(0)\n",
    "print(amonic23.inputPowerCh1)\n",
    "time.sleep(3)\n",
    "osa.get_trace('a')"
   ]
  },
  {
   "cell_type": "code",
   "execution_count": 28,
   "metadata": {},
   "outputs": [
    {
     "data": {
      "text/plain": [
       "0.0"
      ]
     },
     "execution_count": 28,
     "metadata": {},
     "output_type": "execute_result"
    }
   ],
   "source": [
    "servo_RB.get_manual_output()    \n"
   ]
  },
  {
   "cell_type": "code",
   "execution_count": null,
   "metadata": {},
   "outputs": [],
   "source": [
    "\n",
    "servo_IM.set_manual_output_max(3)\n",
    "servo_IM.set_manual_output_min(-3)\n",
    "servo_IM.printStatus()"
   ]
  },
  {
   "cell_type": "code",
   "execution_count": null,
   "metadata": {},
   "outputs": [],
   "source": [
    "servo_IM.output_upperlim = 3\n",
    "servo_IM.output_lowerlim = -3\n",
    "servo_IM.printStatus()\n"
   ]
  },
  {
   "cell_type": "code",
   "execution_count": null,
   "metadata": {},
   "outputs": [],
   "source": []
  },
  {
   "cell_type": "code",
   "execution_count": 50,
   "metadata": {},
   "outputs": [
    {
     "name": "stderr",
     "output_type": "stream",
     "text": [
      "\u001b[32m2023-07-26 14:32:28.504\u001b[0m | \u001b[1mINFO    \u001b[0m | \u001b[36mMinicomb Intensity Lock Servo\u001b[0m | \u001b[36mSRS_SIM900.py\u001b[0m:\u001b[36mset_manual_output\u001b[0m:\u001b[36m666\u001b[0m\n",
      "\u001b[1mMinicomb Intensity Lock Servo: ....Manual output voltage Ramping.... Disable ranp by set self.manual_output_ramp=0. \u001b[0m\n",
      "\u001b[32m2023-07-26 14:32:28.721\u001b[0m | \u001b[1mINFO    \u001b[0m | \u001b[36mMinicomb Intensity Lock Servo\u001b[0m | \u001b[36mSRS_SIM900.py\u001b[0m:\u001b[36mset_manual_output\u001b[0m:\u001b[36m671\u001b[0m\n",
      "\u001b[1mMinicomb Intensity Lock Servo: Output in Manual Mode in Volt set to -2.000.\u001b[0m\n",
      "\u001b[32m2023-07-26 14:32:28.941\u001b[0m | \u001b[1mINFO    \u001b[0m | \u001b[36mMinicomb Intensity Lock Servo\u001b[0m | \u001b[36mSRS_SIM900.py\u001b[0m:\u001b[36mset_manual_output\u001b[0m:\u001b[36m671\u001b[0m\n",
      "\u001b[1mMinicomb Intensity Lock Servo: Output in Manual Mode in Volt set to -2.000.\u001b[0m\n",
      "\u001b[32m2023-07-26 14:32:28.942\u001b[0m | \u001b[1mINFO    \u001b[0m | \u001b[36mMinicomb Intensity Lock Servo\u001b[0m | \u001b[36mSRS_SIM900.py\u001b[0m:\u001b[36mset_manual_output\u001b[0m:\u001b[36m681\u001b[0m\n",
      "\u001b[1mMinicomb Intensity Lock Servo: ....Manual output voltage Ramp Finished. Disable ramp by set self.manual_output_ramp=0. \u001b[0m\n",
      "\u001b[32m2023-07-26 14:32:29.162\u001b[0m | \u001b[1mINFO    \u001b[0m | \u001b[36mMinicomb Intensity Lock Servo\u001b[0m | \u001b[36mSRS_SIM900.py\u001b[0m:\u001b[36mset_output_mode\u001b[0m:\u001b[36m537\u001b[0m\n",
      "\u001b[1mMinicomb Intensity Lock Servo: PID output is turned OFF, output mode is turnd to Manual.\u001b[0m\n",
      "100%|██████████| 200/200 [00:28<00:00,  6.91it/s]\n"
     ]
    },
    {
     "data": {
      "image/png": "[encoded data removed]",
      "text/plain": [
       "<Figure size 432x288 with 1 Axes>"
      ]
     },
     "metadata": {
      "needs_background": "light"
     },
     "output_type": "display_data"
    },
    {
     "name": "stderr",
     "output_type": "stream",
     "text": [
      "\u001b[32m2023-07-26 14:32:58.792\u001b[0m | \u001b[1mINFO    \u001b[0m | \u001b[36mMinicomb Intensity Lock Servo\u001b[0m | \u001b[36mSRS_SIM900.py\u001b[0m:\u001b[36mset_manual_output\u001b[0m:\u001b[36m666\u001b[0m\n",
      "\u001b[1mMinicomb Intensity Lock Servo: ....Manual output voltage Ramping.... Disable ranp by set self.manual_output_ramp=0. \u001b[0m\n",
      "\u001b[32m2023-07-26 14:32:59.007\u001b[0m | \u001b[1mINFO    \u001b[0m | \u001b[36mMinicomb Intensity Lock Servo\u001b[0m | \u001b[36mSRS_SIM900.py\u001b[0m:\u001b[36mset_manual_output\u001b[0m:\u001b[36m671\u001b[0m\n",
      "\u001b[1mMinicomb Intensity Lock Servo: Output in Manual Mode in Volt set to 1.000.\u001b[0m\n",
      "\u001b[32m2023-07-26 14:32:59.224\u001b[0m | \u001b[1mINFO    \u001b[0m | \u001b[36mMinicomb Intensity Lock Servo\u001b[0m | \u001b[36mSRS_SIM900.py\u001b[0m:\u001b[36mset_manual_output\u001b[0m:\u001b[36m671\u001b[0m\n",
      "\u001b[1mMinicomb Intensity Lock Servo: Output in Manual Mode in Volt set to 0.894.\u001b[0m\n",
      "\u001b[32m2023-07-26 14:32:59.445\u001b[0m | \u001b[1mINFO    \u001b[0m | \u001b[36mMinicomb Intensity Lock Servo\u001b[0m | \u001b[36mSRS_SIM900.py\u001b[0m:\u001b[36mset_manual_output\u001b[0m:\u001b[36m671\u001b[0m\n",
      "\u001b[1mMinicomb Intensity Lock Servo: Output in Manual Mode in Volt set to 0.788.\u001b[0m\n",
      "\u001b[32m2023-07-26 14:32:59.663\u001b[0m | \u001b[1mINFO    \u001b[0m | \u001b[36mMinicomb Intensity Lock Servo\u001b[0m | \u001b[36mSRS_SIM900.py\u001b[0m:\u001b[36mset_manual_output\u001b[0m:\u001b[36m671\u001b[0m\n",
      "\u001b[1mMinicomb Intensity Lock Servo: Output in Manual Mode in Volt set to 0.682.\u001b[0m\n",
      "\u001b[32m2023-07-26 14:32:59.880\u001b[0m | \u001b[1mINFO    \u001b[0m | \u001b[36mMinicomb Intensity Lock Servo\u001b[0m | \u001b[36mSRS_SIM900.py\u001b[0m:\u001b[36mset_manual_output\u001b[0m:\u001b[36m671\u001b[0m\n",
      "\u001b[1mMinicomb Intensity Lock Servo: Output in Manual Mode in Volt set to 0.576.\u001b[0m\n",
      "\u001b[32m2023-07-26 14:33:00.100\u001b[0m | \u001b[1mINFO    \u001b[0m | \u001b[36mMinicomb Intensity Lock Servo\u001b[0m | \u001b[36mSRS_SIM900.py\u001b[0m:\u001b[36mset_manual_output\u001b[0m:\u001b[36m671\u001b[0m\n",
      "\u001b[1mMinicomb Intensity Lock Servo: Output in Manual Mode in Volt set to 0.471.\u001b[0m\n",
      "\u001b[32m2023-07-26 14:33:00.318\u001b[0m | \u001b[1mINFO    \u001b[0m | \u001b[36mMinicomb Intensity Lock Servo\u001b[0m | \u001b[36mSRS_SIM900.py\u001b[0m:\u001b[36mset_manual_output\u001b[0m:\u001b[36m671\u001b[0m\n",
      "\u001b[1mMinicomb Intensity Lock Servo: Output in Manual Mode in Volt set to 0.365.\u001b[0m\n",
      "\u001b[32m2023-07-26 14:33:00.537\u001b[0m | \u001b[1mINFO    \u001b[0m | \u001b[36mMinicomb Intensity Lock Servo\u001b[0m | \u001b[36mSRS_SIM900.py\u001b[0m:\u001b[36mset_manual_output\u001b[0m:\u001b[36m671\u001b[0m\n",
      "\u001b[1mMinicomb Intensity Lock Servo: Output in Manual Mode in Volt set to 0.259.\u001b[0m\n",
      "\u001b[32m2023-07-26 14:33:00.755\u001b[0m | \u001b[1mINFO    \u001b[0m | \u001b[36mMinicomb Intensity Lock Servo\u001b[0m | \u001b[36mSRS_SIM900.py\u001b[0m:\u001b[36mset_manual_output\u001b[0m:\u001b[36m671\u001b[0m\n",
      "\u001b[1mMinicomb Intensity Lock Servo: Output in Manual Mode in Volt set to 0.153.\u001b[0m\n",
      "\u001b[32m2023-07-26 14:33:00.971\u001b[0m | \u001b[1mINFO    \u001b[0m | \u001b[36mMinicomb Intensity Lock Servo\u001b[0m | \u001b[36mSRS_SIM900.py\u001b[0m:\u001b[36mset_manual_output\u001b[0m:\u001b[36m671\u001b[0m\n",
      "\u001b[1mMinicomb Intensity Lock Servo: Output in Manual Mode in Volt set to 0.047.\u001b[0m\n",
      "\u001b[32m2023-07-26 14:33:01.193\u001b[0m | \u001b[1mINFO    \u001b[0m | \u001b[36mMinicomb Intensity Lock Servo\u001b[0m | \u001b[36mSRS_SIM900.py\u001b[0m:\u001b[36mset_manual_output\u001b[0m:\u001b[36m671\u001b[0m\n",
      "\u001b[1mMinicomb Intensity Lock Servo: Output in Manual Mode in Volt set to -0.059.\u001b[0m\n",
      "\u001b[32m2023-07-26 14:33:01.409\u001b[0m | \u001b[1mINFO    \u001b[0m | \u001b[36mMinicomb Intensity Lock Servo\u001b[0m | \u001b[36mSRS_SIM900.py\u001b[0m:\u001b[36mset_manual_output\u001b[0m:\u001b[36m671\u001b[0m\n",
      "\u001b[1mMinicomb Intensity Lock Servo: Output in Manual Mode in Volt set to -0.165.\u001b[0m\n",
      "\u001b[32m2023-07-26 14:33:01.627\u001b[0m | \u001b[1mINFO    \u001b[0m | \u001b[36mMinicomb Intensity Lock Servo\u001b[0m | \u001b[36mSRS_SIM900.py\u001b[0m:\u001b[36mset_manual_output\u001b[0m:\u001b[36m671\u001b[0m\n",
      "\u001b[1mMinicomb Intensity Lock Servo: Output in Manual Mode in Volt set to -0.271.\u001b[0m\n",
      "\u001b[32m2023-07-26 14:33:01.844\u001b[0m | \u001b[1mINFO    \u001b[0m | \u001b[36mMinicomb Intensity Lock Servo\u001b[0m | \u001b[36mSRS_SIM900.py\u001b[0m:\u001b[36mset_manual_output\u001b[0m:\u001b[36m671\u001b[0m\n",
      "\u001b[1mMinicomb Intensity Lock Servo: Output in Manual Mode in Volt set to -0.376.\u001b[0m\n",
      "\u001b[32m2023-07-26 14:33:02.060\u001b[0m | \u001b[1mINFO    \u001b[0m | \u001b[36mMinicomb Intensity Lock Servo\u001b[0m | \u001b[36mSRS_SIM900.py\u001b[0m:\u001b[36mset_manual_output\u001b[0m:\u001b[36m671\u001b[0m\n",
      "\u001b[1mMinicomb Intensity Lock Servo: Output in Manual Mode in Volt set to -0.482.\u001b[0m\n",
      "\u001b[32m2023-07-26 14:33:02.280\u001b[0m | \u001b[1mINFO    \u001b[0m | \u001b[36mMinicomb Intensity Lock Servo\u001b[0m | \u001b[36mSRS_SIM900.py\u001b[0m:\u001b[36mset_manual_output\u001b[0m:\u001b[36m671\u001b[0m\n",
      "\u001b[1mMinicomb Intensity Lock Servo: Output in Manual Mode in Volt set to -0.588.\u001b[0m\n",
      "\u001b[32m2023-07-26 14:33:02.497\u001b[0m | \u001b[1mINFO    \u001b[0m | \u001b[36mMinicomb Intensity Lock Servo\u001b[0m | \u001b[36mSRS_SIM900.py\u001b[0m:\u001b[36mset_manual_output\u001b[0m:\u001b[36m671\u001b[0m\n",
      "\u001b[1mMinicomb Intensity Lock Servo: Output in Manual Mode in Volt set to -0.694.\u001b[0m\n",
      "\u001b[32m2023-07-26 14:33:02.713\u001b[0m | \u001b[1mINFO    \u001b[0m | \u001b[36mMinicomb Intensity Lock Servo\u001b[0m | \u001b[36mSRS_SIM900.py\u001b[0m:\u001b[36mset_manual_output\u001b[0m:\u001b[36m671\u001b[0m\n",
      "\u001b[1mMinicomb Intensity Lock Servo: Output in Manual Mode in Volt set to -0.800.\u001b[0m\n",
      "\u001b[32m2023-07-26 14:33:02.713\u001b[0m | \u001b[1mINFO    \u001b[0m | \u001b[36mMinicomb Intensity Lock Servo\u001b[0m | \u001b[36mSRS_SIM900.py\u001b[0m:\u001b[36mset_manual_output\u001b[0m:\u001b[36m681\u001b[0m\n",
      "\u001b[1mMinicomb Intensity Lock Servo: ....Manual output voltage Ramp Finished. Disable ramp by set self.manual_output_ramp=0. \u001b[0m\n"
     ]
    }
   ],
   "source": [
    "import numpy as np\n",
    "scan_start = -2\n",
    "scan_stop = 1\n",
    "num_steps= 200\n",
    "\n",
    "servo_IM.manual_output_ramp=0.1\n",
    "servo_IM.manual_output = scan_start\n",
    "\n",
    "r = servo_IM.manual_sweep(np.linspace(scan_start,scan_stop,num_steps))\n",
    "\n",
    "servo_IM.manual_output=-0.8"
   ]
  },
  {
   "cell_type": "code",
   "execution_count": null,
   "metadata": {},
   "outputs": [],
   "source": [
    "servo_IM.printStatus()"
   ]
  },
  {
   "cell_type": "code",
   "execution_count": 78,
   "metadata": {},
   "outputs": [
    {
     "name": "stderr",
     "output_type": "stream",
     "text": [
      "\u001b[32m2023-08-09 14:25:16.369\u001b[0m | \u001b[1mINFO    \u001b[0m | \u001b[36mMinicomb Intensity Lock Servo\u001b[0m | \u001b[36mSRS_SIM900.py\u001b[0m:\u001b[36mset_output_mode\u001b[0m:\u001b[36m537\u001b[0m\n",
      "\u001b[1mMinicomb Intensity Lock Servo: PID output is turned OFF, output mode is turnd to Manual.\u001b[0m\n"
     ]
    }
   ],
   "source": [
    "servo_IM.output_mode = 'man'"
   ]
  },
  {
   "cell_type": "code",
   "execution_count": 59,
   "metadata": {},
   "outputs": [
    {
     "name": "stderr",
     "output_type": "stream",
     "text": [
      "\u001b[32m2023-07-26 14:42:27.150\u001b[0m | \u001b[1mINFO    \u001b[0m | \u001b[36mMinicomb Intensity Lock Servo\u001b[0m | \u001b[36mSRS_SIM900.py\u001b[0m:\u001b[36m__set_num_withcmd\u001b[0m:\u001b[36m812\u001b[0m\n",
      "\u001b[1mMinicomb Intensity Lock Servo: Setting Proportional Gain in V/V to 6.0.\u001b[0m\n",
      "\u001b[32m2023-07-26 14:42:27.369\u001b[0m | \u001b[1mINFO    \u001b[0m | \u001b[36mMinicomb Intensity Lock Servo\u001b[0m | \u001b[36mSRS_SIM900.py\u001b[0m:\u001b[36m__set_num_withcmd\u001b[0m:\u001b[36m812\u001b[0m\n",
      "\u001b[1mMinicomb Intensity Lock Servo: Setting Integral Gain in 1/seconds to 1.0.\u001b[0m\n",
      "\u001b[32m2023-07-26 14:42:27.588\u001b[0m | \u001b[1mINFO    \u001b[0m | \u001b[36mMinicomb Intensity Lock Servo\u001b[0m | \u001b[36mSRS_SIM900.py\u001b[0m:\u001b[36m__set_num_withcmd\u001b[0m:\u001b[36m812\u001b[0m\n",
      "\u001b[1mMinicomb Intensity Lock Servo: Setting Output offset in Volts to -0.8.\u001b[0m\n"
     ]
    }
   ],
   "source": [
    "servo_IM.prop_gain=6\n",
    "servo_IM.intg_gain=1\n",
    "servo_IM.outoffset=-0.8"
   ]
  },
  {
   "cell_type": "code",
   "execution_count": 77,
   "metadata": {},
   "outputs": [
    {
     "ename": "NameError",
     "evalue": "name 'osa' is not defined",
     "output_type": "error",
     "traceback": [
      "\u001b[1;31m---------------------------------------------------------------------------\u001b[0m",
      "\u001b[1;31mNameError\u001b[0m                                 Traceback (most recent call last)",
      "\u001b[1;32mc:\\Users\\HSFLFC\\Desktop\\Keck\\Keck Comb\\remote_lock.ipynb Cell 40\u001b[0m in \u001b[0;36m<cell line: 1>\u001b[1;34m()\u001b[0m\n\u001b[1;32m----> <a href='vscode-notebook-cell:/c%3A/Users/HSFLFC/Desktop/Keck/Keck%20Comb/remote_lock.ipynb#X60sZmlsZQ%3D%3D?line=0'>1</a>\u001b[0m osa\u001b[39m.\u001b[39mget_trace(\u001b[39m'\u001b[39m\u001b[39ma\u001b[39m\u001b[39m'\u001b[39m)\n",
      "\u001b[1;31mNameError\u001b[0m: name 'osa' is not defined"
     ]
    }
   ],
   "source": [
    "osa.get_trace('a')"
   ]
  },
  {
   "cell_type": "code",
   "execution_count": 79,
   "metadata": {},
   "outputs": [
    {
     "name": "stderr",
     "output_type": "stream",
     "text": [
      "\u001b[32m2023-08-02 10:37:31.046\u001b[0m | \u001b[1mINFO    \u001b[0m | \u001b[36mAgilent OSA 86142B\u001b[0m | \u001b[36mAgilent_86142B.py\u001b[0m:\u001b[36mRun\u001b[0m:\u001b[36m164\u001b[0m\n",
      "\u001b[1mAgilent OSA 86142B: Spectrum collection RUN (repeat) start.\u001b[0m\n"
     ]
    }
   ],
   "source": [
    "osa.Run()"
   ]
  },
  {
   "cell_type": "code",
   "execution_count": null,
   "metadata": {},
   "outputs": [],
   "source": [
    "for ii in range(100):\n",
    "    print(servo_IM.output_voltage)\n",
    "    import time\n",
    "    time.sleep(0.1)"
   ]
  },
  {
   "cell_type": "code",
   "execution_count": null,
   "metadata": {},
   "outputs": [],
   "source": [
    "####################################################################################################\n",
    "# below RB locking"
   ]
  },
  {
   "cell_type": "code",
   "execution_count": 2,
   "metadata": {},
   "outputs": [
    {
     "name": "stderr",
     "output_type": "stream",
     "text": [
      "\u001b[32m2023-08-22 16:49:45.002\u001b[0m | \u001b[1mINFO    \u001b[0m | \u001b[36mStanford Research System SIM900\u001b[0m | \u001b[36mDevice.py\u001b[0m:\u001b[36mconnect\u001b[0m:\u001b[36m71\u001b[0m\n",
      "\u001b[1mStanford Research System SIM900 connected\u001b[0m\n",
      "\u001b[32m2023-08-22 16:49:45.548\u001b[0m | \u001b[1mINFO    \u001b[0m | \u001b[36mTDS2024C OSC\u001b[0m | \u001b[36mDevice.py\u001b[0m:\u001b[36mconnect\u001b[0m:\u001b[36m71\u001b[0m\n",
      "\u001b[1mTDS2024C OSC connected\u001b[0m\n",
      "\u001b[32m2023-08-22 16:49:45.565\u001b[0m | \u001b[1mINFO    \u001b[0m | \u001b[36mKeysight FG 33500\u001b[0m | \u001b[36mDevice.py\u001b[0m:\u001b[36mconnect\u001b[0m:\u001b[36m71\u001b[0m\n",
      "\u001b[1mKeysight FG 33500 connected\u001b[0m\n"
     ]
    },
    {
     "data": {
      "text/plain": [
       "1"
      ]
     },
     "execution_count": 2,
     "metadata": {},
     "output_type": "execute_result"
    }
   ],
   "source": [
    "from LFC.Hardware.SRS_SIM900 import SRS_SIM900, SRS_PIDcontrol_SIM960\n",
    "srs = SRS_SIM900(addr='GPIB0::2::INSTR')\n",
    "srs.connect()\n",
    "servo_FC = SRS_PIDcontrol_SIM960(srs, 1, name='Filter Cavity PDH Lock Servo')\n",
    "servo_IM = SRS_PIDcontrol_SIM960(srs, 3, name='Minicomb Intensity Lock Servo')\n",
    "servo_RB = SRS_PIDcontrol_SIM960(srs, 5, name='Rio Laser Fceo Rb spectroscopy Lock Servo')\n",
    "\n",
    "from LFC.Hardware.TDS2024C import TDS2024C\n",
    "osc = TDS2024C()\n",
    "osc.connect()\n",
    "\n",
    "from LFC.Hardware.KeysightFG_33500 import KeysightFG_33500\n",
    "fg = KeysightFG_33500(addr='USB0::0x0957::0x2807::MY59003824::INSTR', name='Keysight FG 33500')\n",
    "fg.connect()"
   ]
  },
  {
   "cell_type": "code",
   "execution_count": null,
   "metadata": {},
   "outputs": [],
   "source": []
  },
  {
   "cell_type": "code",
   "execution_count": 3,
   "metadata": {},
   "outputs": [
    {
     "name": "stderr",
     "output_type": "stream",
     "text": [
      "\u001b[32m2023-08-22 16:25:27.609\u001b[0m | \u001b[1mINFO    \u001b[0m | \u001b[36mTDS2024C OSC\u001b[0m | \u001b[36mDevice.py\u001b[0m:\u001b[36mconnect\u001b[0m:\u001b[36m71\u001b[0m\n",
      "\u001b[1mTDS2024C OSC connected\u001b[0m\n"
     ]
    },
    {
     "data": {
      "text/plain": [
       "1"
      ]
     },
     "execution_count": 3,
     "metadata": {},
     "output_type": "execute_result"
    }
   ],
   "source": [
    "from LFC.Hardware.TDS2024C import TDS2024C\n",
    "osc = TDS2024C()\n",
    "osc.connect()"
   ]
  },
  {
   "cell_type": "code",
   "execution_count": 9,
   "metadata": {},
   "outputs": [],
   "source": [
    "# osc.inst.query_ascii_values(\"CURV?\",delay=5)"
   ]
  },
  {
   "cell_type": "code",
   "execution_count": 6,
   "metadata": {},
   "outputs": [
    {
     "name": "stderr",
     "output_type": "stream",
     "text": [
      "\u001b[32m2023-08-22 10:49:25.996\u001b[0m | \u001b[1mINFO    \u001b[0m | \u001b[36mTDS2024C OSC\u001b[0m | \u001b[36mTDS2024C.py\u001b[0m:\u001b[36mget_trace\u001b[0m:\u001b[36m134\u001b[0m\n",
      "\u001b[1mTDS2024C OSC: Trace 1 data read finished.\u001b[0m\n"
     ]
    },
    {
     "data": {
      "image/png": "[encoded data removed]",
      "text/plain": [
       "<Figure size 432x288 with 1 Axes>"
      ]
     },
     "metadata": {
      "needs_background": "light"
     },
     "output_type": "display_data"
    }
   ],
   "source": [
    "result=osc.get_trace(1)"
   ]
  },
  {
   "cell_type": "code",
   "execution_count": 2,
   "metadata": {},
   "outputs": [
    {
     "name": "stderr",
     "output_type": "stream",
     "text": [
      "\u001b[32m2023-08-22 16:25:20.684\u001b[0m | \u001b[1mINFO    \u001b[0m | \u001b[36mKeysight FG 33500\u001b[0m | \u001b[36mDevice.py\u001b[0m:\u001b[36mconnect\u001b[0m:\u001b[36m71\u001b[0m\n",
      "\u001b[1mKeysight FG 33500 connected\u001b[0m\n"
     ]
    },
    {
     "data": {
      "text/plain": [
       "1"
      ]
     },
     "execution_count": 2,
     "metadata": {},
     "output_type": "execute_result"
    }
   ],
   "source": [
    "from LFC.Hardware.KeysightFG_33500 import KeysightFG_33500\n",
    "fg = KeysightFG_33500(addr='USB0::0x0957::0x2807::MY59003824::INSTR', name='Keysight FG 33500')\n",
    "fg.connect()"
   ]
  },
  {
   "cell_type": "code",
   "execution_count": 13,
   "metadata": {},
   "outputs": [
    {
     "name": "stdout",
     "output_type": "stream",
     "text": [
      "Channel 1 parameters:\n",
      "Frequency: +1.000000000000000E+01\n",
      "\n",
      "Amplitude: +4.0000000000000E+00\n",
      "\n",
      "Offset: +0.0000000000000E+00\n",
      "\n",
      "Phase: +0.0000000000000E+00\n",
      "\n",
      "State: 1\n",
      "\n",
      "Function: DC\n",
      "\n"
     ]
    }
   ],
   "source": [
    "fg.get_channel_parameters(1)"
   ]
  },
  {
   "cell_type": "code",
   "execution_count": 30,
   "metadata": {},
   "outputs": [
    {
     "data": {
      "text/plain": [
       "'0\\n'"
      ]
     },
     "execution_count": 30,
     "metadata": {},
     "output_type": "execute_result"
    }
   ],
   "source": []
  },
  {
   "cell_type": "code",
   "execution_count": 9,
   "metadata": {},
   "outputs": [
    {
     "data": {
      "text/plain": [
       "0.0"
      ]
     },
     "execution_count": 9,
     "metadata": {},
     "output_type": "execute_result"
    }
   ],
   "source": [
    "servo_RB.get_manual_output()\n",
    "#servo_IM.set_manual_output(0.5)"
   ]
  },
  {
   "cell_type": "code",
   "execution_count": 10,
   "metadata": {},
   "outputs": [
    {
     "name": "stderr",
     "output_type": "stream",
     "text": [
      "\u001b[32m2023-08-22 10:41:50.488\u001b[0m | \u001b[1mINFO    \u001b[0m | \u001b[36mRio Laser Fceo Rb spectroscopy Lock Servo\u001b[0m | \u001b[36mSRS_SIM900.py\u001b[0m:\u001b[36mprintStatus\u001b[0m:\u001b[36m201\u001b[0m\n",
      "\u001b[1m--------------------Rio Laser Fceo Rb spectroscopy Lock Servo--------------------\n",
      "|--------------------SRS PID controller SIM960 Status Summary--------------------\n",
      "|----------------------------SIM960,s/n033683,ver2.17----------------------------\n",
      "|\tOutput mode:\t\u001b[1;34;41mMAN\u001b[0m,\tOutput limit: -4.000V TO 4.000V\n",
      "|\tMeasured input:\t 0.065918V\n",
      "|\tAmplified error:\t 0.053935V\n",
      "|\tInstant Output voltage:\t 0.000933V\n",
      "|\tManual output set:\t 0.0V\n",
      "|\t================ Set Point related================\n",
      "|\t\tInternal setpoint = -0.01 V, Ramping \u001b[1;34;41mOFF\u001b[0m\n",
      "|\t\tSetpoint input mode INT, Ext setpoint input -0.009671V\n",
      "|\t\tSetpoint RAMP speed = 0.01 V/s, action \u001b[1;34;41mOFF\u001b[0m\n",
      "|\t============= P,I,D and Offset Status=============\n",
      "|\t\t P = -0.7    , \taction = \u001b[1;34;42mON\u001b[0m\n",
      "|\t\t I = 1500.0 1/s, \taction = \u001b[1;34;42mON\u001b[0m\n",
      "|\t\t D = 6e-05   s, \taction = \u001b[1;34;41mOFF\u001b[0m\n",
      "|\t\tOff = 0.0  V, \taction = \u001b[1;34;42mON\u001b[0m\n",
      "-----------------SRS PID controller SIM960 Status Summary Ends------------------\n",
      "\u001b[0m\n"
     ]
    },
    {
     "data": {
      "text/plain": [
       "'--------------------Rio Laser Fceo Rb spectroscopy Lock Servo--------------------\\n|--------------------SRS PID controller SIM960 Status Summary--------------------\\n|----------------------------SIM960,s/n033683,ver2.17----------------------------\\n|\\tOutput mode:\\t\\x1b[1;34;41mMAN\\x1b[0m,\\tOutput limit: -4.000V TO 4.000V\\n|\\tMeasured input:\\t 0.065918V\\n|\\tAmplified error:\\t 0.053935V\\n|\\tInstant Output voltage:\\t 0.000933V\\n|\\tManual output set:\\t 0.0V\\n|\\t================ Set Point related================\\n|\\t\\tInternal setpoint = -0.01 V, Ramping \\x1b[1;34;41mOFF\\x1b[0m\\n|\\t\\tSetpoint input mode INT, Ext setpoint input -0.009671V\\n|\\t\\tSetpoint RAMP speed = 0.01 V/s, action \\x1b[1;34;41mOFF\\x1b[0m\\n|\\t============= P,I,D and Offset Status=============\\n|\\t\\t P = -0.7    , \\taction = \\x1b[1;34;42mON\\x1b[0m\\n|\\t\\t I = 1500.0 1/s, \\taction = \\x1b[1;34;42mON\\x1b[0m\\n|\\t\\t D = 6e-05   s, \\taction = \\x1b[1;34;41mOFF\\x1b[0m\\n|\\t\\tOff = 0.0  V, \\taction = \\x1b[1;34;42mON\\x1b[0m\\n-----------------SRS PID controller SIM960 Status Summary Ends------------------\\n'"
      ]
     },
     "execution_count": 10,
     "metadata": {},
     "output_type": "execute_result"
    }
   ],
   "source": [
    "servo_RB.printStatus()"
   ]
  },
  {
   "cell_type": "code",
   "execution_count": null,
   "metadata": {},
   "outputs": [],
   "source": [
    "\n",
    "osc.get_trace(1)\n",
    "osc.get_trace(2)\n",
    "#osc.get_trace(3)\n",
    "#osc.get_trace(4)"
   ]
  },
  {
   "cell_type": "code",
   "execution_count": null,
   "metadata": {},
   "outputs": [],
   "source": [
    "#zheng zuo fu you\n",
    "#fg.set_channel_func(1, 'ramp') \n",
    "#osc.get_trace(1)\n",
    "import matplotlib.pyplot as plt\n",
    "import time\n",
    "\n",
    "fg.set_channel_parameters(channel=1, freq=10, amp=8, offset=0, phase=0)\n",
    "time.sleep(2)\n",
    "#fg.set_channel_state(1, 1)\n",
    "osc.get_trace(1)\n",
    "\n",
    "fg.set_channel_parameters(channel=1, freq=10, amp=8, offset=0, phase=5)\n",
    "time.sleep(2)\n",
    "osc.get_trace(1)\n",
    "\n",
    "fg.set_channel_parameters(channel=1, freq=10, amp=8, offset=0, phase=10)\n",
    "time.sleep(2)\n",
    "osc.get_trace(1)\n",
    "\n",
    "fg.set_channel_parameters(channel=1, freq=10, amp=8, offset=0, phase=-5)\n",
    "time.sleep(2)\n",
    "osc.get_trace(1)\n",
    "\n",
    "fg.set_channel_parameters(channel=1, freq=10, amp=8, offset=0, phase=-10)\n",
    "time.sleep(2)\n",
    "osc.get_trace(1)\n",
    "\n",
    "\n",
    "legend=['0','5','10','-5','-10']\n",
    "plt.legend(legend)\n"
   ]
  },
  {
   "cell_type": "code",
   "execution_count": 81,
   "metadata": {},
   "outputs": [
    {
     "name": "stdout",
     "output_type": "stream",
     "text": [
      "Channel 1 parameters:\n",
      "Frequency: +1.000000000000000E+01\n",
      "\n",
      "Amplitude: +8.0000000000000E+00\n",
      "\n",
      "Offset: +0.0000000000000E+00\n",
      "\n",
      "Phase: +0.0000000000000E+00\n",
      "\n",
      "State: 1\n",
      "\n",
      "Function: RAMP\n",
      "\n"
     ]
    }
   ],
   "source": [
    "fg.set_channel_parameters(channel=1, freq=10, amp=8, offset=0, phase=0)"
   ]
  },
  {
   "cell_type": "code",
   "execution_count": 84,
   "metadata": {},
   "outputs": [
    {
     "name": "stderr",
     "output_type": "stream",
     "text": [
      "\u001b[32m2023-08-22 14:18:11.339\u001b[0m | \u001b[33m\u001b[1mWARNING \u001b[0m | \u001b[36mTDS2024C OSC\u001b[0m | \u001b[36mTDS2024C.py\u001b[0m:\u001b[36msave_trace\u001b[0m:\u001b[36m171\u001b[0m\n",
      "\u001b[33m\u001b[1mTDS2024C OSC: To save Filename C:\\Users\\HSFLFC\\Desktop\\Keck\\Keck Comb\\LFC\\Rb_locking_data\\\\amp8_offset0.mat already exists. Previous file renamed.\u001b[0m\n",
      "c:\\Users\\HSFLFC\\Desktop\\Keck\\Keck Comb\\LFC\\Hardware\\Device.py:109: UserWarning: TDS2024C OSC: To save Filename C:\\Users\\HSFLFC\\Desktop\\Keck\\Keck Comb\\LFC\\Rb_locking_data\\\\amp8_offset0.mat already exists. Previous file renamed.\n",
      "  warnings.warn(x)\n",
      "\u001b[32m2023-08-22 14:18:16.526\u001b[0m | \u001b[1mINFO    \u001b[0m | \u001b[36mTDS2024C OSC\u001b[0m | \u001b[36mTDS2024C.py\u001b[0m:\u001b[36mget_trace\u001b[0m:\u001b[36m134\u001b[0m\n",
      "\u001b[1mTDS2024C OSC: Trace 1 data read finished.\u001b[0m\n",
      "\u001b[32m2023-08-22 14:18:16.543\u001b[0m | \u001b[33m\u001b[1mWARNING \u001b[0m | \u001b[36mTDS2024C OSC\u001b[0m | \u001b[36mTDS2024C.py\u001b[0m:\u001b[36msave_trace\u001b[0m:\u001b[36m189\u001b[0m\n",
      "\u001b[33m\u001b[1mTDS2024C OSC: Save trace to C:\\Users\\HSFLFC\\Desktop\\Keck\\Keck Comb\\LFC\\Rb_locking_data\\\\amp8_offset0.mat failed.\u001b[0m\n",
      "c:\\Users\\HSFLFC\\Desktop\\Keck\\Keck Comb\\LFC\\Hardware\\Device.py:109: UserWarning: TDS2024C OSC: Save trace to C:\\Users\\HSFLFC\\Desktop\\Keck\\Keck Comb\\LFC\\Rb_locking_data\\\\amp8_offset0.mat failed.\n",
      "  warnings.warn(x)\n",
      "\u001b[32m2023-08-22 14:18:16.543\u001b[0m | \u001b[1mINFO    \u001b[0m | \u001b[36mTDS2024C OSC\u001b[0m | \u001b[36mTDS2024C.py\u001b[0m:\u001b[36msave_trace\u001b[0m:\u001b[36m192\u001b[0m\n",
      "\u001b[1mError:<class 'TypeError'>\u001b[0m\n"
     ]
    },
    {
     "data": {
      "image/png": "[encoded data removed]",
      "text/plain": [
       "<Figure size 432x288 with 1 Axes>"
      ]
     },
     "metadata": {
      "needs_background": "light"
     },
     "output_type": "display_data"
    }
   ],
   "source": [
    "filedir = r\"C:\\Users\\HSFLFC\\Desktop\\Keck\\Keck Comb\\LFC\\Rb_locking_data\\\\\"\n",
    "filename = f\"amp8_offset0\"\n",
    "filen= filedir + filename\n",
    "osc.save_trace(filename=filen, trace=1,extensions='.mat')"
   ]
  },
  {
   "cell_type": "code",
   "execution_count": 2,
   "metadata": {},
   "outputs": [
    {
     "name": "stderr",
     "output_type": "stream",
     "text": [
      "\u001b[32m2023-08-28 19:05:21.769\u001b[0m | \u001b[1mINFO    \u001b[0m | \u001b[36mRio Laser Fceo Rb spectroscopy Lock Servo\u001b[0m | \u001b[36mSRS_SIM900.py\u001b[0m:\u001b[36mset_output_mode\u001b[0m:\u001b[36m537\u001b[0m\n",
      "\u001b[1mRio Laser Fceo Rb spectroscopy Lock Servo: PID output is turned OFF, output mode is turnd to Manual.\u001b[0m\n"
     ]
    },
    {
     "name": "stdout",
     "output_type": "stream",
     "text": [
      "Channel 1 parameters:\n",
      "Frequency: 10.0\n",
      "Amplitude: 1.216\n",
      "Offset: -2.93658\n",
      "Phase: 0.0\n",
      "State: 0\n",
      "\n",
      "Function: RAMP\n",
      "\n"
     ]
    },
    {
     "name": "stderr",
     "output_type": "stream",
     "text": [
      "\u001b[32m2023-08-28 19:05:27.006\u001b[0m | \u001b[1mINFO    \u001b[0m | \u001b[36mRio Laser Fceo Rb spectroscopy Lock Servo\u001b[0m | \u001b[36mSRS_SIM900.py\u001b[0m:\u001b[36mprintStatus\u001b[0m:\u001b[36m201\u001b[0m\n",
      "\u001b[1m--------------------Rio Laser Fceo Rb spectroscopy Lock Servo--------------------\n",
      "|--------------------SRS PID controller SIM960 Status Summary--------------------\n",
      "|----------------------------SIM960,s/n033683,ver2.17----------------------------\n",
      "|\tOutput mode:\t\u001b[1;34;41mMAN\u001b[0m,\tOutput limit: -4.000V TO 4.000V\n",
      "|\tMeasured input:\t 0.000248V\n",
      "|\tAmplified error:\t 0.006432V\n",
      "|\tInstant Output voltage:\t -2.4e-05V\n",
      "|\tManual output set:\t 0.0V\n",
      "|\t================ Set Point related================\n",
      "|\t\tInternal setpoint = -0.01 V, Ramping \u001b[1;34;41mOFF\u001b[0m\n",
      "|\t\tSetpoint input mode INT, Ext setpoint input -0.009687V\n",
      "|\t\tSetpoint RAMP speed = 0.01 V/s, action \u001b[1;34;41mOFF\u001b[0m\n",
      "|\t============= P,I,D and Offset Status=============\n",
      "|\t\t P = -0.7    , \taction = \u001b[1;34;42mON\u001b[0m\n",
      "|\t\t I = 1500.0 1/s, \taction = \u001b[1;34;42mON\u001b[0m\n",
      "|\t\t D = 6e-05   s, \taction = \u001b[1;34;41mOFF\u001b[0m\n",
      "|\t\tOff = 0.0  V, \taction = \u001b[1;34;42mON\u001b[0m\n",
      "-----------------SRS PID controller SIM960 Status Summary Ends------------------\n",
      "\u001b[0m\n"
     ]
    }
   ],
   "source": [
    "autolock.end_lock()"
   ]
  },
  {
   "cell_type": "code",
   "execution_count": 1,
   "metadata": {},
   "outputs": [
    {
     "name": "stderr",
     "output_type": "stream",
     "text": [
      "\u001b[32m2023-08-28 19:04:36.487\u001b[0m | \u001b[1mINFO    \u001b[0m | \u001b[36mDevice\u001b[0m | \u001b[36mDevice.py\u001b[0m:\u001b[36m<module>\u001b[0m:\u001b[36m44\u001b[0m\n",
      "\u001b[1mlogger initialized\u001b[0m\n",
      "\u001b[32m2023-08-28 19:04:37.561\u001b[0m | \u001b[1mINFO    \u001b[0m | \u001b[36mStanford Research System SIM900\u001b[0m | \u001b[36mDevice.py\u001b[0m:\u001b[36mconnect\u001b[0m:\u001b[36m71\u001b[0m\n",
      "\u001b[1mStanford Research System SIM900 connected\u001b[0m\n",
      "\u001b[32m2023-08-28 19:04:38.369\u001b[0m | \u001b[1mINFO    \u001b[0m | \u001b[36mTDS2024C OSC\u001b[0m | \u001b[36mDevice.py\u001b[0m:\u001b[36mconnect\u001b[0m:\u001b[36m71\u001b[0m\n",
      "\u001b[1mTDS2024C OSC connected\u001b[0m\n",
      "\u001b[32m2023-08-28 19:04:38.380\u001b[0m | \u001b[1mINFO    \u001b[0m | \u001b[36mKeysight FG 33500\u001b[0m | \u001b[36mDevice.py\u001b[0m:\u001b[36mconnect\u001b[0m:\u001b[36m71\u001b[0m\n",
      "\u001b[1mKeysight FG 33500 connected\u001b[0m\n"
     ]
    }
   ],
   "source": [
    "from LFC.Hardware.SRS_SIM900 import SRS_SIM900, SRS_PIDcontrol_SIM960\n",
    "srs = SRS_SIM900(addr='GPIB0::2::INSTR')\n",
    "srs.connect()\n",
    "servo_FC = SRS_PIDcontrol_SIM960(srs, 1, name='Filter Cavity PDH Lock Servo')\n",
    "servo_IM = SRS_PIDcontrol_SIM960(srs, 3, name='Minicomb Intensity Lock Servo')\n",
    "servo_RB = SRS_PIDcontrol_SIM960(srs, 5, name='Rio Laser Fceo Rb spectroscopy Lock Servo')\n",
    "from LFC.Hardware.TDS2024C import TDS2024C\n",
    "osc = TDS2024C()\n",
    "osc.connect()\n",
    "from LFC.Hardware.KeysightFG_33500 import KeysightFG_33500\n",
    "fg = KeysightFG_33500(addr='USB0::0x0957::0x2807::MY59003824::INSTR', name='Keysight FG 33500')\n",
    "fg.connect()\n",
    "from LFC.Hardware import autolock\n",
    "import time\n",
    "import matplotlib.pyplot as plt\n",
    "autolock = autolock.AutoRbLock(osc, fg, servo_RB)"
   ]
  },
  {
   "cell_type": "code",
   "execution_count": 2,
   "metadata": {},
   "outputs": [
    {
     "name": "stderr",
     "output_type": "stream",
     "text": [
      "\u001b[32m2023-08-23 12:34:42.337\u001b[0m | \u001b[1mINFO    \u001b[0m | \u001b[36mRio Laser Fceo Rb spectroscopy Lock Servo\u001b[0m | \u001b[36mSRS_SIM900.py\u001b[0m:\u001b[36mset_output_mode\u001b[0m:\u001b[36m537\u001b[0m\n",
      "\u001b[1mRio Laser Fceo Rb spectroscopy Lock Servo: PID output is turned OFF, output mode is turnd to Manual.\u001b[0m\n"
     ]
    },
    {
     "name": "stdout",
     "output_type": "stream",
     "text": [
      "Channel 1 parameters:\n",
      "Frequency: 10.0\n",
      "Amplitude: 8.0\n",
      "Offset: 0.0\n",
      "Phase: 0.0\n",
      "State: 1\n",
      "\n",
      "Function: DC\n",
      "\n",
      "RAMP\n",
      "\n"
     ]
    },
    {
     "name": "stderr",
     "output_type": "stream",
     "text": [
      "\u001b[32m2023-08-23 12:35:11.078\u001b[0m | \u001b[1mINFO    \u001b[0m | \u001b[36mTDS2024C OSC\u001b[0m | \u001b[36mTDS2024C.py\u001b[0m:\u001b[36mget_trace\u001b[0m:\u001b[36m134\u001b[0m\n",
      "\u001b[1mTDS2024C OSC: Trace 1 data read finished.\u001b[0m\n"
     ]
    },
    {
     "data": {
      "text/plain": [
       "[<matplotlib.lines.Line2D at 0x2bc88ed1460>]"
      ]
     },
     "execution_count": 2,
     "metadata": {},
     "output_type": "execute_result"
    },
    {
     "data": {
      "image/png": "[encoded data removed]",
      "text/plain": [
       "<Figure size 432x288 with 1 Axes>"
      ]
     },
     "metadata": {
      "needs_background": "light"
     },
     "output_type": "display_data"
    }
   ],
   "source": [
    "# tart with full trace amp=8, offset=0\n",
    "servo_RB.output_mode='man'\n",
    "fg.set_channel_parameters(channel=1, freq=10, amp=8, offset=0, phase=0)\n",
    "fg.set_channel_func(1, 'ramp')\n",
    "fg.set_channel_state(1, 1)\n",
    "time.sleep(24)\n",
    "trace_x,trace_y=autolock.get_trace(trace = 1)\n",
    "plt.plot(trace_x,trace_y)"
   ]
  },
  {
   "cell_type": "code",
   "execution_count": 3,
   "metadata": {},
   "outputs": [
    {
     "name": "stdout",
     "output_type": "stream",
     "text": [
      "max position=498\n",
      "1.216 -2.4064\n"
     ]
    },
    {
     "data": {
      "image/png": "[encoded data removed]",
      "text/plain": [
       "<Figure size 432x288 with 1 Axes>"
      ]
     },
     "metadata": {
      "needs_background": "light"
     },
     "output_type": "display_data"
    }
   ],
   "source": [
    "# get step 1 trace\n",
    "namp,noffset,_,_=autolock.cvv(trace_x,trace_y,1)\n",
    "print(namp,noffset)"
   ]
  },
  {
   "cell_type": "code",
   "execution_count": 4,
   "metadata": {},
   "outputs": [
    {
     "name": "stdout",
     "output_type": "stream",
     "text": [
      "Channel 1 parameters:\n",
      "Frequency: 10.0\n",
      "Amplitude: 1.216\n",
      "Offset: -2.4064\n",
      "Phase: 0.0\n",
      "State: 1\n",
      "\n",
      "Function: RAMP\n",
      "\n",
      "Channel 1 parameters:\n",
      "Frequency: 10.0\n",
      "Amplitude: 1.216\n",
      "Offset: -3.0144\n",
      "Phase: 0.0\n",
      "State: 1\n",
      "\n",
      "Function: RAMP\n",
      "\n"
     ]
    },
    {
     "name": "stderr",
     "output_type": "stream",
     "text": [
      "\u001b[32m2023-08-23 12:35:50.219\u001b[0m | \u001b[1mINFO    \u001b[0m | \u001b[36mTDS2024C OSC\u001b[0m | \u001b[36mTDS2024C.py\u001b[0m:\u001b[36mget_trace\u001b[0m:\u001b[36m134\u001b[0m\n",
      "\u001b[1mTDS2024C OSC: Trace 1 data read finished.\u001b[0m\n"
     ]
    },
    {
     "name": "stdout",
     "output_type": "stream",
     "text": [
      "max position=1410\n",
      "Channel 1 parameters:\n",
      "Frequency: 10.0\n",
      "Amplitude: 1.216\n",
      "Offset: -2.8928\n",
      "Phase: 0.0\n",
      "State: 1\n",
      "\n",
      "Function: RAMP\n",
      "\n"
     ]
    },
    {
     "name": "stderr",
     "output_type": "stream",
     "text": [
      "\u001b[32m2023-08-23 12:36:19.817\u001b[0m | \u001b[1mINFO    \u001b[0m | \u001b[36mTDS2024C OSC\u001b[0m | \u001b[36mTDS2024C.py\u001b[0m:\u001b[36mget_trace\u001b[0m:\u001b[36m134\u001b[0m\n",
      "\u001b[1mTDS2024C OSC: Trace 1 data read finished.\u001b[0m\n"
     ]
    },
    {
     "name": "stdout",
     "output_type": "stream",
     "text": [
      "max position=1011\n",
      "Channel 1 parameters:\n",
      "Frequency: 10.0\n",
      "Amplitude: 1.216\n",
      "Offset: -2.7712\n",
      "Phase: 0.0\n",
      "State: 1\n",
      "\n",
      "Function: RAMP\n",
      "\n"
     ]
    },
    {
     "name": "stderr",
     "output_type": "stream",
     "text": [
      "\u001b[32m2023-08-23 12:36:48.850\u001b[0m | \u001b[1mINFO    \u001b[0m | \u001b[36mTDS2024C OSC\u001b[0m | \u001b[36mTDS2024C.py\u001b[0m:\u001b[36mget_trace\u001b[0m:\u001b[36m134\u001b[0m\n",
      "\u001b[1mTDS2024C OSC: Trace 1 data read finished.\u001b[0m\n"
     ]
    },
    {
     "name": "stdout",
     "output_type": "stream",
     "text": [
      "max position=810\n",
      "Channel 1 parameters:\n",
      "Frequency: 10.0\n",
      "Amplitude: 1.216\n",
      "Offset: -2.6496\n",
      "Phase: 0.0\n",
      "State: 1\n",
      "\n",
      "Function: RAMP\n",
      "\n"
     ]
    },
    {
     "name": "stderr",
     "output_type": "stream",
     "text": [
      "\u001b[32m2023-08-23 12:37:18.099\u001b[0m | \u001b[1mINFO    \u001b[0m | \u001b[36mTDS2024C OSC\u001b[0m | \u001b[36mTDS2024C.py\u001b[0m:\u001b[36mget_trace\u001b[0m:\u001b[36m134\u001b[0m\n",
      "\u001b[1mTDS2024C OSC: Trace 1 data read finished.\u001b[0m\n"
     ]
    },
    {
     "name": "stdout",
     "output_type": "stream",
     "text": [
      "max position=602\n",
      "Channel 1 parameters:\n",
      "Frequency: 10.0\n",
      "Amplitude: 1.216\n",
      "Offset: -2.528\n",
      "Phase: 0.0\n",
      "State: 1\n",
      "\n",
      "Function: RAMP\n",
      "\n"
     ]
    },
    {
     "name": "stderr",
     "output_type": "stream",
     "text": [
      "\u001b[32m2023-08-23 12:37:47.569\u001b[0m | \u001b[1mINFO    \u001b[0m | \u001b[36mTDS2024C OSC\u001b[0m | \u001b[36mTDS2024C.py\u001b[0m:\u001b[36mget_trace\u001b[0m:\u001b[36m134\u001b[0m\n",
      "\u001b[1mTDS2024C OSC: Trace 1 data read finished.\u001b[0m\n"
     ]
    },
    {
     "name": "stdout",
     "output_type": "stream",
     "text": [
      "max position=430\n",
      "Channel 1 parameters:\n",
      "Frequency: 10.0\n",
      "Amplitude: 1.216\n",
      "Offset: -2.4064\n",
      "Phase: 0.0\n",
      "State: 1\n",
      "\n",
      "Function: RAMP\n",
      "\n"
     ]
    },
    {
     "name": "stderr",
     "output_type": "stream",
     "text": [
      "\u001b[32m2023-08-23 12:38:16.695\u001b[0m | \u001b[1mINFO    \u001b[0m | \u001b[36mTDS2024C OSC\u001b[0m | \u001b[36mTDS2024C.py\u001b[0m:\u001b[36mget_trace\u001b[0m:\u001b[36m134\u001b[0m\n",
      "\u001b[1mTDS2024C OSC: Trace 1 data read finished.\u001b[0m\n"
     ]
    },
    {
     "name": "stdout",
     "output_type": "stream",
     "text": [
      "max position=1292\n",
      "Channel 1 parameters:\n",
      "Frequency: 10.0\n",
      "Amplitude: 1.216\n",
      "Offset: -2.2848\n",
      "Phase: 0.0\n",
      "State: 1\n",
      "\n",
      "Function: RAMP\n",
      "\n"
     ]
    },
    {
     "name": "stderr",
     "output_type": "stream",
     "text": [
      "\u001b[32m2023-08-23 12:38:45.852\u001b[0m | \u001b[1mINFO    \u001b[0m | \u001b[36mTDS2024C OSC\u001b[0m | \u001b[36mTDS2024C.py\u001b[0m:\u001b[36mget_trace\u001b[0m:\u001b[36m134\u001b[0m\n",
      "\u001b[1mTDS2024C OSC: Trace 1 data read finished.\u001b[0m\n"
     ]
    },
    {
     "name": "stdout",
     "output_type": "stream",
     "text": [
      "max position=1086\n",
      "Channel 1 parameters:\n",
      "Frequency: 10.0\n",
      "Amplitude: 1.216\n",
      "Offset: -2.1632\n",
      "Phase: 0.0\n",
      "State: 1\n",
      "\n",
      "Function: RAMP\n",
      "\n"
     ]
    },
    {
     "name": "stderr",
     "output_type": "stream",
     "text": [
      "\u001b[32m2023-08-23 12:39:14.975\u001b[0m | \u001b[1mINFO    \u001b[0m | \u001b[36mTDS2024C OSC\u001b[0m | \u001b[36mTDS2024C.py\u001b[0m:\u001b[36mget_trace\u001b[0m:\u001b[36m134\u001b[0m\n",
      "\u001b[1mTDS2024C OSC: Trace 1 data read finished.\u001b[0m\n"
     ]
    },
    {
     "name": "stdout",
     "output_type": "stream",
     "text": [
      "max position=880\n",
      "Channel 1 parameters:\n",
      "Frequency: 10.0\n",
      "Amplitude: 1.216\n",
      "Offset: -2.0416\n",
      "Phase: 0.0\n",
      "State: 1\n",
      "\n",
      "Function: RAMP\n",
      "\n"
     ]
    },
    {
     "name": "stderr",
     "output_type": "stream",
     "text": [
      "\u001b[32m2023-08-23 12:39:43.983\u001b[0m | \u001b[1mINFO    \u001b[0m | \u001b[36mTDS2024C OSC\u001b[0m | \u001b[36mTDS2024C.py\u001b[0m:\u001b[36mget_trace\u001b[0m:\u001b[36m134\u001b[0m\n",
      "\u001b[1mTDS2024C OSC: Trace 1 data read finished.\u001b[0m\n"
     ]
    },
    {
     "name": "stdout",
     "output_type": "stream",
     "text": [
      "max position=669\n",
      "Channel 1 parameters:\n",
      "Frequency: 10.0\n",
      "Amplitude: 1.216\n",
      "Offset: -1.92\n",
      "Phase: 0.0\n",
      "State: 1\n",
      "\n",
      "Function: RAMP\n",
      "\n"
     ]
    },
    {
     "name": "stderr",
     "output_type": "stream",
     "text": [
      "\u001b[32m2023-08-23 12:40:12.996\u001b[0m | \u001b[1mINFO    \u001b[0m | \u001b[36mTDS2024C OSC\u001b[0m | \u001b[36mTDS2024C.py\u001b[0m:\u001b[36mget_trace\u001b[0m:\u001b[36m134\u001b[0m\n",
      "\u001b[1mTDS2024C OSC: Trace 1 data read finished.\u001b[0m\n"
     ]
    },
    {
     "name": "stdout",
     "output_type": "stream",
     "text": [
      "max position=410\n",
      "Channel 1 parameters:\n",
      "Frequency: 10.0\n",
      "Amplitude: 1.216\n",
      "Offset: -1.7984\n",
      "Phase: 0.0\n",
      "State: 1\n",
      "\n",
      "Function: RAMP\n",
      "\n"
     ]
    },
    {
     "name": "stderr",
     "output_type": "stream",
     "text": [
      "\u001b[32m2023-08-23 12:40:42.146\u001b[0m | \u001b[1mINFO    \u001b[0m | \u001b[36mTDS2024C OSC\u001b[0m | \u001b[36mTDS2024C.py\u001b[0m:\u001b[36mget_trace\u001b[0m:\u001b[36m134\u001b[0m\n",
      "\u001b[1mTDS2024C OSC: Trace 1 data read finished.\u001b[0m\n"
     ]
    },
    {
     "name": "stdout",
     "output_type": "stream",
     "text": [
      "max position=410\n"
     ]
    },
    {
     "data": {
      "image/png": "[encoded data removed]",
      "text/plain": [
       "<Figure size 432x288 with 1 Axes>"
      ]
     },
     "metadata": {
      "needs_background": "light"
     },
     "output_type": "display_data"
    }
   ],
   "source": [
    "# scan step 1 trace, get better offset\n",
    "fg.set_channel_parameters(channel=1, freq=10, amp=namp, offset=noffset, phase=0)\n",
    "noffset=autolock.scan_offset(step=2)"
   ]
  },
  {
   "cell_type": "code",
   "execution_count": 5,
   "metadata": {},
   "outputs": [
    {
     "name": "stdout",
     "output_type": "stream",
     "text": [
      "Channel 1 parameters:\n",
      "Frequency: 10.0\n",
      "Amplitude: 1.216\n",
      "Offset: -2.93658\n",
      "Phase: 0.0\n",
      "State: 1\n",
      "\n",
      "Function: RAMP\n",
      "\n"
     ]
    },
    {
     "name": "stderr",
     "output_type": "stream",
     "text": [
      "\u001b[32m2023-08-23 12:53:52.564\u001b[0m | \u001b[1mINFO    \u001b[0m | \u001b[36mTDS2024C OSC\u001b[0m | \u001b[36mTDS2024C.py\u001b[0m:\u001b[36mget_trace\u001b[0m:\u001b[36m134\u001b[0m\n",
      "\u001b[1mTDS2024C OSC: Trace 1 data read finished.\u001b[0m\n"
     ]
    },
    {
     "data": {
      "text/plain": [
       "[<matplotlib.lines.Line2D at 0x2bc8913fe50>]"
      ]
     },
     "execution_count": 5,
     "metadata": {},
     "output_type": "execute_result"
    },
    {
     "data": {
      "image/png": "[encoded data removed]",
      "text/plain": [
       "<Figure size 432x288 with 1 Axes>"
      ]
     },
     "metadata": {
      "needs_background": "light"
     },
     "output_type": "display_data"
    }
   ],
   "source": [
    "#set to find step 2 trace\n",
    "fg.set_channel_parameters(channel=1, freq=10, amp=namp, offset=noffset, phase=0)\n",
    "time.sleep(24)\n",
    "trace_x,trace_y=autolock.get_trace(trace = 1)\n",
    "plt.plot(trace_x,trace_y)"
   ]
  },
  {
   "cell_type": "code",
   "execution_count": 6,
   "metadata": {},
   "outputs": [
    {
     "name": "stdout",
     "output_type": "stream",
     "text": [
      "max position=1118\n",
      "0.39884800000000004 -3.0178047999999995\n"
     ]
    },
    {
     "data": {
      "image/png": "[encoded data removed]",
      "text/plain": [
       "<Figure size 432x288 with 1 Axes>"
      ]
     },
     "metadata": {
      "needs_background": "light"
     },
     "output_type": "display_data"
    }
   ],
   "source": [
    "#find step 2 trace, amp and offset\n",
    "namp,noffset,_,_=autolock.cvv(trace_x,trace_y,2)\n",
    "print(namp,noffset)"
   ]
  },
  {
   "cell_type": "code",
   "execution_count": 7,
   "metadata": {},
   "outputs": [
    {
     "name": "stdout",
     "output_type": "stream",
     "text": [
      "Channel 1 parameters:\n",
      "Frequency: 10.0\n",
      "Amplitude: 0.39885\n",
      "Offset: -3.0178\n",
      "Phase: 0.0\n",
      "State: 1\n",
      "\n",
      "Function: RAMP\n",
      "\n"
     ]
    },
    {
     "name": "stderr",
     "output_type": "stream",
     "text": [
      "\u001b[32m2023-08-23 08:23:24.411\u001b[0m | \u001b[1mINFO    \u001b[0m | \u001b[36mTDS2024C OSC\u001b[0m | \u001b[36mTDS2024C.py\u001b[0m:\u001b[36mget_trace\u001b[0m:\u001b[36m134\u001b[0m\n",
      "\u001b[1mTDS2024C OSC: Trace 1 data read finished.\u001b[0m\n"
     ]
    },
    {
     "name": "stdout",
     "output_type": "stream",
     "text": [
      "max position=940\n",
      "0.1276320000000001 -3.0672574\n"
     ]
    },
    {
     "data": {
      "image/png": "[encoded data removed]",
      "text/plain": [
       "<Figure size 432x288 with 1 Axes>"
      ]
     },
     "metadata": {
      "needs_background": "light"
     },
     "output_type": "display_data"
    }
   ],
   "source": [
    "#go directly to step 3 trace, no scan offset\n",
    "fg.set_channel_parameters(channel=1, freq=10, amp=namp, offset=noffset, phase=0)\n",
    "time.sleep(24)\n",
    "trace_x,trace_y=autolock.get_trace(trace = 1)\n",
    "plt.plot(trace_x,trace_y)\n",
    "\n",
    "namp,noffset,_,_=autolock.cvv(trace_x,trace_y,3)\n",
    "print(namp,noffset)"
   ]
  },
  {
   "cell_type": "code",
   "execution_count": 8,
   "metadata": {},
   "outputs": [
    {
     "name": "stdout",
     "output_type": "stream",
     "text": [
      "DC\n",
      "\n",
      "Channel 1 parameters:\n",
      "Frequency: 10.0\n",
      "Amplitude: 0.12763\n",
      "Offset: -3.06726\n",
      "Phase: 0.0\n",
      "State: 1\n",
      "\n",
      "Function: DC\n",
      "\n"
     ]
    },
    {
     "name": "stderr",
     "output_type": "stream",
     "text": [
      "\u001b[32m2023-08-23 08:23:35.676\u001b[0m | \u001b[1mINFO    \u001b[0m | \u001b[36mRio Laser Fceo Rb spectroscopy Lock Servo\u001b[0m | \u001b[36mSRS_SIM900.py\u001b[0m:\u001b[36mset_output_mode\u001b[0m:\u001b[36m534\u001b[0m\n",
      "\u001b[1mRio Laser Fceo Rb spectroscopy Lock Servo: PID output is turned ON.\u001b[0m\n"
     ]
    },
    {
     "name": "stdout",
     "output_type": "stream",
     "text": [
      "Channel 1 parameters:\n",
      "Frequency: 10.0\n",
      "Amplitude: 0.12763\n",
      "Offset: -3.06726\n",
      "Phase: 0.0\n",
      "State: 1\n",
      "\n",
      "Function: DC\n",
      "\n"
     ]
    },
    {
     "name": "stderr",
     "output_type": "stream",
     "text": [
      "\u001b[32m2023-08-23 08:23:40.862\u001b[0m | \u001b[1mINFO    \u001b[0m | \u001b[36mRio Laser Fceo Rb spectroscopy Lock Servo\u001b[0m | \u001b[36mSRS_SIM900.py\u001b[0m:\u001b[36mprintStatus\u001b[0m:\u001b[36m201\u001b[0m\n",
      "\u001b[1m--------------------Rio Laser Fceo Rb spectroscopy Lock Servo--------------------\n",
      "|--------------------SRS PID controller SIM960 Status Summary--------------------\n",
      "|----------------------------SIM960,s/n033683,ver2.17----------------------------\n",
      "|\tOutput mode:\t\u001b[1;34;42mPID\u001b[0m,\tOutput limit: -4.000V TO 4.000V\n",
      "|\tMeasured input:\t -0.009041V\n",
      "|\tAmplified error:\t 0.000752V\n",
      "|\tInstant Output voltage:\t -0.047144V\n",
      "|\tManual output set:\t 0.0V\n",
      "|\t================ Set Point related================\n",
      "|\t\tInternal setpoint = -0.01 V, Ramping \u001b[1;34;41mOFF\u001b[0m\n",
      "|\t\tSetpoint input mode INT, Ext setpoint input -0.00944V\n",
      "|\t\tSetpoint RAMP speed = 0.01 V/s, action \u001b[1;34;41mOFF\u001b[0m\n",
      "|\t============= P,I,D and Offset Status=============\n",
      "|\t\t P = -0.7    , \taction = \u001b[1;34;42mON\u001b[0m\n",
      "|\t\t I = 1500.0 1/s, \taction = \u001b[1;34;42mON\u001b[0m\n",
      "|\t\t D = 6e-05   s, \taction = \u001b[1;34;41mOFF\u001b[0m\n",
      "|\t\tOff = 0.0  V, \taction = \u001b[1;34;42mON\u001b[0m\n",
      "-----------------SRS PID controller SIM960 Status Summary Ends------------------\n",
      "\u001b[0m\n"
     ]
    },
    {
     "name": "stdout",
     "output_type": "stream",
     "text": [
      "Channel 1 parameters:\n",
      "Frequency: 10.0\n",
      "Amplitude: 0.063816\n",
      "Offset: -3.06726\n",
      "Phase: 0.0\n",
      "State: 1\n",
      "\n",
      "Function: DC\n",
      "\n",
      "RAMP\n",
      "\n",
      "Channel 1 parameters:\n",
      "Frequency: 10.0\n",
      "Amplitude: 0.063816\n",
      "Offset: -3.06726\n",
      "Phase: 0.0\n",
      "State: 1\n",
      "\n",
      "Function: RAMP\n",
      "\n",
      "DC\n",
      "\n",
      "lock success\n"
     ]
    },
    {
     "data": {
      "text/plain": [
       "1"
      ]
     },
     "execution_count": 8,
     "metadata": {},
     "output_type": "execute_result"
    },
    {
     "data": {
      "image/png": "[encoded data removed]",
      "text/plain": [
       "<Figure size 432x288 with 1 Axes>"
      ]
     },
     "metadata": {
      "needs_background": "light"
     },
     "output_type": "display_data"
    }
   ],
   "source": [
    "# lock and lock test\n",
    "autolock.lock(namp,noffset)\n",
    "time.sleep(2)\n",
    "autolock.lock_test(namp)"
   ]
  },
  {
   "cell_type": "code",
   "execution_count": null,
   "metadata": {},
   "outputs": [],
   "source": [
    "########################### END OF RB LOCKING ######################################################"
   ]
  },
  {
   "cell_type": "code",
   "execution_count": null,
   "metadata": {},
   "outputs": [],
   "source": [
    "fg.set_channel_parameters(channel=1, freq=10, amp=namp, offset=noffset, phase=0)\n",
    "autolock.scan_offset(step=2)"
   ]
  },
  {
   "cell_type": "code",
   "execution_count": 11,
   "metadata": {},
   "outputs": [
    {
     "name": "stdout",
     "output_type": "stream",
     "text": [
      "Channel 1 parameters:\n",
      "Frequency: 10.0\n",
      "Amplitude: 0.39885\n",
      "Offset: -3.0536\n",
      "Phase: 0.0\n",
      "State: 1\n",
      "\n",
      "Function: RAMP\n",
      "\n"
     ]
    },
    {
     "name": "stderr",
     "output_type": "stream",
     "text": [
      "\u001b[32m2023-08-22 20:24:50.561\u001b[0m | \u001b[1mINFO    \u001b[0m | \u001b[36mTDS2024C OSC\u001b[0m | \u001b[36mTDS2024C.py\u001b[0m:\u001b[36mget_trace\u001b[0m:\u001b[36m134\u001b[0m\n",
      "\u001b[1mTDS2024C OSC: Trace 1 data read finished.\u001b[0m\n"
     ]
    },
    {
     "data": {
      "image/png": "[encoded data removed]",
      "text/plain": [
       "<Figure size 432x288 with 1 Axes>"
      ]
     },
     "metadata": {
      "needs_background": "light"
     },
     "output_type": "display_data"
    }
   ],
   "source": [
    "fg.set_channel_parameters(channel=1, freq=10,amp=namp,offset=noffset,phase=0 )\n",
    "time.sleep(25)\n",
    "# wvfm0=osc.get_trace(1)\n",
    "# time.sleep(1)\n",
    "# wvfm=osc.get_trace(1)\n",
    "# time.sleep(1)\n",
    "wvfm1=osc.get_trace(1)\n",
    "x1=wvfm1['X']\n",
    "y1=wvfm1['Y']\n"
   ]
  },
  {
   "cell_type": "code",
   "execution_count": 10,
   "metadata": {},
   "outputs": [
    {
     "data": {
      "image/png": "[encoded data removed]",
      "text/plain": [
       "<Figure size 432x288 with 1 Axes>"
      ]
     },
     "metadata": {
      "needs_background": "light"
     },
     "output_type": "display_data"
    }
   ],
   "source": [
    "from scipy.io import loadmat\n",
    "import numpy as np\n",
    "import matplotlib.pyplot as plt\n",
    "\n",
    "# file_dir1=r\"C:\\Users\\HSFLFC\\Desktop\\Keck\\Keck Comb\\LFC\\Rb_locking_data\\amp8_offset0.mat\"\n",
    "# data=loadmat(file_dir1)\n",
    "# xx=data['X']\n",
    "# yy=data['Y']\n",
    "# xx=xx.flatten()\n",
    "# yy=yy.flatten()\n",
    "xx=x1\n",
    "yy=y1\n",
    "plt.plot(xx,yy)\n",
    "a=700\n",
    "b=1500\n",
    "corex=xx[a:b]\n",
    "corey=yy[a:b]\n",
    "plt.plot(corex,corey)\n",
    "np.save(r\"C:\\Users\\HSFLFC\\Desktop\\Keck\\Keck Comb\\LFC\\Rb_locking_data\\03.npy\",np.array([corex,corey]))\n"
   ]
  },
  {
   "cell_type": "code",
   "execution_count": 4,
   "metadata": {},
   "outputs": [
    {
     "name": "stderr",
     "output_type": "stream",
     "text": [
      "\u001b[32m2023-08-22 19:22:25.906\u001b[0m | \u001b[1mINFO    \u001b[0m | \u001b[36mRio Laser Fceo Rb spectroscopy Lock Servo\u001b[0m | \u001b[36mSRS_SIM900.py\u001b[0m:\u001b[36mset_output_mode\u001b[0m:\u001b[36m537\u001b[0m\n",
      "\u001b[1mRio Laser Fceo Rb spectroscopy Lock Servo: PID output is turned OFF, output mode is turnd to Manual.\u001b[0m\n",
      "\u001b[32m2023-08-22 19:22:31.113\u001b[0m | \u001b[1mINFO    \u001b[0m | \u001b[36mRio Laser Fceo Rb spectroscopy Lock Servo\u001b[0m | \u001b[36mSRS_SIM900.py\u001b[0m:\u001b[36mprintStatus\u001b[0m:\u001b[36m201\u001b[0m\n",
      "\u001b[1m--------------------Rio Laser Fceo Rb spectroscopy Lock Servo--------------------\n",
      "|--------------------SRS PID controller SIM960 Status Summary--------------------\n",
      "|----------------------------SIM960,s/n033683,ver2.17----------------------------\n",
      "|\tOutput mode:\t\u001b[1;34;41mMAN\u001b[0m,\tOutput limit: -4.000V TO 4.000V\n",
      "|\tMeasured input:\t -0.063639V\n",
      "|\tAmplified error:\t -0.035358V\n",
      "|\tInstant Output voltage:\t -0.056985V\n",
      "|\tManual output set:\t 0.0V\n",
      "|\t================ Set Point related================\n",
      "|\t\tInternal setpoint = -0.01 V, Ramping \u001b[1;34;41mOFF\u001b[0m\n",
      "|\t\tSetpoint input mode INT, Ext setpoint input -0.009448V\n",
      "|\t\tSetpoint RAMP speed = 0.01 V/s, action \u001b[1;34;41mOFF\u001b[0m\n",
      "|\t============= P,I,D and Offset Status=============\n",
      "|\t\t P = -0.7    , \taction = \u001b[1;34;42mON\u001b[0m\n",
      "|\t\t I = 1500.0 1/s, \taction = \u001b[1;34;42mON\u001b[0m\n",
      "|\t\t D = 6e-05   s, \taction = \u001b[1;34;41mOFF\u001b[0m\n",
      "|\t\tOff = 0.0  V, \taction = \u001b[1;34;42mON\u001b[0m\n",
      "-----------------SRS PID controller SIM960 Status Summary Ends------------------\n",
      "\u001b[0m\n"
     ]
    },
    {
     "data": {
      "text/plain": [
       "'--------------------Rio Laser Fceo Rb spectroscopy Lock Servo--------------------\\n|--------------------SRS PID controller SIM960 Status Summary--------------------\\n|----------------------------SIM960,s/n033683,ver2.17----------------------------\\n|\\tOutput mode:\\t\\x1b[1;34;41mMAN\\x1b[0m,\\tOutput limit: -4.000V TO 4.000V\\n|\\tMeasured input:\\t -0.063639V\\n|\\tAmplified error:\\t -0.035358V\\n|\\tInstant Output voltage:\\t -0.056985V\\n|\\tManual output set:\\t 0.0V\\n|\\t================ Set Point related================\\n|\\t\\tInternal setpoint = -0.01 V, Ramping \\x1b[1;34;41mOFF\\x1b[0m\\n|\\t\\tSetpoint input mode INT, Ext setpoint input -0.009448V\\n|\\t\\tSetpoint RAMP speed = 0.01 V/s, action \\x1b[1;34;41mOFF\\x1b[0m\\n|\\t============= P,I,D and Offset Status=============\\n|\\t\\t P = -0.7    , \\taction = \\x1b[1;34;42mON\\x1b[0m\\n|\\t\\t I = 1500.0 1/s, \\taction = \\x1b[1;34;42mON\\x1b[0m\\n|\\t\\t D = 6e-05   s, \\taction = \\x1b[1;34;41mOFF\\x1b[0m\\n|\\t\\tOff = 0.0  V, \\taction = \\x1b[1;34;42mON\\x1b[0m\\n-----------------SRS PID controller SIM960 Status Summary Ends------------------\\n'"
      ]
     },
     "execution_count": 4,
     "metadata": {},
     "output_type": "execute_result"
    }
   ],
   "source": [
    "servo_RB.output_mode = 'man'\n",
    "servo_RB.printStatus()"
   ]
  },
  {
   "cell_type": "code",
   "execution_count": 126,
   "metadata": {},
   "outputs": [
    {
     "data": {
      "text/plain": [
       "[<matplotlib.lines.Line2D at 0x213708cf490>]"
      ]
     },
     "execution_count": 126,
     "metadata": {},
     "output_type": "execute_result"
    },
    {
     "data": {
      "image/png": "[encoded data removed]",
      "text/plain": [
       "<Figure size 432x288 with 1 Axes>"
      ]
     },
     "metadata": {
      "needs_background": "light"
     },
     "output_type": "display_data"
    }
   ],
   "source": [
    "core=np.load(r\"C:\\Users\\HSFLFC\\Desktop\\Keck\\Keck Comb\\LFC\\Rb_locking_data\\amp8_offset0.npy\")\n",
    "xa=core[0]\n",
    "ya=core[1]\n",
    "plt.plot(xa,ya)"
   ]
  },
  {
   "cell_type": "code",
   "execution_count": 15,
   "metadata": {},
   "outputs": [
    {
     "name": "stdout",
     "output_type": "stream",
     "text": [
      "DC\n",
      "\n",
      "Channel 1 parameters:\n",
      "Frequency: 10.0\n",
      "Amplitude: 0.12763\n",
      "Offset: -3.07705\n",
      "Phase: 0.0\n",
      "State: 1\n",
      "\n",
      "Function: DC\n",
      "\n"
     ]
    },
    {
     "name": "stderr",
     "output_type": "stream",
     "text": [
      "\u001b[32m2023-08-22 20:27:15.910\u001b[0m | \u001b[1mINFO    \u001b[0m | \u001b[36mRio Laser Fceo Rb spectroscopy Lock Servo\u001b[0m | \u001b[36mSRS_SIM900.py\u001b[0m:\u001b[36mset_output_mode\u001b[0m:\u001b[36m534\u001b[0m\n",
      "\u001b[1mRio Laser Fceo Rb spectroscopy Lock Servo: PID output is turned ON.\u001b[0m\n"
     ]
    },
    {
     "name": "stdout",
     "output_type": "stream",
     "text": [
      "Channel 1 parameters:\n",
      "Frequency: 10.0\n",
      "Amplitude: 0.12763\n",
      "Offset: -3.07705\n",
      "Phase: 0.0\n",
      "State: 1\n",
      "\n",
      "Function: DC\n",
      "\n"
     ]
    },
    {
     "name": "stderr",
     "output_type": "stream",
     "text": [
      "\u001b[32m2023-08-22 20:27:21.181\u001b[0m | \u001b[1mINFO    \u001b[0m | \u001b[36mRio Laser Fceo Rb spectroscopy Lock Servo\u001b[0m | \u001b[36mSRS_SIM900.py\u001b[0m:\u001b[36mprintStatus\u001b[0m:\u001b[36m201\u001b[0m\n",
      "\u001b[1m--------------------Rio Laser Fceo Rb spectroscopy Lock Servo--------------------\n",
      "|--------------------SRS PID controller SIM960 Status Summary--------------------\n",
      "|----------------------------SIM960,s/n033683,ver2.17----------------------------\n",
      "|\tOutput mode:\t\u001b[1;34;42mPID\u001b[0m,\tOutput limit: -4.000V TO 4.000V\n",
      "|\tMeasured input:\t -0.009068V\n",
      "|\tAmplified error:\t 0.000764V\n",
      "|\tInstant Output voltage:\t -0.04985V\n",
      "|\tManual output set:\t 0.0V\n",
      "|\t================ Set Point related================\n",
      "|\t\tInternal setpoint = -0.01 V, Ramping \u001b[1;34;41mOFF\u001b[0m\n",
      "|\t\tSetpoint input mode INT, Ext setpoint input -0.009456V\n",
      "|\t\tSetpoint RAMP speed = 0.01 V/s, action \u001b[1;34;41mOFF\u001b[0m\n",
      "|\t============= P,I,D and Offset Status=============\n",
      "|\t\t P = -0.7    , \taction = \u001b[1;34;42mON\u001b[0m\n",
      "|\t\t I = 1500.0 1/s, \taction = \u001b[1;34;42mON\u001b[0m\n",
      "|\t\t D = 6e-05   s, \taction = \u001b[1;34;41mOFF\u001b[0m\n",
      "|\t\tOff = 0.0  V, \taction = \u001b[1;34;42mON\u001b[0m\n",
      "-----------------SRS PID controller SIM960 Status Summary Ends------------------\n",
      "\u001b[0m\n"
     ]
    },
    {
     "name": "stdout",
     "output_type": "stream",
     "text": [
      "Channel 1 parameters:\n",
      "Frequency: 10.0\n",
      "Amplitude: 0.063816\n",
      "Offset: -3.07705\n",
      "Phase: 0.0\n",
      "State: 1\n",
      "\n",
      "Function: DC\n",
      "\n",
      "RAMP\n",
      "\n",
      "Channel 1 parameters:\n",
      "Frequency: 10.0\n",
      "Amplitude: 0.063816\n",
      "Offset: -3.07705\n",
      "Phase: 0.0\n",
      "State: 1\n",
      "\n",
      "Function: RAMP\n",
      "\n"
     ]
    },
    {
     "ename": "TypeError",
     "evalue": "ufunc 'bitwise_and' not supported for the input types, and the inputs could not be safely coerced to any supported types according to the casting rule ''safe''",
     "output_type": "error",
     "traceback": [
      "\u001b[1;31m---------------------------------------------------------------------------\u001b[0m",
      "\u001b[1;31mTypeError\u001b[0m                                 Traceback (most recent call last)",
      "\u001b[1;32mc:\\Users\\HSFLFC\\Desktop\\Keck\\Keck Comb\\remote_lock.ipynb Cell 66\u001b[0m in \u001b[0;36m<cell line: 4>\u001b[1;34m()\u001b[0m\n\u001b[0;32m      <a href='vscode-notebook-cell:/c%3A/Users/HSFLFC/Desktop/Keck/Keck%20Comb/remote_lock.ipynb#Y123sZmlsZQ%3D%3D?line=1'>2</a>\u001b[0m autolock\u001b[39m.\u001b[39mlock(namp,noffset)\n\u001b[0;32m      <a href='vscode-notebook-cell:/c%3A/Users/HSFLFC/Desktop/Keck/Keck%20Comb/remote_lock.ipynb#Y123sZmlsZQ%3D%3D?line=2'>3</a>\u001b[0m time\u001b[39m.\u001b[39msleep(\u001b[39m5\u001b[39m)\n\u001b[1;32m----> <a href='vscode-notebook-cell:/c%3A/Users/HSFLFC/Desktop/Keck/Keck%20Comb/remote_lock.ipynb#Y123sZmlsZQ%3D%3D?line=3'>4</a>\u001b[0m autolock\u001b[39m.\u001b[39;49mlock_test(namp\u001b[39m/\u001b[39;49m\u001b[39m2\u001b[39;49m)\n",
      "File \u001b[1;32mc:\\Users\\HSFLFC\\Desktop\\Keck\\Keck Comb\\LFC\\Hardware\\autolock.py:154\u001b[0m, in \u001b[0;36mAutoRbLock.lock_test\u001b[1;34m(self, amp_test)\u001b[0m\n\u001b[0;32m    151\u001b[0m hight\u001b[39m=\u001b[39mnp\u001b[39m.\u001b[39mmax(shift)\u001b[39m-\u001b[39mnp\u001b[39m.\u001b[39mmin(shift)\n\u001b[0;32m    153\u001b[0m plt\u001b[39m.\u001b[39mplot(shift)\n\u001b[1;32m--> 154\u001b[0m \u001b[39mif\u001b[39;00m hight\u001b[39m>\u001b[39mamp_test\u001b[39m/\u001b[39;49m\u001b[39m2\u001b[39;49m \u001b[39m&\u001b[39;49m hight\u001b[39m<\u001b[39mamp_test\u001b[39m*\u001b[39m\u001b[39m2\u001b[39m:\n\u001b[0;32m    155\u001b[0m     \u001b[39mprint\u001b[39m(\u001b[39m'\u001b[39m\u001b[39mlock success\u001b[39m\u001b[39m'\u001b[39m)\n\u001b[0;32m    156\u001b[0m     \u001b[39mreturn\u001b[39;00m \u001b[39m1\u001b[39m\n",
      "\u001b[1;31mTypeError\u001b[0m: ufunc 'bitwise_and' not supported for the input types, and the inputs could not be safely coerced to any supported types according to the casting rule ''safe''"
     ]
    },
    {
     "data": {
      "image/png": "[encoded data removed]",
      "text/plain": [
       "<Figure size 432x288 with 1 Axes>"
      ]
     },
     "metadata": {
      "needs_background": "light"
     },
     "output_type": "display_data"
    }
   ],
   "source": [
    "#fg.set_channel_parameters(channel=1, freq=10, amp=namp, offset=noffset, phase=0)\n",
    "autolock.lock(namp,noffset)\n",
    "time.sleep(5)\n",
    "autolock.lock_test(namp/2)"
   ]
  },
  {
   "cell_type": "code",
   "execution_count": null,
   "metadata": {},
   "outputs": [],
   "source": [
    "print(fg.query(f\"OUTP:TRIG?\"))\n",
    "print(fg.query(f\"OUTP:TRIG:SOUR?\"))\n",
    "print(fg.query(f'OUTP:TRIG:SLOP?'))\n"
   ]
  },
  {
   "cell_type": "code",
   "execution_count": 63,
   "metadata": {},
   "outputs": [],
   "source": [
    "fg.write(f\"OUTP:TRIG ON\")"
   ]
  },
  {
   "cell_type": "code",
   "execution_count": 70,
   "metadata": {},
   "outputs": [
    {
     "data": {
      "text/plain": [
       "'AUTO;EDGE;5.0E-7;EXT;DC;RISE;EXT;FIELD;NORMAL;1;NTSC;EXT;POSITIVE;EQUAL;1.0E-3;0.0E0'"
      ]
     },
     "execution_count": 70,
     "metadata": {},
     "output_type": "execute_result"
    }
   ],
   "source": [
    "osc.write('TRIG:MAI:EDGE:SOU EXT')\n",
    "osc.query('TRIG?')"
   ]
  },
  {
   "cell_type": "code",
   "execution_count": 8,
   "metadata": {},
   "outputs": [
    {
     "data": {
      "text/plain": [
       "8.0"
      ]
     },
     "execution_count": 8,
     "metadata": {},
     "output_type": "execute_result"
    }
   ],
   "source": [
    "a=fg.query(f\"SOUR{1}:VOLT?\")\n",
    "float(a)"
   ]
  },
  {
   "cell_type": "code",
   "execution_count": 16,
   "metadata": {},
   "outputs": [
    {
     "name": "stdout",
     "output_type": "stream",
     "text": [
      "DC\n",
      "\n"
     ]
    }
   ],
   "source": [
    "fg.set_channel_func(1,'dc')"
   ]
  },
  {
   "cell_type": "code",
   "execution_count": 55,
   "metadata": {},
   "outputs": [
    {
     "name": "stdout",
     "output_type": "stream",
     "text": [
      "DC\n",
      "\n",
      "Channel 1 parameters:\n",
      "Frequency: +1.000000000000000E+01\n",
      "\n",
      "Amplitude: +2.0000000000000E-01\n",
      "\n",
      "Offset: +9.5000000000000E-01\n",
      "\n",
      "Phase: +0.0000000000000E+00\n",
      "\n",
      "State: 1\n",
      "\n",
      "Function: DC\n",
      "\n"
     ]
    },
    {
     "name": "stderr",
     "output_type": "stream",
     "text": [
      "\u001b[32m2023-08-03 11:37:04.924\u001b[0m | \u001b[1mINFO    \u001b[0m | \u001b[36mRio Laser Fceo Rb spectroscopy Lock Servo\u001b[0m | \u001b[36mSRS_SIM900.py\u001b[0m:\u001b[36mset_output_mode\u001b[0m:\u001b[36m534\u001b[0m\n",
      "\u001b[1mRio Laser Fceo Rb spectroscopy Lock Servo: PID output is turned ON.\u001b[0m\n"
     ]
    }
   ],
   "source": [
    "fg.set_channel_func(1, 'dc')\n",
    "# fg.set_channel_parameters(channel=1, freq=10, amp=1, offset=0.95, phase=0)\n",
    "# fg.set_channel_state(1, 1)\n",
    "fg.get_channel_parameters(1)\n",
    "servo_RB.output_mode = 'pid'\n"
   ]
  },
  {
   "cell_type": "code",
   "execution_count": 8,
   "metadata": {},
   "outputs": [
    {
     "data": {
      "text/plain": [
       "'MAN'"
      ]
     },
     "execution_count": 8,
     "metadata": {},
     "output_type": "execute_result"
    }
   ],
   "source": [
    "servo_RB.get_output_mode()\n",
    "#servo_RB.get_setpoint()\n",
    "servo_RB.printStatus()\n",
    "servo_RB.get_outoffset()\n"
   ]
  },
  {
   "cell_type": "markdown",
   "metadata": {},
   "source": []
  },
  {
   "cell_type": "code",
   "execution_count": 76,
   "metadata": {},
   "outputs": [
    {
     "name": "stdout",
     "output_type": "stream",
     "text": [
      "-0.093129\n"
     ]
    },
    {
     "name": "stderr",
     "output_type": "stream",
     "text": [
      "\u001b[32m2023-08-09 14:23:26.645\u001b[0m | \u001b[1mINFO    \u001b[0m | \u001b[36mTDS2024C OSC\u001b[0m | \u001b[36mTDS2024C.py\u001b[0m:\u001b[36mget_trace\u001b[0m:\u001b[36m134\u001b[0m\n",
      "\u001b[1mTDS2024C OSC: Trace 1 data read finished.\u001b[0m\n"
     ]
    },
    {
     "data": {
      "image/png": "[encoded data removed]",
      "text/plain": [
       "<Figure size 432x288 with 1 Axes>"
      ]
     },
     "metadata": {
      "needs_background": "light"
     },
     "output_type": "display_data"
    }
   ],
   "source": [
    "for ii in range(1):\n",
    "    print(servo_RB.measure_input)\n",
    "    import time\n",
    "    time.sleep(2)\n",
    "    osc.get_trace(1)"
   ]
  },
  {
   "cell_type": "code",
   "execution_count": 75,
   "metadata": {},
   "outputs": [
    {
     "name": "stderr",
     "output_type": "stream",
     "text": [
      "\u001b[32m2023-08-09 14:22:56.925\u001b[0m | \u001b[1mINFO    \u001b[0m | \u001b[36mRio Laser Fceo Rb spectroscopy Lock Servo\u001b[0m | \u001b[36mSRS_SIM900.py\u001b[0m:\u001b[36mset_output_mode\u001b[0m:\u001b[36m537\u001b[0m\n",
      "\u001b[1mRio Laser Fceo Rb spectroscopy Lock Servo: PID output is turned OFF, output mode is turnd to Manual.\u001b[0m\n"
     ]
    }
   ],
   "source": [
    "servo_RB.output_mode='man'\n",
    "fg.set_channel_state(1, 0)"
   ]
  },
  {
   "cell_type": "code",
   "execution_count": 5,
   "metadata": {},
   "outputs": [
    {
     "ename": "NameError",
     "evalue": "name 'servo_Rb' is not defined",
     "output_type": "error",
     "traceback": [
      "\u001b[1;31m---------------------------------------------------------------------------\u001b[0m",
      "\u001b[1;31mNameError\u001b[0m                                 Traceback (most recent call last)",
      "\u001b[1;32mc:\\Users\\HSFLFC\\Desktop\\Keck\\Keck Comb\\remote_lock.ipynb Cell 84\u001b[0m in \u001b[0;36m<cell line: 1>\u001b[1;34m()\u001b[0m\n\u001b[1;32m----> <a href='vscode-notebook-cell:/c%3A/Users/HSFLFC/Desktop/Keck/Keck%20Comb/remote_lock.ipynb#Y154sZmlsZQ%3D%3D?line=0'>1</a>\u001b[0m servo_Rb\u001b[39m.\u001b[39mprintStatus()\n",
      "\u001b[1;31mNameError\u001b[0m: name 'servo_Rb' is not defined"
     ]
    }
   ],
   "source": [
    "servo_Rb.printStatus()"
   ]
  },
  {
   "cell_type": "code",
   "execution_count": 8,
   "metadata": {},
   "outputs": [
    {
     "name": "stdout",
     "output_type": "stream",
     "text": [
      "[0, 1, 2, 3, 4, 5, 6, 7, 8, 9]\n"
     ]
    },
    {
     "ename": "TypeError",
     "evalue": "unsupported operand type(s) for -: 'list' and 'int'",
     "output_type": "error",
     "traceback": [
      "\u001b[1;31m---------------------------------------------------------------------------\u001b[0m",
      "\u001b[1;31mTypeError\u001b[0m                                 Traceback (most recent call last)",
      "\u001b[1;32mc:\\Users\\HSFLFC\\Desktop\\Keck\\Keck Comb\\remote_lock.ipynb Cell 76\u001b[0m in \u001b[0;36m<cell line: 3>\u001b[1;34m()\u001b[0m\n\u001b[0;32m      <a href='vscode-notebook-cell:/c%3A/Users/HSFLFC/Desktop/Keck/Keck%20Comb/remote_lock.ipynb#Y135sZmlsZQ%3D%3D?line=0'>1</a>\u001b[0m j\u001b[39m=\u001b[39m[i \u001b[39mfor\u001b[39;00m i \u001b[39min\u001b[39;00m \u001b[39mrange\u001b[39m(\u001b[39m10\u001b[39m)]\n\u001b[0;32m      <a href='vscode-notebook-cell:/c%3A/Users/HSFLFC/Desktop/Keck/Keck%20Comb/remote_lock.ipynb#Y135sZmlsZQ%3D%3D?line=1'>2</a>\u001b[0m \u001b[39mprint\u001b[39m(j)\n\u001b[1;32m----> <a href='vscode-notebook-cell:/c%3A/Users/HSFLFC/Desktop/Keck/Keck%20Comb/remote_lock.ipynb#Y135sZmlsZQ%3D%3D?line=2'>3</a>\u001b[0m j\u001b[39m-\u001b[39;49m\u001b[39m1\u001b[39;49m\n",
      "\u001b[1;31mTypeError\u001b[0m: unsupported operand type(s) for -: 'list' and 'int'"
     ]
    }
   ],
   "source": [
    "j=[i for i in range(10)]\n",
    "print(j)\n",
    "j-1"
   ]
  },
  {
   "cell_type": "code",
   "execution_count": 15,
   "metadata": {},
   "outputs": [
    {
     "data": {
      "text/plain": [
       "[0, 1, 2, 3, 4, 5, 6, 7, 8, 9, 10]"
      ]
     },
     "execution_count": 15,
     "metadata": {},
     "output_type": "execute_result"
    }
   ],
   "source": [
    "j=list(range(11))\n",
    "j"
   ]
  },
  {
   "cell_type": "code",
   "execution_count": 16,
   "metadata": {},
   "outputs": [
    {
     "data": {
      "text/plain": [
       "range(1, 10)"
      ]
     },
     "execution_count": 16,
     "metadata": {},
     "output_type": "execute_result"
    }
   ],
   "source": [
    "j=range(1,10)\n",
    "j"
   ]
  },
  {
   "cell_type": "code",
   "execution_count": 12,
   "metadata": {},
   "outputs": [
    {
     "data": {
      "text/plain": [
       "array([-1.,  0.,  1.,  2.,  3.,  4.,  5.,  6.,  7.,  8.])"
      ]
     },
     "execution_count": 12,
     "metadata": {},
     "output_type": "execute_result"
    }
   ],
   "source": [
    "import numpy as np\n",
    "a=np.array([])\n",
    "for i in range(10):\n",
    "    a=np.append(a,i)   \n",
    "a-1"
   ]
  },
  {
   "cell_type": "code",
   "execution_count": 66,
   "metadata": {},
   "outputs": [
    {
     "name": "stdout",
     "output_type": "stream",
     "text": [
      "7\n",
      "-0.018703\n",
      "[[ 3.       -0.019406  3.      ]\n",
      " [ 4.       -0.019406  4.      ]\n",
      " [ 5.       -0.0191    5.      ]\n",
      " [ 6.       -0.0191    6.      ]\n",
      " [ 7.       -0.0191    7.      ]\n",
      " [ 8.       -0.018956  8.      ]\n",
      " [ 9.       -0.018956  9.      ]\n",
      " [ 0.       -0.018703  0.      ]\n",
      " [ 1.       -0.018703  1.      ]\n",
      " [ 2.       -0.018703  2.      ]]\n"
     ]
    }
   ],
   "source": [
    "# shift=[]\n",
    "# import numpy as np\n",
    "        \n",
    "# for i in list(range(10)):\n",
    "#     shift.append([i,servo_RB.output_voltage,i])\n",
    "# # #shift=list(shift)\n",
    "# a=sorted(shift, key=lambda x: x[1])\n",
    "# a=np.array(a)\n",
    "position=np.argmin(abs(a[:,2]+0.0191))\n",
    "print(position)\n",
    "print(a[position][1])\n",
    "print(a)\n"
   ]
  }
 ],
 "metadata": {
  "kernelspec": {
   "display_name": "lfc",
   "language": "python",
   "name": "python3"
  },
  "language_info": {
   "codemirror_mode": {
    "name": "ipython",
    "version": 3
   },
   "file_extension": ".py",
   "mimetype": "text/x-python",
   "name": "python",
   "nbconvert_exporter": "python",
   "pygments_lexer": "ipython3",
   "version": "3.8.12"
  },
  "orig_nbformat": 4
 },
 "nbformat": 4,
 "nbformat_minor": 2
}
