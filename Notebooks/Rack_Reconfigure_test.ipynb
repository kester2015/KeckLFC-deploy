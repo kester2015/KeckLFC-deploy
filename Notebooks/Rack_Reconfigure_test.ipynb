{
 "cells": [
  {
   "cell_type": "code",
   "execution_count": 1,
   "id": "0c18b774",
   "metadata": {},
   "outputs": [],
   "source": [
    "import numpy as np\n",
    "import matplotlib.pyplot as plt\n",
    "from LFC.Hardware.SRS_SIM900 import SRS_SIM900, SRS_PIDcontrol_SIM960\n",
    "from LFC.Hardware.Waveshaper import Waveshaper\n",
    "from LFC.Hardware.AndoOSA_AQ6315E import AndoOSA_AQ6315E\n",
    "from LFC.Hardware.PritelAmp import PritelAmp\n",
    "from LFC.Hardware.ORIONLaser import ORIONLaser\n",
    "from LFC.Hardware.AmonicsEDFA import AmonicsEDFA\n",
    "import time"
   ]
  },
  {
   "cell_type": "code",
   "execution_count": 30,
   "id": "3b5d7896",
   "metadata": {},
   "outputs": [
    {
     "name": "stdout",
     "output_type": "stream",
     "text": [
      "Instek GPP DC Power Supply connected\n",
      "----------------------------Instek GPP DC Power Supply---------------------------\n",
      "|-------------------Instek GPP DC Power Supply Status Summary--------------------\n",
      "|--------------------Model: GPP-1326, Serial No.SN:GET842785---------------------\n",
      "|\t------------Channel Summary-------------\n",
      "|\t CHANNEL1: Activation \u001b[1;34;41mOFF\u001b[0m.\n",
      "|\t\t VSET=30.000V, ISET=6.000A.\n",
      "|\t\t VOUT=0.000V, IOUT=0.000A.\n",
      "|\t\t Output power: 0.000W.\n",
      "|\t\t ---Over Voltage/Current Protection Status:---\n",
      "|\t\t OVP Status: OFF\t OCP Status: OFF \n",
      "|\t\t OVP Level : 35.0 V\t OCP Level : 7.0 A\n",
      "-----------------Instek GPP DC Power Supply Status Summary Ends-----------------\n",
      "\n",
      "Instek GPD-4303S DCSupply connected\n"
     ]
    },
    {
     "ename": "VisaIOError",
     "evalue": "VI_ERROR_TMO (-1073807339): Timeout expired before operation completed.",
     "output_type": "error",
     "traceback": [
      "\u001b[1;31m---------------------------------------------------------------------------\u001b[0m",
      "\u001b[1;31mVisaIOError\u001b[0m                               Traceback (most recent call last)",
      "Input \u001b[1;32mIn [30]\u001b[0m, in \u001b[0;36m<cell line: 9>\u001b[1;34m()\u001b[0m\n\u001b[0;32m      7\u001b[0m osps \u001b[38;5;241m=\u001b[39m InstekGPD_4303S(addr\u001b[38;5;241m=\u001b[39m\u001b[38;5;124m'\u001b[39m\u001b[38;5;124mASRL5::INSTR\u001b[39m\u001b[38;5;124m'\u001b[39m)\n\u001b[0;32m      8\u001b[0m osps\u001b[38;5;241m.\u001b[39mconnect()\n\u001b[1;32m----> 9\u001b[0m \u001b[43mosps\u001b[49m\u001b[38;5;241;43m.\u001b[39;49m\u001b[43mprintStatus\u001b[49m\u001b[43m(\u001b[49m\u001b[43m)\u001b[49m\n",
      "File \u001b[1;32mZ:\\Maodong\\Projects\\Keck\\Keck Comb\\LFC\\Hardware\\InstekGPD_4303S.py:190\u001b[0m, in \u001b[0;36mInstekGPD_4303S.printStatus\u001b[1;34m(self)\u001b[0m\n\u001b[0;32m    188\u001b[0m message \u001b[38;5;241m=\u001b[39m \u001b[38;5;28mstr\u001b[39m(\u001b[38;5;28mself\u001b[39m\u001b[38;5;241m.\u001b[39mdevicename)\u001b[38;5;241m.\u001b[39mcenter(\u001b[38;5;241m81\u001b[39m,\u001b[38;5;124m'\u001b[39m\u001b[38;5;124m-\u001b[39m\u001b[38;5;124m'\u001b[39m)\u001b[38;5;241m+\u001b[39m\u001b[38;5;124m\"\u001b[39m\u001b[38;5;130;01m\\n\u001b[39;00m\u001b[38;5;124m\"\u001b[39m\n\u001b[0;32m    189\u001b[0m message \u001b[38;5;241m=\u001b[39m message \u001b[38;5;241m+\u001b[39m \u001b[38;5;124m\"\u001b[39m\u001b[38;5;124m|\u001b[39m\u001b[38;5;124m\"\u001b[39m\u001b[38;5;241m+\u001b[39m \u001b[38;5;124m\"\u001b[39m\u001b[38;5;124mInstek DC Power Supply GPD-4303S Status Summary\u001b[39m\u001b[38;5;124m\"\u001b[39m\u001b[38;5;241m.\u001b[39mcenter(\u001b[38;5;241m80\u001b[39m, \u001b[38;5;124m'\u001b[39m\u001b[38;5;124m-\u001b[39m\u001b[38;5;124m'\u001b[39m) \u001b[38;5;241m+\u001b[39m \u001b[38;5;124m\"\u001b[39m\u001b[38;5;130;01m\\n\u001b[39;00m\u001b[38;5;124m\"\u001b[39m\n\u001b[1;32m--> 190\u001b[0m message \u001b[38;5;241m=\u001b[39m message \u001b[38;5;241m+\u001b[39m \u001b[38;5;124m\"\u001b[39m\u001b[38;5;124m|\u001b[39m\u001b[38;5;124m\"\u001b[39m\u001b[38;5;241m+\u001b[39m (\u001b[38;5;124m\"\u001b[39m\u001b[38;5;124mModel: \u001b[39m\u001b[38;5;124m\"\u001b[39m \u001b[38;5;241m+\u001b[39m \u001b[38;5;28;43mself\u001b[39;49m\u001b[38;5;241;43m.\u001b[39;49m\u001b[43mmodelNumber\u001b[49m \u001b[38;5;241m+\u001b[39m \u001b[38;5;124m\"\u001b[39m\u001b[38;5;124m, Serial No.\u001b[39m\u001b[38;5;124m\"\u001b[39m \u001b[38;5;241m+\u001b[39m \u001b[38;5;28mself\u001b[39m\u001b[38;5;241m.\u001b[39mserialNumber)\u001b[38;5;241m.\u001b[39mcenter(\u001b[38;5;241m80\u001b[39m, \u001b[38;5;124m'\u001b[39m\u001b[38;5;124m-\u001b[39m\u001b[38;5;124m'\u001b[39m) \u001b[38;5;241m+\u001b[39m \u001b[38;5;124m\"\u001b[39m\u001b[38;5;130;01m\\n\u001b[39;00m\u001b[38;5;124m\"\u001b[39m\n\u001b[0;32m    191\u001b[0m message \u001b[38;5;241m=\u001b[39m message \u001b[38;5;241m+\u001b[39m \u001b[38;5;124m\"\u001b[39m\u001b[38;5;124m|\u001b[39m\u001b[38;5;130;01m\\t\u001b[39;00m\u001b[38;5;124mMaster Activation: \u001b[39m\u001b[38;5;124m\"\u001b[39m \u001b[38;5;241m+\u001b[39m highlight_status(\u001b[38;5;28mself\u001b[39m\u001b[38;5;241m.\u001b[39mactivation) \u001b[38;5;241m+\u001b[39m \u001b[38;5;124m\"\u001b[39m\u001b[38;5;130;01m\\n\u001b[39;00m\u001b[38;5;124m\"\u001b[39m\n\u001b[0;32m    192\u001b[0m message \u001b[38;5;241m=\u001b[39m message \u001b[38;5;241m+\u001b[39m \u001b[38;5;124m\"\u001b[39m\u001b[38;5;124m|\u001b[39m\u001b[38;5;130;01m\\t\u001b[39;00m\u001b[38;5;124m\"\u001b[39m \u001b[38;5;241m+\u001b[39m \u001b[38;5;124m\"\u001b[39m\u001b[38;5;124mChannel Summary\u001b[39m\u001b[38;5;124m\"\u001b[39m\u001b[38;5;241m.\u001b[39mcenter(\u001b[38;5;241m40\u001b[39m, \u001b[38;5;124m'\u001b[39m\u001b[38;5;124m-\u001b[39m\u001b[38;5;124m'\u001b[39m) \u001b[38;5;241m+\u001b[39m \u001b[38;5;124m\"\u001b[39m\u001b[38;5;130;01m\\n\u001b[39;00m\u001b[38;5;124m\"\u001b[39m\n",
      "File \u001b[1;32mZ:\\Maodong\\Projects\\Keck\\Keck Comb\\LFC\\Hardware\\InstekGPD_4303S.py:23\u001b[0m, in \u001b[0;36mInstekGPD_4303S.modelNumber\u001b[1;34m(self)\u001b[0m\n\u001b[0;32m     21\u001b[0m \u001b[38;5;129m@property\u001b[39m\n\u001b[0;32m     22\u001b[0m \u001b[38;5;28;01mdef\u001b[39;00m \u001b[38;5;21mmodelNumber\u001b[39m(\u001b[38;5;28mself\u001b[39m):\n\u001b[1;32m---> 23\u001b[0m     \u001b[38;5;28;01mreturn\u001b[39;00m \u001b[38;5;28;43mself\u001b[39;49m\u001b[38;5;241;43m.\u001b[39;49m\u001b[43m_IDN\u001b[49m\u001b[38;5;241m.\u001b[39msplit(\u001b[38;5;124m'\u001b[39m\u001b[38;5;124m,\u001b[39m\u001b[38;5;124m'\u001b[39m)[\u001b[38;5;241m1\u001b[39m]\n",
      "File \u001b[1;32mZ:\\Maodong\\Projects\\Keck\\Keck Comb\\LFC\\Hardware\\InstekGPD_4303S.py:20\u001b[0m, in \u001b[0;36mInstekGPD_4303S._IDN\u001b[1;34m(self)\u001b[0m\n\u001b[0;32m     17\u001b[0m \u001b[38;5;129m@property\u001b[39m\n\u001b[0;32m     18\u001b[0m \u001b[38;5;28;01mdef\u001b[39;00m \u001b[38;5;21m_IDN\u001b[39m(\u001b[38;5;28mself\u001b[39m):\n\u001b[0;32m     19\u001b[0m     cmd \u001b[38;5;241m=\u001b[39m \u001b[38;5;124m\"\u001b[39m\u001b[38;5;124m*IDN?\u001b[39m\u001b[38;5;124m\"\u001b[39m\n\u001b[1;32m---> 20\u001b[0m     \u001b[38;5;28;01mreturn\u001b[39;00m \u001b[38;5;28;43mself\u001b[39;49m\u001b[38;5;241;43m.\u001b[39;49m\u001b[43mquery\u001b[49m\u001b[43m(\u001b[49m\u001b[43mcmd\u001b[49m\u001b[43m)\u001b[49m\n",
      "File \u001b[1;32mZ:\\Maodong\\Projects\\Keck\\Keck Comb\\LFC\\Hardware\\Device.py:47\u001b[0m, in \u001b[0;36mDevice.query\u001b[1;34m(self, cmd)\u001b[0m\n\u001b[0;32m     46\u001b[0m \u001b[38;5;28;01mdef\u001b[39;00m \u001b[38;5;21mquery\u001b[39m(\u001b[38;5;28mself\u001b[39m, cmd):\n\u001b[1;32m---> 47\u001b[0m     \u001b[38;5;28;01mreturn\u001b[39;00m \u001b[38;5;28;43mself\u001b[39;49m\u001b[38;5;241;43m.\u001b[39;49m\u001b[43minst\u001b[49m\u001b[38;5;241;43m.\u001b[39;49m\u001b[43mquery\u001b[49m\u001b[43m(\u001b[49m\u001b[43mcmd\u001b[49m\u001b[43m)\u001b[49m\n",
      "File \u001b[1;32m~\\.conda\\envs\\lfc\\lib\\site-packages\\pyvisa\\resources\\messagebased.py:644\u001b[0m, in \u001b[0;36mMessageBasedResource.query\u001b[1;34m(self, message, delay)\u001b[0m\n\u001b[0;32m    641\u001b[0m \u001b[38;5;28;01mif\u001b[39;00m delay \u001b[38;5;241m>\u001b[39m \u001b[38;5;241m0.0\u001b[39m:\n\u001b[0;32m    642\u001b[0m     time\u001b[38;5;241m.\u001b[39msleep(delay)\n\u001b[1;32m--> 644\u001b[0m \u001b[38;5;28;01mreturn\u001b[39;00m \u001b[38;5;28;43mself\u001b[39;49m\u001b[38;5;241;43m.\u001b[39;49m\u001b[43mread\u001b[49m\u001b[43m(\u001b[49m\u001b[43m)\u001b[49m\n",
      "File \u001b[1;32m~\\.conda\\envs\\lfc\\lib\\site-packages\\pyvisa\\resources\\messagebased.py:486\u001b[0m, in \u001b[0;36mMessageBasedResource.read\u001b[1;34m(self, termination, encoding)\u001b[0m\n\u001b[0;32m    484\u001b[0m \u001b[38;5;28;01mif\u001b[39;00m termination \u001b[38;5;129;01mis\u001b[39;00m \u001b[38;5;28;01mNone\u001b[39;00m:\n\u001b[0;32m    485\u001b[0m     termination \u001b[38;5;241m=\u001b[39m \u001b[38;5;28mself\u001b[39m\u001b[38;5;241m.\u001b[39m_read_termination\n\u001b[1;32m--> 486\u001b[0m     message \u001b[38;5;241m=\u001b[39m \u001b[38;5;28;43mself\u001b[39;49m\u001b[38;5;241;43m.\u001b[39;49m\u001b[43m_read_raw\u001b[49m\u001b[43m(\u001b[49m\u001b[43m)\u001b[49m\u001b[38;5;241m.\u001b[39mdecode(enco)\n\u001b[0;32m    487\u001b[0m \u001b[38;5;28;01melse\u001b[39;00m:\n\u001b[0;32m    488\u001b[0m     \u001b[38;5;28;01mwith\u001b[39;00m \u001b[38;5;28mself\u001b[39m\u001b[38;5;241m.\u001b[39mread_termination_context(termination):\n",
      "File \u001b[1;32m~\\.conda\\envs\\lfc\\lib\\site-packages\\pyvisa\\resources\\messagebased.py:442\u001b[0m, in \u001b[0;36mMessageBasedResource._read_raw\u001b[1;34m(self, size)\u001b[0m\n\u001b[0;32m    435\u001b[0m     \u001b[38;5;28;01mwhile\u001b[39;00m status \u001b[38;5;241m==\u001b[39m loop_status:\n\u001b[0;32m    436\u001b[0m         logger\u001b[38;5;241m.\u001b[39mdebug(\n\u001b[0;32m    437\u001b[0m             \u001b[38;5;124m\"\u001b[39m\u001b[38;5;132;01m%s\u001b[39;00m\u001b[38;5;124m - reading \u001b[39m\u001b[38;5;132;01m%d\u001b[39;00m\u001b[38;5;124m bytes (last status \u001b[39m\u001b[38;5;132;01m%r\u001b[39;00m\u001b[38;5;124m)\u001b[39m\u001b[38;5;124m\"\u001b[39m,\n\u001b[0;32m    438\u001b[0m             \u001b[38;5;28mself\u001b[39m\u001b[38;5;241m.\u001b[39m_resource_name,\n\u001b[0;32m    439\u001b[0m             size,\n\u001b[0;32m    440\u001b[0m             status,\n\u001b[0;32m    441\u001b[0m         )\n\u001b[1;32m--> 442\u001b[0m         chunk, status \u001b[38;5;241m=\u001b[39m \u001b[38;5;28;43mself\u001b[39;49m\u001b[38;5;241;43m.\u001b[39;49m\u001b[43mvisalib\u001b[49m\u001b[38;5;241;43m.\u001b[39;49m\u001b[43mread\u001b[49m\u001b[43m(\u001b[49m\u001b[38;5;28;43mself\u001b[39;49m\u001b[38;5;241;43m.\u001b[39;49m\u001b[43msession\u001b[49m\u001b[43m,\u001b[49m\u001b[43m \u001b[49m\u001b[43msize\u001b[49m\u001b[43m)\u001b[49m\n\u001b[0;32m    443\u001b[0m         ret\u001b[38;5;241m.\u001b[39mextend(chunk)\n\u001b[0;32m    444\u001b[0m \u001b[38;5;28;01mexcept\u001b[39;00m errors\u001b[38;5;241m.\u001b[39mVisaIOError \u001b[38;5;28;01mas\u001b[39;00m e:\n",
      "File \u001b[1;32m~\\.conda\\envs\\lfc\\lib\\site-packages\\pyvisa\\ctwrapper\\functions.py:2337\u001b[0m, in \u001b[0;36mread\u001b[1;34m(library, session, count)\u001b[0m\n\u001b[0;32m   2335\u001b[0m buffer \u001b[38;5;241m=\u001b[39m create_string_buffer(count)\n\u001b[0;32m   2336\u001b[0m return_count \u001b[38;5;241m=\u001b[39m ViUInt32()\n\u001b[1;32m-> 2337\u001b[0m ret \u001b[38;5;241m=\u001b[39m \u001b[43mlibrary\u001b[49m\u001b[38;5;241;43m.\u001b[39;49m\u001b[43mviRead\u001b[49m\u001b[43m(\u001b[49m\u001b[43msession\u001b[49m\u001b[43m,\u001b[49m\u001b[43m \u001b[49m\u001b[43mbuffer\u001b[49m\u001b[43m,\u001b[49m\u001b[43m \u001b[49m\u001b[43mcount\u001b[49m\u001b[43m,\u001b[49m\u001b[43m \u001b[49m\u001b[43mbyref\u001b[49m\u001b[43m(\u001b[49m\u001b[43mreturn_count\u001b[49m\u001b[43m)\u001b[49m\u001b[43m)\u001b[49m\n\u001b[0;32m   2338\u001b[0m \u001b[38;5;28;01mreturn\u001b[39;00m buffer\u001b[38;5;241m.\u001b[39mraw[: return_count\u001b[38;5;241m.\u001b[39mvalue], ret\n",
      "File \u001b[1;32m~\\.conda\\envs\\lfc\\lib\\site-packages\\pyvisa\\ctwrapper\\highlevel.py:222\u001b[0m, in \u001b[0;36mIVIVisaLibrary._return_handler\u001b[1;34m(self, ret_value, func, arguments)\u001b[0m\n\u001b[0;32m    219\u001b[0m         \u001b[38;5;66;03m# Set session back to a safe value\u001b[39;00m\n\u001b[0;32m    220\u001b[0m         session \u001b[38;5;241m=\u001b[39m \u001b[38;5;28;01mNone\u001b[39;00m\n\u001b[1;32m--> 222\u001b[0m \u001b[38;5;28;01mreturn\u001b[39;00m \u001b[38;5;28;43mself\u001b[39;49m\u001b[38;5;241;43m.\u001b[39;49m\u001b[43mhandle_return_value\u001b[49m\u001b[43m(\u001b[49m\u001b[43msession\u001b[49m\u001b[43m,\u001b[49m\u001b[43m \u001b[49m\u001b[43mret_value\u001b[49m\u001b[43m)\u001b[49m\n",
      "File \u001b[1;32m~\\.conda\\envs\\lfc\\lib\\site-packages\\pyvisa\\highlevel.py:251\u001b[0m, in \u001b[0;36mVisaLibraryBase.handle_return_value\u001b[1;34m(self, session, status_code)\u001b[0m\n\u001b[0;32m    248\u001b[0m     \u001b[38;5;28mself\u001b[39m\u001b[38;5;241m.\u001b[39m_last_status_in_session[session] \u001b[38;5;241m=\u001b[39m rv\n\u001b[0;32m    250\u001b[0m \u001b[38;5;28;01mif\u001b[39;00m rv \u001b[38;5;241m<\u001b[39m \u001b[38;5;241m0\u001b[39m:\n\u001b[1;32m--> 251\u001b[0m     \u001b[38;5;28;01mraise\u001b[39;00m errors\u001b[38;5;241m.\u001b[39mVisaIOError(rv)\n\u001b[0;32m    253\u001b[0m \u001b[38;5;28;01mif\u001b[39;00m rv \u001b[38;5;129;01min\u001b[39;00m \u001b[38;5;28mself\u001b[39m\u001b[38;5;241m.\u001b[39missue_warning_on:\n\u001b[0;32m    254\u001b[0m     \u001b[38;5;28;01mif\u001b[39;00m session \u001b[38;5;129;01mand\u001b[39;00m rv \u001b[38;5;129;01mnot\u001b[39;00m \u001b[38;5;129;01min\u001b[39;00m \u001b[38;5;28mself\u001b[39m\u001b[38;5;241m.\u001b[39m_ignore_warning_in_session[session]:\n",
      "\u001b[1;31mVisaIOError\u001b[0m: VI_ERROR_TMO (-1073807339): Timeout expired before operation completed."
     ]
    }
   ],
   "source": [
    "from LFC.Hardware.InstekGppDCSupply import InstekGppDCSupply\n",
    "from LFC.Hardware.InstekGPD_4303S import InstekGPD_4303S\n",
    "ps = InstekGppDCSupply(addr='ASRL10::INSTR')\n",
    "ps.connect()\n",
    "ps.printStatus()\n",
    "\n",
    "osps = InstekGPD_4303S(addr='ASRL5::INSTR')\n",
    "osps.connect()\n",
    "osps.printStatus()"
   ]
  },
  {
   "cell_type": "code",
   "execution_count": 5,
   "id": "2c66aafa",
   "metadata": {},
   "outputs": [
    {
     "name": "stdout",
     "output_type": "stream",
     "text": [
      "SRS PID controller SIM960: PID output is turned OFF, output mode is turnd to Manual.\n"
     ]
    },
    {
     "data": {
      "image/png": "[encoded data removed]",
      "text/plain": [
       "<Figure size 432x288 with 1 Axes>"
      ]
     },
     "metadata": {
      "needs_background": "light"
     },
     "output_type": "display_data"
    },
    {
     "data": {
      "text/plain": [
       "array([4.385934e+00, 4.385934e+00, 4.385934e+00, 4.385934e+00,\n",
       "       4.374633e+00, 4.374633e+00, 4.374633e+00, 4.374633e+00,\n",
       "       4.349355e+00, 4.349355e+00, 4.349355e+00, 4.349355e+00,\n",
       "       4.326803e+00, 4.326803e+00, 4.326803e+00, 4.326803e+00,\n",
       "       4.326803e+00, 4.302264e+00, 4.302264e+00, 4.302264e+00,\n",
       "       4.302264e+00, 4.277325e+00, 4.277325e+00, 4.277325e+00,\n",
       "       4.277325e+00, 4.252699e+00, 4.252699e+00, 4.252699e+00,\n",
       "       4.252699e+00, 4.230315e+00, 4.230315e+00, 4.230315e+00,\n",
       "       4.230315e+00, 4.208287e+00, 4.208287e+00, 4.208287e+00,\n",
       "       4.208287e+00, 4.208287e+00, 4.193906e+00, 4.193906e+00,\n",
       "       4.193906e+00, 4.193906e+00, 4.181948e+00, 4.181948e+00,\n",
       "       4.181948e+00, 4.181948e+00, 4.170418e+00, 4.170418e+00,\n",
       "       4.170418e+00, 4.170418e+00, 4.158859e+00, 4.158859e+00,\n",
       "       4.158859e+00, 4.158859e+00, 4.158859e+00, 4.149682e+00,\n",
       "       4.149682e+00, 4.149682e+00, 4.149682e+00, 4.132075e+00,\n",
       "       4.132075e+00, 4.132075e+00, 4.132075e+00, 4.085816e+00,\n",
       "       4.085816e+00, 4.085816e+00, 4.085816e+00, 4.085816e+00,\n",
       "       4.042858e+00, 4.042858e+00, 4.042858e+00, 4.042858e+00,\n",
       "       3.995474e+00, 3.995474e+00, 3.995474e+00, 3.995474e+00,\n",
       "       3.941510e+00, 3.941510e+00, 3.941510e+00, 3.941510e+00,\n",
       "       3.941510e+00, 3.894520e+00, 3.894520e+00, 3.894520e+00,\n",
       "       3.894520e+00, 3.845099e+00, 3.845099e+00, 3.845099e+00,\n",
       "       3.845099e+00, 3.795890e+00, 3.795890e+00, 3.795890e+00,\n",
       "       3.795890e+00, 3.746901e+00, 3.746901e+00, 3.746901e+00,\n",
       "       3.746901e+00, 3.694724e+00, 3.694724e+00, 3.694724e+00,\n",
       "       3.694724e+00, 3.632134e+00, 3.632134e+00, 3.632134e+00,\n",
       "       3.632134e+00, 3.632134e+00, 3.578818e+00, 3.578818e+00,\n",
       "       3.578818e+00, 3.578818e+00, 3.524810e+00, 3.524810e+00,\n",
       "       3.524810e+00, 3.524810e+00, 3.458151e+00, 3.458151e+00,\n",
       "       3.458151e+00, 3.458151e+00, 3.458151e+00, 3.402586e+00,\n",
       "       3.402586e+00, 3.402586e+00, 3.402586e+00, 3.346970e+00,\n",
       "       3.346970e+00, 3.346970e+00, 3.346970e+00, 3.277438e+00,\n",
       "       3.277438e+00, 3.277438e+00, 3.277438e+00, 3.277438e+00,\n",
       "       3.221579e+00, 3.221579e+00, 3.221579e+00, 3.221579e+00,\n",
       "       3.158942e+00, 3.158942e+00, 3.158942e+00, 3.158942e+00,\n",
       "       3.091948e+00, 3.091948e+00, 3.091948e+00, 3.091948e+00,\n",
       "       3.091948e+00, 3.032729e+00, 3.032729e+00, 3.032729e+00,\n",
       "       3.032729e+00, 2.973596e+00, 2.973596e+00, 2.973596e+00,\n",
       "       2.973596e+00, 2.902116e+00, 2.902116e+00, 2.902116e+00,\n",
       "       2.902116e+00, 2.838447e+00, 2.838447e+00, 2.838447e+00,\n",
       "       2.838447e+00, 2.838447e+00, 2.777053e+00, 2.777053e+00,\n",
       "       2.777053e+00, 2.777053e+00, 2.716231e+00, 2.716231e+00,\n",
       "       2.716231e+00, 2.716231e+00, 2.654522e+00, 2.654522e+00,\n",
       "       2.654522e+00, 2.654522e+00, 2.593487e+00, 2.593487e+00,\n",
       "       2.593487e+00, 2.593487e+00, 2.531316e+00, 2.531316e+00,\n",
       "       2.531316e+00, 2.531316e+00, 2.455332e+00, 2.455332e+00,\n",
       "       2.455332e+00, 2.455332e+00, 2.455332e+00, 2.392222e+00,\n",
       "       2.392222e+00, 2.392222e+00, 2.392222e+00, 2.330887e+00,\n",
       "       2.330887e+00, 2.330887e+00, 2.330887e+00, 2.266922e+00,\n",
       "       2.266922e+00, 2.266922e+00, 2.266922e+00, 2.192057e+00,\n",
       "       2.192057e+00, 2.192057e+00, 2.192057e+00, 2.192057e+00,\n",
       "       2.129979e+00, 2.129979e+00, 2.129979e+00, 2.129979e+00,\n",
       "       2.067616e+00, 2.067616e+00, 2.067616e+00, 2.067616e+00,\n",
       "       1.991136e+00, 1.991136e+00, 1.991136e+00, 1.991136e+00,\n",
       "       1.991136e+00, 1.929160e+00, 1.929160e+00, 1.929160e+00,\n",
       "       1.929160e+00, 1.868386e+00, 1.868386e+00, 1.868386e+00,\n",
       "       1.868386e+00, 1.806752e+00, 1.806752e+00, 1.806752e+00,\n",
       "       1.806752e+00, 1.733923e+00, 1.733923e+00, 1.733923e+00,\n",
       "       1.733923e+00, 1.733923e+00, 1.671987e+00, 1.671987e+00,\n",
       "       1.671987e+00, 1.671987e+00, 1.612819e+00, 1.612819e+00,\n",
       "       1.612819e+00, 1.612819e+00, 1.539155e+00, 1.539155e+00,\n",
       "       1.539155e+00, 1.539155e+00, 1.539155e+00, 1.481123e+00,\n",
       "       1.481123e+00, 1.481123e+00, 1.481123e+00, 1.419922e+00,\n",
       "       1.419922e+00, 1.419922e+00, 1.419922e+00, 1.349940e+00,\n",
       "       1.349940e+00, 1.349940e+00, 1.349940e+00, 1.349940e+00,\n",
       "       1.293656e+00, 1.293656e+00, 1.293656e+00, 1.293656e+00,\n",
       "       1.234379e+00, 1.234379e+00, 1.234379e+00, 1.234379e+00,\n",
       "       1.234379e+00, 1.170906e+00, 1.170906e+00, 1.170906e+00,\n",
       "       1.170906e+00, 1.117861e+00, 1.117861e+00, 1.117861e+00,\n",
       "       1.117861e+00, 1.055796e+00, 1.055796e+00, 1.055796e+00,\n",
       "       1.055796e+00, 1.055796e+00, 1.001117e+00, 1.001117e+00,\n",
       "       1.001117e+00, 1.001117e+00, 9.503830e-01, 9.503830e-01,\n",
       "       9.503830e-01, 9.503830e-01, 8.900940e-01, 8.900940e-01,\n",
       "       8.900940e-01, 8.900940e-01, 8.900940e-01, 8.410300e-01,\n",
       "       8.410300e-01, 8.410300e-01, 8.410300e-01, 7.943430e-01,\n",
       "       7.943430e-01, 7.943430e-01, 7.943430e-01, 7.368250e-01,\n",
       "       7.368250e-01, 7.368250e-01, 7.368250e-01, 7.368250e-01,\n",
       "       6.924940e-01, 6.924940e-01, 6.924940e-01, 6.924940e-01,\n",
       "       6.479530e-01, 6.479530e-01, 6.479530e-01, 6.479530e-01,\n",
       "       5.963460e-01, 5.963460e-01, 5.963460e-01, 5.963460e-01,\n",
       "       5.963460e-01, 5.552730e-01, 5.552730e-01, 5.552730e-01,\n",
       "       5.552730e-01, 5.108590e-01, 5.108590e-01, 5.108590e-01,\n",
       "       5.108590e-01, 5.108590e-01, 4.681810e-01, 4.681810e-01,\n",
       "       4.681810e-01, 4.681810e-01, 4.313260e-01, 4.313260e-01,\n",
       "       4.313260e-01, 4.313260e-01, 3.945950e-01, 3.945950e-01,\n",
       "       3.945950e-01, 3.945950e-01, 3.542450e-01, 3.542450e-01,\n",
       "       3.542450e-01, 3.542450e-01, 3.224190e-01, 3.224190e-01,\n",
       "       3.224190e-01, 3.224190e-01, 3.224190e-01, 2.915680e-01,\n",
       "       2.915680e-01, 2.915680e-01, 2.915680e-01, 2.625810e-01,\n",
       "       2.625810e-01, 2.625810e-01, 2.625810e-01, 2.339270e-01,\n",
       "       2.339270e-01, 2.339270e-01, 2.339270e-01, 2.021510e-01,\n",
       "       2.021510e-01, 2.021510e-01, 2.021510e-01, 2.021510e-01,\n",
       "       1.775660e-01, 1.775660e-01, 1.775660e-01, 1.775660e-01,\n",
       "       1.521690e-01, 1.521690e-01, 1.521690e-01, 1.521690e-01,\n",
       "       1.282940e-01, 1.282940e-01, 1.282940e-01, 1.282940e-01,\n",
       "       1.282940e-01, 1.090530e-01, 1.090530e-01, 1.090530e-01,\n",
       "       1.090530e-01, 9.041500e-02, 9.041500e-02, 9.041500e-02,\n",
       "       9.041500e-02, 7.136000e-02, 7.136000e-02, 7.136000e-02,\n",
       "       7.136000e-02, 7.136000e-02, 5.709400e-02, 5.709400e-02,\n",
       "       5.709400e-02, 5.709400e-02, 4.457500e-02, 4.457500e-02,\n",
       "       4.457500e-02, 4.457500e-02, 3.103000e-02, 3.103000e-02,\n",
       "       3.103000e-02, 3.103000e-02, 3.103000e-02, 2.208400e-02,\n",
       "       2.208400e-02, 2.208400e-02, 2.208400e-02, 1.460200e-02,\n",
       "       1.460200e-02, 1.460200e-02, 1.460200e-02, 7.607000e-03,\n",
       "       7.607000e-03, 7.607000e-03, 7.607000e-03, 7.607000e-03,\n",
       "       3.537000e-03, 3.537000e-03, 3.537000e-03, 3.537000e-03,\n",
       "       1.342000e-03, 1.342000e-03, 1.342000e-03, 1.342000e-03,\n",
       "       7.870000e-04, 7.870000e-04, 7.870000e-04, 7.870000e-04,\n",
       "       2.253000e-03, 2.253000e-03, 2.253000e-03, 2.253000e-03,\n",
       "       5.258000e-03, 5.258000e-03, 5.258000e-03, 5.258000e-03,\n",
       "       5.258000e-03, 1.000100e-02, 1.000100e-02, 1.000100e-02,\n",
       "       1.000100e-02, 1.625400e-02, 1.625400e-02, 1.625400e-02,\n",
       "       1.625400e-02, 2.604900e-02, 2.604900e-02, 2.604900e-02,\n",
       "       2.604900e-02, 2.604900e-02, 3.613900e-02, 3.613900e-02,\n",
       "       3.613900e-02, 3.613900e-02, 4.747500e-02, 4.747500e-02,\n",
       "       4.747500e-02, 4.747500e-02, 6.386900e-02, 6.386900e-02,\n",
       "       6.386900e-02, 6.386900e-02, 6.386900e-02, 7.887500e-02,\n",
       "       7.887500e-02, 7.887500e-02, 7.887500e-02, 9.556800e-02,\n",
       "       9.556800e-02, 9.556800e-02, 9.556800e-02, 1.177540e-01,\n",
       "       1.177540e-01, 1.177540e-01, 1.177540e-01, 1.177540e-01,\n",
       "       1.372810e-01, 1.372810e-01, 1.372810e-01, 1.372810e-01,\n",
       "       1.601650e-01, 1.601650e-01, 1.601650e-01, 1.601650e-01,\n",
       "       1.867250e-01, 1.867250e-01, 1.867250e-01, 1.867250e-01,\n",
       "       1.867250e-01, 2.110630e-01, 2.110630e-01, 2.110630e-01,\n",
       "       2.110630e-01, 2.401500e-01, 2.401500e-01, 2.401500e-01,\n",
       "       2.401500e-01, 2.401500e-01, 2.709200e-01, 2.709200e-01,\n",
       "       2.709200e-01, 2.709200e-01, 2.994640e-01, 2.994640e-01,\n",
       "       2.994640e-01, 2.994640e-01, 3.367520e-01, 3.367520e-01,\n",
       "       3.367520e-01, 3.367520e-01, 3.367520e-01, 3.693460e-01,\n",
       "       3.693460e-01, 3.693460e-01, 3.693460e-01, 4.027700e-01,\n",
       "       4.027700e-01, 4.027700e-01, 4.027700e-01, 4.457300e-01,\n",
       "       4.457300e-01, 4.457300e-01, 4.457300e-01, 4.457300e-01,\n",
       "       4.822020e-01, 4.822020e-01, 4.822020e-01, 4.822020e-01,\n",
       "       5.194430e-01, 5.194430e-01, 5.194430e-01, 5.194430e-01,\n",
       "       5.678990e-01, 5.678990e-01, 5.678990e-01, 5.678990e-01,\n",
       "       5.678990e-01, 6.074430e-01, 6.074430e-01, 6.074430e-01,\n",
       "       6.074430e-01, 6.502810e-01, 6.502810e-01, 6.502810e-01,\n",
       "       6.502810e-01, 7.012060e-01, 7.012060e-01, 7.012060e-01,\n",
       "       7.012060e-01, 7.012060e-01, 7.448460e-01, 7.448460e-01,\n",
       "       7.448460e-01, 7.448460e-01, 7.936010e-01, 7.936010e-01,\n",
       "       7.936010e-01, 7.936010e-01, 7.936010e-01, 8.460930e-01,\n",
       "       8.460930e-01, 8.460930e-01, 8.460930e-01, 8.928480e-01,\n",
       "       8.928480e-01, 8.928480e-01, 8.928480e-01, 9.482490e-01,\n",
       "       9.482490e-01, 9.482490e-01, 9.482490e-01, 9.482490e-01,\n",
       "       1.000654e+00, 1.000654e+00, 1.000654e+00, 1.000654e+00,\n",
       "       1.049298e+00, 1.049298e+00, 1.049298e+00, 1.049298e+00,\n",
       "       1.114235e+00, 1.114235e+00, 1.114235e+00, 1.114235e+00,\n",
       "       1.114235e+00, 1.165007e+00, 1.165007e+00, 1.165007e+00,\n",
       "       1.165007e+00, 1.217096e+00, 1.217096e+00, 1.217096e+00,\n",
       "       1.217096e+00, 1.282405e+00, 1.282405e+00, 1.282405e+00,\n",
       "       1.282405e+00, 1.282405e+00, 1.335958e+00, 1.335958e+00,\n",
       "       1.335958e+00, 1.335958e+00, 1.389531e+00, 1.389531e+00,\n",
       "       1.389531e+00, 1.389531e+00, 1.446826e+00, 1.446826e+00,\n",
       "       1.446826e+00, 1.446826e+00, 1.513474e+00, 1.513474e+00,\n",
       "       1.513474e+00, 1.513474e+00, 1.569778e+00, 1.569778e+00,\n",
       "       1.569778e+00, 1.569778e+00, 1.569778e+00, 1.625775e+00,\n",
       "       1.625775e+00, 1.625775e+00, 1.625775e+00, 1.686658e+00,\n",
       "       1.686658e+00, 1.686658e+00, 1.686658e+00, 1.753837e+00,\n",
       "       1.753837e+00, 1.753837e+00, 1.753837e+00, 1.753837e+00,\n",
       "       1.811466e+00, 1.811466e+00, 1.811466e+00, 1.811466e+00,\n",
       "       1.877178e+00, 1.877178e+00, 1.877178e+00, 1.877178e+00,\n",
       "       1.941670e+00, 1.941670e+00, 1.941670e+00, 1.941670e+00,\n",
       "       1.941670e+00, 1.999117e+00, 1.999117e+00, 1.999117e+00,\n",
       "       1.999117e+00, 2.057760e+00, 2.057760e+00, 2.057760e+00,\n",
       "       2.057760e+00, 2.129902e+00, 2.129902e+00, 2.129902e+00,\n",
       "       2.129902e+00, 2.129902e+00, 2.189582e+00, 2.189582e+00,\n",
       "       2.189582e+00, 2.189582e+00, 2.248618e+00, 2.248618e+00,\n",
       "       2.248618e+00, 2.248618e+00, 2.307005e+00, 2.307005e+00,\n",
       "       2.307005e+00, 2.307005e+00, 2.381036e+00, 2.381036e+00,\n",
       "       2.381036e+00, 2.381036e+00, 2.381036e+00, 2.439663e+00,\n",
       "       2.439663e+00, 2.439663e+00, 2.439663e+00, 2.498947e+00,\n",
       "       2.498947e+00, 2.498947e+00, 2.498947e+00, 2.558313e+00,\n",
       "       2.558313e+00, 2.558313e+00, 2.558313e+00, 2.631024e+00,\n",
       "       2.631024e+00, 2.631024e+00, 2.631024e+00, 2.631024e+00,\n",
       "       2.688726e+00, 2.688726e+00, 2.688726e+00, 2.688726e+00,\n",
       "       2.747154e+00, 2.747154e+00, 2.747154e+00, 2.747154e+00,\n",
       "       2.808528e+00, 2.808528e+00, 2.808528e+00, 2.808528e+00,\n",
       "       2.877438e+00, 2.877438e+00, 2.877438e+00, 2.877438e+00,\n",
       "       2.877438e+00, 2.933892e+00, 2.933892e+00, 2.933892e+00,\n",
       "       2.933892e+00, 2.991003e+00, 2.991003e+00, 2.991003e+00,\n",
       "       2.991003e+00, 3.046908e+00, 3.046908e+00, 3.046908e+00,\n",
       "       3.046908e+00, 3.103201e+00, 3.103201e+00, 3.103201e+00,\n",
       "       3.103201e+00, 3.162466e+00, 3.162466e+00, 3.162466e+00,\n",
       "       3.162466e+00, 3.226327e+00, 3.226327e+00, 3.226327e+00,\n",
       "       3.226327e+00, 3.226327e+00, 3.280376e+00, 3.280376e+00,\n",
       "       3.280376e+00, 3.280376e+00, 3.333398e+00, 3.333398e+00,\n",
       "       3.333398e+00, 3.333398e+00, 3.387911e+00, 3.387911e+00,\n",
       "       3.387911e+00, 3.387911e+00, 3.453326e+00, 3.453326e+00,\n",
       "       3.453326e+00, 3.453326e+00, 3.453326e+00, 3.504181e+00,\n",
       "       3.504181e+00, 3.504181e+00, 3.504181e+00, 3.553418e+00,\n",
       "       3.553418e+00, 3.553418e+00, 3.553418e+00, 3.604972e+00,\n",
       "       3.604972e+00, 3.604972e+00, 3.604972e+00, 3.662263e+00,\n",
       "       3.662263e+00, 3.662263e+00, 3.662263e+00, 3.662263e+00,\n",
       "       3.709384e+00, 3.709384e+00, 3.709384e+00, 3.709384e+00,\n",
       "       3.755277e+00, 3.755277e+00, 3.755277e+00, 3.755277e+00,\n",
       "       3.801404e+00, 3.801404e+00, 3.801404e+00, 3.801404e+00,\n",
       "       3.847622e+00, 3.847622e+00, 3.847622e+00, 3.847622e+00,\n",
       "       3.900334e+00, 3.900334e+00, 3.900334e+00, 3.900334e+00,\n",
       "       3.900334e+00, 3.942399e+00, 3.942399e+00, 3.942399e+00,\n",
       "       3.942399e+00, 3.983545e+00, 3.983545e+00, 3.983545e+00,\n",
       "       3.983545e+00, 4.031925e+00, 4.031925e+00, 4.031925e+00,\n",
       "       4.031925e+00, 4.031925e+00, 4.070461e+00, 4.070461e+00,\n",
       "       4.070461e+00, 4.070461e+00, 4.107330e+00, 4.107330e+00,\n",
       "       4.107330e+00, 4.107330e+00, 4.143982e+00, 4.143982e+00,\n",
       "       4.143982e+00, 4.143982e+00, 4.143982e+00, 4.151891e+00,\n",
       "       4.151891e+00, 4.151891e+00, 4.151891e+00, 4.159734e+00,\n",
       "       4.159734e+00, 4.159734e+00, 4.159734e+00, 4.169798e+00,\n",
       "       4.169798e+00, 4.169798e+00, 4.169798e+00, 4.169798e+00,\n",
       "       4.178180e+00, 4.178180e+00, 4.178180e+00, 4.178180e+00,\n",
       "       4.187991e+00, 4.187991e+00, 4.187991e+00, 4.187991e+00,\n",
       "       4.187991e+00, 4.200361e+00, 4.200361e+00, 4.200361e+00,\n",
       "       4.200361e+00, 4.212367e+00, 4.212367e+00, 4.212367e+00,\n",
       "       4.212367e+00, 4.227715e+00, 4.227715e+00, 4.227715e+00,\n",
       "       4.227715e+00, 4.227715e+00, 4.244716e+00, 4.244716e+00,\n",
       "       4.244716e+00, 4.244716e+00, 4.260714e+00, 4.260714e+00,\n",
       "       4.260714e+00, 4.260714e+00, 4.280876e+00, 4.280876e+00,\n",
       "       4.280876e+00, 4.280876e+00, 4.280876e+00, 4.297702e+00,\n",
       "       4.297702e+00, 4.297702e+00, 4.297702e+00, 4.313359e+00,\n",
       "       4.313359e+00, 4.313359e+00, 4.313359e+00, 4.331444e+00,\n",
       "       4.331444e+00, 4.331444e+00, 4.331444e+00, 4.331444e+00,\n",
       "       4.344461e+00, 4.344461e+00, 4.344461e+00, 4.344461e+00,\n",
       "       4.355853e+00, 4.355853e+00, 4.355853e+00, 4.355853e+00,\n",
       "       4.368285e+00, 4.368285e+00, 4.368285e+00, 4.368285e+00,\n",
       "       4.368285e+00, 4.376686e+00, 4.376686e+00, 4.376686e+00,\n",
       "       4.376686e+00, 4.383782e+00, 4.383782e+00, 4.383782e+00,\n",
       "       4.383782e+00, 4.389409e+00, 4.389409e+00, 4.389409e+00,\n",
       "       4.389409e+00, 4.389409e+00, 4.392998e+00, 4.392998e+00,\n",
       "       4.392998e+00, 4.392998e+00, 4.394496e+00, 4.394496e+00,\n",
       "       4.394496e+00, 4.394496e+00, 4.394429e+00, 4.394429e+00,\n",
       "       4.394429e+00, 4.394429e+00, 4.394429e+00, 4.392416e+00,\n",
       "       4.392416e+00, 4.392416e+00, 4.392416e+00, 4.388848e+00,\n",
       "       4.388848e+00, 4.388848e+00, 4.388848e+00, 4.382107e+00,\n",
       "       4.382107e+00, 4.382107e+00, 4.382107e+00, 4.382107e+00,\n",
       "       4.374910e+00, 4.374910e+00, 4.374910e+00, 4.374910e+00,\n",
       "       4.366322e+00, 4.366322e+00, 4.366322e+00, 4.366322e+00,\n",
       "       4.353674e+00, 4.353674e+00, 4.353674e+00, 4.353674e+00,\n",
       "       4.353674e+00, 4.342067e+00, 4.342067e+00, 4.342067e+00,\n",
       "       4.342067e+00, 4.327269e+00, 4.327269e+00, 4.327269e+00,\n",
       "       4.327269e+00, 4.327269e+00, 4.310789e+00, 4.310789e+00,\n",
       "       4.310789e+00, 4.310789e+00, 4.294800e+00, 4.294800e+00,\n",
       "       4.294800e+00, 4.294800e+00, 4.276713e+00, 4.276713e+00,\n",
       "       4.276713e+00, 4.276713e+00, 4.256540e+00, 4.256540e+00,\n",
       "       4.256540e+00, 4.256540e+00, 4.256540e+00, 4.239852e+00,\n",
       "       4.239852e+00, 4.239852e+00, 4.239852e+00, 4.224853e+00,\n",
       "       4.224853e+00, 4.224853e+00, 4.224853e+00, 4.211191e+00,\n",
       "       4.211191e+00, 4.211191e+00, 4.211191e+00, 4.196977e+00,\n",
       "       4.196977e+00, 4.196977e+00, 4.196977e+00, 4.186806e+00,\n",
       "       4.186806e+00, 4.186806e+00, 4.186806e+00, 4.186806e+00,\n",
       "       4.178026e+00, 4.178026e+00, 4.178026e+00, 4.178026e+00,\n",
       "       4.170246e+00, 4.170246e+00, 4.170246e+00, 4.170246e+00])"
      ]
     },
     "execution_count": 5,
     "metadata": {},
     "output_type": "execute_result"
    }
   ],
   "source": [
    "srs = SRS_SIM900()\n",
    "srs.connect()\n",
    "servo2 = SRS_PIDcontrol_SIM960(srs, 3)\n",
    "servo2.manual_sweep(np.linspace(-3,3,1000))"
   ]
  },
  {
   "cell_type": "code",
   "execution_count": 7,
   "id": "63b5282b",
   "metadata": {},
   "outputs": [
    {
     "name": "stdout",
     "output_type": "stream",
     "text": [
      "Finisar Waveshaper SN201904 connected\n"
     ]
    },
    {
     "data": {
      "text/plain": [
       "1"
      ]
     },
     "execution_count": 7,
     "metadata": {},
     "output_type": "execute_result"
    }
   ],
   "source": [
    "wsp = Waveshaper()\n",
    "wsp.connect()"
   ]
  },
  {
   "cell_type": "code",
   "execution_count": 11,
   "id": "c3185608",
   "metadata": {},
   "outputs": [
    {
     "name": "stdout",
     "output_type": "stream",
     "text": [
      "Waveshaper Set atten to BandPass [189.675~194.675] THz ([1580.559~1539.964] nm).\n",
      "Waveshaper Set 3rd disper with d2=2.17 ps/nm, d3=0.0 ps/nm^2, center 192.17465256410256 THz.\n",
      "Waveshaper profile write successful.\n"
     ]
    }
   ],
   "source": [
    "wsp.setBandPass(span=5)\n",
    "wsp.set3rdDisper(d2=2.17, d3= 0., preview_plot=0)\n",
    "wsp.writeProfile()"
   ]
  },
  {
   "cell_type": "code",
   "execution_count": 13,
   "id": "cb69b346",
   "metadata": {},
   "outputs": [
    {
     "name": "stdout",
     "output_type": "stream",
     "text": [
      "ANDO AQ-6315E Optical Spectrum Analyzer connected\n"
     ]
    },
    {
     "data": {
      "text/plain": [
       "1"
      ]
     },
     "execution_count": 13,
     "metadata": {},
     "output_type": "execute_result"
    }
   ],
   "source": [
    "osa = AndoOSA_AQ6315E()\n",
    "osa.connect()"
   ]
  },
  {
   "cell_type": "code",
   "execution_count": 15,
   "id": "2f935a0a",
   "metadata": {},
   "outputs": [
    {
     "name": "stdout",
     "output_type": "stream",
     "text": [
      "Pritel Optical Amplifier connected\n"
     ]
    },
    {
     "data": {
      "text/plain": [
       "0"
      ]
     },
     "execution_count": 15,
     "metadata": {},
     "output_type": "execute_result"
    }
   ],
   "source": [
    "ptamp = PritelAmp()\n",
    "ptamp.connect()"
   ]
  },
  {
   "cell_type": "code",
   "execution_count": 26,
   "id": "21a8a136",
   "metadata": {},
   "outputs": [
    {
     "name": "stdout",
     "output_type": "stream",
     "text": [
      "Pritel Optical Amplifier: Disable Ramping by self.ramp_pre_ma = 0, now 100 mA.\n",
      "Pritel Optical Amplifier: Setting PreAmp Current to 000 mA, current Output 0.00 W.\n",
      "Pritel Optical Amplifier: Setting PreAmp Current to 120 mA, current Output 0.00 W.\n",
      "Pritel Optical Amplifier: Setting PreAmp Current to 240 mA, current Output 0.00 W.\n",
      "Pritel Optical Amplifier: Setting PreAmp Current to 360 mA, current Output 0.00 W.\n",
      "Pritel Optical Amplifier: Setting PreAmp Current to 480 mA, current Output 0.00 W.\n",
      "Pritel Optical Amplifier: Setting PreAmp Current to 600 mA, current Output 0.00 W.\n",
      "Pritel Optical Amplifier: ACTIVATING LASER PUMP (OUTPUT), MAKE SURE SEED INPUT POWER IS APPROPRIATE TO AVOID DAMAGE.\n",
      "Pritel Optical Amplifier: ......waiting Activation status set to ON, now OFF\n",
      "Pritel Optical Amplifier: ......waiting Activation status set to ON, now ON\n",
      "Pritel Optical Amplifier: setted Activation status as ON, finished in 1.966 seconds\n",
      "Pritel Optical Amplifier: Disable Ramping by self.ramp_pwr_ma = 0, now 50 mA.\n",
      "Pritel Optical Amplifier: Setting PowerAmp Current to 0.00 A, , current Output 0.00 W.\n",
      "Pritel Optical Amplifier: Setting PowerAmp Current to 0.05 A, , current Output 0.00 W.\n",
      "Pritel Optical Amplifier: Setting PowerAmp Current to 0.11 A, , current Output 0.00 W.\n",
      "Pritel Optical Amplifier: Setting PowerAmp Current to 0.16 A, , current Output 0.00 W.\n",
      "Pritel Optical Amplifier: Setting PowerAmp Current to 0.22 A, , current Output 0.00 W.\n",
      "Pritel Optical Amplifier: Setting PowerAmp Current to 0.27 A, , current Output 0.00 W.\n",
      "Pritel Optical Amplifier: Setting PowerAmp Current to 0.32 A, , current Output 0.00 W.\n",
      "Pritel Optical Amplifier: Setting PowerAmp Current to 0.38 A, , current Output 0.00 W.\n",
      "Pritel Optical Amplifier: Setting PowerAmp Current to 0.43 A, , current Output 0.00 W.\n",
      "Pritel Optical Amplifier: Setting PowerAmp Current to 0.49 A, , current Output 0.00 W.\n",
      "Pritel Optical Amplifier: Setting PowerAmp Current to 0.54 A, , current Output 0.01 W.\n",
      "Pritel Optical Amplifier: Setting PowerAmp Current to 0.60 A, , current Output 0.06 W.\n",
      "Pritel Optical Amplifier: Setting PowerAmp Current to 0.65 A, , current Output 0.12 W.\n"
     ]
    }
   ],
   "source": [
    "ptamp.preAmp = '600mA'\n",
    "ptamp.activation=1\n",
    "ptamp.pwrAmp='0.65A'"
   ]
  },
  {
   "cell_type": "code",
   "execution_count": 25,
   "id": "f9dae16a",
   "metadata": {},
   "outputs": [
    {
     "name": "stdout",
     "output_type": "stream",
     "text": [
      "Pritel Optical Amplifier: ......waiting Activation status set to OFF, now ON\n",
      "Pritel Optical Amplifier: setted Activation status as OFF, finished in 1.219 seconds\n"
     ]
    }
   ],
   "source": [
    "ptamp.pwramp = 0\n",
    "ptamp.activation=0"
   ]
  },
  {
   "cell_type": "code",
   "execution_count": 41,
   "id": "ff0d7fbd",
   "metadata": {},
   "outputs": [
    {
     "name": "stdout",
     "output_type": "stream",
     "text": [
      "Pritel Optical Amplifier: Disable Ramping by self.ramp_pwr_ma = 0, now 50 mA.\n",
      "Pritel Optical Amplifier: Setting PowerAmp Current to 0.57 A, , current Output 0.12 W.\n",
      "Pritel Optical Amplifier: Setting PowerAmp Current to 0.63 A, , current Output 0.09 W.\n",
      "Pritel Optical Amplifier: Setting PowerAmp Current to 0.69 A, , current Output 0.14 W.\n",
      "Pritel Optical Amplifier: Setting PowerAmp Current to 0.75 A, , current Output 0.21 W.\n"
     ]
    }
   ],
   "source": [
    "ptamp.pwrAmp='0.75A'"
   ]
  },
  {
   "cell_type": "code",
   "execution_count": 62,
   "id": "7befe14d",
   "metadata": {},
   "outputs": [
    {
     "name": "stdout",
     "output_type": "stream",
     "text": [
      "ORION Laser Module connected\n",
      "0\n",
      "1\n",
      "0\n",
      "-----------------------ORION Laser Module Status Summary------------------------\n",
      "-------------Product ID: RIO0175-5-01-4-AW2, Ver 0.11.7, SN: 806734-------------\n",
      "|\t Status Code: bytearray(b'\\x00\\x01\\x00\\x01\\x00\\x01')\n",
      "|\t Photo monitor voltage: 0.905 Volt (also mA, r=1kOhm)\n",
      "|\t Board Temp:   23.9282 °C\n",
      "|\t Thermis Temp: 20.6562 °C\n",
      "|\t Volatile Settings (reset to non-volatile after re-plug): \n",
      "|\t\t Diode Cur = 144.0000 mA, TEC Set = 20.800°C\n",
      "|\t Non Volatile Settings (Doesn't reset after re-plug): \n",
      "|\t\t Diode Cur = 144.0000 mA, TEC Set = 20.800°C\n",
      "---------------------ORION Laser Module Status Summary Ends---------------------\n"
     ]
    },
    {
     "data": {
      "text/plain": [
       "\"-----------------------ORION Laser Module Status Summary------------------------\\n-------------Product ID: RIO0175-5-01-4-AW2, Ver 0.11.7, SN: 806734-------------\\n|\\t Status Code: bytearray(b'\\\\x00\\\\x01\\\\x00\\\\x01\\\\x00\\\\x01')\\n|\\t Photo monitor voltage: 0.905 Volt (also mA, r=1kOhm)\\n|\\t Board Temp:   23.9282 °C\\n|\\t Thermis Temp: 20.6562 °C\\n|\\t Volatile Settings (reset to non-volatile after re-plug): \\n|\\t\\t Diode Cur = 144.0000 mA, TEC Set = 20.800°C\\n|\\t Non Volatile Settings (Doesn't reset after re-plug): \\n|\\t\\t Diode Cur = 144.0000 mA, TEC Set = 20.800°C\\n---------------------ORION Laser Module Status Summary Ends---------------------\""
      ]
     },
     "execution_count": 62,
     "metadata": {},
     "output_type": "execute_result"
    }
   ],
   "source": [
    "rio = ORIONLaser()\n",
    "rio.connect()\n",
    "rio.printStatus()"
   ]
  },
  {
   "cell_type": "code",
   "execution_count": 69,
   "id": "d4570833",
   "metadata": {},
   "outputs": [
    {
     "data": {
      "text/plain": [
       "10047"
      ]
     },
     "execution_count": 69,
     "metadata": {},
     "output_type": "execute_result"
    }
   ],
   "source": [
    "int.from_bytes(rio.query(0x1F)['data'], byteorder='big')"
   ]
  },
  {
   "cell_type": "code",
   "execution_count": 63,
   "id": "ef1c11b9",
   "metadata": {
    "scrolled": true
   },
   "outputs": [
    {
     "name": "stdout",
     "output_type": "stream",
     "text": [
      "0.2833267\n"
     ]
    }
   ],
   "source": [
    "rio.writeLaserdiodeCur_mA(150) # 144 to 165\n",
    "time.sleep(3)\n",
    "print(amamp.inputPowerCh1)"
   ]
  },
  {
   "cell_type": "code",
   "execution_count": 64,
   "id": "04a5076d",
   "metadata": {},
   "outputs": [
    {
     "name": "stdout",
     "output_type": "stream",
     "text": [
      "0.276028\n"
     ]
    },
    {
     "data": {
      "text/plain": [
       "12531"
      ]
     },
     "execution_count": 64,
     "metadata": {},
     "output_type": "execute_result"
    }
   ],
   "source": [
    "rio.writeTECsetpoint(20) # 10 to 26.8\n",
    "time.sleep(5)\n",
    "print(amamp.inputPowerCh1)\n",
    "int.from_bytes(rio.query(0x1F)['data'], byteorder='big')"
   ]
  },
  {
   "cell_type": "code",
   "execution_count": 61,
   "id": "158745d9",
   "metadata": {
    "scrolled": true
   },
   "outputs": [
    {
     "name": "stdout",
     "output_type": "stream",
     "text": [
      "0\n",
      "1\n",
      "0\n",
      "-----------------------ORION Laser Module Status Summary------------------------\n",
      "-------------Product ID: RIO0175-3-22-4-CJ5, Ver 0.11.7, SN: 811177-------------\n",
      "|\t Status Code: bytearray(b'\\x00\\x01\\x00\\x01\\x00\\x01')\n",
      "|\t Photo monitor voltage: 0.585 Volt (also mA, r=1kOhm)\n",
      "|\t Board Temp:   21.9149 °C\n",
      "|\t Thermis Temp: 22.6047 °C\n",
      "|\t Volatile Settings (reset to non-volatile after re-plug): \n",
      "|\t\t Diode Cur = 165.0000 mA, TEC Set = 22.859°C\n",
      "|\t Non Volatile Settings (Doesn't reset after re-plug): \n",
      "|\t\t Diode Cur = 165.0000 mA, TEC Set = 25.902°C\n",
      "---------------------ORION Laser Module Status Summary Ends---------------------\n"
     ]
    },
    {
     "data": {
      "text/plain": [
       "\"-----------------------ORION Laser Module Status Summary------------------------\\n-------------Product ID: RIO0175-3-22-4-CJ5, Ver 0.11.7, SN: 811177-------------\\n|\\t Status Code: bytearray(b'\\\\x00\\\\x01\\\\x00\\\\x01\\\\x00\\\\x01')\\n|\\t Photo monitor voltage: 0.585 Volt (also mA, r=1kOhm)\\n|\\t Board Temp:   21.9149 °C\\n|\\t Thermis Temp: 22.6047 °C\\n|\\t Volatile Settings (reset to non-volatile after re-plug): \\n|\\t\\t Diode Cur = 165.0000 mA, TEC Set = 22.859°C\\n|\\t Non Volatile Settings (Doesn't reset after re-plug): \\n|\\t\\t Diode Cur = 165.0000 mA, TEC Set = 25.902°C\\n---------------------ORION Laser Module Status Summary Ends---------------------\""
      ]
     },
     "execution_count": 61,
     "metadata": {},
     "output_type": "execute_result"
    }
   ],
   "source": [
    "rio.printStatus()"
   ]
  },
  {
   "cell_type": "code",
   "execution_count": 57,
   "id": "e61d06c8",
   "metadata": {},
   "outputs": [
    {
     "name": "stdout",
     "output_type": "stream",
     "text": [
      "Stanford Research System SIM900 connected\n",
      "SRS PID controller SIM960: PID output is turned OFF, output mode is turnd to Manual.\n"
     ]
    },
    {
     "data": {
      "image/png": "[encoded data removed]",
      "text/plain": [
       "<Figure size 432x288 with 1 Axes>"
      ]
     },
     "metadata": {
      "needs_background": "light"
     },
     "output_type": "display_data"
    }
   ],
   "source": [
    "srs = SRS_SIM900()\n",
    "srs.connect()\n",
    "servo3 = SRS_PIDcontrol_SIM960(srs, 5)\n",
    "r = servo3.manual_sweep(np.linspace(-0.5,7.5,8001))"
   ]
  },
  {
   "cell_type": "code",
   "execution_count": 58,
   "id": "5b634413",
   "metadata": {},
   "outputs": [
    {
     "name": "stdout",
     "output_type": "stream",
     "text": [
      "SRS PID controller SIM960: PID output is turned OFF, output mode is turnd to Manual.\n"
     ]
    },
    {
     "data": {
      "image/png": "[encoded data removed]",
      "text/plain": [
       "<Figure size 432x288 with 1 Axes>"
      ]
     },
     "metadata": {
      "needs_background": "light"
     },
     "output_type": "display_data"
    },
    {
     "data": {
      "text/plain": [
       "array([ 2.0e-06, -2.0e-06, -2.0e-06, -2.0e-06, -2.0e-06, -2.0e-06,\n",
       "       -2.0e-06, -2.0e-06, -2.0e-06, -4.0e-06, -4.0e-06, -4.0e-06,\n",
       "       -4.0e-06, -4.0e-06, -6.0e-06, -6.0e-06, -6.0e-06, -6.0e-06,\n",
       "       -2.0e-05, -2.0e-05, -2.0e-05, -2.0e-05, -3.0e-05, -3.0e-05,\n",
       "       -3.0e-05, -3.0e-05, -3.0e-05, -1.8e-05, -1.8e-05, -1.8e-05,\n",
       "       -1.8e-05, -2.2e-05, -2.2e-05, -2.2e-05, -2.2e-05, -1.0e-05,\n",
       "       -1.0e-05, -1.0e-05, -1.0e-05, -1.0e-05, -4.0e-05, -4.0e-05,\n",
       "       -4.0e-05, -4.0e-05, -2.8e-05, -2.8e-05, -2.8e-05, -2.8e-05,\n",
       "       -4.0e-06, -4.0e-06, -4.0e-06, -4.0e-06, -4.0e-06, -2.0e-05,\n",
       "       -2.0e-05, -2.0e-05, -2.0e-05,  8.0e-06,  8.0e-06,  8.0e-06,\n",
       "        8.0e-06, -1.0e-05, -1.0e-05, -1.0e-05, -1.0e-05,  1.0e-05,\n",
       "        1.0e-05,  1.0e-05,  1.0e-05,  1.0e-05, -4.0e-06, -4.0e-06,\n",
       "       -4.0e-06, -4.0e-06, -1.8e-05, -1.8e-05, -1.8e-05, -1.8e-05,\n",
       "       -1.4e-05, -1.4e-05, -1.4e-05, -1.4e-05, -1.4e-05, -6.0e-06,\n",
       "       -6.0e-06, -6.0e-06, -6.0e-06, -8.0e-06, -8.0e-06, -8.0e-06,\n",
       "       -8.0e-06, -8.0e-06, -8.0e-06, -8.0e-06, -8.0e-06, -1.0e-05,\n",
       "       -1.0e-05, -1.0e-05, -1.0e-05, -2.4e-05, -2.4e-05, -2.4e-05,\n",
       "       -2.4e-05, -2.4e-05,  0.0e+00,  0.0e+00,  0.0e+00,  0.0e+00,\n",
       "       -4.4e-05, -4.4e-05, -4.4e-05, -4.4e-05, -2.4e-05, -2.4e-05,\n",
       "       -2.4e-05, -2.4e-05, -2.4e-05, -2.0e-05, -2.0e-05, -2.0e-05,\n",
       "       -2.0e-05, -1.2e-05, -1.2e-05, -1.2e-05, -1.2e-05, -2.6e-05,\n",
       "       -2.6e-05, -2.6e-05, -2.6e-05, -2.6e-05, -1.8e-05, -1.8e-05,\n",
       "       -1.8e-05, -1.8e-05, -1.2e-05, -1.2e-05, -1.2e-05, -1.2e-05,\n",
       "       -2.6e-05, -2.6e-05, -2.6e-05, -2.6e-05, -2.6e-05, -3.0e-05,\n",
       "       -3.0e-05, -3.0e-05, -3.0e-05, -4.2e-05, -4.2e-05, -4.2e-05,\n",
       "       -4.2e-05, -4.2e-05, -1.6e-05, -1.6e-05, -1.6e-05, -1.6e-05,\n",
       "       -4.8e-05, -4.8e-05, -4.8e-05, -4.8e-05, -2.4e-05, -2.4e-05,\n",
       "       -2.4e-05, -2.4e-05, -8.0e-06, -8.0e-06, -8.0e-06, -8.0e-06,\n",
       "       -8.0e-06, -4.8e-05, -4.8e-05, -4.8e-05, -4.8e-05, -1.8e-05,\n",
       "       -1.8e-05, -1.8e-05, -1.8e-05, -3.0e-05, -3.0e-05, -3.0e-05,\n",
       "       -3.0e-05, -3.0e-05, -4.6e-05, -4.6e-05, -4.6e-05, -4.6e-05,\n",
       "       -8.0e-06, -8.0e-06, -8.0e-06, -8.0e-06, -3.2e-05, -3.2e-05,\n",
       "       -3.2e-05, -3.2e-05, -2.8e-05, -2.8e-05, -2.8e-05, -2.8e-05,\n",
       "       -2.8e-05, -8.0e-06, -8.0e-06, -8.0e-06, -8.0e-06, -4.6e-05,\n",
       "       -4.6e-05, -4.6e-05, -4.6e-05, -1.4e-05, -1.4e-05, -1.4e-05,\n",
       "       -1.4e-05, -6.0e-06, -6.0e-06, -6.0e-06, -6.0e-06, -6.0e-06,\n",
       "       -2.0e-06, -2.0e-06, -2.0e-06, -2.0e-06,  6.0e-06,  6.0e-06,\n",
       "        6.0e-06,  6.0e-06, -2.2e-05, -2.2e-05, -2.2e-05, -2.2e-05,\n",
       "       -2.6e-05, -2.6e-05, -2.6e-05, -2.6e-05, -2.6e-05,  1.2e-05,\n",
       "        1.2e-05,  1.2e-05,  1.2e-05, -3.6e-05, -3.6e-05, -3.6e-05,\n",
       "       -3.6e-05, -2.0e-06, -2.0e-06, -2.0e-06, -2.0e-06, -2.0e-06,\n",
       "       -2.6e-05, -2.6e-05, -2.6e-05, -2.6e-05, -6.0e-06, -6.0e-06,\n",
       "       -6.0e-06, -6.0e-06, -1.6e-05, -1.6e-05, -1.6e-05, -1.6e-05,\n",
       "       -1.6e-05, -2.6e-05, -2.6e-05, -2.6e-05, -2.6e-05, -1.8e-05,\n",
       "       -1.8e-05, -1.8e-05, -1.8e-05, -2.0e-05, -2.0e-05, -2.0e-05,\n",
       "       -2.0e-05, -2.6e-05, -2.6e-05, -2.6e-05, -2.6e-05, -2.2e-05,\n",
       "       -2.2e-05, -2.2e-05, -2.2e-05, -2.2e-05, -3.0e-05, -3.0e-05,\n",
       "       -3.0e-05, -3.0e-05, -1.0e-05, -1.0e-05, -1.0e-05, -1.0e-05,\n",
       "       -1.4e-05, -1.4e-05, -1.4e-05, -1.4e-05, -1.4e-05, -2.4e-05,\n",
       "       -2.4e-05, -2.4e-05, -2.4e-05, -2.4e-05, -2.4e-05, -2.4e-05,\n",
       "       -2.4e-05, -1.6e-05, -1.6e-05, -1.6e-05, -1.6e-05, -1.6e-05,\n",
       "       -1.6e-05, -1.6e-05, -1.6e-05, -1.6e-05, -1.6e-05, -1.6e-05,\n",
       "       -1.6e-05, -1.6e-05, -4.6e-05, -4.6e-05, -4.6e-05, -4.6e-05,\n",
       "       -4.6e-05, -2.0e-06, -2.0e-06, -2.0e-06, -2.0e-06, -2.0e-06,\n",
       "       -2.0e-06, -2.0e-06, -2.0e-06, -2.0e-06,  0.0e+00,  0.0e+00,\n",
       "        0.0e+00,  0.0e+00, -2.6e-05, -2.6e-05, -2.6e-05, -2.6e-05,\n",
       "       -2.4e-05, -2.4e-05, -2.4e-05, -2.4e-05, -2.6e-05, -2.6e-05,\n",
       "       -2.6e-05, -2.6e-05, -2.6e-05, -4.0e-06, -4.0e-06, -4.0e-06,\n",
       "       -4.0e-06, -1.4e-05, -1.4e-05, -1.4e-05, -1.4e-05, -3.0e-05,\n",
       "       -3.0e-05, -3.0e-05, -3.0e-05, -1.8e-05, -1.8e-05, -1.8e-05,\n",
       "       -1.8e-05, -1.8e-05, -1.4e-05, -1.4e-05, -1.4e-05, -1.4e-05,\n",
       "       -2.0e-06, -2.0e-06, -2.0e-06, -2.0e-06, -6.0e-06, -6.0e-06,\n",
       "       -6.0e-06, -6.0e-06, -6.0e-06, -2.0e-06, -2.0e-06, -2.0e-06,\n",
       "       -2.0e-06, -1.6e-05, -1.6e-05, -1.6e-05, -1.6e-05, -6.0e-06,\n",
       "       -6.0e-06, -6.0e-06, -6.0e-06, -6.0e-06,  8.0e-06,  8.0e-06,\n",
       "        8.0e-06,  8.0e-06, -1.0e-05, -1.0e-05, -1.0e-05, -1.0e-05,\n",
       "       -1.8e-05, -1.8e-05, -1.8e-05, -1.8e-05, -4.0e-06, -4.0e-06,\n",
       "       -4.0e-06, -4.0e-06, -4.0e-06,  0.0e+00,  0.0e+00,  0.0e+00,\n",
       "        0.0e+00, -1.6e-05, -1.6e-05, -1.6e-05, -1.6e-05,  4.0e-06,\n",
       "        4.0e-06,  4.0e-06,  4.0e-06,  4.0e-06, -2.0e-06, -2.0e-06,\n",
       "       -2.0e-06, -2.0e-06, -2.4e-05, -2.4e-05, -2.4e-05, -2.4e-05,\n",
       "       -2.4e-05, -2.4e-05, -2.4e-05, -2.4e-05, -1.4e-05, -1.4e-05,\n",
       "       -1.4e-05, -1.4e-05, -1.4e-05,  8.0e-06,  8.0e-06,  8.0e-06,\n",
       "        8.0e-06, -3.0e-05, -3.0e-05, -3.0e-05, -3.0e-05, -5.2e-05,\n",
       "       -5.2e-05, -5.2e-05, -5.2e-05, -5.2e-05,  2.0e-06,  2.0e-06,\n",
       "        2.0e-06,  2.0e-06, -1.2e-05, -1.2e-05, -1.2e-05, -1.2e-05,\n",
       "        1.0e-05,  1.0e-05,  1.0e-05,  1.0e-05,  1.0e-05, -2.4e-05,\n",
       "       -2.4e-05, -2.4e-05, -2.4e-05, -1.4e-05, -1.4e-05, -1.4e-05,\n",
       "       -1.4e-05, -1.6e-05, -1.6e-05, -1.6e-05, -1.6e-05, -1.6e-05,\n",
       "       -2.6e-05, -2.6e-05, -2.6e-05, -2.6e-05, -3.4e-05, -3.4e-05,\n",
       "       -3.4e-05, -3.4e-05, -1.4e-05, -1.4e-05, -1.4e-05, -1.4e-05,\n",
       "       -6.0e-06, -6.0e-06, -6.0e-06, -6.0e-06, -6.0e-06, -2.0e-06,\n",
       "       -2.0e-06, -2.0e-06, -2.0e-06, -1.0e-05, -1.0e-05, -1.0e-05,\n",
       "       -1.0e-05, -1.0e-05, -2.8e-05, -2.8e-05, -2.8e-05, -2.8e-05,\n",
       "       -3.0e-05, -3.0e-05, -3.0e-05, -3.0e-05, -1.4e-05, -1.4e-05,\n",
       "       -1.4e-05, -1.4e-05, -2.8e-05, -2.8e-05, -2.8e-05, -2.8e-05,\n",
       "       -2.8e-05, -8.0e-06, -8.0e-06, -8.0e-06, -8.0e-06,  0.0e+00,\n",
       "        0.0e+00,  0.0e+00,  0.0e+00, -1.6e-05, -1.6e-05, -1.6e-05,\n",
       "       -1.6e-05, -1.6e-05, -2.0e-05, -2.0e-05, -2.0e-05, -2.0e-05,\n",
       "       -1.2e-05, -1.2e-05, -1.2e-05, -1.2e-05, -8.0e-06, -8.0e-06,\n",
       "       -8.0e-06, -8.0e-06,  8.0e-06,  8.0e-06,  8.0e-06,  8.0e-06,\n",
       "        8.0e-06, -1.2e-05, -1.2e-05, -1.2e-05, -1.2e-05,  1.8e-05,\n",
       "        1.8e-05,  1.8e-05,  1.8e-05, -4.0e-06, -4.0e-06, -4.0e-06,\n",
       "       -4.0e-06, -4.0e-06, -3.2e-05, -3.2e-05, -3.2e-05, -3.2e-05,\n",
       "        4.0e-06,  4.0e-06,  4.0e-06,  4.0e-06,  0.0e+00,  0.0e+00,\n",
       "        0.0e+00,  0.0e+00,  0.0e+00, -8.0e-06, -8.0e-06, -8.0e-06,\n",
       "       -8.0e-06, -3.0e-05, -3.0e-05, -3.0e-05, -3.0e-05, -3.4e-05,\n",
       "       -3.4e-05, -3.4e-05, -3.4e-05,  1.6e-05,  1.6e-05,  1.6e-05,\n",
       "        1.6e-05, -1.4e-05, -1.4e-05, -1.4e-05, -1.4e-05, -1.4e-05,\n",
       "       -4.0e-06, -4.0e-06, -4.0e-06, -4.0e-06,  8.0e-06,  8.0e-06,\n",
       "        8.0e-06,  8.0e-06,  0.0e+00,  0.0e+00,  0.0e+00,  0.0e+00,\n",
       "       -2.0e-05, -2.0e-05, -2.0e-05, -2.0e-05, -2.0e-05, -2.0e-06,\n",
       "       -2.0e-06, -2.0e-06, -2.0e-06, -6.0e-06, -6.0e-06, -6.0e-06,\n",
       "       -6.0e-06, -2.0e-06, -2.0e-06, -2.0e-06, -2.0e-06, -2.0e-06,\n",
       "       -3.2e-05, -3.2e-05, -3.2e-05, -3.2e-05, -4.0e-06, -4.0e-06,\n",
       "       -4.0e-06, -4.0e-06, -1.4e-05, -1.4e-05, -1.4e-05, -1.4e-05,\n",
       "       -1.4e-05, -2.2e-05, -2.2e-05, -2.2e-05, -2.2e-05, -1.8e-05,\n",
       "       -1.8e-05, -1.8e-05, -1.8e-05, -3.2e-05, -3.2e-05, -3.2e-05,\n",
       "       -3.2e-05, -3.2e-05, -1.8e-05, -1.8e-05, -1.8e-05, -1.8e-05,\n",
       "        1.0e-05,  1.0e-05,  1.0e-05,  1.0e-05, -1.2e-05, -1.2e-05,\n",
       "       -1.2e-05, -1.2e-05, -6.0e-06, -6.0e-06, -6.0e-06, -6.0e-06,\n",
       "        1.2e-05,  1.2e-05,  1.2e-05,  1.2e-05,  1.2e-05, -4.0e-06,\n",
       "       -4.0e-06, -4.0e-06, -4.0e-06, -1.6e-05, -1.6e-05, -1.6e-05,\n",
       "       -1.6e-05, -2.2e-05, -2.2e-05, -2.2e-05, -2.2e-05, -3.8e-05,\n",
       "       -3.8e-05, -3.8e-05, -3.8e-05, -3.8e-05, -1.8e-05, -1.8e-05,\n",
       "       -1.8e-05, -1.8e-05,  2.0e-05,  2.0e-05,  2.0e-05,  2.0e-05,\n",
       "       -2.0e-05, -2.0e-05, -2.0e-05, -2.0e-05, -2.0e-05])"
      ]
     },
     "execution_count": 58,
     "metadata": {},
     "output_type": "execute_result"
    }
   ],
   "source": [
    "servo3 = SRS_PIDcontrol_SIM960(srs, 5)\n",
    "servo3.manual_sweep(np.linspace(0.8,1.5,701))"
   ]
  },
  {
   "cell_type": "code",
   "execution_count": 56,
   "id": "96c64d43",
   "metadata": {},
   "outputs": [
    {
     "data": {
      "text/plain": [
       "array([-0.5  , -0.499, -0.498, ...,  7.498,  7.499,  7.5  ])"
      ]
     },
     "execution_count": 56,
     "metadata": {},
     "output_type": "execute_result"
    }
   ],
   "source": [
    "np.linspace(-0.5,7.5,8001)"
   ]
  },
  {
   "cell_type": "code",
   "execution_count": 4,
   "id": "e40f9d50",
   "metadata": {},
   "outputs": [
    {
     "name": "stdout",
     "output_type": "stream",
     "text": [
      "Amonics EDFA connected\n",
      "-----------------------------------Amonics EDFA----------------------------------\n",
      "|--------------------------Amonics EDFA Status Summary---------------------------\n",
      "|------------------Model: AEDFA-PM-23-R-FA, Serial No.22020702-------------------\n",
      "|\tInterLock Status: \u001b[1;34;42mUNLOCKED\u001b[0m\n",
      "|\tCase Temperature: 24.88°C\n",
      "|\tMaster Activation: \u001b[1;34;42mON\u001b[0m\n",
      "|\t------------Channel Summary-------------\n",
      "|\t CHANNEL1: \n",
      "|\t\t Mode: ACC\n",
      "|\t\t Set Cur: 380.0 mA\n",
      "|\t\t Status: \u001b[1;34;42mON\u001b[0m\n",
      "|\t\t Input Power: 1.529959 mW\n",
      "|\t\t Output Power: 203.2757 mW\n",
      "|\t\t Internal PD Power: 251.599 mW\n",
      "------------------------Amonics EDFA Status Summary Ends------------------------\n",
      "\n"
     ]
    },
    {
     "data": {
      "text/plain": [
       "'-----------------------------------Amonics EDFA----------------------------------\\n|--------------------------Amonics EDFA Status Summary---------------------------\\n|------------------Model: AEDFA-PM-23-R-FA, Serial No.22020702-------------------\\n|\\tInterLock Status: \\x1b[1;34;42mUNLOCKED\\x1b[0m\\n|\\tCase Temperature: 24.88°C\\n|\\tMaster Activation: \\x1b[1;34;42mON\\x1b[0m\\n|\\t------------Channel Summary-------------\\n|\\t CHANNEL1: \\n|\\t\\t Mode: ACC\\n|\\t\\t Set Cur: 380.0 mA\\n|\\t\\t Status: \\x1b[1;34;42mON\\x1b[0m\\n|\\t\\t Input Power: 1.529959 mW\\n|\\t\\t Output Power: 203.2757 mW\\n|\\t\\t Internal PD Power: 251.599 mW\\n------------------------Amonics EDFA Status Summary Ends------------------------\\n'"
      ]
     },
     "execution_count": 4,
     "metadata": {},
     "output_type": "execute_result"
    }
   ],
   "source": [
    "amamp = AmonicsEDFA(addr='ASRL13::INSTR')\n",
    "amamp.connect()\n",
    "amamp.printStatus()"
   ]
  },
  {
   "cell_type": "code",
   "execution_count": 34,
   "id": "03e3741e",
   "metadata": {},
   "outputs": [
    {
     "name": "stdout",
     "output_type": "stream",
     "text": [
      "ANDO AQ-6315E Optical Spectrum Analyzer connected\n"
     ]
    },
    {
     "data": {
      "text/plain": [
       "1"
      ]
     },
     "execution_count": 34,
     "metadata": {},
     "output_type": "execute_result"
    }
   ],
   "source": [
    "from LFC.Hardware.AndoOSA_AQ6315E import AndoOSA_AQ6315E\n",
    "osa = AndoOSA_AQ6315E()\n",
    "osa.connect()"
   ]
  },
  {
   "cell_type": "code",
   "execution_count": 33,
   "id": "4d6a8677",
   "metadata": {},
   "outputs": [
    {
     "name": "stderr",
     "output_type": "stream",
     "text": [
      "Z:\\Maodong\\Projects\\Keck\\Keck Comb\\LFC\\Hardware\\AndoOSA_AQ6315E.py:273: UserWarning: ANDO AQ-6315E Optical Spectrum Analyzer: Filename extension .mat is ignored. This function save ['.mat', '.txt']. Change extension to save by extensions=['.mat']\n",
      "  warnings.warn(self.devicename+\": Filename extension \"+os.path.splitext(single_filename)[-1]+\n"
     ]
    },
    {
     "ename": "VisaIOError",
     "evalue": "VI_ERROR_NLISTENERS (-1073807265): No listeners condition is detected (both NRFD and NDAC are deasserted).",
     "output_type": "error",
     "traceback": [
      "\u001b[1;31m---------------------------------------------------------------------------\u001b[0m",
      "\u001b[1;31mVisaIOError\u001b[0m                               Traceback (most recent call last)",
      "Input \u001b[1;32mIn [33]\u001b[0m, in \u001b[0;36m<cell line: 1>\u001b[1;34m()\u001b[0m\n\u001b[1;32m----> 1\u001b[0m \u001b[43mosa\u001b[49m\u001b[38;5;241;43m.\u001b[39;49m\u001b[43msave_trace\u001b[49m\u001b[43m(\u001b[49m\u001b[38;5;124;43m'\u001b[39;49m\u001b[38;5;124;43mc\u001b[39;49m\u001b[38;5;124;43m'\u001b[39;49m\u001b[43m,\u001b[49m\u001b[38;5;124;43mr\u001b[39;49m\u001b[38;5;124;43m\"\u001b[39;49m\u001b[38;5;124;43mZ:\u001b[39;49m\u001b[38;5;124;43m\\\u001b[39;49m\u001b[38;5;124;43mMaodong\u001b[39;49m\u001b[38;5;124;43m\\\u001b[39;49m\u001b[38;5;124;43mProjects\u001b[39;49m\u001b[38;5;124;43m\\\u001b[39;49m\u001b[38;5;124;43mKeck\u001b[39;49m\u001b[38;5;124;43m\\\u001b[39;49m\u001b[38;5;124;43mFilter Cavity test\u001b[39;49m\u001b[38;5;124;43m\\\u001b[39;49m\u001b[38;5;124;43m20221121\u001b[39;49m\u001b[38;5;124;43m\\\u001b[39;49m\u001b[38;5;124;43mtest.mat\u001b[39;49m\u001b[38;5;124;43m\"\u001b[39;49m\u001b[43m)\u001b[49m\n",
      "File \u001b[1;32mZ:\\Maodong\\Projects\\Keck\\Keck Comb\\LFC\\Hardware\\AndoOSA_AQ6315E.py:290\u001b[0m, in \u001b[0;36mAndoOSA_AQ6315E.save_trace\u001b[1;34m(self, trace, filename, extensions)\u001b[0m\n\u001b[0;32m    288\u001b[0m         os\u001b[38;5;241m.\u001b[39mrename(filename\u001b[38;5;241m+\u001b[39mext, new_name)\n\u001b[0;32m    289\u001b[0m \u001b[38;5;66;03m# Data read\u001b[39;00m\n\u001b[1;32m--> 290\u001b[0m wl, intensity \u001b[38;5;241m=\u001b[39m \u001b[38;5;28;43mself\u001b[39;49m\u001b[38;5;241;43m.\u001b[39;49m\u001b[43mget_trace\u001b[49m\u001b[43m(\u001b[49m\u001b[43mtrace\u001b[49m\u001b[43m)\u001b[49m\n\u001b[0;32m    291\u001b[0m \u001b[38;5;66;03m# Data save\u001b[39;00m\n\u001b[0;32m    292\u001b[0m \u001b[38;5;28;01mfor\u001b[39;00m ext \u001b[38;5;129;01min\u001b[39;00m extensions:\n",
      "File \u001b[1;32mZ:\\Maodong\\Projects\\Keck\\Keck Comb\\LFC\\Hardware\\AndoOSA_AQ6315E.py:244\u001b[0m, in \u001b[0;36mAndoOSA_AQ6315E.get_trace\u001b[1;34m(self, trace, plot)\u001b[0m\n\u001b[0;32m    241\u001b[0m     \u001b[38;5;28;01mraise\u001b[39;00m \u001b[38;5;167;01mValueError\u001b[39;00m(\u001b[38;5;28mself\u001b[39m\u001b[38;5;241m.\u001b[39mdevicename\u001b[38;5;241m+\u001b[39m\u001b[38;5;124m\"\u001b[39m\u001b[38;5;124m: Trace name \u001b[39m\u001b[38;5;124m\"\u001b[39m\u001b[38;5;241m+\u001b[39mtrace\u001b[38;5;241m+\u001b[39m\u001b[38;5;124m\"\u001b[39m\u001b[38;5;124m unrecognized. \u001b[39m\u001b[38;5;124m\"\u001b[39m\u001b[38;5;241m+\u001b[39m\n\u001b[0;32m    242\u001b[0m                      \u001b[38;5;124m\"\u001b[39m\u001b[38;5;124mAQ6315 trace must select from \u001b[39m\u001b[38;5;124m\"\u001b[39m\u001b[38;5;241m+\u001b[39m\u001b[38;5;28mstr\u001b[39m(\u001b[38;5;28mself\u001b[39m\u001b[38;5;241m.\u001b[39m__available_traces) )\n\u001b[0;32m    243\u001b[0m \u001b[38;5;66;03m# remove the leading and the trailing characters, split values, remove the first value showing number of values in a dataset\u001b[39;00m\n\u001b[1;32m--> 244\u001b[0m wl \u001b[38;5;241m=\u001b[39m \u001b[38;5;28;43mself\u001b[39;49m\u001b[38;5;241;43m.\u001b[39;49m\u001b[43mquery\u001b[49m\u001b[43m(\u001b[49m\u001b[38;5;124;43m'\u001b[39;49m\u001b[38;5;124;43mWDAT\u001b[39;49m\u001b[38;5;124;43m'\u001b[39;49m\u001b[38;5;241;43m+\u001b[39;49m\u001b[43mtrace\u001b[49m\u001b[43m)\u001b[49m\u001b[38;5;241m.\u001b[39mstrip()\u001b[38;5;241m.\u001b[39msplit(\u001b[38;5;124m'\u001b[39m\u001b[38;5;124m,\u001b[39m\u001b[38;5;124m'\u001b[39m)[\u001b[38;5;241m1\u001b[39m:]\n\u001b[0;32m    245\u001b[0m intensity \u001b[38;5;241m=\u001b[39m \u001b[38;5;28mself\u001b[39m\u001b[38;5;241m.\u001b[39mquery(\u001b[38;5;124m'\u001b[39m\u001b[38;5;124mLDAT\u001b[39m\u001b[38;5;124m'\u001b[39m\u001b[38;5;241m+\u001b[39mtrace)\u001b[38;5;241m.\u001b[39mstrip()\u001b[38;5;241m.\u001b[39msplit(\u001b[38;5;124m'\u001b[39m\u001b[38;5;124m,\u001b[39m\u001b[38;5;124m'\u001b[39m)[\u001b[38;5;241m1\u001b[39m:]\n\u001b[0;32m    246\u001b[0m \u001b[38;5;66;03m# list of strings -> numpy array (vector) of floats\u001b[39;00m\n",
      "File \u001b[1;32mZ:\\Maodong\\Projects\\Keck\\Keck Comb\\LFC\\Hardware\\Device.py:47\u001b[0m, in \u001b[0;36mDevice.query\u001b[1;34m(self, cmd)\u001b[0m\n\u001b[0;32m     46\u001b[0m \u001b[38;5;28;01mdef\u001b[39;00m \u001b[38;5;21mquery\u001b[39m(\u001b[38;5;28mself\u001b[39m, cmd):\n\u001b[1;32m---> 47\u001b[0m     \u001b[38;5;28;01mreturn\u001b[39;00m \u001b[38;5;28;43mself\u001b[39;49m\u001b[38;5;241;43m.\u001b[39;49m\u001b[43minst\u001b[49m\u001b[38;5;241;43m.\u001b[39;49m\u001b[43mquery\u001b[49m\u001b[43m(\u001b[49m\u001b[43mcmd\u001b[49m\u001b[43m)\u001b[49m\n",
      "File \u001b[1;32m~\\.conda\\envs\\lfc\\lib\\site-packages\\pyvisa\\resources\\messagebased.py:638\u001b[0m, in \u001b[0;36mMessageBasedResource.query\u001b[1;34m(self, message, delay)\u001b[0m\n\u001b[0;32m    621\u001b[0m \u001b[38;5;28;01mdef\u001b[39;00m \u001b[38;5;21mquery\u001b[39m(\u001b[38;5;28mself\u001b[39m, message: \u001b[38;5;28mstr\u001b[39m, delay: Optional[\u001b[38;5;28mfloat\u001b[39m] \u001b[38;5;241m=\u001b[39m \u001b[38;5;28;01mNone\u001b[39;00m) \u001b[38;5;241m-\u001b[39m\u001b[38;5;241m>\u001b[39m \u001b[38;5;28mstr\u001b[39m:\n\u001b[0;32m    622\u001b[0m     \u001b[38;5;124;03m\"\"\"A combination of write(message) and read()\u001b[39;00m\n\u001b[0;32m    623\u001b[0m \n\u001b[0;32m    624\u001b[0m \u001b[38;5;124;03m    Parameters\u001b[39;00m\n\u001b[1;32m   (...)\u001b[0m\n\u001b[0;32m    636\u001b[0m \n\u001b[0;32m    637\u001b[0m \u001b[38;5;124;03m    \"\"\"\u001b[39;00m\n\u001b[1;32m--> 638\u001b[0m     \u001b[38;5;28;43mself\u001b[39;49m\u001b[38;5;241;43m.\u001b[39;49m\u001b[43mwrite\u001b[49m\u001b[43m(\u001b[49m\u001b[43mmessage\u001b[49m\u001b[43m)\u001b[49m\n\u001b[0;32m    640\u001b[0m     delay \u001b[38;5;241m=\u001b[39m \u001b[38;5;28mself\u001b[39m\u001b[38;5;241m.\u001b[39mquery_delay \u001b[38;5;28;01mif\u001b[39;00m delay \u001b[38;5;129;01mis\u001b[39;00m \u001b[38;5;28;01mNone\u001b[39;00m \u001b[38;5;28;01melse\u001b[39;00m delay\n\u001b[0;32m    641\u001b[0m     \u001b[38;5;28;01mif\u001b[39;00m delay \u001b[38;5;241m>\u001b[39m \u001b[38;5;241m0.0\u001b[39m:\n",
      "File \u001b[1;32m~\\.conda\\envs\\lfc\\lib\\site-packages\\pyvisa\\resources\\messagebased.py:197\u001b[0m, in \u001b[0;36mMessageBasedResource.write\u001b[1;34m(self, message, termination, encoding)\u001b[0m\n\u001b[0;32m    191\u001b[0m         warnings\u001b[38;5;241m.\u001b[39mwarn(\n\u001b[0;32m    192\u001b[0m             \u001b[38;5;124m\"\u001b[39m\u001b[38;5;124mwrite message already ends with \u001b[39m\u001b[38;5;124m\"\u001b[39m \u001b[38;5;124m\"\u001b[39m\u001b[38;5;124mtermination characters\u001b[39m\u001b[38;5;124m\"\u001b[39m,\n\u001b[0;32m    193\u001b[0m             stacklevel\u001b[38;5;241m=\u001b[39m\u001b[38;5;241m2\u001b[39m,\n\u001b[0;32m    194\u001b[0m         )\n\u001b[0;32m    195\u001b[0m     message \u001b[38;5;241m+\u001b[39m\u001b[38;5;241m=\u001b[39m term\n\u001b[1;32m--> 197\u001b[0m count \u001b[38;5;241m=\u001b[39m \u001b[38;5;28;43mself\u001b[39;49m\u001b[38;5;241;43m.\u001b[39;49m\u001b[43mwrite_raw\u001b[49m\u001b[43m(\u001b[49m\u001b[43mmessage\u001b[49m\u001b[38;5;241;43m.\u001b[39;49m\u001b[43mencode\u001b[49m\u001b[43m(\u001b[49m\u001b[43menco\u001b[49m\u001b[43m)\u001b[49m\u001b[43m)\u001b[49m\n\u001b[0;32m    199\u001b[0m \u001b[38;5;28;01mreturn\u001b[39;00m count\n",
      "File \u001b[1;32m~\\.conda\\envs\\lfc\\lib\\site-packages\\pyvisa\\resources\\messagebased.py:157\u001b[0m, in \u001b[0;36mMessageBasedResource.write_raw\u001b[1;34m(self, message)\u001b[0m\n\u001b[0;32m    143\u001b[0m \u001b[38;5;28;01mdef\u001b[39;00m \u001b[38;5;21mwrite_raw\u001b[39m(\u001b[38;5;28mself\u001b[39m, message: \u001b[38;5;28mbytes\u001b[39m) \u001b[38;5;241m-\u001b[39m\u001b[38;5;241m>\u001b[39m \u001b[38;5;28mint\u001b[39m:\n\u001b[0;32m    144\u001b[0m     \u001b[38;5;124;03m\"\"\"Write a byte message to the device.\u001b[39;00m\n\u001b[0;32m    145\u001b[0m \n\u001b[0;32m    146\u001b[0m \u001b[38;5;124;03m    Parameters\u001b[39;00m\n\u001b[1;32m   (...)\u001b[0m\n\u001b[0;32m    155\u001b[0m \n\u001b[0;32m    156\u001b[0m \u001b[38;5;124;03m    \"\"\"\u001b[39;00m\n\u001b[1;32m--> 157\u001b[0m     \u001b[38;5;28;01mreturn\u001b[39;00m \u001b[38;5;28;43mself\u001b[39;49m\u001b[38;5;241;43m.\u001b[39;49m\u001b[43mvisalib\u001b[49m\u001b[38;5;241;43m.\u001b[39;49m\u001b[43mwrite\u001b[49m\u001b[43m(\u001b[49m\u001b[38;5;28;43mself\u001b[39;49m\u001b[38;5;241;43m.\u001b[39;49m\u001b[43msession\u001b[49m\u001b[43m,\u001b[49m\u001b[43m \u001b[49m\u001b[43mmessage\u001b[49m\u001b[43m)\u001b[49m[\u001b[38;5;241m0\u001b[39m]\n",
      "File \u001b[1;32m~\\.conda\\envs\\lfc\\lib\\site-packages\\pyvisa\\ctwrapper\\functions.py:2796\u001b[0m, in \u001b[0;36mwrite\u001b[1;34m(library, session, data)\u001b[0m\n\u001b[0;32m   2794\u001b[0m return_count \u001b[38;5;241m=\u001b[39m ViUInt32()\n\u001b[0;32m   2795\u001b[0m \u001b[38;5;66;03m# [ViSession, ViBuf, ViUInt32, ViPUInt32]\u001b[39;00m\n\u001b[1;32m-> 2796\u001b[0m ret \u001b[38;5;241m=\u001b[39m \u001b[43mlibrary\u001b[49m\u001b[38;5;241;43m.\u001b[39;49m\u001b[43mviWrite\u001b[49m\u001b[43m(\u001b[49m\u001b[43msession\u001b[49m\u001b[43m,\u001b[49m\u001b[43m \u001b[49m\u001b[43mdata\u001b[49m\u001b[43m,\u001b[49m\u001b[43m \u001b[49m\u001b[38;5;28;43mlen\u001b[39;49m\u001b[43m(\u001b[49m\u001b[43mdata\u001b[49m\u001b[43m)\u001b[49m\u001b[43m,\u001b[49m\u001b[43m \u001b[49m\u001b[43mbyref\u001b[49m\u001b[43m(\u001b[49m\u001b[43mreturn_count\u001b[49m\u001b[43m)\u001b[49m\u001b[43m)\u001b[49m\n\u001b[0;32m   2797\u001b[0m \u001b[38;5;28;01mreturn\u001b[39;00m return_count\u001b[38;5;241m.\u001b[39mvalue, ret\n",
      "File \u001b[1;32m~\\.conda\\envs\\lfc\\lib\\site-packages\\pyvisa\\ctwrapper\\highlevel.py:222\u001b[0m, in \u001b[0;36mIVIVisaLibrary._return_handler\u001b[1;34m(self, ret_value, func, arguments)\u001b[0m\n\u001b[0;32m    219\u001b[0m         \u001b[38;5;66;03m# Set session back to a safe value\u001b[39;00m\n\u001b[0;32m    220\u001b[0m         session \u001b[38;5;241m=\u001b[39m \u001b[38;5;28;01mNone\u001b[39;00m\n\u001b[1;32m--> 222\u001b[0m \u001b[38;5;28;01mreturn\u001b[39;00m \u001b[38;5;28;43mself\u001b[39;49m\u001b[38;5;241;43m.\u001b[39;49m\u001b[43mhandle_return_value\u001b[49m\u001b[43m(\u001b[49m\u001b[43msession\u001b[49m\u001b[43m,\u001b[49m\u001b[43m \u001b[49m\u001b[43mret_value\u001b[49m\u001b[43m)\u001b[49m\n",
      "File \u001b[1;32m~\\.conda\\envs\\lfc\\lib\\site-packages\\pyvisa\\highlevel.py:251\u001b[0m, in \u001b[0;36mVisaLibraryBase.handle_return_value\u001b[1;34m(self, session, status_code)\u001b[0m\n\u001b[0;32m    248\u001b[0m     \u001b[38;5;28mself\u001b[39m\u001b[38;5;241m.\u001b[39m_last_status_in_session[session] \u001b[38;5;241m=\u001b[39m rv\n\u001b[0;32m    250\u001b[0m \u001b[38;5;28;01mif\u001b[39;00m rv \u001b[38;5;241m<\u001b[39m \u001b[38;5;241m0\u001b[39m:\n\u001b[1;32m--> 251\u001b[0m     \u001b[38;5;28;01mraise\u001b[39;00m errors\u001b[38;5;241m.\u001b[39mVisaIOError(rv)\n\u001b[0;32m    253\u001b[0m \u001b[38;5;28;01mif\u001b[39;00m rv \u001b[38;5;129;01min\u001b[39;00m \u001b[38;5;28mself\u001b[39m\u001b[38;5;241m.\u001b[39missue_warning_on:\n\u001b[0;32m    254\u001b[0m     \u001b[38;5;28;01mif\u001b[39;00m session \u001b[38;5;129;01mand\u001b[39;00m rv \u001b[38;5;129;01mnot\u001b[39;00m \u001b[38;5;129;01min\u001b[39;00m \u001b[38;5;28mself\u001b[39m\u001b[38;5;241m.\u001b[39m_ignore_warning_in_session[session]:\n",
      "\u001b[1;31mVisaIOError\u001b[0m: VI_ERROR_NLISTENERS (-1073807265): No listeners condition is detected (both NRFD and NDAC are deasserted)."
     ]
    }
   ],
   "source": [
    "osa.save_trace('c',r\"Z:\\Maodong\\Projects\\Keck\\Filter Cavity test\\20221121\\test.mat\")"
   ]
  },
  {
   "cell_type": "code",
   "execution_count": 44,
   "id": "b3bf8a31",
   "metadata": {},
   "outputs": [
    {
     "data": {
      "text/plain": [
       "'C:\\\\Users\\\\HSFLFC\\\\.conda\\\\envs\\\\lfc\\\\lib\\\\site-packages\\\\Ice\\\\..\\\\slice'"
      ]
     },
     "execution_count": 44,
     "metadata": {},
     "output_type": "execute_result"
    }
   ],
   "source": [
    "import Ice\n",
    "Ice.getSliceDir()"
   ]
  },
  {
   "cell_type": "code",
   "execution_count": null,
   "id": "82b30df9",
   "metadata": {},
   "outputs": [],
   "source": []
  }
 ],
 "metadata": {
  "kernelspec": {
   "display_name": "Python 3 (ipykernel)",
   "language": "python",
   "name": "python3"
  },
  "language_info": {
   "codemirror_mode": {
    "name": "ipython",
    "version": 3
   },
   "file_extension": ".py",
   "mimetype": "text/x-python",
   "name": "python",
   "nbconvert_exporter": "python",
   "pygments_lexer": "ipython3",
   "version": "3.8.12"
  }
 },
 "nbformat": 4,
 "nbformat_minor": 5
}
