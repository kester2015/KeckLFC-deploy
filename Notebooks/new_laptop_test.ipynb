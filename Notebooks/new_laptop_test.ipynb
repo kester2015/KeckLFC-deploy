{
 "cells": [
  {
   "cell_type": "code",
   "execution_count": 1,
   "metadata": {},
   "outputs": [
    {
     "name": "stderr",
     "output_type": "stream",
     "text": [
      "\u001b[32m2023-12-13 11:45:01.794\u001b[0m | \u001b[1mINFO    \u001b[0m | \u001b[36mDevice\u001b[0m | \u001b[36mDevice.py\u001b[0m:\u001b[36m<module>\u001b[0m:\u001b[36m51\u001b[0m\n",
      "\u001b[1mlogger initialized\u001b[0m\n",
      "\u001b[32m2023-12-13 11:45:03.861\u001b[0m | \u001b[1mINFO    \u001b[0m | \u001b[36mORION Laser Module\u001b[0m | \u001b[36mDevice.py\u001b[0m:\u001b[36mconnect\u001b[0m:\u001b[36m78\u001b[0m\n",
      "\u001b[1mORION Laser Module connected\u001b[0m\n"
     ]
    },
    {
     "name": "stdout",
     "output_type": "stream",
     "text": [
      "0\n",
      "1\n",
      "0\n"
     ]
    },
    {
     "name": "stderr",
     "output_type": "stream",
     "text": [
      "\u001b[32m2023-12-13 11:45:05.218\u001b[0m | \u001b[1mINFO    \u001b[0m | \u001b[36mORION Laser Module\u001b[0m | \u001b[36mORIONLaser.py\u001b[0m:\u001b[36mprintStatus\u001b[0m:\u001b[36m60\u001b[0m\n",
      "\u001b[1m-----------------------ORION Laser Module Status Summary------------------------\n",
      "-------------Product ID: RIO0175-5-01-4-AW2, Ver 0.11.7, SN: 806734-------------\n",
      "|\t Status Code: bytearray(b'\\x00\\x01\\x00\\x01\\x00\\x01')\n",
      "|\t Photo monitor voltage: 1.073 Volt (also mA, r=1kOhm)\n",
      "|\t Board Temp:   23.9656 °C\n",
      "|\t Thermis Temp: 19.0400 °C\n",
      "|\t Volatile Settings (reset to non-volatile after re-plug): \n",
      "|\t\t Diode Cur = 150.0000 mA, TEC Set = 19.181°C\n",
      "|\t Non Volatile Settings (Doesn't reset after re-plug): \n",
      "|\t\t Diode Cur = 150.0000 mA, TEC Set = 19.181°C\n",
      "---------------------ORION Laser Module Status Summary Ends---------------------\u001b[0m\n"
     ]
    },
    {
     "data": {
      "text/plain": [
       "\"-----------------------ORION Laser Module Status Summary------------------------\\n-------------Product ID: RIO0175-5-01-4-AW2, Ver 0.11.7, SN: 806734-------------\\n|\\t Status Code: bytearray(b'\\\\x00\\\\x01\\\\x00\\\\x01\\\\x00\\\\x01')\\n|\\t Photo monitor voltage: 1.073 Volt (also mA, r=1kOhm)\\n|\\t Board Temp:   23.9656 °C\\n|\\t Thermis Temp: 19.0400 °C\\n|\\t Volatile Settings (reset to non-volatile after re-plug): \\n|\\t\\t Diode Cur = 150.0000 mA, TEC Set = 19.181°C\\n|\\t Non Volatile Settings (Doesn't reset after re-plug): \\n|\\t\\t Diode Cur = 150.0000 mA, TEC Set = 19.181°C\\n---------------------ORION Laser Module Status Summary Ends---------------------\""
      ]
     },
     "execution_count": 1,
     "metadata": {},
     "output_type": "execute_result"
    }
   ],
   "source": [
    "from KeckLFC.Hardware.ORIONLaser import ORIONLaser\n",
    "rio = ORIONLaser(addr=f'ASRL{14}::INSTR')\n",
    "rio.connect()\n",
    "rio.printStatus()"
   ]
  },
  {
   "cell_type": "code",
   "execution_count": 3,
   "metadata": {},
   "outputs": [
    {
     "name": "stderr",
     "output_type": "stream",
     "text": [
      "\u001b[32m2023-12-28 11:10:00.078\u001b[0m | \u001b[1mINFO    \u001b[0m | \u001b[36mAmonics EDFA 27 dBm\u001b[0m | \u001b[36mDevice.py\u001b[0m:\u001b[36mconnect\u001b[0m:\u001b[36m78\u001b[0m\n",
      "\u001b[1mAmonics EDFA 27 dBm connected\u001b[0m\n",
      "\u001b[32m2023-12-28 11:10:00.404\u001b[0m | \u001b[1mINFO    \u001b[0m | \u001b[36mAmonics EDFA 27 dBm\u001b[0m | \u001b[36mAmonicsEDFA.py\u001b[0m:\u001b[36mprintStatus\u001b[0m:\u001b[36m49\u001b[0m\n",
      "\u001b[1m-------------------------------Amonics EDFA 27 dBm-------------------------------\n",
      "|--------------------------Amonics EDFA Status Summary---------------------------\n",
      "|------------------Model: AEDFA-PM-27-R-FA, Serial No.21082531-------------------\n",
      "|\tInterLock Status: \u001b[1;34;42mUNLOCKED\u001b[0m\n",
      "|\tCase Temperature: 21.56°C\n",
      "|\tMaster Activation: \u001b[1;34;41mOFF\u001b[0m\n",
      "|\t------------Channel Summary-------------\n",
      "|\t CHANNEL1: \n",
      "|\t\t Mode: APC\n",
      "|\t\t Set Pwr: 400.0 mW\n",
      "|\t\t Status: \u001b[1;34;41mOFF\u001b[0m\n",
      "|\t\t Input Power: 15.92268 mW\n",
      "|\t\t Output Power: 0.0 mW\n",
      "|\t\t Internal PD Power: 0.0 mW\n",
      "------------------------Amonics EDFA Status Summary Ends------------------------\n",
      "\u001b[0m\n"
     ]
    },
    {
     "data": {
      "text/plain": [
       "'-------------------------------Amonics EDFA 27 dBm-------------------------------\\n|--------------------------Amonics EDFA Status Summary---------------------------\\n|------------------Model: AEDFA-PM-27-R-FA, Serial No.21082531-------------------\\n|\\tInterLock Status: \\x1b[1;34;42mUNLOCKED\\x1b[0m\\n|\\tCase Temperature: 21.56°C\\n|\\tMaster Activation: \\x1b[1;34;41mOFF\\x1b[0m\\n|\\t------------Channel Summary-------------\\n|\\t CHANNEL1: \\n|\\t\\t Mode: APC\\n|\\t\\t Set Pwr: 400.0 mW\\n|\\t\\t Status: \\x1b[1;34;41mOFF\\x1b[0m\\n|\\t\\t Input Power: 15.92268 mW\\n|\\t\\t Output Power: 0.0 mW\\n|\\t\\t Internal PD Power: 0.0 mW\\n------------------------Amonics EDFA Status Summary Ends------------------------\\n'"
      ]
     },
     "execution_count": 3,
     "metadata": {},
     "output_type": "execute_result"
    }
   ],
   "source": [
    "from KeckLFC.Hardware.AmonicsEDFA import AmonicsEDFA\n",
    "amonic27 = AmonicsEDFA(addr=f'ASRL{6}::INSTR', name='Amonics EDFA 27 dBm')\n",
    "amonic27.connect()\n",
    "amonic27.printStatus()"
   ]
  },
  {
   "cell_type": "code",
   "execution_count": 22,
   "metadata": {},
   "outputs": [
    {
     "name": "stderr",
     "output_type": "stream",
     "text": [
      "\u001b[32m2023-12-22 12:19:59.762\u001b[0m | \u001b[1mINFO    \u001b[0m | \u001b[36mAmonics EDFA 27 dBm\u001b[0m | \u001b[36mAmonicsEDFA.py\u001b[0m:\u001b[36m_setIorP\u001b[0m:\u001b[36m227\u001b[0m\n",
      "\u001b[1mAmonics EDFA 27 dBm: setted ACC mode CH1 current as 400.0 mA.\u001b[0m\n",
      "\u001b[32m2023-12-22 12:19:59.794\u001b[0m | \u001b[33m\u001b[1mWARNING \u001b[0m | \u001b[36mAmonics EDFA 27 dBm\u001b[0m | \u001b[36mAmonicsEDFA.py\u001b[0m:\u001b[36m_setChStatus\u001b[0m:\u001b[36m268\u001b[0m\n",
      "\u001b[33m\u001b[1mAmonics EDFA 27 dBm: Setting ACC CH1 status OFF while activation ON will automatically OFF the activation. Add self.activation='off' before self.accCh1Status='off' \u001b[0m\n",
      "\u001b[32m2023-12-22 12:19:59.827\u001b[0m | \u001b[1mINFO    \u001b[0m | \u001b[36mAmonics EDFA 27 dBm\u001b[0m | \u001b[36mAmonicsEDFA.py\u001b[0m:\u001b[36m_setChStatus\u001b[0m:\u001b[36m278\u001b[0m\n",
      "\u001b[1mAmonics EDFA 27 dBm: ......waiting ACC CH1 status set to OFF, now ON\u001b[0m\n",
      "\u001b[32m2023-12-22 12:19:59.874\u001b[0m | \u001b[1mINFO    \u001b[0m | \u001b[36mAmonics EDFA 27 dBm\u001b[0m | \u001b[36mAmonicsEDFA.py\u001b[0m:\u001b[36m_setChStatus\u001b[0m:\u001b[36m281\u001b[0m\n",
      "\u001b[1mAmonics EDFA 27 dBm: setted ACC CH1 status as OFF, finished in 0.079 seconds\u001b[0m\n",
      "\u001b[32m2023-12-22 12:19:59.907\u001b[0m | \u001b[1mINFO    \u001b[0m | \u001b[36mAmonics EDFA 27 dBm\u001b[0m | \u001b[36mAmonicsEDFA.py\u001b[0m:\u001b[36mactivation\u001b[0m:\u001b[36m195\u001b[0m\n",
      "\u001b[1mAmonics EDFA 27 dBm: setted Activation status as OFF, finished in 0.031 seconds\u001b[0m\n"
     ]
    }
   ],
   "source": [
    "\n",
    "\n",
    "amonic27.accCh1Cur='400ma'\n",
    "amonic27.accCh1Status = 0\n",
    "amonic27.activation = 0"
   ]
  },
  {
   "cell_type": "code",
   "execution_count": 23,
   "metadata": {},
   "outputs": [
    {
     "name": "stderr",
     "output_type": "stream",
     "text": [
      "\u001b[32m2023-12-22 12:20:16.689\u001b[0m | \u001b[1mINFO    \u001b[0m | \u001b[36mAmonics EDFA 27 dBm\u001b[0m | \u001b[36mAmonicsEDFA.py\u001b[0m:\u001b[36m_setChMode\u001b[0m:\u001b[36m297\u001b[0m\n",
      "\u001b[1mAmonics EDFA 27 dBm: CH1 mode set as APC\u001b[0m\n"
     ]
    }
   ],
   "source": [
    "amonic27.modeCh1='apc'"
   ]
  },
  {
   "cell_type": "code",
   "execution_count": 30,
   "metadata": {},
   "outputs": [
    {
     "name": "stderr",
     "output_type": "stream",
     "text": [
      "\u001b[32m2023-12-22 12:21:07.459\u001b[0m | \u001b[1mINFO    \u001b[0m | \u001b[36mAmonics EDFA 27 dBm\u001b[0m | \u001b[36mAmonicsEDFA.py\u001b[0m:\u001b[36m_setIorP\u001b[0m:\u001b[36m229\u001b[0m\n",
      "\u001b[1mAmonics EDFA 27 dBm: setted APC mode CH1 current as 400.0 mW.\u001b[0m\n",
      "\u001b[32m2023-12-22 12:21:07.524\u001b[0m | \u001b[1mINFO    \u001b[0m | \u001b[36mAmonics EDFA 27 dBm\u001b[0m | \u001b[36mAmonicsEDFA.py\u001b[0m:\u001b[36m_setChStatus\u001b[0m:\u001b[36m278\u001b[0m\n",
      "\u001b[1mAmonics EDFA 27 dBm: ......waiting APC CH1 status set to OFF, now ON\u001b[0m\n",
      "\u001b[32m2023-12-22 12:21:07.571\u001b[0m | \u001b[1mINFO    \u001b[0m | \u001b[36mAmonics EDFA 27 dBm\u001b[0m | \u001b[36mAmonicsEDFA.py\u001b[0m:\u001b[36m_setChStatus\u001b[0m:\u001b[36m281\u001b[0m\n",
      "\u001b[1mAmonics EDFA 27 dBm: setted APC CH1 status as OFF, finished in 0.080 seconds\u001b[0m\n"
     ]
    }
   ],
   "source": [
    "amonic27.accCh1Cur = '400mw'\n",
    "amonic27.accCh1Status = 0"
   ]
  },
  {
   "cell_type": "code",
   "execution_count": 29,
   "metadata": {},
   "outputs": [
    {
     "name": "stderr",
     "output_type": "stream",
     "text": [
      "\u001b[32m2023-12-22 12:20:59.203\u001b[0m | \u001b[1mINFO    \u001b[0m | \u001b[36mAmonics EDFA 27 dBm\u001b[0m | \u001b[36mAmonicsEDFA.py\u001b[0m:\u001b[36mactivation\u001b[0m:\u001b[36m192\u001b[0m\n",
      "\u001b[1mAmonics EDFA 27 dBm: ......waiting Activation status set to OFF, now ON\u001b[0m\n"
     ]
    },
    {
     "name": "stderr",
     "output_type": "stream",
     "text": [
      "\u001b[32m2023-12-22 12:20:59.251\u001b[0m | \u001b[1mINFO    \u001b[0m | \u001b[36mAmonics EDFA 27 dBm\u001b[0m | \u001b[36mAmonicsEDFA.py\u001b[0m:\u001b[36mactivation\u001b[0m:\u001b[36m195\u001b[0m\n",
      "\u001b[1mAmonics EDFA 27 dBm: setted Activation status as OFF, finished in 0.075 seconds\u001b[0m\n"
     ]
    }
   ],
   "source": [
    "amonic27.activation = 0"
   ]
  },
  {
   "cell_type": "code",
   "execution_count": 28,
   "metadata": {},
   "outputs": [
    {
     "name": "stderr",
     "output_type": "stream",
     "text": [
      "\u001b[32m2023-12-22 12:20:49.907\u001b[0m | \u001b[1mINFO    \u001b[0m | \u001b[36mAmonics EDFA 27 dBm\u001b[0m | \u001b[36mAmonicsEDFA.py\u001b[0m:\u001b[36mprintStatus\u001b[0m:\u001b[36m49\u001b[0m\n",
      "\u001b[1m-------------------------------Amonics EDFA 27 dBm-------------------------------\n",
      "|--------------------------Amonics EDFA Status Summary---------------------------\n",
      "|------------------Model: AEDFA-PM-27-R-FA, Serial No.21082531-------------------\n",
      "|\tInterLock Status: \u001b[1;34;42mUNLOCKED\u001b[0m\n",
      "|\tCase Temperature: 21.81°C\n",
      "|\tMaster Activation: \u001b[1;34;42mON\u001b[0m\n",
      "|\t------------Channel Summary-------------\n",
      "|\t CHANNEL1: \n",
      "|\t\t Mode: APC\n",
      "|\t\t Set Pwr: 400.0 mW\n",
      "|\t\t Status: \u001b[1;34;42mON\u001b[0m\n",
      "|\t\t Input Power: 15.78888 mW\n",
      "|\t\t Output Power: 398.9503 mW\n",
      "|\t\t Internal PD Power: 327.8891 mW\n",
      "------------------------Amonics EDFA Status Summary Ends------------------------\n",
      "\u001b[0m\n"
     ]
    },
    {
     "data": {
      "text/plain": [
       "'-------------------------------Amonics EDFA 27 dBm-------------------------------\\n|--------------------------Amonics EDFA Status Summary---------------------------\\n|------------------Model: AEDFA-PM-27-R-FA, Serial No.21082531-------------------\\n|\\tInterLock Status: \\x1b[1;34;42mUNLOCKED\\x1b[0m\\n|\\tCase Temperature: 21.81°C\\n|\\tMaster Activation: \\x1b[1;34;42mON\\x1b[0m\\n|\\t------------Channel Summary-------------\\n|\\t CHANNEL1: \\n|\\t\\t Mode: APC\\n|\\t\\t Set Pwr: 400.0 mW\\n|\\t\\t Status: \\x1b[1;34;42mON\\x1b[0m\\n|\\t\\t Input Power: 15.78888 mW\\n|\\t\\t Output Power: 398.9503 mW\\n|\\t\\t Internal PD Power: 327.8891 mW\\n------------------------Amonics EDFA Status Summary Ends------------------------\\n'"
      ]
     },
     "execution_count": 28,
     "metadata": {},
     "output_type": "execute_result"
    }
   ],
   "source": [
    "amonic27.printStatus()"
   ]
  },
  {
   "cell_type": "code",
   "execution_count": null,
   "metadata": {},
   "outputs": [],
   "source": []
  },
  {
   "cell_type": "code",
   "execution_count": 4,
   "metadata": {},
   "outputs": [
    {
     "name": "stderr",
     "output_type": "stream",
     "text": [
      "\u001b[32m2023-12-28 11:10:06.215\u001b[0m | \u001b[1mINFO    \u001b[0m | \u001b[36mRF oscilator PS, CH2 15V, CH3 1V\u001b[0m | \u001b[36mDevice.py\u001b[0m:\u001b[36mconnect\u001b[0m:\u001b[36m78\u001b[0m\n",
      "\u001b[1mRF oscilator PS, CH2 15V, CH3 1V connected\u001b[0m\n"
     ]
    },
    {
     "name": "stderr",
     "output_type": "stream",
     "text": [
      "\u001b[32m2023-12-28 11:10:09.405\u001b[0m | \u001b[1mINFO    \u001b[0m | \u001b[36mRF oscilator PS, CH2 15V, CH3 1V\u001b[0m | \u001b[36mInstekGPD_4303S.py\u001b[0m:\u001b[36mprintStatus\u001b[0m:\u001b[36m200\u001b[0m\n",
      "\u001b[1m-------------------------RF oscilator PS, CH2 15V, CH3 1V------------------------\n",
      "|----------------Instek DC Power Supply GPD-4303S Status Summary-----------------\n",
      "|--------------------Model: GPD-4303S, Serial No.SN:EV884423---------------------\n",
      "|\tMaster Activation: \u001b[1;34;41mOFF\u001b[0m\n",
      "|\t------------Channel Summary-------------\n",
      "|\t CH1: master, CH2: slave, mode UNRECOGNIZED?.\n",
      "|\t CHANNEL1: CC Mode.\n",
      "|\t\t VSET=0.000V, ISET=0.000A.\n",
      "|\t\t VOUT=0.000V, IOUT=0.000A.\n",
      "|\t\t Output power: 0.000W.\n",
      "|\t CHANNEL2: CC Mode.\n",
      "|\t\t VSET=15.000V, ISET=3.000A.\n",
      "|\t\t VOUT=0.000V, IOUT=0.000A.\n",
      "|\t\t Output power: 0.000W.\n",
      "|\t CHANNEL3: CC Mode.\n",
      "|\t\t VSET=0.900V, ISET=1.000A.\n",
      "|\t\t VOUT=0.000V, IOUT=0.000A.\n",
      "|\t\t Output power: 0.000W.\n",
      "|\t CHANNEL4: CV Mode.\n",
      "|\t\t VSET=0.000V, ISET=0.000A.\n",
      "|\t\t VOUT=0.000V, IOUT=0.000A.\n",
      "|\t\t Output power: 0.000W.\n",
      "--------------Instek DC Power Supply GPD-4303S Status Summary Ends--------------\n",
      "\u001b[0m\n"
     ]
    },
    {
     "data": {
      "text/plain": [
       "'-------------------------RF oscilator PS, CH2 15V, CH3 1V------------------------\\n|----------------Instek DC Power Supply GPD-4303S Status Summary-----------------\\n|--------------------Model: GPD-4303S, Serial No.SN:EV884423---------------------\\n|\\tMaster Activation: \\x1b[1;34;41mOFF\\x1b[0m\\n|\\t------------Channel Summary-------------\\n|\\t CH1: master, CH2: slave, mode UNRECOGNIZED?.\\n|\\t CHANNEL1: CC Mode.\\n|\\t\\t VSET=0.000V, ISET=0.000A.\\n|\\t\\t VOUT=0.000V, IOUT=0.000A.\\n|\\t\\t Output power: 0.000W.\\n|\\t CHANNEL2: CC Mode.\\n|\\t\\t VSET=15.000V, ISET=3.000A.\\n|\\t\\t VOUT=0.000V, IOUT=0.000A.\\n|\\t\\t Output power: 0.000W.\\n|\\t CHANNEL3: CC Mode.\\n|\\t\\t VSET=0.900V, ISET=1.000A.\\n|\\t\\t VOUT=0.000V, IOUT=0.000A.\\n|\\t\\t Output power: 0.000W.\\n|\\t CHANNEL4: CV Mode.\\n|\\t\\t VSET=0.000V, ISET=0.000A.\\n|\\t\\t VOUT=0.000V, IOUT=0.000A.\\n|\\t\\t Output power: 0.000W.\\n--------------Instek DC Power Supply GPD-4303S Status Summary Ends--------------\\n'"
      ]
     },
     "execution_count": 4,
     "metadata": {},
     "output_type": "execute_result"
    }
   ],
   "source": [
    "from KeckLFC.Hardware.InstekGPD_4303S import InstekGPD_4303S\n",
    "rfoscPS = InstekGPD_4303S(addr='ASRL13::INSTR', name='RF oscilator PS, CH2 15V, CH3 1V')\n",
    "rfoscPS.connect()\n",
    "rfoscPS.printStatus()"
   ]
  },
  {
   "cell_type": "code",
   "execution_count": 29,
   "metadata": {},
   "outputs": [
    {
     "name": "stderr",
     "output_type": "stream",
     "text": [
      "\u001b[32m2023-12-11 16:03:25.512\u001b[0m | \u001b[1mINFO    \u001b[0m | \u001b[36mRF oscilator PS, CH2 15V, CH3 1V\u001b[0m | \u001b[36mInstekGPD_4303S.py\u001b[0m:\u001b[36mactivation\u001b[0m:\u001b[36m44\u001b[0m\n",
      "\u001b[1mInstek GPD-4303S DCSupply: Output activation is turned ON.\u001b[0m\n"
     ]
    }
   ],
   "source": [
    "rfoscPS.activation = 1"
   ]
  },
  {
   "cell_type": "code",
   "execution_count": 49,
   "metadata": {},
   "outputs": [
    {
     "name": "stderr",
     "output_type": "stream",
     "text": [
      "\u001b[32m2023-12-11 16:13:48.506\u001b[0m | \u001b[1mINFO    \u001b[0m | \u001b[36mRF oscilator PS, CH2 15V, CH3 1V\u001b[0m | \u001b[36mInstekGPD_4303S.py\u001b[0m:\u001b[36mprintStatus\u001b[0m:\u001b[36m200\u001b[0m\n",
      "\u001b[1m-------------------------RF oscilator PS, CH2 15V, CH3 1V------------------------\n",
      "|----------------Instek DC Power Supply GPD-4303S Status Summary-----------------\n",
      "|--------------------Model: GPD-4303S, Serial No.SN:EV884423---------------------\n",
      "|\tMaster Activation: \u001b[1;34;42mON\u001b[0m\n",
      "|\t------------Channel Summary-------------\n",
      "|\t CH1: master, CH2: slave, mode UNRECOGNIZED?.\n",
      "|\t CHANNEL1: CC Mode.\n",
      "|\t\t VSET=0.000V, ISET=0.000A.\n",
      "|\t\t VOUT=0.000V, IOUT=0.000A.\n",
      "|\t\t Output power: 0.000W.\n",
      "|\t CHANNEL2: CV Mode.\n",
      "|\t\t VSET=15.000V, ISET=3.000A.\n",
      "|\t\t VOUT=14.996V, IOUT=0.433A.\n",
      "|\t\t Output power: 6.493W.\n",
      "|\t CHANNEL3: CV Mode.\n",
      "|\t\t VSET=0.900V, ISET=1.000A.\n",
      "|\t\t VOUT=0.900V, IOUT=0.002A.\n",
      "|\t\t Output power: 0.002W.\n",
      "|\t CHANNEL4: CV Mode.\n",
      "|\t\t VSET=0.000V, ISET=0.000A.\n",
      "|\t\t VOUT=0.000V, IOUT=0.001A.\n",
      "|\t\t Output power: 0.000W.\n",
      "--------------Instek DC Power Supply GPD-4303S Status Summary Ends--------------\n",
      "\u001b[0m\n"
     ]
    },
    {
     "data": {
      "text/plain": [
       "'-------------------------RF oscilator PS, CH2 15V, CH3 1V------------------------\\n|----------------Instek DC Power Supply GPD-4303S Status Summary-----------------\\n|--------------------Model: GPD-4303S, Serial No.SN:EV884423---------------------\\n|\\tMaster Activation: \\x1b[1;34;42mON\\x1b[0m\\n|\\t------------Channel Summary-------------\\n|\\t CH1: master, CH2: slave, mode UNRECOGNIZED?.\\n|\\t CHANNEL1: CC Mode.\\n|\\t\\t VSET=0.000V, ISET=0.000A.\\n|\\t\\t VOUT=0.000V, IOUT=0.000A.\\n|\\t\\t Output power: 0.000W.\\n|\\t CHANNEL2: CV Mode.\\n|\\t\\t VSET=15.000V, ISET=3.000A.\\n|\\t\\t VOUT=14.996V, IOUT=0.433A.\\n|\\t\\t Output power: 6.493W.\\n|\\t CHANNEL3: CV Mode.\\n|\\t\\t VSET=0.900V, ISET=1.000A.\\n|\\t\\t VOUT=0.900V, IOUT=0.002A.\\n|\\t\\t Output power: 0.002W.\\n|\\t CHANNEL4: CV Mode.\\n|\\t\\t VSET=0.000V, ISET=0.000A.\\n|\\t\\t VOUT=0.000V, IOUT=0.001A.\\n|\\t\\t Output power: 0.000W.\\n--------------Instek DC Power Supply GPD-4303S Status Summary Ends--------------\\n'"
      ]
     },
     "execution_count": 49,
     "metadata": {},
     "output_type": "execute_result"
    }
   ],
   "source": [
    "rfoscPS.printStatus()"
   ]
  },
  {
   "cell_type": "code",
   "execution_count": 5,
   "metadata": {},
   "outputs": [
    {
     "name": "stderr",
     "output_type": "stream",
     "text": [
      "\u001b[32m2023-12-28 11:10:17.002\u001b[0m | \u001b[1mINFO    \u001b[0m | \u001b[36mRF amplifier PS 30V 4A\u001b[0m | \u001b[36mDevice.py\u001b[0m:\u001b[36mconnect\u001b[0m:\u001b[36m78\u001b[0m\n",
      "\u001b[1mRF amplifier PS 30V 4A connected\u001b[0m\n"
     ]
    },
    {
     "name": "stderr",
     "output_type": "stream",
     "text": [
      "\u001b[32m2023-12-28 11:10:17.143\u001b[0m | \u001b[1mINFO    \u001b[0m | \u001b[36mRF amplifier PS 30V 4A\u001b[0m | \u001b[36mInstekGppDCSupply.py\u001b[0m:\u001b[36mprintStatus\u001b[0m:\u001b[36m56\u001b[0m\n",
      "\u001b[1m------------------------------RF amplifier PS 30V 4A-----------------------------\n",
      "|-------------------Instek GPP DC Power Supply Status Summary--------------------\n",
      "|--------------------Model: GPP-1326, Serial No.SN:GET921679---------------------\n",
      "|\t------------Channel Summary-------------\n",
      "|\t CHANNEL1: Activation \u001b[1;34;41mOFF\u001b[0m.\n",
      "|\t\t VSET=30.000V, ISET=6.000A.\n",
      "|\t\t VOUT=0.000V, IOUT=0.000A.\n",
      "|\t\t Output power: 0.000W.\n",
      "|\t\t ---Over Voltage/Current Protection Status:---\n",
      "|\t\t OVP Status: OFF\t OCP Status: OFF \n",
      "|\t\t OVP Level : 35.0 V\t OCP Level : 7.0 A\n",
      "-----------------Instek GPP DC Power Supply Status Summary Ends-----------------\n",
      "\u001b[0m\n"
     ]
    },
    {
     "data": {
      "text/plain": [
       "'------------------------------RF amplifier PS 30V 4A-----------------------------\\n|-------------------Instek GPP DC Power Supply Status Summary--------------------\\n|--------------------Model: GPP-1326, Serial No.SN:GET921679---------------------\\n|\\t------------Channel Summary-------------\\n|\\t CHANNEL1: Activation \\x1b[1;34;41mOFF\\x1b[0m.\\n|\\t\\t VSET=30.000V, ISET=6.000A.\\n|\\t\\t VOUT=0.000V, IOUT=0.000A.\\n|\\t\\t Output power: 0.000W.\\n|\\t\\t ---Over Voltage/Current Protection Status:---\\n|\\t\\t OVP Status: OFF\\t OCP Status: OFF \\n|\\t\\t OVP Level : 35.0 V\\t OCP Level : 7.0 A\\n-----------------Instek GPP DC Power Supply Status Summary Ends-----------------\\n'"
      ]
     },
     "execution_count": 5,
     "metadata": {},
     "output_type": "execute_result"
    }
   ],
   "source": [
    "from KeckLFC.Hardware.InstekGppDCSupply import InstekGppDCSupply\n",
    "\n",
    "rfampPS = InstekGppDCSupply(addr=f'ASRL{4}::INSTR', name='RF amplifier PS 30V 4A')\n",
    "rfampPS.connect()\n",
    "rfampPS.printStatus()\n"
   ]
  },
  {
   "cell_type": "code",
   "execution_count": 21,
   "metadata": {},
   "outputs": [
    {
     "name": "stderr",
     "output_type": "stream",
     "text": [
      "\u001b[32m2023-12-15 16:28:34.995\u001b[0m | \u001b[1mINFO    \u001b[0m | \u001b[36mRF amplifier PS 30V 4A\u001b[0m | \u001b[36mInstekGppDCSupply.py\u001b[0m:\u001b[36m_setVSET\u001b[0m:\u001b[36m284\u001b[0m\n",
      "\u001b[1mRF amplifier PS 30V 4A: VSET channel 1 set to 30.000V\u001b[0m\n",
      "\u001b[32m2023-12-15 16:28:35.013\u001b[0m | \u001b[1mINFO    \u001b[0m | \u001b[36mRF amplifier PS 30V 4A\u001b[0m | \u001b[36mInstekGppDCSupply.py\u001b[0m:\u001b[36m_setISET\u001b[0m:\u001b[36m260\u001b[0m\n",
      "\u001b[1mRF amplifier PS 30V 4A: ISET channel 1 set to 6.000A\u001b[0m\n",
      "\u001b[32m2023-12-15 16:28:35.162\u001b[0m | \u001b[1mINFO    \u001b[0m | \u001b[36mRF amplifier PS 30V 4A\u001b[0m | \u001b[36mInstekGppDCSupply.py\u001b[0m:\u001b[36mprintStatus\u001b[0m:\u001b[36m56\u001b[0m\n",
      "\u001b[1m------------------------------RF amplifier PS 30V 4A-----------------------------\n",
      "|-------------------Instek GPP DC Power Supply Status Summary--------------------\n",
      "|--------------------Model: GPP-1326, Serial No.SN:GET921679---------------------\n",
      "|\t------------Channel Summary-------------\n",
      "|\t CHANNEL1: Activation \u001b[1;34;41mOFF\u001b[0m.\n",
      "|\t\t VSET=30.000V, ISET=6.000A.\n",
      "|\t\t VOUT=0.000V, IOUT=0.000A.\n",
      "|\t\t Output power: 0.000W.\n",
      "|\t\t ---Over Voltage/Current Protection Status:---\n",
      "|\t\t OVP Status: OFF\t OCP Status: OFF \n",
      "|\t\t OVP Level : 35.0 V\t OCP Level : 7.0 A\n",
      "-----------------Instek GPP DC Power Supply Status Summary Ends-----------------\n",
      "\u001b[0m\n"
     ]
    },
    {
     "data": {
      "text/plain": [
       "'------------------------------RF amplifier PS 30V 4A-----------------------------\\n|-------------------Instek GPP DC Power Supply Status Summary--------------------\\n|--------------------Model: GPP-1326, Serial No.SN:GET921679---------------------\\n|\\t------------Channel Summary-------------\\n|\\t CHANNEL1: Activation \\x1b[1;34;41mOFF\\x1b[0m.\\n|\\t\\t VSET=30.000V, ISET=6.000A.\\n|\\t\\t VOUT=0.000V, IOUT=0.000A.\\n|\\t\\t Output power: 0.000W.\\n|\\t\\t ---Over Voltage/Current Protection Status:---\\n|\\t\\t OVP Status: OFF\\t OCP Status: OFF \\n|\\t\\t OVP Level : 35.0 V\\t OCP Level : 7.0 A\\n-----------------Instek GPP DC Power Supply Status Summary Ends-----------------\\n'"
      ]
     },
     "execution_count": 21,
     "metadata": {},
     "output_type": "execute_result"
    }
   ],
   "source": [
    "rfampPS.Vset1=30\n",
    "rfampPS.Iset1=6\n",
    "rfampPS.printStatus()"
   ]
  },
  {
   "cell_type": "code",
   "execution_count": 16,
   "metadata": {},
   "outputs": [
    {
     "name": "stderr",
     "output_type": "stream",
     "text": [
      "\u001b[32m2023-12-15 13:18:14.083\u001b[0m | \u001b[1mINFO    \u001b[0m | \u001b[36mRF amplifier PS 30V 4A\u001b[0m | \u001b[36mInstekGppDCSupply.py\u001b[0m:\u001b[36m_setOutputStatus\u001b[0m:\u001b[36m237\u001b[0m\n",
      "\u001b[1mRF amplifier PS 30V 4A: channel 1 output is turned OFF\u001b[0m\n"
     ]
    }
   ],
   "source": [
    "rfampPS.activation1 = 0\n"
   ]
  },
  {
   "cell_type": "code",
   "execution_count": 48,
   "metadata": {},
   "outputs": [
    {
     "name": "stderr",
     "output_type": "stream",
     "text": [
      "\u001b[32m2023-12-11 16:13:11.402\u001b[0m | \u001b[1mINFO    \u001b[0m | \u001b[36mRF amplifier PS 30V 4A\u001b[0m | \u001b[36mInstekGppDCSupply.py\u001b[0m:\u001b[36mprintStatus\u001b[0m:\u001b[36m56\u001b[0m\n",
      "\u001b[1m------------------------------RF amplifier PS 30V 4A-----------------------------\n",
      "|-------------------Instek GPP DC Power Supply Status Summary--------------------\n",
      "|--------------------Model: GPP-1326, Serial No.SN:GET921679---------------------\n",
      "|\t------------Channel Summary-------------\n",
      "|\t CHANNEL1: Activation \u001b[1;34;42mON\u001b[0m.\n",
      "|\t\t VSET=30.000V, ISET=6.000A.\n",
      "|\t\t VOUT=29.995V, IOUT=4.125A.\n",
      "|\t\t Output power: 123.738W.\n",
      "|\t\t ---Over Voltage/Current Protection Status:---\n",
      "|\t\t OVP Status: OFF\t OCP Status: OFF \n",
      "|\t\t OVP Level : 35.0 V\t OCP Level : 7.0 A\n",
      "-----------------Instek GPP DC Power Supply Status Summary Ends-----------------\n",
      "\u001b[0m\n"
     ]
    },
    {
     "data": {
      "text/plain": [
       "'------------------------------RF amplifier PS 30V 4A-----------------------------\\n|-------------------Instek GPP DC Power Supply Status Summary--------------------\\n|--------------------Model: GPP-1326, Serial No.SN:GET921679---------------------\\n|\\t------------Channel Summary-------------\\n|\\t CHANNEL1: Activation \\x1b[1;34;42mON\\x1b[0m.\\n|\\t\\t VSET=30.000V, ISET=6.000A.\\n|\\t\\t VOUT=29.995V, IOUT=4.125A.\\n|\\t\\t Output power: 123.738W.\\n|\\t\\t ---Over Voltage/Current Protection Status:---\\n|\\t\\t OVP Status: OFF\\t OCP Status: OFF \\n|\\t\\t OVP Level : 35.0 V\\t OCP Level : 7.0 A\\n-----------------Instek GPP DC Power Supply Status Summary Ends-----------------\\n'"
      ]
     },
     "execution_count": 48,
     "metadata": {},
     "output_type": "execute_result"
    }
   ],
   "source": [
    "rfampPS.printStatus()"
   ]
  },
  {
   "cell_type": "code",
   "execution_count": null,
   "metadata": {},
   "outputs": [],
   "source": []
  },
  {
   "cell_type": "code",
   "execution_count": null,
   "metadata": {},
   "outputs": [],
   "source": []
  },
  {
   "cell_type": "code",
   "execution_count": 2,
   "metadata": {},
   "outputs": [
    {
     "name": "stderr",
     "output_type": "stream",
     "text": [
      "\u001b[32m2023-12-28 11:09:49.538\u001b[0m | \u001b[1mINFO    \u001b[0m | \u001b[36mAgilent OSA 86142B\u001b[0m | \u001b[36mDevice.py\u001b[0m:\u001b[36mconnect\u001b[0m:\u001b[36m78\u001b[0m\n",
      "\u001b[1mAgilent OSA 86142B connected\u001b[0m\n"
     ]
    },
    {
     "data": {
      "text/plain": [
       "1"
      ]
     },
     "execution_count": 2,
     "metadata": {},
     "output_type": "execute_result"
    }
   ],
   "source": [
    "from KeckLFC.Hardware.Agilent_86142B import Agilent_86142B\n",
    "osa = Agilent_86142B(addr='GPIB0::30::INSTR', name='Agilent OSA 86142B')\n",
    "\n",
    "osa.connect()"
   ]
  },
  {
   "cell_type": "code",
   "execution_count": 46,
   "metadata": {},
   "outputs": [
    {
     "name": "stderr",
     "output_type": "stream",
     "text": [
      "\u001b[32m2023-12-11 16:12:34.967\u001b[0m | \u001b[1mINFO    \u001b[0m | \u001b[36mAgilent OSA 86142B\u001b[0m | \u001b[36mAgilent_86142B.py\u001b[0m:\u001b[36mset_reflevel\u001b[0m:\u001b[36m109\u001b[0m\n",
      "\u001b[1mAgilent OSA 86142B: Reference level set to -35.0 dBm.\u001b[0m\n"
     ]
    }
   ],
   "source": [
    "osa.set_reflevel(-35)"
   ]
  },
  {
   "cell_type": "code",
   "execution_count": 52,
   "metadata": {},
   "outputs": [
    {
     "name": "stderr",
     "output_type": "stream",
     "text": [
      "\u001b[32m2023-12-11 16:15:12.958\u001b[0m | \u001b[1mINFO    \u001b[0m | \u001b[36mAgilent OSA 86142B\u001b[0m | \u001b[36mAgilent_86142B.py\u001b[0m:\u001b[36mset_wlstart\u001b[0m:\u001b[36m118\u001b[0m\n",
      "\u001b[1mAgilent OSA 86142B: Scan start wavelength set to 1550.00 nm.\u001b[0m\n",
      "\u001b[32m2023-12-11 16:15:13.908\u001b[0m | \u001b[1mINFO    \u001b[0m | \u001b[36mAgilent OSA 86142B\u001b[0m | \u001b[36mAgilent_86142B.py\u001b[0m:\u001b[36mset_wlstop\u001b[0m:\u001b[36m127\u001b[0m\n",
      "\u001b[1mAgilent OSA 86142B: Scan stop wavelength set to 1570.00 nm.\u001b[0m\n"
     ]
    }
   ],
   "source": [
    "osa.set_wlstart(1550)\n",
    "osa.set_wlstop(1570)"
   ]
  },
  {
   "cell_type": "code",
   "execution_count": 53,
   "metadata": {},
   "outputs": [
    {
     "data": {
      "image/png": "[encoded data removed]",
      "text/plain": [
       "<Figure size 640x480 with 1 Axes>"
      ]
     },
     "metadata": {},
     "output_type": "display_data"
    },
    {
     "name": "stderr",
     "output_type": "stream",
     "text": [
      "\u001b[32m2023-12-11 16:15:17.249\u001b[0m | \u001b[1mINFO    \u001b[0m | \u001b[36mAgilent OSA 86142B\u001b[0m | \u001b[36mAgilent_86142B.py\u001b[0m:\u001b[36mget_trace\u001b[0m:\u001b[36m327\u001b[0m\n",
      "\u001b[1mAgilent OSA 86142B: Trace A data is collected and is shown in the plot.\u001b[0m\n"
     ]
    },
    {
     "data": {
      "text/plain": [
       "(array([1550.  , 1550.02, 1550.04, ..., 1569.96, 1569.98, 1570.  ],\n",
       "       dtype=float32),\n",
       " array([-69.996544, -69.43019 , -69.99556 , ..., -68.39894 , -67.390175,\n",
       "        -69.75394 ], dtype=float32))"
      ]
     },
     "execution_count": 53,
     "metadata": {},
     "output_type": "execute_result"
    }
   ],
   "source": [
    "osa.get_trace('a')"
   ]
  },
  {
   "cell_type": "code",
   "execution_count": null,
   "metadata": {},
   "outputs": [],
   "source": []
  },
  {
   "cell_type": "code",
   "execution_count": 7,
   "metadata": {},
   "outputs": [
    {
     "data": {
      "image/png": "[encoded data removed]",
      "text/plain": [
       "<Figure size 640x480 with 1 Axes>"
      ]
     },
     "metadata": {},
     "output_type": "display_data"
    },
    {
     "name": "stderr",
     "output_type": "stream",
     "text": [
      "\u001b[32m2023-12-13 14:21:08.504\u001b[0m | \u001b[1mINFO    \u001b[0m | \u001b[36mAgilent OSA 86142B\u001b[0m | \u001b[36mAgilent_86142B.py\u001b[0m:\u001b[36mget_trace\u001b[0m:\u001b[36m327\u001b[0m\n",
      "\u001b[1mAgilent OSA 86142B: Trace A data is collected and is shown in the plot.\u001b[0m\n"
     ]
    },
    {
     "data": {
      "text/plain": [
       "(array([1550.  , 1550.02, 1550.04, ..., 1569.96, 1569.98, 1570.  ],\n",
       "       dtype=float32),\n",
       " array([-69.996544, -69.996544, -69.99556 , ..., -69.75487 , -69.75394 ,\n",
       "        -69.75394 ], dtype=float32))"
      ]
     },
     "execution_count": 7,
     "metadata": {},
     "output_type": "execute_result"
    }
   ],
   "source": [
    "osa.get_trace('a')"
   ]
  },
  {
   "cell_type": "code",
   "execution_count": null,
   "metadata": {},
   "outputs": [],
   "source": []
  },
  {
   "cell_type": "code",
   "execution_count": 15,
   "metadata": {},
   "outputs": [
    {
     "name": "stdout",
     "output_type": "stream",
     "text": [
      "Looking for Board 0 in InstaCal to be USB-2408 series...\n",
      "USB-2408 found as Board number 0.\n",
      "\n",
      "USB-2408 DAQ in Electronics Rack: set channel 0 done\n",
      "USB-2408 DAQ in Electronics Rack: set channel 1 done\n",
      "USB-2408 DAQ in Electronics Rack: set channel 2 done\n",
      "USB-2408 DAQ in Electronics Rack: set channel 3 done\n",
      "USB-2408 DAQ in Electronics Rack: set channel 4 done\n",
      "USB-2408 DAQ in Electronics Rack: set channel 5 done\n",
      "USB-2408 DAQ in Electronics Rack: set channel 6 done\n",
      "USB-2408 DAQ in Electronics Rack: set channel 7 done\n",
      "USB-2408 DAQ in Electronics Rack connected.\n",
      "Looking for Board 1 in InstaCal to be USB-2408 series...\n",
      "USB-2408 found as Board number 1.\n",
      "\n",
      "USB-2408 DAQ on Optical Table Breadboard: set channel 0 done\n",
      "USB-2408 DAQ on Optical Table Breadboard: set channel 1 done\n",
      "USB-2408 DAQ on Optical Table Breadboard: set channel 2 done\n",
      "USB-2408 DAQ on Optical Table Breadboard: set channel 3 done\n",
      "USB-2408 DAQ on Optical Table Breadboard: set channel 4 done\n",
      "USB-2408 DAQ on Optical Table Breadboard: set channel 5 done\n",
      "USB-2408 DAQ on Optical Table Breadboard: set channel 6 done\n",
      "USB-2408 DAQ on Optical Table Breadboard: set channel 7 done\n",
      "USB-2408 DAQ on Optical Table Breadboard connected.\n"
     ]
    },
    {
     "data": {
      "text/plain": [
       "1"
      ]
     },
     "execution_count": 15,
     "metadata": {},
     "output_type": "execute_result"
    }
   ],
   "source": [
    "from KeckLFC.Hardware.USB2408  import USB2408\n",
    "import time\n",
    "#initialize device and get temperature\n",
    "daq = USB2408(addr=0)\n",
    "daq.connect()\n",
    "daq2 = USB2408(addr=1)\n",
    "daq2.connect()"
   ]
  },
  {
   "cell_type": "code",
   "execution_count": null,
   "metadata": {},
   "outputs": [],
   "source": [
    "from KeckLFC.Hardware.EatonPDU import EatonPDU\n",
    "\n",
    "for i in range(3,23):\n",
    "    try:\n",
    "        pdu = EatonPDU(addr=f\"ASRL{i}::INSTR\")\n",
    "        pdu.connect()\n",
    "        pdu.printStatus()\n",
    "\n",
    "        print(f'com={i} success')\n",
    "        \n",
    "    except:\n",
    "        \n",
    "        print(f'com={i} failed')"
   ]
  },
  {
   "cell_type": "code",
   "execution_count": 4,
   "metadata": {},
   "outputs": [
    {
     "name": "stderr",
     "output_type": "stream",
     "text": [
      "\u001b[32m2024-02-22 13:46:01.333\u001b[0m | \u001b[1mINFO    \u001b[0m | \u001b[36mArduino Relay Circuit\u001b[0m | \u001b[36mArduino_relay.py\u001b[0m:\u001b[36mconnect\u001b[0m:\u001b[36m52\u001b[0m\n",
      "\u001b[1mArduino Relay Circuit connected\u001b[0m\n",
      "\u001b[32m2024-02-22 13:46:01.736\u001b[0m | \u001b[1mINFO    \u001b[0m | \u001b[36mArduino Relay Circuit\u001b[0m | \u001b[36mArduino_relay.py\u001b[0m:\u001b[36mquery\u001b[0m:\u001b[36m90\u001b[0m\n",
      "\u001b[1mArduino Relay Circuit: Failed to query get, trial num 1, trying again\u001b[0m\n",
      "\u001b[32m2024-02-22 13:46:01.938\u001b[0m | \u001b[1mINFO    \u001b[0m | \u001b[36mArduino Relay Circuit\u001b[0m | \u001b[36mArduino_relay.py\u001b[0m:\u001b[36mquery\u001b[0m:\u001b[36m90\u001b[0m\n",
      "\u001b[1mArduino Relay Circuit: Failed to query get, trial num 2, trying again\u001b[0m\n",
      "\u001b[32m2024-02-22 13:46:02.140\u001b[0m | \u001b[1mINFO    \u001b[0m | \u001b[36mArduino Relay Circuit\u001b[0m | \u001b[36mArduino_relay.py\u001b[0m:\u001b[36mquery\u001b[0m:\u001b[36m90\u001b[0m\n",
      "\u001b[1mArduino Relay Circuit: Failed to query get, trial num 3, trying again\u001b[0m\n",
      "\u001b[32m2024-02-22 13:46:02.542\u001b[0m | \u001b[1mINFO    \u001b[0m | \u001b[36mArduino Relay Circuit\u001b[0m | \u001b[36mArduino_relay.py\u001b[0m:\u001b[36mprintStatus\u001b[0m:\u001b[36m43\u001b[0m\n",
      "\u001b[1m----------------------Arduino Relay Module Status Summary-----------------------\n",
      "|\t Relay Status: relay is \u001b[1;34;41m STOPPING \u001b[0m amplifier, because input power is too low\n",
      "|\t Relay Info: get\n",
      "|\t\tNow voltage is 5\n",
      "|\t\tNow voltage to judge (low) is 0\n",
      "|\t\tNow voltage to judge (high) is 1024\n",
      "|\t\tLow Threshold is 317\n",
      "|\t\tHigh Threshold is 690\n",
      "|\t YJ Shutter State: YJState\n",
      "|\t\tYJ shutter is DOWN, YJ is \u001b[1;34;42m passing \u001b[0m.\n",
      "--------------------Arduino Relay Module Status Summary Ends--------------------\u001b[0m\n"
     ]
    },
    {
     "data": {
      "text/plain": [
       "'----------------------Arduino Relay Module Status Summary-----------------------\\n|\\t Relay Status: relay is \\x1b[1;34;41m STOPPING \\x1b[0m amplifier, because input power is too low\\n|\\t Relay Info: get\\r\\r\\n|\\t\\tNow voltage is 5\\r\\n|\\t\\tNow voltage to judge (low) is 0\\r\\n|\\t\\tNow voltage to judge (high) is 1024\\r\\n|\\t\\tLow Threshold is 317\\r\\n|\\t\\tHigh Threshold is 690\\n|\\t YJ Shutter State: YJState\\r\\r\\n|\\t\\tYJ shutter is DOWN, YJ is \\x1b[1;34;42m passing \\x1b[0m.\\n--------------------Arduino Relay Module Status Summary Ends--------------------'"
      ]
     },
     "execution_count": 4,
     "metadata": {},
     "output_type": "execute_result"
    }
   ],
   "source": [
    "from KeckLFC.Hardware.Arduino_relay import Arduino_relay\n",
    "\n",
    "arduino = Arduino_relay(addr=f\"COM{3}\")\n",
    "arduino.connect()\n",
    "arduino.printStatus()\n",
    "     "
   ]
  },
  {
   "cell_type": "code",
   "execution_count": 3,
   "metadata": {},
   "outputs": [
    {
     "data": {
      "text/plain": [
       "'reset\\r\\r\\nNow voltage is reset equal to input，and the voltage is:4'"
      ]
     },
     "execution_count": 3,
     "metadata": {},
     "output_type": "execute_result"
    }
   ],
   "source": [
    "arduino.reset_relay_latch()"
   ]
  },
  {
   "cell_type": "code",
   "execution_count": 5,
   "metadata": {},
   "outputs": [
    {
     "name": "stderr",
     "output_type": "stream",
     "text": [
      "\u001b[32m2024-02-22 13:49:11.932\u001b[0m | \u001b[1mINFO    \u001b[0m | \u001b[36mArduino Relay Circuit\u001b[0m | \u001b[36mArduino_relay.py\u001b[0m:\u001b[36mdisconnect\u001b[0m:\u001b[36m65\u001b[0m\n",
      "\u001b[1mArduino Relay Circuit disconnected\u001b[0m\n"
     ]
    },
    {
     "data": {
      "text/plain": [
       "1"
      ]
     },
     "execution_count": 5,
     "metadata": {},
     "output_type": "execute_result"
    }
   ],
   "source": [
    "arduino.disconnect()"
   ]
  },
  {
   "cell_type": "code",
   "execution_count": null,
   "metadata": {},
   "outputs": [],
   "source": []
  },
  {
   "cell_type": "code",
   "execution_count": null,
   "metadata": {},
   "outputs": [],
   "source": [
    "# clarity test"
   ]
  },
  {
   "cell_type": "code",
   "execution_count": 1,
   "metadata": {},
   "outputs": [],
   "source": [
    "import os\n",
    "os.chdir(r'D:\\astrocomb\\KeckLFC-deploy')"
   ]
  },
  {
   "cell_type": "code",
   "execution_count": 7,
   "metadata": {},
   "outputs": [],
   "source": [
    "\n",
    "from Hardware.Clarity import Clarity\n",
    "clarity = Clarity()\n",
    "\n"
   ]
  },
  {
   "cell_type": "code",
   "execution_count": 3,
   "metadata": {},
   "outputs": [
    {
     "name": "stderr",
     "output_type": "stream",
     "text": [
      "\u001b[32m2024-06-21 18:45:56.234\u001b[0m | \u001b[1mINFO    \u001b[0m | \u001b[36mDevice\u001b[0m | \u001b[36mDevice.py\u001b[0m:\u001b[36m<module>\u001b[0m:\u001b[36m51\u001b[0m\n",
      "\u001b[1mlogger initialized\u001b[0m\n",
      "\u001b[32m2024-06-21 18:45:56.812\u001b[0m | \u001b[1mINFO    \u001b[0m | \u001b[36mAndo OSA AQ6315E\u001b[0m | \u001b[36mDevice.py\u001b[0m:\u001b[36mconnect\u001b[0m:\u001b[36m78\u001b[0m\n",
      "\u001b[1mAndo OSA AQ6315E connected\u001b[0m\n"
     ]
    },
    {
     "data": {
      "text/plain": [
       "1"
      ]
     },
     "execution_count": 3,
     "metadata": {},
     "output_type": "execute_result"
    }
   ],
   "source": [
    "from Hardware.AndoOSA_AQ6315E import AndoOSA_AQ6315E\n",
    "osa = AndoOSA_AQ6315E(addr='GPIB0::1::INSTR', name='Ando OSA AQ6315E')\n",
    "osa.connect()\n"
   ]
  },
  {
   "cell_type": "code",
   "execution_count": 4,
   "metadata": {},
   "outputs": [
    {
     "ename": "VisaIOError",
     "evalue": "VI_ERROR_TMO (-1073807339): Timeout expired before operation completed.",
     "output_type": "error",
     "traceback": [
      "\u001b[1;31m---------------------------------------------------------------------------\u001b[0m",
      "\u001b[1;31mVisaIOError\u001b[0m                               Traceback (most recent call last)",
      "Input \u001b[1;32mIn [4]\u001b[0m, in \u001b[0;36m<cell line: 1>\u001b[1;34m()\u001b[0m\n\u001b[1;32m----> 1\u001b[0m \u001b[43mosa\u001b[49m\u001b[38;5;241;43m.\u001b[39;49m\u001b[43mwlstart\u001b[49m\n",
      "File \u001b[1;32mD:\\astrocomb\\KeckLFC-deploy\\Hardware\\AndoOSA_AQ6315E.py:62\u001b[0m, in \u001b[0;36mAndoOSA_AQ6315E.wlstart\u001b[1;34m(self)\u001b[0m\n\u001b[0;32m     60\u001b[0m \u001b[38;5;129m@property\u001b[39m\n\u001b[0;32m     61\u001b[0m \u001b[38;5;28;01mdef\u001b[39;00m \u001b[38;5;21mwlstart\u001b[39m(\u001b[38;5;28mself\u001b[39m):\n\u001b[1;32m---> 62\u001b[0m     \u001b[38;5;28;01mreturn\u001b[39;00m \u001b[38;5;28;43mself\u001b[39;49m\u001b[38;5;241;43m.\u001b[39;49m\u001b[43mget_wlstart\u001b[49m\u001b[43m(\u001b[49m\u001b[43m)\u001b[49m\n",
      "File \u001b[1;32mD:\\astrocomb\\KeckLFC-deploy\\Hardware\\AndoOSA_AQ6315E.py:101\u001b[0m, in \u001b[0;36mAndoOSA_AQ6315E.get_wlstart\u001b[1;34m(self)\u001b[0m\n\u001b[0;32m    100\u001b[0m \u001b[38;5;28;01mdef\u001b[39;00m \u001b[38;5;21mget_wlstart\u001b[39m(\u001b[38;5;28mself\u001b[39m):\n\u001b[1;32m--> 101\u001b[0m     \u001b[38;5;28;01mreturn\u001b[39;00m \u001b[38;5;28mfloat\u001b[39m(\u001b[38;5;28;43mself\u001b[39;49m\u001b[38;5;241;43m.\u001b[39;49m\u001b[43mquery\u001b[49m\u001b[43m(\u001b[49m\u001b[38;5;124;43m'\u001b[39;49m\u001b[38;5;124;43mSTAWL?\u001b[39;49m\u001b[38;5;124;43m'\u001b[39;49m\u001b[43m)\u001b[49m)\n",
      "File \u001b[1;32mD:\\astrocomb\\KeckLFC-deploy\\Hardware\\Device.py:101\u001b[0m, in \u001b[0;36mDevice.query\u001b[1;34m(self, cmd)\u001b[0m\n\u001b[0;32m    100\u001b[0m \u001b[38;5;28;01mdef\u001b[39;00m \u001b[38;5;21mquery\u001b[39m(\u001b[38;5;28mself\u001b[39m, cmd):\n\u001b[1;32m--> 101\u001b[0m     \u001b[38;5;28;01mreturn\u001b[39;00m \u001b[38;5;28;43mself\u001b[39;49m\u001b[38;5;241;43m.\u001b[39;49m\u001b[43minst\u001b[49m\u001b[38;5;241;43m.\u001b[39;49m\u001b[43mquery\u001b[49m\u001b[43m(\u001b[49m\u001b[43mcmd\u001b[49m\u001b[43m)\u001b[49m\n",
      "File \u001b[1;32md:\\python\\envs\\research\\lib\\site-packages\\pyvisa\\resources\\messagebased.py:648\u001b[0m, in \u001b[0;36mMessageBasedResource.query\u001b[1;34m(self, message, delay)\u001b[0m\n\u001b[0;32m    645\u001b[0m \u001b[38;5;28;01mif\u001b[39;00m delay \u001b[38;5;241m>\u001b[39m \u001b[38;5;241m0.0\u001b[39m:\n\u001b[0;32m    646\u001b[0m     time\u001b[38;5;241m.\u001b[39msleep(delay)\n\u001b[1;32m--> 648\u001b[0m \u001b[38;5;28;01mreturn\u001b[39;00m \u001b[38;5;28;43mself\u001b[39;49m\u001b[38;5;241;43m.\u001b[39;49m\u001b[43mread\u001b[49m\u001b[43m(\u001b[49m\u001b[43m)\u001b[49m\n",
      "File \u001b[1;32md:\\python\\envs\\research\\lib\\site-packages\\pyvisa\\resources\\messagebased.py:486\u001b[0m, in \u001b[0;36mMessageBasedResource.read\u001b[1;34m(self, termination, encoding)\u001b[0m\n\u001b[0;32m    484\u001b[0m \u001b[38;5;28;01mif\u001b[39;00m termination \u001b[38;5;129;01mis\u001b[39;00m \u001b[38;5;28;01mNone\u001b[39;00m:\n\u001b[0;32m    485\u001b[0m     termination \u001b[38;5;241m=\u001b[39m \u001b[38;5;28mself\u001b[39m\u001b[38;5;241m.\u001b[39m_read_termination\n\u001b[1;32m--> 486\u001b[0m     message \u001b[38;5;241m=\u001b[39m \u001b[38;5;28;43mself\u001b[39;49m\u001b[38;5;241;43m.\u001b[39;49m\u001b[43m_read_raw\u001b[49m\u001b[43m(\u001b[49m\u001b[43m)\u001b[49m\u001b[38;5;241m.\u001b[39mdecode(enco)\n\u001b[0;32m    487\u001b[0m \u001b[38;5;28;01melse\u001b[39;00m:\n\u001b[0;32m    488\u001b[0m     \u001b[38;5;28;01mwith\u001b[39;00m \u001b[38;5;28mself\u001b[39m\u001b[38;5;241m.\u001b[39mread_termination_context(termination):\n",
      "File \u001b[1;32md:\\python\\envs\\research\\lib\\site-packages\\pyvisa\\resources\\messagebased.py:442\u001b[0m, in \u001b[0;36mMessageBasedResource._read_raw\u001b[1;34m(self, size)\u001b[0m\n\u001b[0;32m    435\u001b[0m     \u001b[38;5;28;01mwhile\u001b[39;00m status \u001b[38;5;241m==\u001b[39m loop_status:\n\u001b[0;32m    436\u001b[0m         logger\u001b[38;5;241m.\u001b[39mdebug(\n\u001b[0;32m    437\u001b[0m             \u001b[38;5;124m\"\u001b[39m\u001b[38;5;132;01m%s\u001b[39;00m\u001b[38;5;124m - reading \u001b[39m\u001b[38;5;132;01m%d\u001b[39;00m\u001b[38;5;124m bytes (last status \u001b[39m\u001b[38;5;132;01m%r\u001b[39;00m\u001b[38;5;124m)\u001b[39m\u001b[38;5;124m\"\u001b[39m,\n\u001b[0;32m    438\u001b[0m             \u001b[38;5;28mself\u001b[39m\u001b[38;5;241m.\u001b[39m_resource_name,\n\u001b[0;32m    439\u001b[0m             size,\n\u001b[0;32m    440\u001b[0m             status,\n\u001b[0;32m    441\u001b[0m         )\n\u001b[1;32m--> 442\u001b[0m         chunk, status \u001b[38;5;241m=\u001b[39m \u001b[38;5;28;43mself\u001b[39;49m\u001b[38;5;241;43m.\u001b[39;49m\u001b[43mvisalib\u001b[49m\u001b[38;5;241;43m.\u001b[39;49m\u001b[43mread\u001b[49m\u001b[43m(\u001b[49m\u001b[38;5;28;43mself\u001b[39;49m\u001b[38;5;241;43m.\u001b[39;49m\u001b[43msession\u001b[49m\u001b[43m,\u001b[49m\u001b[43m \u001b[49m\u001b[43msize\u001b[49m\u001b[43m)\u001b[49m\n\u001b[0;32m    443\u001b[0m         ret\u001b[38;5;241m.\u001b[39mextend(chunk)\n\u001b[0;32m    444\u001b[0m \u001b[38;5;28;01mexcept\u001b[39;00m errors\u001b[38;5;241m.\u001b[39mVisaIOError \u001b[38;5;28;01mas\u001b[39;00m e:\n",
      "File \u001b[1;32md:\\python\\envs\\research\\lib\\site-packages\\pyvisa\\ctwrapper\\functions.py:2337\u001b[0m, in \u001b[0;36mread\u001b[1;34m(library, session, count)\u001b[0m\n\u001b[0;32m   2335\u001b[0m buffer \u001b[38;5;241m=\u001b[39m create_string_buffer(count)\n\u001b[0;32m   2336\u001b[0m return_count \u001b[38;5;241m=\u001b[39m ViUInt32()\n\u001b[1;32m-> 2337\u001b[0m ret \u001b[38;5;241m=\u001b[39m \u001b[43mlibrary\u001b[49m\u001b[38;5;241;43m.\u001b[39;49m\u001b[43mviRead\u001b[49m\u001b[43m(\u001b[49m\u001b[43msession\u001b[49m\u001b[43m,\u001b[49m\u001b[43m \u001b[49m\u001b[43mbuffer\u001b[49m\u001b[43m,\u001b[49m\u001b[43m \u001b[49m\u001b[43mcount\u001b[49m\u001b[43m,\u001b[49m\u001b[43m \u001b[49m\u001b[43mbyref\u001b[49m\u001b[43m(\u001b[49m\u001b[43mreturn_count\u001b[49m\u001b[43m)\u001b[49m\u001b[43m)\u001b[49m\n\u001b[0;32m   2338\u001b[0m \u001b[38;5;28;01mreturn\u001b[39;00m buffer\u001b[38;5;241m.\u001b[39mraw[: return_count\u001b[38;5;241m.\u001b[39mvalue], ret\n",
      "File \u001b[1;32md:\\python\\envs\\research\\lib\\site-packages\\pyvisa\\ctwrapper\\highlevel.py:226\u001b[0m, in \u001b[0;36mIVIVisaLibrary._return_handler\u001b[1;34m(self, ret_value, func, arguments)\u001b[0m\n\u001b[0;32m    223\u001b[0m         \u001b[38;5;66;03m# Set session back to a safe value\u001b[39;00m\n\u001b[0;32m    224\u001b[0m         session \u001b[38;5;241m=\u001b[39m \u001b[38;5;28;01mNone\u001b[39;00m\n\u001b[1;32m--> 226\u001b[0m \u001b[38;5;28;01mreturn\u001b[39;00m \u001b[38;5;28;43mself\u001b[39;49m\u001b[38;5;241;43m.\u001b[39;49m\u001b[43mhandle_return_value\u001b[49m\u001b[43m(\u001b[49m\u001b[43msession\u001b[49m\u001b[43m,\u001b[49m\u001b[43m \u001b[49m\u001b[43mret_value\u001b[49m\u001b[43m)\u001b[49m\n",
      "File \u001b[1;32md:\\python\\envs\\research\\lib\\site-packages\\pyvisa\\highlevel.py:251\u001b[0m, in \u001b[0;36mVisaLibraryBase.handle_return_value\u001b[1;34m(self, session, status_code)\u001b[0m\n\u001b[0;32m    248\u001b[0m     \u001b[38;5;28mself\u001b[39m\u001b[38;5;241m.\u001b[39m_last_status_in_session[session] \u001b[38;5;241m=\u001b[39m rv\n\u001b[0;32m    250\u001b[0m \u001b[38;5;28;01mif\u001b[39;00m rv \u001b[38;5;241m<\u001b[39m \u001b[38;5;241m0\u001b[39m:\n\u001b[1;32m--> 251\u001b[0m     \u001b[38;5;28;01mraise\u001b[39;00m errors\u001b[38;5;241m.\u001b[39mVisaIOError(rv)\n\u001b[0;32m    253\u001b[0m \u001b[38;5;28;01mif\u001b[39;00m rv \u001b[38;5;129;01min\u001b[39;00m \u001b[38;5;28mself\u001b[39m\u001b[38;5;241m.\u001b[39missue_warning_on:\n\u001b[0;32m    254\u001b[0m     \u001b[38;5;28;01mif\u001b[39;00m session \u001b[38;5;129;01mand\u001b[39;00m rv \u001b[38;5;129;01mnot\u001b[39;00m \u001b[38;5;129;01min\u001b[39;00m \u001b[38;5;28mself\u001b[39m\u001b[38;5;241m.\u001b[39m_ignore_warning_in_session[session]:\n",
      "\u001b[1;31mVisaIOError\u001b[0m: VI_ERROR_TMO (-1073807339): Timeout expired before operation completed."
     ]
    }
   ],
   "source": [
    "osa.wlstart"
   ]
  },
  {
   "cell_type": "code",
   "execution_count": 1,
   "metadata": {},
   "outputs": [],
   "source": [
    "from wsapi import *"
   ]
  },
  {
   "cell_type": "code",
   "execution_count": 2,
   "metadata": {},
   "outputs": [
    {
     "name": "stderr",
     "output_type": "stream",
     "text": [
      "\u001b[32m2024-06-22 10:30:52.594\u001b[0m | \u001b[1mINFO    \u001b[0m | \u001b[36mDevice\u001b[0m | \u001b[36mDevice.py\u001b[0m:\u001b[36m<module>\u001b[0m:\u001b[36m51\u001b[0m\n",
      "\u001b[1mlogger initialized\u001b[0m\n",
      "\u001b[32m2024-06-22 10:30:55.351\u001b[0m | \u001b[1mINFO    \u001b[0m | \u001b[36mFinisar Waveshaper SN200157\u001b[0m | \u001b[36mDevice.py\u001b[0m:\u001b[36mconnect\u001b[0m:\u001b[36m78\u001b[0m\n",
      "\u001b[1mFinisar Waveshaper SN200157 connected\u001b[0m\n"
     ]
    },
    {
     "data": {
      "text/plain": [
       "1"
      ]
     },
     "execution_count": 2,
     "metadata": {},
     "output_type": "execute_result"
    }
   ],
   "source": [
    "from Hardware.Waveshaper import Waveshaper\n",
    "\n",
    "\n",
    "\n",
    "#wsp = Waveshaper(addr=f'ASRL{6}::INSTR')\n",
    "wsp = Waveshaper(addr='SN200157',WSname='Waveshaper')\n",
    "wsp.connect()"
   ]
  },
  {
   "cell_type": "code",
   "execution_count": 3,
   "metadata": {},
   "outputs": [
    {
     "name": "stderr",
     "output_type": "stream",
     "text": [
      "\u001b[32m2024-06-22 10:31:04.319\u001b[0m | \u001b[1mINFO    \u001b[0m | \u001b[36mFinisar Waveshaper SN200157\u001b[0m | \u001b[36mWaveshaper.py\u001b[0m:\u001b[36mset3rdDisper\u001b[0m:\u001b[36m90\u001b[0m\n",
      "\u001b[1mWaveshaper Set 3rd disper with d2=-2.7 ps/nm, d3=0.0 ps/nm^2, center 192.17465256410256 THz.\u001b[0m\n",
      "\u001b[32m2024-06-22 10:31:04.321\u001b[0m | \u001b[1mINFO    \u001b[0m | \u001b[36mFinisar Waveshaper SN200157\u001b[0m | \u001b[36mWaveshaper.py\u001b[0m:\u001b[36msetBandPass\u001b[0m:\u001b[36m127\u001b[0m\n",
      "\u001b[1mWaveshaper Set atten to BandPass [190.174~194.174] THz ([1576.411~1543.937] nm).\u001b[0m\n",
      "\u001b[32m2024-06-22 10:31:05.313\u001b[0m | \u001b[1mINFO    \u001b[0m | \u001b[36mFinisar Waveshaper SN200157\u001b[0m | \u001b[36mWaveshaper.py\u001b[0m:\u001b[36mwriteProfile\u001b[0m:\u001b[36m226\u001b[0m\n",
      "\u001b[1mWaveshaper profile write successful.\u001b[0m\n"
     ]
    },
    {
     "data": {
      "image/png": "[encoded data removed]",
      "text/plain": [
       "<Figure size 900x600 with 4 Axes>"
      ]
     },
     "metadata": {},
     "output_type": "display_data"
    }
   ],
   "source": [
    "wsp.set3rdDisper(d2=-2.7,d3=0.)\n",
    "wsp.setBandPass(center=192.174,span=4)\n",
    "wsp.plotStatus()\n",
    "wsp.writeProfile()"
   ]
  },
  {
   "cell_type": "code",
   "execution_count": null,
   "metadata": {},
   "outputs": [],
   "source": []
  }
 ],
 "metadata": {
  "kernelspec": {
   "display_name": "lfc-env",
   "language": "python",
   "name": "python3"
  },
  "language_info": {
   "codemirror_mode": {
    "name": "ipython",
    "version": 3
   },
   "file_extension": ".py",
   "mimetype": "text/x-python",
   "name": "python",
   "nbconvert_exporter": "python",
   "pygments_lexer": "ipython3",
   "version": "3.10.6"
  }
 },
 "nbformat": 4,
 "nbformat_minor": 2
}
