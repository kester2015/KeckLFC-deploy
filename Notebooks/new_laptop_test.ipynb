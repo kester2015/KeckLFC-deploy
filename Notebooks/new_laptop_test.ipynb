{
 "cells": [
  {
   "cell_type": "code",
   "execution_count": 1,
   "metadata": {},
   "outputs": [
    {
     "name": "stderr",
     "output_type": "stream",
     "text": [
      "\u001b[32m2023-12-13 11:45:01.794\u001b[0m | \u001b[1mINFO    \u001b[0m | \u001b[36mDevice\u001b[0m | \u001b[36mDevice.py\u001b[0m:\u001b[36m<module>\u001b[0m:\u001b[36m51\u001b[0m\n",
      "\u001b[1mlogger initialized\u001b[0m\n",
      "\u001b[32m2023-12-13 11:45:03.861\u001b[0m | \u001b[1mINFO    \u001b[0m | \u001b[36mORION Laser Module\u001b[0m | \u001b[36mDevice.py\u001b[0m:\u001b[36mconnect\u001b[0m:\u001b[36m78\u001b[0m\n",
      "\u001b[1mORION Laser Module connected\u001b[0m\n"
     ]
    },
    {
     "name": "stdout",
     "output_type": "stream",
     "text": [
      "0\n",
      "1\n",
      "0\n"
     ]
    },
    {
     "name": "stderr",
     "output_type": "stream",
     "text": [
      "\u001b[32m2023-12-13 11:45:05.218\u001b[0m | \u001b[1mINFO    \u001b[0m | \u001b[36mORION Laser Module\u001b[0m | \u001b[36mORIONLaser.py\u001b[0m:\u001b[36mprintStatus\u001b[0m:\u001b[36m60\u001b[0m\n",
      "\u001b[1m-----------------------ORION Laser Module Status Summary------------------------\n",
      "-------------Product ID: RIO0175-5-01-4-AW2, Ver 0.11.7, SN: 806734-------------\n",
      "|\t Status Code: bytearray(b'\\x00\\x01\\x00\\x01\\x00\\x01')\n",
      "|\t Photo monitor voltage: 1.073 Volt (also mA, r=1kOhm)\n",
      "|\t Board Temp:   23.9656 °C\n",
      "|\t Thermis Temp: 19.0400 °C\n",
      "|\t Volatile Settings (reset to non-volatile after re-plug): \n",
      "|\t\t Diode Cur = 150.0000 mA, TEC Set = 19.181°C\n",
      "|\t Non Volatile Settings (Doesn't reset after re-plug): \n",
      "|\t\t Diode Cur = 150.0000 mA, TEC Set = 19.181°C\n",
      "---------------------ORION Laser Module Status Summary Ends---------------------\u001b[0m\n"
     ]
    },
    {
     "data": {
      "text/plain": [
       "\"-----------------------ORION Laser Module Status Summary------------------------\\n-------------Product ID: RIO0175-5-01-4-AW2, Ver 0.11.7, SN: 806734-------------\\n|\\t Status Code: bytearray(b'\\\\x00\\\\x01\\\\x00\\\\x01\\\\x00\\\\x01')\\n|\\t Photo monitor voltage: 1.073 Volt (also mA, r=1kOhm)\\n|\\t Board Temp:   23.9656 °C\\n|\\t Thermis Temp: 19.0400 °C\\n|\\t Volatile Settings (reset to non-volatile after re-plug): \\n|\\t\\t Diode Cur = 150.0000 mA, TEC Set = 19.181°C\\n|\\t Non Volatile Settings (Doesn't reset after re-plug): \\n|\\t\\t Diode Cur = 150.0000 mA, TEC Set = 19.181°C\\n---------------------ORION Laser Module Status Summary Ends---------------------\""
      ]
     },
     "execution_count": 1,
     "metadata": {},
     "output_type": "execute_result"
    }
   ],
   "source": [
    "from KeckLFC.Hardware.ORIONLaser import ORIONLaser\n",
    "rio = ORIONLaser(addr=f'ASRL{14}::INSTR')\n",
    "rio.connect()\n",
    "rio.printStatus()"
   ]
  },
  {
   "cell_type": "code",
   "execution_count": 3,
   "metadata": {},
   "outputs": [
    {
     "name": "stderr",
     "output_type": "stream",
     "text": [
      "\u001b[32m2023-12-28 11:10:00.078\u001b[0m | \u001b[1mINFO    \u001b[0m | \u001b[36mAmonics EDFA 27 dBm\u001b[0m | \u001b[36mDevice.py\u001b[0m:\u001b[36mconnect\u001b[0m:\u001b[36m78\u001b[0m\n",
      "\u001b[1mAmonics EDFA 27 dBm connected\u001b[0m\n",
      "\u001b[32m2023-12-28 11:10:00.404\u001b[0m | \u001b[1mINFO    \u001b[0m | \u001b[36mAmonics EDFA 27 dBm\u001b[0m | \u001b[36mAmonicsEDFA.py\u001b[0m:\u001b[36mprintStatus\u001b[0m:\u001b[36m49\u001b[0m\n",
      "\u001b[1m-------------------------------Amonics EDFA 27 dBm-------------------------------\n",
      "|--------------------------Amonics EDFA Status Summary---------------------------\n",
      "|------------------Model: AEDFA-PM-27-R-FA, Serial No.21082531-------------------\n",
      "|\tInterLock Status: \u001b[1;34;42mUNLOCKED\u001b[0m\n",
      "|\tCase Temperature: 21.56°C\n",
      "|\tMaster Activation: \u001b[1;34;41mOFF\u001b[0m\n",
      "|\t------------Channel Summary-------------\n",
      "|\t CHANNEL1: \n",
      "|\t\t Mode: APC\n",
      "|\t\t Set Pwr: 400.0 mW\n",
      "|\t\t Status: \u001b[1;34;41mOFF\u001b[0m\n",
      "|\t\t Input Power: 15.92268 mW\n",
      "|\t\t Output Power: 0.0 mW\n",
      "|\t\t Internal PD Power: 0.0 mW\n",
      "------------------------Amonics EDFA Status Summary Ends------------------------\n",
      "\u001b[0m\n"
     ]
    },
    {
     "data": {
      "text/plain": [
       "'-------------------------------Amonics EDFA 27 dBm-------------------------------\\n|--------------------------Amonics EDFA Status Summary---------------------------\\n|------------------Model: AEDFA-PM-27-R-FA, Serial No.21082531-------------------\\n|\\tInterLock Status: \\x1b[1;34;42mUNLOCKED\\x1b[0m\\n|\\tCase Temperature: 21.56°C\\n|\\tMaster Activation: \\x1b[1;34;41mOFF\\x1b[0m\\n|\\t------------Channel Summary-------------\\n|\\t CHANNEL1: \\n|\\t\\t Mode: APC\\n|\\t\\t Set Pwr: 400.0 mW\\n|\\t\\t Status: \\x1b[1;34;41mOFF\\x1b[0m\\n|\\t\\t Input Power: 15.92268 mW\\n|\\t\\t Output Power: 0.0 mW\\n|\\t\\t Internal PD Power: 0.0 mW\\n------------------------Amonics EDFA Status Summary Ends------------------------\\n'"
      ]
     },
     "execution_count": 3,
     "metadata": {},
     "output_type": "execute_result"
    }
   ],
   "source": [
    "from KeckLFC.Hardware.AmonicsEDFA import AmonicsEDFA\n",
    "amonic27 = AmonicsEDFA(addr=f'ASRL{6}::INSTR', name='Amonics EDFA 27 dBm')\n",
    "amonic27.connect()\n",
    "amonic27.printStatus()"
   ]
  },
  {
   "cell_type": "code",
   "execution_count": 22,
   "metadata": {},
   "outputs": [
    {
     "name": "stderr",
     "output_type": "stream",
     "text": [
      "\u001b[32m2023-12-22 12:19:59.762\u001b[0m | \u001b[1mINFO    \u001b[0m | \u001b[36mAmonics EDFA 27 dBm\u001b[0m | \u001b[36mAmonicsEDFA.py\u001b[0m:\u001b[36m_setIorP\u001b[0m:\u001b[36m227\u001b[0m\n",
      "\u001b[1mAmonics EDFA 27 dBm: setted ACC mode CH1 current as 400.0 mA.\u001b[0m\n",
      "\u001b[32m2023-12-22 12:19:59.794\u001b[0m | \u001b[33m\u001b[1mWARNING \u001b[0m | \u001b[36mAmonics EDFA 27 dBm\u001b[0m | \u001b[36mAmonicsEDFA.py\u001b[0m:\u001b[36m_setChStatus\u001b[0m:\u001b[36m268\u001b[0m\n",
      "\u001b[33m\u001b[1mAmonics EDFA 27 dBm: Setting ACC CH1 status OFF while activation ON will automatically OFF the activation. Add self.activation='off' before self.accCh1Status='off' \u001b[0m\n",
      "\u001b[32m2023-12-22 12:19:59.827\u001b[0m | \u001b[1mINFO    \u001b[0m | \u001b[36mAmonics EDFA 27 dBm\u001b[0m | \u001b[36mAmonicsEDFA.py\u001b[0m:\u001b[36m_setChStatus\u001b[0m:\u001b[36m278\u001b[0m\n",
      "\u001b[1mAmonics EDFA 27 dBm: ......waiting ACC CH1 status set to OFF, now ON\u001b[0m\n",
      "\u001b[32m2023-12-22 12:19:59.874\u001b[0m | \u001b[1mINFO    \u001b[0m | \u001b[36mAmonics EDFA 27 dBm\u001b[0m | \u001b[36mAmonicsEDFA.py\u001b[0m:\u001b[36m_setChStatus\u001b[0m:\u001b[36m281\u001b[0m\n",
      "\u001b[1mAmonics EDFA 27 dBm: setted ACC CH1 status as OFF, finished in 0.079 seconds\u001b[0m\n",
      "\u001b[32m2023-12-22 12:19:59.907\u001b[0m | \u001b[1mINFO    \u001b[0m | \u001b[36mAmonics EDFA 27 dBm\u001b[0m | \u001b[36mAmonicsEDFA.py\u001b[0m:\u001b[36mactivation\u001b[0m:\u001b[36m195\u001b[0m\n",
      "\u001b[1mAmonics EDFA 27 dBm: setted Activation status as OFF, finished in 0.031 seconds\u001b[0m\n"
     ]
    }
   ],
   "source": [
    "\n",
    "\n",
    "amonic27.accCh1Cur='400ma'\n",
    "amonic27.accCh1Status = 0\n",
    "amonic27.activation = 0"
   ]
  },
  {
   "cell_type": "code",
   "execution_count": 23,
   "metadata": {},
   "outputs": [
    {
     "name": "stderr",
     "output_type": "stream",
     "text": [
      "\u001b[32m2023-12-22 12:20:16.689\u001b[0m | \u001b[1mINFO    \u001b[0m | \u001b[36mAmonics EDFA 27 dBm\u001b[0m | \u001b[36mAmonicsEDFA.py\u001b[0m:\u001b[36m_setChMode\u001b[0m:\u001b[36m297\u001b[0m\n",
      "\u001b[1mAmonics EDFA 27 dBm: CH1 mode set as APC\u001b[0m\n"
     ]
    }
   ],
   "source": [
    "amonic27.modeCh1='apc'"
   ]
  },
  {
   "cell_type": "code",
   "execution_count": 30,
   "metadata": {},
   "outputs": [
    {
     "name": "stderr",
     "output_type": "stream",
     "text": [
      "\u001b[32m2023-12-22 12:21:07.459\u001b[0m | \u001b[1mINFO    \u001b[0m | \u001b[36mAmonics EDFA 27 dBm\u001b[0m | \u001b[36mAmonicsEDFA.py\u001b[0m:\u001b[36m_setIorP\u001b[0m:\u001b[36m229\u001b[0m\n",
      "\u001b[1mAmonics EDFA 27 dBm: setted APC mode CH1 current as 400.0 mW.\u001b[0m\n",
      "\u001b[32m2023-12-22 12:21:07.524\u001b[0m | \u001b[1mINFO    \u001b[0m | \u001b[36mAmonics EDFA 27 dBm\u001b[0m | \u001b[36mAmonicsEDFA.py\u001b[0m:\u001b[36m_setChStatus\u001b[0m:\u001b[36m278\u001b[0m\n",
      "\u001b[1mAmonics EDFA 27 dBm: ......waiting APC CH1 status set to OFF, now ON\u001b[0m\n",
      "\u001b[32m2023-12-22 12:21:07.571\u001b[0m | \u001b[1mINFO    \u001b[0m | \u001b[36mAmonics EDFA 27 dBm\u001b[0m | \u001b[36mAmonicsEDFA.py\u001b[0m:\u001b[36m_setChStatus\u001b[0m:\u001b[36m281\u001b[0m\n",
      "\u001b[1mAmonics EDFA 27 dBm: setted APC CH1 status as OFF, finished in 0.080 seconds\u001b[0m\n"
     ]
    }
   ],
   "source": [
    "amonic27.accCh1Cur = '400mw'\n",
    "amonic27.accCh1Status = 0"
   ]
  },
  {
   "cell_type": "code",
   "execution_count": 29,
   "metadata": {},
   "outputs": [
    {
     "name": "stderr",
     "output_type": "stream",
     "text": [
      "\u001b[32m2023-12-22 12:20:59.203\u001b[0m | \u001b[1mINFO    \u001b[0m | \u001b[36mAmonics EDFA 27 dBm\u001b[0m | \u001b[36mAmonicsEDFA.py\u001b[0m:\u001b[36mactivation\u001b[0m:\u001b[36m192\u001b[0m\n",
      "\u001b[1mAmonics EDFA 27 dBm: ......waiting Activation status set to OFF, now ON\u001b[0m\n"
     ]
    },
    {
     "name": "stderr",
     "output_type": "stream",
     "text": [
      "\u001b[32m2023-12-22 12:20:59.251\u001b[0m | \u001b[1mINFO    \u001b[0m | \u001b[36mAmonics EDFA 27 dBm\u001b[0m | \u001b[36mAmonicsEDFA.py\u001b[0m:\u001b[36mactivation\u001b[0m:\u001b[36m195\u001b[0m\n",
      "\u001b[1mAmonics EDFA 27 dBm: setted Activation status as OFF, finished in 0.075 seconds\u001b[0m\n"
     ]
    }
   ],
   "source": [
    "amonic27.activation = 0"
   ]
  },
  {
   "cell_type": "code",
   "execution_count": 28,
   "metadata": {},
   "outputs": [
    {
     "name": "stderr",
     "output_type": "stream",
     "text": [
      "\u001b[32m2023-12-22 12:20:49.907\u001b[0m | \u001b[1mINFO    \u001b[0m | \u001b[36mAmonics EDFA 27 dBm\u001b[0m | \u001b[36mAmonicsEDFA.py\u001b[0m:\u001b[36mprintStatus\u001b[0m:\u001b[36m49\u001b[0m\n",
      "\u001b[1m-------------------------------Amonics EDFA 27 dBm-------------------------------\n",
      "|--------------------------Amonics EDFA Status Summary---------------------------\n",
      "|------------------Model: AEDFA-PM-27-R-FA, Serial No.21082531-------------------\n",
      "|\tInterLock Status: \u001b[1;34;42mUNLOCKED\u001b[0m\n",
      "|\tCase Temperature: 21.81°C\n",
      "|\tMaster Activation: \u001b[1;34;42mON\u001b[0m\n",
      "|\t------------Channel Summary-------------\n",
      "|\t CHANNEL1: \n",
      "|\t\t Mode: APC\n",
      "|\t\t Set Pwr: 400.0 mW\n",
      "|\t\t Status: \u001b[1;34;42mON\u001b[0m\n",
      "|\t\t Input Power: 15.78888 mW\n",
      "|\t\t Output Power: 398.9503 mW\n",
      "|\t\t Internal PD Power: 327.8891 mW\n",
      "------------------------Amonics EDFA Status Summary Ends------------------------\n",
      "\u001b[0m\n"
     ]
    },
    {
     "data": {
      "text/plain": [
       "'-------------------------------Amonics EDFA 27 dBm-------------------------------\\n|--------------------------Amonics EDFA Status Summary---------------------------\\n|------------------Model: AEDFA-PM-27-R-FA, Serial No.21082531-------------------\\n|\\tInterLock Status: \\x1b[1;34;42mUNLOCKED\\x1b[0m\\n|\\tCase Temperature: 21.81°C\\n|\\tMaster Activation: \\x1b[1;34;42mON\\x1b[0m\\n|\\t------------Channel Summary-------------\\n|\\t CHANNEL1: \\n|\\t\\t Mode: APC\\n|\\t\\t Set Pwr: 400.0 mW\\n|\\t\\t Status: \\x1b[1;34;42mON\\x1b[0m\\n|\\t\\t Input Power: 15.78888 mW\\n|\\t\\t Output Power: 398.9503 mW\\n|\\t\\t Internal PD Power: 327.8891 mW\\n------------------------Amonics EDFA Status Summary Ends------------------------\\n'"
      ]
     },
     "execution_count": 28,
     "metadata": {},
     "output_type": "execute_result"
    }
   ],
   "source": [
    "amonic27.printStatus()"
   ]
  },
  {
   "cell_type": "code",
   "execution_count": null,
   "metadata": {},
   "outputs": [],
   "source": []
  },
  {
   "cell_type": "code",
   "execution_count": 4,
   "metadata": {},
   "outputs": [
    {
     "name": "stderr",
     "output_type": "stream",
     "text": [
      "\u001b[32m2023-12-28 11:10:06.215\u001b[0m | \u001b[1mINFO    \u001b[0m | \u001b[36mRF oscilator PS, CH2 15V, CH3 1V\u001b[0m | \u001b[36mDevice.py\u001b[0m:\u001b[36mconnect\u001b[0m:\u001b[36m78\u001b[0m\n",
      "\u001b[1mRF oscilator PS, CH2 15V, CH3 1V connected\u001b[0m\n"
     ]
    },
    {
     "name": "stderr",
     "output_type": "stream",
     "text": [
      "\u001b[32m2023-12-28 11:10:09.405\u001b[0m | \u001b[1mINFO    \u001b[0m | \u001b[36mRF oscilator PS, CH2 15V, CH3 1V\u001b[0m | \u001b[36mInstekGPD_4303S.py\u001b[0m:\u001b[36mprintStatus\u001b[0m:\u001b[36m200\u001b[0m\n",
      "\u001b[1m-------------------------RF oscilator PS, CH2 15V, CH3 1V------------------------\n",
      "|----------------Instek DC Power Supply GPD-4303S Status Summary-----------------\n",
      "|--------------------Model: GPD-4303S, Serial No.SN:EV884423---------------------\n",
      "|\tMaster Activation: \u001b[1;34;41mOFF\u001b[0m\n",
      "|\t------------Channel Summary-------------\n",
      "|\t CH1: master, CH2: slave, mode UNRECOGNIZED?.\n",
      "|\t CHANNEL1: CC Mode.\n",
      "|\t\t VSET=0.000V, ISET=0.000A.\n",
      "|\t\t VOUT=0.000V, IOUT=0.000A.\n",
      "|\t\t Output power: 0.000W.\n",
      "|\t CHANNEL2: CC Mode.\n",
      "|\t\t VSET=15.000V, ISET=3.000A.\n",
      "|\t\t VOUT=0.000V, IOUT=0.000A.\n",
      "|\t\t Output power: 0.000W.\n",
      "|\t CHANNEL3: CC Mode.\n",
      "|\t\t VSET=0.900V, ISET=1.000A.\n",
      "|\t\t VOUT=0.000V, IOUT=0.000A.\n",
      "|\t\t Output power: 0.000W.\n",
      "|\t CHANNEL4: CV Mode.\n",
      "|\t\t VSET=0.000V, ISET=0.000A.\n",
      "|\t\t VOUT=0.000V, IOUT=0.000A.\n",
      "|\t\t Output power: 0.000W.\n",
      "--------------Instek DC Power Supply GPD-4303S Status Summary Ends--------------\n",
      "\u001b[0m\n"
     ]
    },
    {
     "data": {
      "text/plain": [
       "'-------------------------RF oscilator PS, CH2 15V, CH3 1V------------------------\\n|----------------Instek DC Power Supply GPD-4303S Status Summary-----------------\\n|--------------------Model: GPD-4303S, Serial No.SN:EV884423---------------------\\n|\\tMaster Activation: \\x1b[1;34;41mOFF\\x1b[0m\\n|\\t------------Channel Summary-------------\\n|\\t CH1: master, CH2: slave, mode UNRECOGNIZED?.\\n|\\t CHANNEL1: CC Mode.\\n|\\t\\t VSET=0.000V, ISET=0.000A.\\n|\\t\\t VOUT=0.000V, IOUT=0.000A.\\n|\\t\\t Output power: 0.000W.\\n|\\t CHANNEL2: CC Mode.\\n|\\t\\t VSET=15.000V, ISET=3.000A.\\n|\\t\\t VOUT=0.000V, IOUT=0.000A.\\n|\\t\\t Output power: 0.000W.\\n|\\t CHANNEL3: CC Mode.\\n|\\t\\t VSET=0.900V, ISET=1.000A.\\n|\\t\\t VOUT=0.000V, IOUT=0.000A.\\n|\\t\\t Output power: 0.000W.\\n|\\t CHANNEL4: CV Mode.\\n|\\t\\t VSET=0.000V, ISET=0.000A.\\n|\\t\\t VOUT=0.000V, IOUT=0.000A.\\n|\\t\\t Output power: 0.000W.\\n--------------Instek DC Power Supply GPD-4303S Status Summary Ends--------------\\n'"
      ]
     },
     "execution_count": 4,
     "metadata": {},
     "output_type": "execute_result"
    }
   ],
   "source": [
    "from KeckLFC.Hardware.InstekGPD_4303S import InstekGPD_4303S\n",
    "rfoscPS = InstekGPD_4303S(addr='ASRL13::INSTR', name='RF oscilator PS, CH2 15V, CH3 1V')\n",
    "rfoscPS.connect()\n",
    "rfoscPS.printStatus()"
   ]
  },
  {
   "cell_type": "code",
   "execution_count": 29,
   "metadata": {},
   "outputs": [
    {
     "name": "stderr",
     "output_type": "stream",
     "text": [
      "\u001b[32m2023-12-11 16:03:25.512\u001b[0m | \u001b[1mINFO    \u001b[0m | \u001b[36mRF oscilator PS, CH2 15V, CH3 1V\u001b[0m | \u001b[36mInstekGPD_4303S.py\u001b[0m:\u001b[36mactivation\u001b[0m:\u001b[36m44\u001b[0m\n",
      "\u001b[1mInstek GPD-4303S DCSupply: Output activation is turned ON.\u001b[0m\n"
     ]
    }
   ],
   "source": [
    "rfoscPS.activation = 1"
   ]
  },
  {
   "cell_type": "code",
   "execution_count": 49,
   "metadata": {},
   "outputs": [
    {
     "name": "stderr",
     "output_type": "stream",
     "text": [
      "\u001b[32m2023-12-11 16:13:48.506\u001b[0m | \u001b[1mINFO    \u001b[0m | \u001b[36mRF oscilator PS, CH2 15V, CH3 1V\u001b[0m | \u001b[36mInstekGPD_4303S.py\u001b[0m:\u001b[36mprintStatus\u001b[0m:\u001b[36m200\u001b[0m\n",
      "\u001b[1m-------------------------RF oscilator PS, CH2 15V, CH3 1V------------------------\n",
      "|----------------Instek DC Power Supply GPD-4303S Status Summary-----------------\n",
      "|--------------------Model: GPD-4303S, Serial No.SN:EV884423---------------------\n",
      "|\tMaster Activation: \u001b[1;34;42mON\u001b[0m\n",
      "|\t------------Channel Summary-------------\n",
      "|\t CH1: master, CH2: slave, mode UNRECOGNIZED?.\n",
      "|\t CHANNEL1: CC Mode.\n",
      "|\t\t VSET=0.000V, ISET=0.000A.\n",
      "|\t\t VOUT=0.000V, IOUT=0.000A.\n",
      "|\t\t Output power: 0.000W.\n",
      "|\t CHANNEL2: CV Mode.\n",
      "|\t\t VSET=15.000V, ISET=3.000A.\n",
      "|\t\t VOUT=14.996V, IOUT=0.433A.\n",
      "|\t\t Output power: 6.493W.\n",
      "|\t CHANNEL3: CV Mode.\n",
      "|\t\t VSET=0.900V, ISET=1.000A.\n",
      "|\t\t VOUT=0.900V, IOUT=0.002A.\n",
      "|\t\t Output power: 0.002W.\n",
      "|\t CHANNEL4: CV Mode.\n",
      "|\t\t VSET=0.000V, ISET=0.000A.\n",
      "|\t\t VOUT=0.000V, IOUT=0.001A.\n",
      "|\t\t Output power: 0.000W.\n",
      "--------------Instek DC Power Supply GPD-4303S Status Summary Ends--------------\n",
      "\u001b[0m\n"
     ]
    },
    {
     "data": {
      "text/plain": [
       "'-------------------------RF oscilator PS, CH2 15V, CH3 1V------------------------\\n|----------------Instek DC Power Supply GPD-4303S Status Summary-----------------\\n|--------------------Model: GPD-4303S, Serial No.SN:EV884423---------------------\\n|\\tMaster Activation: \\x1b[1;34;42mON\\x1b[0m\\n|\\t------------Channel Summary-------------\\n|\\t CH1: master, CH2: slave, mode UNRECOGNIZED?.\\n|\\t CHANNEL1: CC Mode.\\n|\\t\\t VSET=0.000V, ISET=0.000A.\\n|\\t\\t VOUT=0.000V, IOUT=0.000A.\\n|\\t\\t Output power: 0.000W.\\n|\\t CHANNEL2: CV Mode.\\n|\\t\\t VSET=15.000V, ISET=3.000A.\\n|\\t\\t VOUT=14.996V, IOUT=0.433A.\\n|\\t\\t Output power: 6.493W.\\n|\\t CHANNEL3: CV Mode.\\n|\\t\\t VSET=0.900V, ISET=1.000A.\\n|\\t\\t VOUT=0.900V, IOUT=0.002A.\\n|\\t\\t Output power: 0.002W.\\n|\\t CHANNEL4: CV Mode.\\n|\\t\\t VSET=0.000V, ISET=0.000A.\\n|\\t\\t VOUT=0.000V, IOUT=0.001A.\\n|\\t\\t Output power: 0.000W.\\n--------------Instek DC Power Supply GPD-4303S Status Summary Ends--------------\\n'"
      ]
     },
     "execution_count": 49,
     "metadata": {},
     "output_type": "execute_result"
    }
   ],
   "source": [
    "rfoscPS.printStatus()"
   ]
  },
  {
   "cell_type": "code",
   "execution_count": 5,
   "metadata": {},
   "outputs": [
    {
     "name": "stderr",
     "output_type": "stream",
     "text": [
      "\u001b[32m2023-12-28 11:10:17.002\u001b[0m | \u001b[1mINFO    \u001b[0m | \u001b[36mRF amplifier PS 30V 4A\u001b[0m | \u001b[36mDevice.py\u001b[0m:\u001b[36mconnect\u001b[0m:\u001b[36m78\u001b[0m\n",
      "\u001b[1mRF amplifier PS 30V 4A connected\u001b[0m\n"
     ]
    },
    {
     "name": "stderr",
     "output_type": "stream",
     "text": [
      "\u001b[32m2023-12-28 11:10:17.143\u001b[0m | \u001b[1mINFO    \u001b[0m | \u001b[36mRF amplifier PS 30V 4A\u001b[0m | \u001b[36mInstekGppDCSupply.py\u001b[0m:\u001b[36mprintStatus\u001b[0m:\u001b[36m56\u001b[0m\n",
      "\u001b[1m------------------------------RF amplifier PS 30V 4A-----------------------------\n",
      "|-------------------Instek GPP DC Power Supply Status Summary--------------------\n",
      "|--------------------Model: GPP-1326, Serial No.SN:GET921679---------------------\n",
      "|\t------------Channel Summary-------------\n",
      "|\t CHANNEL1: Activation \u001b[1;34;41mOFF\u001b[0m.\n",
      "|\t\t VSET=30.000V, ISET=6.000A.\n",
      "|\t\t VOUT=0.000V, IOUT=0.000A.\n",
      "|\t\t Output power: 0.000W.\n",
      "|\t\t ---Over Voltage/Current Protection Status:---\n",
      "|\t\t OVP Status: OFF\t OCP Status: OFF \n",
      "|\t\t OVP Level : 35.0 V\t OCP Level : 7.0 A\n",
      "-----------------Instek GPP DC Power Supply Status Summary Ends-----------------\n",
      "\u001b[0m\n"
     ]
    },
    {
     "data": {
      "text/plain": [
       "'------------------------------RF amplifier PS 30V 4A-----------------------------\\n|-------------------Instek GPP DC Power Supply Status Summary--------------------\\n|--------------------Model: GPP-1326, Serial No.SN:GET921679---------------------\\n|\\t------------Channel Summary-------------\\n|\\t CHANNEL1: Activation \\x1b[1;34;41mOFF\\x1b[0m.\\n|\\t\\t VSET=30.000V, ISET=6.000A.\\n|\\t\\t VOUT=0.000V, IOUT=0.000A.\\n|\\t\\t Output power: 0.000W.\\n|\\t\\t ---Over Voltage/Current Protection Status:---\\n|\\t\\t OVP Status: OFF\\t OCP Status: OFF \\n|\\t\\t OVP Level : 35.0 V\\t OCP Level : 7.0 A\\n-----------------Instek GPP DC Power Supply Status Summary Ends-----------------\\n'"
      ]
     },
     "execution_count": 5,
     "metadata": {},
     "output_type": "execute_result"
    }
   ],
   "source": [
    "from KeckLFC.Hardware.InstekGppDCSupply import InstekGppDCSupply\n",
    "\n",
    "rfampPS = InstekGppDCSupply(addr=f'ASRL{4}::INSTR', name='RF amplifier PS 30V 4A')\n",
    "rfampPS.connect()\n",
    "rfampPS.printStatus()\n"
   ]
  },
  {
   "cell_type": "code",
   "execution_count": 21,
   "metadata": {},
   "outputs": [
    {
     "name": "stderr",
     "output_type": "stream",
     "text": [
      "\u001b[32m2023-12-15 16:28:34.995\u001b[0m | \u001b[1mINFO    \u001b[0m | \u001b[36mRF amplifier PS 30V 4A\u001b[0m | \u001b[36mInstekGppDCSupply.py\u001b[0m:\u001b[36m_setVSET\u001b[0m:\u001b[36m284\u001b[0m\n",
      "\u001b[1mRF amplifier PS 30V 4A: VSET channel 1 set to 30.000V\u001b[0m\n",
      "\u001b[32m2023-12-15 16:28:35.013\u001b[0m | \u001b[1mINFO    \u001b[0m | \u001b[36mRF amplifier PS 30V 4A\u001b[0m | \u001b[36mInstekGppDCSupply.py\u001b[0m:\u001b[36m_setISET\u001b[0m:\u001b[36m260\u001b[0m\n",
      "\u001b[1mRF amplifier PS 30V 4A: ISET channel 1 set to 6.000A\u001b[0m\n",
      "\u001b[32m2023-12-15 16:28:35.162\u001b[0m | \u001b[1mINFO    \u001b[0m | \u001b[36mRF amplifier PS 30V 4A\u001b[0m | \u001b[36mInstekGppDCSupply.py\u001b[0m:\u001b[36mprintStatus\u001b[0m:\u001b[36m56\u001b[0m\n",
      "\u001b[1m------------------------------RF amplifier PS 30V 4A-----------------------------\n",
      "|-------------------Instek GPP DC Power Supply Status Summary--------------------\n",
      "|--------------------Model: GPP-1326, Serial No.SN:GET921679---------------------\n",
      "|\t------------Channel Summary-------------\n",
      "|\t CHANNEL1: Activation \u001b[1;34;41mOFF\u001b[0m.\n",
      "|\t\t VSET=30.000V, ISET=6.000A.\n",
      "|\t\t VOUT=0.000V, IOUT=0.000A.\n",
      "|\t\t Output power: 0.000W.\n",
      "|\t\t ---Over Voltage/Current Protection Status:---\n",
      "|\t\t OVP Status: OFF\t OCP Status: OFF \n",
      "|\t\t OVP Level : 35.0 V\t OCP Level : 7.0 A\n",
      "-----------------Instek GPP DC Power Supply Status Summary Ends-----------------\n",
      "\u001b[0m\n"
     ]
    },
    {
     "data": {
      "text/plain": [
       "'------------------------------RF amplifier PS 30V 4A-----------------------------\\n|-------------------Instek GPP DC Power Supply Status Summary--------------------\\n|--------------------Model: GPP-1326, Serial No.SN:GET921679---------------------\\n|\\t------------Channel Summary-------------\\n|\\t CHANNEL1: Activation \\x1b[1;34;41mOFF\\x1b[0m.\\n|\\t\\t VSET=30.000V, ISET=6.000A.\\n|\\t\\t VOUT=0.000V, IOUT=0.000A.\\n|\\t\\t Output power: 0.000W.\\n|\\t\\t ---Over Voltage/Current Protection Status:---\\n|\\t\\t OVP Status: OFF\\t OCP Status: OFF \\n|\\t\\t OVP Level : 35.0 V\\t OCP Level : 7.0 A\\n-----------------Instek GPP DC Power Supply Status Summary Ends-----------------\\n'"
      ]
     },
     "execution_count": 21,
     "metadata": {},
     "output_type": "execute_result"
    }
   ],
   "source": [
    "rfampPS.Vset1=30\n",
    "rfampPS.Iset1=6\n",
    "rfampPS.printStatus()"
   ]
  },
  {
   "cell_type": "code",
   "execution_count": 16,
   "metadata": {},
   "outputs": [
    {
     "name": "stderr",
     "output_type": "stream",
     "text": [
      "\u001b[32m2023-12-15 13:18:14.083\u001b[0m | \u001b[1mINFO    \u001b[0m | \u001b[36mRF amplifier PS 30V 4A\u001b[0m | \u001b[36mInstekGppDCSupply.py\u001b[0m:\u001b[36m_setOutputStatus\u001b[0m:\u001b[36m237\u001b[0m\n",
      "\u001b[1mRF amplifier PS 30V 4A: channel 1 output is turned OFF\u001b[0m\n"
     ]
    }
   ],
   "source": [
    "rfampPS.activation1 = 0\n"
   ]
  },
  {
   "cell_type": "code",
   "execution_count": 48,
   "metadata": {},
   "outputs": [
    {
     "name": "stderr",
     "output_type": "stream",
     "text": [
      "\u001b[32m2023-12-11 16:13:11.402\u001b[0m | \u001b[1mINFO    \u001b[0m | \u001b[36mRF amplifier PS 30V 4A\u001b[0m | \u001b[36mInstekGppDCSupply.py\u001b[0m:\u001b[36mprintStatus\u001b[0m:\u001b[36m56\u001b[0m\n",
      "\u001b[1m------------------------------RF amplifier PS 30V 4A-----------------------------\n",
      "|-------------------Instek GPP DC Power Supply Status Summary--------------------\n",
      "|--------------------Model: GPP-1326, Serial No.SN:GET921679---------------------\n",
      "|\t------------Channel Summary-------------\n",
      "|\t CHANNEL1: Activation \u001b[1;34;42mON\u001b[0m.\n",
      "|\t\t VSET=30.000V, ISET=6.000A.\n",
      "|\t\t VOUT=29.995V, IOUT=4.125A.\n",
      "|\t\t Output power: 123.738W.\n",
      "|\t\t ---Over Voltage/Current Protection Status:---\n",
      "|\t\t OVP Status: OFF\t OCP Status: OFF \n",
      "|\t\t OVP Level : 35.0 V\t OCP Level : 7.0 A\n",
      "-----------------Instek GPP DC Power Supply Status Summary Ends-----------------\n",
      "\u001b[0m\n"
     ]
    },
    {
     "data": {
      "text/plain": [
       "'------------------------------RF amplifier PS 30V 4A-----------------------------\\n|-------------------Instek GPP DC Power Supply Status Summary--------------------\\n|--------------------Model: GPP-1326, Serial No.SN:GET921679---------------------\\n|\\t------------Channel Summary-------------\\n|\\t CHANNEL1: Activation \\x1b[1;34;42mON\\x1b[0m.\\n|\\t\\t VSET=30.000V, ISET=6.000A.\\n|\\t\\t VOUT=29.995V, IOUT=4.125A.\\n|\\t\\t Output power: 123.738W.\\n|\\t\\t ---Over Voltage/Current Protection Status:---\\n|\\t\\t OVP Status: OFF\\t OCP Status: OFF \\n|\\t\\t OVP Level : 35.0 V\\t OCP Level : 7.0 A\\n-----------------Instek GPP DC Power Supply Status Summary Ends-----------------\\n'"
      ]
     },
     "execution_count": 48,
     "metadata": {},
     "output_type": "execute_result"
    }
   ],
   "source": [
    "rfampPS.printStatus()"
   ]
  },
  {
   "cell_type": "code",
   "execution_count": null,
   "metadata": {},
   "outputs": [],
   "source": []
  },
  {
   "cell_type": "code",
   "execution_count": null,
   "metadata": {},
   "outputs": [],
   "source": []
  },
  {
   "cell_type": "code",
   "execution_count": 2,
   "metadata": {},
   "outputs": [
    {
     "name": "stderr",
     "output_type": "stream",
     "text": [
      "\u001b[32m2023-12-28 11:09:49.538\u001b[0m | \u001b[1mINFO    \u001b[0m | \u001b[36mAgilent OSA 86142B\u001b[0m | \u001b[36mDevice.py\u001b[0m:\u001b[36mconnect\u001b[0m:\u001b[36m78\u001b[0m\n",
      "\u001b[1mAgilent OSA 86142B connected\u001b[0m\n"
     ]
    },
    {
     "data": {
      "text/plain": [
       "1"
      ]
     },
     "execution_count": 2,
     "metadata": {},
     "output_type": "execute_result"
    }
   ],
   "source": [
    "from KeckLFC.Hardware.Agilent_86142B import Agilent_86142B\n",
    "osa = Agilent_86142B(addr='GPIB0::30::INSTR', name='Agilent OSA 86142B')\n",
    "\n",
    "osa.connect()"
   ]
  },
  {
   "cell_type": "code",
   "execution_count": 46,
   "metadata": {},
   "outputs": [
    {
     "name": "stderr",
     "output_type": "stream",
     "text": [
      "\u001b[32m2023-12-11 16:12:34.967\u001b[0m | \u001b[1mINFO    \u001b[0m | \u001b[36mAgilent OSA 86142B\u001b[0m | \u001b[36mAgilent_86142B.py\u001b[0m:\u001b[36mset_reflevel\u001b[0m:\u001b[36m109\u001b[0m\n",
      "\u001b[1mAgilent OSA 86142B: Reference level set to -35.0 dBm.\u001b[0m\n"
     ]
    }
   ],
   "source": [
    "osa.set_reflevel(-35)"
   ]
  },
  {
   "cell_type": "code",
   "execution_count": 52,
   "metadata": {},
   "outputs": [
    {
     "name": "stderr",
     "output_type": "stream",
     "text": [
      "\u001b[32m2023-12-11 16:15:12.958\u001b[0m | \u001b[1mINFO    \u001b[0m | \u001b[36mAgilent OSA 86142B\u001b[0m | \u001b[36mAgilent_86142B.py\u001b[0m:\u001b[36mset_wlstart\u001b[0m:\u001b[36m118\u001b[0m\n",
      "\u001b[1mAgilent OSA 86142B: Scan start wavelength set to 1550.00 nm.\u001b[0m\n",
      "\u001b[32m2023-12-11 16:15:13.908\u001b[0m | \u001b[1mINFO    \u001b[0m | \u001b[36mAgilent OSA 86142B\u001b[0m | \u001b[36mAgilent_86142B.py\u001b[0m:\u001b[36mset_wlstop\u001b[0m:\u001b[36m127\u001b[0m\n",
      "\u001b[1mAgilent OSA 86142B: Scan stop wavelength set to 1570.00 nm.\u001b[0m\n"
     ]
    }
   ],
   "source": [
    "osa.set_wlstart(1550)\n",
    "osa.set_wlstop(1570)"
   ]
  },
  {
   "cell_type": "code",
   "execution_count": 53,
   "metadata": {},
   "outputs": [
    {
     "data": {
      "image/png": "[encoded data removed]",
      "text/plain": [
       "<Figure size 640x480 with 1 Axes>"
      ]
     },
     "metadata": {},
     "output_type": "display_data"
    },
    {
     "name": "stderr",
     "output_type": "stream",
     "text": [
      "\u001b[32m2023-12-11 16:15:17.249\u001b[0m | \u001b[1mINFO    \u001b[0m | \u001b[36mAgilent OSA 86142B\u001b[0m | \u001b[36mAgilent_86142B.py\u001b[0m:\u001b[36mget_trace\u001b[0m:\u001b[36m327\u001b[0m\n",
      "\u001b[1mAgilent OSA 86142B: Trace A data is collected and is shown in the plot.\u001b[0m\n"
     ]
    },
    {
     "data": {
      "text/plain": [
       "(array([1550.  , 1550.02, 1550.04, ..., 1569.96, 1569.98, 1570.  ],\n",
       "       dtype=float32),\n",
       " array([-69.996544, -69.43019 , -69.99556 , ..., -68.39894 , -67.390175,\n",
       "        -69.75394 ], dtype=float32))"
      ]
     },
     "execution_count": 53,
     "metadata": {},
     "output_type": "execute_result"
    }
   ],
   "source": [
    "osa.get_trace('a')"
   ]
  },
  {
   "cell_type": "code",
   "execution_count": null,
   "metadata": {},
   "outputs": [],
   "source": []
  },
  {
   "cell_type": "code",
   "execution_count": 7,
   "metadata": {},
   "outputs": [
    {
     "data": {
      "image/png": "[encoded data removed]",
      "text/plain": [
       "<Figure size 640x480 with 1 Axes>"
      ]
     },
     "metadata": {},
     "output_type": "display_data"
    },
    {
     "name": "stderr",
     "output_type": "stream",
     "text": [
      "\u001b[32m2023-12-13 14:21:08.504\u001b[0m | \u001b[1mINFO    \u001b[0m | \u001b[36mAgilent OSA 86142B\u001b[0m | \u001b[36mAgilent_86142B.py\u001b[0m:\u001b[36mget_trace\u001b[0m:\u001b[36m327\u001b[0m\n",
      "\u001b[1mAgilent OSA 86142B: Trace A data is collected and is shown in the plot.\u001b[0m\n"
     ]
    },
    {
     "data": {
      "text/plain": [
       "(array([1550.  , 1550.02, 1550.04, ..., 1569.96, 1569.98, 1570.  ],\n",
       "       dtype=float32),\n",
       " array([-69.996544, -69.996544, -69.99556 , ..., -69.75487 , -69.75394 ,\n",
       "        -69.75394 ], dtype=float32))"
      ]
     },
     "execution_count": 7,
     "metadata": {},
     "output_type": "execute_result"
    }
   ],
   "source": [
    "osa.get_trace('a')"
   ]
  },
  {
   "cell_type": "code",
   "execution_count": null,
   "metadata": {},
   "outputs": [],
   "source": []
  },
  {
   "cell_type": "code",
   "execution_count": 15,
   "metadata": {},
   "outputs": [
    {
     "name": "stdout",
     "output_type": "stream",
     "text": [
      "Looking for Board 0 in InstaCal to be USB-2408 series...\n",
      "USB-2408 found as Board number 0.\n",
      "\n",
      "USB-2408 DAQ in Electronics Rack: set channel 0 done\n",
      "USB-2408 DAQ in Electronics Rack: set channel 1 done\n",
      "USB-2408 DAQ in Electronics Rack: set channel 2 done\n",
      "USB-2408 DAQ in Electronics Rack: set channel 3 done\n",
      "USB-2408 DAQ in Electronics Rack: set channel 4 done\n",
      "USB-2408 DAQ in Electronics Rack: set channel 5 done\n",
      "USB-2408 DAQ in Electronics Rack: set channel 6 done\n",
      "USB-2408 DAQ in Electronics Rack: set channel 7 done\n",
      "USB-2408 DAQ in Electronics Rack connected.\n",
      "Looking for Board 1 in InstaCal to be USB-2408 series...\n",
      "USB-2408 found as Board number 1.\n",
      "\n",
      "USB-2408 DAQ on Optical Table Breadboard: set channel 0 done\n",
      "USB-2408 DAQ on Optical Table Breadboard: set channel 1 done\n",
      "USB-2408 DAQ on Optical Table Breadboard: set channel 2 done\n",
      "USB-2408 DAQ on Optical Table Breadboard: set channel 3 done\n",
      "USB-2408 DAQ on Optical Table Breadboard: set channel 4 done\n",
      "USB-2408 DAQ on Optical Table Breadboard: set channel 5 done\n",
      "USB-2408 DAQ on Optical Table Breadboard: set channel 6 done\n",
      "USB-2408 DAQ on Optical Table Breadboard: set channel 7 done\n",
      "USB-2408 DAQ on Optical Table Breadboard connected.\n"
     ]
    },
    {
     "data": {
      "text/plain": [
       "1"
      ]
     },
     "execution_count": 15,
     "metadata": {},
     "output_type": "execute_result"
    }
   ],
   "source": [
    "from KeckLFC.Hardware.USB2408  import USB2408\n",
    "import time\n",
    "#initialize device and get temperature\n",
    "daq = USB2408(addr=0)\n",
    "daq.connect()\n",
    "daq2 = USB2408(addr=1)\n",
    "daq2.connect()"
   ]
  },
  {
   "cell_type": "code",
   "execution_count": null,
   "metadata": {},
   "outputs": [],
   "source": [
    "from KeckLFC.Hardware.EatonPDU import EatonPDU\n",
    "\n",
    "for i in range(3,23):\n",
    "    try:\n",
    "        pdu = EatonPDU(addr=f\"ASRL{i}::INSTR\")\n",
    "        pdu.connect()\n",
    "        pdu.printStatus()\n",
    "\n",
    "        print(f'com={i} success')\n",
    "        \n",
    "    except:\n",
    "        \n",
    "        print(f'com={i} failed')"
   ]
  },
  {
   "cell_type": "code",
   "execution_count": 4,
   "metadata": {},
   "outputs": [
    {
     "name": "stderr",
     "output_type": "stream",
     "text": [
      "\u001b[32m2024-02-22 13:46:01.333\u001b[0m | \u001b[1mINFO    \u001b[0m | \u001b[36mArduino Relay Circuit\u001b[0m | \u001b[36mArduino_relay.py\u001b[0m:\u001b[36mconnect\u001b[0m:\u001b[36m52\u001b[0m\n",
      "\u001b[1mArduino Relay Circuit connected\u001b[0m\n",
      "\u001b[32m2024-02-22 13:46:01.736\u001b[0m | \u001b[1mINFO    \u001b[0m | \u001b[36mArduino Relay Circuit\u001b[0m | \u001b[36mArduino_relay.py\u001b[0m:\u001b[36mquery\u001b[0m:\u001b[36m90\u001b[0m\n",
      "\u001b[1mArduino Relay Circuit: Failed to query get, trial num 1, trying again\u001b[0m\n",
      "\u001b[32m2024-02-22 13:46:01.938\u001b[0m | \u001b[1mINFO    \u001b[0m | \u001b[36mArduino Relay Circuit\u001b[0m | \u001b[36mArduino_relay.py\u001b[0m:\u001b[36mquery\u001b[0m:\u001b[36m90\u001b[0m\n",
      "\u001b[1mArduino Relay Circuit: Failed to query get, trial num 2, trying again\u001b[0m\n",
      "\u001b[32m2024-02-22 13:46:02.140\u001b[0m | \u001b[1mINFO    \u001b[0m | \u001b[36mArduino Relay Circuit\u001b[0m | \u001b[36mArduino_relay.py\u001b[0m:\u001b[36mquery\u001b[0m:\u001b[36m90\u001b[0m\n",
      "\u001b[1mArduino Relay Circuit: Failed to query get, trial num 3, trying again\u001b[0m\n",
      "\u001b[32m2024-02-22 13:46:02.542\u001b[0m | \u001b[1mINFO    \u001b[0m | \u001b[36mArduino Relay Circuit\u001b[0m | \u001b[36mArduino_relay.py\u001b[0m:\u001b[36mprintStatus\u001b[0m:\u001b[36m43\u001b[0m\n",
      "\u001b[1m----------------------Arduino Relay Module Status Summary-----------------------\n",
      "|\t Relay Status: relay is \u001b[1;34;41m STOPPING \u001b[0m amplifier, because input power is too low\n",
      "|\t Relay Info: get\n",
      "|\t\tNow voltage is 5\n",
      "|\t\tNow voltage to judge (low) is 0\n",
      "|\t\tNow voltage to judge (high) is 1024\n",
      "|\t\tLow Threshold is 317\n",
      "|\t\tHigh Threshold is 690\n",
      "|\t YJ Shutter State: YJState\n",
      "|\t\tYJ shutter is DOWN, YJ is \u001b[1;34;42m passing \u001b[0m.\n",
      "--------------------Arduino Relay Module Status Summary Ends--------------------\u001b[0m\n"
     ]
    },
    {
     "data": {
      "text/plain": [
       "'----------------------Arduino Relay Module Status Summary-----------------------\\n|\\t Relay Status: relay is \\x1b[1;34;41m STOPPING \\x1b[0m amplifier, because input power is too low\\n|\\t Relay Info: get\\r\\r\\n|\\t\\tNow voltage is 5\\r\\n|\\t\\tNow voltage to judge (low) is 0\\r\\n|\\t\\tNow voltage to judge (high) is 1024\\r\\n|\\t\\tLow Threshold is 317\\r\\n|\\t\\tHigh Threshold is 690\\n|\\t YJ Shutter State: YJState\\r\\r\\n|\\t\\tYJ shutter is DOWN, YJ is \\x1b[1;34;42m passing \\x1b[0m.\\n--------------------Arduino Relay Module Status Summary Ends--------------------'"
      ]
     },
     "execution_count": 4,
     "metadata": {},
     "output_type": "execute_result"
    }
   ],
   "source": [
    "from KeckLFC.Hardware.Arduino_relay import Arduino_relay\n",
    "\n",
    "arduino = Arduino_relay(addr=f\"COM{3}\")\n",
    "arduino.connect()\n",
    "arduino.printStatus()\n",
    "     "
   ]
  },
  {
   "cell_type": "code",
   "execution_count": 3,
   "metadata": {},
   "outputs": [
    {
     "data": {
      "text/plain": [
       "'reset\\r\\r\\nNow voltage is reset equal to input，and the voltage is:4'"
      ]
     },
     "execution_count": 3,
     "metadata": {},
     "output_type": "execute_result"
    }
   ],
   "source": [
    "arduino.reset_relay_latch()"
   ]
  },
  {
   "cell_type": "code",
   "execution_count": 5,
   "metadata": {},
   "outputs": [
    {
     "name": "stderr",
     "output_type": "stream",
     "text": [
      "\u001b[32m2024-02-22 13:49:11.932\u001b[0m | \u001b[1mINFO    \u001b[0m | \u001b[36mArduino Relay Circuit\u001b[0m | \u001b[36mArduino_relay.py\u001b[0m:\u001b[36mdisconnect\u001b[0m:\u001b[36m65\u001b[0m\n",
      "\u001b[1mArduino Relay Circuit disconnected\u001b[0m\n"
     ]
    },
    {
     "data": {
      "text/plain": [
       "1"
      ]
     },
     "execution_count": 5,
     "metadata": {},
     "output_type": "execute_result"
    }
   ],
   "source": [
    "arduino.disconnect()"
   ]
  },
  {
   "cell_type": "code",
   "execution_count": null,
   "metadata": {},
   "outputs": [],
   "source": []
  },
  {
   "cell_type": "code",
   "execution_count": null,
   "metadata": {},
   "outputs": [],
   "source": [
    "# clarity test"
   ]
  },
  {
   "cell_type": "code",
   "execution_count": 1,
   "metadata": {},
   "outputs": [],
   "source": [
    "import os\n",
    "os.chdir(r'D:\\astrocomb\\KeckLFC-deploy')"
   ]
  },
  {
   "cell_type": "code",
   "execution_count": 7,
   "metadata": {},
   "outputs": [],
   "source": [
    "\n",
    "from Hardware.Clarity import Clarity\n",
    "clarity = Clarity()\n",
    "\n"
   ]
  },
  {
   "cell_type": "code",
   "execution_count": 55,
   "metadata": {},
   "outputs": [
    {
     "name": "stderr",
     "output_type": "stream",
     "text": [
      "\u001b[32m2024-06-25 11:12:09.080\u001b[0m | \u001b[1mINFO    \u001b[0m | \u001b[36mAndo OSA AQ6315E\u001b[0m | \u001b[36mDevice.py\u001b[0m:\u001b[36mconnect\u001b[0m:\u001b[36m78\u001b[0m\n",
      "\u001b[1mAndo OSA AQ6315E connected\u001b[0m\n"
     ]
    },
    {
     "data": {
      "text/plain": [
       "1"
      ]
     },
     "execution_count": 55,
     "metadata": {},
     "output_type": "execute_result"
    }
   ],
   "source": [
    "import os\n",
    "os.chdir(r'D:\\astrocomb\\KeckLFC-deploy')\n",
    "\n",
    "from Hardware.YOKOGAWAaq6375 import YOKOGAWAaq6375\n",
    "osa = YOKOGAWAaq6375(addr='GPIB0::1::INSTR', name='Ando OSA AQ6315E')\n",
    "osa.connect()\n"
   ]
  },
  {
   "cell_type": "code",
   "execution_count": 75,
   "metadata": {},
   "outputs": [
    {
     "data": {
      "text/plain": [
       "'20000\\n'"
      ]
     },
     "execution_count": 75,
     "metadata": {},
     "output_type": "execute_result"
    }
   ],
   "source": [
    "osa.get_sample_points()"
   ]
  },
  {
   "cell_type": "code",
   "execution_count": 57,
   "metadata": {},
   "outputs": [],
   "source": [
    "x,y=osa.get_trace('TRA')"
   ]
  },
  {
   "cell_type": "code",
   "execution_count": 78,
   "metadata": {},
   "outputs": [],
   "source": [
    "y2=osa.get_Ydata('TRA')"
   ]
  },
  {
   "cell_type": "code",
   "execution_count": 61,
   "metadata": {},
   "outputs": [
    {
     "data": {
      "text/plain": [
       "[<matplotlib.lines.Line2D at 0x27612b3c0a0>]"
      ]
     },
     "execution_count": 61,
     "metadata": {},
     "output_type": "execute_result"
    },
    {
     "data": {
      "image/png": "[encoded data removed]",
      "text/plain": [
       "<Figure size 640x480 with 1 Axes>"
      ]
     },
     "metadata": {},
     "output_type": "display_data"
    }
   ],
   "source": [
    "import matplotlib.pyplot as plt\n",
    "plt.plot(x,y2)"
   ]
  },
  {
   "cell_type": "code",
   "execution_count": 77,
   "metadata": {},
   "outputs": [],
   "source": [
    "osa.set_sample_points(1000)\n",
    "osa.write(\":INITiate:SMODe SINGle\")\n",
    "osa.write(\":INITiate\")"
   ]
  },
  {
   "cell_type": "code",
   "execution_count": 74,
   "metadata": {},
   "outputs": [],
   "source": [
    "osa.write(\":ABOR\")"
   ]
  },
  {
   "cell_type": "code",
   "execution_count": 80,
   "metadata": {},
   "outputs": [
    {
     "data": {
      "text/plain": [
       "'NORMAL'"
      ]
     },
     "execution_count": 80,
     "metadata": {},
     "output_type": "execute_result"
    }
   ],
   "source": [
    "osa.get_sensitivity()"
   ]
  },
  {
   "cell_type": "code",
   "execution_count": 124,
   "metadata": {},
   "outputs": [
    {
     "data": {
      "text/plain": [
       "'+6.00000000E-007\\n'"
      ]
     },
     "execution_count": 124,
     "metadata": {},
     "output_type": "execute_result"
    }
   ],
   "source": [
    "osa.query(\":SENSE:WAVELENGTH:SPAN?\")"
   ]
  },
  {
   "cell_type": "code",
   "execution_count": 9,
   "metadata": {},
   "outputs": [],
   "source": [
    "osa.write(\":SENSE:WAVELENGTH:CENT 2000NM\")"
   ]
  },
  {
   "cell_type": "code",
   "execution_count": 6,
   "metadata": {},
   "outputs": [],
   "source": [
    "import numpy as np\n",
    "xdata = osa.query('TRACE:X? TRA').strip().split(',')\n",
    "ydata=osa.query('TRACE:Y? TRA').strip().split(',')\n",
    "x= np.asarray(xdata, 'f')\n",
    "y = np.asarray(ydata, 'f')\n"
   ]
  },
  {
   "cell_type": "code",
   "execution_count": 44,
   "metadata": {},
   "outputs": [
    {
     "data": {
      "text/plain": [
       "[<matplotlib.lines.Line2D at 0x202f0737b80>]"
      ]
     },
     "execution_count": 44,
     "metadata": {},
     "output_type": "execute_result"
    },
    {
     "data": {
      "image/png": "[encoded data removed]",
      "text/plain": [
       "<Figure size 640x480 with 1 Axes>"
      ]
     },
     "metadata": {},
     "output_type": "display_data"
    }
   ],
   "source": [
    "import matplotlib.pyplot as plt\n",
    "plt.plot(x,y)   "
   ]
  },
  {
   "cell_type": "code",
   "execution_count": 46,
   "metadata": {},
   "outputs": [],
   "source": [
    "np.savez(r'D:\\astrocomb\\KeckLFC-deploy\\pulse_data\\cut0_disp_m5p7.npz', x=x, y=y)"
   ]
  },
  {
   "cell_type": "code",
   "execution_count": 47,
   "metadata": {},
   "outputs": [],
   "source": [
    "data = np.load(r'D:\\astrocomb\\KeckLFC-deploy\\pulse_data\\cut0_disp_m5p7.npz')"
   ]
  },
  {
   "cell_type": "code",
   "execution_count": 102,
   "metadata": {},
   "outputs": [
    {
     "data": {
      "text/plain": [
       "[<matplotlib.lines.Line2D at 0x202880fc4c0>]"
      ]
     },
     "execution_count": 102,
     "metadata": {},
     "output_type": "execute_result"
    },
    {
     "data": {
      "image/png": "[encoded data removed]",
      "text/plain": [
       "<Figure size 640x480 with 1 Axes>"
      ]
     },
     "metadata": {},
     "output_type": "display_data"
    }
   ],
   "source": [
    "xx=data['x']\n",
    "yy=data['y']\n",
    "\n",
    "start=0\n",
    "end=20000\n",
    "plt.plot(xx[start:end],yy[start:end])"
   ]
  },
  {
   "cell_type": "code",
   "execution_count": 57,
   "metadata": {},
   "outputs": [
    {
     "data": {
      "text/plain": [
       "array([1.50000e-06, 1.50003e-06, 1.50006e-06, ..., 2.09994e-06,\n",
       "       2.09997e-06, 2.10000e-06], dtype=float32)"
      ]
     },
     "execution_count": 57,
     "metadata": {},
     "output_type": "execute_result"
    }
   ],
   "source": [
    "xx"
   ]
  },
  {
   "cell_type": "code",
   "execution_count": 59,
   "metadata": {},
   "outputs": [
    {
     "data": {
      "text/plain": [
       "array([-28.510128, -26.71771 , -27.39764 , ..., -57.331947, -57.25718 ,\n",
       "       -57.33627 ], dtype=float32)"
      ]
     },
     "execution_count": 59,
     "metadata": {},
     "output_type": "execute_result"
    }
   ],
   "source": [
    "yy"
   ]
  },
  {
   "cell_type": "code",
   "execution_count": 109,
   "metadata": {},
   "outputs": [],
   "source": [
    "import numpy as np\n",
    "import matplotlib.pyplot as plt\n",
    "from scipy.signal import find_peaks\n",
    "\n",
    "data = np.load(r'D:\\astrocomb\\KeckLFC-deploy\\pulse_data\\cut0_disp_m5p7.npz')\n",
    "x=data['x']\n",
    "y=data['y']"
   ]
  },
  {
   "cell_type": "code",
   "execution_count": 121,
   "metadata": {},
   "outputs": [],
   "source": [
    "\n",
    "\n",
    "xdata = osa.query('TRACE:X? TRA').strip().split(',')\n",
    "ydata=osa.query('TRACE:Y? TRA').strip().split(',')\n",
    "x= np.asarray(xdata, 'f')\n",
    "y = np.asarray(ydata, 'f')\n",
    "\n",
    "start_wl=1.6e-6\n",
    "stop_wl=1.8e-6\n",
    "\n",
    "x1=x[np.where((x>start_wl) & (x<stop_wl))] \n",
    "y1=y[np.where((x>start_wl) & (x<stop_wl))]\n",
    "\n",
    "hight_shreshold=-57\n",
    "peaks, vv = find_peaks(y1, height=hight_shreshold, distance=2, width=0.02e-9)\n",
    "num_peaks = len(peaks)\n",
    "\n",
    "score=np.sum(y1[peaks])+num_peaks*np.abs(hight_shreshold)"
   ]
  },
  {
   "cell_type": "code",
   "execution_count": null,
   "metadata": {},
   "outputs": [],
   "source": [
    "phase_array = np.zeros((num_peaks, 2))"
   ]
  },
  {
   "cell_type": "code",
   "execution_count": 2,
   "metadata": {},
   "outputs": [],
   "source": [
    "import numpy as np\n",
    "import matplotlib.pyplot as plt\n",
    "from scipy.signal import find_peaks\n",
    "import time\n",
    "import os\n",
    "\n",
    "# 假设这个函数计算光谱的得分\n",
    "def score_spectrum(osa,x,start_wl=1.6e-6,stop_wl=1.8e-6,hight_shreshold=-57):\n",
    "    \n",
    "    # xdata = osa.query('TRACE:X? TRA').strip().split(',')\n",
    "    # ydata=osa.query('TRACE:Y? TRA').strip().split(',')\n",
    "    # x= np.asarray(xdata, 'f')\n",
    "    # y = np.asarray(ydata, 'f')\n",
    "\n",
    "    # start_wl=1.6e-6\n",
    "    # stop_wl=1.8e-6\n",
    "    osa.single()\n",
    "    time.sleep(1)\n",
    "\n",
    "    y=osa.get_Ydata('TRA')\n",
    "    #x1=x[np.where((x>start_wl) & (x<stop_wl))] \n",
    "    y1=y[np.where((x>start_wl) & (x<stop_wl))]\n",
    "\n",
    "    hight_shreshold=-57\n",
    "    peaks,_ = find_peaks(y1, height=hight_shreshold, distance=2, width=0.02e-9)\n",
    "    num_peaks = len(peaks)\n",
    "\n",
    "    score=np.sum(y1[peaks])+num_peaks*np.abs(hight_shreshold)\n",
    "    return score\n",
    "\n",
    "# 梯度下降算法\n",
    "def optimize_phase(wsp,osa,x,x_hz,phase_array, step_size=0.1*2*np.pi, max_iterations=50, tolerance=1e-3):\n",
    "    \n",
    "    phase_setting(wsp,x_hz,phase_array)\n",
    "    \n",
    "    best_score = score_spectrum(osa,x)\n",
    "    \n",
    "    for iteration in range(max_iterations):\n",
    "        step_size = step_size / (iteration//10 + 1)\n",
    "\n",
    "        for i in range(len(phase_array)):\n",
    "            # 保存当前相位值\n",
    "\n",
    "            original_phase = phase_array[i]\n",
    "            \n",
    "            phase_array[i] = phase_array[i] + step_size\n",
    "\n",
    "            phase_setting(wsp,x_hz,phase_array)\n",
    "\n",
    "            new_score = score_spectrum(osa,x)\n",
    "            \n",
    "            if new_score > best_score:\n",
    "                best_score = new_score\n",
    "            else:\n",
    "                phase_array[i] = original_phase\n",
    "\n",
    "                original_phase = phase_array[i]\n",
    "\n",
    "            phase_array[i] = phase_array[i] - 2 * step_size\n",
    "\n",
    "            phase_setting(wsp,x_hz,phase_array)\n",
    "\n",
    "            new_score = score_spectrum(osa,x)\n",
    "            \n",
    "            if new_score > best_score:\n",
    "                best_score = new_score\n",
    "            else:\n",
    "                phase_array[i] = original_phase\n",
    "\n",
    "            print(f\"Iteration {iteration}, Phase {i}, step_size {step_size}, best_score {best_score}\")\n",
    "        \n",
    "    \n",
    "        # 检查是否收敛\n",
    "        if np.abs(new_score - best_score) < tolerance:\n",
    "            break\n",
    "\n",
    "        \n",
    "\n",
    "            \n",
    "\n",
    "    \n",
    "    return phase_array, best_score\n",
    "\n",
    "def phase_setting(wsp,x_hz,y_phase):\n",
    "\n",
    "    # x_nm=np.arange(1553,1567,0.06)\n",
    "    # x_hz=wsp.nm2thz(x_nm)\n",
    "    # #x_freq = np.linspace(192.175-2, 192.175+2, 100)\n",
    "    # y_phase = ((x_hz-192.175) ** 2 * (2*np.pi) ** 2 * 1.3/2*-5.7)   #+ 0/((x_freq-192.3) ** 4 * (2*np.pi) ** 2 * 1.3/2+1)\n",
    "    wsp.set_interp_phase(x_hz, y_phase)\n",
    "    wsp.setBandPass(center=192.174,span=4)\n",
    "    #wsp.plotStatus()\n",
    "    wsp.writeProfile()\n",
    "\n",
    "def initial_phase_array(wsp,d2):\n",
    "\n",
    "    x_nm=np.arange(1553,1567,0.06)\n",
    "    x_hz=wsp.nm2thz(x_nm)\n",
    "    #x_freq = np.linspace(192.175-2, 192.175+2, 100)\n",
    "    y_phase = ((x_hz-192.175) ** 2 * (2*np.pi) ** 2 * 1.3/2*d2)   #+ 0/((x_freq-192.3) ** 4 * (2*np.pi) ** 2 * 1.3/2+1)\n",
    "    return x_hz,y_phase\n",
    "    \n",
    "\n",
    "def save_phase_array(phase_array, x,y,lenth):\n",
    "\n",
    "    filename=r'D:\\astrocomb\\KeckLFC-deploy\\pulse_data' + f'\\cut{lenth}_disp_m5p7_optimize.npz'\n",
    "\n",
    "    np.savez(filename, phase_array=phase_array)\n",
    "\n",
    "    np.savez(r'D:\\astrocomb\\KeckLFC-deploy\\pulse_data\\cut0_disp_m5p7.npz', x=x, y=y)\n",
    "\n",
    "# 示例使用\n",
    "def initial_all_parameters():\n",
    "    \n",
    "    \n",
    "    os.chdir(r'D:\\astrocomb\\KeckLFC-deploy')\n",
    "\n",
    "    from Hardware.YOKOGAWAaq6375 import YOKOGAWAaq6375\n",
    "    from Hardware.Waveshaper import Waveshaper\n",
    "    osa = YOKOGAWAaq6375(addr='GPIB0::1::INSTR', name='Ando OSA AQ6315E')\n",
    "    wsp = Waveshaper(addr='SN200157',WSname='Waveshaper')\n",
    "    osa.connect()\n",
    "    wsp.connect()\n",
    "\n",
    "    d2= -5.7\n",
    "\n",
    "    start_wl=1.6e-6\n",
    "    stop_wl=1.8e-6\n",
    "\n",
    "    osa.set_wavelength_start(start_wl)\n",
    "    osa.set_wavelength_stop(stop_wl)\n",
    "    osa.set_sample_points(4000)\n",
    "    osa.set_resolution(0.05)\n",
    "    osa.set_sensitivity('NORM')\n",
    "\n",
    "    osa.single()\n",
    "    x=osa.get_Xdata('TRA')\n",
    "    x_hz,y_phase = initial_phase_array(wsp,d2)\n",
    "    phase_setting(wsp,x_hz,y_phase)\n",
    "\n",
    "\n",
    "\n",
    "    return wsp,osa, x,x_hz, y_phase"
   ]
  },
  {
   "cell_type": "code",
   "execution_count": 3,
   "metadata": {},
   "outputs": [
    {
     "name": "stderr",
     "output_type": "stream",
     "text": [
      "\u001b[32m2024-06-25 14:53:44.169\u001b[0m | \u001b[1mINFO    \u001b[0m | \u001b[36mDevice\u001b[0m | \u001b[36mDevice.py\u001b[0m:\u001b[36m<module>\u001b[0m:\u001b[36m51\u001b[0m\n",
      "\u001b[1mlogger initialized\u001b[0m\n",
      "\u001b[32m2024-06-25 14:53:44.385\u001b[0m | \u001b[1mINFO    \u001b[0m | \u001b[36mAndo OSA AQ6315E\u001b[0m | \u001b[36mDevice.py\u001b[0m:\u001b[36mconnect\u001b[0m:\u001b[36m78\u001b[0m\n",
      "\u001b[1mAndo OSA AQ6315E connected\u001b[0m\n",
      "\u001b[32m2024-06-25 14:53:44.547\u001b[0m | \u001b[1mINFO    \u001b[0m | \u001b[36mFinisar Waveshaper SN200157\u001b[0m | \u001b[36mDevice.py\u001b[0m:\u001b[36mconnect\u001b[0m:\u001b[36m78\u001b[0m\n",
      "\u001b[1mFinisar Waveshaper SN200157 connected\u001b[0m\n"
     ]
    },
    {
     "data": {
      "text/plain": [
       "1"
      ]
     },
     "execution_count": 3,
     "metadata": {},
     "output_type": "execute_result"
    }
   ],
   "source": [
    "os.chdir(r'D:\\astrocomb\\KeckLFC-deploy')\n",
    "\n",
    "from Hardware.YOKOGAWAaq6375 import YOKOGAWAaq6375\n",
    "from Hardware.Waveshaper import Waveshaper\n",
    "osa = YOKOGAWAaq6375(addr='GPIB0::1::INSTR', name='Ando OSA AQ6315E')\n",
    "wsp = Waveshaper(addr='SN200157',WSname='Waveshaper')\n",
    "osa.connect()\n",
    "wsp.connect()\n"
   ]
  },
  {
   "cell_type": "code",
   "execution_count": 4,
   "metadata": {},
   "outputs": [],
   "source": [
    "\n",
    "d2= -5.7\n",
    "max_iterations=50\n",
    "start_wl=1.6e-6\n",
    "stop_wl=1.8e-6\n",
    "\n",
    "osa.set_wavelength_start(start_wl*1e9)\n",
    "osa.set_wavelength_stop(stop_wl*1e9)\n",
    "osa.set_sample_points(4000)\n",
    "osa.set_resolution(0.05)\n",
    "osa.set_sensitivity('NORM')\n",
    "\n",
    "osa.single()\n",
    "x=osa.get_Xdata('TRA')\n",
    "x_hz,y_phase = initial_phase_array(wsp,d2)\n",
    "phase_setting(wsp,x_hz,y_phase)"
   ]
  },
  {
   "cell_type": "code",
   "execution_count": 5,
   "metadata": {},
   "outputs": [
    {
     "name": "stdout",
     "output_type": "stream",
     "text": [
      "Iteration 0, Phase 0, step_size 0.6283185307179586, best_score 0.0\n",
      "Iteration 0, Phase 1, step_size 0.6283185307179586, best_score 0.0\n",
      "Iteration 0, Phase 2, step_size 0.6283185307179586, best_score 0.0\n",
      "Iteration 0, Phase 3, step_size 0.6283185307179586, best_score 0.0\n",
      "Iteration 0, Phase 4, step_size 0.6283185307179586, best_score 0.0\n",
      "Iteration 0, Phase 5, step_size 0.6283185307179586, best_score 0.0\n",
      "Iteration 0, Phase 6, step_size 0.6283185307179586, best_score 0.0\n"
     ]
    },
    {
     "ename": "KeyboardInterrupt",
     "evalue": "",
     "output_type": "error",
     "traceback": [
      "\u001b[1;31m---------------------------------------------------------------------------\u001b[0m",
      "\u001b[1;31mKeyboardInterrupt\u001b[0m                         Traceback (most recent call last)",
      "Input \u001b[1;32mIn [5]\u001b[0m, in \u001b[0;36m<cell line: 7>\u001b[1;34m()\u001b[0m\n\u001b[0;32m     28\u001b[0m phase_array[i] \u001b[38;5;241m=\u001b[39m phase_array[i] \u001b[38;5;241m-\u001b[39m \u001b[38;5;241m2\u001b[39m \u001b[38;5;241m*\u001b[39m step_size\n\u001b[0;32m     30\u001b[0m phase_setting(wsp,x_hz,phase_array)\n\u001b[1;32m---> 32\u001b[0m new_score \u001b[38;5;241m=\u001b[39m \u001b[43mscore_spectrum\u001b[49m\u001b[43m(\u001b[49m\u001b[43mosa\u001b[49m\u001b[43m,\u001b[49m\u001b[43mx\u001b[49m\u001b[43m)\u001b[49m\n\u001b[0;32m     34\u001b[0m \u001b[38;5;28;01mif\u001b[39;00m new_score \u001b[38;5;241m>\u001b[39m best_score:\n\u001b[0;32m     35\u001b[0m     best_score \u001b[38;5;241m=\u001b[39m new_score\n",
      "Input \u001b[1;32mIn [2]\u001b[0m, in \u001b[0;36mscore_spectrum\u001b[1;34m(osa, x, start_wl, stop_wl, hight_shreshold)\u001b[0m\n\u001b[0;32m     17\u001b[0m osa\u001b[38;5;241m.\u001b[39msingle()\n\u001b[0;32m     18\u001b[0m time\u001b[38;5;241m.\u001b[39msleep(\u001b[38;5;241m1\u001b[39m)\n\u001b[1;32m---> 20\u001b[0m y\u001b[38;5;241m=\u001b[39m\u001b[43mosa\u001b[49m\u001b[38;5;241;43m.\u001b[39;49m\u001b[43mget_Ydata\u001b[49m\u001b[43m(\u001b[49m\u001b[38;5;124;43m'\u001b[39;49m\u001b[38;5;124;43mTRA\u001b[39;49m\u001b[38;5;124;43m'\u001b[39;49m\u001b[43m)\u001b[49m\n\u001b[0;32m     21\u001b[0m \u001b[38;5;66;03m#x1=x[np.where((x>start_wl) & (x<stop_wl))] \u001b[39;00m\n\u001b[0;32m     22\u001b[0m y1\u001b[38;5;241m=\u001b[39my[np\u001b[38;5;241m.\u001b[39mwhere((x\u001b[38;5;241m>\u001b[39mstart_wl) \u001b[38;5;241m&\u001b[39m (x\u001b[38;5;241m<\u001b[39mstop_wl))]\n",
      "File \u001b[1;32mD:\\astrocomb\\KeckLFC-deploy\\Hardware\\YOKOGAWAaq6375.py:92\u001b[0m, in \u001b[0;36mYOKOGAWAaq6375.get_Ydata\u001b[1;34m(self, trace)\u001b[0m\n\u001b[0;32m     91\u001b[0m \u001b[38;5;28;01mdef\u001b[39;00m \u001b[38;5;21mget_Ydata\u001b[39m(\u001b[38;5;28mself\u001b[39m, trace):\n\u001b[1;32m---> 92\u001b[0m     ydata_list \u001b[38;5;241m=\u001b[39m \u001b[38;5;28;43mself\u001b[39;49m\u001b[38;5;241;43m.\u001b[39;49m\u001b[43mquery\u001b[49m\u001b[43m(\u001b[49m\u001b[38;5;124;43mf\u001b[39;49m\u001b[38;5;124;43m'\u001b[39;49m\u001b[38;5;124;43mTRACE:Y? \u001b[39;49m\u001b[38;5;132;43;01m{\u001b[39;49;00m\u001b[43mtrace\u001b[49m\u001b[38;5;132;43;01m}\u001b[39;49;00m\u001b[38;5;124;43m'\u001b[39;49m\u001b[43m)\u001b[49m\u001b[38;5;241m.\u001b[39mstrip()\u001b[38;5;241m.\u001b[39msplit(\u001b[38;5;124m'\u001b[39m\u001b[38;5;124m,\u001b[39m\u001b[38;5;124m'\u001b[39m)\n\u001b[0;32m     93\u001b[0m     \u001b[38;5;28;01mreturn\u001b[39;00m np\u001b[38;5;241m.\u001b[39masarray(ydata_list, \u001b[38;5;124m'\u001b[39m\u001b[38;5;124mf\u001b[39m\u001b[38;5;124m'\u001b[39m)\n",
      "File \u001b[1;32mD:\\astrocomb\\KeckLFC-deploy\\Hardware\\Device.py:101\u001b[0m, in \u001b[0;36mDevice.query\u001b[1;34m(self, cmd)\u001b[0m\n\u001b[0;32m    100\u001b[0m \u001b[38;5;28;01mdef\u001b[39;00m \u001b[38;5;21mquery\u001b[39m(\u001b[38;5;28mself\u001b[39m, cmd):\n\u001b[1;32m--> 101\u001b[0m     \u001b[38;5;28;01mreturn\u001b[39;00m \u001b[38;5;28;43mself\u001b[39;49m\u001b[38;5;241;43m.\u001b[39;49m\u001b[43minst\u001b[49m\u001b[38;5;241;43m.\u001b[39;49m\u001b[43mquery\u001b[49m\u001b[43m(\u001b[49m\u001b[43mcmd\u001b[49m\u001b[43m)\u001b[49m\n",
      "File \u001b[1;32md:\\python\\envs\\research\\lib\\site-packages\\pyvisa\\resources\\messagebased.py:648\u001b[0m, in \u001b[0;36mMessageBasedResource.query\u001b[1;34m(self, message, delay)\u001b[0m\n\u001b[0;32m    645\u001b[0m \u001b[38;5;28;01mif\u001b[39;00m delay \u001b[38;5;241m>\u001b[39m \u001b[38;5;241m0.0\u001b[39m:\n\u001b[0;32m    646\u001b[0m     time\u001b[38;5;241m.\u001b[39msleep(delay)\n\u001b[1;32m--> 648\u001b[0m \u001b[38;5;28;01mreturn\u001b[39;00m \u001b[38;5;28;43mself\u001b[39;49m\u001b[38;5;241;43m.\u001b[39;49m\u001b[43mread\u001b[49m\u001b[43m(\u001b[49m\u001b[43m)\u001b[49m\n",
      "File \u001b[1;32md:\\python\\envs\\research\\lib\\site-packages\\pyvisa\\resources\\messagebased.py:486\u001b[0m, in \u001b[0;36mMessageBasedResource.read\u001b[1;34m(self, termination, encoding)\u001b[0m\n\u001b[0;32m    484\u001b[0m \u001b[38;5;28;01mif\u001b[39;00m termination \u001b[38;5;129;01mis\u001b[39;00m \u001b[38;5;28;01mNone\u001b[39;00m:\n\u001b[0;32m    485\u001b[0m     termination \u001b[38;5;241m=\u001b[39m \u001b[38;5;28mself\u001b[39m\u001b[38;5;241m.\u001b[39m_read_termination\n\u001b[1;32m--> 486\u001b[0m     message \u001b[38;5;241m=\u001b[39m \u001b[38;5;28;43mself\u001b[39;49m\u001b[38;5;241;43m.\u001b[39;49m\u001b[43m_read_raw\u001b[49m\u001b[43m(\u001b[49m\u001b[43m)\u001b[49m\u001b[38;5;241m.\u001b[39mdecode(enco)\n\u001b[0;32m    487\u001b[0m \u001b[38;5;28;01melse\u001b[39;00m:\n\u001b[0;32m    488\u001b[0m     \u001b[38;5;28;01mwith\u001b[39;00m \u001b[38;5;28mself\u001b[39m\u001b[38;5;241m.\u001b[39mread_termination_context(termination):\n",
      "File \u001b[1;32md:\\python\\envs\\research\\lib\\site-packages\\pyvisa\\resources\\messagebased.py:442\u001b[0m, in \u001b[0;36mMessageBasedResource._read_raw\u001b[1;34m(self, size)\u001b[0m\n\u001b[0;32m    435\u001b[0m     \u001b[38;5;28;01mwhile\u001b[39;00m status \u001b[38;5;241m==\u001b[39m loop_status:\n\u001b[0;32m    436\u001b[0m         logger\u001b[38;5;241m.\u001b[39mdebug(\n\u001b[0;32m    437\u001b[0m             \u001b[38;5;124m\"\u001b[39m\u001b[38;5;132;01m%s\u001b[39;00m\u001b[38;5;124m - reading \u001b[39m\u001b[38;5;132;01m%d\u001b[39;00m\u001b[38;5;124m bytes (last status \u001b[39m\u001b[38;5;132;01m%r\u001b[39;00m\u001b[38;5;124m)\u001b[39m\u001b[38;5;124m\"\u001b[39m,\n\u001b[0;32m    438\u001b[0m             \u001b[38;5;28mself\u001b[39m\u001b[38;5;241m.\u001b[39m_resource_name,\n\u001b[0;32m    439\u001b[0m             size,\n\u001b[0;32m    440\u001b[0m             status,\n\u001b[0;32m    441\u001b[0m         )\n\u001b[1;32m--> 442\u001b[0m         chunk, status \u001b[38;5;241m=\u001b[39m \u001b[38;5;28;43mself\u001b[39;49m\u001b[38;5;241;43m.\u001b[39;49m\u001b[43mvisalib\u001b[49m\u001b[38;5;241;43m.\u001b[39;49m\u001b[43mread\u001b[49m\u001b[43m(\u001b[49m\u001b[38;5;28;43mself\u001b[39;49m\u001b[38;5;241;43m.\u001b[39;49m\u001b[43msession\u001b[49m\u001b[43m,\u001b[49m\u001b[43m \u001b[49m\u001b[43msize\u001b[49m\u001b[43m)\u001b[49m\n\u001b[0;32m    443\u001b[0m         ret\u001b[38;5;241m.\u001b[39mextend(chunk)\n\u001b[0;32m    444\u001b[0m \u001b[38;5;28;01mexcept\u001b[39;00m errors\u001b[38;5;241m.\u001b[39mVisaIOError \u001b[38;5;28;01mas\u001b[39;00m e:\n",
      "File \u001b[1;32md:\\python\\envs\\research\\lib\\site-packages\\pyvisa\\ctwrapper\\functions.py:2337\u001b[0m, in \u001b[0;36mread\u001b[1;34m(library, session, count)\u001b[0m\n\u001b[0;32m   2335\u001b[0m buffer \u001b[38;5;241m=\u001b[39m create_string_buffer(count)\n\u001b[0;32m   2336\u001b[0m return_count \u001b[38;5;241m=\u001b[39m ViUInt32()\n\u001b[1;32m-> 2337\u001b[0m ret \u001b[38;5;241m=\u001b[39m \u001b[43mlibrary\u001b[49m\u001b[38;5;241;43m.\u001b[39;49m\u001b[43mviRead\u001b[49m\u001b[43m(\u001b[49m\u001b[43msession\u001b[49m\u001b[43m,\u001b[49m\u001b[43m \u001b[49m\u001b[43mbuffer\u001b[49m\u001b[43m,\u001b[49m\u001b[43m \u001b[49m\u001b[43mcount\u001b[49m\u001b[43m,\u001b[49m\u001b[43m \u001b[49m\u001b[43mbyref\u001b[49m\u001b[43m(\u001b[49m\u001b[43mreturn_count\u001b[49m\u001b[43m)\u001b[49m\u001b[43m)\u001b[49m\n\u001b[0;32m   2338\u001b[0m \u001b[38;5;28;01mreturn\u001b[39;00m buffer\u001b[38;5;241m.\u001b[39mraw[: return_count\u001b[38;5;241m.\u001b[39mvalue], ret\n",
      "File \u001b[1;32md:\\python\\envs\\research\\lib\\site-packages\\pyvisa\\ctwrapper\\highlevel.py:184\u001b[0m, in \u001b[0;36mIVIVisaLibrary._return_handler\u001b[1;34m(self, ret_value, func, arguments)\u001b[0m\n\u001b[0;32m    181\u001b[0m     \u001b[38;5;28;01mfor\u001b[39;00m method_name \u001b[38;5;129;01min\u001b[39;00m \u001b[38;5;28mgetattr\u001b[39m(\u001b[38;5;28mself\u001b[39m\u001b[38;5;241m.\u001b[39mlib, \u001b[38;5;124m\"\u001b[39m\u001b[38;5;124m_functions\u001b[39m\u001b[38;5;124m\"\u001b[39m, []):\n\u001b[0;32m    182\u001b[0m         \u001b[38;5;28msetattr\u001b[39m(\u001b[38;5;28mself\u001b[39m, method_name, \u001b[38;5;28mgetattr\u001b[39m(\u001b[38;5;28mself\u001b[39m\u001b[38;5;241m.\u001b[39mlib, method_name))\n\u001b[1;32m--> 184\u001b[0m \u001b[38;5;28;01mdef\u001b[39;00m \u001b[38;5;21m_return_handler\u001b[39m(\u001b[38;5;28mself\u001b[39m, ret_value: \u001b[38;5;28mint\u001b[39m, func: Callable, arguments: \u001b[38;5;28mtuple\u001b[39m) \u001b[38;5;241m-\u001b[39m\u001b[38;5;241m>\u001b[39m Any:\n\u001b[0;32m    185\u001b[0m     \u001b[38;5;124;03m\"\"\"Check return values for errors and warnings.\"\"\"\u001b[39;00m\n\u001b[0;32m    186\u001b[0m     logger\u001b[38;5;241m.\u001b[39mdebug(\n\u001b[0;32m    187\u001b[0m         \u001b[38;5;124m\"\u001b[39m\u001b[38;5;132;01m%s\u001b[39;00m\u001b[38;5;132;01m%s\u001b[39;00m\u001b[38;5;124m -> \u001b[39m\u001b[38;5;132;01m%r\u001b[39;00m\u001b[38;5;124m\"\u001b[39m,\n\u001b[0;32m    188\u001b[0m         func\u001b[38;5;241m.\u001b[39m\u001b[38;5;18m__name__\u001b[39m,\n\u001b[1;32m   (...)\u001b[0m\n\u001b[0;32m    191\u001b[0m         extra\u001b[38;5;241m=\u001b[39m\u001b[38;5;28mself\u001b[39m\u001b[38;5;241m.\u001b[39m_logging_extra,\n\u001b[0;32m    192\u001b[0m     )\n",
      "\u001b[1;31mKeyboardInterrupt\u001b[0m: "
     ]
    }
   ],
   "source": [
    "max_iterations=50\n",
    "step_size=0.1*2*np.pi\n",
    "tolerance=1e-3\n",
    "phase_array= y_phase\n",
    "best_score = score_spectrum(osa,x)\n",
    "\n",
    "for iteration in range(max_iterations):\n",
    "    step_size = step_size / (iteration//10 + 1)\n",
    "\n",
    "    for i in range(len(phase_array)):\n",
    "        # 保存当前相位值\n",
    "\n",
    "        original_phase = phase_array[i]\n",
    "        \n",
    "        phase_array[i] = phase_array[i] + step_size\n",
    "\n",
    "        phase_setting(wsp,x_hz,phase_array)\n",
    "\n",
    "        new_score = score_spectrum(osa,x)\n",
    "        \n",
    "        if new_score > best_score:\n",
    "            best_score = new_scores\n",
    "        else:\n",
    "            phase_array[i] = original_phase\n",
    "\n",
    "            original_phase = phase_array[i]\n",
    "\n",
    "        phase_array[i] = phase_array[i] - 2 * step_size\n",
    "\n",
    "        phase_setting(wsp,x_hz,phase_array)\n",
    "\n",
    "        new_score = score_spectrum(osa,x)\n",
    "        \n",
    "        if new_score > best_score:\n",
    "            best_score = new_score\n",
    "        else:\n",
    "            phase_array[i] = original_phase\n",
    "\n",
    "        print(f\"Iteration {iteration}, Phase {i}, step_size {step_size}, best_score {best_score}\")\n",
    "        \n",
    "    \n",
    "    # 检查是否收敛\n",
    "    if np.abs(new_score - best_score) < tolerance:\n",
    "        break"
   ]
  },
  {
   "cell_type": "code",
   "execution_count": 19,
   "metadata": {},
   "outputs": [
    {
     "data": {
      "text/plain": [
       "[<matplotlib.lines.Line2D at 0x1f2e021dae0>]"
      ]
     },
     "execution_count": 19,
     "metadata": {},
     "output_type": "execute_result"
    },
    {
     "data": {
      "image/png": "[encoded data removed]",
      "text/plain": [
       "<Figure size 640x480 with 1 Axes>"
      ]
     },
     "metadata": {},
     "output_type": "display_data"
    }
   ],
   "source": [
    "plt.plot(x_hz,phase_array)"
   ]
  },
  {
   "cell_type": "code",
   "execution_count": 20,
   "metadata": {},
   "outputs": [],
   "source": [
    "filename=r'D:\\astrocomb\\KeckLFC-deploy\\pulse_data' + f'\\cut{0}_disp_m5p7_optimize_phase1.npz'\n",
    "\n",
    "np.savez(filename, phase_array=phase_array)"
   ]
  },
  {
   "cell_type": "code",
   "execution_count": 23,
   "metadata": {},
   "outputs": [],
   "source": [
    "filename=r'D:\\astrocomb\\KeckLFC-deploy\\pulse_data' + f'\\cut{0}_disp_m5p7_optimize_xy1.npz'\n",
    "y=osa.get_Ydata('TRA')\n",
    "np.savez(filename, x=x, y=y)"
   ]
  },
  {
   "cell_type": "code",
   "execution_count": 24,
   "metadata": {},
   "outputs": [
    {
     "data": {
      "text/plain": [
       "[<matplotlib.lines.Line2D at 0x1f2e02afb20>]"
      ]
     },
     "execution_count": 24,
     "metadata": {},
     "output_type": "execute_result"
    },
    {
     "data": {
      "image/png": "[encoded data removed]",
      "text/plain": [
       "<Figure size 640x480 with 1 Axes>"
      ]
     },
     "metadata": {},
     "output_type": "display_data"
    }
   ],
   "source": [
    "plt.plot(x,y)"
   ]
  },
  {
   "cell_type": "code",
   "execution_count": null,
   "metadata": {},
   "outputs": [],
   "source": []
  },
  {
   "cell_type": "code",
   "execution_count": null,
   "metadata": {},
   "outputs": [],
   "source": []
  },
  {
   "cell_type": "code",
   "execution_count": null,
   "metadata": {},
   "outputs": [],
   "source": []
  },
  {
   "cell_type": "code",
   "execution_count": 80,
   "metadata": {},
   "outputs": [
    {
     "name": "stderr",
     "output_type": "stream",
     "text": [
      "\u001b[32m2024-06-23 11:50:20.650\u001b[0m | \u001b[1mINFO    \u001b[0m | \u001b[36mAndo OSA AQ6315E\u001b[0m | \u001b[36mDevice.py\u001b[0m:\u001b[36mdisconnect\u001b[0m:\u001b[36m90\u001b[0m\n",
      "\u001b[1mAndo OSA AQ6315E disconnected\u001b[0m\n"
     ]
    },
    {
     "data": {
      "text/plain": [
       "1"
      ]
     },
     "execution_count": 80,
     "metadata": {},
     "output_type": "execute_result"
    }
   ],
   "source": [
    "osa.disconnect()"
   ]
  },
  {
   "cell_type": "code",
   "execution_count": 1,
   "metadata": {},
   "outputs": [],
   "source": [
    "from wsapi import *"
   ]
  },
  {
   "cell_type": "code",
   "execution_count": 3,
   "metadata": {},
   "outputs": [],
   "source": [
    "os.chdir(r'D:\\astrocomb\\KeckLFC-deploy')"
   ]
  },
  {
   "cell_type": "code",
   "execution_count": 1,
   "metadata": {},
   "outputs": [
    {
     "name": "stderr",
     "output_type": "stream",
     "text": [
      "\u001b[32m2024-06-25 14:52:55.247\u001b[0m | \u001b[1mINFO    \u001b[0m | \u001b[36mDevice\u001b[0m | \u001b[36mDevice.py\u001b[0m:\u001b[36m<module>\u001b[0m:\u001b[36m51\u001b[0m\n",
      "\u001b[1mlogger initialized\u001b[0m\n",
      "\u001b[32m2024-06-25 14:52:55.857\u001b[0m | \u001b[1mINFO    \u001b[0m | \u001b[36mFinisar Waveshaper SN200157\u001b[0m | \u001b[36mDevice.py\u001b[0m:\u001b[36mconnect\u001b[0m:\u001b[36m78\u001b[0m\n",
      "\u001b[1mFinisar Waveshaper SN200157 connected\u001b[0m\n"
     ]
    },
    {
     "data": {
      "text/plain": [
       "1"
      ]
     },
     "execution_count": 1,
     "metadata": {},
     "output_type": "execute_result"
    }
   ],
   "source": [
    "import os\n",
    "os.chdir(r'D:\\astrocomb\\KeckLFC-deploy')\n",
    "\n",
    "from Hardware.Waveshaper import Waveshaper\n",
    "\n",
    "\n",
    "#wsp = Waveshaper(addr=f'ASRL{6}::INSTR')\n",
    "wsp = Waveshaper(addr='SN200157',WSname='Waveshaper')\n",
    "wsp.connect()"
   ]
  },
  {
   "cell_type": "code",
   "execution_count": 4,
   "metadata": {},
   "outputs": [],
   "source": [
    "import numpy as np\n",
    "x=np.arange(1553,1567,0.01)\n",
    "phase=wsp.give_2ndDisp_phase(x,d2=-5.7)"
   ]
  },
  {
   "cell_type": "code",
   "execution_count": 7,
   "metadata": {},
   "outputs": [],
   "source": [
    "aa=-5.7 * ((x - 1560) * 2 * np.pi)**2 / 2"
   ]
  },
  {
   "cell_type": "code",
   "execution_count": 53,
   "metadata": {},
   "outputs": [],
   "source": [
    "x_nm=np.arange(1553,1567,0.06)\n",
    "x_hz=wsp.nm2thz(x_nm)\n",
    "#x_freq = np.linspace(192.175-2, 192.175+2, 100)\n",
    "y_phase = ((x_hz-192.175) ** 2 * (2*np.pi) ** 2 * 1.3/2*-5.7)   #+ 0/((x_freq-192.3) ** 4 * (2*np.pi) ** 2 * 1.3/2+1)\n",
    "y_phase[50]=y_phase[50]-100\n",
    "\n",
    "wsp.set_interp_phase(x_hz, y_phase)\n",
    "wsp.setBandPass(center=192.174,span=4)\n",
    "wsp.plotStatus()\n",
    "wsp.writeProfile()"
   ]
  },
  {
   "cell_type": "code",
   "execution_count": 50,
   "metadata": {},
   "outputs": [],
   "source": [
    "x_hz=wsp.nm2thz(x_nm)"
   ]
  },
  {
   "cell_type": "code",
   "execution_count": 52,
   "metadata": {},
   "outputs": [
    {
     "data": {
      "text/plain": [
       "234"
      ]
     },
     "execution_count": 52,
     "metadata": {},
     "output_type": "execute_result"
    }
   ],
   "source": [
    "len(x_hz)"
   ]
  },
  {
   "cell_type": "code",
   "execution_count": 48,
   "metadata": {},
   "outputs": [],
   "source": [
    "x_nm=np.arange(1553,1567,0.06)"
   ]
  },
  {
   "cell_type": "code",
   "execution_count": 49,
   "metadata": {},
   "outputs": [
    {
     "data": {
      "text/plain": [
       "array([1553.  , 1553.06, 1553.12, 1553.18, 1553.24, 1553.3 , 1553.36,\n",
       "       1553.42, 1553.48, 1553.54, 1553.6 , 1553.66, 1553.72, 1553.78,\n",
       "       1553.84, 1553.9 , 1553.96, 1554.02, 1554.08, 1554.14, 1554.2 ,\n",
       "       1554.26, 1554.32, 1554.38, 1554.44, 1554.5 , 1554.56, 1554.62,\n",
       "       1554.68, 1554.74, 1554.8 , 1554.86, 1554.92, 1554.98, 1555.04,\n",
       "       1555.1 , 1555.16, 1555.22, 1555.28, 1555.34, 1555.4 , 1555.46,\n",
       "       1555.52, 1555.58, 1555.64, 1555.7 , 1555.76, 1555.82, 1555.88,\n",
       "       1555.94, 1556.  , 1556.06, 1556.12, 1556.18, 1556.24, 1556.3 ,\n",
       "       1556.36, 1556.42, 1556.48, 1556.54, 1556.6 , 1556.66, 1556.72,\n",
       "       1556.78, 1556.84, 1556.9 , 1556.96, 1557.02, 1557.08, 1557.14,\n",
       "       1557.2 , 1557.26, 1557.32, 1557.38, 1557.44, 1557.5 , 1557.56,\n",
       "       1557.62, 1557.68, 1557.74, 1557.8 , 1557.86, 1557.92, 1557.98,\n",
       "       1558.04, 1558.1 , 1558.16, 1558.22, 1558.28, 1558.34, 1558.4 ,\n",
       "       1558.46, 1558.52, 1558.58, 1558.64, 1558.7 , 1558.76, 1558.82,\n",
       "       1558.88, 1558.94, 1559.  , 1559.06, 1559.12, 1559.18, 1559.24,\n",
       "       1559.3 , 1559.36, 1559.42, 1559.48, 1559.54, 1559.6 , 1559.66,\n",
       "       1559.72, 1559.78, 1559.84, 1559.9 , 1559.96, 1560.02, 1560.08,\n",
       "       1560.14, 1560.2 , 1560.26, 1560.32, 1560.38, 1560.44, 1560.5 ,\n",
       "       1560.56, 1560.62, 1560.68, 1560.74, 1560.8 , 1560.86, 1560.92,\n",
       "       1560.98, 1561.04, 1561.1 , 1561.16, 1561.22, 1561.28, 1561.34,\n",
       "       1561.4 , 1561.46, 1561.52, 1561.58, 1561.64, 1561.7 , 1561.76,\n",
       "       1561.82, 1561.88, 1561.94, 1562.  , 1562.06, 1562.12, 1562.18,\n",
       "       1562.24, 1562.3 , 1562.36, 1562.42, 1562.48, 1562.54, 1562.6 ,\n",
       "       1562.66, 1562.72, 1562.78, 1562.84, 1562.9 , 1562.96, 1563.02,\n",
       "       1563.08, 1563.14, 1563.2 , 1563.26, 1563.32, 1563.38, 1563.44,\n",
       "       1563.5 , 1563.56, 1563.62, 1563.68, 1563.74, 1563.8 , 1563.86,\n",
       "       1563.92, 1563.98, 1564.04, 1564.1 , 1564.16, 1564.22, 1564.28,\n",
       "       1564.34, 1564.4 , 1564.46, 1564.52, 1564.58, 1564.64, 1564.7 ,\n",
       "       1564.76, 1564.82, 1564.88, 1564.94, 1565.  , 1565.06, 1565.12,\n",
       "       1565.18, 1565.24, 1565.3 , 1565.36, 1565.42, 1565.48, 1565.54,\n",
       "       1565.6 , 1565.66, 1565.72, 1565.78, 1565.84, 1565.9 , 1565.96,\n",
       "       1566.02, 1566.08, 1566.14, 1566.2 , 1566.26, 1566.32, 1566.38,\n",
       "       1566.44, 1566.5 , 1566.56, 1566.62, 1566.68, 1566.74, 1566.8 ,\n",
       "       1566.86, 1566.92, 1566.98])"
      ]
     },
     "execution_count": 49,
     "metadata": {},
     "output_type": "execute_result"
    }
   ],
   "source": [
    "x_nm"
   ]
  },
  {
   "cell_type": "code",
   "execution_count": 54,
   "metadata": {},
   "outputs": [
    {
     "name": "stderr",
     "output_type": "stream",
     "text": [
      "\u001b[32m2024-06-25 10:57:14.738\u001b[0m | \u001b[1mINFO    \u001b[0m | \u001b[36mFinisar Waveshaper SN200157\u001b[0m | \u001b[36mWaveshaper.py\u001b[0m:\u001b[36mset_interp_phase\u001b[0m:\u001b[36m117\u001b[0m\n",
      "\u001b[1mWaveshaper Set interp phase with center 192.17465256410256 THz.\u001b[0m\n",
      "\u001b[32m2024-06-25 10:57:14.739\u001b[0m | \u001b[1mINFO    \u001b[0m | \u001b[36mFinisar Waveshaper SN200157\u001b[0m | \u001b[36mWaveshaper.py\u001b[0m:\u001b[36msetBandPass\u001b[0m:\u001b[36m136\u001b[0m\n",
      "\u001b[1mWaveshaper Set atten to BandPass [190.174~194.174] THz ([1576.411~1543.937] nm).\u001b[0m\n",
      "\u001b[32m2024-06-25 10:57:15.405\u001b[0m | \u001b[1mINFO    \u001b[0m | \u001b[36mFinisar Waveshaper SN200157\u001b[0m | \u001b[36mWaveshaper.py\u001b[0m:\u001b[36mwriteProfile\u001b[0m:\u001b[36m235\u001b[0m\n",
      "\u001b[1mWaveshaper profile write successful.\u001b[0m\n"
     ]
    },
    {
     "data": {
      "image/png": "[encoded data removed]",
      "text/plain": [
       "<Figure size 900x600 with 4 Axes>"
      ]
     },
     "metadata": {},
     "output_type": "display_data"
    }
   ],
   "source": [
    "wsp.set_interp_phase(x_hz, y_phase)\n",
    "wsp.setBandPass(center=192.174,span=4)\n",
    "wsp.plotStatus()\n",
    "wsp.writeProfile()"
   ]
  },
  {
   "cell_type": "code",
   "execution_count": 2,
   "metadata": {},
   "outputs": [
    {
     "name": "stderr",
     "output_type": "stream",
     "text": [
      "\u001b[32m2024-06-25 14:53:01.395\u001b[0m | \u001b[1mINFO    \u001b[0m | \u001b[36mFinisar Waveshaper SN200157\u001b[0m | \u001b[36mWaveshaper.py\u001b[0m:\u001b[36mset3rdDisper\u001b[0m:\u001b[36m99\u001b[0m\n",
      "\u001b[1mWaveshaper Set 3rd disper with d2=-5.7 ps/nm, d3=0.0 ps/nm^2, center 192.17465256410256 THz.\u001b[0m\n"
     ]
    },
    {
     "data": {
      "image/png": "[encoded data removed]",
      "text/plain": [
       "<Figure size 900x600 with 4 Axes>"
      ]
     },
     "metadata": {},
     "output_type": "display_data"
    }
   ],
   "source": [
    "wsp.set3rdDisper(d2=-5.7,d3=0.)#6.3 -5.7\n",
    "wsp.setBandPass(center=192.174,span=4)\n",
    "wsp.plotStatus()\n",
    "wsp.writeProfile()"
   ]
  },
  {
   "cell_type": "code",
   "execution_count": 81,
   "metadata": {},
   "outputs": [
    {
     "name": "stderr",
     "output_type": "stream",
     "text": [
      "\u001b[32m2024-06-25 12:05:08.201\u001b[0m | \u001b[1mINFO    \u001b[0m | \u001b[36mFinisar Waveshaper SN200157\u001b[0m | \u001b[36mDevice.py\u001b[0m:\u001b[36mdisconnect\u001b[0m:\u001b[36m90\u001b[0m\n",
      "\u001b[1mFinisar Waveshaper SN200157 disconnected\u001b[0m\n"
     ]
    },
    {
     "data": {
      "text/plain": [
       "1"
      ]
     },
     "execution_count": 81,
     "metadata": {},
     "output_type": "execute_result"
    }
   ],
   "source": [
    "wsp.disconnect()"
   ]
  }
 ],
 "metadata": {
  "kernelspec": {
   "display_name": "lfc-env",
   "language": "python",
   "name": "python3"
  },
  "language_info": {
   "codemirror_mode": {
    "name": "ipython",
    "version": 3
   },
   "file_extension": ".py",
   "mimetype": "text/x-python",
   "name": "python",
   "nbconvert_exporter": "python",
   "pygments_lexer": "ipython3",
   "version": "3.10.6"
  }
 },
 "nbformat": 4,
 "nbformat_minor": 2
}
