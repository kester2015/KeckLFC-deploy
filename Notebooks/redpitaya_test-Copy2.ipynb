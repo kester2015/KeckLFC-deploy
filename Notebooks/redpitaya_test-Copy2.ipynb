{
 "cells": [
  {
   "cell_type": "code",
   "execution_count": 1,
   "id": "9cd4ad1b-4da1-48e4-94fb-193fd7bfb03b",
   "metadata": {},
   "outputs": [],
   "source": [
    "from LFC.Hardware import *\n",
    "import numpy as np\n",
    "# fg = FG('rp-f0602c.local')\n",
    "# rp_fc = RedPitaya('rp-f072a9.local')\n",
    "# fg.connect()\n",
    "\n",
    "\n",
    "# rp_fc.connect()\n",
    "# fin = lambda x: np.mean(rp_fc.acquire(port = 1))\n",
    "# fout = lambda y: rp_fc.dc(port = 2, offset = y)\n",
    "# fc_lock = Servo(fin, fout, name = 'Filter Cavity lock')"
   ]
  },
  {
   "cell_type": "code",
   "execution_count": 2,
   "id": "efe58dd8",
   "metadata": {},
   "outputs": [
    {
     "name": "stdout",
     "output_type": "stream",
     "text": [
      "Red Pitaya connected\n"
     ]
    },
    {
     "data": {
      "text/plain": [
       "1"
      ]
     },
     "execution_count": 2,
     "metadata": {},
     "output_type": "execute_result"
    }
   ],
   "source": [
    "# fg = FG('rp-f072ec.local')\n",
    "# fg.connect()\n",
    "\n",
    "rp_svo = RedPitaya('rp-f072ec.local')\n",
    "rp_svo.connect()"
   ]
  },
  {
   "cell_type": "code",
   "execution_count": 17,
   "id": "f3ab8fda",
   "metadata": {},
   "outputs": [
    {
     "data": {
      "text/plain": [
       "True"
      ]
     },
     "execution_count": 17,
     "metadata": {},
     "output_type": "execute_result"
    }
   ],
   "source": [
    "rp_svo.connected"
   ]
  },
  {
   "cell_type": "code",
   "execution_count": 5,
   "id": "b0f2c1f1",
   "metadata": {},
   "outputs": [
    {
     "data": {
      "text/plain": [
       "'ON'"
      ]
     },
     "execution_count": 5,
     "metadata": {},
     "output_type": "execute_result"
    }
   ],
   "source": [
    "rp_svo.signalGenerator(freq=1/10e-6, outEnable=True)"
   ]
  },
  {
   "cell_type": "code",
   "execution_count": 60,
   "id": "62336859",
   "metadata": {},
   "outputs": [
    {
     "data": {
      "text/plain": [
       "'ON'"
      ]
     },
     "execution_count": 60,
     "metadata": {},
     "output_type": "execute_result"
    }
   ],
   "source": [
    "rp_svo.signalGenerator(port=1, freq=500, outEnable=True)"
   ]
  },
  {
   "cell_type": "code",
   "execution_count": 59,
   "id": "6da322b1",
   "metadata": {},
   "outputs": [
    {
     "data": {
      "text/plain": [
       "'ON'"
      ]
     },
     "execution_count": 59,
     "metadata": {},
     "output_type": "execute_result"
    }
   ],
   "source": [
    "rp_svo.signalGenerator(port=1, func='DC', amp=0.0 ,offset=0.5, outEnable=True)"
   ]
  },
  {
   "cell_type": "code",
   "execution_count": 94,
   "id": "dc3fa921",
   "metadata": {},
   "outputs": [],
   "source": [
    "rp_svo.dc(port=1, offset=1)"
   ]
  },
  {
   "cell_type": "code",
   "execution_count": 191,
   "id": "66cb8193",
   "metadata": {},
   "outputs": [
    {
     "ename": "ConnectionResetError",
     "evalue": "[WinError 10054] An existing connection was forcibly closed by the remote host",
     "output_type": "error",
     "traceback": [
      "\u001b[1;31m---------------------------------------------------------------------------\u001b[0m",
      "\u001b[1;31mConnectionResetError\u001b[0m                      Traceback (most recent call last)",
      "Input \u001b[1;32mIn [191]\u001b[0m, in \u001b[0;36m<cell line: 2>\u001b[1;34m()\u001b[0m\n\u001b[0;32m      1\u001b[0m \u001b[38;5;28;01mimport\u001b[39;00m \u001b[38;5;21;01mmatplotlib\u001b[39;00m\u001b[38;5;21;01m.\u001b[39;00m\u001b[38;5;21;01mpyplot\u001b[39;00m \u001b[38;5;28;01mas\u001b[39;00m \u001b[38;5;21;01mplt\u001b[39;00m\n\u001b[1;32m----> 2\u001b[0m plt\u001b[38;5;241m.\u001b[39mplot(\u001b[43mrp_svo\u001b[49m\u001b[38;5;241;43m.\u001b[39;49m\u001b[43macquire\u001b[49m\u001b[43m(\u001b[49m\u001b[43mport\u001b[49m\u001b[38;5;241;43m=\u001b[39;49m\u001b[38;5;241;43m1\u001b[39;49m\u001b[43m)\u001b[49m)\n",
      "File \u001b[1;32mZ:\\Maodong\\Projects\\Keck\\Keck Comb\\LFC\\Hardware\\RedPitaya.py:58\u001b[0m, in \u001b[0;36mRedPitaya.acquire\u001b[1;34m(self, port)\u001b[0m\n\u001b[0;32m     56\u001b[0m \u001b[38;5;28;01mwhile\u001b[39;00m \u001b[38;5;241m1\u001b[39m:\n\u001b[0;32m     57\u001b[0m     \u001b[38;5;28mself\u001b[39m\u001b[38;5;241m.\u001b[39mwrite(\u001b[38;5;124m'\u001b[39m\u001b[38;5;124mACQ:TRIG:STAT?\u001b[39m\u001b[38;5;124m'\u001b[39m)\n\u001b[1;32m---> 58\u001b[0m     \u001b[38;5;28;01mif\u001b[39;00m \u001b[38;5;28;43mself\u001b[39;49m\u001b[38;5;241;43m.\u001b[39;49m\u001b[43mread\u001b[49m\u001b[43m(\u001b[49m\u001b[43m)\u001b[49m \u001b[38;5;241m==\u001b[39m \u001b[38;5;124m'\u001b[39m\u001b[38;5;124mTD\u001b[39m\u001b[38;5;124m'\u001b[39m:\n\u001b[0;32m     59\u001b[0m         \u001b[38;5;28;01mbreak\u001b[39;00m\n\u001b[0;32m     61\u001b[0m \u001b[38;5;28mself\u001b[39m\u001b[38;5;241m.\u001b[39mwrite(\u001b[38;5;124mf\u001b[39m\u001b[38;5;124m'\u001b[39m\u001b[38;5;124mACQ:SOUR\u001b[39m\u001b[38;5;132;01m{\u001b[39;00mport\u001b[38;5;132;01m}\u001b[39;00m\u001b[38;5;124m:DATA?\u001b[39m\u001b[38;5;124m'\u001b[39m)\n",
      "File \u001b[1;32mZ:\\Maodong\\Projects\\Keck\\Keck Comb\\LFC\\Hardware\\RedPitaya.py:28\u001b[0m, in \u001b[0;36mRedPitaya.read\u001b[1;34m(self)\u001b[0m\n\u001b[0;32m     27\u001b[0m \u001b[38;5;28;01mdef\u001b[39;00m \u001b[38;5;21mread\u001b[39m(\u001b[38;5;28mself\u001b[39m):\n\u001b[1;32m---> 28\u001b[0m     \u001b[38;5;28;01mreturn\u001b[39;00m \u001b[38;5;28;43mself\u001b[39;49m\u001b[38;5;241;43m.\u001b[39;49m\u001b[43minst\u001b[49m\u001b[38;5;241;43m.\u001b[39;49m\u001b[43mrx_txt\u001b[49m\u001b[43m(\u001b[49m\u001b[43m)\u001b[49m\n",
      "File \u001b[1;32mZ:\\Maodong\\Projects\\Keck\\Keck Comb\\LFC\\Hardware\\RedPitaya.py:311\u001b[0m, in \u001b[0;36mscpi.rx_txt\u001b[1;34m(self, chunksize)\u001b[0m\n\u001b[0;32m    309\u001b[0m msg \u001b[38;5;241m=\u001b[39m \u001b[38;5;124m'\u001b[39m\u001b[38;5;124m'\u001b[39m\n\u001b[0;32m    310\u001b[0m \u001b[38;5;28;01mwhile\u001b[39;00m \u001b[38;5;241m1\u001b[39m:\n\u001b[1;32m--> 311\u001b[0m     chunk \u001b[38;5;241m=\u001b[39m \u001b[38;5;28;43mself\u001b[39;49m\u001b[38;5;241;43m.\u001b[39;49m\u001b[43m_socket\u001b[49m\u001b[38;5;241;43m.\u001b[39;49m\u001b[43mrecv\u001b[49m\u001b[43m(\u001b[49m\u001b[43mchunksize\u001b[49m\u001b[43m \u001b[49m\u001b[38;5;241;43m+\u001b[39;49m\u001b[43m \u001b[49m\u001b[38;5;28;43mlen\u001b[39;49m\u001b[43m(\u001b[49m\u001b[38;5;28;43mself\u001b[39;49m\u001b[38;5;241;43m.\u001b[39;49m\u001b[43mdelimiter\u001b[49m\u001b[43m)\u001b[49m\u001b[43m)\u001b[49m\u001b[38;5;241m.\u001b[39mdecode(\n\u001b[0;32m    312\u001b[0m         \u001b[38;5;124m'\u001b[39m\u001b[38;5;124mutf-8\u001b[39m\u001b[38;5;124m'\u001b[39m)  \u001b[38;5;66;03m# Receive chunk size of 2^n preferably\u001b[39;00m\n\u001b[0;32m    313\u001b[0m     msg \u001b[38;5;241m+\u001b[39m\u001b[38;5;241m=\u001b[39m chunk\n\u001b[0;32m    314\u001b[0m     \u001b[38;5;28;01mif\u001b[39;00m (\u001b[38;5;28mlen\u001b[39m(chunk) \u001b[38;5;129;01mand\u001b[39;00m chunk[\u001b[38;5;241m-\u001b[39m\u001b[38;5;241m2\u001b[39m:] \u001b[38;5;241m==\u001b[39m \u001b[38;5;28mself\u001b[39m\u001b[38;5;241m.\u001b[39mdelimiter):\n",
      "\u001b[1;31mConnectionResetError\u001b[0m: [WinError 10054] An existing connection was forcibly closed by the remote host"
     ]
    }
   ],
   "source": [
    "import matplotlib.pyplot as plt\n",
    "plt.plot(rp_svo.acquire(port=1))"
   ]
  },
  {
   "cell_type": "code",
   "execution_count": 104,
   "id": "d101772f",
   "metadata": {},
   "outputs": [],
   "source": [
    "out1 = np.linspace(-1,1,21)\n",
    "detect1 = np.zeros(21)\n",
    "for ii,V in enumerate(out1):\n",
    "    rp_svo.dc(port=1, offset=V)\n",
    "    detect1[ii] = np.mean(rp_svo.acquire(port = 1))"
   ]
  },
  {
   "cell_type": "code",
   "execution_count": 106,
   "id": "593327e2",
   "metadata": {},
   "outputs": [
    {
     "data": {
      "text/plain": [
       "[<matplotlib.lines.Line2D at 0x2830b1f07c0>]"
      ]
     },
     "execution_count": 106,
     "metadata": {},
     "output_type": "execute_result"
    },
    {
     "data": {
      "image/png": "[encoded data removed]",
      "text/plain": [
       "<Figure size 432x288 with 1 Axes>"
      ]
     },
     "metadata": {
      "needs_background": "light"
     },
     "output_type": "display_data"
    }
   ],
   "source": [
    "plt.plot(out1,detect1)"
   ]
  },
  {
   "cell_type": "code",
   "execution_count": 30,
   "id": "decb5cdc",
   "metadata": {},
   "outputs": [],
   "source": [
    "rp_svo.startosc(port=1)"
   ]
  },
  {
   "cell_type": "code",
   "execution_count": 134,
   "id": "1cf28526",
   "metadata": {},
   "outputs": [],
   "source": [
    "fin = lambda x: np.mean(rp_svo.acquire(port = 1))\n",
    "fout = lambda y: rp_svo.dc(port = 1, offset = y)\n",
    "fc_lock = Servo(fin, fout, name = 'Filter Cavity lock')\n",
    "fc_lock.P = 0.05\n"
   ]
  },
  {
   "cell_type": "code",
   "execution_count": 135,
   "id": "4c115344",
   "metadata": {},
   "outputs": [
    {
     "name": "stdout",
     "output_type": "stream",
     "text": [
      "Filter Cavity lock started\n"
     ]
    },
    {
     "data": {
      "image/png": "[encoded data removed]",
      "text/plain": [
       "<Figure size 432x288 with 1 Axes>"
      ]
     },
     "metadata": {
      "needs_background": "light"
     },
     "output_type": "display_data"
    }
   ],
   "source": [
    "# fc_lock.start(0.3, -0.8, [-1,1])\n",
    "fc_lock.start(0.5, 0, [-1,1])"
   ]
  },
  {
   "cell_type": "code",
   "execution_count": 189,
   "id": "d1e0d9e5",
   "metadata": {},
   "outputs": [
    {
     "data": {
      "image/png": "[encoded data removed]",
      "text/plain": [
       "<Figure size 432x288 with 1 Axes>"
      ]
     },
     "metadata": {},
     "output_type": "display_data"
    },
    {
     "name": "stdout",
     "output_type": "stream",
     "text": [
      "Locked:True, x:0.5034670996592467, y:0.8463663001572767\n"
     ]
    }
   ],
   "source": [
    "fc_lock.plot()"
   ]
  },
  {
   "cell_type": "code",
   "execution_count": 190,
   "id": "255985ca",
   "metadata": {},
   "outputs": [
    {
     "name": "stdout",
     "output_type": "stream",
     "text": [
      "Filter Cavity lock stoped\n"
     ]
    }
   ],
   "source": [
    "fc_lock.stop()"
   ]
  },
  {
   "cell_type": "code",
   "execution_count": 113,
   "id": "9537a738",
   "metadata": {},
   "outputs": [],
   "source": [
    "class Tolock_dummy(object):\n",
    "    def __init__(self):\n",
    "        self.x = 0\n",
    "        \n",
    "    @property\n",
    "    def y(self):\n",
    "        return self.x-0.4\n",
    "    \n",
    "    def set_x(self,x):\n",
    "        self.x = x\n",
    "        \n",
    "H = Tolock_dummy()"
   ]
  },
  {
   "cell_type": "code",
   "execution_count": 127,
   "id": "baff0a9a",
   "metadata": {},
   "outputs": [],
   "source": [
    "fin_dummy = lambda x: H.y\n",
    "fout_dummy = lambda y: H.set_x(y)\n",
    "fc_lock_dummy = Servo(fin_dummy, fout_dummy, name = 'Dummy lock test')"
   ]
  },
  {
   "cell_type": "code",
   "execution_count": 132,
   "id": "a589e809",
   "metadata": {},
   "outputs": [
    {
     "name": "stdout",
     "output_type": "stream",
     "text": [
      "Dummy lock test started\n"
     ]
    },
    {
     "data": {
      "image/png": "[encoded data removed]",
      "text/plain": [
       "<Figure size 432x288 with 1 Axes>"
      ]
     },
     "metadata": {
      "needs_background": "light"
     },
     "output_type": "display_data"
    }
   ],
   "source": [
    "fc_lock_dummy.P = 0.05\n",
    "\n",
    "fc_lock_dummy.start(0.5, 0, [-1,1])\n",
    "\n"
   ]
  },
  {
   "cell_type": "code",
   "execution_count": 133,
   "id": "474928b5",
   "metadata": {},
   "outputs": [
    {
     "data": {
      "image/png": "[encoded data removed]",
      "text/plain": [
       "<Figure size 432x288 with 1 Axes>"
      ]
     },
     "metadata": {},
     "output_type": "display_data"
    },
    {
     "name": "stdout",
     "output_type": "stream",
     "text": [
      "Locked:False, x:0.4951910501407838, y:0.8954314976337446\n"
     ]
    }
   ],
   "source": [
    "fc_lock_dummy.plot()"
   ]
  },
  {
   "cell_type": "code",
   "execution_count": 131,
   "id": "ef49818b",
   "metadata": {},
   "outputs": [
    {
     "name": "stdout",
     "output_type": "stream",
     "text": [
      "Dummy lock test stoped\n",
      "0.8999999999951874\n"
     ]
    }
   ],
   "source": [
    "fc_lock_dummy.stop()\n",
    "print(H.x)\n",
    "H.x = 0"
   ]
  },
  {
   "cell_type": "code",
   "execution_count": 99,
   "id": "2d7615fc",
   "metadata": {},
   "outputs": [
    {
     "data": {
      "text/plain": [
       "0.6"
      ]
     },
     "execution_count": 99,
     "metadata": {},
     "output_type": "execute_result"
    }
   ],
   "source": [
    "H.set_x(0.6)\n",
    "H.x"
   ]
  },
  {
   "cell_type": "code",
   "execution_count": 98,
   "id": "34ad743e",
   "metadata": {},
   "outputs": [
    {
     "name": "stdout",
     "output_type": "stream",
     "text": [
      "0.4\n"
     ]
    },
    {
     "data": {
      "text/plain": [
       "<bound method Thread.start of <Thread(Thread-10, initial)>>"
      ]
     },
     "execution_count": 98,
     "metadata": {},
     "output_type": "execute_result"
    }
   ],
   "source": [
    "import threading\n",
    "def print_Hx(H):\n",
    "    print(H.x)\n",
    "    \n",
    "x = threading.Thread(print_Hx(H))\n",
    "x.start"
   ]
  },
  {
   "cell_type": "code",
   "execution_count": null,
   "id": "e4aae08c",
   "metadata": {},
   "outputs": [],
   "source": []
  },
  {
   "cell_type": "code",
   "execution_count": 7,
   "id": "de328614",
   "metadata": {},
   "outputs": [
    {
     "name": "stderr",
     "output_type": "stream",
     "text": [
      "Exception in thread Thread-5 (osc):\n",
      "Traceback (most recent call last):\n",
      "  File \"C:\\Users\\Maodong\\Anaconda3\\envs\\lfc-env\\lib\\threading.py\", line 1009, in _bootstrap_inner\n",
      "    self.run()\n",
      "  File \"C:\\Users\\Maodong\\Anaconda3\\envs\\lfc-env\\lib\\threading.py\", line 946, in run\n",
      "    self._target(*self._args, **self._kwargs)\n",
      "  File \"Z:\\Maodong\\Projects\\Keck\\Keck Comb\\LFC\\Hardware\\RedPitaya.py\", line 81, in osc\n",
      "    y = self.acquire(port)\n",
      "  File \"Z:\\Maodong\\Projects\\Keck\\Keck Comb\\LFC\\Hardware\\RedPitaya.py\", line 58, in acquire\n",
      "    if self.read() == 'TD':\n",
      "  File \"Z:\\Maodong\\Projects\\Keck\\Keck Comb\\LFC\\Hardware\\RedPitaya.py\", line 28, in read\n",
      "    return self.inst.rx_txt()\n",
      "  File \"Z:\\Maodong\\Projects\\Keck\\Keck Comb\\LFC\\Hardware\\RedPitaya.py\", line 311, in rx_txt\n",
      "    chunk = self._socket.recv(chunksize + len(self.delimiter)).decode(\n",
      "TimeoutError: timed out\n"
     ]
    }
   ],
   "source": [
    "rp_svo.stoposc()"
   ]
  },
  {
   "cell_type": "code",
   "execution_count": 16,
   "id": "7c07b23e",
   "metadata": {},
   "outputs": [
    {
     "data": {
      "image/png": "[encoded data removed]",
      "text/plain": [
       "<Figure size 383.82x248.84 with 1 Axes>"
      ]
     },
     "metadata": {},
     "output_type": "display_data"
    }
   ],
   "source": []
  }
 ],
 "metadata": {
  "kernelspec": {
   "display_name": "Python 3 (ipykernel)",
   "language": "python",
   "name": "python3"
  },
  "language_info": {
   "codemirror_mode": {
    "name": "ipython",
    "version": 3
   },
   "file_extension": ".py",
   "mimetype": "text/x-python",
   "name": "python",
   "nbconvert_exporter": "python",
   "pygments_lexer": "ipython3",
   "version": "3.10.4"
  }
 },
 "nbformat": 4,
 "nbformat_minor": 5
}
