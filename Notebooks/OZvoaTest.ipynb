{
 "cells": [
  {
   "cell_type": "code",
   "execution_count": 1,
   "id": "c853668a-7ef8-4fe7-a505-613126f25a22",
   "metadata": {},
   "outputs": [],
   "source": [
    "from LFC.Hardware.OZopticsVOA import OZopticsVOA"
   ]
  },
  {
   "cell_type": "code",
   "execution_count": 2,
   "id": "2ec95f70-f547-4ce3-96da-970875d3ce6d",
   "metadata": {},
   "outputs": [
    {
     "name": "stdout",
     "output_type": "stream",
     "text": [
      "OZoptics VOA connected\n"
     ]
    },
    {
     "data": {
      "text/plain": [
       "1"
      ]
     },
     "execution_count": 2,
     "metadata": {},
     "output_type": "execute_result"
    }
   ],
   "source": [
    "voa = OZopticsVOA(addr=\"ASRL23::INSTR\")\n",
    "voa.connect()"
   ]
  },
  {
   "cell_type": "code",
   "execution_count": 10,
   "id": "cd36666c-d990-47d8-83ee-30b1b8850585",
   "metadata": {},
   "outputs": [
    {
     "name": "stdout",
     "output_type": "stream",
     "text": [
      "OZoptics VOA: VOA attenuation setted to 0.00 dB.\n"
     ]
    }
   ],
   "source": [
    "voa.atten_db = 0\n",
    "# voa.printStatus()"
   ]
  },
  {
   "cell_type": "code",
   "execution_count": 36,
   "id": "b65c6a10-3fc5-4c7e-8af8-c4cba6deed4f",
   "metadata": {},
   "outputs": [
    {
     "name": "stdout",
     "output_type": "stream",
     "text": [
      "OZoptics VOA connected\n"
     ]
    },
    {
     "data": {
      "text/plain": [
       "1"
      ]
     },
     "execution_count": 36,
     "metadata": {},
     "output_type": "execute_result"
    }
   ],
   "source": [
    "voa2 = OZopticsVOA(addr='ASRL4::INSTR')\n",
    "voa2.connect()"
   ]
  },
  {
   "cell_type": "code",
   "execution_count": 37,
   "id": "8f70e339-c3ad-466e-a491-54ce1ace344f",
   "metadata": {},
   "outputs": [
    {
     "name": "stdout",
     "output_type": "stream",
     "text": [
      "DD100MC \n",
      "V6.4\n",
      "NO:303700-01\n",
      "MAX ATTEN:61.00\n",
      "OVERSHOOT:-30\n",
      "CALIB:FEB-22-2022\n",
      "GEAR RATIO:485:1\n",
      "MOTOR VOLT:5V\n",
      "MINTERVAL(MS):0.90\n",
      "IL:0.00\n",
      "WAVELENGTH:1550\n",
      "I2C ADDRESS:64\n",
      "W0 1550\n",
      "\n"
     ]
    }
   ],
   "source": [
    "print(voa2._getConfigStr())"
   ]
  },
  {
   "cell_type": "code",
   "execution_count": 68,
   "id": "258c113d-6575-49af-99a4-633585ac22fc",
   "metadata": {},
   "outputs": [
    {
     "name": "stdout",
     "output_type": "stream",
     "text": [
      "OZoptics VOA: VOA attenuation setted to 0.00 dB.\n",
      "----------------------------------OZoptics VOA----------------------------------\n",
      "--------------------------OZ optics VOA Status Summary--------------------------\n",
      "|\t Attenuation: 0.00 (dB)\n",
      "|\t Device Configure String:\n",
      "|\t\tDD100MC \n",
      "|\t\tV6.4\n",
      "|\t\tNO:303700-01\n",
      "|\t\tMAX ATTEN:61.00\n",
      "|\t\tOVERSHOOT:-30\n",
      "|\t\tCALIB:FEB-22-2022\n",
      "|\t\tGEAR RATIO:485:1\n",
      "|\t\tMOTOR VOLT:5V\n",
      "|\t\tMINTERVAL(MS):0.90\n",
      "|\t\tIL:0.00\n",
      "|\t\tWAVELENGTH:1550\n",
      "|\t\tI2C ADDRESS:64\n",
      "|\t\tW0 1550-----------------------OZ optics VOA Status Summary Ends------------------------\n",
      "\n"
     ]
    },
    {
     "data": {
      "text/plain": [
       "'----------------------------------OZoptics VOA----------------------------------\\n--------------------------OZ optics VOA Status Summary--------------------------\\n|\\t Attenuation: 0.00 (dB)\\n|\\t Device Configure String:\\n|\\t\\tDD100MC \\n|\\t\\tV6.4\\n|\\t\\tNO:303700-01\\n|\\t\\tMAX ATTEN:61.00\\n|\\t\\tOVERSHOOT:-30\\n|\\t\\tCALIB:FEB-22-2022\\n|\\t\\tGEAR RATIO:485:1\\n|\\t\\tMOTOR VOLT:5V\\n|\\t\\tMINTERVAL(MS):0.90\\n|\\t\\tIL:0.00\\n|\\t\\tWAVELENGTH:1550\\n|\\t\\tI2C ADDRESS:64\\n|\\t\\tW0 1550-----------------------OZ optics VOA Status Summary Ends------------------------\\n'"
      ]
     },
     "execution_count": 68,
     "metadata": {},
     "output_type": "execute_result"
    }
   ],
   "source": [
    "voa2._setAttenStr(atten_db=0)\n",
    "voa2._getAttenStr()\n",
    "voa2.printStatus()"
   ]
  },
  {
   "cell_type": "code",
   "execution_count": 45,
   "id": "57f477f1-4774-4578-8e5d-8c2a9ddc0fa9",
   "metadata": {},
   "outputs": [
    {
     "data": {
      "text/plain": [
       "'DD100MC '"
      ]
     },
     "execution_count": 45,
     "metadata": {},
     "output_type": "execute_result"
    }
   ],
   "source": [
    "voa2._getConfigStr().split('\\n')[0]"
   ]
  },
  {
   "cell_type": "code",
   "execution_count": 46,
   "id": "aa4b6d72-0e8c-492b-bf5a-679f693b0dd1",
   "metadata": {},
   "outputs": [
    {
     "data": {
      "text/plain": [
       "['DD100MC ',\n",
       " 'V6.4',\n",
       " 'NO:303700-01',\n",
       " 'MAX ATTEN:61.00',\n",
       " 'OVERSHOOT:-30',\n",
       " 'CALIB:FEB-22-2022',\n",
       " 'GEAR RATIO:485:1',\n",
       " 'MOTOR VOLT:5V',\n",
       " 'MINTERVAL(MS):0.90',\n",
       " 'IL:0.00',\n",
       " 'WAVELENGTH:1550',\n",
       " 'I2C ADDRESS:64',\n",
       " 'W0 1550',\n",
       " '']"
      ]
     },
     "execution_count": 46,
     "metadata": {},
     "output_type": "execute_result"
    }
   ],
   "source": [
    "voa2._getConfigStr().split('\\n')"
   ]
  },
  {
   "cell_type": "code",
   "execution_count": 57,
   "id": "538d614c-221e-498a-866a-e9f8cdae0185",
   "metadata": {},
   "outputs": [
    {
     "data": {
      "text/plain": [
       "'MAX ATTEN:55.00'"
      ]
     },
     "execution_count": 57,
     "metadata": {},
     "output_type": "execute_result"
    }
   ],
   "source": [
    "import numpy as np\n",
    "voa._getConfigStr().split('\\n')[np.where([s.startswith('MAX ATTEN') for s in voa._getConfigStr().split('\\n')])[0][0]]"
   ]
  },
  {
   "cell_type": "code",
   "execution_count": 67,
   "id": "89a5f622-9580-44c5-b428-b8aa4516c56a",
   "metadata": {},
   "outputs": [
    {
     "data": {
      "text/plain": [
       "0.0"
      ]
     },
     "execution_count": 67,
     "metadata": {},
     "output_type": "execute_result"
    }
   ],
   "source": [
    "float(voa._getAttenStr().replace('(',':').split((':'))[1])"
   ]
  },
  {
   "cell_type": "code",
   "execution_count": 69,
   "id": "75f24c51-1278-48e9-b470-95101411ed01",
   "metadata": {},
   "outputs": [
    {
     "name": "stdout",
     "output_type": "stream",
     "text": [
      "DD100MC\n",
      "|\tV6.2a\n",
      "|\tNO:303699-01\n",
      "|\tMAX ATTEN:55.00\n",
      "|\tOVERSHOOT:-30\n",
      "|\tCALIB:MAR-02-2022\n",
      "|\tGEAR RATIO:485:1\n",
      "|\tMINTERVAL(MS):0.90\n",
      "|\tMOTOR VOLT:5\n",
      "|\tIL:0.00\n",
      "|\tWAVELENGTH:2000\n",
      "|\tI2C ADDRESS:64\n",
      "|\tW0 2000\n"
     ]
    }
   ],
   "source": [
    "print(voa._getConfigStr()[:-1].replace('\\n','\\n|\\t'))"
   ]
  },
  {
   "cell_type": "code",
   "execution_count": null,
   "id": "15dff2f0-f54c-44f4-8dc2-3056fd5f30f3",
   "metadata": {},
   "outputs": [],
   "source": []
  }
 ],
 "metadata": {
  "kernelspec": {
   "display_name": "Python 3 (ipykernel)",
   "language": "python",
   "name": "python3"
  },
  "language_info": {
   "codemirror_mode": {
    "name": "ipython",
    "version": 3
   },
   "file_extension": ".py",
   "mimetype": "text/x-python",
   "name": "python",
   "nbconvert_exporter": "python",
   "pygments_lexer": "ipython3",
   "version": "3.8.12"
  }
 },
 "nbformat": 4,
 "nbformat_minor": 5
}
