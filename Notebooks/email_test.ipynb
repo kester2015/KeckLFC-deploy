{
 "cells": [
  {
   "cell_type": "code",
   "execution_count": 1,
   "metadata": {},
   "outputs": [
    {
     "name": "stdout",
     "output_type": "stream",
     "text": [
      "Name: pywin32\n",
      "Version: 303\n",
      "Summary: Python for Window Extensions\n",
      "Home-page: https://github.com/mhammond/pywin32\n",
      "Author: Mark Hammond (et al)\n",
      "Author-email: mhammond@skippinet.com.au\n",
      "License: PSF\n",
      "Location: c:\\users\\hsflfc\\.conda\\envs\\lfc\\lib\\site-packages\n",
      "Requires: \n",
      "Required-by: jupyter-core\n"
     ]
    }
   ],
   "source": [
    "!pip show pywin32"
   ]
  },
  {
   "cell_type": "code",
   "execution_count": 1,
   "metadata": {},
   "outputs": [
    {
     "name": "stderr",
     "output_type": "stream",
     "text": [
      "\u001b[32m2023-07-22 21:51:27.290\u001b[0m | \u001b[1mINFO    \u001b[0m | \u001b[36mDevice\u001b[0m | \u001b[36mDevice.py\u001b[0m:\u001b[36m<module>\u001b[0m:\u001b[36m44\u001b[0m\n",
      "\u001b[1mlogger initialized\u001b[0m\n",
      "\u001b[32m2023-07-22 21:51:28.964\u001b[0m | \u001b[1mINFO    \u001b[0m | \u001b[36mAgilent 86142B\u001b[0m | \u001b[36mDevice.py\u001b[0m:\u001b[36mconnect\u001b[0m:\u001b[36m71\u001b[0m\n",
      "\u001b[1mAgilent 86142B connected\u001b[0m\n"
     ]
    },
    {
     "data": {
      "text/plain": [
       "1"
      ]
     },
     "execution_count": 1,
     "metadata": {},
     "output_type": "execute_result"
    }
   ],
   "source": [
    "from LFC.Hardware.Agilent_86142B import Agilent_86142B\n",
    "osa = Agilent_86142B('GPIB0::30::INSTR')\n",
    "osa.connect()"
   ]
  },
  {
   "cell_type": "code",
   "execution_count": 2,
   "metadata": {},
   "outputs": [
    {
     "data": {
      "image/png": "[encoded data removed]",
      "text/plain": [
       "<Figure size 432x288 with 1 Axes>"
      ]
     },
     "metadata": {
      "needs_background": "light"
     },
     "output_type": "display_data"
    },
    {
     "name": "stderr",
     "output_type": "stream",
     "text": [
      "\u001b[32m2023-07-22 21:51:44.176\u001b[0m | \u001b[1mINFO    \u001b[0m | \u001b[36mAgilent 86142B\u001b[0m | \u001b[36mAgilent_86142B.py\u001b[0m:\u001b[36mget_trace\u001b[0m:\u001b[36m327\u001b[0m\n",
      "\u001b[1mAgilent 86142B: Trace A data is collected and is shown in the plot.\u001b[0m\n"
     ]
    },
    {
     "data": {
      "text/plain": [
       "(array([1554.   , 1554.013, 1554.026, ..., 1566.974, 1566.987, 1567.   ],\n",
       "       dtype=float32),\n",
       " array([-80.93289, -81.02192, -79.13659, ..., -81.08772, -82.0461 ,\n",
       "        -84.93116], dtype=float32))"
      ]
     },
     "execution_count": 2,
     "metadata": {},
     "output_type": "execute_result"
    }
   ],
   "source": [
    "osa.get_trace('a')"
   ]
  },
  {
   "cell_type": "code",
   "execution_count": 12,
   "metadata": {},
   "outputs": [],
   "source": [
    "import win32com.client\n",
    "ol = win32com.client.Dispatch('Outlook.Application')\n"
   ]
  },
  {
   "cell_type": "code",
   "execution_count": 2,
   "metadata": {},
   "outputs": [
    {
     "name": "stdout",
     "output_type": "stream",
     "text": [
      "Email sent 1 times.\n",
      "Email sent 2 times.\n",
      "Email sent 3 times.\n",
      "Email sent 4 times.\n",
      "Email sent 5 times.\n",
      "Email sent 6 times.\n",
      "Email sent 7 times.\n",
      "Email sent 8 times.\n",
      "Email sent 9 times.\n",
      "Email sent 10 times.\n",
      "Email sent 11 times.\n",
      "Email sent 12 times.\n",
      "Email sent 13 times.\n",
      "Email sent 14 times.\n",
      "Email sent 15 times.\n",
      "Email sent 16 times.\n",
      "Email sent 17 times.\n",
      "Email sent 18 times.\n",
      "Email sent 19 times.\n",
      "Email sent 20 times.\n",
      "Email sent 21 times.\n",
      "Email sent 22 times.\n",
      "Email sent 23 times.\n",
      "Email sent 24 times.\n",
      "Email sent 25 times.\n",
      "Email sent 26 times.\n",
      "Email sent 27 times.\n",
      "Email sent 28 times.\n",
      "Email sent 29 times.\n",
      "Email sent 30 times.\n",
      "Email sent 31 times.\n",
      "Email sent 32 times.\n",
      "Email sent 33 times.\n",
      "Email sent 34 times.\n",
      "Email sent 35 times.\n",
      "Email sent 36 times.\n",
      "Email sent 37 times.\n",
      "Email sent 38 times.\n",
      "Email sent 39 times.\n",
      "Email sent 40 times.\n",
      "Email sent 41 times.\n",
      "Email sent 42 times.\n",
      "Email sent 43 times.\n",
      "Email sent 44 times.\n",
      "Email sent 45 times.\n",
      "Email sent 46 times.\n",
      "Email sent 47 times.\n",
      "Email sent 48 times.\n",
      "Email sent 49 times.\n"
     ]
    }
   ],
   "source": [
    "import time\n",
    "\n",
    "count = 0\n",
    "\n",
    "while True:\n",
    "\n",
    "    import win32com.client\n",
    "    ol = win32com.client.Dispatch('Outlook.Application')\n",
    "    # size of the new email\n",
    "    olmailitem = 0x0\n",
    "    newmail=ol.CreateItem(olmailitem)\n",
    "    newmail.Subject= 'Temperature and NIRSPEC data logging at Keck, July commissioning'\n",
    "    newmail.To= 'maodonggao@gmail.com; maodonggao@outlook.com'\n",
    "    # newmail.CC='maodonggao@outlook.com'\n",
    "    newmail.Body= 'Hello, \\n Attached are the temperature and NIRSPEC data logging at Keck, during July commissioning on July 17, 2023. \\n\\n Best, \\n Mao'\n",
    "\n",
    "    attach=r'C:\\Users\\HSFLFC\\Desktop\\Keck\\Logs\\DAQ_Temperature\\DAQ_Temperature_2023_0717_2.csv'\n",
    "    newmail.Attachments.Add(attach)\n",
    "\n",
    "    attach=r\"C:\\Users\\HSFLFC\\Desktop\\Keck\\Logs\\NIRSPEC_Overnight_2\\NIRSPEC_Test_2023_0717_1.csv\"\n",
    "    newmail.Attachments.Add(attach)\n",
    "    # To display the mail before sending it\n",
    "    # newmail.Display() \n",
    "    newmail.Send()\n",
    "\n",
    "    count += 1\n",
    "    print(f\"Email sent {count} times.\")\n",
    "    time.sleep(60*60*2.5) # 3 hours email once\n"
   ]
  },
  {
   "cell_type": "code",
   "execution_count": 20,
   "metadata": {},
   "outputs": [],
   "source": [
    "import os\n",
    "password = os.environ.get('hotMAIL_PASSWORD')"
   ]
  },
  {
   "cell_type": "code",
   "execution_count": null,
   "metadata": {},
   "outputs": [],
   "source": []
  }
 ],
 "metadata": {
  "kernelspec": {
   "display_name": "lfc",
   "language": "python",
   "name": "python3"
  },
  "language_info": {
   "codemirror_mode": {
    "name": "ipython",
    "version": 3
   },
   "file_extension": ".py",
   "mimetype": "text/x-python",
   "name": "python",
   "nbconvert_exporter": "python",
   "pygments_lexer": "ipython3",
   "version": "3.8.12"
  },
  "orig_nbformat": 4
 },
 "nbformat": 4,
 "nbformat_minor": 2
}
